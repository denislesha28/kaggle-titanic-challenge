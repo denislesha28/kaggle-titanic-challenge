{
 "cells": [
  {
   "cell_type": "markdown",
   "id": "6b729dd2-fe59-40c7-bc5c-79c1d7891872",
   "metadata": {},
   "source": [
    "# Titanic Survival Prediction\n",
    "Author: Georg Brandmayr\n",
    "\n",
    "This notebook implements the prediction of titanic survivors. A training dataset `train.csv` with 918 passengers including survival status is used to learn a prediction function. A test set `test.csv` contains 418 passengers and will be used to predict their survival.\n",
    "\n",
    "Your results must be reproducible - please **don't overlook the rules for `random_state`** in the body of this notebook to obtain full credit for your ."
   ]
  },
  {
   "cell_type": "code",
   "execution_count": 1,
   "id": "58f93b3b-0f6b-44a5-9bcb-140afe0c96c5",
   "metadata": {
    "ExecuteTime": {
     "end_time": "2024-02-21T17:28:30.536539800Z",
     "start_time": "2024-02-21T17:28:30.511832400Z"
    }
   },
   "outputs": [
    {
     "name": "stdout",
     "output_type": "stream",
     "text": [
      "pandas 2.0.3\n",
      "numpy 1.24.3\n"
     ]
    }
   ],
   "source": [
    "import pandas as pd\n",
    "print('pandas', pd.__version__)\n",
    "import numpy as np\n",
    "print('numpy', np.__version__)\n",
    "import seaborn as sns\n",
    "from pathlib import Path\n"
   ]
  },
  {
   "cell_type": "markdown",
   "id": "e8ad154d-f90d-4e7d-9f3b-924f27c95663",
   "metadata": {},
   "source": [
    "## Obtain and explore"
   ]
  },
  {
   "cell_type": "code",
   "execution_count": 2,
   "id": "7be45e07-a582-4521-9c4d-1e2bba2ea1e9",
   "metadata": {
    "ExecuteTime": {
     "end_time": "2024-02-21T17:28:39.975800500Z",
     "start_time": "2024-02-21T17:28:39.883868Z"
    }
   },
   "outputs": [
    {
     "data": {
      "text/plain": "             Survived  Pclass  \\\nPassengerId                     \n1                   0       3   \n2                   1       1   \n3                   1       3   \n\n                                                          Name   Age  SibSp  \\\nPassengerId                                                                   \n1                                      Braund, Mr. Owen Harris  22.0      1   \n2            Cumings, Mrs. John Bradley (Florence Briggs Th...  38.0      1   \n3                                       Heikkinen, Miss. Laina  26.0      0   \n\n             Parch            Ticket     Fare Cabin Embarked  \nPassengerId                                                   \n1                0         A/5 21171   7.2500   NaN        S  \n2                0          PC 17599  71.2833   C85        C  \n3                0  STON/O2. 3101282   7.9250   NaN        S  ",
      "text/html": "<div>\n<style scoped>\n    .dataframe tbody tr th:only-of-type {\n        vertical-align: middle;\n    }\n\n    .dataframe tbody tr th {\n        vertical-align: top;\n    }\n\n    .dataframe thead th {\n        text-align: right;\n    }\n</style>\n<table border=\"1\" class=\"dataframe\">\n  <thead>\n    <tr style=\"text-align: right;\">\n      <th></th>\n      <th>Survived</th>\n      <th>Pclass</th>\n      <th>Name</th>\n      <th>Age</th>\n      <th>SibSp</th>\n      <th>Parch</th>\n      <th>Ticket</th>\n      <th>Fare</th>\n      <th>Cabin</th>\n      <th>Embarked</th>\n    </tr>\n    <tr>\n      <th>PassengerId</th>\n      <th></th>\n      <th></th>\n      <th></th>\n      <th></th>\n      <th></th>\n      <th></th>\n      <th></th>\n      <th></th>\n      <th></th>\n      <th></th>\n    </tr>\n  </thead>\n  <tbody>\n    <tr>\n      <th>1</th>\n      <td>0</td>\n      <td>3</td>\n      <td>Braund, Mr. Owen Harris</td>\n      <td>22.0</td>\n      <td>1</td>\n      <td>0</td>\n      <td>A/5 21171</td>\n      <td>7.2500</td>\n      <td>NaN</td>\n      <td>S</td>\n    </tr>\n    <tr>\n      <th>2</th>\n      <td>1</td>\n      <td>1</td>\n      <td>Cumings, Mrs. John Bradley (Florence Briggs Th...</td>\n      <td>38.0</td>\n      <td>1</td>\n      <td>0</td>\n      <td>PC 17599</td>\n      <td>71.2833</td>\n      <td>C85</td>\n      <td>C</td>\n    </tr>\n    <tr>\n      <th>3</th>\n      <td>1</td>\n      <td>3</td>\n      <td>Heikkinen, Miss. Laina</td>\n      <td>26.0</td>\n      <td>0</td>\n      <td>0</td>\n      <td>STON/O2. 3101282</td>\n      <td>7.9250</td>\n      <td>NaN</td>\n      <td>S</td>\n    </tr>\n  </tbody>\n</table>\n</div>"
     },
     "execution_count": 2,
     "metadata": {},
     "output_type": "execute_result"
    }
   ],
   "source": [
    "data_path = Path.cwd()\n",
    "\n",
    "df = pd.read_csv(data_path/'train.csv', index_col=0)\n",
    "df[:3]"
   ]
  },
  {
   "cell_type": "code",
   "execution_count": 3,
   "id": "0b616566-9711-4319-94bd-df4d5ea8f9cb",
   "metadata": {
    "ExecuteTime": {
     "end_time": "2024-02-21T17:28:50.966104100Z",
     "start_time": "2024-02-21T17:28:50.752721Z"
    }
   },
   "outputs": [
    {
     "data": {
      "text/plain": "<Figure size 640x480 with 1 Axes>",
      "image/png": "[encoded data removed]"
     },
     "metadata": {},
     "output_type": "display_data"
    }
   ],
   "source": [
    "df.Survived.value_counts().plot.pie(autopct='%.1f%%', \n",
    "                                    wedgeprops={'linewidth': 3.0, 'edgecolor': 'white'}, \n",
    "                                    textprops=dict(size='x-large', color='white', fontweight='bold')).set_title('Survived');"
   ]
  },
  {
   "cell_type": "code",
   "execution_count": 4,
   "id": "152ec791-18d4-4a81-a241-bdb08d9dc767",
   "metadata": {
    "ExecuteTime": {
     "end_time": "2024-02-21T17:28:56.395844100Z",
     "start_time": "2024-02-21T17:28:56.365560400Z"
    }
   },
   "outputs": [
    {
     "data": {
      "text/plain": "        Survivor_ratio  Passengers\nPclass                            \n1             0.629630         216\n2             0.472826         184\n3             0.242363         491",
      "text/html": "<div>\n<style scoped>\n    .dataframe tbody tr th:only-of-type {\n        vertical-align: middle;\n    }\n\n    .dataframe tbody tr th {\n        vertical-align: top;\n    }\n\n    .dataframe thead th {\n        text-align: right;\n    }\n</style>\n<table border=\"1\" class=\"dataframe\">\n  <thead>\n    <tr style=\"text-align: right;\">\n      <th></th>\n      <th>Survivor_ratio</th>\n      <th>Passengers</th>\n    </tr>\n    <tr>\n      <th>Pclass</th>\n      <th></th>\n      <th></th>\n    </tr>\n  </thead>\n  <tbody>\n    <tr>\n      <th>1</th>\n      <td>0.629630</td>\n      <td>216</td>\n    </tr>\n    <tr>\n      <th>2</th>\n      <td>0.472826</td>\n      <td>184</td>\n    </tr>\n    <tr>\n      <th>3</th>\n      <td>0.242363</td>\n      <td>491</td>\n    </tr>\n  </tbody>\n</table>\n</div>"
     },
     "execution_count": 4,
     "metadata": {},
     "output_type": "execute_result"
    }
   ],
   "source": [
    "df.groupby(['Pclass']).Survived.agg(Survivor_ratio='mean', Passengers='size')"
   ]
  },
  {
   "cell_type": "code",
   "execution_count": null,
   "id": "8b7d2004-70e2-4421-a53a-bab1b1a56e60",
   "metadata": {},
   "outputs": [],
   "source": [
    "#df.set_index('Survived', append=True)['Age'].unstack().boxplot()\n",
    "sns.boxplot(df, x='Survived', y='Age');"
   ]
  },
  {
   "cell_type": "markdown",
   "id": "9d8142b4-a60e-4151-8a9b-02712e7b99d2",
   "metadata": {},
   "source": [
    "## Model on prior probability\n"
   ]
  },
  {
   "cell_type": "code",
   "execution_count": 5,
   "id": "59eafffc-47cb-4783-8022-254a8d283fe9",
   "metadata": {
    "ExecuteTime": {
     "end_time": "2024-02-21T17:29:53.283062400Z",
     "start_time": "2024-02-21T17:29:52.624945Z"
    }
   },
   "outputs": [
    {
     "name": "stdout",
     "output_type": "stream",
     "text": [
      "sklearn 1.3.0\n"
     ]
    }
   ],
   "source": [
    "import sklearn\n",
    "print('sklearn', sklearn.__version__)\n",
    "from sklearn.base import BaseEstimator, ClassifierMixin\n",
    "from sklearn.ensemble import RandomForestClassifier\n",
    "from sklearn.tree import DecisionTreeClassifier\n",
    "from sklearn.metrics import accuracy_score\n",
    "from sklearn.model_selection import train_test_split, cross_val_score, StratifiedKFold\n"
   ]
  },
  {
   "cell_type": "code",
   "execution_count": 6,
   "id": "3b5d2f95-b18e-4990-b8e2-fce4c03f7f55",
   "metadata": {
    "ExecuteTime": {
     "end_time": "2024-02-21T17:29:58.226123200Z",
     "start_time": "2024-02-21T17:29:58.206831700Z"
    }
   },
   "outputs": [
    {
     "data": {
      "text/plain": "Pessimist()",
      "text/html": "<style>#sk-container-id-1 {color: black;}#sk-container-id-1 pre{padding: 0;}#sk-container-id-1 div.sk-toggleable {background-color: white;}#sk-container-id-1 label.sk-toggleable__label {cursor: pointer;display: block;width: 100%;margin-bottom: 0;padding: 0.3em;box-sizing: border-box;text-align: center;}#sk-container-id-1 label.sk-toggleable__label-arrow:before {content: \"▸\";float: left;margin-right: 0.25em;color: #696969;}#sk-container-id-1 label.sk-toggleable__label-arrow:hover:before {color: black;}#sk-container-id-1 div.sk-estimator:hover label.sk-toggleable__label-arrow:before {color: black;}#sk-container-id-1 div.sk-toggleable__content {max-height: 0;max-width: 0;overflow: hidden;text-align: left;background-color: #f0f8ff;}#sk-container-id-1 div.sk-toggleable__content pre {margin: 0.2em;color: black;border-radius: 0.25em;background-color: #f0f8ff;}#sk-container-id-1 input.sk-toggleable__control:checked~div.sk-toggleable__content {max-height: 200px;max-width: 100%;overflow: auto;}#sk-container-id-1 input.sk-toggleable__control:checked~label.sk-toggleable__label-arrow:before {content: \"▾\";}#sk-container-id-1 div.sk-estimator input.sk-toggleable__control:checked~label.sk-toggleable__label {background-color: #d4ebff;}#sk-container-id-1 div.sk-label input.sk-toggleable__control:checked~label.sk-toggleable__label {background-color: #d4ebff;}#sk-container-id-1 input.sk-hidden--visually {border: 0;clip: rect(1px 1px 1px 1px);clip: rect(1px, 1px, 1px, 1px);height: 1px;margin: -1px;overflow: hidden;padding: 0;position: absolute;width: 1px;}#sk-container-id-1 div.sk-estimator {font-family: monospace;background-color: #f0f8ff;border: 1px dotted black;border-radius: 0.25em;box-sizing: border-box;margin-bottom: 0.5em;}#sk-container-id-1 div.sk-estimator:hover {background-color: #d4ebff;}#sk-container-id-1 div.sk-parallel-item::after {content: \"\";width: 100%;border-bottom: 1px solid gray;flex-grow: 1;}#sk-container-id-1 div.sk-label:hover label.sk-toggleable__label {background-color: #d4ebff;}#sk-container-id-1 div.sk-serial::before {content: \"\";position: absolute;border-left: 1px solid gray;box-sizing: border-box;top: 0;bottom: 0;left: 50%;z-index: 0;}#sk-container-id-1 div.sk-serial {display: flex;flex-direction: column;align-items: center;background-color: white;padding-right: 0.2em;padding-left: 0.2em;position: relative;}#sk-container-id-1 div.sk-item {position: relative;z-index: 1;}#sk-container-id-1 div.sk-parallel {display: flex;align-items: stretch;justify-content: center;background-color: white;position: relative;}#sk-container-id-1 div.sk-item::before, #sk-container-id-1 div.sk-parallel-item::before {content: \"\";position: absolute;border-left: 1px solid gray;box-sizing: border-box;top: 0;bottom: 0;left: 50%;z-index: -1;}#sk-container-id-1 div.sk-parallel-item {display: flex;flex-direction: column;z-index: 1;position: relative;background-color: white;}#sk-container-id-1 div.sk-parallel-item:first-child::after {align-self: flex-end;width: 50%;}#sk-container-id-1 div.sk-parallel-item:last-child::after {align-self: flex-start;width: 50%;}#sk-container-id-1 div.sk-parallel-item:only-child::after {width: 0;}#sk-container-id-1 div.sk-dashed-wrapped {border: 1px dashed gray;margin: 0 0.4em 0.5em 0.4em;box-sizing: border-box;padding-bottom: 0.4em;background-color: white;}#sk-container-id-1 div.sk-label label {font-family: monospace;font-weight: bold;display: inline-block;line-height: 1.2em;}#sk-container-id-1 div.sk-label-container {text-align: center;}#sk-container-id-1 div.sk-container {/* jupyter's `normalize.less` sets `[hidden] { display: none; }` but bootstrap.min.css set `[hidden] { display: none !important; }` so we also need the `!important` here to be able to override the default hidden behavior on the sphinx rendered scikit-learn.org. See: https://github.com/scikit-learn/scikit-learn/issues/21755 */display: inline-block !important;position: relative;}#sk-container-id-1 div.sk-text-repr-fallback {display: none;}</style><div id=\"sk-container-id-1\" class=\"sk-top-container\"><div class=\"sk-text-repr-fallback\"><pre>Pessimist()</pre><b>In a Jupyter environment, please rerun this cell to show the HTML representation or trust the notebook. <br />On GitHub, the HTML representation is unable to render, please try loading this page with nbviewer.org.</b></div><div class=\"sk-container\" hidden><div class=\"sk-item\"><div class=\"sk-estimator sk-toggleable\"><input class=\"sk-toggleable__control sk-hidden--visually\" id=\"sk-estimator-id-1\" type=\"checkbox\" checked><label for=\"sk-estimator-id-1\" class=\"sk-toggleable__label sk-toggleable__label-arrow\">Pessimist</label><div class=\"sk-toggleable__content\"><pre>Pessimist()</pre></div></div></div></div></div>"
     },
     "execution_count": 6,
     "metadata": {},
     "output_type": "execute_result"
    }
   ],
   "source": [
    "# a pessimist can never be disappointed\n",
    "class Pessimist(BaseEstimator, ClassifierMixin):\n",
    "    def __init__(self):\n",
    "        self.fit(None, None)\n",
    "    def fit(self, X, y):\n",
    "        return self\n",
    "    def predict(self, X):\n",
    "        return np.zeros(len(X,), dtype='int8')\n",
    "    \n",
    "model = Pessimist()\n",
    "model"
   ]
  },
  {
   "cell_type": "code",
   "execution_count": 8,
   "id": "e303af03-c392-45a0-a21a-ae050f749089",
   "metadata": {
    "ExecuteTime": {
     "end_time": "2024-02-21T17:31:44.171606800Z",
     "start_time": "2024-02-21T17:31:44.159240100Z"
    }
   },
   "outputs": [
    {
     "data": {
      "text/plain": "0.6161616161616161"
     },
     "execution_count": 8,
     "metadata": {},
     "output_type": "execute_result"
    }
   ],
   "source": [
    "y_train = df['Survived']\n",
    "X_train = df[df.columns[1:]]\n",
    "\n",
    "yh = model.predict(X_train)\n",
    "\n",
    "score = accuracy_score(y_train, yh)\n",
    "score"
   ]
  },
  {
   "cell_type": "markdown",
   "id": "a1de31ab-05cf-4d0d-93ab-96c499167afd",
   "metadata": {},
   "source": [
    "## Test model\n",
    "The test targets are not available. To obtain the test score the predictions on the `test data` must be submitted."
   ]
  },
  {
   "cell_type": "code",
   "execution_count": 9,
   "id": "c91a1a1a-9e8f-401b-9694-d0242daa0128",
   "metadata": {
    "ExecuteTime": {
     "end_time": "2024-02-21T17:31:46.292377700Z",
     "start_time": "2024-02-21T17:31:46.269035400Z"
    }
   },
   "outputs": [
    {
     "data": {
      "text/plain": "             Pclass                                          Name   Age  \\\nPassengerId                                                               \n892               3                              Kelly, Mr. James  34.5   \n893               3              Wilkes, Mrs. James (Ellen Needs)  47.0   \n894               2                     Myles, Mr. Thomas Francis  62.0   \n895               3                              Wirz, Mr. Albert  27.0   \n896               3  Hirvonen, Mrs. Alexander (Helga E Lindqvist)  22.0   \n...             ...                                           ...   ...   \n1305              3                            Spector, Mr. Woolf   NaN   \n1306              1                  Oliva y Ocana, Dona. Fermina  39.0   \n1307              3                  Saether, Mr. Simon Sivertsen  38.5   \n1308              3                           Ware, Mr. Frederick   NaN   \n1309              3                      Peter, Master. Michael J   NaN   \n\n             SibSp  Parch              Ticket      Fare Cabin Embarked  \nPassengerId                                                             \n892              0      0              330911    7.8292   NaN        Q  \n893              1      0              363272    7.0000   NaN        S  \n894              0      0              240276    9.6875   NaN        Q  \n895              0      0              315154    8.6625   NaN        S  \n896              1      1             3101298   12.2875   NaN        S  \n...            ...    ...                 ...       ...   ...      ...  \n1305             0      0           A.5. 3236    8.0500   NaN        S  \n1306             0      0            PC 17758  108.9000  C105        C  \n1307             0      0  SOTON/O.Q. 3101262    7.2500   NaN        S  \n1308             0      0              359309    8.0500   NaN        S  \n1309             1      1                2668   22.3583   NaN        C  \n\n[418 rows x 9 columns]",
      "text/html": "<div>\n<style scoped>\n    .dataframe tbody tr th:only-of-type {\n        vertical-align: middle;\n    }\n\n    .dataframe tbody tr th {\n        vertical-align: top;\n    }\n\n    .dataframe thead th {\n        text-align: right;\n    }\n</style>\n<table border=\"1\" class=\"dataframe\">\n  <thead>\n    <tr style=\"text-align: right;\">\n      <th></th>\n      <th>Pclass</th>\n      <th>Name</th>\n      <th>Age</th>\n      <th>SibSp</th>\n      <th>Parch</th>\n      <th>Ticket</th>\n      <th>Fare</th>\n      <th>Cabin</th>\n      <th>Embarked</th>\n    </tr>\n    <tr>\n      <th>PassengerId</th>\n      <th></th>\n      <th></th>\n      <th></th>\n      <th></th>\n      <th></th>\n      <th></th>\n      <th></th>\n      <th></th>\n      <th></th>\n    </tr>\n  </thead>\n  <tbody>\n    <tr>\n      <th>892</th>\n      <td>3</td>\n      <td>Kelly, Mr. James</td>\n      <td>34.5</td>\n      <td>0</td>\n      <td>0</td>\n      <td>330911</td>\n      <td>7.8292</td>\n      <td>NaN</td>\n      <td>Q</td>\n    </tr>\n    <tr>\n      <th>893</th>\n      <td>3</td>\n      <td>Wilkes, Mrs. James (Ellen Needs)</td>\n      <td>47.0</td>\n      <td>1</td>\n      <td>0</td>\n      <td>363272</td>\n      <td>7.0000</td>\n      <td>NaN</td>\n      <td>S</td>\n    </tr>\n    <tr>\n      <th>894</th>\n      <td>2</td>\n      <td>Myles, Mr. Thomas Francis</td>\n      <td>62.0</td>\n      <td>0</td>\n      <td>0</td>\n      <td>240276</td>\n      <td>9.6875</td>\n      <td>NaN</td>\n      <td>Q</td>\n    </tr>\n    <tr>\n      <th>895</th>\n      <td>3</td>\n      <td>Wirz, Mr. Albert</td>\n      <td>27.0</td>\n      <td>0</td>\n      <td>0</td>\n      <td>315154</td>\n      <td>8.6625</td>\n      <td>NaN</td>\n      <td>S</td>\n    </tr>\n    <tr>\n      <th>896</th>\n      <td>3</td>\n      <td>Hirvonen, Mrs. Alexander (Helga E Lindqvist)</td>\n      <td>22.0</td>\n      <td>1</td>\n      <td>1</td>\n      <td>3101298</td>\n      <td>12.2875</td>\n      <td>NaN</td>\n      <td>S</td>\n    </tr>\n    <tr>\n      <th>...</th>\n      <td>...</td>\n      <td>...</td>\n      <td>...</td>\n      <td>...</td>\n      <td>...</td>\n      <td>...</td>\n      <td>...</td>\n      <td>...</td>\n      <td>...</td>\n    </tr>\n    <tr>\n      <th>1305</th>\n      <td>3</td>\n      <td>Spector, Mr. Woolf</td>\n      <td>NaN</td>\n      <td>0</td>\n      <td>0</td>\n      <td>A.5. 3236</td>\n      <td>8.0500</td>\n      <td>NaN</td>\n      <td>S</td>\n    </tr>\n    <tr>\n      <th>1306</th>\n      <td>1</td>\n      <td>Oliva y Ocana, Dona. Fermina</td>\n      <td>39.0</td>\n      <td>0</td>\n      <td>0</td>\n      <td>PC 17758</td>\n      <td>108.9000</td>\n      <td>C105</td>\n      <td>C</td>\n    </tr>\n    <tr>\n      <th>1307</th>\n      <td>3</td>\n      <td>Saether, Mr. Simon Sivertsen</td>\n      <td>38.5</td>\n      <td>0</td>\n      <td>0</td>\n      <td>SOTON/O.Q. 3101262</td>\n      <td>7.2500</td>\n      <td>NaN</td>\n      <td>S</td>\n    </tr>\n    <tr>\n      <th>1308</th>\n      <td>3</td>\n      <td>Ware, Mr. Frederick</td>\n      <td>NaN</td>\n      <td>0</td>\n      <td>0</td>\n      <td>359309</td>\n      <td>8.0500</td>\n      <td>NaN</td>\n      <td>S</td>\n    </tr>\n    <tr>\n      <th>1309</th>\n      <td>3</td>\n      <td>Peter, Master. Michael J</td>\n      <td>NaN</td>\n      <td>1</td>\n      <td>1</td>\n      <td>2668</td>\n      <td>22.3583</td>\n      <td>NaN</td>\n      <td>C</td>\n    </tr>\n  </tbody>\n</table>\n<p>418 rows × 9 columns</p>\n</div>"
     },
     "execution_count": 9,
     "metadata": {},
     "output_type": "execute_result"
    }
   ],
   "source": [
    "# load the test data\n",
    "X_test = pd.read_csv(data_path/'test.csv', index_col=0)\n",
    "X_test"
   ]
  },
  {
   "cell_type": "code",
   "execution_count": 13,
   "id": "4f293e55-28ed-444e-885f-f9da2b5fb28f",
   "metadata": {
    "ExecuteTime": {
     "end_time": "2024-02-21T17:32:38.372958400Z",
     "start_time": "2024-02-21T17:32:38.345550Z"
    }
   },
   "outputs": [],
   "source": [
    "yh = model.predict(X_test)\n",
    "yh = pd.Series(yh, X_test.index, name='Survived')"
   ]
  },
  {
   "cell_type": "markdown",
   "id": "e2ba9c44-1b93-4fef-92e6-1eabb258cbec",
   "metadata": {},
   "source": [
    "Save the result as CSV for submission."
   ]
  },
  {
   "cell_type": "code",
   "execution_count": 14,
   "id": "210bdcc1-1f48-48f8-81f9-f68767a35789",
   "metadata": {
    "ExecuteTime": {
     "end_time": "2024-02-21T17:32:39.992609Z",
     "start_time": "2024-02-21T17:32:39.966195Z"
    }
   },
   "outputs": [],
   "source": [
    "yh.to_csv(data_path/'submission_test.csv')"
   ]
  },
  {
   "cell_type": "markdown",
   "id": "13272bd8-be72-42cc-a583-b8d0281539f7",
   "metadata": {},
   "source": [
    "After submitting `test_submission.csv` online the test score was published under our ID. It is 0.622."
   ]
  },
  {
   "cell_type": "code",
   "execution_count": 15,
   "id": "9adc3705-7fff-4fea-8a84-bd4070f8f9c5",
   "metadata": {
    "ExecuteTime": {
     "end_time": "2024-02-21T17:34:50.260710300Z",
     "start_time": "2024-02-21T17:34:50.244659100Z"
    }
   },
   "outputs": [
    {
     "data": {
      "text/plain": "              train   test\nPessimist  0.616162  0.622",
      "text/html": "<div>\n<style scoped>\n    .dataframe tbody tr th:only-of-type {\n        vertical-align: middle;\n    }\n\n    .dataframe tbody tr th {\n        vertical-align: top;\n    }\n\n    .dataframe thead th {\n        text-align: right;\n    }\n</style>\n<table border=\"1\" class=\"dataframe\">\n  <thead>\n    <tr style=\"text-align: right;\">\n      <th></th>\n      <th>train</th>\n      <th>test</th>\n    </tr>\n  </thead>\n  <tbody>\n    <tr>\n      <th>Pessimist</th>\n      <td>0.616162</td>\n      <td>0.622</td>\n    </tr>\n  </tbody>\n</table>\n</div>"
     },
     "execution_count": 15,
     "metadata": {},
     "output_type": "execute_result"
    }
   ],
   "source": [
    "scores = pd.DataFrame(dict(train=score, \n",
    "                          test=0.622), \n",
    "                     index=['Pessimist'])\n",
    "scores"
   ]
  },
  {
   "cell_type": "markdown",
   "id": "d7a5201e-621a-4709-8fc9-cab1b4d2e124",
   "metadata": {},
   "source": [
    "Nice, the test score fits well to the training result. "
   ]
  },
  {
   "cell_type": "markdown",
   "id": "f2a9479e-05ed-4eb9-9c79-3fdd8fc01727",
   "metadata": {},
   "source": [
    "## Model on data\n",
    "Result must be reproducible, i.e., multiple runs must result in the same result."
   ]
  },
  {
   "cell_type": "markdown",
   "id": "e8812d3f-0f6c-490a-9175-6b8aed6507d4",
   "metadata": {},
   "source": [
    "All `random_state` parameters (for models, data splitting, etc.) must be fixed - for reproducibility - based on your **random ID in `RandomID.csv`**. "
   ]
  },
  {
   "cell_type": "code",
   "execution_count": 16,
   "id": "39eb3e92-5332-421f-9612-b8bb0aeb856b",
   "metadata": {
    "ExecuteTime": {
     "end_time": "2024-02-21T17:37:18.527987400Z",
     "start_time": "2024-02-21T17:37:18.509952200Z"
    }
   },
   "outputs": [],
   "source": [
    "random_id = 17 #ai23m017 - 17 is the id\n",
    "# a RandomState object or the id may be used, choose a variant\n",
    "random_state = np.random.RandomState(random_id)\n",
    "random_state = random_id\n",
    "#random_state = None"
   ]
  },
  {
   "cell_type": "markdown",
   "id": "51ac4d32-d6fb-4027-a54d-414274d7878a",
   "metadata": {},
   "source": [
    "Let's create another model, based on the data."
   ]
  },
  {
   "cell_type": "code",
   "execution_count": 17,
   "id": "84850c39-5262-4747-9f6c-56af3a55d8a9",
   "metadata": {
    "ExecuteTime": {
     "end_time": "2024-02-21T17:37:19.427675Z",
     "start_time": "2024-02-21T17:37:19.415975300Z"
    }
   },
   "outputs": [],
   "source": [
    "features = ['Pclass']#, 'Age']"
   ]
  },
  {
   "cell_type": "code",
   "execution_count": 18,
   "id": "12e7f9af-fa92-421e-b624-577cfca49c45",
   "metadata": {
    "ExecuteTime": {
     "end_time": "2024-02-21T17:37:19.878224500Z",
     "start_time": "2024-02-21T17:37:19.865921900Z"
    }
   },
   "outputs": [
    {
     "data": {
      "text/plain": "             Pclass\nPassengerId        \n1                 3\n2                 1\n3                 3\n4                 1\n5                 3\n...             ...\n887               2\n888               1\n889               3\n890               1\n891               3\n\n[891 rows x 1 columns]",
      "text/html": "<div>\n<style scoped>\n    .dataframe tbody tr th:only-of-type {\n        vertical-align: middle;\n    }\n\n    .dataframe tbody tr th {\n        vertical-align: top;\n    }\n\n    .dataframe thead th {\n        text-align: right;\n    }\n</style>\n<table border=\"1\" class=\"dataframe\">\n  <thead>\n    <tr style=\"text-align: right;\">\n      <th></th>\n      <th>Pclass</th>\n    </tr>\n    <tr>\n      <th>PassengerId</th>\n      <th></th>\n    </tr>\n  </thead>\n  <tbody>\n    <tr>\n      <th>1</th>\n      <td>3</td>\n    </tr>\n    <tr>\n      <th>2</th>\n      <td>1</td>\n    </tr>\n    <tr>\n      <th>3</th>\n      <td>3</td>\n    </tr>\n    <tr>\n      <th>4</th>\n      <td>1</td>\n    </tr>\n    <tr>\n      <th>5</th>\n      <td>3</td>\n    </tr>\n    <tr>\n      <th>...</th>\n      <td>...</td>\n    </tr>\n    <tr>\n      <th>887</th>\n      <td>2</td>\n    </tr>\n    <tr>\n      <th>888</th>\n      <td>1</td>\n    </tr>\n    <tr>\n      <th>889</th>\n      <td>3</td>\n    </tr>\n    <tr>\n      <th>890</th>\n      <td>1</td>\n    </tr>\n    <tr>\n      <th>891</th>\n      <td>3</td>\n    </tr>\n  </tbody>\n</table>\n<p>891 rows × 1 columns</p>\n</div>"
     },
     "execution_count": 18,
     "metadata": {},
     "output_type": "execute_result"
    }
   ],
   "source": [
    "y_train = df['Survived']\n",
    "X_train = df[features]\n",
    "X_train"
   ]
  },
  {
   "cell_type": "code",
   "execution_count": 19,
   "id": "87b5bba5-ec50-49af-a05b-6fa204fdb521",
   "metadata": {
    "ExecuteTime": {
     "end_time": "2024-02-21T17:37:57.705921500Z",
     "start_time": "2024-02-21T17:37:57.687357900Z"
    }
   },
   "outputs": [
    {
     "data": {
      "text/plain": "DecisionTreeClassifier(random_state=17)",
      "text/html": "<style>#sk-container-id-2 {color: black;}#sk-container-id-2 pre{padding: 0;}#sk-container-id-2 div.sk-toggleable {background-color: white;}#sk-container-id-2 label.sk-toggleable__label {cursor: pointer;display: block;width: 100%;margin-bottom: 0;padding: 0.3em;box-sizing: border-box;text-align: center;}#sk-container-id-2 label.sk-toggleable__label-arrow:before {content: \"▸\";float: left;margin-right: 0.25em;color: #696969;}#sk-container-id-2 label.sk-toggleable__label-arrow:hover:before {color: black;}#sk-container-id-2 div.sk-estimator:hover label.sk-toggleable__label-arrow:before {color: black;}#sk-container-id-2 div.sk-toggleable__content {max-height: 0;max-width: 0;overflow: hidden;text-align: left;background-color: #f0f8ff;}#sk-container-id-2 div.sk-toggleable__content pre {margin: 0.2em;color: black;border-radius: 0.25em;background-color: #f0f8ff;}#sk-container-id-2 input.sk-toggleable__control:checked~div.sk-toggleable__content {max-height: 200px;max-width: 100%;overflow: auto;}#sk-container-id-2 input.sk-toggleable__control:checked~label.sk-toggleable__label-arrow:before {content: \"▾\";}#sk-container-id-2 div.sk-estimator input.sk-toggleable__control:checked~label.sk-toggleable__label {background-color: #d4ebff;}#sk-container-id-2 div.sk-label input.sk-toggleable__control:checked~label.sk-toggleable__label {background-color: #d4ebff;}#sk-container-id-2 input.sk-hidden--visually {border: 0;clip: rect(1px 1px 1px 1px);clip: rect(1px, 1px, 1px, 1px);height: 1px;margin: -1px;overflow: hidden;padding: 0;position: absolute;width: 1px;}#sk-container-id-2 div.sk-estimator {font-family: monospace;background-color: #f0f8ff;border: 1px dotted black;border-radius: 0.25em;box-sizing: border-box;margin-bottom: 0.5em;}#sk-container-id-2 div.sk-estimator:hover {background-color: #d4ebff;}#sk-container-id-2 div.sk-parallel-item::after {content: \"\";width: 100%;border-bottom: 1px solid gray;flex-grow: 1;}#sk-container-id-2 div.sk-label:hover label.sk-toggleable__label {background-color: #d4ebff;}#sk-container-id-2 div.sk-serial::before {content: \"\";position: absolute;border-left: 1px solid gray;box-sizing: border-box;top: 0;bottom: 0;left: 50%;z-index: 0;}#sk-container-id-2 div.sk-serial {display: flex;flex-direction: column;align-items: center;background-color: white;padding-right: 0.2em;padding-left: 0.2em;position: relative;}#sk-container-id-2 div.sk-item {position: relative;z-index: 1;}#sk-container-id-2 div.sk-parallel {display: flex;align-items: stretch;justify-content: center;background-color: white;position: relative;}#sk-container-id-2 div.sk-item::before, #sk-container-id-2 div.sk-parallel-item::before {content: \"\";position: absolute;border-left: 1px solid gray;box-sizing: border-box;top: 0;bottom: 0;left: 50%;z-index: -1;}#sk-container-id-2 div.sk-parallel-item {display: flex;flex-direction: column;z-index: 1;position: relative;background-color: white;}#sk-container-id-2 div.sk-parallel-item:first-child::after {align-self: flex-end;width: 50%;}#sk-container-id-2 div.sk-parallel-item:last-child::after {align-self: flex-start;width: 50%;}#sk-container-id-2 div.sk-parallel-item:only-child::after {width: 0;}#sk-container-id-2 div.sk-dashed-wrapped {border: 1px dashed gray;margin: 0 0.4em 0.5em 0.4em;box-sizing: border-box;padding-bottom: 0.4em;background-color: white;}#sk-container-id-2 div.sk-label label {font-family: monospace;font-weight: bold;display: inline-block;line-height: 1.2em;}#sk-container-id-2 div.sk-label-container {text-align: center;}#sk-container-id-2 div.sk-container {/* jupyter's `normalize.less` sets `[hidden] { display: none; }` but bootstrap.min.css set `[hidden] { display: none !important; }` so we also need the `!important` here to be able to override the default hidden behavior on the sphinx rendered scikit-learn.org. See: https://github.com/scikit-learn/scikit-learn/issues/21755 */display: inline-block !important;position: relative;}#sk-container-id-2 div.sk-text-repr-fallback {display: none;}</style><div id=\"sk-container-id-2\" class=\"sk-top-container\"><div class=\"sk-text-repr-fallback\"><pre>DecisionTreeClassifier(random_state=17)</pre><b>In a Jupyter environment, please rerun this cell to show the HTML representation or trust the notebook. <br />On GitHub, the HTML representation is unable to render, please try loading this page with nbviewer.org.</b></div><div class=\"sk-container\" hidden><div class=\"sk-item\"><div class=\"sk-estimator sk-toggleable\"><input class=\"sk-toggleable__control sk-hidden--visually\" id=\"sk-estimator-id-2\" type=\"checkbox\" checked><label for=\"sk-estimator-id-2\" class=\"sk-toggleable__label sk-toggleable__label-arrow\">DecisionTreeClassifier</label><div class=\"sk-toggleable__content\"><pre>DecisionTreeClassifier(random_state=17)</pre></div></div></div></div></div>"
     },
     "execution_count": 19,
     "metadata": {},
     "output_type": "execute_result"
    }
   ],
   "source": [
    "model = DecisionTreeClassifier(random_state=random_state)\n",
    "model"
   ]
  },
  {
   "cell_type": "markdown",
   "id": "64a3b871-ead0-4f77-a0ab-bfa51e520fc2",
   "metadata": {},
   "source": [
    "Let's train the model. We evaluate it on the train set to assess overfitting."
   ]
  },
  {
   "cell_type": "code",
   "execution_count": 20,
   "id": "0bfd4668-0f58-48b3-ac16-44463572678a",
   "metadata": {
    "ExecuteTime": {
     "end_time": "2024-02-21T17:37:59.040362700Z",
     "start_time": "2024-02-21T17:37:59.023258800Z"
    }
   },
   "outputs": [
    {
     "data": {
      "text/plain": "0.6790123456790124"
     },
     "execution_count": 20,
     "metadata": {},
     "output_type": "execute_result"
    }
   ],
   "source": [
    "model.fit(X_train, y_train)\n",
    "score = accuracy_score(y_train, model.predict(X_train))\n",
    "scores.loc['DT', 'train'] = score\n",
    "score"
   ]
  },
  {
   "cell_type": "markdown",
   "id": "ef5b8ea5-6c99-4f29-9d20-2b981e585ea5",
   "metadata": {},
   "source": [
    "Cross validation can be used as a proxy for test performance"
   ]
  },
  {
   "cell_type": "code",
   "execution_count": 21,
   "id": "a0c0d6a5-1253-4b6a-9dcf-637a238a7d50",
   "metadata": {
    "ExecuteTime": {
     "end_time": "2024-02-21T17:42:50.258632500Z",
     "start_time": "2024-02-21T17:42:50.222767Z"
    }
   },
   "outputs": [
    {
     "name": "stdout",
     "output_type": "stream",
     "text": [
      "CV score = 0.667±0.055, 95% CI [0.626, 0.707], folds: [0.5859375  0.59375    0.67716535 0.65354331 0.7007874  0.73228346\n",
      " 0.72440945]\n"
     ]
    },
    {
     "data": {
      "text/plain": "              train   test        cv\nPessimist  0.616162  0.622       NaN\nDT         0.679012    NaN  0.666839",
      "text/html": "<div>\n<style scoped>\n    .dataframe tbody tr th:only-of-type {\n        vertical-align: middle;\n    }\n\n    .dataframe tbody tr th {\n        vertical-align: top;\n    }\n\n    .dataframe thead th {\n        text-align: right;\n    }\n</style>\n<table border=\"1\" class=\"dataframe\">\n  <thead>\n    <tr style=\"text-align: right;\">\n      <th></th>\n      <th>train</th>\n      <th>test</th>\n      <th>cv</th>\n    </tr>\n  </thead>\n  <tbody>\n    <tr>\n      <th>Pessimist</th>\n      <td>0.616162</td>\n      <td>0.622</td>\n      <td>NaN</td>\n    </tr>\n    <tr>\n      <th>DT</th>\n      <td>0.679012</td>\n      <td>NaN</td>\n      <td>0.666839</td>\n    </tr>\n  </tbody>\n</table>\n</div>"
     },
     "execution_count": 21,
     "metadata": {},
     "output_type": "execute_result"
    }
   ],
   "source": [
    "cv = 7\n",
    "s = cross_val_score(model, X_train, y_train, cv=cv)\n",
    "m = s.mean()\n",
    "sd = s.std()\n",
    "scores.loc['DT', 'cv'] = m\n",
    "# assume a Gaussian dist.\n",
    "l = m - 1.96*sd/(len(s)**.5)\n",
    "u = m + 1.96*sd/(len(s)**.5)\n",
    "print(f'CV score = {m:.3f}±{sd:.3f}, 95% CI [{l:.3f}, {u:.3f}], folds:', s,)\n",
    "#model.fit(X_train, y_train)\n",
    "scores\n"
   ]
  },
  {
   "cell_type": "markdown",
   "id": "8c2616ab-ac5e-4adb-ab1e-497d52ba8a9e",
   "metadata": {},
   "source": [
    "For comparison:"
   ]
  },
  {
   "cell_type": "code",
   "execution_count": 22,
   "id": "a04eb265-c6b3-4cc8-84c0-4d9be2a9d356",
   "metadata": {
    "ExecuteTime": {
     "end_time": "2024-02-21T17:42:53.327726900Z",
     "start_time": "2024-02-21T17:42:53.306108400Z"
    }
   },
   "outputs": [
    {
     "data": {
      "text/plain": "              train   test        cv\nPessimist  0.616162  0.622  0.616159\nDT         0.679012    NaN  0.666839",
      "text/html": "<div>\n<style scoped>\n    .dataframe tbody tr th:only-of-type {\n        vertical-align: middle;\n    }\n\n    .dataframe tbody tr th {\n        vertical-align: top;\n    }\n\n    .dataframe thead th {\n        text-align: right;\n    }\n</style>\n<table border=\"1\" class=\"dataframe\">\n  <thead>\n    <tr style=\"text-align: right;\">\n      <th></th>\n      <th>train</th>\n      <th>test</th>\n      <th>cv</th>\n    </tr>\n  </thead>\n  <tbody>\n    <tr>\n      <th>Pessimist</th>\n      <td>0.616162</td>\n      <td>0.622</td>\n      <td>0.616159</td>\n    </tr>\n    <tr>\n      <th>DT</th>\n      <td>0.679012</td>\n      <td>NaN</td>\n      <td>0.666839</td>\n    </tr>\n  </tbody>\n</table>\n</div>"
     },
     "execution_count": 22,
     "metadata": {},
     "output_type": "execute_result"
    }
   ],
   "source": [
    "scores.loc['Pessimist', 'cv'] = cross_val_score(Pessimist(), X_train, y_train, cv=cv).mean()\n",
    "scores"
   ]
  },
  {
   "cell_type": "code",
   "execution_count": 23,
   "id": "aa5d4a6d-44a6-4d5b-8e23-c7fdbe468d2c",
   "metadata": {
    "ExecuteTime": {
     "end_time": "2024-02-21T17:42:53.773655Z",
     "start_time": "2024-02-21T17:42:53.637016900Z"
    }
   },
   "outputs": [
    {
     "data": {
      "text/plain": "<Figure size 640x480 with 1 Axes>",
      "image/png": "[encoded data removed]"
     },
     "metadata": {},
     "output_type": "display_data"
    }
   ],
   "source": [
    "ax = scores[['train', 'cv', 'test']].T.plot.bar()\n",
    "ax.grid()\n",
    "x, dx = 2, .2\n",
    "ax.hlines(y=0.775, xmin=x - dx, xmax=x + dx, linestyle='--', color='k')\n",
    "ax.set_ylim([.55, 0.85])\n",
    "ax.set_title('Accuracy comparison');\n",
    "ax.legend(['Minimum', *scores.index],);# loc='lower right')"
   ]
  },
  {
   "cell_type": "markdown",
   "id": "3ca151bc-f26b-4f7e-a9f5-835537c1f2d9",
   "metadata": {},
   "source": [
    "The data based model improved in cross validation and no extreme overfitting occurs on the train set. \n",
    "\n",
    "How will it perform on the test set? "
   ]
  },
  {
   "cell_type": "code",
   "execution_count": null,
   "id": "d4c928f1-51d1-4eda-9619-eed061975bcc",
   "metadata": {},
   "outputs": [],
   "source": [
    "yh = model.predict(X_test[features])\n",
    "yh = pd.Series(yh, X_test.index, name='Survived')\n",
    "# save submission\n",
    "yh.to_csv(data_path/'submission_test.csv') "
   ]
  },
  {
   "cell_type": "markdown",
   "id": "7bd24622-b4d4-479c-8bb5-36d2254a9edd",
   "metadata": {},
   "source": [
    "Ready to submit the predictions! Upload submission."
   ]
  },
  {
   "cell_type": "code",
   "execution_count": null,
   "id": "75c9c4e4-2bc5-4e14-b1f0-830f1895c3fb",
   "metadata": {},
   "outputs": [],
   "source": []
  }
 ],
 "metadata": {
  "kernelspec": {
   "display_name": "Python [conda env:env_de]",
   "language": "python",
   "name": "conda-env-env_de-py"
  },
  "language_info": {
   "codemirror_mode": {
    "name": "ipython",
    "version": 3
   },
   "file_extension": ".py",
   "mimetype": "text/x-python",
   "name": "python",
   "nbconvert_exporter": "python",
   "pygments_lexer": "ipython3",
   "version": "3.10.13"
  }
 },
 "nbformat": 4,
 "nbformat_minor": 5
}
