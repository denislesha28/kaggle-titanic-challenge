{
 "cells": [
  {
   "cell_type": "code",
   "execution_count": 23,
   "id": "initial_id",
   "metadata": {
    "collapsed": true,
    "ExecuteTime": {
     "end_time": "2024-03-03T19:31:14.983007Z",
     "start_time": "2024-03-03T19:31:14.978923Z"
    }
   },
   "outputs": [],
   "source": [
    "from sklearn.model_selection import train_test_split\n",
    "from sklearn.preprocessing import LabelEncoder\n",
    "from sklearn.metrics import accuracy_score\n",
    "from sklearn.model_selection import StratifiedKFold\n",
    "from sklearn.model_selection import GridSearchCV\n",
    "from sklearn.model_selection import RandomizedSearchCV\n",
    "from scipy.stats import randint, uniform\n",
    "from xgboost import XGBClassifier\n",
    "import pandas as pd\n",
    "import numpy as np\n",
    "import optuna as opt\n",
    "import xgboost as xgb \n",
    "import re"
   ]
  },
  {
   "cell_type": "code",
   "outputs": [
    {
     "data": {
      "text/plain": "             Survived  Pclass  \\\nPassengerId                     \n1                   0       3   \n2                   1       1   \n3                   1       3   \n4                   1       1   \n5                   0       3   \n...               ...     ...   \n887                 0       2   \n888                 1       1   \n889                 0       3   \n890                 1       1   \n891                 0       3   \n\n                                                          Name   Age  SibSp  \\\nPassengerId                                                                   \n1                                      Braund, Mr. Owen Harris  22.0      1   \n2            Cumings, Mrs. John Bradley (Florence Briggs Th...  38.0      1   \n3                                       Heikkinen, Miss. Laina  26.0      0   \n4                 Futrelle, Mrs. Jacques Heath (Lily May Peel)  35.0      1   \n5                                     Allen, Mr. William Henry  35.0      0   \n...                                                        ...   ...    ...   \n887                                      Montvila, Rev. Juozas  27.0      0   \n888                               Graham, Miss. Margaret Edith  19.0      0   \n889                   Johnston, Miss. Catherine Helen \"Carrie\"   NaN      1   \n890                                      Behr, Mr. Karl Howell  26.0      0   \n891                                        Dooley, Mr. Patrick  32.0      0   \n\n             Parch            Ticket     Fare Cabin Embarked  \nPassengerId                                                   \n1                0         A/5 21171   7.2500   NaN        S  \n2                0          PC 17599  71.2833   C85        C  \n3                0  STON/O2. 3101282   7.9250   NaN        S  \n4                0            113803  53.1000  C123        S  \n5                0            373450   8.0500   NaN        S  \n...            ...               ...      ...   ...      ...  \n887              0            211536  13.0000   NaN        S  \n888              0            112053  30.0000   B42        S  \n889              2        W./C. 6607  23.4500   NaN        S  \n890              0            111369  30.0000  C148        C  \n891              0            370376   7.7500   NaN        Q  \n\n[891 rows x 10 columns]",
      "text/html": "<div>\n<style scoped>\n    .dataframe tbody tr th:only-of-type {\n        vertical-align: middle;\n    }\n\n    .dataframe tbody tr th {\n        vertical-align: top;\n    }\n\n    .dataframe thead th {\n        text-align: right;\n    }\n</style>\n<table border=\"1\" class=\"dataframe\">\n  <thead>\n    <tr style=\"text-align: right;\">\n      <th></th>\n      <th>Survived</th>\n      <th>Pclass</th>\n      <th>Name</th>\n      <th>Age</th>\n      <th>SibSp</th>\n      <th>Parch</th>\n      <th>Ticket</th>\n      <th>Fare</th>\n      <th>Cabin</th>\n      <th>Embarked</th>\n    </tr>\n    <tr>\n      <th>PassengerId</th>\n      <th></th>\n      <th></th>\n      <th></th>\n      <th></th>\n      <th></th>\n      <th></th>\n      <th></th>\n      <th></th>\n      <th></th>\n      <th></th>\n    </tr>\n  </thead>\n  <tbody>\n    <tr>\n      <th>1</th>\n      <td>0</td>\n      <td>3</td>\n      <td>Braund, Mr. Owen Harris</td>\n      <td>22.0</td>\n      <td>1</td>\n      <td>0</td>\n      <td>A/5 21171</td>\n      <td>7.2500</td>\n      <td>NaN</td>\n      <td>S</td>\n    </tr>\n    <tr>\n      <th>2</th>\n      <td>1</td>\n      <td>1</td>\n      <td>Cumings, Mrs. John Bradley (Florence Briggs Th...</td>\n      <td>38.0</td>\n      <td>1</td>\n      <td>0</td>\n      <td>PC 17599</td>\n      <td>71.2833</td>\n      <td>C85</td>\n      <td>C</td>\n    </tr>\n    <tr>\n      <th>3</th>\n      <td>1</td>\n      <td>3</td>\n      <td>Heikkinen, Miss. Laina</td>\n      <td>26.0</td>\n      <td>0</td>\n      <td>0</td>\n      <td>STON/O2. 3101282</td>\n      <td>7.9250</td>\n      <td>NaN</td>\n      <td>S</td>\n    </tr>\n    <tr>\n      <th>4</th>\n      <td>1</td>\n      <td>1</td>\n      <td>Futrelle, Mrs. Jacques Heath (Lily May Peel)</td>\n      <td>35.0</td>\n      <td>1</td>\n      <td>0</td>\n      <td>113803</td>\n      <td>53.1000</td>\n      <td>C123</td>\n      <td>S</td>\n    </tr>\n    <tr>\n      <th>5</th>\n      <td>0</td>\n      <td>3</td>\n      <td>Allen, Mr. William Henry</td>\n      <td>35.0</td>\n      <td>0</td>\n      <td>0</td>\n      <td>373450</td>\n      <td>8.0500</td>\n      <td>NaN</td>\n      <td>S</td>\n    </tr>\n    <tr>\n      <th>...</th>\n      <td>...</td>\n      <td>...</td>\n      <td>...</td>\n      <td>...</td>\n      <td>...</td>\n      <td>...</td>\n      <td>...</td>\n      <td>...</td>\n      <td>...</td>\n      <td>...</td>\n    </tr>\n    <tr>\n      <th>887</th>\n      <td>0</td>\n      <td>2</td>\n      <td>Montvila, Rev. Juozas</td>\n      <td>27.0</td>\n      <td>0</td>\n      <td>0</td>\n      <td>211536</td>\n      <td>13.0000</td>\n      <td>NaN</td>\n      <td>S</td>\n    </tr>\n    <tr>\n      <th>888</th>\n      <td>1</td>\n      <td>1</td>\n      <td>Graham, Miss. Margaret Edith</td>\n      <td>19.0</td>\n      <td>0</td>\n      <td>0</td>\n      <td>112053</td>\n      <td>30.0000</td>\n      <td>B42</td>\n      <td>S</td>\n    </tr>\n    <tr>\n      <th>889</th>\n      <td>0</td>\n      <td>3</td>\n      <td>Johnston, Miss. Catherine Helen \"Carrie\"</td>\n      <td>NaN</td>\n      <td>1</td>\n      <td>2</td>\n      <td>W./C. 6607</td>\n      <td>23.4500</td>\n      <td>NaN</td>\n      <td>S</td>\n    </tr>\n    <tr>\n      <th>890</th>\n      <td>1</td>\n      <td>1</td>\n      <td>Behr, Mr. Karl Howell</td>\n      <td>26.0</td>\n      <td>0</td>\n      <td>0</td>\n      <td>111369</td>\n      <td>30.0000</td>\n      <td>C148</td>\n      <td>C</td>\n    </tr>\n    <tr>\n      <th>891</th>\n      <td>0</td>\n      <td>3</td>\n      <td>Dooley, Mr. Patrick</td>\n      <td>32.0</td>\n      <td>0</td>\n      <td>0</td>\n      <td>370376</td>\n      <td>7.7500</td>\n      <td>NaN</td>\n      <td>Q</td>\n    </tr>\n  </tbody>\n</table>\n<p>891 rows × 10 columns</p>\n</div>"
     },
     "execution_count": 24,
     "metadata": {},
     "output_type": "execute_result"
    }
   ],
   "source": [
    "to_test = pd.read_csv(\"test.csv\", index_col=\"PassengerId\")\n",
    "df = pd.read_csv(\"train.csv\", index_col=\"PassengerId\")\n",
    "df"
   ],
   "metadata": {
    "collapsed": false,
    "ExecuteTime": {
     "end_time": "2024-03-03T19:31:15.307652Z",
     "start_time": "2024-03-03T19:31:15.292642Z"
    }
   },
   "id": "7437cf88e2628702",
   "execution_count": 24
  },
  {
   "cell_type": "code",
   "outputs": [
    {
     "data": {
      "text/plain": "Survived             Int64\nPclass               Int64\nName        string[python]\nAge                Float64\nSibSp                Int64\nParch                Int64\nTicket      string[python]\nFare               Float64\nCabin       string[python]\nEmbarked          category\ndtype: object"
     },
     "execution_count": 25,
     "metadata": {},
     "output_type": "execute_result"
    }
   ],
   "source": [
    "df = df.convert_dtypes()\n",
    "df[\"Embarked\"] = df[\"Embarked\"].astype(\"category\")\n",
    "df.dtypes"
   ],
   "metadata": {
    "collapsed": false,
    "ExecuteTime": {
     "end_time": "2024-03-03T19:31:15.646381Z",
     "start_time": "2024-03-03T19:31:15.637286Z"
    }
   },
   "id": "bc7c0dd7b79336e6",
   "execution_count": 25
  },
  {
   "cell_type": "code",
   "outputs": [],
   "source": [
    "'''\n",
    "random_id = 17 #ai23m017 - 17 is the id\n",
    "# a RandomState object or the id may be used, choose a variant\n",
    "random_state = np.random.RandomState(random_id)\n",
    "random_state = random_id\n",
    "'''\n",
    "#TODO implement this for all random states"
   ],
   "metadata": {
    "collapsed": false
   },
   "id": "9a422a05e1ee9e2d"
  },
  {
   "cell_type": "code",
   "outputs": [
    {
     "name": "stdout",
     "output_type": "stream",
     "text": [
      "['Age', 'Cabin', 'Embarked']\n"
     ]
    }
   ],
   "source": [
    "X_train,X_test,y_train,y_test = train_test_split(df.drop(\"Survived\", axis=1), df[\"Survived\"], test_size=0.2, random_state=42)\n",
    "print(df.columns[df.isna().any(axis=0)].tolist())"
   ],
   "metadata": {
    "collapsed": false,
    "ExecuteTime": {
     "end_time": "2024-03-03T19:31:16.327380Z",
     "start_time": "2024-03-03T19:31:16.320722Z"
    }
   },
   "id": "311deef3a7079778",
   "execution_count": 26
  },
  {
   "cell_type": "markdown",
   "source": [
    "### Data Pre-Processing after splitting the data to prevent data - leakage"
   ],
   "metadata": {
    "collapsed": false
   },
   "id": "81f55df3da10ac26"
  },
  {
   "cell_type": "code",
   "outputs": [],
   "source": [
    "#Data Imputation for the Age column\n",
    "data = [X_train, X_test, to_test]\n",
    "for dataset in data:\n",
    "    mean = X_train[\"Age\"].mean()\n",
    "    std = X_test[\"Age\"].std()\n",
    "    is_null = dataset[\"Age\"].isna().sum()\n",
    "    rand_age = np.random.randint(mean - std, mean + std, size = is_null)\n",
    "    rand_age_series = pd.Series(rand_age, index=dataset[dataset[\"Age\"].isnull()].index)\n",
    "    dataset[\"Age\"].fillna(rand_age_series, inplace=True)\n",
    "    dataset[\"Age\"] = dataset[\"Age\"].astype(int)\n",
    "    "
   ],
   "metadata": {
    "collapsed": false,
    "ExecuteTime": {
     "end_time": "2024-03-03T19:31:17.408188Z",
     "start_time": "2024-03-03T19:31:17.399496Z"
    }
   },
   "id": "382104a86596fa97",
   "execution_count": 27
  },
  {
   "cell_type": "code",
   "outputs": [],
   "source": [
    "#Feature Engineering the Deck Column \n",
    "#Cabins are mapped to a numerical Deck feature\n",
    "deck = {\"A\": 1, \"B\": 2, \"C\": 3, \"D\": 4, \"E\": 5, \"F\": 6, \"G\": 7, \"U\": 8}\n",
    "\n",
    "for dataset in data:\n",
    "    dataset['Cabin'] = dataset['Cabin'].fillna(\"U0\")\n",
    "    dataset['Deck'] = dataset['Cabin'].map(lambda x: re.compile(\"([a-zA-Z]+)\").search(x).group())\n",
    "    dataset['Deck'] = dataset['Deck'].map(deck)\n",
    "    dataset['Deck'] = dataset['Deck'].fillna(0)\n",
    "    dataset['Deck'] = dataset['Deck'].astype(int)\n",
    "    dataset.drop([\"Cabin\"], axis=1, inplace=True)\n"
   ],
   "metadata": {
    "collapsed": false,
    "ExecuteTime": {
     "end_time": "2024-03-03T19:31:18.240708Z",
     "start_time": "2024-03-03T19:31:18.229667Z"
    }
   },
   "id": "e8ca56c07025d74e",
   "execution_count": 28
  },
  {
   "cell_type": "code",
   "outputs": [],
   "source": [
    "X_train[\"Embarked\"].describe()\n",
    "for dataset in [X_train, X_test, to_test]:\n",
    "    dataset[\"Embarked\"].fillna(\"S\", inplace=True)"
   ],
   "metadata": {
    "collapsed": false,
    "ExecuteTime": {
     "end_time": "2024-03-03T19:31:19.182847Z",
     "start_time": "2024-03-03T19:31:19.177959Z"
    }
   },
   "id": "46c7b88f0da0a969",
   "execution_count": 29
  },
  {
   "cell_type": "code",
   "outputs": [
    {
     "data": {
      "text/plain": "Pclass      False\nName        False\nAge         False\nSibSp       False\nParch       False\nTicket      False\nFare        False\nEmbarked    False\nDeck        False\ndtype: bool"
     },
     "execution_count": 30,
     "metadata": {},
     "output_type": "execute_result"
    }
   ],
   "source": [
    "X_train.isna().any()"
   ],
   "metadata": {
    "collapsed": false,
    "ExecuteTime": {
     "end_time": "2024-03-03T19:31:19.737206Z",
     "start_time": "2024-03-03T19:31:19.731694Z"
    }
   },
   "id": "32c820fc22b56a5d",
   "execution_count": 30
  },
  {
   "cell_type": "code",
   "outputs": [
    {
     "data": {
      "text/plain": "             Pclass                                Name  Age  SibSp  Parch  \\\nPassengerId                                                                  \n332               1                 Partner, Mr. Austen   45      0      0   \n734               2          Berriman, Mr. William John   23      0      0   \n383               3                  Tikkanen, Mr. Juho   32      0      0   \n705               3             Hansen, Mr. Henrik Juul   26      1      0   \n814               3  Andersson, Miss. Ebba Iris Alfrida    6      4      2   \n...             ...                                 ...  ...    ...    ...   \n107               3    Salkjelsvik, Miss. Anna Kristine   21      0      0   \n271               1               Cairns, Mr. Alexander   31      0      0   \n861               3             Hansen, Mr. Claus Peter   41      2      0   \n436               1           Carter, Miss. Lucile Polk   14      1      2   \n103               1           White, Mr. Richard Frasar   21      0      1   \n\n                        Ticket     Fare Embarked  Deck  \nPassengerId                                             \n332                     113043     28.5        S     3  \n734                      28425     13.0        S     8  \n383          STON/O 2. 3101293    7.925        S     8  \n705                     350025   7.8542        S     8  \n814                     347082   31.275        S     8  \n...                        ...      ...      ...   ...  \n107                     343120     7.65        S     8  \n271                     113798     31.0        S     8  \n861                     350026  14.1083        S     8  \n436                     113760    120.0        S     2  \n103                      35281  77.2875        S     4  \n\n[712 rows x 9 columns]",
      "text/html": "<div>\n<style scoped>\n    .dataframe tbody tr th:only-of-type {\n        vertical-align: middle;\n    }\n\n    .dataframe tbody tr th {\n        vertical-align: top;\n    }\n\n    .dataframe thead th {\n        text-align: right;\n    }\n</style>\n<table border=\"1\" class=\"dataframe\">\n  <thead>\n    <tr style=\"text-align: right;\">\n      <th></th>\n      <th>Pclass</th>\n      <th>Name</th>\n      <th>Age</th>\n      <th>SibSp</th>\n      <th>Parch</th>\n      <th>Ticket</th>\n      <th>Fare</th>\n      <th>Embarked</th>\n      <th>Deck</th>\n    </tr>\n    <tr>\n      <th>PassengerId</th>\n      <th></th>\n      <th></th>\n      <th></th>\n      <th></th>\n      <th></th>\n      <th></th>\n      <th></th>\n      <th></th>\n      <th></th>\n    </tr>\n  </thead>\n  <tbody>\n    <tr>\n      <th>332</th>\n      <td>1</td>\n      <td>Partner, Mr. Austen</td>\n      <td>45</td>\n      <td>0</td>\n      <td>0</td>\n      <td>113043</td>\n      <td>28.5</td>\n      <td>S</td>\n      <td>3</td>\n    </tr>\n    <tr>\n      <th>734</th>\n      <td>2</td>\n      <td>Berriman, Mr. William John</td>\n      <td>23</td>\n      <td>0</td>\n      <td>0</td>\n      <td>28425</td>\n      <td>13.0</td>\n      <td>S</td>\n      <td>8</td>\n    </tr>\n    <tr>\n      <th>383</th>\n      <td>3</td>\n      <td>Tikkanen, Mr. Juho</td>\n      <td>32</td>\n      <td>0</td>\n      <td>0</td>\n      <td>STON/O 2. 3101293</td>\n      <td>7.925</td>\n      <td>S</td>\n      <td>8</td>\n    </tr>\n    <tr>\n      <th>705</th>\n      <td>3</td>\n      <td>Hansen, Mr. Henrik Juul</td>\n      <td>26</td>\n      <td>1</td>\n      <td>0</td>\n      <td>350025</td>\n      <td>7.8542</td>\n      <td>S</td>\n      <td>8</td>\n    </tr>\n    <tr>\n      <th>814</th>\n      <td>3</td>\n      <td>Andersson, Miss. Ebba Iris Alfrida</td>\n      <td>6</td>\n      <td>4</td>\n      <td>2</td>\n      <td>347082</td>\n      <td>31.275</td>\n      <td>S</td>\n      <td>8</td>\n    </tr>\n    <tr>\n      <th>...</th>\n      <td>...</td>\n      <td>...</td>\n      <td>...</td>\n      <td>...</td>\n      <td>...</td>\n      <td>...</td>\n      <td>...</td>\n      <td>...</td>\n      <td>...</td>\n    </tr>\n    <tr>\n      <th>107</th>\n      <td>3</td>\n      <td>Salkjelsvik, Miss. Anna Kristine</td>\n      <td>21</td>\n      <td>0</td>\n      <td>0</td>\n      <td>343120</td>\n      <td>7.65</td>\n      <td>S</td>\n      <td>8</td>\n    </tr>\n    <tr>\n      <th>271</th>\n      <td>1</td>\n      <td>Cairns, Mr. Alexander</td>\n      <td>31</td>\n      <td>0</td>\n      <td>0</td>\n      <td>113798</td>\n      <td>31.0</td>\n      <td>S</td>\n      <td>8</td>\n    </tr>\n    <tr>\n      <th>861</th>\n      <td>3</td>\n      <td>Hansen, Mr. Claus Peter</td>\n      <td>41</td>\n      <td>2</td>\n      <td>0</td>\n      <td>350026</td>\n      <td>14.1083</td>\n      <td>S</td>\n      <td>8</td>\n    </tr>\n    <tr>\n      <th>436</th>\n      <td>1</td>\n      <td>Carter, Miss. Lucile Polk</td>\n      <td>14</td>\n      <td>1</td>\n      <td>2</td>\n      <td>113760</td>\n      <td>120.0</td>\n      <td>S</td>\n      <td>2</td>\n    </tr>\n    <tr>\n      <th>103</th>\n      <td>1</td>\n      <td>White, Mr. Richard Frasar</td>\n      <td>21</td>\n      <td>0</td>\n      <td>1</td>\n      <td>35281</td>\n      <td>77.2875</td>\n      <td>S</td>\n      <td>4</td>\n    </tr>\n  </tbody>\n</table>\n<p>712 rows × 9 columns</p>\n</div>"
     },
     "execution_count": 32,
     "metadata": {},
     "output_type": "execute_result"
    }
   ],
   "source": [
    "X_train"
   ],
   "metadata": {
    "collapsed": false,
    "ExecuteTime": {
     "end_time": "2024-03-03T19:31:29.200090Z",
     "start_time": "2024-03-03T19:31:29.190390Z"
    }
   },
   "id": "815c21881eb895c2",
   "execution_count": 32
  },
  {
   "cell_type": "code",
   "outputs": [],
   "source": [
    "#Feature Engineering Title Column\n",
    "for dataset in data:\n",
    "    dataset[\"Title\"] = dataset[\"Name\"].apply(lambda x: x.split(\",\")[1].split(\".\")[0].strip())"
   ],
   "metadata": {
    "collapsed": false,
    "ExecuteTime": {
     "end_time": "2024-03-03T19:31:30.410742Z",
     "start_time": "2024-03-03T19:31:30.405125Z"
    }
   },
   "id": "f6cd938e3addfb44",
   "execution_count": 33
  },
  {
   "cell_type": "code",
   "outputs": [],
   "source": [
    "#Feature Engineering Sex Column \n",
    "def map_to_sex(value):\n",
    "    if value in [\"Miss\",\"Mrs\"]:\n",
    "        return \"female\"\n",
    "    else:\n",
    "        return \"male\"\n",
    "\n",
    "for dataset in data:\n",
    "    dataset[\"Sex\"] = dataset[\"Title\"].apply(map_to_sex)\n",
    "    dataset.drop(\"Title\", axis=1, inplace=True)"
   ],
   "metadata": {
    "collapsed": false,
    "ExecuteTime": {
     "end_time": "2024-03-03T19:31:33.952573Z",
     "start_time": "2024-03-03T19:31:33.945119Z"
    }
   },
   "id": "502afae6ac628fa2",
   "execution_count": 34
  },
  {
   "cell_type": "code",
   "outputs": [],
   "source": [
    "#Feature Engineering Family Size Column\n",
    "for dataset in data:\n",
    "    dataset[\"Fam_size\"] = dataset[\"SibSp\"] + dataset[\"Parch\"] + 1\n",
    "    dataset[\"Fam_type\"] = pd.cut(dataset.Fam_size, [0,1,4,7,11], labels=[\"Solo\", \"Small\", \"Big\", \"Very big\"])\n",
    "    dataset.drop([\"SibSp\",\"Parch\",\"Fam_size\"], axis=1, inplace=True)\n"
   ],
   "metadata": {
    "collapsed": false,
    "ExecuteTime": {
     "end_time": "2024-03-03T19:31:35.213931Z",
     "start_time": "2024-03-03T19:31:35.205150Z"
    }
   },
   "id": "7611fdcd2568120a",
   "execution_count": 35
  },
  {
   "cell_type": "code",
   "outputs": [],
   "source": [
    "#Feature Engineering Ticket_2letter column\n",
    "for dataset in data:\n",
    "    dataset[\"Ticket_2letter\"] = dataset.Ticket.apply(lambda x: x[:2])\n",
    "    dataset.drop(\"Ticket\", axis=1, inplace=True)"
   ],
   "metadata": {
    "collapsed": false,
    "ExecuteTime": {
     "end_time": "2024-03-03T19:31:36.140487Z",
     "start_time": "2024-03-03T19:31:36.134352Z"
    }
   },
   "id": "71f54e901c433b54",
   "execution_count": 36
  },
  {
   "cell_type": "code",
   "outputs": [
    {
     "data": {
      "text/plain": "             Pclass                                Name  Age     Fare  \\\nPassengerId                                                             \n332               1                 Partner, Mr. Austen   45     28.5   \n734               2          Berriman, Mr. William John   23     13.0   \n383               3                  Tikkanen, Mr. Juho   32    7.925   \n705               3             Hansen, Mr. Henrik Juul   26   7.8542   \n814               3  Andersson, Miss. Ebba Iris Alfrida    6   31.275   \n...             ...                                 ...  ...      ...   \n107               3    Salkjelsvik, Miss. Anna Kristine   21     7.65   \n271               1               Cairns, Mr. Alexander   31     31.0   \n861               3             Hansen, Mr. Claus Peter   41  14.1083   \n436               1           Carter, Miss. Lucile Polk   14    120.0   \n103               1           White, Mr. Richard Frasar   21  77.2875   \n\n            Embarked  Deck     Sex Fam_type Ticket_2letter  \nPassengerId                                                 \n332                S     3    male     Solo             11  \n734                S     8    male     Solo             28  \n383                S     8    male     Solo             ST  \n705                S     8    male    Small             35  \n814                S     8  female      Big             34  \n...              ...   ...     ...      ...            ...  \n107                S     8  female     Solo             34  \n271                S     8    male     Solo             11  \n861                S     8    male    Small             35  \n436                S     2  female    Small             11  \n103                S     4    male    Small             35  \n\n[712 rows x 9 columns]",
      "text/html": "<div>\n<style scoped>\n    .dataframe tbody tr th:only-of-type {\n        vertical-align: middle;\n    }\n\n    .dataframe tbody tr th {\n        vertical-align: top;\n    }\n\n    .dataframe thead th {\n        text-align: right;\n    }\n</style>\n<table border=\"1\" class=\"dataframe\">\n  <thead>\n    <tr style=\"text-align: right;\">\n      <th></th>\n      <th>Pclass</th>\n      <th>Name</th>\n      <th>Age</th>\n      <th>Fare</th>\n      <th>Embarked</th>\n      <th>Deck</th>\n      <th>Sex</th>\n      <th>Fam_type</th>\n      <th>Ticket_2letter</th>\n    </tr>\n    <tr>\n      <th>PassengerId</th>\n      <th></th>\n      <th></th>\n      <th></th>\n      <th></th>\n      <th></th>\n      <th></th>\n      <th></th>\n      <th></th>\n      <th></th>\n    </tr>\n  </thead>\n  <tbody>\n    <tr>\n      <th>332</th>\n      <td>1</td>\n      <td>Partner, Mr. Austen</td>\n      <td>45</td>\n      <td>28.5</td>\n      <td>S</td>\n      <td>3</td>\n      <td>male</td>\n      <td>Solo</td>\n      <td>11</td>\n    </tr>\n    <tr>\n      <th>734</th>\n      <td>2</td>\n      <td>Berriman, Mr. William John</td>\n      <td>23</td>\n      <td>13.0</td>\n      <td>S</td>\n      <td>8</td>\n      <td>male</td>\n      <td>Solo</td>\n      <td>28</td>\n    </tr>\n    <tr>\n      <th>383</th>\n      <td>3</td>\n      <td>Tikkanen, Mr. Juho</td>\n      <td>32</td>\n      <td>7.925</td>\n      <td>S</td>\n      <td>8</td>\n      <td>male</td>\n      <td>Solo</td>\n      <td>ST</td>\n    </tr>\n    <tr>\n      <th>705</th>\n      <td>3</td>\n      <td>Hansen, Mr. Henrik Juul</td>\n      <td>26</td>\n      <td>7.8542</td>\n      <td>S</td>\n      <td>8</td>\n      <td>male</td>\n      <td>Small</td>\n      <td>35</td>\n    </tr>\n    <tr>\n      <th>814</th>\n      <td>3</td>\n      <td>Andersson, Miss. Ebba Iris Alfrida</td>\n      <td>6</td>\n      <td>31.275</td>\n      <td>S</td>\n      <td>8</td>\n      <td>female</td>\n      <td>Big</td>\n      <td>34</td>\n    </tr>\n    <tr>\n      <th>...</th>\n      <td>...</td>\n      <td>...</td>\n      <td>...</td>\n      <td>...</td>\n      <td>...</td>\n      <td>...</td>\n      <td>...</td>\n      <td>...</td>\n      <td>...</td>\n    </tr>\n    <tr>\n      <th>107</th>\n      <td>3</td>\n      <td>Salkjelsvik, Miss. Anna Kristine</td>\n      <td>21</td>\n      <td>7.65</td>\n      <td>S</td>\n      <td>8</td>\n      <td>female</td>\n      <td>Solo</td>\n      <td>34</td>\n    </tr>\n    <tr>\n      <th>271</th>\n      <td>1</td>\n      <td>Cairns, Mr. Alexander</td>\n      <td>31</td>\n      <td>31.0</td>\n      <td>S</td>\n      <td>8</td>\n      <td>male</td>\n      <td>Solo</td>\n      <td>11</td>\n    </tr>\n    <tr>\n      <th>861</th>\n      <td>3</td>\n      <td>Hansen, Mr. Claus Peter</td>\n      <td>41</td>\n      <td>14.1083</td>\n      <td>S</td>\n      <td>8</td>\n      <td>male</td>\n      <td>Small</td>\n      <td>35</td>\n    </tr>\n    <tr>\n      <th>436</th>\n      <td>1</td>\n      <td>Carter, Miss. Lucile Polk</td>\n      <td>14</td>\n      <td>120.0</td>\n      <td>S</td>\n      <td>2</td>\n      <td>female</td>\n      <td>Small</td>\n      <td>11</td>\n    </tr>\n    <tr>\n      <th>103</th>\n      <td>1</td>\n      <td>White, Mr. Richard Frasar</td>\n      <td>21</td>\n      <td>77.2875</td>\n      <td>S</td>\n      <td>4</td>\n      <td>male</td>\n      <td>Small</td>\n      <td>35</td>\n    </tr>\n  </tbody>\n</table>\n<p>712 rows × 9 columns</p>\n</div>"
     },
     "execution_count": 37,
     "metadata": {},
     "output_type": "execute_result"
    }
   ],
   "source": [
    "X_train"
   ],
   "metadata": {
    "collapsed": false,
    "ExecuteTime": {
     "end_time": "2024-03-03T19:31:36.814169Z",
     "start_time": "2024-03-03T19:31:36.804082Z"
    }
   },
   "id": "440341c693d677f8",
   "execution_count": 37
  },
  {
   "cell_type": "markdown",
   "source": [
    "### Encode all Labels to String in order to pass through the GBM model"
   ],
   "metadata": {
    "collapsed": false
   },
   "id": "d79ef93bb1e9aec8"
  },
  {
   "cell_type": "code",
   "outputs": [
    {
     "data": {
      "text/plain": "             Pclass  Name  Age  Fare  Embarked  Deck  Sex  Fam_type  \\\nPassengerId                                                           \n332               0   499   45   133         2     3    1         2   \n734               1    63   23    74         2     8    1         2   \n383               2   642   32    37         2     8    1         2   \n705               2   250   26    33         2     8    1         1   \n814               2    19    6   141         2     8    0         0   \n...             ...   ...  ...   ...       ...   ...  ...       ...   \n107               2   574   21    23         2     8    0         2   \n271               0    96   31   140         2     8    1         2   \n861               2   249   41    81         2     8    1         1   \n436               0   108   14   205         2     2    0         1   \n103               0   684   21   185         2     4    1         1   \n\n             Ticket_2letter  \nPassengerId                  \n332                       0  \n734                      14  \n383                      48  \n705                      20  \n814                      19  \n...                     ...  \n107                      19  \n271                       0  \n861                      20  \n436                       0  \n103                      20  \n\n[712 rows x 9 columns]",
      "text/html": "<div>\n<style scoped>\n    .dataframe tbody tr th:only-of-type {\n        vertical-align: middle;\n    }\n\n    .dataframe tbody tr th {\n        vertical-align: top;\n    }\n\n    .dataframe thead th {\n        text-align: right;\n    }\n</style>\n<table border=\"1\" class=\"dataframe\">\n  <thead>\n    <tr style=\"text-align: right;\">\n      <th></th>\n      <th>Pclass</th>\n      <th>Name</th>\n      <th>Age</th>\n      <th>Fare</th>\n      <th>Embarked</th>\n      <th>Deck</th>\n      <th>Sex</th>\n      <th>Fam_type</th>\n      <th>Ticket_2letter</th>\n    </tr>\n    <tr>\n      <th>PassengerId</th>\n      <th></th>\n      <th></th>\n      <th></th>\n      <th></th>\n      <th></th>\n      <th></th>\n      <th></th>\n      <th></th>\n      <th></th>\n    </tr>\n  </thead>\n  <tbody>\n    <tr>\n      <th>332</th>\n      <td>0</td>\n      <td>499</td>\n      <td>45</td>\n      <td>133</td>\n      <td>2</td>\n      <td>3</td>\n      <td>1</td>\n      <td>2</td>\n      <td>0</td>\n    </tr>\n    <tr>\n      <th>734</th>\n      <td>1</td>\n      <td>63</td>\n      <td>23</td>\n      <td>74</td>\n      <td>2</td>\n      <td>8</td>\n      <td>1</td>\n      <td>2</td>\n      <td>14</td>\n    </tr>\n    <tr>\n      <th>383</th>\n      <td>2</td>\n      <td>642</td>\n      <td>32</td>\n      <td>37</td>\n      <td>2</td>\n      <td>8</td>\n      <td>1</td>\n      <td>2</td>\n      <td>48</td>\n    </tr>\n    <tr>\n      <th>705</th>\n      <td>2</td>\n      <td>250</td>\n      <td>26</td>\n      <td>33</td>\n      <td>2</td>\n      <td>8</td>\n      <td>1</td>\n      <td>1</td>\n      <td>20</td>\n    </tr>\n    <tr>\n      <th>814</th>\n      <td>2</td>\n      <td>19</td>\n      <td>6</td>\n      <td>141</td>\n      <td>2</td>\n      <td>8</td>\n      <td>0</td>\n      <td>0</td>\n      <td>19</td>\n    </tr>\n    <tr>\n      <th>...</th>\n      <td>...</td>\n      <td>...</td>\n      <td>...</td>\n      <td>...</td>\n      <td>...</td>\n      <td>...</td>\n      <td>...</td>\n      <td>...</td>\n      <td>...</td>\n    </tr>\n    <tr>\n      <th>107</th>\n      <td>2</td>\n      <td>574</td>\n      <td>21</td>\n      <td>23</td>\n      <td>2</td>\n      <td>8</td>\n      <td>0</td>\n      <td>2</td>\n      <td>19</td>\n    </tr>\n    <tr>\n      <th>271</th>\n      <td>0</td>\n      <td>96</td>\n      <td>31</td>\n      <td>140</td>\n      <td>2</td>\n      <td>8</td>\n      <td>1</td>\n      <td>2</td>\n      <td>0</td>\n    </tr>\n    <tr>\n      <th>861</th>\n      <td>2</td>\n      <td>249</td>\n      <td>41</td>\n      <td>81</td>\n      <td>2</td>\n      <td>8</td>\n      <td>1</td>\n      <td>1</td>\n      <td>20</td>\n    </tr>\n    <tr>\n      <th>436</th>\n      <td>0</td>\n      <td>108</td>\n      <td>14</td>\n      <td>205</td>\n      <td>2</td>\n      <td>2</td>\n      <td>0</td>\n      <td>1</td>\n      <td>0</td>\n    </tr>\n    <tr>\n      <th>103</th>\n      <td>0</td>\n      <td>684</td>\n      <td>21</td>\n      <td>185</td>\n      <td>2</td>\n      <td>4</td>\n      <td>1</td>\n      <td>1</td>\n      <td>20</td>\n    </tr>\n  </tbody>\n</table>\n<p>712 rows × 9 columns</p>\n</div>"
     },
     "execution_count": 38,
     "metadata": {},
     "output_type": "execute_result"
    }
   ],
   "source": [
    "X_train = X_train.apply(LabelEncoder().fit_transform)\n",
    "X_test = X_test.apply(LabelEncoder().fit_transform)\n",
    "to_test = to_test.apply(LabelEncoder().fit_transform)\n",
    "X_train"
   ],
   "metadata": {
    "collapsed": false,
    "ExecuteTime": {
     "end_time": "2024-03-03T19:31:50.892647Z",
     "start_time": "2024-03-03T19:31:50.877055Z"
    }
   },
   "id": "ea4249e0dc9aa4f2",
   "execution_count": 38
  },
  {
   "cell_type": "markdown",
   "source": [
    "### Cross-Fold Validation"
   ],
   "metadata": {
    "collapsed": false
   },
   "id": "e264278da47f49c2"
  },
  {
   "cell_type": "code",
   "outputs": [],
   "source": [
    "model = XGBClassifier() # classifier used to tune hyperparameters\n",
    "\n",
    "def objective(trial):\n",
    "    param = {\n",
    "        'verbosity': 0,\n",
    "        'objective': 'binary:logistic',  # or 'multi:softprob' for multiclass and set 'num_class'\n",
    "        'eval_metric': 'logloss',  # or another suitable metric\n",
    "        'learning_rate': trial.suggest_float('learning_rate', 0.01, 0.3),\n",
    "        'n_estimators': trial.suggest_int('n_estimators', 100, 1000),\n",
    "        'max_depth': trial.suggest_int('max_depth', 3, 9),\n",
    "        'min_child_weight': trial.suggest_int('min_child_weight', 1, 10),\n",
    "        'subsample': trial.suggest_float('subsample', 0.5, 1.0),\n",
    "        'colsample_bytree': trial.suggest_float('colsample_bytree', 0.5, 1.0),\n",
    "        'reg_alpha': trial.suggest_float('reg_alpha', 0.0, 1.0),\n",
    "        'reg_lambda': trial.suggest_float('reg_lambda', 1e-5, 100.0),\n",
    "    }\n",
    "\n",
    "    model = xgb.XGBClassifier(**param)\n",
    "    model.fit(X_train, y_train, eval_set=[(X_test, y_test)], verbose=False)\n",
    "    model.set_params(early_stopping_rounds=100 ) # TODO random state\n",
    "\n",
    "    preds = model.predict(X_test)\n",
    "    accuracy = accuracy_score(y_test, preds)\n",
    "    \n",
    "    return accuracy"
   ],
   "metadata": {
    "collapsed": false,
    "ExecuteTime": {
     "end_time": "2024-03-03T19:31:52.333590Z",
     "start_time": "2024-03-03T19:31:52.328460Z"
    }
   },
   "id": "eb7c96151e8b9c70",
   "execution_count": 39
  },
  {
   "cell_type": "code",
   "outputs": [
    {
     "name": "stderr",
     "output_type": "stream",
     "text": [
      "[I 2024-03-03 20:31:53,069] A new study created in memory with name: no-name-7556f0d9-c8a7-4532-8bcc-07f0dbfcaba8\n",
      "[I 2024-03-03 20:31:53,269] Trial 0 finished with value: 0.7932960893854749 and parameters: {'learning_rate': 0.02597043225203985, 'n_estimators': 342, 'max_depth': 5, 'min_child_weight': 8, 'subsample': 0.911558217380901, 'colsample_bytree': 0.8549474038073508, 'reg_alpha': 0.15699348707765126, 'reg_lambda': 39.39630824893548}. Best is trial 0 with value: 0.7932960893854749.\n",
      "[I 2024-03-03 20:31:53,964] Trial 1 finished with value: 0.770949720670391 and parameters: {'learning_rate': 0.2453102468475491, 'n_estimators': 849, 'max_depth': 7, 'min_child_weight': 9, 'subsample': 0.604567019716912, 'colsample_bytree': 0.5061485173838973, 'reg_alpha': 0.4944060510143551, 'reg_lambda': 18.66937627190101}. Best is trial 0 with value: 0.7932960893854749.\n",
      "[I 2024-03-03 20:31:54,351] Trial 2 finished with value: 0.7597765363128491 and parameters: {'learning_rate': 0.2522329180138892, 'n_estimators': 752, 'max_depth': 9, 'min_child_weight': 7, 'subsample': 0.7337015734505252, 'colsample_bytree': 0.5386914812070663, 'reg_alpha': 0.5397760591018554, 'reg_lambda': 15.314790853769388}. Best is trial 0 with value: 0.7932960893854749.\n",
      "[I 2024-03-03 20:31:54,803] Trial 3 finished with value: 0.776536312849162 and parameters: {'learning_rate': 0.2791306853509174, 'n_estimators': 934, 'max_depth': 3, 'min_child_weight': 1, 'subsample': 0.5141906567370135, 'colsample_bytree': 0.7667957970577861, 'reg_alpha': 0.3113107084536002, 'reg_lambda': 82.54714397715495}. Best is trial 0 with value: 0.7932960893854749.\n",
      "[I 2024-03-03 20:31:55,162] Trial 4 finished with value: 0.8100558659217877 and parameters: {'learning_rate': 0.046439230667797385, 'n_estimators': 698, 'max_depth': 3, 'min_child_weight': 5, 'subsample': 0.9104626188731886, 'colsample_bytree': 0.7749348480377196, 'reg_alpha': 0.15418717700668916, 'reg_lambda': 70.3932744001919}. Best is trial 4 with value: 0.8100558659217877.\n",
      "[I 2024-03-03 20:31:55,558] Trial 5 finished with value: 0.7597765363128491 and parameters: {'learning_rate': 0.21565433675337373, 'n_estimators': 802, 'max_depth': 4, 'min_child_weight': 8, 'subsample': 0.902282966436266, 'colsample_bytree': 0.6192657069766775, 'reg_alpha': 0.14535785204356988, 'reg_lambda': 55.172724003897905}. Best is trial 4 with value: 0.8100558659217877.\n",
      "[I 2024-03-03 20:31:55,875] Trial 6 finished with value: 0.770949720670391 and parameters: {'learning_rate': 0.18380413365191062, 'n_estimators': 632, 'max_depth': 6, 'min_child_weight': 7, 'subsample': 0.5862574179646096, 'colsample_bytree': 0.7068832933092494, 'reg_alpha': 0.4183008430051669, 'reg_lambda': 92.4303221814812}. Best is trial 4 with value: 0.8100558659217877.\n",
      "[I 2024-03-03 20:31:56,135] Trial 7 finished with value: 0.7877094972067039 and parameters: {'learning_rate': 0.16680682475166386, 'n_estimators': 414, 'max_depth': 7, 'min_child_weight': 5, 'subsample': 0.8981890842151986, 'colsample_bytree': 0.923077962382472, 'reg_alpha': 0.8295533588987842, 'reg_lambda': 98.9047779557451}. Best is trial 4 with value: 0.8100558659217877.\n",
      "[I 2024-03-03 20:31:56,347] Trial 8 finished with value: 0.776536312849162 and parameters: {'learning_rate': 0.16616381263943628, 'n_estimators': 392, 'max_depth': 5, 'min_child_weight': 4, 'subsample': 0.6827918371603587, 'colsample_bytree': 0.865395469111959, 'reg_alpha': 0.4614714598409755, 'reg_lambda': 37.32158279959589}. Best is trial 4 with value: 0.8100558659217877.\n",
      "[I 2024-03-03 20:31:56,458] Trial 9 finished with value: 0.7932960893854749 and parameters: {'learning_rate': 0.07679203564088609, 'n_estimators': 197, 'max_depth': 7, 'min_child_weight': 7, 'subsample': 0.7562897459251201, 'colsample_bytree': 0.8486113563752764, 'reg_alpha': 0.0680694052119789, 'reg_lambda': 32.37045846760304}. Best is trial 4 with value: 0.8100558659217877.\n",
      "[I 2024-03-03 20:31:56,828] Trial 10 finished with value: 0.7988826815642458 and parameters: {'learning_rate': 0.09135385900625861, 'n_estimators': 623, 'max_depth': 3, 'min_child_weight': 3, 'subsample': 0.9705475348035653, 'colsample_bytree': 0.7060160816147801, 'reg_alpha': 0.7512455170220892, 'reg_lambda': 66.93242905098381}. Best is trial 4 with value: 0.8100558659217877.\n",
      "[I 2024-03-03 20:31:57,155] Trial 11 finished with value: 0.7877094972067039 and parameters: {'learning_rate': 0.10124730699513046, 'n_estimators': 602, 'max_depth': 3, 'min_child_weight': 3, 'subsample': 0.9954689320542367, 'colsample_bytree': 0.7150553140174074, 'reg_alpha': 0.7902255096339494, 'reg_lambda': 64.66773455746636}. Best is trial 4 with value: 0.8100558659217877.\n",
      "[I 2024-03-03 20:31:57,512] Trial 12 finished with value: 0.7988826815642458 and parameters: {'learning_rate': 0.01035467531423103, 'n_estimators': 660, 'max_depth': 3, 'min_child_weight': 2, 'subsample': 0.9821217997551859, 'colsample_bytree': 0.6444033154468257, 'reg_alpha': 0.9805003895998207, 'reg_lambda': 70.83281978727452}. Best is trial 4 with value: 0.8100558659217877.\n",
      "[I 2024-03-03 20:31:57,820] Trial 13 finished with value: 0.7932960893854749 and parameters: {'learning_rate': 0.10295973216144552, 'n_estimators': 494, 'max_depth': 4, 'min_child_weight': 5, 'subsample': 0.8249017123383261, 'colsample_bytree': 0.7786732116796958, 'reg_alpha': 0.7922595652852404, 'reg_lambda': 74.94963264648733}. Best is trial 4 with value: 0.8100558659217877.\n",
      "[I 2024-03-03 20:31:58,387] Trial 14 finished with value: 0.7988826815642458 and parameters: {'learning_rate': 0.05040206717463153, 'n_estimators': 984, 'max_depth': 4, 'min_child_weight': 3, 'subsample': 0.8331203159508942, 'colsample_bytree': 0.6391899573007755, 'reg_alpha': 0.6120848446621371, 'reg_lambda': 56.24072323487604}. Best is trial 4 with value: 0.8100558659217877.\n",
      "[I 2024-03-03 20:31:58,893] Trial 15 finished with value: 0.7877094972067039 and parameters: {'learning_rate': 0.12371330681938028, 'n_estimators': 707, 'max_depth': 9, 'min_child_weight': 4, 'subsample': 0.9341406906107437, 'colsample_bytree': 0.7971639354588598, 'reg_alpha': 0.2565753927337387, 'reg_lambda': 82.89886432693713}. Best is trial 4 with value: 0.8100558659217877.\n",
      "[I 2024-03-03 20:31:59,245] Trial 16 finished with value: 0.7988826815642458 and parameters: {'learning_rate': 0.060709274882183945, 'n_estimators': 505, 'max_depth': 5, 'min_child_weight': 1, 'subsample': 0.8282888532558171, 'colsample_bytree': 0.6929696096154014, 'reg_alpha': 0.655760135269208, 'reg_lambda': 1.5524514569338521}. Best is trial 4 with value: 0.8100558659217877.\n",
      "[I 2024-03-03 20:31:59,401] Trial 17 finished with value: 0.8044692737430168 and parameters: {'learning_rate': 0.12770057468538515, 'n_estimators': 223, 'max_depth': 3, 'min_child_weight': 6, 'subsample': 0.9575012382247229, 'colsample_bytree': 0.9948222024693785, 'reg_alpha': 0.9931229646266558, 'reg_lambda': 64.03156108215445}. Best is trial 4 with value: 0.8100558659217877.\n",
      "[I 2024-03-03 20:31:59,542] Trial 18 finished with value: 0.7877094972067039 and parameters: {'learning_rate': 0.13940160501595028, 'n_estimators': 174, 'max_depth': 4, 'min_child_weight': 10, 'subsample': 0.8571441458362247, 'colsample_bytree': 0.9977095514034824, 'reg_alpha': 0.9956980755796381, 'reg_lambda': 42.621286504845315}. Best is trial 4 with value: 0.8100558659217877.\n",
      "[I 2024-03-03 20:31:59,751] Trial 19 finished with value: 0.7932960893854749 and parameters: {'learning_rate': 0.04303197346030353, 'n_estimators': 286, 'max_depth': 6, 'min_child_weight': 6, 'subsample': 0.7706443293090622, 'colsample_bytree': 0.9815024275099868, 'reg_alpha': 0.3497626078422139, 'reg_lambda': 50.55613906787819}. Best is trial 4 with value: 0.8100558659217877.\n",
      "[I 2024-03-03 20:31:59,880] Trial 20 finished with value: 0.7932960893854749 and parameters: {'learning_rate': 0.1294041364343817, 'n_estimators': 134, 'max_depth': 8, 'min_child_weight': 6, 'subsample': 0.9399792111944474, 'colsample_bytree': 0.9331351559727499, 'reg_alpha': 0.017672305043011483, 'reg_lambda': 82.37189254965067}. Best is trial 4 with value: 0.8100558659217877.\n",
      "[I 2024-03-03 20:32:00,203] Trial 21 finished with value: 0.8044692737430168 and parameters: {'learning_rate': 0.08039268638199243, 'n_estimators': 552, 'max_depth': 3, 'min_child_weight': 4, 'subsample': 0.9593436984570347, 'colsample_bytree': 0.5865077179800602, 'reg_alpha': 0.8743864902754899, 'reg_lambda': 68.0393414921476}. Best is trial 4 with value: 0.8100558659217877.\n",
      "[I 2024-03-03 20:32:00,497] Trial 22 finished with value: 0.7988826815642458 and parameters: {'learning_rate': 0.07740654864458764, 'n_estimators': 539, 'max_depth': 3, 'min_child_weight': 4, 'subsample': 0.8700123389789004, 'colsample_bytree': 0.6040038914788521, 'reg_alpha': 0.889785435183659, 'reg_lambda': 61.39414085487548}. Best is trial 4 with value: 0.8100558659217877.\n",
      "[I 2024-03-03 20:32:00,787] Trial 23 finished with value: 0.8044692737430168 and parameters: {'learning_rate': 0.11067269789317004, 'n_estimators': 460, 'max_depth': 4, 'min_child_weight': 5, 'subsample': 0.9559206589209396, 'colsample_bytree': 0.569012980859638, 'reg_alpha': 0.9275846610691076, 'reg_lambda': 73.0297301275421}. Best is trial 4 with value: 0.8100558659217877.\n",
      "[I 2024-03-03 20:32:00,970] Trial 24 finished with value: 0.8044692737430168 and parameters: {'learning_rate': 0.06747982934708135, 'n_estimators': 266, 'max_depth': 3, 'min_child_weight': 6, 'subsample': 0.994365304028559, 'colsample_bytree': 0.9126850139590756, 'reg_alpha': 0.6845021276552266, 'reg_lambda': 46.853162793233004}. Best is trial 4 with value: 0.8100558659217877.\n",
      "[I 2024-03-03 20:32:01,437] Trial 25 finished with value: 0.8100558659217877 and parameters: {'learning_rate': 0.037001518567720784, 'n_estimators': 722, 'max_depth': 5, 'min_child_weight': 4, 'subsample': 0.7856968831454307, 'colsample_bytree': 0.8179132726739037, 'reg_alpha': 0.8964981291453805, 'reg_lambda': 59.4661503993626}. Best is trial 4 with value: 0.8100558659217877.\n",
      "[I 2024-03-03 20:32:01,957] Trial 26 finished with value: 0.8044692737430168 and parameters: {'learning_rate': 0.03466458260826372, 'n_estimators': 870, 'max_depth': 5, 'min_child_weight': 5, 'subsample': 0.7110341325355163, 'colsample_bytree': 0.8159298180108124, 'reg_alpha': 0.21633068848019565, 'reg_lambda': 58.824375984882664}. Best is trial 4 with value: 0.8100558659217877.\n",
      "[I 2024-03-03 20:32:02,434] Trial 27 finished with value: 0.8100558659217877 and parameters: {'learning_rate': 0.011955862920269428, 'n_estimators': 762, 'max_depth': 4, 'min_child_weight': 2, 'subsample': 0.7830347852047232, 'colsample_bytree': 0.7353483768909481, 'reg_alpha': 0.5741301808948213, 'reg_lambda': 78.44460602363387}. Best is trial 4 with value: 0.8100558659217877.\n",
      "[I 2024-03-03 20:32:02,943] Trial 28 finished with value: 0.8156424581005587 and parameters: {'learning_rate': 0.025903193480446486, 'n_estimators': 744, 'max_depth': 5, 'min_child_weight': 2, 'subsample': 0.7926865932173401, 'colsample_bytree': 0.736794786471195, 'reg_alpha': 0.563211202224964, 'reg_lambda': 78.45572896031986}. Best is trial 28 with value: 0.8156424581005587.\n",
      "[I 2024-03-03 20:32:03,600] Trial 29 finished with value: 0.8156424581005587 and parameters: {'learning_rate': 0.0332984578963045, 'n_estimators': 722, 'max_depth': 5, 'min_child_weight': 2, 'subsample': 0.6578453477790835, 'colsample_bytree': 0.832394300946902, 'reg_alpha': 0.4123811998035704, 'reg_lambda': 90.47613375407767}. Best is trial 28 with value: 0.8156424581005587.\n",
      "[I 2024-03-03 20:32:04,248] Trial 30 finished with value: 0.8156424581005587 and parameters: {'learning_rate': 0.025440011742996475, 'n_estimators': 842, 'max_depth': 6, 'min_child_weight': 2, 'subsample': 0.6590393690751839, 'colsample_bytree': 0.6704398352249341, 'reg_alpha': 0.3741707252346773, 'reg_lambda': 89.55482505761111}. Best is trial 28 with value: 0.8156424581005587.\n",
      "[I 2024-03-03 20:32:04,786] Trial 31 finished with value: 0.8100558659217877 and parameters: {'learning_rate': 0.02034671838662946, 'n_estimators': 816, 'max_depth': 6, 'min_child_weight': 2, 'subsample': 0.6599989991373703, 'colsample_bytree': 0.6601992945878171, 'reg_alpha': 0.37825408541592, 'reg_lambda': 89.989136448721}. Best is trial 28 with value: 0.8156424581005587.\n",
      "[I 2024-03-03 20:32:05,417] Trial 32 finished with value: 0.8044692737430168 and parameters: {'learning_rate': 0.0313647097780764, 'n_estimators': 897, 'max_depth': 6, 'min_child_weight': 1, 'subsample': 0.630367381290825, 'colsample_bytree': 0.7471808512725274, 'reg_alpha': 0.45010160806575306, 'reg_lambda': 90.67270940627436}. Best is trial 28 with value: 0.8156424581005587.\n",
      "[I 2024-03-03 20:32:05,893] Trial 33 finished with value: 0.8100558659217877 and parameters: {'learning_rate': 0.056025579815799254, 'n_estimators': 693, 'max_depth': 6, 'min_child_weight': 2, 'subsample': 0.5621524823891126, 'colsample_bytree': 0.671800146908966, 'reg_alpha': 0.5342204065966499, 'reg_lambda': 94.86309021600758}. Best is trial 28 with value: 0.8156424581005587.\n",
      "[I 2024-03-03 20:32:06,395] Trial 34 finished with value: 0.8212290502793296 and parameters: {'learning_rate': 0.022532553989675366, 'n_estimators': 780, 'max_depth': 5, 'min_child_weight': 3, 'subsample': 0.7138292414013924, 'colsample_bytree': 0.8621889775998656, 'reg_alpha': 0.2824748300898863, 'reg_lambda': 86.37908205801712}. Best is trial 34 with value: 0.8212290502793296.\n",
      "[I 2024-03-03 20:32:06,955] Trial 35 finished with value: 0.8156424581005587 and parameters: {'learning_rate': 0.025908301548435653, 'n_estimators': 816, 'max_depth': 5, 'min_child_weight': 1, 'subsample': 0.7175755854363561, 'colsample_bytree': 0.8703022352654849, 'reg_alpha': 0.302359341605699, 'reg_lambda': 85.45506902139046}. Best is trial 34 with value: 0.8212290502793296.\n",
      "[I 2024-03-03 20:32:07,530] Trial 36 finished with value: 0.776536312849162 and parameters: {'learning_rate': 0.28895521452474726, 'n_estimators': 943, 'max_depth': 5, 'min_child_weight': 3, 'subsample': 0.6672117620107575, 'colsample_bytree': 0.8351382139330357, 'reg_alpha': 0.5048679887895187, 'reg_lambda': 97.57166153926218}. Best is trial 34 with value: 0.8212290502793296.\n",
      "[I 2024-03-03 20:32:08,061] Trial 37 finished with value: 0.770949720670391 and parameters: {'learning_rate': 0.2323991843256039, 'n_estimators': 767, 'max_depth': 7, 'min_child_weight': 2, 'subsample': 0.6384734188609962, 'colsample_bytree': 0.7720787555083802, 'reg_alpha': 0.3930317949467711, 'reg_lambda': 86.92003679763826}. Best is trial 34 with value: 0.8212290502793296.\n",
      "[I 2024-03-03 20:32:08,648] Trial 38 finished with value: 0.8156424581005587 and parameters: {'learning_rate': 0.010011085009885234, 'n_estimators': 857, 'max_depth': 5, 'min_child_weight': 1, 'subsample': 0.6992920840860412, 'colsample_bytree': 0.90370472835664, 'reg_alpha': 0.22666096550540227, 'reg_lambda': 99.9991043563232}. Best is trial 34 with value: 0.8212290502793296.\n",
      "[I 2024-03-03 20:32:09,220] Trial 39 finished with value: 0.7821229050279329 and parameters: {'learning_rate': 0.2005230689846155, 'n_estimators': 914, 'max_depth': 7, 'min_child_weight': 3, 'subsample': 0.5648539370530128, 'colsample_bytree': 0.8780297769677115, 'reg_alpha': 0.29299574408476414, 'reg_lambda': 78.4385727964125}. Best is trial 34 with value: 0.8212290502793296.\n",
      "[I 2024-03-03 20:32:09,915] Trial 40 finished with value: 0.8044692737430168 and parameters: {'learning_rate': 0.04843272508909926, 'n_estimators': 997, 'max_depth': 6, 'min_child_weight': 2, 'subsample': 0.7369096069769697, 'colsample_bytree': 0.9437570894527276, 'reg_alpha': 0.1151529255879733, 'reg_lambda': 79.00022324497726}. Best is trial 34 with value: 0.8212290502793296.\n",
      "[I 2024-03-03 20:32:10,472] Trial 41 finished with value: 0.8212290502793296 and parameters: {'learning_rate': 0.03153576920526949, 'n_estimators': 826, 'max_depth': 5, 'min_child_weight': 1, 'subsample': 0.7183615770798915, 'colsample_bytree': 0.8846329848840557, 'reg_alpha': 0.33379694446833275, 'reg_lambda': 87.70322035127816}. Best is trial 34 with value: 0.8212290502793296.\n",
      "[I 2024-03-03 20:32:11,016] Trial 42 finished with value: 0.8156424581005587 and parameters: {'learning_rate': 0.026524510642133202, 'n_estimators': 789, 'max_depth': 5, 'min_child_weight': 1, 'subsample': 0.6114027269335155, 'colsample_bytree': 0.9548020384854567, 'reg_alpha': 0.4453730490964417, 'reg_lambda': 92.75860185741003}. Best is trial 34 with value: 0.8212290502793296.\n",
      "[I 2024-03-03 20:32:11,580] Trial 43 finished with value: 0.8100558659217877 and parameters: {'learning_rate': 0.057388024792347836, 'n_estimators': 836, 'max_depth': 6, 'min_child_weight': 2, 'subsample': 0.6835227419082781, 'colsample_bytree': 0.8867528947876299, 'reg_alpha': 0.347000358062257, 'reg_lambda': 87.73839215419162}. Best is trial 34 with value: 0.8212290502793296.\n",
      "[I 2024-03-03 20:32:12,043] Trial 44 finished with value: 0.7821229050279329 and parameters: {'learning_rate': 0.2617494621695946, 'n_estimators': 729, 'max_depth': 5, 'min_child_weight': 3, 'subsample': 0.7354617612220078, 'colsample_bytree': 0.8459231162395172, 'reg_alpha': 0.18262039733628427, 'reg_lambda': 94.46415745367194}. Best is trial 34 with value: 0.8212290502793296.\n",
      "[I 2024-03-03 20:32:12,507] Trial 45 finished with value: 0.7988826815642458 and parameters: {'learning_rate': 0.06646494712557871, 'n_estimators': 668, 'max_depth': 6, 'min_child_weight': 1, 'subsample': 0.6541568371721802, 'colsample_bytree': 0.50098751285645, 'reg_alpha': 0.5117694319776189, 'reg_lambda': 28.549753858129677}. Best is trial 34 with value: 0.8212290502793296.\n",
      "[I 2024-03-03 20:32:13,035] Trial 46 finished with value: 0.8100558659217877 and parameters: {'learning_rate': 0.042413272055765575, 'n_estimators': 879, 'max_depth': 4, 'min_child_weight': 2, 'subsample': 0.6906438184125369, 'colsample_bytree': 0.7961436791788777, 'reg_alpha': 0.4117728905296957, 'reg_lambda': 83.98929388913629}. Best is trial 34 with value: 0.8212290502793296.\n",
      "[I 2024-03-03 20:32:13,458] Trial 47 finished with value: 0.8156424581005587 and parameters: {'learning_rate': 0.023360302627143545, 'n_estimators': 590, 'max_depth': 5, 'min_child_weight': 1, 'subsample': 0.8075390843753197, 'colsample_bytree': 0.7300432998981512, 'reg_alpha': 0.5727202563666522, 'reg_lambda': 74.99021857405113}. Best is trial 34 with value: 0.8212290502793296.\n",
      "[I 2024-03-03 20:32:14,068] Trial 48 finished with value: 0.7932960893854749 and parameters: {'learning_rate': 0.09238288057904032, 'n_estimators': 957, 'max_depth': 5, 'min_child_weight': 3, 'subsample': 0.752716023661002, 'colsample_bytree': 0.8311635689259653, 'reg_alpha': 0.27197134776238385, 'reg_lambda': 79.85365854296622}. Best is trial 34 with value: 0.8212290502793296.\n",
      "[I 2024-03-03 20:32:14,498] Trial 49 finished with value: 0.7877094972067039 and parameters: {'learning_rate': 0.02054969358032593, 'n_estimators': 781, 'max_depth': 4, 'min_child_weight': 8, 'subsample': 0.5257990273093396, 'colsample_bytree': 0.693086133121824, 'reg_alpha': 0.34073270443276193, 'reg_lambda': 95.84156968418216}. Best is trial 34 with value: 0.8212290502793296.\n",
      "[I 2024-03-03 20:32:14,976] Trial 50 finished with value: 0.8212290502793296 and parameters: {'learning_rate': 0.03963150020726122, 'n_estimators': 661, 'max_depth': 8, 'min_child_weight': 2, 'subsample': 0.5997863534905996, 'colsample_bytree': 0.8970972104958618, 'reg_alpha': 0.4591601489430808, 'reg_lambda': 90.40464127290377}. Best is trial 34 with value: 0.8212290502793296.\n",
      "[I 2024-03-03 20:32:15,428] Trial 51 finished with value: 0.8044692737430168 and parameters: {'learning_rate': 0.04740885580584698, 'n_estimators': 649, 'max_depth': 8, 'min_child_weight': 2, 'subsample': 0.6231358986389686, 'colsample_bytree': 0.8603256663556098, 'reg_alpha': 0.46321865129937856, 'reg_lambda': 89.74911708908905}. Best is trial 34 with value: 0.8212290502793296.\n",
      "[I 2024-03-03 20:32:15,922] Trial 52 finished with value: 0.8156424581005587 and parameters: {'learning_rate': 0.030694034195376616, 'n_estimators': 734, 'max_depth': 9, 'min_child_weight': 3, 'subsample': 0.5861113924462076, 'colsample_bytree': 0.9031471468307114, 'reg_alpha': 0.4839236711815564, 'reg_lambda': 87.17503083939272}. Best is trial 34 with value: 0.8212290502793296.\n",
      "[I 2024-03-03 20:32:16,431] Trial 53 finished with value: 0.8212290502793296 and parameters: {'learning_rate': 0.06826056090753602, 'n_estimators': 679, 'max_depth': 7, 'min_child_weight': 1, 'subsample': 0.5895923237358551, 'colsample_bytree': 0.8881162214760326, 'reg_alpha': 0.4213246569707615, 'reg_lambda': 92.54604328131958}. Best is trial 34 with value: 0.8212290502793296.\n",
      "[I 2024-03-03 20:32:16,953] Trial 54 finished with value: 0.7988826815642458 and parameters: {'learning_rate': 0.07535597855174181, 'n_estimators': 682, 'max_depth': 8, 'min_child_weight': 1, 'subsample': 0.5942329323590713, 'colsample_bytree': 0.9660137664522926, 'reg_alpha': 0.6511949320453849, 'reg_lambda': 99.47836330969398}. Best is trial 34 with value: 0.8212290502793296.\n",
      "[I 2024-03-03 20:32:17,441] Trial 55 finished with value: 0.8100558659217877 and parameters: {'learning_rate': 0.08918527999219143, 'n_estimators': 641, 'max_depth': 8, 'min_child_weight': 1, 'subsample': 0.5381273356268691, 'colsample_bytree': 0.8888737303383916, 'reg_alpha': 0.4252394852911787, 'reg_lambda': 83.08748983500696}. Best is trial 34 with value: 0.8212290502793296.\n",
      "[I 2024-03-03 20:32:17,912] Trial 56 finished with value: 0.8212290502793296 and parameters: {'learning_rate': 0.03990952783550807, 'n_estimators': 598, 'max_depth': 7, 'min_child_weight': 1, 'subsample': 0.5733485169962658, 'colsample_bytree': 0.9256798544352565, 'reg_alpha': 0.5834297111005106, 'reg_lambda': 92.89071218743044}. Best is trial 34 with value: 0.8212290502793296.\n",
      "[I 2024-03-03 20:32:18,371] Trial 57 finished with value: 0.8212290502793296 and parameters: {'learning_rate': 0.06696803581674207, 'n_estimators': 597, 'max_depth': 7, 'min_child_weight': 1, 'subsample': 0.5683113460091808, 'colsample_bytree': 0.971519548375456, 'reg_alpha': 0.7274832620685454, 'reg_lambda': 75.62355205045554}. Best is trial 34 with value: 0.8212290502793296.\n",
      "[I 2024-03-03 20:32:18,839] Trial 58 finished with value: 0.7988826815642458 and parameters: {'learning_rate': 0.15226066753335096, 'n_estimators': 607, 'max_depth': 7, 'min_child_weight': 1, 'subsample': 0.5452716100278038, 'colsample_bytree': 0.9261612963009577, 'reg_alpha': 0.6677465582026567, 'reg_lambda': 72.98156707212543}. Best is trial 34 with value: 0.8212290502793296.\n",
      "[I 2024-03-03 20:32:19,247] Trial 59 finished with value: 0.8212290502793296 and parameters: {'learning_rate': 0.06559333297255229, 'n_estimators': 449, 'max_depth': 7, 'min_child_weight': 1, 'subsample': 0.5712721255011949, 'colsample_bytree': 0.9732496673411979, 'reg_alpha': 0.7833690211288481, 'reg_lambda': 94.17864132752007}. Best is trial 34 with value: 0.8212290502793296.\n",
      "[I 2024-03-03 20:32:19,693] Trial 60 finished with value: 0.7821229050279329 and parameters: {'learning_rate': 0.11583451338899209, 'n_estimators': 565, 'max_depth': 8, 'min_child_weight': 1, 'subsample': 0.516135931941842, 'colsample_bytree': 0.9497542092151695, 'reg_alpha': 0.6994389659208413, 'reg_lambda': 9.25552963102755}. Best is trial 34 with value: 0.8212290502793296.\n",
      "[I 2024-03-03 20:32:20,036] Trial 61 finished with value: 0.8156424581005587 and parameters: {'learning_rate': 0.0677369583284061, 'n_estimators': 407, 'max_depth': 7, 'min_child_weight': 1, 'subsample': 0.5726062057548342, 'colsample_bytree': 0.976603975273407, 'reg_alpha': 0.7479663051655884, 'reg_lambda': 93.86223196651672}. Best is trial 34 with value: 0.8212290502793296.\n",
      "[I 2024-03-03 20:32:20,331] Trial 62 finished with value: 0.8100558659217877 and parameters: {'learning_rate': 0.05562415740061821, 'n_estimators': 356, 'max_depth': 7, 'min_child_weight': 1, 'subsample': 0.5066868706102562, 'colsample_bytree': 0.9343855685608209, 'reg_alpha': 0.733553375350907, 'reg_lambda': 96.559898044612}. Best is trial 34 with value: 0.8212290502793296.\n",
      "[I 2024-03-03 20:32:20,698] Trial 63 finished with value: 0.8156424581005587 and parameters: {'learning_rate': 0.08425494189419047, 'n_estimators': 444, 'max_depth': 7, 'min_child_weight': 1, 'subsample': 0.6051018087778212, 'colsample_bytree': 0.9154375692537218, 'reg_alpha': 0.8161590385719579, 'reg_lambda': 84.05982328040415}. Best is trial 34 with value: 0.8212290502793296.\n",
      "[I 2024-03-03 20:32:21,125] Trial 64 finished with value: 0.8212290502793296 and parameters: {'learning_rate': 0.09983740233178719, 'n_estimators': 517, 'max_depth': 8, 'min_child_weight': 1, 'subsample': 0.5512438447177888, 'colsample_bytree': 0.9732424831360057, 'reg_alpha': 0.6246405470804799, 'reg_lambda': 93.51811363734839}. Best is trial 34 with value: 0.8212290502793296.\n",
      "[I 2024-03-03 20:32:21,553] Trial 65 finished with value: 0.8212290502793296 and parameters: {'learning_rate': 0.04248841485608615, 'n_estimators': 587, 'max_depth': 7, 'min_child_weight': 2, 'subsample': 0.5919159541920653, 'colsample_bytree': 0.9926922983092926, 'reg_alpha': 0.8417976158844691, 'reg_lambda': 85.65929750696216}. Best is trial 34 with value: 0.8212290502793296.\n",
      "[I 2024-03-03 20:32:21,916] Trial 66 finished with value: 0.8156424581005587 and parameters: {'learning_rate': 0.07097993579105391, 'n_estimators': 489, 'max_depth': 8, 'min_child_weight': 2, 'subsample': 0.577631444925568, 'colsample_bytree': 0.8945443003181796, 'reg_alpha': 0.6037444367625038, 'reg_lambda': 80.67103371851373}. Best is trial 34 with value: 0.8212290502793296.\n",
      "[I 2024-03-03 20:32:22,269] Trial 67 finished with value: 0.8100558659217877 and parameters: {'learning_rate': 0.06104154671414981, 'n_estimators': 617, 'max_depth': 9, 'min_child_weight': 10, 'subsample': 0.6198816377345644, 'colsample_bytree': 0.9637950769544799, 'reg_alpha': 0.3265976950823858, 'reg_lambda': 91.45437276959588}. Best is trial 34 with value: 0.8212290502793296.\n",
      "[I 2024-03-03 20:32:22,684] Trial 68 finished with value: 0.8212290502793296 and parameters: {'learning_rate': 0.03977524668795289, 'n_estimators': 533, 'max_depth': 7, 'min_child_weight': 1, 'subsample': 0.5306758426027046, 'colsample_bytree': 0.9207010287094262, 'reg_alpha': 0.7253007409403593, 'reg_lambda': 75.66734991496028}. Best is trial 34 with value: 0.8212290502793296.\n",
      "[I 2024-03-03 20:32:23,049] Trial 69 finished with value: 0.8212290502793296 and parameters: {'learning_rate': 0.05123039031115234, 'n_estimators': 477, 'max_depth': 7, 'min_child_weight': 3, 'subsample': 0.6407037277826917, 'colsample_bytree': 0.9404585250256863, 'reg_alpha': 0.7810740165536195, 'reg_lambda': 97.62595900936465}. Best is trial 34 with value: 0.8212290502793296.\n",
      "[I 2024-03-03 20:32:23,388] Trial 70 finished with value: 0.7932960893854749 and parameters: {'learning_rate': 0.017678147088545135, 'n_estimators': 566, 'max_depth': 7, 'min_child_weight': 7, 'subsample': 0.5485569567273487, 'colsample_bytree': 0.8524287338074341, 'reg_alpha': 0.9494700465680452, 'reg_lambda': 86.45475604147978}. Best is trial 34 with value: 0.8212290502793296.\n",
      "[I 2024-03-03 20:32:23,798] Trial 71 finished with value: 0.7988826815642458 and parameters: {'learning_rate': 0.1019458433279608, 'n_estimators': 521, 'max_depth': 8, 'min_child_weight': 9, 'subsample': 0.5576123305525187, 'colsample_bytree': 0.9743471161111489, 'reg_alpha': 0.6154163773711707, 'reg_lambda': 92.00897455460306}. Best is trial 34 with value: 0.8212290502793296.\n",
      "[I 2024-03-03 20:32:24,131] Trial 72 finished with value: 0.8212290502793296 and parameters: {'learning_rate': 0.0915573354337256, 'n_estimators': 373, 'max_depth': 8, 'min_child_weight': 1, 'subsample': 0.5775419978934225, 'colsample_bytree': 0.9999221444265646, 'reg_alpha': 0.6291708934877001, 'reg_lambda': 94.76911527296836}. Best is trial 34 with value: 0.8212290502793296.\n",
      "[I 2024-03-03 20:32:24,464] Trial 73 finished with value: 0.7988826815642458 and parameters: {'learning_rate': 0.06146240707327465, 'n_estimators': 440, 'max_depth': 9, 'min_child_weight': 2, 'subsample': 0.6030085370444758, 'colsample_bytree': 0.8737388659257619, 'reg_alpha': 0.5374499362465939, 'reg_lambda': 88.7690757986189}. Best is trial 34 with value: 0.8212290502793296.\n",
      "[I 2024-03-03 20:32:24,740] Trial 74 finished with value: 0.8212290502793296 and parameters: {'learning_rate': 0.07552997933569146, 'n_estimators': 321, 'max_depth': 8, 'min_child_weight': 1, 'subsample': 0.5018874431712717, 'colsample_bytree': 0.9571865180653447, 'reg_alpha': 0.7695696841373255, 'reg_lambda': 68.57165998689061}. Best is trial 34 with value: 0.8212290502793296.\n",
      "[I 2024-03-03 20:32:25,265] Trial 75 finished with value: 0.8212290502793296 and parameters: {'learning_rate': 0.03598186477267394, 'n_estimators': 692, 'max_depth': 7, 'min_child_weight': 1, 'subsample': 0.5584395029717167, 'colsample_bytree': 0.9804728318157265, 'reg_alpha': 0.6969020933349533, 'reg_lambda': 82.0116552551758}. Best is trial 34 with value: 0.8212290502793296.\n",
      "[I 2024-03-03 20:32:25,660] Trial 76 finished with value: 0.8268156424581006 and parameters: {'learning_rate': 0.05076725610038065, 'n_estimators': 513, 'max_depth': 8, 'min_child_weight': 1, 'subsample': 0.5234593365457169, 'colsample_bytree': 0.9039714759184293, 'reg_alpha': 0.5931634534883738, 'reg_lambda': 92.5791140113161}. Best is trial 76 with value: 0.8268156424581006.\n",
      "[I 2024-03-03 20:32:26,132] Trial 77 finished with value: 0.8212290502793296 and parameters: {'learning_rate': 0.04913869075879518, 'n_estimators': 622, 'max_depth': 6, 'min_child_weight': 2, 'subsample': 0.5364928710103949, 'colsample_bytree': 0.905609993432242, 'reg_alpha': 0.23982789456200662, 'reg_lambda': 99.86845522121689}. Best is trial 76 with value: 0.8268156424581006.\n",
      "[I 2024-03-03 20:32:26,527] Trial 78 finished with value: 0.8156424581005587 and parameters: {'learning_rate': 0.016202560799305998, 'n_estimators': 575, 'max_depth': 7, 'min_child_weight': 2, 'subsample': 0.5261015010344899, 'colsample_bytree': 0.9278797576154577, 'reg_alpha': 0.48549252026173745, 'reg_lambda': 88.05896401291979}. Best is trial 76 with value: 0.8268156424581006.\n",
      "[I 2024-03-03 20:32:27,067] Trial 79 finished with value: 0.8044692737430168 and parameters: {'learning_rate': 0.08345320979572554, 'n_estimators': 661, 'max_depth': 8, 'min_child_weight': 1, 'subsample': 0.7180238352542394, 'colsample_bytree': 0.8848758266674854, 'reg_alpha': 0.37782946494621267, 'reg_lambda': 96.78578745566496}. Best is trial 76 with value: 0.8268156424581006.\n",
      "[I 2024-03-03 20:32:27,563] Trial 80 finished with value: 0.8156424581005587 and parameters: {'learning_rate': 0.038323513810915186, 'n_estimators': 706, 'max_depth': 6, 'min_child_weight': 2, 'subsample': 0.5168033999120588, 'colsample_bytree': 0.8619164131032429, 'reg_alpha': 0.5899102719117769, 'reg_lambda': 92.62467966156524}. Best is trial 76 with value: 0.8268156424581006.\n",
      "[I 2024-03-03 20:32:27,973] Trial 81 finished with value: 0.8268156424581006 and parameters: {'learning_rate': 0.06379977437284005, 'n_estimators': 505, 'max_depth': 8, 'min_child_weight': 1, 'subsample': 0.5493478812281352, 'colsample_bytree': 0.9438001091877524, 'reg_alpha': 0.6333387510694449, 'reg_lambda': 92.73932634187908}. Best is trial 76 with value: 0.8268156424581006.\n",
      "[I 2024-03-03 20:32:28,687] Trial 82 finished with value: 0.8212290502793296 and parameters: {'learning_rate': 0.054135084655694395, 'n_estimators': 542, 'max_depth': 9, 'min_child_weight': 1, 'subsample': 0.5706760742562936, 'colsample_bytree': 0.9136749094617048, 'reg_alpha': 0.5591377920710037, 'reg_lambda': 88.73580380224259}. Best is trial 76 with value: 0.8268156424581006.\n",
      "[I 2024-03-03 20:32:29,066] Trial 83 finished with value: 0.8268156424581006 and parameters: {'learning_rate': 0.06420344431229372, 'n_estimators': 451, 'max_depth': 8, 'min_child_weight': 1, 'subsample': 0.5826931614493766, 'colsample_bytree': 0.948943428942425, 'reg_alpha': 0.527004287505754, 'reg_lambda': 91.52484809927648}. Best is trial 76 with value: 0.8268156424581006.\n",
      "[I 2024-03-03 20:32:29,508] Trial 84 finished with value: 0.8156424581005587 and parameters: {'learning_rate': 0.031580988312385636, 'n_estimators': 502, 'max_depth': 8, 'min_child_weight': 1, 'subsample': 0.5851752433455675, 'colsample_bytree': 0.9431551694162975, 'reg_alpha': 0.5369683027115371, 'reg_lambda': 85.00781777006475}. Best is trial 76 with value: 0.8268156424581006.\n",
      "[I 2024-03-03 20:32:29,904] Trial 85 finished with value: 0.8156424581005587 and parameters: {'learning_rate': 0.04769869872674532, 'n_estimators': 471, 'max_depth': 8, 'min_child_weight': 2, 'subsample': 0.7686224997840466, 'colsample_bytree': 0.8976988697435273, 'reg_alpha': 0.517141454576289, 'reg_lambda': 90.47567272436159}. Best is trial 76 with value: 0.8268156424581006.\n",
      "[I 2024-03-03 20:32:30,359] Trial 86 finished with value: 0.7877094972067039 and parameters: {'learning_rate': 0.06082886287058899, 'n_estimators': 551, 'max_depth': 8, 'min_child_weight': 1, 'subsample': 0.6124244014026171, 'colsample_bytree': 0.8787226173095386, 'reg_alpha': 0.4751359849979184, 'reg_lambda': 76.93115251802163}. Best is trial 76 with value: 0.8268156424581006.\n",
      "[I 2024-03-03 20:32:30,867] Trial 87 finished with value: 0.8044692737430168 and parameters: {'learning_rate': 0.19001810567194638, 'n_estimators': 634, 'max_depth': 9, 'min_child_weight': 1, 'subsample': 0.598533791796629, 'colsample_bytree': 0.9329849509574846, 'reg_alpha': 0.4360469345101698, 'reg_lambda': 81.33208799295811}. Best is trial 76 with value: 0.8268156424581006.\n",
      "[I 2024-03-03 20:32:31,373] Trial 88 finished with value: 0.7988826815642458 and parameters: {'learning_rate': 0.01443334045910407, 'n_estimators': 756, 'max_depth': 8, 'min_child_weight': 2, 'subsample': 0.5419980985054692, 'colsample_bytree': 0.5207060316638952, 'reg_alpha': 0.6475942983982304, 'reg_lambda': 72.01090008843173}. Best is trial 76 with value: 0.8268156424581006.\n",
      "[I 2024-03-03 20:32:31,876] Trial 89 finished with value: 0.8044692737430168 and parameters: {'learning_rate': 0.07298427138222408, 'n_estimators': 597, 'max_depth': 8, 'min_child_weight': 1, 'subsample': 0.6345084426206424, 'colsample_bytree': 0.9535841871379748, 'reg_alpha': 0.18723404097938967, 'reg_lambda': 33.39345722643256}. Best is trial 76 with value: 0.8268156424581006.\n",
      "[I 2024-03-03 20:32:32,382] Trial 90 finished with value: 0.8100558659217877 and parameters: {'learning_rate': 0.04575847473757317, 'n_estimators': 669, 'max_depth': 8, 'min_child_weight': 2, 'subsample': 0.6691910258359033, 'colsample_bytree': 0.911280249376438, 'reg_alpha': 0.2818337695275681, 'reg_lambda': 97.84075432609647}. Best is trial 76 with value: 0.8268156424581006.\n",
      "[I 2024-03-03 20:32:32,744] Trial 91 finished with value: 0.8212290502793296 and parameters: {'learning_rate': 0.06821074364990808, 'n_estimators': 434, 'max_depth': 7, 'min_child_weight': 1, 'subsample': 0.5831329807583975, 'colsample_bytree': 0.9898037522652616, 'reg_alpha': 0.5562552516418473, 'reg_lambda': 95.12567215984143}. Best is trial 76 with value: 0.8268156424581006.\n",
      "[I 2024-03-03 20:32:33,098] Trial 92 finished with value: 0.8212290502793296 and parameters: {'learning_rate': 0.08037271832339102, 'n_estimators': 415, 'max_depth': 7, 'min_child_weight': 1, 'subsample': 0.5628638951742269, 'colsample_bytree': 0.9604376219286688, 'reg_alpha': 0.589286452867537, 'reg_lambda': 91.13458206671537}. Best is trial 76 with value: 0.8268156424581006.\n",
      "[I 2024-03-03 20:32:33,506] Trial 93 finished with value: 0.8100558659217877 and parameters: {'learning_rate': 0.06316417540840671, 'n_estimators': 467, 'max_depth': 7, 'min_child_weight': 1, 'subsample': 0.7036615579496104, 'colsample_bytree': 0.946130692692119, 'reg_alpha': 0.6733013198042244, 'reg_lambda': 93.07900421042191}. Best is trial 76 with value: 0.8268156424581006.\n",
      "[I 2024-03-03 20:32:33,922] Trial 94 finished with value: 0.8100558659217877 and parameters: {'learning_rate': 0.026723585284744868, 'n_estimators': 514, 'max_depth': 6, 'min_child_weight': 1, 'subsample': 0.5707077605086494, 'colsample_bytree': 0.8920966920973541, 'reg_alpha': 0.32033342860107905, 'reg_lambda': 86.33886202550809}. Best is trial 76 with value: 0.8268156424581006.\n",
      "[I 2024-03-03 20:32:34,317] Trial 95 finished with value: 0.8212290502793296 and parameters: {'learning_rate': 0.05527622587045008, 'n_estimators': 490, 'max_depth': 8, 'min_child_weight': 2, 'subsample': 0.5536671333287588, 'colsample_bytree': 0.9242850732152862, 'reg_alpha': 0.39968176034708897, 'reg_lambda': 83.47558273260279}. Best is trial 76 with value: 0.8268156424581006.\n",
      "[I 2024-03-03 20:32:34,923] Trial 96 finished with value: 0.8044692737430168 and parameters: {'learning_rate': 0.03885452160712368, 'n_estimators': 824, 'max_depth': 7, 'min_child_weight': 2, 'subsample': 0.6454745180177988, 'colsample_bytree': 0.8674444269881832, 'reg_alpha': 0.3654424526339981, 'reg_lambda': 95.11749113653353}. Best is trial 76 with value: 0.8268156424581006.\n",
      "[I 2024-03-03 20:32:35,315] Trial 97 finished with value: 0.8100558659217877 and parameters: {'learning_rate': 0.0309929621375723, 'n_estimators': 452, 'max_depth': 7, 'min_child_weight': 1, 'subsample': 0.6164392909336023, 'colsample_bytree': 0.9368438212389997, 'reg_alpha': 0.7152272395124012, 'reg_lambda': 87.9078553148452}. Best is trial 76 with value: 0.8268156424581006.\n",
      "[I 2024-03-03 20:32:35,635] Trial 98 finished with value: 0.8268156424581006 and parameters: {'learning_rate': 0.05166308650099312, 'n_estimators': 402, 'max_depth': 6, 'min_child_weight': 4, 'subsample': 0.8771621305464525, 'colsample_bytree': 0.840140916891382, 'reg_alpha': 0.508756429954859, 'reg_lambda': 98.24366419468836}. Best is trial 76 with value: 0.8268156424581006.\n",
      "[I 2024-03-03 20:32:36,199] Trial 99 finished with value: 0.7988826815642458 and parameters: {'learning_rate': 0.04549486571565962, 'n_estimators': 798, 'max_depth': 6, 'min_child_weight': 4, 'subsample': 0.8574582821046586, 'colsample_bytree': 0.814446278602753, 'reg_alpha': 0.5077498520773979, 'reg_lambda': 97.73809760225225}. Best is trial 76 with value: 0.8268156424581006.\n"
     ]
    },
    {
     "name": "stdout",
     "output_type": "stream",
     "text": [
      "Number of finished trials: 100\n",
      "Best trial: {'learning_rate': 0.05076725610038065, 'n_estimators': 513, 'max_depth': 8, 'min_child_weight': 1, 'subsample': 0.5234593365457169, 'colsample_bytree': 0.9039714759184293, 'reg_alpha': 0.5931634534883738, 'reg_lambda': 92.5791140113161}\n"
     ]
    }
   ],
   "source": [
    "study = opt.create_study(direction='maximize')\n",
    "study.optimize(objective, n_trials=100)\n",
    "\n",
    "print('Number of finished trials:', len(study.trials))\n",
    "print('Best trial:', study.best_trial.params)\n"
   ],
   "metadata": {
    "collapsed": false,
    "ExecuteTime": {
     "end_time": "2024-03-03T19:32:36.216607Z",
     "start_time": "2024-03-03T19:31:53.067857Z"
    }
   },
   "id": "95e1458faa254e3f",
   "execution_count": 40
  },
  {
   "cell_type": "code",
   "outputs": [
    {
     "name": "stdout",
     "output_type": "stream",
     "text": [
      "Best trial accuracy: 0.8268156424581006\n"
     ]
    }
   ],
   "source": [
    "best_trial = study.best_trial\n",
    "print(f\"Best trial accuracy: {best_trial.value}\")"
   ],
   "metadata": {
    "collapsed": false,
    "ExecuteTime": {
     "end_time": "2024-03-03T19:32:44.385768Z",
     "start_time": "2024-03-03T19:32:44.381890Z"
    }
   },
   "id": "e34bcdb79ff39629",
   "execution_count": 41
  },
  {
   "cell_type": "markdown",
   "source": [
    "### Generate Results"
   ],
   "metadata": {
    "collapsed": false
   },
   "id": "51110c2bfd963af1"
  },
  {
   "cell_type": "code",
   "outputs": [
    {
     "data": {
      "text/plain": "XGBClassifier(base_score=None, booster=None, callbacks=None,\n              colsample_bylevel=None, colsample_bynode=None,\n              colsample_bytree=0.9039714759184293, early_stopping_rounds=None,\n              enable_categorical=False, eval_metric=None, feature_types=None,\n              gamma=None, gpu_id=None, grow_policy=None, importance_type=None,\n              interaction_constraints=None, learning_rate=0.05076725610038065,\n              max_bin=None, max_cat_threshold=None, max_cat_to_onehot=None,\n              max_delta_step=None, max_depth=8, max_leaves=None,\n              min_child_weight=1, missing=nan, monotone_constraints=None,\n              n_estimators=513, n_jobs=None, num_parallel_tree=None,\n              predictor=None, random_state=None, ...)",
      "text/html": "<style>#sk-container-id-1 {color: black;}#sk-container-id-1 pre{padding: 0;}#sk-container-id-1 div.sk-toggleable {background-color: white;}#sk-container-id-1 label.sk-toggleable__label {cursor: pointer;display: block;width: 100%;margin-bottom: 0;padding: 0.3em;box-sizing: border-box;text-align: center;}#sk-container-id-1 label.sk-toggleable__label-arrow:before {content: \"▸\";float: left;margin-right: 0.25em;color: #696969;}#sk-container-id-1 label.sk-toggleable__label-arrow:hover:before {color: black;}#sk-container-id-1 div.sk-estimator:hover label.sk-toggleable__label-arrow:before {color: black;}#sk-container-id-1 div.sk-toggleable__content {max-height: 0;max-width: 0;overflow: hidden;text-align: left;background-color: #f0f8ff;}#sk-container-id-1 div.sk-toggleable__content pre {margin: 0.2em;color: black;border-radius: 0.25em;background-color: #f0f8ff;}#sk-container-id-1 input.sk-toggleable__control:checked~div.sk-toggleable__content {max-height: 200px;max-width: 100%;overflow: auto;}#sk-container-id-1 input.sk-toggleable__control:checked~label.sk-toggleable__label-arrow:before {content: \"▾\";}#sk-container-id-1 div.sk-estimator input.sk-toggleable__control:checked~label.sk-toggleable__label {background-color: #d4ebff;}#sk-container-id-1 div.sk-label input.sk-toggleable__control:checked~label.sk-toggleable__label {background-color: #d4ebff;}#sk-container-id-1 input.sk-hidden--visually {border: 0;clip: rect(1px 1px 1px 1px);clip: rect(1px, 1px, 1px, 1px);height: 1px;margin: -1px;overflow: hidden;padding: 0;position: absolute;width: 1px;}#sk-container-id-1 div.sk-estimator {font-family: monospace;background-color: #f0f8ff;border: 1px dotted black;border-radius: 0.25em;box-sizing: border-box;margin-bottom: 0.5em;}#sk-container-id-1 div.sk-estimator:hover {background-color: #d4ebff;}#sk-container-id-1 div.sk-parallel-item::after {content: \"\";width: 100%;border-bottom: 1px solid gray;flex-grow: 1;}#sk-container-id-1 div.sk-label:hover label.sk-toggleable__label {background-color: #d4ebff;}#sk-container-id-1 div.sk-serial::before {content: \"\";position: absolute;border-left: 1px solid gray;box-sizing: border-box;top: 0;bottom: 0;left: 50%;z-index: 0;}#sk-container-id-1 div.sk-serial {display: flex;flex-direction: column;align-items: center;background-color: white;padding-right: 0.2em;padding-left: 0.2em;position: relative;}#sk-container-id-1 div.sk-item {position: relative;z-index: 1;}#sk-container-id-1 div.sk-parallel {display: flex;align-items: stretch;justify-content: center;background-color: white;position: relative;}#sk-container-id-1 div.sk-item::before, #sk-container-id-1 div.sk-parallel-item::before {content: \"\";position: absolute;border-left: 1px solid gray;box-sizing: border-box;top: 0;bottom: 0;left: 50%;z-index: -1;}#sk-container-id-1 div.sk-parallel-item {display: flex;flex-direction: column;z-index: 1;position: relative;background-color: white;}#sk-container-id-1 div.sk-parallel-item:first-child::after {align-self: flex-end;width: 50%;}#sk-container-id-1 div.sk-parallel-item:last-child::after {align-self: flex-start;width: 50%;}#sk-container-id-1 div.sk-parallel-item:only-child::after {width: 0;}#sk-container-id-1 div.sk-dashed-wrapped {border: 1px dashed gray;margin: 0 0.4em 0.5em 0.4em;box-sizing: border-box;padding-bottom: 0.4em;background-color: white;}#sk-container-id-1 div.sk-label label {font-family: monospace;font-weight: bold;display: inline-block;line-height: 1.2em;}#sk-container-id-1 div.sk-label-container {text-align: center;}#sk-container-id-1 div.sk-container {/* jupyter's `normalize.less` sets `[hidden] { display: none; }` but bootstrap.min.css set `[hidden] { display: none !important; }` so we also need the `!important` here to be able to override the default hidden behavior on the sphinx rendered scikit-learn.org. See: https://github.com/scikit-learn/scikit-learn/issues/21755 */display: inline-block !important;position: relative;}#sk-container-id-1 div.sk-text-repr-fallback {display: none;}</style><div id=\"sk-container-id-1\" class=\"sk-top-container\"><div class=\"sk-text-repr-fallback\"><pre>XGBClassifier(base_score=None, booster=None, callbacks=None,\n              colsample_bylevel=None, colsample_bynode=None,\n              colsample_bytree=0.9039714759184293, early_stopping_rounds=None,\n              enable_categorical=False, eval_metric=None, feature_types=None,\n              gamma=None, gpu_id=None, grow_policy=None, importance_type=None,\n              interaction_constraints=None, learning_rate=0.05076725610038065,\n              max_bin=None, max_cat_threshold=None, max_cat_to_onehot=None,\n              max_delta_step=None, max_depth=8, max_leaves=None,\n              min_child_weight=1, missing=nan, monotone_constraints=None,\n              n_estimators=513, n_jobs=None, num_parallel_tree=None,\n              predictor=None, random_state=None, ...)</pre><b>In a Jupyter environment, please rerun this cell to show the HTML representation or trust the notebook. <br />On GitHub, the HTML representation is unable to render, please try loading this page with nbviewer.org.</b></div><div class=\"sk-container\" hidden><div class=\"sk-item\"><div class=\"sk-estimator sk-toggleable\"><input class=\"sk-toggleable__control sk-hidden--visually\" id=\"sk-estimator-id-1\" type=\"checkbox\" checked><label for=\"sk-estimator-id-1\" class=\"sk-toggleable__label sk-toggleable__label-arrow\">XGBClassifier</label><div class=\"sk-toggleable__content\"><pre>XGBClassifier(base_score=None, booster=None, callbacks=None,\n              colsample_bylevel=None, colsample_bynode=None,\n              colsample_bytree=0.9039714759184293, early_stopping_rounds=None,\n              enable_categorical=False, eval_metric=None, feature_types=None,\n              gamma=None, gpu_id=None, grow_policy=None, importance_type=None,\n              interaction_constraints=None, learning_rate=0.05076725610038065,\n              max_bin=None, max_cat_threshold=None, max_cat_to_onehot=None,\n              max_delta_step=None, max_depth=8, max_leaves=None,\n              min_child_weight=1, missing=nan, monotone_constraints=None,\n              n_estimators=513, n_jobs=None, num_parallel_tree=None,\n              predictor=None, random_state=None, ...)</pre></div></div></div></div></div>"
     },
     "execution_count": 42,
     "metadata": {},
     "output_type": "execute_result"
    }
   ],
   "source": [
    "model.set_params(**best_trial.params)\n",
    "model.fit(X_train, y_train)"
   ],
   "metadata": {
    "collapsed": false,
    "ExecuteTime": {
     "end_time": "2024-03-03T19:32:46.570859Z",
     "start_time": "2024-03-03T19:32:46.198724Z"
    }
   },
   "id": "b226ecb6aedbb097",
   "execution_count": 42
  },
  {
   "cell_type": "code",
   "outputs": [],
   "source": [
    "y_pred = model.predict(X_test)"
   ],
   "metadata": {
    "collapsed": false,
    "ExecuteTime": {
     "end_time": "2024-03-03T19:32:47.266652Z",
     "start_time": "2024-03-03T19:32:47.261143Z"
    }
   },
   "id": "f6fdd55ef8d83270",
   "execution_count": 43
  },
  {
   "cell_type": "code",
   "outputs": [
    {
     "name": "stdout",
     "output_type": "stream",
     "text": [
      "Accuracy: 0.83\n"
     ]
    }
   ],
   "source": [
    "accuracy = accuracy_score(y_test, y_pred)\n",
    "print(f\"Accuracy: {accuracy:.2f}\")"
   ],
   "metadata": {
    "collapsed": false,
    "ExecuteTime": {
     "end_time": "2024-03-03T23:52:09.752334Z",
     "start_time": "2024-03-03T23:52:09.746063Z"
    }
   },
   "id": "b9bd22a2528c3470",
   "execution_count": 48
  },
  {
   "cell_type": "code",
   "outputs": [],
   "source": [
    "submission_test = model.predict(to_test)\n",
    "submission_test = pd.Series(submission_test, to_test.index, name='Survived')\n",
    "# save submission\n",
    "submission_test.to_csv('submission_test.csv') "
   ],
   "metadata": {
    "collapsed": false,
    "ExecuteTime": {
     "end_time": "2024-03-03T23:52:11.354405Z",
     "start_time": "2024-03-03T23:52:11.345901Z"
    }
   },
   "id": "d03f1dc12d6486a8",
   "execution_count": 49
  },
  {
   "cell_type": "markdown",
   "source": [
    "## RandomForestClassifier"
   ],
   "metadata": {
    "collapsed": false
   },
   "id": "ab53aa8a3a177d5b"
  },
  {
   "cell_type": "code",
   "outputs": [],
   "source": [
    "from sklearn.ensemble import RandomForestClassifier\n",
    "\n",
    "\n",
    "def objective(trial):\n",
    "    param = {\n",
    "        'n_estimators': trial.suggest_int('n_estimators', 100, 1000),\n",
    "        'max_depth': trial.suggest_int('max_depth', 2, 32),\n",
    "        'min_samples_split': trial.suggest_int('min_samples_split', 2, 10),\n",
    "        'min_samples_leaf': trial.suggest_int('min_samples_leaf', 1, 10),\n",
    "        'max_features': trial.suggest_categorical('max_features', ['sqrt', 'log2', None]),\n",
    "        'bootstrap': trial.suggest_categorical('bootstrap', [True, False]),\n",
    "    }\n",
    "\n",
    "    model = RandomForestClassifier(**param, random_state=42)\n",
    "    model.fit(X_train, y_train)\n",
    "    preds = model.predict(X_test)\n",
    "    accuracy = accuracy_score(y_test, preds)\n",
    "    \n",
    "    return accuracy"
   ],
   "metadata": {
    "collapsed": false,
    "ExecuteTime": {
     "end_time": "2024-03-03T02:37:25.461650Z",
     "start_time": "2024-03-03T02:37:25.455567Z"
    }
   },
   "id": "d02c3644b61de1a1",
   "execution_count": 61
  },
  {
   "cell_type": "code",
   "outputs": [
    {
     "name": "stderr",
     "output_type": "stream",
     "text": [
      "[I 2024-03-03 03:37:25,468] A new study created in memory with name: no-name-33bfe8fc-3f68-4a4e-bbef-4fde57370c64\n",
      "[I 2024-03-03 03:37:26,810] Trial 0 finished with value: 0.6927374301675978 and parameters: {'n_estimators': 771, 'max_depth': 20, 'min_samples_split': 2, 'min_samples_leaf': 6, 'max_features': 'log2', 'bootstrap': False}. Best is trial 0 with value: 0.6927374301675978.\n",
      "[I 2024-03-03 03:37:30,340] Trial 1 finished with value: 0.6815642458100558 and parameters: {'n_estimators': 921, 'max_depth': 11, 'min_samples_split': 10, 'min_samples_leaf': 5, 'max_features': None, 'bootstrap': False}. Best is trial 0 with value: 0.6927374301675978.\n",
      "[I 2024-03-03 03:37:30,942] Trial 2 finished with value: 0.6927374301675978 and parameters: {'n_estimators': 405, 'max_depth': 26, 'min_samples_split': 8, 'min_samples_leaf': 10, 'max_features': 'sqrt', 'bootstrap': True}. Best is trial 0 with value: 0.6927374301675978.\n",
      "[I 2024-03-03 03:37:32,564] Trial 3 finished with value: 0.6703910614525139 and parameters: {'n_estimators': 719, 'max_depth': 26, 'min_samples_split': 5, 'min_samples_leaf': 2, 'max_features': 'log2', 'bootstrap': False}. Best is trial 0 with value: 0.6927374301675978.\n",
      "[I 2024-03-03 03:37:34,029] Trial 4 finished with value: 0.6871508379888268 and parameters: {'n_estimators': 913, 'max_depth': 21, 'min_samples_split': 4, 'min_samples_leaf': 10, 'max_features': 'sqrt', 'bootstrap': True}. Best is trial 0 with value: 0.6927374301675978.\n",
      "[I 2024-03-03 03:37:35,777] Trial 5 finished with value: 0.6983240223463687 and parameters: {'n_estimators': 982, 'max_depth': 16, 'min_samples_split': 10, 'min_samples_leaf': 5, 'max_features': 'sqrt', 'bootstrap': False}. Best is trial 5 with value: 0.6983240223463687.\n",
      "[I 2024-03-03 03:37:36,087] Trial 6 finished with value: 0.7262569832402235 and parameters: {'n_estimators': 168, 'max_depth': 3, 'min_samples_split': 6, 'min_samples_leaf': 4, 'max_features': None, 'bootstrap': True}. Best is trial 6 with value: 0.7262569832402235.\n",
      "[I 2024-03-03 03:37:36,499] Trial 7 finished with value: 0.6759776536312849 and parameters: {'n_estimators': 252, 'max_depth': 21, 'min_samples_split': 4, 'min_samples_leaf': 9, 'max_features': 'sqrt', 'bootstrap': False}. Best is trial 6 with value: 0.7262569832402235.\n",
      "[I 2024-03-03 03:37:37,635] Trial 8 finished with value: 0.6759776536312849 and parameters: {'n_estimators': 595, 'max_depth': 17, 'min_samples_split': 7, 'min_samples_leaf': 4, 'max_features': 'sqrt', 'bootstrap': False}. Best is trial 6 with value: 0.7262569832402235.\n",
      "[I 2024-03-03 03:37:37,989] Trial 9 finished with value: 0.659217877094972 and parameters: {'n_estimators': 179, 'max_depth': 13, 'min_samples_split': 10, 'min_samples_leaf': 1, 'max_features': 'sqrt', 'bootstrap': False}. Best is trial 6 with value: 0.7262569832402235.\n",
      "[I 2024-03-03 03:37:38,153] Trial 10 finished with value: 0.6815642458100558 and parameters: {'n_estimators': 106, 'max_depth': 2, 'min_samples_split': 7, 'min_samples_leaf': 7, 'max_features': None, 'bootstrap': True}. Best is trial 6 with value: 0.7262569832402235.\n",
      "[I 2024-03-03 03:37:38,739] Trial 11 finished with value: 0.6759776536312849 and parameters: {'n_estimators': 409, 'max_depth': 2, 'min_samples_split': 8, 'min_samples_leaf': 3, 'max_features': None, 'bootstrap': True}. Best is trial 6 with value: 0.7262569832402235.\n",
      "[I 2024-03-03 03:37:39,857] Trial 12 finished with value: 0.6815642458100558 and parameters: {'n_estimators': 375, 'max_depth': 7, 'min_samples_split': 6, 'min_samples_leaf': 7, 'max_features': None, 'bootstrap': True}. Best is trial 6 with value: 0.7262569832402235.\n",
      "[I 2024-03-03 03:37:41,980] Trial 13 finished with value: 0.6927374301675978 and parameters: {'n_estimators': 583, 'max_depth': 31, 'min_samples_split': 8, 'min_samples_leaf': 4, 'max_features': None, 'bootstrap': True}. Best is trial 6 with value: 0.7262569832402235.\n",
      "[I 2024-03-03 03:37:43,164] Trial 14 finished with value: 0.6927374301675978 and parameters: {'n_estimators': 751, 'max_depth': 8, 'min_samples_split': 2, 'min_samples_leaf': 5, 'max_features': 'log2', 'bootstrap': False}. Best is trial 6 with value: 0.7262569832402235.\n",
      "[I 2024-03-03 03:37:44,889] Trial 15 finished with value: 0.6983240223463687 and parameters: {'n_estimators': 984, 'max_depth': 16, 'min_samples_split': 9, 'min_samples_leaf': 3, 'max_features': 'sqrt', 'bootstrap': True}. Best is trial 6 with value: 0.7262569832402235.\n",
      "[I 2024-03-03 03:37:45,735] Trial 16 finished with value: 0.6815642458100558 and parameters: {'n_estimators': 287, 'max_depth': 8, 'min_samples_split': 5, 'min_samples_leaf': 7, 'max_features': None, 'bootstrap': True}. Best is trial 6 with value: 0.7262569832402235.\n",
      "[I 2024-03-03 03:37:46,365] Trial 17 finished with value: 0.7094972067039106 and parameters: {'n_estimators': 495, 'max_depth': 5, 'min_samples_split': 6, 'min_samples_leaf': 6, 'max_features': 'sqrt', 'bootstrap': False}. Best is trial 6 with value: 0.7262569832402235.\n",
      "[I 2024-03-03 03:37:47,399] Trial 18 finished with value: 0.6927374301675978 and parameters: {'n_estimators': 495, 'max_depth': 4, 'min_samples_split': 6, 'min_samples_leaf': 8, 'max_features': None, 'bootstrap': True}. Best is trial 6 with value: 0.7262569832402235.\n",
      "[I 2024-03-03 03:37:48,172] Trial 19 finished with value: 0.7094972067039106 and parameters: {'n_estimators': 515, 'max_depth': 5, 'min_samples_split': 4, 'min_samples_leaf': 6, 'max_features': 'log2', 'bootstrap': False}. Best is trial 6 with value: 0.7262569832402235.\n",
      "[I 2024-03-03 03:37:49,185] Trial 20 finished with value: 0.6759776536312849 and parameters: {'n_estimators': 270, 'max_depth': 11, 'min_samples_split': 5, 'min_samples_leaf': 3, 'max_features': None, 'bootstrap': True}. Best is trial 6 with value: 0.7262569832402235.\n",
      "[I 2024-03-03 03:37:49,947] Trial 21 finished with value: 0.6983240223463687 and parameters: {'n_estimators': 533, 'max_depth': 6, 'min_samples_split': 3, 'min_samples_leaf': 6, 'max_features': 'log2', 'bootstrap': False}. Best is trial 6 with value: 0.7262569832402235.\n",
      "[I 2024-03-03 03:37:50,762] Trial 22 finished with value: 0.7150837988826816 and parameters: {'n_estimators': 623, 'max_depth': 5, 'min_samples_split': 4, 'min_samples_leaf': 4, 'max_features': 'log2', 'bootstrap': False}. Best is trial 6 with value: 0.7262569832402235.\n",
      "[I 2024-03-03 03:37:51,849] Trial 23 finished with value: 0.6815642458100558 and parameters: {'n_estimators': 647, 'max_depth': 10, 'min_samples_split': 7, 'min_samples_leaf': 4, 'max_features': 'log2', 'bootstrap': False}. Best is trial 6 with value: 0.7262569832402235.\n",
      "[I 2024-03-03 03:37:52,528] Trial 24 finished with value: 0.7318435754189944 and parameters: {'n_estimators': 675, 'max_depth': 3, 'min_samples_split': 3, 'min_samples_leaf': 2, 'max_features': 'log2', 'bootstrap': False}. Best is trial 24 with value: 0.7318435754189944.\n",
      "[I 2024-03-03 03:37:53,101] Trial 25 finished with value: 0.7206703910614525 and parameters: {'n_estimators': 667, 'max_depth': 2, 'min_samples_split': 3, 'min_samples_leaf': 1, 'max_features': 'log2', 'bootstrap': False}. Best is trial 24 with value: 0.7318435754189944.\n",
      "[I 2024-03-03 03:37:53,667] Trial 26 finished with value: 0.7206703910614525 and parameters: {'n_estimators': 680, 'max_depth': 2, 'min_samples_split': 3, 'min_samples_leaf': 1, 'max_features': 'log2', 'bootstrap': False}. Best is trial 24 with value: 0.7318435754189944.\n",
      "[I 2024-03-03 03:37:54,458] Trial 27 finished with value: 0.7206703910614525 and parameters: {'n_estimators': 815, 'max_depth': 3, 'min_samples_split': 3, 'min_samples_leaf': 2, 'max_features': 'log2', 'bootstrap': False}. Best is trial 24 with value: 0.7318435754189944.\n",
      "[I 2024-03-03 03:37:56,067] Trial 28 finished with value: 0.6871508379888268 and parameters: {'n_estimators': 830, 'max_depth': 14, 'min_samples_split': 2, 'min_samples_leaf': 2, 'max_features': 'log2', 'bootstrap': True}. Best is trial 24 with value: 0.7318435754189944.\n",
      "[I 2024-03-03 03:37:57,563] Trial 29 finished with value: 0.6759776536312849 and parameters: {'n_estimators': 803, 'max_depth': 10, 'min_samples_split': 2, 'min_samples_leaf': 1, 'max_features': 'log2', 'bootstrap': False}. Best is trial 24 with value: 0.7318435754189944.\n",
      "[I 2024-03-03 03:37:58,681] Trial 30 finished with value: 0.6703910614525139 and parameters: {'n_estimators': 694, 'max_depth': 8, 'min_samples_split': 3, 'min_samples_leaf': 2, 'max_features': 'log2', 'bootstrap': False}. Best is trial 24 with value: 0.7318435754189944.\n",
      "[I 2024-03-03 03:37:59,247] Trial 31 finished with value: 0.7206703910614525 and parameters: {'n_estimators': 674, 'max_depth': 2, 'min_samples_split': 3, 'min_samples_leaf': 1, 'max_features': 'log2', 'bootstrap': False}. Best is trial 24 with value: 0.7318435754189944.\n",
      "[I 2024-03-03 03:38:00,083] Trial 32 finished with value: 0.7039106145251397 and parameters: {'n_estimators': 755, 'max_depth': 4, 'min_samples_split': 3, 'min_samples_leaf': 1, 'max_features': 'log2', 'bootstrap': False}. Best is trial 24 with value: 0.7318435754189944.\n",
      "[I 2024-03-03 03:38:00,830] Trial 33 finished with value: 0.7150837988826816 and parameters: {'n_estimators': 899, 'max_depth': 2, 'min_samples_split': 2, 'min_samples_leaf': 2, 'max_features': 'log2', 'bootstrap': False}. Best is trial 24 with value: 0.7318435754189944.\n",
      "[I 2024-03-03 03:38:01,840] Trial 34 finished with value: 0.6927374301675978 and parameters: {'n_estimators': 708, 'max_depth': 6, 'min_samples_split': 5, 'min_samples_leaf': 3, 'max_features': 'log2', 'bootstrap': False}. Best is trial 24 with value: 0.7318435754189944.\n",
      "[I 2024-03-03 03:38:02,349] Trial 35 finished with value: 0.7094972067039106 and parameters: {'n_estimators': 436, 'max_depth': 4, 'min_samples_split': 4, 'min_samples_leaf': 1, 'max_features': 'log2', 'bootstrap': False}. Best is trial 24 with value: 0.7318435754189944.\n",
      "[I 2024-03-03 03:38:04,971] Trial 36 finished with value: 0.5977653631284916 and parameters: {'n_estimators': 856, 'max_depth': 7, 'min_samples_split': 3, 'min_samples_leaf': 2, 'max_features': None, 'bootstrap': False}. Best is trial 24 with value: 0.7318435754189944.\n",
      "[I 2024-03-03 03:38:06,286] Trial 37 finished with value: 0.6871508379888268 and parameters: {'n_estimators': 645, 'max_depth': 26, 'min_samples_split': 4, 'min_samples_leaf': 1, 'max_features': 'log2', 'bootstrap': True}. Best is trial 24 with value: 0.7318435754189944.\n",
      "[I 2024-03-03 03:38:07,250] Trial 38 finished with value: 0.6871508379888268 and parameters: {'n_estimators': 570, 'max_depth': 9, 'min_samples_split': 5, 'min_samples_leaf': 3, 'max_features': 'log2', 'bootstrap': False}. Best is trial 24 with value: 0.7318435754189944.\n",
      "[I 2024-03-03 03:38:08,996] Trial 39 finished with value: 0.6536312849162011 and parameters: {'n_estimators': 357, 'max_depth': 24, 'min_samples_split': 2, 'min_samples_leaf': 2, 'max_features': None, 'bootstrap': False}. Best is trial 24 with value: 0.7318435754189944.\n",
      "[I 2024-03-03 03:38:09,748] Trial 40 finished with value: 0.7094972067039106 and parameters: {'n_estimators': 455, 'max_depth': 12, 'min_samples_split': 9, 'min_samples_leaf': 5, 'max_features': 'log2', 'bootstrap': True}. Best is trial 24 with value: 0.7318435754189944.\n",
      "[I 2024-03-03 03:38:10,485] Trial 41 finished with value: 0.7150837988826816 and parameters: {'n_estimators': 768, 'max_depth': 3, 'min_samples_split': 3, 'min_samples_leaf': 2, 'max_features': 'log2', 'bootstrap': False}. Best is trial 24 with value: 0.7318435754189944.\n",
      "[I 2024-03-03 03:38:11,342] Trial 42 finished with value: 0.7374301675977654 and parameters: {'n_estimators': 886, 'max_depth': 3, 'min_samples_split': 3, 'min_samples_leaf': 1, 'max_features': 'log2', 'bootstrap': False}. Best is trial 42 with value: 0.7374301675977654.\n",
      "[I 2024-03-03 03:38:12,251] Trial 43 finished with value: 0.7374301675977654 and parameters: {'n_estimators': 942, 'max_depth': 3, 'min_samples_split': 4, 'min_samples_leaf': 1, 'max_features': 'log2', 'bootstrap': False}. Best is trial 42 with value: 0.7374301675977654.\n",
      "[I 2024-03-03 03:38:13,539] Trial 44 finished with value: 0.6759776536312849 and parameters: {'n_estimators': 922, 'max_depth': 6, 'min_samples_split': 4, 'min_samples_leaf': 1, 'max_features': 'log2', 'bootstrap': False}. Best is trial 42 with value: 0.7374301675977654.\n",
      "[I 2024-03-03 03:38:17,637] Trial 45 finished with value: 0.6815642458100558 and parameters: {'n_estimators': 921, 'max_depth': 18, 'min_samples_split': 5, 'min_samples_leaf': 3, 'max_features': None, 'bootstrap': False}. Best is trial 42 with value: 0.7374301675977654.\n",
      "[I 2024-03-03 03:38:19,561] Trial 46 finished with value: 0.6815642458100558 and parameters: {'n_estimators': 877, 'max_depth': 31, 'min_samples_split': 4, 'min_samples_leaf': 1, 'max_features': 'sqrt', 'bootstrap': False}. Best is trial 42 with value: 0.7374301675977654.\n",
      "[I 2024-03-03 03:38:20,703] Trial 47 finished with value: 0.7206703910614525 and parameters: {'n_estimators': 939, 'max_depth': 4, 'min_samples_split': 2, 'min_samples_leaf': 2, 'max_features': 'log2', 'bootstrap': True}. Best is trial 42 with value: 0.7374301675977654.\n",
      "[I 2024-03-03 03:38:20,908] Trial 48 finished with value: 0.5977653631284916 and parameters: {'n_estimators': 113, 'max_depth': 3, 'min_samples_split': 7, 'min_samples_leaf': 4, 'max_features': None, 'bootstrap': False}. Best is trial 42 with value: 0.7374301675977654.\n",
      "[I 2024-03-03 03:38:22,445] Trial 49 finished with value: 0.7039106145251397 and parameters: {'n_estimators': 992, 'max_depth': 7, 'min_samples_split': 4, 'min_samples_leaf': 1, 'max_features': 'log2', 'bootstrap': True}. Best is trial 42 with value: 0.7374301675977654.\n",
      "[I 2024-03-03 03:38:23,623] Trial 50 finished with value: 0.7094972067039106 and parameters: {'n_estimators': 954, 'max_depth': 5, 'min_samples_split': 6, 'min_samples_leaf': 2, 'max_features': 'sqrt', 'bootstrap': False}. Best is trial 42 with value: 0.7374301675977654.\n",
      "[I 2024-03-03 03:38:24,256] Trial 51 finished with value: 0.7318435754189944 and parameters: {'n_estimators': 727, 'max_depth': 2, 'min_samples_split': 3, 'min_samples_leaf': 1, 'max_features': 'log2', 'bootstrap': False}. Best is trial 42 with value: 0.7374301675977654.\n",
      "[I 2024-03-03 03:38:25,011] Trial 52 finished with value: 0.7374301675977654 and parameters: {'n_estimators': 739, 'max_depth': 3, 'min_samples_split': 3, 'min_samples_leaf': 1, 'max_features': 'log2', 'bootstrap': False}. Best is trial 42 with value: 0.7374301675977654.\n",
      "[I 2024-03-03 03:38:25,737] Trial 53 finished with value: 0.7374301675977654 and parameters: {'n_estimators': 733, 'max_depth': 3, 'min_samples_split': 3, 'min_samples_leaf': 1, 'max_features': 'log2', 'bootstrap': False}. Best is trial 42 with value: 0.7374301675977654.\n",
      "[I 2024-03-03 03:38:26,565] Trial 54 finished with value: 0.7094972067039106 and parameters: {'n_estimators': 719, 'max_depth': 4, 'min_samples_split': 3, 'min_samples_leaf': 1, 'max_features': 'log2', 'bootstrap': False}. Best is trial 42 with value: 0.7374301675977654.\n",
      "[I 2024-03-03 03:38:27,627] Trial 55 finished with value: 0.664804469273743 and parameters: {'n_estimators': 789, 'max_depth': 6, 'min_samples_split': 2, 'min_samples_leaf': 10, 'max_features': 'log2', 'bootstrap': False}. Best is trial 42 with value: 0.7374301675977654.\n",
      "[I 2024-03-03 03:38:28,501] Trial 56 finished with value: 0.7374301675977654 and parameters: {'n_estimators': 838, 'max_depth': 3, 'min_samples_split': 4, 'min_samples_leaf': 1, 'max_features': 'log2', 'bootstrap': False}. Best is trial 42 with value: 0.7374301675977654.\n",
      "[I 2024-03-03 03:38:29,839] Trial 57 finished with value: 0.664804469273743 and parameters: {'n_estimators': 851, 'max_depth': 7, 'min_samples_split': 4, 'min_samples_leaf': 2, 'max_features': 'log2', 'bootstrap': False}. Best is trial 42 with value: 0.7374301675977654.\n",
      "[I 2024-03-03 03:38:31,049] Trial 58 finished with value: 0.7039106145251397 and parameters: {'n_estimators': 894, 'max_depth': 5, 'min_samples_split': 4, 'min_samples_leaf': 1, 'max_features': 'log2', 'bootstrap': False}. Best is trial 42 with value: 0.7374301675977654.\n",
      "[I 2024-03-03 03:38:32,023] Trial 59 finished with value: 0.7262569832402235 and parameters: {'n_estimators': 958, 'max_depth': 3, 'min_samples_split': 2, 'min_samples_leaf': 3, 'max_features': 'log2', 'bootstrap': False}. Best is trial 42 with value: 0.7374301675977654.\n",
      "[I 2024-03-03 03:38:33,119] Trial 60 finished with value: 0.664804469273743 and parameters: {'n_estimators': 615, 'max_depth': 9, 'min_samples_split': 5, 'min_samples_leaf': 2, 'max_features': 'log2', 'bootstrap': False}. Best is trial 42 with value: 0.7374301675977654.\n",
      "[I 2024-03-03 03:38:33,877] Trial 61 finished with value: 0.7374301675977654 and parameters: {'n_estimators': 723, 'max_depth': 3, 'min_samples_split': 3, 'min_samples_leaf': 1, 'max_features': 'log2', 'bootstrap': False}. Best is trial 42 with value: 0.7374301675977654.\n",
      "[I 2024-03-03 03:38:34,635] Trial 62 finished with value: 0.7318435754189944 and parameters: {'n_estimators': 782, 'max_depth': 3, 'min_samples_split': 3, 'min_samples_leaf': 1, 'max_features': 'log2', 'bootstrap': False}. Best is trial 42 with value: 0.7374301675977654.\n",
      "[I 2024-03-03 03:38:35,543] Trial 63 finished with value: 0.7039106145251397 and parameters: {'n_estimators': 736, 'max_depth': 5, 'min_samples_split': 3, 'min_samples_leaf': 1, 'max_features': 'log2', 'bootstrap': False}. Best is trial 42 with value: 0.7374301675977654.\n",
      "[I 2024-03-03 03:38:36,373] Trial 64 finished with value: 0.7206703910614525 and parameters: {'n_estimators': 853, 'max_depth': 3, 'min_samples_split': 3, 'min_samples_leaf': 2, 'max_features': 'log2', 'bootstrap': False}. Best is trial 42 with value: 0.7374301675977654.\n",
      "[I 2024-03-03 03:38:37,293] Trial 65 finished with value: 0.7039106145251397 and parameters: {'n_estimators': 828, 'max_depth': 4, 'min_samples_split': 4, 'min_samples_leaf': 1, 'max_features': 'log2', 'bootstrap': False}. Best is trial 42 with value: 0.7374301675977654.\n",
      "[I 2024-03-03 03:38:38,038] Trial 66 finished with value: 0.7150837988826816 and parameters: {'n_estimators': 877, 'max_depth': 2, 'min_samples_split': 2, 'min_samples_leaf': 1, 'max_features': 'log2', 'bootstrap': False}. Best is trial 42 with value: 0.7374301675977654.\n",
      "[I 2024-03-03 03:38:39,070] Trial 67 finished with value: 0.6815642458100558 and parameters: {'n_estimators': 752, 'max_depth': 6, 'min_samples_split': 3, 'min_samples_leaf': 2, 'max_features': 'sqrt', 'bootstrap': False}. Best is trial 42 with value: 0.7374301675977654.\n",
      "[I 2024-03-03 03:38:40,388] Trial 68 finished with value: 0.6759776536312849 and parameters: {'n_estimators': 809, 'max_depth': 8, 'min_samples_split': 4, 'min_samples_leaf': 1, 'max_features': 'log2', 'bootstrap': False}. Best is trial 42 with value: 0.7374301675977654.\n",
      "[I 2024-03-03 03:38:41,244] Trial 69 finished with value: 0.7150837988826816 and parameters: {'n_estimators': 650, 'max_depth': 5, 'min_samples_split': 2, 'min_samples_leaf': 2, 'max_features': 'log2', 'bootstrap': False}. Best is trial 42 with value: 0.7374301675977654.\n",
      "[I 2024-03-03 03:38:42,975] Trial 70 finished with value: 0.6815642458100558 and parameters: {'n_estimators': 703, 'max_depth': 29, 'min_samples_split': 3, 'min_samples_leaf': 1, 'max_features': 'log2', 'bootstrap': False}. Best is trial 42 with value: 0.7374301675977654.\n",
      "[I 2024-03-03 03:38:43,597] Trial 71 finished with value: 0.7262569832402235 and parameters: {'n_estimators': 730, 'max_depth': 2, 'min_samples_split': 3, 'min_samples_leaf': 8, 'max_features': 'log2', 'bootstrap': False}. Best is trial 42 with value: 0.7374301675977654.\n",
      "[I 2024-03-03 03:38:44,457] Trial 72 finished with value: 0.7039106145251397 and parameters: {'n_estimators': 784, 'max_depth': 4, 'min_samples_split': 3, 'min_samples_leaf': 1, 'max_features': 'log2', 'bootstrap': False}. Best is trial 42 with value: 0.7374301675977654.\n",
      "[I 2024-03-03 03:38:44,987] Trial 73 finished with value: 0.7150837988826816 and parameters: {'n_estimators': 618, 'max_depth': 2, 'min_samples_split': 4, 'min_samples_leaf': 1, 'max_features': 'log2', 'bootstrap': False}. Best is trial 42 with value: 0.7374301675977654.\n",
      "[I 2024-03-03 03:38:45,757] Trial 74 finished with value: 0.7374301675977654 and parameters: {'n_estimators': 733, 'max_depth': 3, 'min_samples_split': 3, 'min_samples_leaf': 1, 'max_features': 'log2', 'bootstrap': False}. Best is trial 42 with value: 0.7374301675977654.\n",
      "[I 2024-03-03 03:38:46,620] Trial 75 finished with value: 0.7206703910614525 and parameters: {'n_estimators': 833, 'max_depth': 3, 'min_samples_split': 2, 'min_samples_leaf': 2, 'max_features': 'log2', 'bootstrap': False}. Best is trial 42 with value: 0.7374301675977654.\n",
      "[I 2024-03-03 03:38:47,415] Trial 76 finished with value: 0.7039106145251397 and parameters: {'n_estimators': 694, 'max_depth': 4, 'min_samples_split': 3, 'min_samples_leaf': 1, 'max_features': 'log2', 'bootstrap': False}. Best is trial 42 with value: 0.7374301675977654.\n",
      "[I 2024-03-03 03:38:48,566] Trial 77 finished with value: 0.664804469273743 and parameters: {'n_estimators': 752, 'max_depth': 7, 'min_samples_split': 4, 'min_samples_leaf': 2, 'max_features': 'log2', 'bootstrap': False}. Best is trial 42 with value: 0.7374301675977654.\n",
      "[I 2024-03-03 03:38:49,424] Trial 78 finished with value: 0.7094972067039106 and parameters: {'n_estimators': 663, 'max_depth': 5, 'min_samples_split': 5, 'min_samples_leaf': 1, 'max_features': 'log2', 'bootstrap': False}. Best is trial 42 with value: 0.7374301675977654.\n",
      "[I 2024-03-03 03:38:50,198] Trial 79 finished with value: 0.6815642458100558 and parameters: {'n_estimators': 586, 'max_depth': 6, 'min_samples_split': 2, 'min_samples_leaf': 9, 'max_features': 'log2', 'bootstrap': False}. Best is trial 42 with value: 0.7374301675977654.\n",
      "[I 2024-03-03 03:38:51,977] Trial 80 finished with value: 0.6815642458100558 and parameters: {'n_estimators': 868, 'max_depth': 20, 'min_samples_split': 3, 'min_samples_leaf': 2, 'max_features': 'sqrt', 'bootstrap': False}. Best is trial 42 with value: 0.7374301675977654.\n",
      "[I 2024-03-03 03:38:52,684] Trial 81 finished with value: 0.7374301675977654 and parameters: {'n_estimators': 730, 'max_depth': 3, 'min_samples_split': 3, 'min_samples_leaf': 1, 'max_features': 'log2', 'bootstrap': False}. Best is trial 42 with value: 0.7374301675977654.\n",
      "[I 2024-03-03 03:38:53,467] Trial 82 finished with value: 0.7374301675977654 and parameters: {'n_estimators': 802, 'max_depth': 3, 'min_samples_split': 3, 'min_samples_leaf': 1, 'max_features': 'log2', 'bootstrap': False}. Best is trial 42 with value: 0.7374301675977654.\n",
      "[I 2024-03-03 03:38:54,380] Trial 83 finished with value: 0.7039106145251397 and parameters: {'n_estimators': 797, 'max_depth': 4, 'min_samples_split': 3, 'min_samples_leaf': 1, 'max_features': 'log2', 'bootstrap': False}. Best is trial 42 with value: 0.7374301675977654.\n",
      "[I 2024-03-03 03:38:55,246] Trial 84 finished with value: 0.7374301675977654 and parameters: {'n_estimators': 896, 'max_depth': 3, 'min_samples_split': 3, 'min_samples_leaf': 1, 'max_features': 'log2', 'bootstrap': False}. Best is trial 42 with value: 0.7374301675977654.\n",
      "[I 2024-03-03 03:38:55,913] Trial 85 finished with value: 0.7150837988826816 and parameters: {'n_estimators': 767, 'max_depth': 2, 'min_samples_split': 4, 'min_samples_leaf': 1, 'max_features': 'log2', 'bootstrap': False}. Best is trial 42 with value: 0.7374301675977654.\n",
      "[I 2024-03-03 03:38:57,666] Trial 86 finished with value: 0.6703910614525139 and parameters: {'n_estimators': 829, 'max_depth': 15, 'min_samples_split': 4, 'min_samples_leaf': 1, 'max_features': 'log2', 'bootstrap': False}. Best is trial 42 with value: 0.7374301675977654.\n",
      "[I 2024-03-03 03:38:58,950] Trial 87 finished with value: 0.7039106145251397 and parameters: {'n_estimators': 938, 'max_depth': 5, 'min_samples_split': 2, 'min_samples_leaf': 1, 'max_features': 'log2', 'bootstrap': False}. Best is trial 42 with value: 0.7374301675977654.\n",
      "[I 2024-03-03 03:38:59,913] Trial 88 finished with value: 0.7318435754189944 and parameters: {'n_estimators': 971, 'max_depth': 3, 'min_samples_split': 3, 'min_samples_leaf': 2, 'max_features': 'log2', 'bootstrap': False}. Best is trial 42 with value: 0.7374301675977654.\n",
      "[I 2024-03-03 03:39:00,772] Trial 89 finished with value: 0.7150837988826816 and parameters: {'n_estimators': 813, 'max_depth': 2, 'min_samples_split': 3, 'min_samples_leaf': 1, 'max_features': 'log2', 'bootstrap': False}. Best is trial 42 with value: 0.7374301675977654.\n",
      "[I 2024-03-03 03:39:01,671] Trial 90 finished with value: 0.7039106145251397 and parameters: {'n_estimators': 746, 'max_depth': 4, 'min_samples_split': 2, 'min_samples_leaf': 2, 'max_features': 'log2', 'bootstrap': False}. Best is trial 42 with value: 0.7374301675977654.\n",
      "[I 2024-03-03 03:39:02,583] Trial 91 finished with value: 0.7374301675977654 and parameters: {'n_estimators': 893, 'max_depth': 3, 'min_samples_split': 3, 'min_samples_leaf': 1, 'max_features': 'log2', 'bootstrap': False}. Best is trial 42 with value: 0.7374301675977654.\n",
      "[I 2024-03-03 03:39:03,465] Trial 92 finished with value: 0.7374301675977654 and parameters: {'n_estimators': 903, 'max_depth': 3, 'min_samples_split': 3, 'min_samples_leaf': 1, 'max_features': 'log2', 'bootstrap': False}. Best is trial 42 with value: 0.7374301675977654.\n",
      "[I 2024-03-03 03:39:04,791] Trial 93 finished with value: 0.6759776536312849 and parameters: {'n_estimators': 929, 'max_depth': 6, 'min_samples_split': 4, 'min_samples_leaf': 1, 'max_features': 'log2', 'bootstrap': False}. Best is trial 42 with value: 0.7374301675977654.\n",
      "[I 2024-03-03 03:39:05,734] Trial 94 finished with value: 0.7039106145251397 and parameters: {'n_estimators': 846, 'max_depth': 4, 'min_samples_split': 3, 'min_samples_leaf': 1, 'max_features': 'log2', 'bootstrap': False}. Best is trial 42 with value: 0.7374301675977654.\n",
      "[I 2024-03-03 03:39:06,423] Trial 95 finished with value: 0.7374301675977654 and parameters: {'n_estimators': 710, 'max_depth': 3, 'min_samples_split': 3, 'min_samples_leaf': 1, 'max_features': 'log2', 'bootstrap': False}. Best is trial 42 with value: 0.7374301675977654.\n",
      "[I 2024-03-03 03:39:07,290] Trial 96 finished with value: 0.7150837988826816 and parameters: {'n_estimators': 875, 'max_depth': 2, 'min_samples_split': 4, 'min_samples_leaf': 2, 'max_features': 'log2', 'bootstrap': True}. Best is trial 42 with value: 0.7374301675977654.\n",
      "[I 2024-03-03 03:39:08,244] Trial 97 finished with value: 0.7150837988826816 and parameters: {'n_estimators': 774, 'max_depth': 5, 'min_samples_split': 3, 'min_samples_leaf': 1, 'max_features': 'log2', 'bootstrap': False}. Best is trial 42 with value: 0.7374301675977654.\n",
      "[I 2024-03-03 03:39:10,239] Trial 98 finished with value: 0.40782122905027934 and parameters: {'n_estimators': 996, 'max_depth': 4, 'min_samples_split': 2, 'min_samples_leaf': 1, 'max_features': None, 'bootstrap': False}. Best is trial 42 with value: 0.7374301675977654.\n",
      "[I 2024-03-03 03:39:12,137] Trial 99 finished with value: 0.664804469273743 and parameters: {'n_estimators': 951, 'max_depth': 22, 'min_samples_split': 6, 'min_samples_leaf': 2, 'max_features': 'sqrt', 'bootstrap': False}. Best is trial 42 with value: 0.7374301675977654.\n"
     ]
    },
    {
     "name": "stdout",
     "output_type": "stream",
     "text": [
      "Number of finished trials: 100\n",
      "Best trial: {'n_estimators': 886, 'max_depth': 3, 'min_samples_split': 3, 'min_samples_leaf': 1, 'max_features': 'log2', 'bootstrap': False}\n",
      "Best trial accuracy: 0.7374301675977654\n"
     ]
    }
   ],
   "source": [
    "study = opt.create_study(direction='maximize')\n",
    "study.optimize(objective, n_trials=100)\n",
    "\n",
    "print('Number of finished trials:', len(study.trials))\n",
    "print('Best trial:', study.best_trial.params)\n",
    "print(f\"Best trial accuracy: {study.best_trial.value}\")"
   ],
   "metadata": {
    "collapsed": false,
    "ExecuteTime": {
     "end_time": "2024-03-03T02:39:12.145594Z",
     "start_time": "2024-03-03T02:37:25.462655Z"
    }
   },
   "id": "fccad4eff8bb9ae0",
   "execution_count": 62
  },
  {
   "cell_type": "code",
   "outputs": [
    {
     "name": "stdout",
     "output_type": "stream",
     "text": [
      "Accuracy: 0.73\n"
     ]
    }
   ],
   "source": [
    "model = RandomForestClassifier(random_state=0, n_estimators=500, max_depth=5)\n",
    "model.set_params(**study.best_trial.params)\n",
    "model.fit(X_train, y_train)\n",
    "y_pred = model.predict(X_test)\n",
    "accuracy = accuracy_score(y_test, y_pred)\n",
    "print(f\"Accuracy: {accuracy:.2f}\")"
   ],
   "metadata": {
    "collapsed": false,
    "ExecuteTime": {
     "end_time": "2024-03-03T02:39:12.983436Z",
     "start_time": "2024-03-03T02:39:12.146717Z"
    }
   },
   "id": "84b77e0028fc4bb6",
   "execution_count": 63
  },
  {
   "cell_type": "markdown",
   "source": [
    "### Compare accuracy to supposed real data"
   ],
   "metadata": {
    "collapsed": false
   },
   "id": "d4d68d989c272924"
  },
  {
   "cell_type": "code",
   "outputs": [
    {
     "data": {
      "text/plain": "0.6565656565656566"
     },
     "execution_count": 64,
     "metadata": {},
     "output_type": "execute_result"
    }
   ],
   "source": [
    "actual_data = pd.read_csv(\"corrected_passenger_survived.csv\", index_col=\"PassengerId\")\n",
    "predicted_data = pd.read_csv(\"submission_test.csv\", index_col=\"PassengerId\")\n",
    "to_drop = actual_data[actual_data['survived'].isna()].index.tolist()\n",
    "\n",
    "data = [actual_data, predicted_data]\n",
    "for dataset in data:\n",
    "    dataset.drop(to_drop, axis=\"index\", inplace=True)\n",
    "accuracy_score(actual_data, predicted_data)"
   ],
   "metadata": {
    "collapsed": false,
    "ExecuteTime": {
     "end_time": "2024-03-03T02:39:12.998263Z",
     "start_time": "2024-03-03T02:39:12.985048Z"
    }
   },
   "id": "badeaa27c8fc319",
   "execution_count": 64
  },
  {
   "cell_type": "code",
   "outputs": [],
   "source": [],
   "metadata": {
    "collapsed": false,
    "ExecuteTime": {
     "end_time": "2024-03-03T02:39:13.001688Z",
     "start_time": "2024-03-03T02:39:12.999441Z"
    }
   },
   "id": "e81e43b9760a26c8",
   "execution_count": 64
  }
 ],
 "metadata": {
  "kernelspec": {
   "display_name": "Python 3",
   "language": "python",
   "name": "python3"
  },
  "language_info": {
   "codemirror_mode": {
    "name": "ipython",
    "version": 2
   },
   "file_extension": ".py",
   "mimetype": "text/x-python",
   "name": "python",
   "nbconvert_exporter": "python",
   "pygments_lexer": "ipython2",
   "version": "2.7.6"
  }
 },
 "nbformat": 4,
 "nbformat_minor": 5
}
