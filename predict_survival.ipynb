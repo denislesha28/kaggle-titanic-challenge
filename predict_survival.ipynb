{
 "cells": [
  {
   "cell_type": "code",
   "execution_count": 1,
   "id": "initial_id",
   "metadata": {
    "collapsed": true,
    "ExecuteTime": {
     "end_time": "2024-03-30T20:21:51.729407Z",
     "start_time": "2024-03-30T20:21:50.755329Z"
    }
   },
   "outputs": [],
   "source": [
    "import re\n",
    "\n",
    "import numpy as np\n",
    "import optuna as opt\n",
    "import pandas as pd\n",
    "import xgboost as xgb\n",
    "from imblearn.over_sampling import RandomOverSampler, ADASYN\n",
    "from matplotlib import pyplot as plt\n",
    "from sklearn.inspection import permutation_importance\n",
    "from sklearn.metrics import accuracy_score\n",
    "from sklearn.model_selection import train_test_split, StratifiedKFold, cross_val_score\n",
    "from sklearn.pipeline import make_pipeline\n",
    "from sklearn.preprocessing import LabelEncoder, StandardScaler\n",
    "from sklearn.linear_model import LogisticRegression\n",
    "from sklearn.ensemble import StackingClassifier\n",
    "from sklearn.svm import SVC\n",
    "from sklearn.linear_model import ElasticNet\n",
    "from xgboost import XGBClassifier"
   ]
  },
  {
   "cell_type": "code",
   "outputs": [],
   "source": [
    "random_id = 17 #ai23m017 - 17 is the id\n",
    "random_state = np.random.RandomState(random_id)"
   ],
   "metadata": {
    "collapsed": false,
    "ExecuteTime": {
     "end_time": "2024-03-30T20:21:51.735219Z",
     "start_time": "2024-03-30T20:21:51.731167Z"
    }
   },
   "id": "cfc9bf5391961962",
   "execution_count": 2
  },
  {
   "cell_type": "code",
   "outputs": [
    {
     "data": {
      "text/plain": "             Survived  Pclass  \\\nPassengerId                     \n1                   0       3   \n2                   1       1   \n3                   1       3   \n4                   1       1   \n5                   0       3   \n...               ...     ...   \n887                 0       2   \n888                 1       1   \n889                 0       3   \n890                 1       1   \n891                 0       3   \n\n                                                          Name   Age  SibSp  \\\nPassengerId                                                                   \n1                                      Braund, Mr. Owen Harris  22.0      1   \n2            Cumings, Mrs. John Bradley (Florence Briggs Th...  38.0      1   \n3                                       Heikkinen, Miss. Laina  26.0      0   \n4                 Futrelle, Mrs. Jacques Heath (Lily May Peel)  35.0      1   \n5                                     Allen, Mr. William Henry  35.0      0   \n...                                                        ...   ...    ...   \n887                                      Montvila, Rev. Juozas  27.0      0   \n888                               Graham, Miss. Margaret Edith  19.0      0   \n889                   Johnston, Miss. Catherine Helen \"Carrie\"   NaN      1   \n890                                      Behr, Mr. Karl Howell  26.0      0   \n891                                        Dooley, Mr. Patrick  32.0      0   \n\n             Parch            Ticket     Fare Cabin Embarked  \nPassengerId                                                   \n1                0         A/5 21171   7.2500   NaN        S  \n2                0          PC 17599  71.2833   C85        C  \n3                0  STON/O2. 3101282   7.9250   NaN        S  \n4                0            113803  53.1000  C123        S  \n5                0            373450   8.0500   NaN        S  \n...            ...               ...      ...   ...      ...  \n887              0            211536  13.0000   NaN        S  \n888              0            112053  30.0000   B42        S  \n889              2        W./C. 6607  23.4500   NaN        S  \n890              0            111369  30.0000  C148        C  \n891              0            370376   7.7500   NaN        Q  \n\n[891 rows x 10 columns]",
      "text/html": "<div>\n<style scoped>\n    .dataframe tbody tr th:only-of-type {\n        vertical-align: middle;\n    }\n\n    .dataframe tbody tr th {\n        vertical-align: top;\n    }\n\n    .dataframe thead th {\n        text-align: right;\n    }\n</style>\n<table border=\"1\" class=\"dataframe\">\n  <thead>\n    <tr style=\"text-align: right;\">\n      <th></th>\n      <th>Survived</th>\n      <th>Pclass</th>\n      <th>Name</th>\n      <th>Age</th>\n      <th>SibSp</th>\n      <th>Parch</th>\n      <th>Ticket</th>\n      <th>Fare</th>\n      <th>Cabin</th>\n      <th>Embarked</th>\n    </tr>\n    <tr>\n      <th>PassengerId</th>\n      <th></th>\n      <th></th>\n      <th></th>\n      <th></th>\n      <th></th>\n      <th></th>\n      <th></th>\n      <th></th>\n      <th></th>\n      <th></th>\n    </tr>\n  </thead>\n  <tbody>\n    <tr>\n      <th>1</th>\n      <td>0</td>\n      <td>3</td>\n      <td>Braund, Mr. Owen Harris</td>\n      <td>22.0</td>\n      <td>1</td>\n      <td>0</td>\n      <td>A/5 21171</td>\n      <td>7.2500</td>\n      <td>NaN</td>\n      <td>S</td>\n    </tr>\n    <tr>\n      <th>2</th>\n      <td>1</td>\n      <td>1</td>\n      <td>Cumings, Mrs. John Bradley (Florence Briggs Th...</td>\n      <td>38.0</td>\n      <td>1</td>\n      <td>0</td>\n      <td>PC 17599</td>\n      <td>71.2833</td>\n      <td>C85</td>\n      <td>C</td>\n    </tr>\n    <tr>\n      <th>3</th>\n      <td>1</td>\n      <td>3</td>\n      <td>Heikkinen, Miss. Laina</td>\n      <td>26.0</td>\n      <td>0</td>\n      <td>0</td>\n      <td>STON/O2. 3101282</td>\n      <td>7.9250</td>\n      <td>NaN</td>\n      <td>S</td>\n    </tr>\n    <tr>\n      <th>4</th>\n      <td>1</td>\n      <td>1</td>\n      <td>Futrelle, Mrs. Jacques Heath (Lily May Peel)</td>\n      <td>35.0</td>\n      <td>1</td>\n      <td>0</td>\n      <td>113803</td>\n      <td>53.1000</td>\n      <td>C123</td>\n      <td>S</td>\n    </tr>\n    <tr>\n      <th>5</th>\n      <td>0</td>\n      <td>3</td>\n      <td>Allen, Mr. William Henry</td>\n      <td>35.0</td>\n      <td>0</td>\n      <td>0</td>\n      <td>373450</td>\n      <td>8.0500</td>\n      <td>NaN</td>\n      <td>S</td>\n    </tr>\n    <tr>\n      <th>...</th>\n      <td>...</td>\n      <td>...</td>\n      <td>...</td>\n      <td>...</td>\n      <td>...</td>\n      <td>...</td>\n      <td>...</td>\n      <td>...</td>\n      <td>...</td>\n      <td>...</td>\n    </tr>\n    <tr>\n      <th>887</th>\n      <td>0</td>\n      <td>2</td>\n      <td>Montvila, Rev. Juozas</td>\n      <td>27.0</td>\n      <td>0</td>\n      <td>0</td>\n      <td>211536</td>\n      <td>13.0000</td>\n      <td>NaN</td>\n      <td>S</td>\n    </tr>\n    <tr>\n      <th>888</th>\n      <td>1</td>\n      <td>1</td>\n      <td>Graham, Miss. Margaret Edith</td>\n      <td>19.0</td>\n      <td>0</td>\n      <td>0</td>\n      <td>112053</td>\n      <td>30.0000</td>\n      <td>B42</td>\n      <td>S</td>\n    </tr>\n    <tr>\n      <th>889</th>\n      <td>0</td>\n      <td>3</td>\n      <td>Johnston, Miss. Catherine Helen \"Carrie\"</td>\n      <td>NaN</td>\n      <td>1</td>\n      <td>2</td>\n      <td>W./C. 6607</td>\n      <td>23.4500</td>\n      <td>NaN</td>\n      <td>S</td>\n    </tr>\n    <tr>\n      <th>890</th>\n      <td>1</td>\n      <td>1</td>\n      <td>Behr, Mr. Karl Howell</td>\n      <td>26.0</td>\n      <td>0</td>\n      <td>0</td>\n      <td>111369</td>\n      <td>30.0000</td>\n      <td>C148</td>\n      <td>C</td>\n    </tr>\n    <tr>\n      <th>891</th>\n      <td>0</td>\n      <td>3</td>\n      <td>Dooley, Mr. Patrick</td>\n      <td>32.0</td>\n      <td>0</td>\n      <td>0</td>\n      <td>370376</td>\n      <td>7.7500</td>\n      <td>NaN</td>\n      <td>Q</td>\n    </tr>\n  </tbody>\n</table>\n<p>891 rows × 10 columns</p>\n</div>"
     },
     "execution_count": 3,
     "metadata": {},
     "output_type": "execute_result"
    }
   ],
   "source": [
    "to_test = pd.read_csv(\"test.csv\", index_col=\"PassengerId\")\n",
    "df = pd.read_csv(\"train.csv\", index_col=\"PassengerId\")\n",
    "df"
   ],
   "metadata": {
    "collapsed": false,
    "ExecuteTime": {
     "end_time": "2024-03-30T20:21:51.777110Z",
     "start_time": "2024-03-30T20:21:51.737337Z"
    }
   },
   "id": "7437cf88e2628702",
   "execution_count": 3
  },
  {
   "cell_type": "code",
   "outputs": [
    {
     "data": {
      "text/plain": "Survived             Int64\nPclass               Int64\nName        string[python]\nAge                Float64\nSibSp                Int64\nParch                Int64\nTicket      string[python]\nFare               Float64\nCabin       string[python]\nEmbarked          category\ndtype: object"
     },
     "execution_count": 4,
     "metadata": {},
     "output_type": "execute_result"
    }
   ],
   "source": [
    "df = df.convert_dtypes()\n",
    "df[\"Embarked\"] = df[\"Embarked\"].astype(\"category\")\n",
    "df.dtypes"
   ],
   "metadata": {
    "collapsed": false,
    "ExecuteTime": {
     "end_time": "2024-03-30T20:21:51.850587Z",
     "start_time": "2024-03-30T20:21:51.778116Z"
    }
   },
   "id": "bc7c0dd7b79336e6",
   "execution_count": 4
  },
  {
   "cell_type": "code",
   "outputs": [
    {
     "name": "stdout",
     "output_type": "stream",
     "text": [
      "['Age', 'Cabin', 'Embarked']\n"
     ]
    }
   ],
   "source": [
    "X_train,X_test,y_train,y_test = train_test_split(df.drop(\"Survived\", axis=1), df[\"Survived\"], test_size=0.2, random_state=random_id)# stratify=df[\"Survived\"])\n",
    "print(df.columns[df.isna().any(axis=0)].tolist())"
   ],
   "metadata": {
    "collapsed": false,
    "ExecuteTime": {
     "end_time": "2024-03-30T20:21:51.862004Z",
     "start_time": "2024-03-30T20:21:51.851592Z"
    }
   },
   "id": "311deef3a7079778",
   "execution_count": 5
  },
  {
   "cell_type": "code",
   "outputs": [],
   "source": [
    "#ros = RandomOverSampler(random_state=random_id)"
   ],
   "metadata": {
    "collapsed": false,
    "ExecuteTime": {
     "end_time": "2024-03-30T20:21:51.865842Z",
     "start_time": "2024-03-30T20:21:51.863009Z"
    }
   },
   "id": "ffdf4da15c9d419",
   "execution_count": 6
  },
  {
   "cell_type": "code",
   "outputs": [
    {
     "data": {
      "text/plain": "             Pclass                                             Name   Age  \\\nPassengerId                                                                  \n874               3                      Vander Cruyssen, Mr. Victor  47.0   \n829               3                     McCormack, Mr. Thomas Joseph  <NA>   \n100               2                                Kantor, Mr. Sinai  34.0   \n524               1  Hippach, Mrs. Louis Albert (Ida Sophia Fischer)  44.0   \n133               3   Robins, Mrs. Alexander A (Grace Charity Laury)  47.0   \n...             ...                                              ...   ...   \n407               3                 Widegren, Mr. Carl/Charles Peter  51.0   \n391               1                       Carter, Mr. William Ernest  36.0   \n144               3                              Burke, Mr. Jeremiah  19.0   \n242               3                   Murphy, Miss. Katherine \"Kate\"  <NA>   \n624               3                      Hansen, Mr. Henry Damsgaard  21.0   \n\n             SibSp  Parch     Ticket     Fare    Cabin Embarked  \nPassengerId                                                      \n874              0      0     345765      9.0     <NA>        S  \n829              0      0     367228     7.75     <NA>        Q  \n100              1      0     244367     26.0     <NA>        S  \n524              0      1     111361  57.9792      B18        C  \n133              1      0  A/5. 3337     14.5     <NA>        S  \n...            ...    ...        ...      ...      ...      ...  \n407              0      0     347064     7.75     <NA>        S  \n391              1      2     113760    120.0  B96 B98        S  \n144              0      0     365222     6.75     <NA>        Q  \n242              1      0     367230     15.5     <NA>        Q  \n624              0      0     350029   7.8542     <NA>        S  \n\n[712 rows x 9 columns]",
      "text/html": "<div>\n<style scoped>\n    .dataframe tbody tr th:only-of-type {\n        vertical-align: middle;\n    }\n\n    .dataframe tbody tr th {\n        vertical-align: top;\n    }\n\n    .dataframe thead th {\n        text-align: right;\n    }\n</style>\n<table border=\"1\" class=\"dataframe\">\n  <thead>\n    <tr style=\"text-align: right;\">\n      <th></th>\n      <th>Pclass</th>\n      <th>Name</th>\n      <th>Age</th>\n      <th>SibSp</th>\n      <th>Parch</th>\n      <th>Ticket</th>\n      <th>Fare</th>\n      <th>Cabin</th>\n      <th>Embarked</th>\n    </tr>\n    <tr>\n      <th>PassengerId</th>\n      <th></th>\n      <th></th>\n      <th></th>\n      <th></th>\n      <th></th>\n      <th></th>\n      <th></th>\n      <th></th>\n      <th></th>\n    </tr>\n  </thead>\n  <tbody>\n    <tr>\n      <th>874</th>\n      <td>3</td>\n      <td>Vander Cruyssen, Mr. Victor</td>\n      <td>47.0</td>\n      <td>0</td>\n      <td>0</td>\n      <td>345765</td>\n      <td>9.0</td>\n      <td>&lt;NA&gt;</td>\n      <td>S</td>\n    </tr>\n    <tr>\n      <th>829</th>\n      <td>3</td>\n      <td>McCormack, Mr. Thomas Joseph</td>\n      <td>&lt;NA&gt;</td>\n      <td>0</td>\n      <td>0</td>\n      <td>367228</td>\n      <td>7.75</td>\n      <td>&lt;NA&gt;</td>\n      <td>Q</td>\n    </tr>\n    <tr>\n      <th>100</th>\n      <td>2</td>\n      <td>Kantor, Mr. Sinai</td>\n      <td>34.0</td>\n      <td>1</td>\n      <td>0</td>\n      <td>244367</td>\n      <td>26.0</td>\n      <td>&lt;NA&gt;</td>\n      <td>S</td>\n    </tr>\n    <tr>\n      <th>524</th>\n      <td>1</td>\n      <td>Hippach, Mrs. Louis Albert (Ida Sophia Fischer)</td>\n      <td>44.0</td>\n      <td>0</td>\n      <td>1</td>\n      <td>111361</td>\n      <td>57.9792</td>\n      <td>B18</td>\n      <td>C</td>\n    </tr>\n    <tr>\n      <th>133</th>\n      <td>3</td>\n      <td>Robins, Mrs. Alexander A (Grace Charity Laury)</td>\n      <td>47.0</td>\n      <td>1</td>\n      <td>0</td>\n      <td>A/5. 3337</td>\n      <td>14.5</td>\n      <td>&lt;NA&gt;</td>\n      <td>S</td>\n    </tr>\n    <tr>\n      <th>...</th>\n      <td>...</td>\n      <td>...</td>\n      <td>...</td>\n      <td>...</td>\n      <td>...</td>\n      <td>...</td>\n      <td>...</td>\n      <td>...</td>\n      <td>...</td>\n    </tr>\n    <tr>\n      <th>407</th>\n      <td>3</td>\n      <td>Widegren, Mr. Carl/Charles Peter</td>\n      <td>51.0</td>\n      <td>0</td>\n      <td>0</td>\n      <td>347064</td>\n      <td>7.75</td>\n      <td>&lt;NA&gt;</td>\n      <td>S</td>\n    </tr>\n    <tr>\n      <th>391</th>\n      <td>1</td>\n      <td>Carter, Mr. William Ernest</td>\n      <td>36.0</td>\n      <td>1</td>\n      <td>2</td>\n      <td>113760</td>\n      <td>120.0</td>\n      <td>B96 B98</td>\n      <td>S</td>\n    </tr>\n    <tr>\n      <th>144</th>\n      <td>3</td>\n      <td>Burke, Mr. Jeremiah</td>\n      <td>19.0</td>\n      <td>0</td>\n      <td>0</td>\n      <td>365222</td>\n      <td>6.75</td>\n      <td>&lt;NA&gt;</td>\n      <td>Q</td>\n    </tr>\n    <tr>\n      <th>242</th>\n      <td>3</td>\n      <td>Murphy, Miss. Katherine \"Kate\"</td>\n      <td>&lt;NA&gt;</td>\n      <td>1</td>\n      <td>0</td>\n      <td>367230</td>\n      <td>15.5</td>\n      <td>&lt;NA&gt;</td>\n      <td>Q</td>\n    </tr>\n    <tr>\n      <th>624</th>\n      <td>3</td>\n      <td>Hansen, Mr. Henry Damsgaard</td>\n      <td>21.0</td>\n      <td>0</td>\n      <td>0</td>\n      <td>350029</td>\n      <td>7.8542</td>\n      <td>&lt;NA&gt;</td>\n      <td>S</td>\n    </tr>\n  </tbody>\n</table>\n<p>712 rows × 9 columns</p>\n</div>"
     },
     "execution_count": 7,
     "metadata": {},
     "output_type": "execute_result"
    }
   ],
   "source": [
    "X_train"
   ],
   "metadata": {
    "collapsed": false,
    "ExecuteTime": {
     "end_time": "2024-03-30T20:21:51.884025Z",
     "start_time": "2024-03-30T20:21:51.866847Z"
    }
   },
   "id": "1875e17dab11509d",
   "execution_count": 7
  },
  {
   "cell_type": "markdown",
   "source": [
    "### Data Pre-Processing after splitting the data to prevent data - leakage"
   ],
   "metadata": {
    "collapsed": false
   },
   "id": "81f55df3da10ac26"
  },
  {
   "cell_type": "markdown",
   "source": [
    "##### Data Imputation for the Age column by utilizing the mean of other values"
   ],
   "metadata": {
    "collapsed": false
   },
   "id": "60171126b50771b0"
  },
  {
   "cell_type": "code",
   "outputs": [],
   "source": [
    "#Data Imputation for the Age column\n",
    "data = [X_train, X_test, to_test]\n",
    "for dataset in data:\n",
    "    mean = X_train[\"Age\"].mean()\n",
    "    std = X_test[\"Age\"].std()\n",
    "    is_null = dataset[\"Age\"].isna().sum()\n",
    "    rand_age = np.random.randint(mean - std, mean + std, size = is_null)\n",
    "    rand_age_series = pd.Series(rand_age, index=dataset[dataset[\"Age\"].isnull()].index)\n",
    "    dataset[\"Age\"].fillna(rand_age_series, inplace=True)\n",
    "    dataset[\"Age\"] = dataset[\"Age\"].astype(int)\n",
    "    "
   ],
   "metadata": {
    "collapsed": false,
    "ExecuteTime": {
     "end_time": "2024-03-30T20:21:56.750481Z",
     "start_time": "2024-03-30T20:21:56.729196Z"
    }
   },
   "id": "382104a86596fa97",
   "execution_count": 8
  },
  {
   "cell_type": "markdown",
   "source": [
    "##### Feature Engineering"
   ],
   "metadata": {
    "collapsed": false
   },
   "id": "a8339020fd3f3ded"
  },
  {
   "cell_type": "code",
   "outputs": [],
   "source": [
    "#Feature Engineering the Deck Column \n",
    "#Cabins are mapped to a numerical Deck feature\n",
    "\n",
    "deck = {\"A\": 1, \"B\": 2, \"C\": 3, \"D\": 4, \"E\": 5, \"F\": 6, \"G\": 7, \"U\": 8}\n",
    "\n",
    "for dataset in data:\n",
    "    \n",
    "    dataset['Cabin'] = dataset['Cabin'].fillna(\"U0\")\n",
    "    dataset['Deck'] = dataset['Cabin'].map(lambda x: re.compile(\"([a-zA-Z]+)\").search(x).group())\n",
    "    dataset['Deck'] = dataset['Deck'].map(deck)\n",
    "    dataset['Deck'] = dataset['Deck'].fillna(0)\n",
    "    dataset['Deck'] = dataset['Deck'].astype(int)\n",
    "    \n",
    "    dataset[\"Family_Name\"] = dataset['Name'].str.split(',', n = 1, expand=True)[0]\n",
    "    #dataset.drop([\"Cabin\"], axis=1, inplace=True)"
   ],
   "metadata": {
    "collapsed": false,
    "ExecuteTime": {
     "end_time": "2024-03-29T22:25:46.145084Z",
     "start_time": "2024-03-29T22:25:46.133661Z"
    }
   },
   "id": "e8ca56c07025d74e",
   "execution_count": 9
  },
  {
   "cell_type": "code",
   "outputs": [],
   "source": [
    "X_train[\"Embarked\"].describe()\n",
    "for dataset in [X_train, X_test, to_test]:\n",
    "    dataset['Embarked'].fillna(dataset['Embarked'].mode()[0], inplace=True)\n"
   ],
   "metadata": {
    "collapsed": false,
    "ExecuteTime": {
     "end_time": "2024-03-29T22:25:46.152600Z",
     "start_time": "2024-03-29T22:25:46.146089Z"
    }
   },
   "id": "46c7b88f0da0a969",
   "execution_count": 10
  },
  {
   "cell_type": "code",
   "outputs": [
    {
     "data": {
      "text/plain": "Pclass         False\nName           False\nAge            False\nSibSp          False\nParch          False\nTicket         False\nFare           False\nCabin          False\nEmbarked       False\nDeck           False\nFamily_Name    False\ndtype: bool"
     },
     "execution_count": 11,
     "metadata": {},
     "output_type": "execute_result"
    }
   ],
   "source": [
    "X_train.isna().any()"
   ],
   "metadata": {
    "collapsed": false,
    "ExecuteTime": {
     "end_time": "2024-03-29T22:25:46.159267Z",
     "start_time": "2024-03-29T22:25:46.152600Z"
    }
   },
   "id": "32c820fc22b56a5d",
   "execution_count": 11
  },
  {
   "cell_type": "code",
   "outputs": [
    {
     "name": "stdout",
     "output_type": "stream",
     "text": [
      "['Mr' 'Mrs' 'Miss' 'Master' 'Dr' 'Col' 'Rev' 'Jonkheer' 'Mlle' 'Sir' 'Ms'\n",
      " 'Capt' 'Major' 'Don']\n",
      "['Mr' 'Mrs' 'Miss' 'Master' 'Rare']\n",
      "['Mr' 'Mrs' 'Miss' 'Master' 'Rare']\n"
     ]
    }
   ],
   "source": [
    "#Feature Engineering Title Column\n",
    "status_map={'Capt':'Military',\n",
    "            'Col':'Military',\n",
    "            'Don':'Noble',\n",
    "            'Dona':'Noble',\n",
    "            'Dr':'Dr',\n",
    "            'Jonkheer':'Noble',\n",
    "            'Lady':'Noble',\n",
    "            'Major':'Military',\n",
    "            'Master':'Common',\n",
    "            'Miss':'Common',\n",
    "            'Mlle':'Common',\n",
    "            'Mme':'Common',\n",
    "            'Mr':'Common',\n",
    "            'Mrs':'Common',\n",
    "            'Ms':'Common',\n",
    "            'Rev':'Clergy',\n",
    "            'Sir':'Noble',\n",
    "            'the Countess':'Noble',\n",
    "            }\n",
    "\n",
    "for dataset in data:\n",
    "    dataset[\"Title\"] = dataset[\"Name\"].apply(lambda x: x.split(\",\")[1].split(\".\")[0].strip())\n",
    "    print(pd.unique(X_train[\"Title\"]))\n",
    "    #dataset['Social_Status'] = dataset['Title'].map(status_map)\n",
    "    dataset['Title'] = dataset['Title'].replace(['Lady', 'Countess','Capt', 'Col',\\\n",
    " \t'Don', 'Dr', 'Major', 'Rev', 'Sir', 'Jonkheer', 'Dona'], 'Rare')\n",
    "\n",
    "    dataset['Title'] = dataset['Title'].replace('Mlle', 'Miss')\n",
    "    dataset['Title'] = dataset['Title'].replace('Ms', 'Miss')\n",
    "    dataset['Title'] = dataset['Title'].replace('Mme', 'Mrs')\n"
   ],
   "metadata": {
    "collapsed": false,
    "ExecuteTime": {
     "end_time": "2024-03-29T22:25:46.174404Z",
     "start_time": "2024-03-29T22:25:46.159267Z"
    }
   },
   "id": "f6cd938e3addfb44",
   "execution_count": 12
  },
  {
   "cell_type": "code",
   "outputs": [],
   "source": [
    "#Feature Engineering Sex Column \n",
    "def map_to_sex(value):\n",
    "    if value in [\"Miss\",\"Mrs\"]:\n",
    "        return \"female\"\n",
    "    else:\n",
    "        return \"male\"\n",
    "\n",
    "for dataset in data:\n",
    "    dataset[\"Sex\"] = dataset[\"Title\"].apply(map_to_sex)\n",
    "    dataset['Sex'] = dataset['Sex'].map( {'female': 1, 'male': 0} ).astype(int)\n",
    "    #dataset.drop(\"Title\", axis=1, inplace=True)"
   ],
   "metadata": {
    "collapsed": false,
    "ExecuteTime": {
     "end_time": "2024-03-29T22:25:46.183083Z",
     "start_time": "2024-03-29T22:25:46.175410Z"
    }
   },
   "id": "502afae6ac628fa2",
   "execution_count": 13
  },
  {
   "cell_type": "code",
   "outputs": [
    {
     "data": {
      "text/plain": "             Pclass                                             Name  Age  \\\nPassengerId                                                                 \n874               3                      Vander Cruyssen, Mr. Victor   47   \n829               3                     McCormack, Mr. Thomas Joseph   27   \n100               2                                Kantor, Mr. Sinai   34   \n524               1  Hippach, Mrs. Louis Albert (Ida Sophia Fischer)   44   \n133               3   Robins, Mrs. Alexander A (Grace Charity Laury)   47   \n...             ...                                              ...  ...   \n407               3                 Widegren, Mr. Carl/Charles Peter   51   \n391               1                       Carter, Mr. William Ernest   36   \n144               3                              Burke, Mr. Jeremiah   19   \n242               3                   Murphy, Miss. Katherine \"Kate\"   19   \n624               3                      Hansen, Mr. Henry Damsgaard   21   \n\n             SibSp  Parch     Ticket     Fare    Cabin Embarked  Deck  \\\nPassengerId                                                             \n874              0      0     345765      9.0       U0        S     8   \n829              0      0     367228     7.75       U0        Q     8   \n100              1      0     244367     26.0       U0        S     8   \n524              0      1     111361  57.9792      B18        C     2   \n133              1      0  A/5. 3337     14.5       U0        S     8   \n...            ...    ...        ...      ...      ...      ...   ...   \n407              0      0     347064     7.75       U0        S     8   \n391              1      2     113760    120.0  B96 B98        S     2   \n144              0      0     365222     6.75       U0        Q     8   \n242              1      0     367230     15.5       U0        Q     8   \n624              0      0     350029   7.8542       U0        S     8   \n\n                 Family_Name Title  Sex  \nPassengerId                              \n874          Vander Cruyssen    Mr    0  \n829                McCormack    Mr    0  \n100                   Kantor    Mr    0  \n524                  Hippach   Mrs    1  \n133                   Robins   Mrs    1  \n...                      ...   ...  ...  \n407                 Widegren    Mr    0  \n391                   Carter    Mr    0  \n144                    Burke    Mr    0  \n242                   Murphy  Miss    1  \n624                   Hansen    Mr    0  \n\n[712 rows x 13 columns]",
      "text/html": "<div>\n<style scoped>\n    .dataframe tbody tr th:only-of-type {\n        vertical-align: middle;\n    }\n\n    .dataframe tbody tr th {\n        vertical-align: top;\n    }\n\n    .dataframe thead th {\n        text-align: right;\n    }\n</style>\n<table border=\"1\" class=\"dataframe\">\n  <thead>\n    <tr style=\"text-align: right;\">\n      <th></th>\n      <th>Pclass</th>\n      <th>Name</th>\n      <th>Age</th>\n      <th>SibSp</th>\n      <th>Parch</th>\n      <th>Ticket</th>\n      <th>Fare</th>\n      <th>Cabin</th>\n      <th>Embarked</th>\n      <th>Deck</th>\n      <th>Family_Name</th>\n      <th>Title</th>\n      <th>Sex</th>\n    </tr>\n    <tr>\n      <th>PassengerId</th>\n      <th></th>\n      <th></th>\n      <th></th>\n      <th></th>\n      <th></th>\n      <th></th>\n      <th></th>\n      <th></th>\n      <th></th>\n      <th></th>\n      <th></th>\n      <th></th>\n      <th></th>\n    </tr>\n  </thead>\n  <tbody>\n    <tr>\n      <th>874</th>\n      <td>3</td>\n      <td>Vander Cruyssen, Mr. Victor</td>\n      <td>47</td>\n      <td>0</td>\n      <td>0</td>\n      <td>345765</td>\n      <td>9.0</td>\n      <td>U0</td>\n      <td>S</td>\n      <td>8</td>\n      <td>Vander Cruyssen</td>\n      <td>Mr</td>\n      <td>0</td>\n    </tr>\n    <tr>\n      <th>829</th>\n      <td>3</td>\n      <td>McCormack, Mr. Thomas Joseph</td>\n      <td>27</td>\n      <td>0</td>\n      <td>0</td>\n      <td>367228</td>\n      <td>7.75</td>\n      <td>U0</td>\n      <td>Q</td>\n      <td>8</td>\n      <td>McCormack</td>\n      <td>Mr</td>\n      <td>0</td>\n    </tr>\n    <tr>\n      <th>100</th>\n      <td>2</td>\n      <td>Kantor, Mr. Sinai</td>\n      <td>34</td>\n      <td>1</td>\n      <td>0</td>\n      <td>244367</td>\n      <td>26.0</td>\n      <td>U0</td>\n      <td>S</td>\n      <td>8</td>\n      <td>Kantor</td>\n      <td>Mr</td>\n      <td>0</td>\n    </tr>\n    <tr>\n      <th>524</th>\n      <td>1</td>\n      <td>Hippach, Mrs. Louis Albert (Ida Sophia Fischer)</td>\n      <td>44</td>\n      <td>0</td>\n      <td>1</td>\n      <td>111361</td>\n      <td>57.9792</td>\n      <td>B18</td>\n      <td>C</td>\n      <td>2</td>\n      <td>Hippach</td>\n      <td>Mrs</td>\n      <td>1</td>\n    </tr>\n    <tr>\n      <th>133</th>\n      <td>3</td>\n      <td>Robins, Mrs. Alexander A (Grace Charity Laury)</td>\n      <td>47</td>\n      <td>1</td>\n      <td>0</td>\n      <td>A/5. 3337</td>\n      <td>14.5</td>\n      <td>U0</td>\n      <td>S</td>\n      <td>8</td>\n      <td>Robins</td>\n      <td>Mrs</td>\n      <td>1</td>\n    </tr>\n    <tr>\n      <th>...</th>\n      <td>...</td>\n      <td>...</td>\n      <td>...</td>\n      <td>...</td>\n      <td>...</td>\n      <td>...</td>\n      <td>...</td>\n      <td>...</td>\n      <td>...</td>\n      <td>...</td>\n      <td>...</td>\n      <td>...</td>\n      <td>...</td>\n    </tr>\n    <tr>\n      <th>407</th>\n      <td>3</td>\n      <td>Widegren, Mr. Carl/Charles Peter</td>\n      <td>51</td>\n      <td>0</td>\n      <td>0</td>\n      <td>347064</td>\n      <td>7.75</td>\n      <td>U0</td>\n      <td>S</td>\n      <td>8</td>\n      <td>Widegren</td>\n      <td>Mr</td>\n      <td>0</td>\n    </tr>\n    <tr>\n      <th>391</th>\n      <td>1</td>\n      <td>Carter, Mr. William Ernest</td>\n      <td>36</td>\n      <td>1</td>\n      <td>2</td>\n      <td>113760</td>\n      <td>120.0</td>\n      <td>B96 B98</td>\n      <td>S</td>\n      <td>2</td>\n      <td>Carter</td>\n      <td>Mr</td>\n      <td>0</td>\n    </tr>\n    <tr>\n      <th>144</th>\n      <td>3</td>\n      <td>Burke, Mr. Jeremiah</td>\n      <td>19</td>\n      <td>0</td>\n      <td>0</td>\n      <td>365222</td>\n      <td>6.75</td>\n      <td>U0</td>\n      <td>Q</td>\n      <td>8</td>\n      <td>Burke</td>\n      <td>Mr</td>\n      <td>0</td>\n    </tr>\n    <tr>\n      <th>242</th>\n      <td>3</td>\n      <td>Murphy, Miss. Katherine \"Kate\"</td>\n      <td>19</td>\n      <td>1</td>\n      <td>0</td>\n      <td>367230</td>\n      <td>15.5</td>\n      <td>U0</td>\n      <td>Q</td>\n      <td>8</td>\n      <td>Murphy</td>\n      <td>Miss</td>\n      <td>1</td>\n    </tr>\n    <tr>\n      <th>624</th>\n      <td>3</td>\n      <td>Hansen, Mr. Henry Damsgaard</td>\n      <td>21</td>\n      <td>0</td>\n      <td>0</td>\n      <td>350029</td>\n      <td>7.8542</td>\n      <td>U0</td>\n      <td>S</td>\n      <td>8</td>\n      <td>Hansen</td>\n      <td>Mr</td>\n      <td>0</td>\n    </tr>\n  </tbody>\n</table>\n<p>712 rows × 13 columns</p>\n</div>"
     },
     "execution_count": 14,
     "metadata": {},
     "output_type": "execute_result"
    }
   ],
   "source": [
    "X_train"
   ],
   "metadata": {
    "collapsed": false,
    "ExecuteTime": {
     "end_time": "2024-03-29T22:25:46.196218Z",
     "start_time": "2024-03-29T22:25:46.184088Z"
    }
   },
   "id": "c5037514f31d96f3",
   "execution_count": 14
  },
  {
   "cell_type": "code",
   "outputs": [],
   "source": [
    "#Feature Engineering Family Size Column\n",
    "for dataset in data:\n",
    "    dataset[\"Fam_size\"] = dataset[\"SibSp\"] + dataset[\"Parch\"] + 1\n",
    "    #dataset[\"Fam_type\"] = pd.cut(dataset.Fam_size, [0,1,4,7,11], labels=[\"Solo\", \"Small\", \"Big\", \"Very big\"])\n",
    "    dataset['IsAlone'] = 0\n",
    "    dataset.loc[dataset['Fam_size'] == 1, 'IsAlone'] = 1\n",
    "    dataset.drop([\"SibSp\",\"Parch\"], axis=1, inplace=True)"
   ],
   "metadata": {
    "collapsed": false,
    "ExecuteTime": {
     "end_time": "2024-03-29T22:25:46.207149Z",
     "start_time": "2024-03-29T22:25:46.197223Z"
    }
   },
   "id": "7611fdcd2568120a",
   "execution_count": 15
  },
  {
   "cell_type": "code",
   "outputs": [
    {
     "data": {
      "text/plain": "145"
     },
     "execution_count": 16,
     "metadata": {},
     "output_type": "execute_result"
    }
   ],
   "source": [
    "X_train[\"Ticket\"].duplicated().sum()\n"
   ],
   "metadata": {
    "collapsed": false,
    "ExecuteTime": {
     "end_time": "2024-03-29T22:25:46.215153Z",
     "start_time": "2024-03-29T22:25:46.208162Z"
    }
   },
   "id": "3c726e1e72f3104c",
   "execution_count": 16
  },
  {
   "cell_type": "code",
   "outputs": [
    {
     "data": {
      "text/plain": "712"
     },
     "execution_count": 17,
     "metadata": {},
     "output_type": "execute_result"
    }
   ],
   "source": [
    "len(X_train)"
   ],
   "metadata": {
    "collapsed": false,
    "ExecuteTime": {
     "end_time": "2024-03-29T22:25:46.222156Z",
     "start_time": "2024-03-29T22:25:46.215153Z"
    }
   },
   "id": "84e9354197ef3ff7",
   "execution_count": 17
  },
  {
   "cell_type": "code",
   "outputs": [
    {
     "data": {
      "text/plain": "             Pclass                                             Name  Age  \\\nPassengerId                                                                 \n874               3                      Vander Cruyssen, Mr. Victor   47   \n829               3                     McCormack, Mr. Thomas Joseph   27   \n100               2                                Kantor, Mr. Sinai   34   \n524               1  Hippach, Mrs. Louis Albert (Ida Sophia Fischer)   44   \n133               3   Robins, Mrs. Alexander A (Grace Charity Laury)   47   \n...             ...                                              ...  ...   \n407               3                 Widegren, Mr. Carl/Charles Peter   51   \n391               1                       Carter, Mr. William Ernest   36   \n144               3                              Burke, Mr. Jeremiah   19   \n242               3                   Murphy, Miss. Katherine \"Kate\"   19   \n624               3                      Hansen, Mr. Henry Damsgaard   21   \n\n                Ticket     Fare    Cabin Embarked  Deck      Family_Name  \\\nPassengerId                                                                \n874             345765      9.0       U0        S     8  Vander Cruyssen   \n829             367228     7.75       U0        Q     8        McCormack   \n100             244367     26.0       U0        S     8           Kantor   \n524             111361  57.9792      B18        C     2          Hippach   \n133          A/5. 3337     14.5       U0        S     8           Robins   \n...                ...      ...      ...      ...   ...              ...   \n407             347064     7.75       U0        S     8         Widegren   \n391             113760    120.0  B96 B98        S     2           Carter   \n144             365222     6.75       U0        Q     8            Burke   \n242             367230     15.5       U0        Q     8           Murphy   \n624             350029   7.8542       U0        S     8           Hansen   \n\n            Title  Sex  Fam_size  IsAlone  \nPassengerId                                \n874            Mr    0         1        1  \n829            Mr    0         1        1  \n100            Mr    0         2        0  \n524           Mrs    1         2        0  \n133           Mrs    1         2        0  \n...           ...  ...       ...      ...  \n407            Mr    0         1        1  \n391            Mr    0         4        0  \n144            Mr    0         1        1  \n242          Miss    1         2        0  \n624            Mr    0         1        1  \n\n[712 rows x 13 columns]",
      "text/html": "<div>\n<style scoped>\n    .dataframe tbody tr th:only-of-type {\n        vertical-align: middle;\n    }\n\n    .dataframe tbody tr th {\n        vertical-align: top;\n    }\n\n    .dataframe thead th {\n        text-align: right;\n    }\n</style>\n<table border=\"1\" class=\"dataframe\">\n  <thead>\n    <tr style=\"text-align: right;\">\n      <th></th>\n      <th>Pclass</th>\n      <th>Name</th>\n      <th>Age</th>\n      <th>Ticket</th>\n      <th>Fare</th>\n      <th>Cabin</th>\n      <th>Embarked</th>\n      <th>Deck</th>\n      <th>Family_Name</th>\n      <th>Title</th>\n      <th>Sex</th>\n      <th>Fam_size</th>\n      <th>IsAlone</th>\n    </tr>\n    <tr>\n      <th>PassengerId</th>\n      <th></th>\n      <th></th>\n      <th></th>\n      <th></th>\n      <th></th>\n      <th></th>\n      <th></th>\n      <th></th>\n      <th></th>\n      <th></th>\n      <th></th>\n      <th></th>\n      <th></th>\n    </tr>\n  </thead>\n  <tbody>\n    <tr>\n      <th>874</th>\n      <td>3</td>\n      <td>Vander Cruyssen, Mr. Victor</td>\n      <td>47</td>\n      <td>345765</td>\n      <td>9.0</td>\n      <td>U0</td>\n      <td>S</td>\n      <td>8</td>\n      <td>Vander Cruyssen</td>\n      <td>Mr</td>\n      <td>0</td>\n      <td>1</td>\n      <td>1</td>\n    </tr>\n    <tr>\n      <th>829</th>\n      <td>3</td>\n      <td>McCormack, Mr. Thomas Joseph</td>\n      <td>27</td>\n      <td>367228</td>\n      <td>7.75</td>\n      <td>U0</td>\n      <td>Q</td>\n      <td>8</td>\n      <td>McCormack</td>\n      <td>Mr</td>\n      <td>0</td>\n      <td>1</td>\n      <td>1</td>\n    </tr>\n    <tr>\n      <th>100</th>\n      <td>2</td>\n      <td>Kantor, Mr. Sinai</td>\n      <td>34</td>\n      <td>244367</td>\n      <td>26.0</td>\n      <td>U0</td>\n      <td>S</td>\n      <td>8</td>\n      <td>Kantor</td>\n      <td>Mr</td>\n      <td>0</td>\n      <td>2</td>\n      <td>0</td>\n    </tr>\n    <tr>\n      <th>524</th>\n      <td>1</td>\n      <td>Hippach, Mrs. Louis Albert (Ida Sophia Fischer)</td>\n      <td>44</td>\n      <td>111361</td>\n      <td>57.9792</td>\n      <td>B18</td>\n      <td>C</td>\n      <td>2</td>\n      <td>Hippach</td>\n      <td>Mrs</td>\n      <td>1</td>\n      <td>2</td>\n      <td>0</td>\n    </tr>\n    <tr>\n      <th>133</th>\n      <td>3</td>\n      <td>Robins, Mrs. Alexander A (Grace Charity Laury)</td>\n      <td>47</td>\n      <td>A/5. 3337</td>\n      <td>14.5</td>\n      <td>U0</td>\n      <td>S</td>\n      <td>8</td>\n      <td>Robins</td>\n      <td>Mrs</td>\n      <td>1</td>\n      <td>2</td>\n      <td>0</td>\n    </tr>\n    <tr>\n      <th>...</th>\n      <td>...</td>\n      <td>...</td>\n      <td>...</td>\n      <td>...</td>\n      <td>...</td>\n      <td>...</td>\n      <td>...</td>\n      <td>...</td>\n      <td>...</td>\n      <td>...</td>\n      <td>...</td>\n      <td>...</td>\n      <td>...</td>\n    </tr>\n    <tr>\n      <th>407</th>\n      <td>3</td>\n      <td>Widegren, Mr. Carl/Charles Peter</td>\n      <td>51</td>\n      <td>347064</td>\n      <td>7.75</td>\n      <td>U0</td>\n      <td>S</td>\n      <td>8</td>\n      <td>Widegren</td>\n      <td>Mr</td>\n      <td>0</td>\n      <td>1</td>\n      <td>1</td>\n    </tr>\n    <tr>\n      <th>391</th>\n      <td>1</td>\n      <td>Carter, Mr. William Ernest</td>\n      <td>36</td>\n      <td>113760</td>\n      <td>120.0</td>\n      <td>B96 B98</td>\n      <td>S</td>\n      <td>2</td>\n      <td>Carter</td>\n      <td>Mr</td>\n      <td>0</td>\n      <td>4</td>\n      <td>0</td>\n    </tr>\n    <tr>\n      <th>144</th>\n      <td>3</td>\n      <td>Burke, Mr. Jeremiah</td>\n      <td>19</td>\n      <td>365222</td>\n      <td>6.75</td>\n      <td>U0</td>\n      <td>Q</td>\n      <td>8</td>\n      <td>Burke</td>\n      <td>Mr</td>\n      <td>0</td>\n      <td>1</td>\n      <td>1</td>\n    </tr>\n    <tr>\n      <th>242</th>\n      <td>3</td>\n      <td>Murphy, Miss. Katherine \"Kate\"</td>\n      <td>19</td>\n      <td>367230</td>\n      <td>15.5</td>\n      <td>U0</td>\n      <td>Q</td>\n      <td>8</td>\n      <td>Murphy</td>\n      <td>Miss</td>\n      <td>1</td>\n      <td>2</td>\n      <td>0</td>\n    </tr>\n    <tr>\n      <th>624</th>\n      <td>3</td>\n      <td>Hansen, Mr. Henry Damsgaard</td>\n      <td>21</td>\n      <td>350029</td>\n      <td>7.8542</td>\n      <td>U0</td>\n      <td>S</td>\n      <td>8</td>\n      <td>Hansen</td>\n      <td>Mr</td>\n      <td>0</td>\n      <td>1</td>\n      <td>1</td>\n    </tr>\n  </tbody>\n</table>\n<p>712 rows × 13 columns</p>\n</div>"
     },
     "execution_count": 18,
     "metadata": {},
     "output_type": "execute_result"
    }
   ],
   "source": [
    "X_train"
   ],
   "metadata": {
    "collapsed": false,
    "ExecuteTime": {
     "end_time": "2024-03-29T22:25:46.237525Z",
     "start_time": "2024-03-29T22:25:46.222660Z"
    }
   },
   "id": "96eb3d148ad819dd",
   "execution_count": 18
  },
  {
   "cell_type": "code",
   "outputs": [
    {
     "data": {
      "text/plain": "\"\\nfor dataset in data:\\n    for i, row in dataset.iterrows():\\n        group_survival_estimate = 0.5\\n        \\n        # Identifiable family aboard\\n        if row['SibSp'] > 0 or row['Parch'] > 0:\\n            similar_passengers = dataset[\\n                (dataset['Pclass'] == row['Pclass']) &\\n                (dataset['Embarked'] == row['Embarked']) &\\n                (dataset['Fam_size'] == row['Fam_size']) &\\n                (dataset.index != i)\\n            ]\\n            \\n            \\n            if not similar_passengers.empty:\\n                survived_count = similar_passengers['Survived'].sum()\\n                total_count = similar_passengers['Survived'].count()\\n                group_survival_estimate = survived_count / total_count if total_count > 0 else 0.5\\n        \\n        \\n        dataset.at[i, 'GroupSurvivabilityEstimate'] = group_survival_estimate\\n\""
     },
     "execution_count": 19,
     "metadata": {},
     "output_type": "execute_result"
    }
   ],
   "source": [
    "'''\n",
    "for dataset in data:\n",
    "    for i, row in dataset.iterrows():\n",
    "        group_survival_estimate = 0.5\n",
    "        \n",
    "        # Identifiable family aboard\n",
    "        if row['SibSp'] > 0 or row['Parch'] > 0:\n",
    "            similar_passengers = dataset[\n",
    "                (dataset['Pclass'] == row['Pclass']) &\n",
    "                (dataset['Embarked'] == row['Embarked']) &\n",
    "                (dataset['Fam_size'] == row['Fam_size']) &\n",
    "                (dataset.index != i)\n",
    "            ]\n",
    "            \n",
    "            \n",
    "            if not similar_passengers.empty:\n",
    "                survived_count = similar_passengers['Survived'].sum()\n",
    "                total_count = similar_passengers['Survived'].count()\n",
    "                group_survival_estimate = survived_count / total_count if total_count > 0 else 0.5\n",
    "        \n",
    "        \n",
    "        dataset.at[i, 'GroupSurvivabilityEstimate'] = group_survival_estimate\n",
    "'''"
   ],
   "metadata": {
    "collapsed": false,
    "ExecuteTime": {
     "end_time": "2024-03-29T22:25:46.242035Z",
     "start_time": "2024-03-29T22:25:46.238531Z"
    }
   },
   "id": "16ad6f243f7a2be0",
   "execution_count": 19
  },
  {
   "cell_type": "code",
   "outputs": [
    {
     "data": {
      "text/plain": "             Pclass                                             Name  Age  \\\nPassengerId                                                                 \n874               3                      Vander Cruyssen, Mr. Victor   47   \n829               3                     McCormack, Mr. Thomas Joseph   27   \n100               2                                Kantor, Mr. Sinai   34   \n524               1  Hippach, Mrs. Louis Albert (Ida Sophia Fischer)   44   \n133               3   Robins, Mrs. Alexander A (Grace Charity Laury)   47   \n...             ...                                              ...  ...   \n407               3                 Widegren, Mr. Carl/Charles Peter   51   \n391               1                       Carter, Mr. William Ernest   36   \n144               3                              Burke, Mr. Jeremiah   19   \n242               3                   Murphy, Miss. Katherine \"Kate\"   19   \n624               3                      Hansen, Mr. Henry Damsgaard   21   \n\n                Ticket     Fare    Cabin Embarked  Deck      Family_Name  \\\nPassengerId                                                                \n874             345765      9.0       U0        S     8  Vander Cruyssen   \n829             367228     7.75       U0        Q     8        McCormack   \n100             244367     26.0       U0        S     8           Kantor   \n524             111361  57.9792      B18        C     2          Hippach   \n133          A/5. 3337     14.5       U0        S     8           Robins   \n...                ...      ...      ...      ...   ...              ...   \n407             347064     7.75       U0        S     8         Widegren   \n391             113760    120.0  B96 B98        S     2           Carter   \n144             365222     6.75       U0        Q     8            Burke   \n242             367230     15.5       U0        Q     8           Murphy   \n624             350029   7.8542       U0        S     8           Hansen   \n\n            Title  Sex  Fam_size  IsAlone  \nPassengerId                                \n874            Mr    0         1        1  \n829            Mr    0         1        1  \n100            Mr    0         2        0  \n524           Mrs    1         2        0  \n133           Mrs    1         2        0  \n...           ...  ...       ...      ...  \n407            Mr    0         1        1  \n391            Mr    0         4        0  \n144            Mr    0         1        1  \n242          Miss    1         2        0  \n624            Mr    0         1        1  \n\n[712 rows x 13 columns]",
      "text/html": "<div>\n<style scoped>\n    .dataframe tbody tr th:only-of-type {\n        vertical-align: middle;\n    }\n\n    .dataframe tbody tr th {\n        vertical-align: top;\n    }\n\n    .dataframe thead th {\n        text-align: right;\n    }\n</style>\n<table border=\"1\" class=\"dataframe\">\n  <thead>\n    <tr style=\"text-align: right;\">\n      <th></th>\n      <th>Pclass</th>\n      <th>Name</th>\n      <th>Age</th>\n      <th>Ticket</th>\n      <th>Fare</th>\n      <th>Cabin</th>\n      <th>Embarked</th>\n      <th>Deck</th>\n      <th>Family_Name</th>\n      <th>Title</th>\n      <th>Sex</th>\n      <th>Fam_size</th>\n      <th>IsAlone</th>\n    </tr>\n    <tr>\n      <th>PassengerId</th>\n      <th></th>\n      <th></th>\n      <th></th>\n      <th></th>\n      <th></th>\n      <th></th>\n      <th></th>\n      <th></th>\n      <th></th>\n      <th></th>\n      <th></th>\n      <th></th>\n      <th></th>\n    </tr>\n  </thead>\n  <tbody>\n    <tr>\n      <th>874</th>\n      <td>3</td>\n      <td>Vander Cruyssen, Mr. Victor</td>\n      <td>47</td>\n      <td>345765</td>\n      <td>9.0</td>\n      <td>U0</td>\n      <td>S</td>\n      <td>8</td>\n      <td>Vander Cruyssen</td>\n      <td>Mr</td>\n      <td>0</td>\n      <td>1</td>\n      <td>1</td>\n    </tr>\n    <tr>\n      <th>829</th>\n      <td>3</td>\n      <td>McCormack, Mr. Thomas Joseph</td>\n      <td>27</td>\n      <td>367228</td>\n      <td>7.75</td>\n      <td>U0</td>\n      <td>Q</td>\n      <td>8</td>\n      <td>McCormack</td>\n      <td>Mr</td>\n      <td>0</td>\n      <td>1</td>\n      <td>1</td>\n    </tr>\n    <tr>\n      <th>100</th>\n      <td>2</td>\n      <td>Kantor, Mr. Sinai</td>\n      <td>34</td>\n      <td>244367</td>\n      <td>26.0</td>\n      <td>U0</td>\n      <td>S</td>\n      <td>8</td>\n      <td>Kantor</td>\n      <td>Mr</td>\n      <td>0</td>\n      <td>2</td>\n      <td>0</td>\n    </tr>\n    <tr>\n      <th>524</th>\n      <td>1</td>\n      <td>Hippach, Mrs. Louis Albert (Ida Sophia Fischer)</td>\n      <td>44</td>\n      <td>111361</td>\n      <td>57.9792</td>\n      <td>B18</td>\n      <td>C</td>\n      <td>2</td>\n      <td>Hippach</td>\n      <td>Mrs</td>\n      <td>1</td>\n      <td>2</td>\n      <td>0</td>\n    </tr>\n    <tr>\n      <th>133</th>\n      <td>3</td>\n      <td>Robins, Mrs. Alexander A (Grace Charity Laury)</td>\n      <td>47</td>\n      <td>A/5. 3337</td>\n      <td>14.5</td>\n      <td>U0</td>\n      <td>S</td>\n      <td>8</td>\n      <td>Robins</td>\n      <td>Mrs</td>\n      <td>1</td>\n      <td>2</td>\n      <td>0</td>\n    </tr>\n    <tr>\n      <th>...</th>\n      <td>...</td>\n      <td>...</td>\n      <td>...</td>\n      <td>...</td>\n      <td>...</td>\n      <td>...</td>\n      <td>...</td>\n      <td>...</td>\n      <td>...</td>\n      <td>...</td>\n      <td>...</td>\n      <td>...</td>\n      <td>...</td>\n    </tr>\n    <tr>\n      <th>407</th>\n      <td>3</td>\n      <td>Widegren, Mr. Carl/Charles Peter</td>\n      <td>51</td>\n      <td>347064</td>\n      <td>7.75</td>\n      <td>U0</td>\n      <td>S</td>\n      <td>8</td>\n      <td>Widegren</td>\n      <td>Mr</td>\n      <td>0</td>\n      <td>1</td>\n      <td>1</td>\n    </tr>\n    <tr>\n      <th>391</th>\n      <td>1</td>\n      <td>Carter, Mr. William Ernest</td>\n      <td>36</td>\n      <td>113760</td>\n      <td>120.0</td>\n      <td>B96 B98</td>\n      <td>S</td>\n      <td>2</td>\n      <td>Carter</td>\n      <td>Mr</td>\n      <td>0</td>\n      <td>4</td>\n      <td>0</td>\n    </tr>\n    <tr>\n      <th>144</th>\n      <td>3</td>\n      <td>Burke, Mr. Jeremiah</td>\n      <td>19</td>\n      <td>365222</td>\n      <td>6.75</td>\n      <td>U0</td>\n      <td>Q</td>\n      <td>8</td>\n      <td>Burke</td>\n      <td>Mr</td>\n      <td>0</td>\n      <td>1</td>\n      <td>1</td>\n    </tr>\n    <tr>\n      <th>242</th>\n      <td>3</td>\n      <td>Murphy, Miss. Katherine \"Kate\"</td>\n      <td>19</td>\n      <td>367230</td>\n      <td>15.5</td>\n      <td>U0</td>\n      <td>Q</td>\n      <td>8</td>\n      <td>Murphy</td>\n      <td>Miss</td>\n      <td>1</td>\n      <td>2</td>\n      <td>0</td>\n    </tr>\n    <tr>\n      <th>624</th>\n      <td>3</td>\n      <td>Hansen, Mr. Henry Damsgaard</td>\n      <td>21</td>\n      <td>350029</td>\n      <td>7.8542</td>\n      <td>U0</td>\n      <td>S</td>\n      <td>8</td>\n      <td>Hansen</td>\n      <td>Mr</td>\n      <td>0</td>\n      <td>1</td>\n      <td>1</td>\n    </tr>\n  </tbody>\n</table>\n<p>712 rows × 13 columns</p>\n</div>"
     },
     "execution_count": 20,
     "metadata": {},
     "output_type": "execute_result"
    }
   ],
   "source": [
    "X_train"
   ],
   "metadata": {
    "collapsed": false,
    "ExecuteTime": {
     "end_time": "2024-03-29T22:25:46.264744Z",
     "start_time": "2024-03-29T22:25:46.243040Z"
    }
   },
   "id": "5a1d56f373115d6d",
   "execution_count": 20
  },
  {
   "cell_type": "code",
   "outputs": [],
   "source": [
    "#for dataset in data:\n",
    "    #dataset[\"Ticket_Group_Size\"] = dataset.groupby('Ticket')['Ticket'].transform('count')\n",
    "    #dataset.drop(\"Ticket\", axis=1, inplace = True)"
   ],
   "metadata": {
    "collapsed": false,
    "ExecuteTime": {
     "end_time": "2024-03-29T22:25:46.271172Z",
     "start_time": "2024-03-29T22:25:46.265749Z"
    }
   },
   "id": "bdc7d2c896c57bf0",
   "execution_count": 21
  },
  {
   "cell_type": "code",
   "outputs": [],
   "source": [
    "\n",
    "for dataset in data:\n",
    "    dataset['Age*Class'] = dataset['Age'] * dataset['Pclass']\n",
    "    #dataset[\"Age_Bins\"] = pd.qcut(dataset[\"Age\"], 16)\n",
    "    dataset.drop(columns=[\"Age\",\"Pclass\"], inplace=True)\n",
    "    "
   ],
   "metadata": {
    "collapsed": false,
    "ExecuteTime": {
     "end_time": "2024-03-29T22:25:46.281354Z",
     "start_time": "2024-03-29T22:25:46.272182Z"
    }
   },
   "id": "86319017430b8d13",
   "execution_count": 22
  },
  {
   "cell_type": "code",
   "outputs": [],
   "source": [
    "for dataset in data:\n",
    "    dataset['Fare'] = np.log1p(dataset['Fare'])\n",
    "    dataset['Fare_Per_Person'] = dataset['Fare'] / (dataset['Fam_size'])\n",
    "    #dataset[\"Fare_Bins\"] = pd.qcut(dataset[\"Fare\"], 16)\n",
    "    #dataset['Fare_Bin'] = pd.qcut(dataset['Fare'], 4, labels=False)\n",
    "    \n",
    "    dataset.drop(columns=[\"Fare\",\"Name\",\"Fam_size\"], axis=1, inplace=True)"
   ],
   "metadata": {
    "collapsed": false,
    "ExecuteTime": {
     "end_time": "2024-03-29T22:25:46.289313Z",
     "start_time": "2024-03-29T22:25:46.282034Z"
    }
   },
   "id": "bbea7c958369cb64",
   "execution_count": 23
  },
  {
   "cell_type": "code",
   "outputs": [],
   "source": [
    "X_train[\"Survived\"] = y_train\n",
    "X_test[\"Survived\"] = y_train"
   ],
   "metadata": {
    "collapsed": false,
    "ExecuteTime": {
     "end_time": "2024-03-29T22:25:46.294501Z",
     "start_time": "2024-03-29T22:25:46.289313Z"
    }
   },
   "id": "dd64dc1b6cbc43ac",
   "execution_count": 24
  },
  {
   "cell_type": "code",
   "outputs": [
    {
     "data": {
      "text/plain": "                Ticket    Cabin Embarked  Deck      Family_Name Title  Sex  \\\nPassengerId                                                                  \n874             345765       U0        S     8  Vander Cruyssen    Mr    0   \n829             367228       U0        Q     8        McCormack    Mr    0   \n100             244367       U0        S     8           Kantor    Mr    0   \n524             111361      B18        C     2          Hippach   Mrs    1   \n133          A/5. 3337       U0        S     8           Robins   Mrs    1   \n...                ...      ...      ...   ...              ...   ...  ...   \n407             347064       U0        S     8         Widegren    Mr    0   \n391             113760  B96 B98        S     2           Carter    Mr    0   \n144             365222       U0        Q     8            Burke    Mr    0   \n242             367230       U0        Q     8           Murphy  Miss    1   \n624             350029       U0        S     8           Hansen    Mr    0   \n\n             IsAlone  Age*Class  Fare_Per_Person  Survived  \nPassengerId                                                 \n874                1        141         2.302585         0  \n829                1         81         2.169054         1  \n100                0         68         1.647918         0  \n524                0         44         2.038592         1  \n133                0        141          1.37042         0  \n...              ...        ...              ...       ...  \n407                1        153         2.169054         0  \n391                0         36         1.198948         1  \n144                1         57         2.047693         0  \n242                0         57          1.40168         1  \n624                1         63         2.180892         0  \n\n[712 rows x 11 columns]",
      "text/html": "<div>\n<style scoped>\n    .dataframe tbody tr th:only-of-type {\n        vertical-align: middle;\n    }\n\n    .dataframe tbody tr th {\n        vertical-align: top;\n    }\n\n    .dataframe thead th {\n        text-align: right;\n    }\n</style>\n<table border=\"1\" class=\"dataframe\">\n  <thead>\n    <tr style=\"text-align: right;\">\n      <th></th>\n      <th>Ticket</th>\n      <th>Cabin</th>\n      <th>Embarked</th>\n      <th>Deck</th>\n      <th>Family_Name</th>\n      <th>Title</th>\n      <th>Sex</th>\n      <th>IsAlone</th>\n      <th>Age*Class</th>\n      <th>Fare_Per_Person</th>\n      <th>Survived</th>\n    </tr>\n    <tr>\n      <th>PassengerId</th>\n      <th></th>\n      <th></th>\n      <th></th>\n      <th></th>\n      <th></th>\n      <th></th>\n      <th></th>\n      <th></th>\n      <th></th>\n      <th></th>\n      <th></th>\n    </tr>\n  </thead>\n  <tbody>\n    <tr>\n      <th>874</th>\n      <td>345765</td>\n      <td>U0</td>\n      <td>S</td>\n      <td>8</td>\n      <td>Vander Cruyssen</td>\n      <td>Mr</td>\n      <td>0</td>\n      <td>1</td>\n      <td>141</td>\n      <td>2.302585</td>\n      <td>0</td>\n    </tr>\n    <tr>\n      <th>829</th>\n      <td>367228</td>\n      <td>U0</td>\n      <td>Q</td>\n      <td>8</td>\n      <td>McCormack</td>\n      <td>Mr</td>\n      <td>0</td>\n      <td>1</td>\n      <td>81</td>\n      <td>2.169054</td>\n      <td>1</td>\n    </tr>\n    <tr>\n      <th>100</th>\n      <td>244367</td>\n      <td>U0</td>\n      <td>S</td>\n      <td>8</td>\n      <td>Kantor</td>\n      <td>Mr</td>\n      <td>0</td>\n      <td>0</td>\n      <td>68</td>\n      <td>1.647918</td>\n      <td>0</td>\n    </tr>\n    <tr>\n      <th>524</th>\n      <td>111361</td>\n      <td>B18</td>\n      <td>C</td>\n      <td>2</td>\n      <td>Hippach</td>\n      <td>Mrs</td>\n      <td>1</td>\n      <td>0</td>\n      <td>44</td>\n      <td>2.038592</td>\n      <td>1</td>\n    </tr>\n    <tr>\n      <th>133</th>\n      <td>A/5. 3337</td>\n      <td>U0</td>\n      <td>S</td>\n      <td>8</td>\n      <td>Robins</td>\n      <td>Mrs</td>\n      <td>1</td>\n      <td>0</td>\n      <td>141</td>\n      <td>1.37042</td>\n      <td>0</td>\n    </tr>\n    <tr>\n      <th>...</th>\n      <td>...</td>\n      <td>...</td>\n      <td>...</td>\n      <td>...</td>\n      <td>...</td>\n      <td>...</td>\n      <td>...</td>\n      <td>...</td>\n      <td>...</td>\n      <td>...</td>\n      <td>...</td>\n    </tr>\n    <tr>\n      <th>407</th>\n      <td>347064</td>\n      <td>U0</td>\n      <td>S</td>\n      <td>8</td>\n      <td>Widegren</td>\n      <td>Mr</td>\n      <td>0</td>\n      <td>1</td>\n      <td>153</td>\n      <td>2.169054</td>\n      <td>0</td>\n    </tr>\n    <tr>\n      <th>391</th>\n      <td>113760</td>\n      <td>B96 B98</td>\n      <td>S</td>\n      <td>2</td>\n      <td>Carter</td>\n      <td>Mr</td>\n      <td>0</td>\n      <td>0</td>\n      <td>36</td>\n      <td>1.198948</td>\n      <td>1</td>\n    </tr>\n    <tr>\n      <th>144</th>\n      <td>365222</td>\n      <td>U0</td>\n      <td>Q</td>\n      <td>8</td>\n      <td>Burke</td>\n      <td>Mr</td>\n      <td>0</td>\n      <td>1</td>\n      <td>57</td>\n      <td>2.047693</td>\n      <td>0</td>\n    </tr>\n    <tr>\n      <th>242</th>\n      <td>367230</td>\n      <td>U0</td>\n      <td>Q</td>\n      <td>8</td>\n      <td>Murphy</td>\n      <td>Miss</td>\n      <td>1</td>\n      <td>0</td>\n      <td>57</td>\n      <td>1.40168</td>\n      <td>1</td>\n    </tr>\n    <tr>\n      <th>624</th>\n      <td>350029</td>\n      <td>U0</td>\n      <td>S</td>\n      <td>8</td>\n      <td>Hansen</td>\n      <td>Mr</td>\n      <td>0</td>\n      <td>1</td>\n      <td>63</td>\n      <td>2.180892</td>\n      <td>0</td>\n    </tr>\n  </tbody>\n</table>\n<p>712 rows × 11 columns</p>\n</div>"
     },
     "execution_count": 25,
     "metadata": {},
     "output_type": "execute_result"
    }
   ],
   "source": [
    "X_train"
   ],
   "metadata": {
    "collapsed": false,
    "ExecuteTime": {
     "end_time": "2024-03-29T22:25:46.309645Z",
     "start_time": "2024-03-29T22:25:46.295505Z"
    }
   },
   "id": "f0fc2557f7f6ba78",
   "execution_count": 25
  },
  {
   "cell_type": "code",
   "outputs": [
    {
     "data": {
      "text/plain": "\"\\ndef add_single_survival_rates(x, survival_rate_df, feature_name, new_feature):\\n    feature_val = x[feature_name]\\n    # For Test Data to see if same Ticket is present in Train data\\n    # For Training Data update survival rate only if this ticket is present in Test Data\\n    if feature_val in list(survival_rate_df[feature_name]):\\n        matched_row = survival_rate_df[survival_rate_df[feature_name] == feature_val]['Survived'].iloc[0]\\n        x[new_feature] = float(matched_row)\\n    return x\\n\\ndef add_survival_rates(x_train, x_test):\\n    \\n    # Get Mean Survival Rate by Ticket, Cabin and Family Name\\n    ticket_survival_rate_df = pd.DataFrame(x_train.groupby(['Ticket'])[['Survived']].mean().reset_index())\\n    #cabin_survival_rate_df = pd.DataFrame(x_train.groupby(['Cabin'])['Survived'].mean().reset_index())\\n    #name_survival_rate_df = pd.DataFrame(x_train.groupby(['Family_Name'])['Survived'].mean().reset_index())\\n    \\n    # Get List of Ticket, Family name & Cabins in Test Data\\n    test_ticket_list = list(x_test['Ticket'])\\n    #test_name_list = list(x_test['Family_Name'])\\n    #test_cabin_list = list(x_test['Cabin'])\\n    \\n    #feature_name = ['Ticket', 'Cabin', 'Family_Name']\\n    feature_name = ['Ticket']\\n    #survival_feature_names = ['Ticket_Survival_Rate', 'Cabin_Survival_Rate', 'Name_Survival_Rate']\\n    survival_feature_names = ['Ticket_Survival_Rate']\\n    #test_lists = [test_ticket_list, test_cabin_list, test_name_list]\\n    test_lists = [test_ticket_list]\\n    #grouped_dfs = [ticket_survival_rate_df, cabin_survival_rate_df, name_survival_rate_df]\\n    grouped_dfs = [ticket_survival_rate_df]\\n    \\n    for i, j, k, l in zip(feature_name, survival_feature_names, test_lists, grouped_dfs):\\n        x_test[[i, j]] = x_test[[i, j]].apply(lambda x: add_single_survival_rates(x, l, i, j), axis = 1)\\n        # Update Survival Rate only if Ticket/Cabin/Family Name is present in test data\\n        x_train[[i, j]] = x_train[[i,j]].apply(lambda x: add_single_survival_rates(x, l, i, j) if x[i] in k else x, axis = 1)\\n    \\n    return x_train, x_test\\n\\n\\nX_train['Ticket_Survival_Rate'] = np.mean(y_train)\\n#X_train['Cabin_Survival_Rate'] = np.mean(y_train)\\n#X_train['Name_Survival_Rate'] = np.mean(y_train)\\n\\n#X_test['Ticket_Survival_Rate'] = np.mean(y_train)\\n#X_test['Cabin_Survival_Rate'] = np.mean(y_train)\\nX_test['Ticket_Survival_Rate'] = np.mean(y_train)\\n\\n# Update Survival Rates\\nadd_survival_rates(X_train, X_test)\\n\""
     },
     "execution_count": 26,
     "metadata": {},
     "output_type": "execute_result"
    }
   ],
   "source": [
    "'''\n",
    "def add_single_survival_rates(x, survival_rate_df, feature_name, new_feature):\n",
    "    feature_val = x[feature_name]\n",
    "    # For Test Data to see if same Ticket is present in Train data\n",
    "    # For Training Data update survival rate only if this ticket is present in Test Data\n",
    "    if feature_val in list(survival_rate_df[feature_name]):\n",
    "        matched_row = survival_rate_df[survival_rate_df[feature_name] == feature_val]['Survived'].iloc[0]\n",
    "        x[new_feature] = float(matched_row)\n",
    "    return x\n",
    "\n",
    "def add_survival_rates(x_train, x_test):\n",
    "    \n",
    "    # Get Mean Survival Rate by Ticket, Cabin and Family Name\n",
    "    ticket_survival_rate_df = pd.DataFrame(x_train.groupby(['Ticket'])[['Survived']].mean().reset_index())\n",
    "    #cabin_survival_rate_df = pd.DataFrame(x_train.groupby(['Cabin'])['Survived'].mean().reset_index())\n",
    "    #name_survival_rate_df = pd.DataFrame(x_train.groupby(['Family_Name'])['Survived'].mean().reset_index())\n",
    "    \n",
    "    # Get List of Ticket, Family name & Cabins in Test Data\n",
    "    test_ticket_list = list(x_test['Ticket'])\n",
    "    #test_name_list = list(x_test['Family_Name'])\n",
    "    #test_cabin_list = list(x_test['Cabin'])\n",
    "    \n",
    "    #feature_name = ['Ticket', 'Cabin', 'Family_Name']\n",
    "    feature_name = ['Ticket']\n",
    "    #survival_feature_names = ['Ticket_Survival_Rate', 'Cabin_Survival_Rate', 'Name_Survival_Rate']\n",
    "    survival_feature_names = ['Ticket_Survival_Rate']\n",
    "    #test_lists = [test_ticket_list, test_cabin_list, test_name_list]\n",
    "    test_lists = [test_ticket_list]\n",
    "    #grouped_dfs = [ticket_survival_rate_df, cabin_survival_rate_df, name_survival_rate_df]\n",
    "    grouped_dfs = [ticket_survival_rate_df]\n",
    "    \n",
    "    for i, j, k, l in zip(feature_name, survival_feature_names, test_lists, grouped_dfs):\n",
    "        x_test[[i, j]] = x_test[[i, j]].apply(lambda x: add_single_survival_rates(x, l, i, j), axis = 1)\n",
    "        # Update Survival Rate only if Ticket/Cabin/Family Name is present in test data\n",
    "        x_train[[i, j]] = x_train[[i,j]].apply(lambda x: add_single_survival_rates(x, l, i, j) if x[i] in k else x, axis = 1)\n",
    "    \n",
    "    return x_train, x_test\n",
    "\n",
    "\n",
    "X_train['Ticket_Survival_Rate'] = np.mean(y_train)\n",
    "#X_train['Cabin_Survival_Rate'] = np.mean(y_train)\n",
    "#X_train['Name_Survival_Rate'] = np.mean(y_train)\n",
    "\n",
    "#X_test['Ticket_Survival_Rate'] = np.mean(y_train)\n",
    "#X_test['Cabin_Survival_Rate'] = np.mean(y_train)\n",
    "X_test['Ticket_Survival_Rate'] = np.mean(y_train)\n",
    "\n",
    "# Update Survival Rates\n",
    "add_survival_rates(X_train, X_test)\n",
    "'''"
   ],
   "metadata": {
    "collapsed": false,
    "ExecuteTime": {
     "end_time": "2024-03-29T22:25:46.318087Z",
     "start_time": "2024-03-29T22:25:46.310649Z"
    }
   },
   "id": "f314f152f29ca9bc",
   "execution_count": 26
  },
  {
   "cell_type": "code",
   "outputs": [
    {
     "data": {
      "text/plain": "                Ticket    Cabin Embarked  Deck      Family_Name Title  Sex  \\\nPassengerId                                                                  \n874             345765       U0        S     8  Vander Cruyssen    Mr    0   \n829             367228       U0        Q     8        McCormack    Mr    0   \n100             244367       U0        S     8           Kantor    Mr    0   \n524             111361      B18        C     2          Hippach   Mrs    1   \n133          A/5. 3337       U0        S     8           Robins   Mrs    1   \n...                ...      ...      ...   ...              ...   ...  ...   \n407             347064       U0        S     8         Widegren    Mr    0   \n391             113760  B96 B98        S     2           Carter    Mr    0   \n144             365222       U0        Q     8            Burke    Mr    0   \n242             367230       U0        Q     8           Murphy  Miss    1   \n624             350029       U0        S     8           Hansen    Mr    0   \n\n             IsAlone  Age*Class  Fare_Per_Person  Survived  \nPassengerId                                                 \n874                1        141         2.302585         0  \n829                1         81         2.169054         1  \n100                0         68         1.647918         0  \n524                0         44         2.038592         1  \n133                0        141          1.37042         0  \n...              ...        ...              ...       ...  \n407                1        153         2.169054         0  \n391                0         36         1.198948         1  \n144                1         57         2.047693         0  \n242                0         57          1.40168         1  \n624                1         63         2.180892         0  \n\n[712 rows x 11 columns]",
      "text/html": "<div>\n<style scoped>\n    .dataframe tbody tr th:only-of-type {\n        vertical-align: middle;\n    }\n\n    .dataframe tbody tr th {\n        vertical-align: top;\n    }\n\n    .dataframe thead th {\n        text-align: right;\n    }\n</style>\n<table border=\"1\" class=\"dataframe\">\n  <thead>\n    <tr style=\"text-align: right;\">\n      <th></th>\n      <th>Ticket</th>\n      <th>Cabin</th>\n      <th>Embarked</th>\n      <th>Deck</th>\n      <th>Family_Name</th>\n      <th>Title</th>\n      <th>Sex</th>\n      <th>IsAlone</th>\n      <th>Age*Class</th>\n      <th>Fare_Per_Person</th>\n      <th>Survived</th>\n    </tr>\n    <tr>\n      <th>PassengerId</th>\n      <th></th>\n      <th></th>\n      <th></th>\n      <th></th>\n      <th></th>\n      <th></th>\n      <th></th>\n      <th></th>\n      <th></th>\n      <th></th>\n      <th></th>\n    </tr>\n  </thead>\n  <tbody>\n    <tr>\n      <th>874</th>\n      <td>345765</td>\n      <td>U0</td>\n      <td>S</td>\n      <td>8</td>\n      <td>Vander Cruyssen</td>\n      <td>Mr</td>\n      <td>0</td>\n      <td>1</td>\n      <td>141</td>\n      <td>2.302585</td>\n      <td>0</td>\n    </tr>\n    <tr>\n      <th>829</th>\n      <td>367228</td>\n      <td>U0</td>\n      <td>Q</td>\n      <td>8</td>\n      <td>McCormack</td>\n      <td>Mr</td>\n      <td>0</td>\n      <td>1</td>\n      <td>81</td>\n      <td>2.169054</td>\n      <td>1</td>\n    </tr>\n    <tr>\n      <th>100</th>\n      <td>244367</td>\n      <td>U0</td>\n      <td>S</td>\n      <td>8</td>\n      <td>Kantor</td>\n      <td>Mr</td>\n      <td>0</td>\n      <td>0</td>\n      <td>68</td>\n      <td>1.647918</td>\n      <td>0</td>\n    </tr>\n    <tr>\n      <th>524</th>\n      <td>111361</td>\n      <td>B18</td>\n      <td>C</td>\n      <td>2</td>\n      <td>Hippach</td>\n      <td>Mrs</td>\n      <td>1</td>\n      <td>0</td>\n      <td>44</td>\n      <td>2.038592</td>\n      <td>1</td>\n    </tr>\n    <tr>\n      <th>133</th>\n      <td>A/5. 3337</td>\n      <td>U0</td>\n      <td>S</td>\n      <td>8</td>\n      <td>Robins</td>\n      <td>Mrs</td>\n      <td>1</td>\n      <td>0</td>\n      <td>141</td>\n      <td>1.37042</td>\n      <td>0</td>\n    </tr>\n    <tr>\n      <th>...</th>\n      <td>...</td>\n      <td>...</td>\n      <td>...</td>\n      <td>...</td>\n      <td>...</td>\n      <td>...</td>\n      <td>...</td>\n      <td>...</td>\n      <td>...</td>\n      <td>...</td>\n      <td>...</td>\n    </tr>\n    <tr>\n      <th>407</th>\n      <td>347064</td>\n      <td>U0</td>\n      <td>S</td>\n      <td>8</td>\n      <td>Widegren</td>\n      <td>Mr</td>\n      <td>0</td>\n      <td>1</td>\n      <td>153</td>\n      <td>2.169054</td>\n      <td>0</td>\n    </tr>\n    <tr>\n      <th>391</th>\n      <td>113760</td>\n      <td>B96 B98</td>\n      <td>S</td>\n      <td>2</td>\n      <td>Carter</td>\n      <td>Mr</td>\n      <td>0</td>\n      <td>0</td>\n      <td>36</td>\n      <td>1.198948</td>\n      <td>1</td>\n    </tr>\n    <tr>\n      <th>144</th>\n      <td>365222</td>\n      <td>U0</td>\n      <td>Q</td>\n      <td>8</td>\n      <td>Burke</td>\n      <td>Mr</td>\n      <td>0</td>\n      <td>1</td>\n      <td>57</td>\n      <td>2.047693</td>\n      <td>0</td>\n    </tr>\n    <tr>\n      <th>242</th>\n      <td>367230</td>\n      <td>U0</td>\n      <td>Q</td>\n      <td>8</td>\n      <td>Murphy</td>\n      <td>Miss</td>\n      <td>1</td>\n      <td>0</td>\n      <td>57</td>\n      <td>1.40168</td>\n      <td>1</td>\n    </tr>\n    <tr>\n      <th>624</th>\n      <td>350029</td>\n      <td>U0</td>\n      <td>S</td>\n      <td>8</td>\n      <td>Hansen</td>\n      <td>Mr</td>\n      <td>0</td>\n      <td>1</td>\n      <td>63</td>\n      <td>2.180892</td>\n      <td>0</td>\n    </tr>\n  </tbody>\n</table>\n<p>712 rows × 11 columns</p>\n</div>"
     },
     "execution_count": 27,
     "metadata": {},
     "output_type": "execute_result"
    }
   ],
   "source": [
    "X_train"
   ],
   "metadata": {
    "collapsed": false,
    "ExecuteTime": {
     "end_time": "2024-03-29T22:25:46.332110Z",
     "start_time": "2024-03-29T22:25:46.319092Z"
    }
   },
   "id": "156250f5df987d87",
   "execution_count": 27
  },
  {
   "cell_type": "code",
   "outputs": [],
   "source": [
    "survival_data = pd.concat([y_train, y_test])\n",
    "\n",
    "def calculate_test_survival_rates(X_train, to_test):\n",
    "    #features = ['Ticket_Survival_Rate', 'Cabin_Survival_Rate', 'Name_Survival_Rate']\n",
    "    #keys = ['Ticket', 'Cabin', 'Family_Name']\n",
    "    features = ['Ticket_Survival_Rate']\n",
    "    keys = [\"Ticket\"]\n",
    "    \n",
    "    for feature, key in zip(features, keys):\n",
    "\n",
    "        to_test[feature] = np.mean(survival_data)\n",
    "        X_train_no_dups = X_train.drop_duplicates(subset=[key])\n",
    "\n",
    "        temp_test = to_test.merge(X_train_no_dups[[key, feature]], on=key, how=\"left\", suffixes=('', '_from_X_train'))\n",
    "        temp_test.loc[temp_test[feature + '_from_X_train'].notnull(), feature] = temp_test[feature + '_from_X_train']\n",
    "        to_test[feature] = temp_test[feature].values\n",
    "\n",
    "    return to_test"
   ],
   "metadata": {
    "collapsed": false,
    "ExecuteTime": {
     "end_time": "2024-03-29T22:25:46.339222Z",
     "start_time": "2024-03-29T22:25:46.334115Z"
    }
   },
   "id": "36b432e8542aedf0",
   "execution_count": 28
  },
  {
   "cell_type": "code",
   "outputs": [],
   "source": [
    "#to_test = calculate_test_survival_rates(X_train, to_test)"
   ],
   "metadata": {
    "collapsed": false,
    "ExecuteTime": {
     "end_time": "2024-03-29T22:25:46.346889Z",
     "start_time": "2024-03-29T22:25:46.340227Z"
    }
   },
   "id": "fbe6a3ea9ba50872",
   "execution_count": 29
  },
  {
   "cell_type": "code",
   "outputs": [
    {
     "data": {
      "text/plain": "'\\nCross compare ticket family name and cabin to get the survival rate based on the existing test data, if not just add normal mean of survival\\n'"
     },
     "execution_count": 30,
     "metadata": {},
     "output_type": "execute_result"
    }
   ],
   "source": [
    "'''\n",
    "Cross compare ticket family name and cabin to get the survival rate based on the existing test data, if not just add normal mean of survival\n",
    "'''"
   ],
   "metadata": {
    "collapsed": false,
    "ExecuteTime": {
     "end_time": "2024-03-29T22:25:46.354900Z",
     "start_time": "2024-03-29T22:25:46.347903Z"
    }
   },
   "id": "a7e8d4f6691950ec",
   "execution_count": 30
  },
  {
   "cell_type": "code",
   "outputs": [],
   "source": [
    "X_train.drop(\"Survived\", axis = 1, inplace = True)\n",
    "X_test.drop(\"Survived\", axis = 1, inplace = True)"
   ],
   "metadata": {
    "collapsed": false,
    "ExecuteTime": {
     "end_time": "2024-03-29T22:25:46.362407Z",
     "start_time": "2024-03-29T22:25:46.355905Z"
    }
   },
   "id": "a64432ff813875d4",
   "execution_count": 31
  },
  {
   "cell_type": "code",
   "outputs": [],
   "source": [
    "for dataset in data:\n",
    "    dataset.drop([\"Cabin\",\"Ticket\",\"Family_Name\"], axis=1, inplace=True)"
   ],
   "metadata": {
    "collapsed": false,
    "ExecuteTime": {
     "end_time": "2024-03-29T22:25:46.369853Z",
     "start_time": "2024-03-29T22:25:46.363412Z"
    }
   },
   "id": "3255659e431d64a9",
   "execution_count": 32
  },
  {
   "cell_type": "code",
   "outputs": [
    {
     "data": {
      "text/plain": "            Embarked  Deck Title  Sex  IsAlone  Age*Class  Fare_Per_Person\nPassengerId                                                               \n874                S     8    Mr    0        1        141         2.302585\n829                Q     8    Mr    0        1         81         2.169054\n100                S     8    Mr    0        0         68         1.647918\n524                C     2   Mrs    1        0         44         2.038592\n133                S     8   Mrs    1        0        141          1.37042\n...              ...   ...   ...  ...      ...        ...              ...\n407                S     8    Mr    0        1        153         2.169054\n391                S     2    Mr    0        0         36         1.198948\n144                Q     8    Mr    0        1         57         2.047693\n242                Q     8  Miss    1        0         57          1.40168\n624                S     8    Mr    0        1         63         2.180892\n\n[712 rows x 7 columns]",
      "text/html": "<div>\n<style scoped>\n    .dataframe tbody tr th:only-of-type {\n        vertical-align: middle;\n    }\n\n    .dataframe tbody tr th {\n        vertical-align: top;\n    }\n\n    .dataframe thead th {\n        text-align: right;\n    }\n</style>\n<table border=\"1\" class=\"dataframe\">\n  <thead>\n    <tr style=\"text-align: right;\">\n      <th></th>\n      <th>Embarked</th>\n      <th>Deck</th>\n      <th>Title</th>\n      <th>Sex</th>\n      <th>IsAlone</th>\n      <th>Age*Class</th>\n      <th>Fare_Per_Person</th>\n    </tr>\n    <tr>\n      <th>PassengerId</th>\n      <th></th>\n      <th></th>\n      <th></th>\n      <th></th>\n      <th></th>\n      <th></th>\n      <th></th>\n    </tr>\n  </thead>\n  <tbody>\n    <tr>\n      <th>874</th>\n      <td>S</td>\n      <td>8</td>\n      <td>Mr</td>\n      <td>0</td>\n      <td>1</td>\n      <td>141</td>\n      <td>2.302585</td>\n    </tr>\n    <tr>\n      <th>829</th>\n      <td>Q</td>\n      <td>8</td>\n      <td>Mr</td>\n      <td>0</td>\n      <td>1</td>\n      <td>81</td>\n      <td>2.169054</td>\n    </tr>\n    <tr>\n      <th>100</th>\n      <td>S</td>\n      <td>8</td>\n      <td>Mr</td>\n      <td>0</td>\n      <td>0</td>\n      <td>68</td>\n      <td>1.647918</td>\n    </tr>\n    <tr>\n      <th>524</th>\n      <td>C</td>\n      <td>2</td>\n      <td>Mrs</td>\n      <td>1</td>\n      <td>0</td>\n      <td>44</td>\n      <td>2.038592</td>\n    </tr>\n    <tr>\n      <th>133</th>\n      <td>S</td>\n      <td>8</td>\n      <td>Mrs</td>\n      <td>1</td>\n      <td>0</td>\n      <td>141</td>\n      <td>1.37042</td>\n    </tr>\n    <tr>\n      <th>...</th>\n      <td>...</td>\n      <td>...</td>\n      <td>...</td>\n      <td>...</td>\n      <td>...</td>\n      <td>...</td>\n      <td>...</td>\n    </tr>\n    <tr>\n      <th>407</th>\n      <td>S</td>\n      <td>8</td>\n      <td>Mr</td>\n      <td>0</td>\n      <td>1</td>\n      <td>153</td>\n      <td>2.169054</td>\n    </tr>\n    <tr>\n      <th>391</th>\n      <td>S</td>\n      <td>2</td>\n      <td>Mr</td>\n      <td>0</td>\n      <td>0</td>\n      <td>36</td>\n      <td>1.198948</td>\n    </tr>\n    <tr>\n      <th>144</th>\n      <td>Q</td>\n      <td>8</td>\n      <td>Mr</td>\n      <td>0</td>\n      <td>1</td>\n      <td>57</td>\n      <td>2.047693</td>\n    </tr>\n    <tr>\n      <th>242</th>\n      <td>Q</td>\n      <td>8</td>\n      <td>Miss</td>\n      <td>1</td>\n      <td>0</td>\n      <td>57</td>\n      <td>1.40168</td>\n    </tr>\n    <tr>\n      <th>624</th>\n      <td>S</td>\n      <td>8</td>\n      <td>Mr</td>\n      <td>0</td>\n      <td>1</td>\n      <td>63</td>\n      <td>2.180892</td>\n    </tr>\n  </tbody>\n</table>\n<p>712 rows × 7 columns</p>\n</div>"
     },
     "execution_count": 33,
     "metadata": {},
     "output_type": "execute_result"
    }
   ],
   "source": [
    "X_train"
   ],
   "metadata": {
    "collapsed": false,
    "ExecuteTime": {
     "end_time": "2024-03-29T22:25:46.382842Z",
     "start_time": "2024-03-29T22:25:46.369853Z"
    }
   },
   "id": "4ac9be5779fc4cca",
   "execution_count": 33
  },
  {
   "cell_type": "code",
   "outputs": [],
   "source": [
    "#for dataset in data:\n",
    "    #dataset.drop(['Fare_Bins','Age_Bins'], axis=1, inplace=True)"
   ],
   "metadata": {
    "collapsed": false,
    "ExecuteTime": {
     "end_time": "2024-03-29T22:25:46.388837Z",
     "start_time": "2024-03-29T22:25:46.383846Z"
    }
   },
   "id": "6f5e61dc66779942",
   "execution_count": 34
  },
  {
   "cell_type": "markdown",
   "source": [
    "### Encode all Labels to String in order to pass through the GBM model"
   ],
   "metadata": {
    "collapsed": false
   },
   "id": "d79ef93bb1e9aec8"
  },
  {
   "cell_type": "code",
   "outputs": [
    {
     "data": {
      "text/plain": "             Embarked  Deck  Title  Sex  IsAlone  Age*Class  Fare_Per_Person\nPassengerId                                                                 \n874                 2     7      2    0        1         95              186\n829                 1     7      2    0        1         69              156\n100                 2     7      2    0        0         61              109\n524                 0     1      3    1        0         39              127\n133                 2     7      3    1        0         95               83\n...               ...   ...    ...  ...      ...        ...              ...\n407                 2     7      2    0        1         99              156\n391                 2     1      2    0        0         31               68\n144                 1     7      2    0        1         52              128\n242                 1     7      1    1        0         52               84\n624                 2     7      2    0        1         57              163\n\n[712 rows x 7 columns]",
      "text/html": "<div>\n<style scoped>\n    .dataframe tbody tr th:only-of-type {\n        vertical-align: middle;\n    }\n\n    .dataframe tbody tr th {\n        vertical-align: top;\n    }\n\n    .dataframe thead th {\n        text-align: right;\n    }\n</style>\n<table border=\"1\" class=\"dataframe\">\n  <thead>\n    <tr style=\"text-align: right;\">\n      <th></th>\n      <th>Embarked</th>\n      <th>Deck</th>\n      <th>Title</th>\n      <th>Sex</th>\n      <th>IsAlone</th>\n      <th>Age*Class</th>\n      <th>Fare_Per_Person</th>\n    </tr>\n    <tr>\n      <th>PassengerId</th>\n      <th></th>\n      <th></th>\n      <th></th>\n      <th></th>\n      <th></th>\n      <th></th>\n      <th></th>\n    </tr>\n  </thead>\n  <tbody>\n    <tr>\n      <th>874</th>\n      <td>2</td>\n      <td>7</td>\n      <td>2</td>\n      <td>0</td>\n      <td>1</td>\n      <td>95</td>\n      <td>186</td>\n    </tr>\n    <tr>\n      <th>829</th>\n      <td>1</td>\n      <td>7</td>\n      <td>2</td>\n      <td>0</td>\n      <td>1</td>\n      <td>69</td>\n      <td>156</td>\n    </tr>\n    <tr>\n      <th>100</th>\n      <td>2</td>\n      <td>7</td>\n      <td>2</td>\n      <td>0</td>\n      <td>0</td>\n      <td>61</td>\n      <td>109</td>\n    </tr>\n    <tr>\n      <th>524</th>\n      <td>0</td>\n      <td>1</td>\n      <td>3</td>\n      <td>1</td>\n      <td>0</td>\n      <td>39</td>\n      <td>127</td>\n    </tr>\n    <tr>\n      <th>133</th>\n      <td>2</td>\n      <td>7</td>\n      <td>3</td>\n      <td>1</td>\n      <td>0</td>\n      <td>95</td>\n      <td>83</td>\n    </tr>\n    <tr>\n      <th>...</th>\n      <td>...</td>\n      <td>...</td>\n      <td>...</td>\n      <td>...</td>\n      <td>...</td>\n      <td>...</td>\n      <td>...</td>\n    </tr>\n    <tr>\n      <th>407</th>\n      <td>2</td>\n      <td>7</td>\n      <td>2</td>\n      <td>0</td>\n      <td>1</td>\n      <td>99</td>\n      <td>156</td>\n    </tr>\n    <tr>\n      <th>391</th>\n      <td>2</td>\n      <td>1</td>\n      <td>2</td>\n      <td>0</td>\n      <td>0</td>\n      <td>31</td>\n      <td>68</td>\n    </tr>\n    <tr>\n      <th>144</th>\n      <td>1</td>\n      <td>7</td>\n      <td>2</td>\n      <td>0</td>\n      <td>1</td>\n      <td>52</td>\n      <td>128</td>\n    </tr>\n    <tr>\n      <th>242</th>\n      <td>1</td>\n      <td>7</td>\n      <td>1</td>\n      <td>1</td>\n      <td>0</td>\n      <td>52</td>\n      <td>84</td>\n    </tr>\n    <tr>\n      <th>624</th>\n      <td>2</td>\n      <td>7</td>\n      <td>2</td>\n      <td>0</td>\n      <td>1</td>\n      <td>57</td>\n      <td>163</td>\n    </tr>\n  </tbody>\n</table>\n<p>712 rows × 7 columns</p>\n</div>"
     },
     "execution_count": 35,
     "metadata": {},
     "output_type": "execute_result"
    }
   ],
   "source": [
    "X_train = X_train.apply(LabelEncoder().fit_transform)\n",
    "X_test = X_test.apply(LabelEncoder().fit_transform)\n",
    "to_test = to_test.apply(LabelEncoder().fit_transform)\n",
    "X_train"
   ],
   "metadata": {
    "collapsed": false,
    "ExecuteTime": {
     "end_time": "2024-03-29T22:25:46.404710Z",
     "start_time": "2024-03-29T22:25:46.389842Z"
    }
   },
   "id": "ea4249e0dc9aa4f2",
   "execution_count": 35
  },
  {
   "cell_type": "code",
   "outputs": [],
   "source": [
    "X_train, y_train = ADASYN().fit_resample(X_train, y_train)"
   ],
   "metadata": {
    "collapsed": false,
    "ExecuteTime": {
     "end_time": "2024-03-29T22:25:46.416814Z",
     "start_time": "2024-03-29T22:25:46.405714Z"
    }
   },
   "id": "c92b97a9c3d4d6ca",
   "execution_count": 36
  },
  {
   "cell_type": "markdown",
   "source": [
    "### Cross-Fold Validation"
   ],
   "metadata": {
    "collapsed": false
   },
   "id": "e264278da47f49c2"
  },
  {
   "cell_type": "code",
   "outputs": [],
   "source": [
    "xgb_classifier = XGBClassifier() # classifier used to tune hyperparameters\n",
    "\n",
    "def objective(trial):\n",
    "    param = {\n",
    "        'verbosity': 0,\n",
    "        'objective': 'binary:logistic',\n",
    "        'eval_metric': 'logloss',\n",
    "        'learning_rate': trial.suggest_float('learning_rate', 0.01, 0.2),  # More conservative learning rate\n",
    "        'n_estimators': trial.suggest_int('n_estimators', 100, 600),  # Fewer estimators\n",
    "        'max_depth': trial.suggest_int('max_depth', 3, 7),  # Shallower trees\n",
    "        'min_child_weight': trial.suggest_int('min_child_weight', 1, 10),\n",
    "        'subsample': trial.suggest_float('subsample', 0.5, 0.9),  # Less aggressive subsampling\n",
    "        'colsample_bytree': trial.suggest_float('colsample_bytree', 0.5, 0.9),  # Feature subsampling\n",
    "        'gamma': trial.suggest_float('gamma', 0.0, 5.0),  # Additional regularization\n",
    "        'reg_alpha': trial.suggest_loguniform('reg_alpha', 1e-5, 10.0),  # More range for L1 regularization\n",
    "        'reg_lambda': trial.suggest_loguniform('reg_lambda', 1e-5, 10.0),  # More range for L2 regularization\n",
    "    }\n",
    "\n",
    "    model = xgb.XGBClassifier(**param)\n",
    "    \n",
    "    cv = StratifiedKFold(n_splits=5, shuffle=True, random_state=42)  # Ensuring reproducibility\n",
    "    scores = cross_val_score(model, X_train, y_train, cv=cv, scoring='accuracy', n_jobs=-1)\n",
    "    \n",
    "    return scores.mean()\n"
   ],
   "metadata": {
    "collapsed": false,
    "ExecuteTime": {
     "end_time": "2024-03-29T22:25:46.422323Z",
     "start_time": "2024-03-29T22:25:46.417821Z"
    }
   },
   "id": "eb7c96151e8b9c70",
   "execution_count": 37
  },
  {
   "cell_type": "code",
   "outputs": [
    {
     "name": "stderr",
     "output_type": "stream",
     "text": [
      "[I 2024-03-29 23:25:46,428] A new study created in memory with name: no-name-a02706f7-10eb-4bf3-a3e5-a848930efa54\n",
      "C:\\Users\\dlesha\\AppData\\Local\\Temp\\ipykernel_3652\\2903819095.py:15: FutureWarning: suggest_loguniform has been deprecated in v3.0.0. This feature will be removed in v6.0.0. See https://github.com/optuna/optuna/releases/tag/v3.0.0. Use suggest_float(..., log=True) instead.\n",
      "  'reg_alpha': trial.suggest_loguniform('reg_alpha', 1e-5, 10.0),  # More range for L1 regularization\n",
      "C:\\Users\\dlesha\\AppData\\Local\\Temp\\ipykernel_3652\\2903819095.py:16: FutureWarning: suggest_loguniform has been deprecated in v3.0.0. This feature will be removed in v6.0.0. See https://github.com/optuna/optuna/releases/tag/v3.0.0. Use suggest_float(..., log=True) instead.\n",
      "  'reg_lambda': trial.suggest_loguniform('reg_lambda', 1e-5, 10.0),  # More range for L2 regularization\n",
      "[I 2024-03-29 23:25:48,587] Trial 0 finished with value: 0.8176795580110496 and parameters: {'learning_rate': 0.09455507775596553, 'n_estimators': 261, 'max_depth': 4, 'min_child_weight': 4, 'subsample': 0.5349163565528182, 'colsample_bytree': 0.6018074077431015, 'gamma': 4.4362162771289, 'reg_alpha': 0.0006752191230632313, 'reg_lambda': 3.7685629561529694e-05}. Best is trial 0 with value: 0.8176795580110496.\n",
      "C:\\Users\\dlesha\\AppData\\Local\\Temp\\ipykernel_3652\\2903819095.py:15: FutureWarning: suggest_loguniform has been deprecated in v3.0.0. This feature will be removed in v6.0.0. See https://github.com/optuna/optuna/releases/tag/v3.0.0. Use suggest_float(..., log=True) instead.\n",
      "  'reg_alpha': trial.suggest_loguniform('reg_alpha', 1e-5, 10.0),  # More range for L1 regularization\n",
      "C:\\Users\\dlesha\\AppData\\Local\\Temp\\ipykernel_3652\\2903819095.py:16: FutureWarning: suggest_loguniform has been deprecated in v3.0.0. This feature will be removed in v6.0.0. See https://github.com/optuna/optuna/releases/tag/v3.0.0. Use suggest_float(..., log=True) instead.\n",
      "  'reg_lambda': trial.suggest_loguniform('reg_lambda', 1e-5, 10.0),  # More range for L2 regularization\n",
      "[I 2024-03-29 23:25:49,890] Trial 1 finished with value: 0.825414364640884 and parameters: {'learning_rate': 0.05789420827133547, 'n_estimators': 107, 'max_depth': 3, 'min_child_weight': 10, 'subsample': 0.8189498459766469, 'colsample_bytree': 0.8087501844135798, 'gamma': 0.7730114391911774, 'reg_alpha': 0.0009841721278948212, 'reg_lambda': 0.15563930713718255}. Best is trial 1 with value: 0.825414364640884.\n",
      "C:\\Users\\dlesha\\AppData\\Local\\Temp\\ipykernel_3652\\2903819095.py:15: FutureWarning: suggest_loguniform has been deprecated in v3.0.0. This feature will be removed in v6.0.0. See https://github.com/optuna/optuna/releases/tag/v3.0.0. Use suggest_float(..., log=True) instead.\n",
      "  'reg_alpha': trial.suggest_loguniform('reg_alpha', 1e-5, 10.0),  # More range for L1 regularization\n",
      "C:\\Users\\dlesha\\AppData\\Local\\Temp\\ipykernel_3652\\2903819095.py:16: FutureWarning: suggest_loguniform has been deprecated in v3.0.0. This feature will be removed in v6.0.0. See https://github.com/optuna/optuna/releases/tag/v3.0.0. Use suggest_float(..., log=True) instead.\n",
      "  'reg_lambda': trial.suggest_loguniform('reg_lambda', 1e-5, 10.0),  # More range for L2 regularization\n",
      "[I 2024-03-29 23:25:51,294] Trial 2 finished with value: 0.7790055248618785 and parameters: {'learning_rate': 0.020441101839730233, 'n_estimators': 107, 'max_depth': 5, 'min_child_weight': 10, 'subsample': 0.5881155219517741, 'colsample_bytree': 0.8885189053325315, 'gamma': 0.011799961140073756, 'reg_alpha': 5.185718659944875, 'reg_lambda': 0.10388179322407151}. Best is trial 1 with value: 0.825414364640884.\n",
      "C:\\Users\\dlesha\\AppData\\Local\\Temp\\ipykernel_3652\\2903819095.py:15: FutureWarning: suggest_loguniform has been deprecated in v3.0.0. This feature will be removed in v6.0.0. See https://github.com/optuna/optuna/releases/tag/v3.0.0. Use suggest_float(..., log=True) instead.\n",
      "  'reg_alpha': trial.suggest_loguniform('reg_alpha', 1e-5, 10.0),  # More range for L1 regularization\n",
      "C:\\Users\\dlesha\\AppData\\Local\\Temp\\ipykernel_3652\\2903819095.py:16: FutureWarning: suggest_loguniform has been deprecated in v3.0.0. This feature will be removed in v6.0.0. See https://github.com/optuna/optuna/releases/tag/v3.0.0. Use suggest_float(..., log=True) instead.\n",
      "  'reg_lambda': trial.suggest_loguniform('reg_lambda', 1e-5, 10.0),  # More range for L2 regularization\n",
      "[I 2024-03-29 23:25:52,517] Trial 3 finished with value: 0.8044198895027623 and parameters: {'learning_rate': 0.08672052424181714, 'n_estimators': 434, 'max_depth': 7, 'min_child_weight': 10, 'subsample': 0.550007706320154, 'colsample_bytree': 0.7404250436073122, 'gamma': 1.7324381434310916, 'reg_alpha': 0.33392925270505786, 'reg_lambda': 0.00013305918263711774}. Best is trial 1 with value: 0.825414364640884.\n",
      "C:\\Users\\dlesha\\AppData\\Local\\Temp\\ipykernel_3652\\2903819095.py:15: FutureWarning: suggest_loguniform has been deprecated in v3.0.0. This feature will be removed in v6.0.0. See https://github.com/optuna/optuna/releases/tag/v3.0.0. Use suggest_float(..., log=True) instead.\n",
      "  'reg_alpha': trial.suggest_loguniform('reg_alpha', 1e-5, 10.0),  # More range for L1 regularization\n",
      "C:\\Users\\dlesha\\AppData\\Local\\Temp\\ipykernel_3652\\2903819095.py:16: FutureWarning: suggest_loguniform has been deprecated in v3.0.0. This feature will be removed in v6.0.0. See https://github.com/optuna/optuna/releases/tag/v3.0.0. Use suggest_float(..., log=True) instead.\n",
      "  'reg_lambda': trial.suggest_loguniform('reg_lambda', 1e-5, 10.0),  # More range for L2 regularization\n",
      "[I 2024-03-29 23:25:52,708] Trial 4 finished with value: 0.811049723756906 and parameters: {'learning_rate': 0.19278252632777673, 'n_estimators': 493, 'max_depth': 5, 'min_child_weight': 5, 'subsample': 0.5235990279661362, 'colsample_bytree': 0.5598879508667001, 'gamma': 3.4997471866249086, 'reg_alpha': 0.029133495802740147, 'reg_lambda': 0.09044153699223398}. Best is trial 1 with value: 0.825414364640884.\n",
      "C:\\Users\\dlesha\\AppData\\Local\\Temp\\ipykernel_3652\\2903819095.py:15: FutureWarning: suggest_loguniform has been deprecated in v3.0.0. This feature will be removed in v6.0.0. See https://github.com/optuna/optuna/releases/tag/v3.0.0. Use suggest_float(..., log=True) instead.\n",
      "  'reg_alpha': trial.suggest_loguniform('reg_alpha', 1e-5, 10.0),  # More range for L1 regularization\n",
      "C:\\Users\\dlesha\\AppData\\Local\\Temp\\ipykernel_3652\\2903819095.py:16: FutureWarning: suggest_loguniform has been deprecated in v3.0.0. This feature will be removed in v6.0.0. See https://github.com/optuna/optuna/releases/tag/v3.0.0. Use suggest_float(..., log=True) instead.\n",
      "  'reg_lambda': trial.suggest_loguniform('reg_lambda', 1e-5, 10.0),  # More range for L2 regularization\n",
      "[I 2024-03-29 23:25:52,842] Trial 5 finished with value: 0.8232044198895027 and parameters: {'learning_rate': 0.057162687823378015, 'n_estimators': 304, 'max_depth': 5, 'min_child_weight': 10, 'subsample': 0.854188599754425, 'colsample_bytree': 0.7386247938320052, 'gamma': 0.8851816348314245, 'reg_alpha': 1.4202095804432124, 'reg_lambda': 0.0014751142969852739}. Best is trial 1 with value: 0.825414364640884.\n",
      "C:\\Users\\dlesha\\AppData\\Local\\Temp\\ipykernel_3652\\2903819095.py:15: FutureWarning: suggest_loguniform has been deprecated in v3.0.0. This feature will be removed in v6.0.0. See https://github.com/optuna/optuna/releases/tag/v3.0.0. Use suggest_float(..., log=True) instead.\n",
      "  'reg_alpha': trial.suggest_loguniform('reg_alpha', 1e-5, 10.0),  # More range for L1 regularization\n",
      "C:\\Users\\dlesha\\AppData\\Local\\Temp\\ipykernel_3652\\2903819095.py:16: FutureWarning: suggest_loguniform has been deprecated in v3.0.0. This feature will be removed in v6.0.0. See https://github.com/optuna/optuna/releases/tag/v3.0.0. Use suggest_float(..., log=True) instead.\n",
      "  'reg_lambda': trial.suggest_loguniform('reg_lambda', 1e-5, 10.0),  # More range for L2 regularization\n",
      "[I 2024-03-29 23:25:52,972] Trial 6 finished with value: 0.7878453038674034 and parameters: {'learning_rate': 0.18981129496654545, 'n_estimators': 372, 'max_depth': 6, 'min_child_weight': 10, 'subsample': 0.5010718988438745, 'colsample_bytree': 0.5959870824831838, 'gamma': 3.4501975007701047, 'reg_alpha': 0.0726874520872308, 'reg_lambda': 1.4417121079476758e-05}. Best is trial 1 with value: 0.825414364640884.\n",
      "C:\\Users\\dlesha\\AppData\\Local\\Temp\\ipykernel_3652\\2903819095.py:15: FutureWarning: suggest_loguniform has been deprecated in v3.0.0. This feature will be removed in v6.0.0. See https://github.com/optuna/optuna/releases/tag/v3.0.0. Use suggest_float(..., log=True) instead.\n",
      "  'reg_alpha': trial.suggest_loguniform('reg_alpha', 1e-5, 10.0),  # More range for L1 regularization\n",
      "C:\\Users\\dlesha\\AppData\\Local\\Temp\\ipykernel_3652\\2903819095.py:16: FutureWarning: suggest_loguniform has been deprecated in v3.0.0. This feature will be removed in v6.0.0. See https://github.com/optuna/optuna/releases/tag/v3.0.0. Use suggest_float(..., log=True) instead.\n",
      "  'reg_lambda': trial.suggest_loguniform('reg_lambda', 1e-5, 10.0),  # More range for L2 regularization\n",
      "[I 2024-03-29 23:25:53,031] Trial 7 finished with value: 0.8265193370165745 and parameters: {'learning_rate': 0.013692766922670328, 'n_estimators': 125, 'max_depth': 6, 'min_child_weight': 5, 'subsample': 0.6880001881253293, 'colsample_bytree': 0.5041609221173147, 'gamma': 1.64679662447111, 'reg_alpha': 0.10046417816864539, 'reg_lambda': 0.028907396988995613}. Best is trial 7 with value: 0.8265193370165745.\n",
      "C:\\Users\\dlesha\\AppData\\Local\\Temp\\ipykernel_3652\\2903819095.py:15: FutureWarning: suggest_loguniform has been deprecated in v3.0.0. This feature will be removed in v6.0.0. See https://github.com/optuna/optuna/releases/tag/v3.0.0. Use suggest_float(..., log=True) instead.\n",
      "  'reg_alpha': trial.suggest_loguniform('reg_alpha', 1e-5, 10.0),  # More range for L1 regularization\n",
      "C:\\Users\\dlesha\\AppData\\Local\\Temp\\ipykernel_3652\\2903819095.py:16: FutureWarning: suggest_loguniform has been deprecated in v3.0.0. This feature will be removed in v6.0.0. See https://github.com/optuna/optuna/releases/tag/v3.0.0. Use suggest_float(..., log=True) instead.\n",
      "  'reg_lambda': trial.suggest_loguniform('reg_lambda', 1e-5, 10.0),  # More range for L2 regularization\n",
      "[I 2024-03-29 23:25:53,200] Trial 8 finished with value: 0.8154696132596685 and parameters: {'learning_rate': 0.09802362182218768, 'n_estimators': 492, 'max_depth': 4, 'min_child_weight': 4, 'subsample': 0.670169532795919, 'colsample_bytree': 0.5284963957230038, 'gamma': 0.28520135059682594, 'reg_alpha': 1.6011911533650664e-05, 'reg_lambda': 3.93720871779663e-05}. Best is trial 7 with value: 0.8265193370165745.\n",
      "C:\\Users\\dlesha\\AppData\\Local\\Temp\\ipykernel_3652\\2903819095.py:15: FutureWarning: suggest_loguniform has been deprecated in v3.0.0. This feature will be removed in v6.0.0. See https://github.com/optuna/optuna/releases/tag/v3.0.0. Use suggest_float(..., log=True) instead.\n",
      "  'reg_alpha': trial.suggest_loguniform('reg_alpha', 1e-5, 10.0),  # More range for L1 regularization\n",
      "C:\\Users\\dlesha\\AppData\\Local\\Temp\\ipykernel_3652\\2903819095.py:16: FutureWarning: suggest_loguniform has been deprecated in v3.0.0. This feature will be removed in v6.0.0. See https://github.com/optuna/optuna/releases/tag/v3.0.0. Use suggest_float(..., log=True) instead.\n",
      "  'reg_lambda': trial.suggest_loguniform('reg_lambda', 1e-5, 10.0),  # More range for L2 regularization\n",
      "[I 2024-03-29 23:25:53,314] Trial 9 finished with value: 0.811049723756906 and parameters: {'learning_rate': 0.139443338574075, 'n_estimators': 256, 'max_depth': 6, 'min_child_weight': 3, 'subsample': 0.8652727423189844, 'colsample_bytree': 0.5212994563677824, 'gamma': 0.21296270824837205, 'reg_alpha': 0.0010159436460884246, 'reg_lambda': 0.06027134472497756}. Best is trial 7 with value: 0.8265193370165745.\n",
      "C:\\Users\\dlesha\\AppData\\Local\\Temp\\ipykernel_3652\\2903819095.py:15: FutureWarning: suggest_loguniform has been deprecated in v3.0.0. This feature will be removed in v6.0.0. See https://github.com/optuna/optuna/releases/tag/v3.0.0. Use suggest_float(..., log=True) instead.\n",
      "  'reg_alpha': trial.suggest_loguniform('reg_alpha', 1e-5, 10.0),  # More range for L1 regularization\n",
      "C:\\Users\\dlesha\\AppData\\Local\\Temp\\ipykernel_3652\\2903819095.py:16: FutureWarning: suggest_loguniform has been deprecated in v3.0.0. This feature will be removed in v6.0.0. See https://github.com/optuna/optuna/releases/tag/v3.0.0. Use suggest_float(..., log=True) instead.\n",
      "  'reg_lambda': trial.suggest_loguniform('reg_lambda', 1e-5, 10.0),  # More range for L2 regularization\n",
      "[I 2024-03-29 23:25:53,656] Trial 10 finished with value: 0.825414364640884 and parameters: {'learning_rate': 0.024178410792032964, 'n_estimators': 584, 'max_depth': 7, 'min_child_weight': 1, 'subsample': 0.7469295315240304, 'colsample_bytree': 0.6568598632866334, 'gamma': 1.9643564766958892, 'reg_alpha': 0.004457904153746763, 'reg_lambda': 9.194978180850027}. Best is trial 7 with value: 0.8265193370165745.\n",
      "C:\\Users\\dlesha\\AppData\\Local\\Temp\\ipykernel_3652\\2903819095.py:15: FutureWarning: suggest_loguniform has been deprecated in v3.0.0. This feature will be removed in v6.0.0. See https://github.com/optuna/optuna/releases/tag/v3.0.0. Use suggest_float(..., log=True) instead.\n",
      "  'reg_alpha': trial.suggest_loguniform('reg_alpha', 1e-5, 10.0),  # More range for L1 regularization\n",
      "C:\\Users\\dlesha\\AppData\\Local\\Temp\\ipykernel_3652\\2903819095.py:16: FutureWarning: suggest_loguniform has been deprecated in v3.0.0. This feature will be removed in v6.0.0. See https://github.com/optuna/optuna/releases/tag/v3.0.0. Use suggest_float(..., log=True) instead.\n",
      "  'reg_lambda': trial.suggest_loguniform('reg_lambda', 1e-5, 10.0),  # More range for L2 regularization\n",
      "[I 2024-03-29 23:25:53,733] Trial 11 finished with value: 0.8243093922651934 and parameters: {'learning_rate': 0.048253101228107956, 'n_estimators': 109, 'max_depth': 3, 'min_child_weight': 7, 'subsample': 0.7634919491026415, 'colsample_bytree': 0.8386880732845245, 'gamma': 1.4581402964135015, 'reg_alpha': 6.475017131242234e-05, 'reg_lambda': 3.65611367629242}. Best is trial 7 with value: 0.8265193370165745.\n",
      "C:\\Users\\dlesha\\AppData\\Local\\Temp\\ipykernel_3652\\2903819095.py:15: FutureWarning: suggest_loguniform has been deprecated in v3.0.0. This feature will be removed in v6.0.0. See https://github.com/optuna/optuna/releases/tag/v3.0.0. Use suggest_float(..., log=True) instead.\n",
      "  'reg_alpha': trial.suggest_loguniform('reg_alpha', 1e-5, 10.0),  # More range for L1 regularization\n",
      "C:\\Users\\dlesha\\AppData\\Local\\Temp\\ipykernel_3652\\2903819095.py:16: FutureWarning: suggest_loguniform has been deprecated in v3.0.0. This feature will be removed in v6.0.0. See https://github.com/optuna/optuna/releases/tag/v3.0.0. Use suggest_float(..., log=True) instead.\n",
      "  'reg_lambda': trial.suggest_loguniform('reg_lambda', 1e-5, 10.0),  # More range for L2 regularization\n",
      "[I 2024-03-29 23:25:53,828] Trial 12 finished with value: 0.8232044198895027 and parameters: {'learning_rate': 0.056722263647121705, 'n_estimators': 190, 'max_depth': 3, 'min_child_weight': 7, 'subsample': 0.6573707425517321, 'colsample_bytree': 0.8314574846193794, 'gamma': 2.683390949743176, 'reg_alpha': 0.0050441278520914085, 'reg_lambda': 0.003022943560168977}. Best is trial 7 with value: 0.8265193370165745.\n",
      "C:\\Users\\dlesha\\AppData\\Local\\Temp\\ipykernel_3652\\2903819095.py:15: FutureWarning: suggest_loguniform has been deprecated in v3.0.0. This feature will be removed in v6.0.0. See https://github.com/optuna/optuna/releases/tag/v3.0.0. Use suggest_float(..., log=True) instead.\n",
      "  'reg_alpha': trial.suggest_loguniform('reg_alpha', 1e-5, 10.0),  # More range for L1 regularization\n",
      "C:\\Users\\dlesha\\AppData\\Local\\Temp\\ipykernel_3652\\2903819095.py:16: FutureWarning: suggest_loguniform has been deprecated in v3.0.0. This feature will be removed in v6.0.0. See https://github.com/optuna/optuna/releases/tag/v3.0.0. Use suggest_float(..., log=True) instead.\n",
      "  'reg_lambda': trial.suggest_loguniform('reg_lambda', 1e-5, 10.0),  # More range for L2 regularization\n",
      "[I 2024-03-29 23:25:53,945] Trial 13 finished with value: 0.8243093922651934 and parameters: {'learning_rate': 0.019372738246731178, 'n_estimators': 180, 'max_depth': 6, 'min_child_weight': 7, 'subsample': 0.7845821408848056, 'colsample_bytree': 0.6770554331534326, 'gamma': 1.0495863953890174, 'reg_alpha': 0.00034920603553978755, 'reg_lambda': 0.8306990406389555}. Best is trial 7 with value: 0.8265193370165745.\n",
      "C:\\Users\\dlesha\\AppData\\Local\\Temp\\ipykernel_3652\\2903819095.py:15: FutureWarning: suggest_loguniform has been deprecated in v3.0.0. This feature will be removed in v6.0.0. See https://github.com/optuna/optuna/releases/tag/v3.0.0. Use suggest_float(..., log=True) instead.\n",
      "  'reg_alpha': trial.suggest_loguniform('reg_alpha', 1e-5, 10.0),  # More range for L1 regularization\n",
      "C:\\Users\\dlesha\\AppData\\Local\\Temp\\ipykernel_3652\\2903819095.py:16: FutureWarning: suggest_loguniform has been deprecated in v3.0.0. This feature will be removed in v6.0.0. See https://github.com/optuna/optuna/releases/tag/v3.0.0. Use suggest_float(..., log=True) instead.\n",
      "  'reg_lambda': trial.suggest_loguniform('reg_lambda', 1e-5, 10.0),  # More range for L2 regularization\n",
      "[I 2024-03-29 23:25:54,051] Trial 14 finished with value: 0.822099447513812 and parameters: {'learning_rate': 0.1338239562263553, 'n_estimators': 183, 'max_depth': 4, 'min_child_weight': 8, 'subsample': 0.821740665303426, 'colsample_bytree': 0.7610834710793526, 'gamma': 2.4685678256801973, 'reg_alpha': 0.12419767135633242, 'reg_lambda': 0.00937944379614845}. Best is trial 7 with value: 0.8265193370165745.\n",
      "C:\\Users\\dlesha\\AppData\\Local\\Temp\\ipykernel_3652\\2903819095.py:15: FutureWarning: suggest_loguniform has been deprecated in v3.0.0. This feature will be removed in v6.0.0. See https://github.com/optuna/optuna/releases/tag/v3.0.0. Use suggest_float(..., log=True) instead.\n",
      "  'reg_alpha': trial.suggest_loguniform('reg_alpha', 1e-5, 10.0),  # More range for L1 regularization\n",
      "C:\\Users\\dlesha\\AppData\\Local\\Temp\\ipykernel_3652\\2903819095.py:16: FutureWarning: suggest_loguniform has been deprecated in v3.0.0. This feature will be removed in v6.0.0. See https://github.com/optuna/optuna/releases/tag/v3.0.0. Use suggest_float(..., log=True) instead.\n",
      "  'reg_lambda': trial.suggest_loguniform('reg_lambda', 1e-5, 10.0),  # More range for L2 regularization\n",
      "[I 2024-03-29 23:25:54,133] Trial 15 finished with value: 0.8320441988950277 and parameters: {'learning_rate': 0.045857826214626585, 'n_estimators': 153, 'max_depth': 3, 'min_child_weight': 2, 'subsample': 0.8980816023283344, 'colsample_bytree': 0.7930886256882916, 'gamma': 0.8214581791558022, 'reg_alpha': 0.016029410941161382, 'reg_lambda': 0.4856260477255357}. Best is trial 15 with value: 0.8320441988950277.\n",
      "C:\\Users\\dlesha\\AppData\\Local\\Temp\\ipykernel_3652\\2903819095.py:15: FutureWarning: suggest_loguniform has been deprecated in v3.0.0. This feature will be removed in v6.0.0. See https://github.com/optuna/optuna/releases/tag/v3.0.0. Use suggest_float(..., log=True) instead.\n",
      "  'reg_alpha': trial.suggest_loguniform('reg_alpha', 1e-5, 10.0),  # More range for L1 regularization\n",
      "C:\\Users\\dlesha\\AppData\\Local\\Temp\\ipykernel_3652\\2903819095.py:16: FutureWarning: suggest_loguniform has been deprecated in v3.0.0. This feature will be removed in v6.0.0. See https://github.com/optuna/optuna/releases/tag/v3.0.0. Use suggest_float(..., log=True) instead.\n",
      "  'reg_lambda': trial.suggest_loguniform('reg_lambda', 1e-5, 10.0),  # More range for L2 regularization\n",
      "[I 2024-03-29 23:25:54,286] Trial 16 finished with value: 0.8331491712707182 and parameters: {'learning_rate': 0.010882467494161722, 'n_estimators': 221, 'max_depth': 6, 'min_child_weight': 1, 'subsample': 0.8973277193068154, 'colsample_bytree': 0.6281312733516983, 'gamma': 2.2750059591799543, 'reg_alpha': 0.01958794451702964, 'reg_lambda': 0.9380943371945557}. Best is trial 16 with value: 0.8331491712707182.\n",
      "C:\\Users\\dlesha\\AppData\\Local\\Temp\\ipykernel_3652\\2903819095.py:15: FutureWarning: suggest_loguniform has been deprecated in v3.0.0. This feature will be removed in v6.0.0. See https://github.com/optuna/optuna/releases/tag/v3.0.0. Use suggest_float(..., log=True) instead.\n",
      "  'reg_alpha': trial.suggest_loguniform('reg_alpha', 1e-5, 10.0),  # More range for L1 regularization\n",
      "C:\\Users\\dlesha\\AppData\\Local\\Temp\\ipykernel_3652\\2903819095.py:16: FutureWarning: suggest_loguniform has been deprecated in v3.0.0. This feature will be removed in v6.0.0. See https://github.com/optuna/optuna/releases/tag/v3.0.0. Use suggest_float(..., log=True) instead.\n",
      "  'reg_lambda': trial.suggest_loguniform('reg_lambda', 1e-5, 10.0),  # More range for L2 regularization\n",
      "[I 2024-03-29 23:25:54,395] Trial 17 finished with value: 0.8276243093922652 and parameters: {'learning_rate': 0.039838647284899026, 'n_estimators': 226, 'max_depth': 4, 'min_child_weight': 1, 'subsample': 0.8881481843378178, 'colsample_bytree': 0.6331464346160899, 'gamma': 2.5930039580159123, 'reg_alpha': 0.013995619172646441, 'reg_lambda': 0.7962422268102246}. Best is trial 16 with value: 0.8331491712707182.\n",
      "C:\\Users\\dlesha\\AppData\\Local\\Temp\\ipykernel_3652\\2903819095.py:15: FutureWarning: suggest_loguniform has been deprecated in v3.0.0. This feature will be removed in v6.0.0. See https://github.com/optuna/optuna/releases/tag/v3.0.0. Use suggest_float(..., log=True) instead.\n",
      "  'reg_alpha': trial.suggest_loguniform('reg_alpha', 1e-5, 10.0),  # More range for L1 regularization\n",
      "C:\\Users\\dlesha\\AppData\\Local\\Temp\\ipykernel_3652\\2903819095.py:16: FutureWarning: suggest_loguniform has been deprecated in v3.0.0. This feature will be removed in v6.0.0. See https://github.com/optuna/optuna/releases/tag/v3.0.0. Use suggest_float(..., log=True) instead.\n",
      "  'reg_lambda': trial.suggest_loguniform('reg_lambda', 1e-5, 10.0),  # More range for L2 regularization\n",
      "[I 2024-03-29 23:25:54,600] Trial 18 finished with value: 0.8232044198895029 and parameters: {'learning_rate': 0.07568534655852732, 'n_estimators': 317, 'max_depth': 7, 'min_child_weight': 2, 'subsample': 0.8988523464522047, 'colsample_bytree': 0.6956026285541015, 'gamma': 4.801943580520911, 'reg_alpha': 0.707489499878075, 'reg_lambda': 0.5843191490487349}. Best is trial 16 with value: 0.8331491712707182.\n",
      "C:\\Users\\dlesha\\AppData\\Local\\Temp\\ipykernel_3652\\2903819095.py:15: FutureWarning: suggest_loguniform has been deprecated in v3.0.0. This feature will be removed in v6.0.0. See https://github.com/optuna/optuna/releases/tag/v3.0.0. Use suggest_float(..., log=True) instead.\n",
      "  'reg_alpha': trial.suggest_loguniform('reg_alpha', 1e-5, 10.0),  # More range for L1 regularization\n",
      "C:\\Users\\dlesha\\AppData\\Local\\Temp\\ipykernel_3652\\2903819095.py:16: FutureWarning: suggest_loguniform has been deprecated in v3.0.0. This feature will be removed in v6.0.0. See https://github.com/optuna/optuna/releases/tag/v3.0.0. Use suggest_float(..., log=True) instead.\n",
      "  'reg_lambda': trial.suggest_loguniform('reg_lambda', 1e-5, 10.0),  # More range for L2 regularization\n",
      "[I 2024-03-29 23:25:54,833] Trial 19 finished with value: 0.825414364640884 and parameters: {'learning_rate': 0.12743778579169063, 'n_estimators': 365, 'max_depth': 6, 'min_child_weight': 2, 'subsample': 0.7199759665976767, 'colsample_bytree': 0.783655093515873, 'gamma': 3.3259487982228912, 'reg_alpha': 0.004959225743257181, 'reg_lambda': 2.665352647145117}. Best is trial 16 with value: 0.8331491712707182.\n",
      "C:\\Users\\dlesha\\AppData\\Local\\Temp\\ipykernel_3652\\2903819095.py:15: FutureWarning: suggest_loguniform has been deprecated in v3.0.0. This feature will be removed in v6.0.0. See https://github.com/optuna/optuna/releases/tag/v3.0.0. Use suggest_float(..., log=True) instead.\n",
      "  'reg_alpha': trial.suggest_loguniform('reg_alpha', 1e-5, 10.0),  # More range for L1 regularization\n",
      "C:\\Users\\dlesha\\AppData\\Local\\Temp\\ipykernel_3652\\2903819095.py:16: FutureWarning: suggest_loguniform has been deprecated in v3.0.0. This feature will be removed in v6.0.0. See https://github.com/optuna/optuna/releases/tag/v3.0.0. Use suggest_float(..., log=True) instead.\n",
      "  'reg_lambda': trial.suggest_loguniform('reg_lambda', 1e-5, 10.0),  # More range for L2 regularization\n",
      "[I 2024-03-29 23:25:54,956] Trial 20 finished with value: 0.8187845303867404 and parameters: {'learning_rate': 0.036820670158228985, 'n_estimators': 174, 'max_depth': 5, 'min_child_weight': 2, 'subsample': 0.816633434190141, 'colsample_bytree': 0.8977176182789083, 'gamma': 2.227851148220523, 'reg_alpha': 0.028125635092889383, 'reg_lambda': 0.3070546303827742}. Best is trial 16 with value: 0.8331491712707182.\n",
      "C:\\Users\\dlesha\\AppData\\Local\\Temp\\ipykernel_3652\\2903819095.py:15: FutureWarning: suggest_loguniform has been deprecated in v3.0.0. This feature will be removed in v6.0.0. See https://github.com/optuna/optuna/releases/tag/v3.0.0. Use suggest_float(..., log=True) instead.\n",
      "  'reg_alpha': trial.suggest_loguniform('reg_alpha', 1e-5, 10.0),  # More range for L1 regularization\n",
      "C:\\Users\\dlesha\\AppData\\Local\\Temp\\ipykernel_3652\\2903819095.py:16: FutureWarning: suggest_loguniform has been deprecated in v3.0.0. This feature will be removed in v6.0.0. See https://github.com/optuna/optuna/releases/tag/v3.0.0. Use suggest_float(..., log=True) instead.\n",
      "  'reg_lambda': trial.suggest_loguniform('reg_lambda', 1e-5, 10.0),  # More range for L2 regularization\n",
      "[I 2024-03-29 23:25:55,077] Trial 21 finished with value: 0.8331491712707184 and parameters: {'learning_rate': 0.03859727309380249, 'n_estimators': 236, 'max_depth': 4, 'min_child_weight': 1, 'subsample': 0.8968776471806359, 'colsample_bytree': 0.633970819070193, 'gamma': 3.067385503381736, 'reg_alpha': 0.0156549221798627, 'reg_lambda': 1.5289302775609068}. Best is trial 21 with value: 0.8331491712707184.\n",
      "C:\\Users\\dlesha\\AppData\\Local\\Temp\\ipykernel_3652\\2903819095.py:15: FutureWarning: suggest_loguniform has been deprecated in v3.0.0. This feature will be removed in v6.0.0. See https://github.com/optuna/optuna/releases/tag/v3.0.0. Use suggest_float(..., log=True) instead.\n",
      "  'reg_alpha': trial.suggest_loguniform('reg_alpha', 1e-5, 10.0),  # More range for L1 regularization\n",
      "C:\\Users\\dlesha\\AppData\\Local\\Temp\\ipykernel_3652\\2903819095.py:16: FutureWarning: suggest_loguniform has been deprecated in v3.0.0. This feature will be removed in v6.0.0. See https://github.com/optuna/optuna/releases/tag/v3.0.0. Use suggest_float(..., log=True) instead.\n",
      "  'reg_lambda': trial.suggest_loguniform('reg_lambda', 1e-5, 10.0),  # More range for L2 regularization\n",
      "[I 2024-03-29 23:25:55,175] Trial 22 finished with value: 0.8287292817679557 and parameters: {'learning_rate': 0.07313910933144263, 'n_estimators': 228, 'max_depth': 3, 'min_child_weight': 1, 'subsample': 0.85994150870308, 'colsample_bytree': 0.6337852909903738, 'gamma': 3.0738355012602665, 'reg_alpha': 0.01520430465148751, 'reg_lambda': 3.3775464822424586}. Best is trial 21 with value: 0.8331491712707184.\n",
      "C:\\Users\\dlesha\\AppData\\Local\\Temp\\ipykernel_3652\\2903819095.py:15: FutureWarning: suggest_loguniform has been deprecated in v3.0.0. This feature will be removed in v6.0.0. See https://github.com/optuna/optuna/releases/tag/v3.0.0. Use suggest_float(..., log=True) instead.\n",
      "  'reg_alpha': trial.suggest_loguniform('reg_alpha', 1e-5, 10.0),  # More range for L1 regularization\n",
      "C:\\Users\\dlesha\\AppData\\Local\\Temp\\ipykernel_3652\\2903819095.py:16: FutureWarning: suggest_loguniform has been deprecated in v3.0.0. This feature will be removed in v6.0.0. See https://github.com/optuna/optuna/releases/tag/v3.0.0. Use suggest_float(..., log=True) instead.\n",
      "  'reg_lambda': trial.suggest_loguniform('reg_lambda', 1e-5, 10.0),  # More range for L2 regularization\n",
      "[I 2024-03-29 23:25:55,306] Trial 23 finished with value: 0.8220994475138121 and parameters: {'learning_rate': 0.031233256656621036, 'n_estimators': 270, 'max_depth': 4, 'min_child_weight': 3, 'subsample': 0.8495930860577108, 'colsample_bytree': 0.5913197937116514, 'gamma': 4.169959133181425, 'reg_alpha': 0.002844315484847736, 'reg_lambda': 7.6433978922478625}. Best is trial 21 with value: 0.8331491712707184.\n",
      "C:\\Users\\dlesha\\AppData\\Local\\Temp\\ipykernel_3652\\2903819095.py:15: FutureWarning: suggest_loguniform has been deprecated in v3.0.0. This feature will be removed in v6.0.0. See https://github.com/optuna/optuna/releases/tag/v3.0.0. Use suggest_float(..., log=True) instead.\n",
      "  'reg_alpha': trial.suggest_loguniform('reg_alpha', 1e-5, 10.0),  # More range for L1 regularization\n",
      "C:\\Users\\dlesha\\AppData\\Local\\Temp\\ipykernel_3652\\2903819095.py:16: FutureWarning: suggest_loguniform has been deprecated in v3.0.0. This feature will be removed in v6.0.0. See https://github.com/optuna/optuna/releases/tag/v3.0.0. Use suggest_float(..., log=True) instead.\n",
      "  'reg_lambda': trial.suggest_loguniform('reg_lambda', 1e-5, 10.0),  # More range for L2 regularization\n",
      "[I 2024-03-29 23:25:55,396] Trial 24 finished with value: 0.8220994475138121 and parameters: {'learning_rate': 0.0705004408921028, 'n_estimators': 144, 'max_depth': 3, 'min_child_weight': 3, 'subsample': 0.8986409460601317, 'colsample_bytree': 0.7222000224443622, 'gamma': 3.962673537045599, 'reg_alpha': 0.04800107742852458, 'reg_lambda': 1.5189376776744472}. Best is trial 21 with value: 0.8331491712707184.\n",
      "C:\\Users\\dlesha\\AppData\\Local\\Temp\\ipykernel_3652\\2903819095.py:15: FutureWarning: suggest_loguniform has been deprecated in v3.0.0. This feature will be removed in v6.0.0. See https://github.com/optuna/optuna/releases/tag/v3.0.0. Use suggest_float(..., log=True) instead.\n",
      "  'reg_alpha': trial.suggest_loguniform('reg_alpha', 1e-5, 10.0),  # More range for L1 regularization\n",
      "C:\\Users\\dlesha\\AppData\\Local\\Temp\\ipykernel_3652\\2903819095.py:16: FutureWarning: suggest_loguniform has been deprecated in v3.0.0. This feature will be removed in v6.0.0. See https://github.com/optuna/optuna/releases/tag/v3.0.0. Use suggest_float(..., log=True) instead.\n",
      "  'reg_lambda': trial.suggest_loguniform('reg_lambda', 1e-5, 10.0),  # More range for L2 regularization\n",
      "[I 2024-03-29 23:25:55,516] Trial 25 finished with value: 0.819889502762431 and parameters: {'learning_rate': 0.11751766195257536, 'n_estimators': 228, 'max_depth': 4, 'min_child_weight': 1, 'subsample': 0.7919933248426587, 'colsample_bytree': 0.6521298163821625, 'gamma': 2.8740319774778578, 'reg_alpha': 0.20014392782651794, 'reg_lambda': 0.020823289765622786}. Best is trial 21 with value: 0.8331491712707184.\n",
      "C:\\Users\\dlesha\\AppData\\Local\\Temp\\ipykernel_3652\\2903819095.py:15: FutureWarning: suggest_loguniform has been deprecated in v3.0.0. This feature will be removed in v6.0.0. See https://github.com/optuna/optuna/releases/tag/v3.0.0. Use suggest_float(..., log=True) instead.\n",
      "  'reg_alpha': trial.suggest_loguniform('reg_alpha', 1e-5, 10.0),  # More range for L1 regularization\n",
      "C:\\Users\\dlesha\\AppData\\Local\\Temp\\ipykernel_3652\\2903819095.py:16: FutureWarning: suggest_loguniform has been deprecated in v3.0.0. This feature will be removed in v6.0.0. See https://github.com/optuna/optuna/releases/tag/v3.0.0. Use suggest_float(..., log=True) instead.\n",
      "  'reg_lambda': trial.suggest_loguniform('reg_lambda', 1e-5, 10.0),  # More range for L2 regularization\n",
      "[I 2024-03-29 23:25:55,644] Trial 26 finished with value: 0.811049723756906 and parameters: {'learning_rate': 0.16820354577843352, 'n_estimators': 308, 'max_depth': 3, 'min_child_weight': 2, 'subsample': 0.6169161330118814, 'colsample_bytree': 0.5669577779738977, 'gamma': 1.3199628680527296, 'reg_alpha': 0.0001411565571592802, 'reg_lambda': 0.2863006203614484}. Best is trial 21 with value: 0.8331491712707184.\n",
      "C:\\Users\\dlesha\\AppData\\Local\\Temp\\ipykernel_3652\\2903819095.py:15: FutureWarning: suggest_loguniform has been deprecated in v3.0.0. This feature will be removed in v6.0.0. See https://github.com/optuna/optuna/releases/tag/v3.0.0. Use suggest_float(..., log=True) instead.\n",
      "  'reg_alpha': trial.suggest_loguniform('reg_alpha', 1e-5, 10.0),  # More range for L1 regularization\n",
      "C:\\Users\\dlesha\\AppData\\Local\\Temp\\ipykernel_3652\\2903819095.py:16: FutureWarning: suggest_loguniform has been deprecated in v3.0.0. This feature will be removed in v6.0.0. See https://github.com/optuna/optuna/releases/tag/v3.0.0. Use suggest_float(..., log=True) instead.\n",
      "  'reg_lambda': trial.suggest_loguniform('reg_lambda', 1e-5, 10.0),  # More range for L2 regularization\n",
      "[I 2024-03-29 23:25:55,744] Trial 27 finished with value: 0.8154696132596685 and parameters: {'learning_rate': 0.01176408381210041, 'n_estimators': 155, 'max_depth': 4, 'min_child_weight': 4, 'subsample': 0.8346959150149571, 'colsample_bytree': 0.7112811235688953, 'gamma': 2.1618937734528467, 'reg_alpha': 0.011601775795672366, 'reg_lambda': 0.3632442409382936}. Best is trial 21 with value: 0.8331491712707184.\n",
      "C:\\Users\\dlesha\\AppData\\Local\\Temp\\ipykernel_3652\\2903819095.py:15: FutureWarning: suggest_loguniform has been deprecated in v3.0.0. This feature will be removed in v6.0.0. See https://github.com/optuna/optuna/releases/tag/v3.0.0. Use suggest_float(..., log=True) instead.\n",
      "  'reg_alpha': trial.suggest_loguniform('reg_alpha', 1e-5, 10.0),  # More range for L1 regularization\n",
      "C:\\Users\\dlesha\\AppData\\Local\\Temp\\ipykernel_3652\\2903819095.py:16: FutureWarning: suggest_loguniform has been deprecated in v3.0.0. This feature will be removed in v6.0.0. See https://github.com/optuna/optuna/releases/tag/v3.0.0. Use suggest_float(..., log=True) instead.\n",
      "  'reg_lambda': trial.suggest_loguniform('reg_lambda', 1e-5, 10.0),  # More range for L2 regularization\n",
      "[I 2024-03-29 23:25:55,873] Trial 28 finished with value: 0.8232044198895029 and parameters: {'learning_rate': 0.04726498807983304, 'n_estimators': 215, 'max_depth': 5, 'min_child_weight': 1, 'subsample': 0.8795160652170239, 'colsample_bytree': 0.6805925134833142, 'gamma': 0.6008683227462386, 'reg_alpha': 0.0023214084820665656, 'reg_lambda': 1.4346429167914387}. Best is trial 21 with value: 0.8331491712707184.\n",
      "C:\\Users\\dlesha\\AppData\\Local\\Temp\\ipykernel_3652\\2903819095.py:15: FutureWarning: suggest_loguniform has been deprecated in v3.0.0. This feature will be removed in v6.0.0. See https://github.com/optuna/optuna/releases/tag/v3.0.0. Use suggest_float(..., log=True) instead.\n",
      "  'reg_alpha': trial.suggest_loguniform('reg_alpha', 1e-5, 10.0),  # More range for L1 regularization\n",
      "C:\\Users\\dlesha\\AppData\\Local\\Temp\\ipykernel_3652\\2903819095.py:16: FutureWarning: suggest_loguniform has been deprecated in v3.0.0. This feature will be removed in v6.0.0. See https://github.com/optuna/optuna/releases/tag/v3.0.0. Use suggest_float(..., log=True) instead.\n",
      "  'reg_lambda': trial.suggest_loguniform('reg_lambda', 1e-5, 10.0),  # More range for L2 regularization\n",
      "[I 2024-03-29 23:25:55,988] Trial 29 finished with value: 0.825414364640884 and parameters: {'learning_rate': 0.027574274625373145, 'n_estimators': 277, 'max_depth': 3, 'min_child_weight': 3, 'subsample': 0.7943564945741349, 'colsample_bytree': 0.6183849258299091, 'gamma': 3.6937670879503512, 'reg_alpha': 0.00035964740563849664, 'reg_lambda': 0.0008124326746319263}. Best is trial 21 with value: 0.8331491712707184.\n",
      "C:\\Users\\dlesha\\AppData\\Local\\Temp\\ipykernel_3652\\2903819095.py:15: FutureWarning: suggest_loguniform has been deprecated in v3.0.0. This feature will be removed in v6.0.0. See https://github.com/optuna/optuna/releases/tag/v3.0.0. Use suggest_float(..., log=True) instead.\n",
      "  'reg_alpha': trial.suggest_loguniform('reg_alpha', 1e-5, 10.0),  # More range for L1 regularization\n",
      "C:\\Users\\dlesha\\AppData\\Local\\Temp\\ipykernel_3652\\2903819095.py:16: FutureWarning: suggest_loguniform has been deprecated in v3.0.0. This feature will be removed in v6.0.0. See https://github.com/optuna/optuna/releases/tag/v3.0.0. Use suggest_float(..., log=True) instead.\n",
      "  'reg_lambda': trial.suggest_loguniform('reg_lambda', 1e-5, 10.0),  # More range for L2 regularization\n",
      "[I 2024-03-29 23:25:56,176] Trial 30 finished with value: 0.830939226519337 and parameters: {'learning_rate': 0.08854751332528235, 'n_estimators': 407, 'max_depth': 5, 'min_child_weight': 2, 'subsample': 0.7378343617532549, 'colsample_bytree': 0.5684806471893638, 'gamma': 4.580487385206073, 'reg_alpha': 0.6246086021171761, 'reg_lambda': 0.009650262056408445}. Best is trial 21 with value: 0.8331491712707184.\n",
      "C:\\Users\\dlesha\\AppData\\Local\\Temp\\ipykernel_3652\\2903819095.py:15: FutureWarning: suggest_loguniform has been deprecated in v3.0.0. This feature will be removed in v6.0.0. See https://github.com/optuna/optuna/releases/tag/v3.0.0. Use suggest_float(..., log=True) instead.\n",
      "  'reg_alpha': trial.suggest_loguniform('reg_alpha', 1e-5, 10.0),  # More range for L1 regularization\n",
      "C:\\Users\\dlesha\\AppData\\Local\\Temp\\ipykernel_3652\\2903819095.py:16: FutureWarning: suggest_loguniform has been deprecated in v3.0.0. This feature will be removed in v6.0.0. See https://github.com/optuna/optuna/releases/tag/v3.0.0. Use suggest_float(..., log=True) instead.\n",
      "  'reg_lambda': trial.suggest_loguniform('reg_lambda', 1e-5, 10.0),  # More range for L2 regularization\n",
      "[I 2024-03-29 23:25:56,340] Trial 31 finished with value: 0.7944751381215469 and parameters: {'learning_rate': 0.08320680232500027, 'n_estimators': 402, 'max_depth': 5, 'min_child_weight': 2, 'subsample': 0.724076079588448, 'colsample_bytree': 0.567919762234132, 'gamma': 4.385758043029733, 'reg_alpha': 8.698352710928653, 'reg_lambda': 0.0066466702474887555}. Best is trial 21 with value: 0.8331491712707184.\n",
      "C:\\Users\\dlesha\\AppData\\Local\\Temp\\ipykernel_3652\\2903819095.py:15: FutureWarning: suggest_loguniform has been deprecated in v3.0.0. This feature will be removed in v6.0.0. See https://github.com/optuna/optuna/releases/tag/v3.0.0. Use suggest_float(..., log=True) instead.\n",
      "  'reg_alpha': trial.suggest_loguniform('reg_alpha', 1e-5, 10.0),  # More range for L1 regularization\n",
      "C:\\Users\\dlesha\\AppData\\Local\\Temp\\ipykernel_3652\\2903819095.py:16: FutureWarning: suggest_loguniform has been deprecated in v3.0.0. This feature will be removed in v6.0.0. See https://github.com/optuna/optuna/releases/tag/v3.0.0. Use suggest_float(..., log=True) instead.\n",
      "  'reg_lambda': trial.suggest_loguniform('reg_lambda', 1e-5, 10.0),  # More range for L2 regularization\n",
      "[I 2024-03-29 23:25:56,539] Trial 32 finished with value: 0.8243093922651934 and parameters: {'learning_rate': 0.10107267921499488, 'n_estimators': 450, 'max_depth': 4, 'min_child_weight': 2, 'subsample': 0.8730469395765836, 'colsample_bytree': 0.6053493666928773, 'gamma': 4.748995108405234, 'reg_alpha': 0.9116964968271862, 'reg_lambda': 0.047984092661101006}. Best is trial 21 with value: 0.8331491712707184.\n",
      "C:\\Users\\dlesha\\AppData\\Local\\Temp\\ipykernel_3652\\2903819095.py:15: FutureWarning: suggest_loguniform has been deprecated in v3.0.0. This feature will be removed in v6.0.0. See https://github.com/optuna/optuna/releases/tag/v3.0.0. Use suggest_float(..., log=True) instead.\n",
      "  'reg_alpha': trial.suggest_loguniform('reg_alpha', 1e-5, 10.0),  # More range for L1 regularization\n",
      "C:\\Users\\dlesha\\AppData\\Local\\Temp\\ipykernel_3652\\2903819095.py:16: FutureWarning: suggest_loguniform has been deprecated in v3.0.0. This feature will be removed in v6.0.0. See https://github.com/optuna/optuna/releases/tag/v3.0.0. Use suggest_float(..., log=True) instead.\n",
      "  'reg_lambda': trial.suggest_loguniform('reg_lambda', 1e-5, 10.0),  # More range for L2 regularization\n",
      "[I 2024-03-29 23:25:56,718] Trial 33 finished with value: 0.8287292817679559 and parameters: {'learning_rate': 0.06234738682212707, 'n_estimators': 329, 'max_depth': 6, 'min_child_weight': 1, 'subsample': 0.8350702754194566, 'colsample_bytree': 0.5427155745837087, 'gamma': 3.977493534055522, 'reg_alpha': 2.457341619793501, 'reg_lambda': 0.20327377436714228}. Best is trial 21 with value: 0.8331491712707184.\n",
      "C:\\Users\\dlesha\\AppData\\Local\\Temp\\ipykernel_3652\\2903819095.py:15: FutureWarning: suggest_loguniform has been deprecated in v3.0.0. This feature will be removed in v6.0.0. See https://github.com/optuna/optuna/releases/tag/v3.0.0. Use suggest_float(..., log=True) instead.\n",
      "  'reg_alpha': trial.suggest_loguniform('reg_alpha', 1e-5, 10.0),  # More range for L1 regularization\n",
      "C:\\Users\\dlesha\\AppData\\Local\\Temp\\ipykernel_3652\\2903819095.py:16: FutureWarning: suggest_loguniform has been deprecated in v3.0.0. This feature will be removed in v6.0.0. See https://github.com/optuna/optuna/releases/tag/v3.0.0. Use suggest_float(..., log=True) instead.\n",
      "  'reg_lambda': trial.suggest_loguniform('reg_lambda', 1e-5, 10.0),  # More range for L2 regularization\n",
      "[I 2024-03-29 23:25:56,937] Trial 34 finished with value: 0.8209944751381215 and parameters: {'learning_rate': 0.045002191217493576, 'n_estimators': 401, 'max_depth': 5, 'min_child_weight': 4, 'subsample': 0.571366863405067, 'colsample_bytree': 0.5827414825818339, 'gamma': 2.951284680587534, 'reg_alpha': 0.5265048993633955, 'reg_lambda': 0.000297891642166192}. Best is trial 21 with value: 0.8331491712707184.\n",
      "C:\\Users\\dlesha\\AppData\\Local\\Temp\\ipykernel_3652\\2903819095.py:15: FutureWarning: suggest_loguniform has been deprecated in v3.0.0. This feature will be removed in v6.0.0. See https://github.com/optuna/optuna/releases/tag/v3.0.0. Use suggest_float(..., log=True) instead.\n",
      "  'reg_alpha': trial.suggest_loguniform('reg_alpha', 1e-5, 10.0),  # More range for L1 regularization\n",
      "C:\\Users\\dlesha\\AppData\\Local\\Temp\\ipykernel_3652\\2903819095.py:16: FutureWarning: suggest_loguniform has been deprecated in v3.0.0. This feature will be removed in v6.0.0. See https://github.com/optuna/optuna/releases/tag/v3.0.0. Use suggest_float(..., log=True) instead.\n",
      "  'reg_lambda': trial.suggest_loguniform('reg_lambda', 1e-5, 10.0),  # More range for L2 regularization\n",
      "[I 2024-03-29 23:25:57,090] Trial 35 finished with value: 0.8187845303867404 and parameters: {'learning_rate': 0.08738172697085814, 'n_estimators': 248, 'max_depth': 5, 'min_child_weight': 3, 'subsample': 0.6334619650536523, 'colsample_bytree': 0.6572544299797675, 'gamma': 1.1943278620437003, 'reg_alpha': 0.3239634252901283, 'reg_lambda': 0.015005646792429063}. Best is trial 21 with value: 0.8331491712707184.\n",
      "C:\\Users\\dlesha\\AppData\\Local\\Temp\\ipykernel_3652\\2903819095.py:15: FutureWarning: suggest_loguniform has been deprecated in v3.0.0. This feature will be removed in v6.0.0. See https://github.com/optuna/optuna/releases/tag/v3.0.0. Use suggest_float(..., log=True) instead.\n",
      "  'reg_alpha': trial.suggest_loguniform('reg_alpha', 1e-5, 10.0),  # More range for L1 regularization\n",
      "C:\\Users\\dlesha\\AppData\\Local\\Temp\\ipykernel_3652\\2903819095.py:16: FutureWarning: suggest_loguniform has been deprecated in v3.0.0. This feature will be removed in v6.0.0. See https://github.com/optuna/optuna/releases/tag/v3.0.0. Use suggest_float(..., log=True) instead.\n",
      "  'reg_lambda': trial.suggest_loguniform('reg_lambda', 1e-5, 10.0),  # More range for L2 regularization\n",
      "[I 2024-03-29 23:25:57,250] Trial 36 finished with value: 0.8287292817679557 and parameters: {'learning_rate': 0.03234645067599808, 'n_estimators': 282, 'max_depth': 4, 'min_child_weight': 2, 'subsample': 0.76019153768657, 'colsample_bytree': 0.859930959965121, 'gamma': 4.967766996127303, 'reg_alpha': 0.03276979505205462, 'reg_lambda': 0.13302209517800415}. Best is trial 21 with value: 0.8331491712707184.\n",
      "C:\\Users\\dlesha\\AppData\\Local\\Temp\\ipykernel_3652\\2903819095.py:15: FutureWarning: suggest_loguniform has been deprecated in v3.0.0. This feature will be removed in v6.0.0. See https://github.com/optuna/optuna/releases/tag/v3.0.0. Use suggest_float(..., log=True) instead.\n",
      "  'reg_alpha': trial.suggest_loguniform('reg_alpha', 1e-5, 10.0),  # More range for L1 regularization\n",
      "C:\\Users\\dlesha\\AppData\\Local\\Temp\\ipykernel_3652\\2903819095.py:16: FutureWarning: suggest_loguniform has been deprecated in v3.0.0. This feature will be removed in v6.0.0. See https://github.com/optuna/optuna/releases/tag/v3.0.0. Use suggest_float(..., log=True) instead.\n",
      "  'reg_lambda': trial.suggest_loguniform('reg_lambda', 1e-5, 10.0),  # More range for L2 regularization\n",
      "[I 2024-03-29 23:25:57,456] Trial 37 finished with value: 0.825414364640884 and parameters: {'learning_rate': 0.06421248346994729, 'n_estimators': 340, 'max_depth': 7, 'min_child_weight': 1, 'subsample': 0.8110196195009541, 'colsample_bytree': 0.6191274650680105, 'gamma': 0.5496859209187661, 'reg_alpha': 2.918231164697806, 'reg_lambda': 0.00537401494901462}. Best is trial 21 with value: 0.8331491712707184.\n",
      "C:\\Users\\dlesha\\AppData\\Local\\Temp\\ipykernel_3652\\2903819095.py:15: FutureWarning: suggest_loguniform has been deprecated in v3.0.0. This feature will be removed in v6.0.0. See https://github.com/optuna/optuna/releases/tag/v3.0.0. Use suggest_float(..., log=True) instead.\n",
      "  'reg_alpha': trial.suggest_loguniform('reg_alpha', 1e-5, 10.0),  # More range for L1 regularization\n",
      "C:\\Users\\dlesha\\AppData\\Local\\Temp\\ipykernel_3652\\2903819095.py:16: FutureWarning: suggest_loguniform has been deprecated in v3.0.0. This feature will be removed in v6.0.0. See https://github.com/optuna/optuna/releases/tag/v3.0.0. Use suggest_float(..., log=True) instead.\n",
      "  'reg_lambda': trial.suggest_loguniform('reg_lambda', 1e-5, 10.0),  # More range for L2 regularization\n",
      "[I 2024-03-29 23:25:57,564] Trial 38 finished with value: 0.8243093922651934 and parameters: {'learning_rate': 0.11556287676643205, 'n_estimators': 146, 'max_depth': 5, 'min_child_weight': 5, 'subsample': 0.850602275002283, 'colsample_bytree': 0.7961249521854697, 'gamma': 1.8797371919663393, 'reg_alpha': 0.0014494500812098543, 'reg_lambda': 0.047502797467694806}. Best is trial 21 with value: 0.8331491712707184.\n",
      "C:\\Users\\dlesha\\AppData\\Local\\Temp\\ipykernel_3652\\2903819095.py:15: FutureWarning: suggest_loguniform has been deprecated in v3.0.0. This feature will be removed in v6.0.0. See https://github.com/optuna/optuna/releases/tag/v3.0.0. Use suggest_float(..., log=True) instead.\n",
      "  'reg_alpha': trial.suggest_loguniform('reg_alpha', 1e-5, 10.0),  # More range for L1 regularization\n",
      "C:\\Users\\dlesha\\AppData\\Local\\Temp\\ipykernel_3652\\2903819095.py:16: FutureWarning: suggest_loguniform has been deprecated in v3.0.0. This feature will be removed in v6.0.0. See https://github.com/optuna/optuna/releases/tag/v3.0.0. Use suggest_float(..., log=True) instead.\n",
      "  'reg_lambda': trial.suggest_loguniform('reg_lambda', 1e-5, 10.0),  # More range for L2 regularization\n",
      "[I 2024-03-29 23:25:57,851] Trial 39 finished with value: 0.8198895027624309 and parameters: {'learning_rate': 0.012587045656018196, 'n_estimators': 489, 'max_depth': 6, 'min_child_weight': 6, 'subsample': 0.8797293899531742, 'colsample_bytree': 0.768325900511169, 'gamma': 3.2286982846803878, 'reg_alpha': 0.1823875520284306, 'reg_lambda': 0.0016839575505831418}. Best is trial 21 with value: 0.8331491712707184.\n",
      "C:\\Users\\dlesha\\AppData\\Local\\Temp\\ipykernel_3652\\2903819095.py:15: FutureWarning: suggest_loguniform has been deprecated in v3.0.0. This feature will be removed in v6.0.0. See https://github.com/optuna/optuna/releases/tag/v3.0.0. Use suggest_float(..., log=True) instead.\n",
      "  'reg_alpha': trial.suggest_loguniform('reg_alpha', 1e-5, 10.0),  # More range for L1 regularization\n",
      "C:\\Users\\dlesha\\AppData\\Local\\Temp\\ipykernel_3652\\2903819095.py:16: FutureWarning: suggest_loguniform has been deprecated in v3.0.0. This feature will be removed in v6.0.0. See https://github.com/optuna/optuna/releases/tag/v3.0.0. Use suggest_float(..., log=True) instead.\n",
      "  'reg_lambda': trial.suggest_loguniform('reg_lambda', 1e-5, 10.0),  # More range for L2 regularization\n",
      "[I 2024-03-29 23:25:58,032] Trial 40 finished with value: 0.8276243093922652 and parameters: {'learning_rate': 0.05371311609669995, 'n_estimators': 554, 'max_depth': 3, 'min_child_weight': 4, 'subsample': 0.8339793814454135, 'colsample_bytree': 0.5409967767264758, 'gamma': 3.5756110329305635, 'reg_alpha': 0.08053424449470623, 'reg_lambda': 0.08064892019565027}. Best is trial 21 with value: 0.8331491712707184.\n",
      "C:\\Users\\dlesha\\AppData\\Local\\Temp\\ipykernel_3652\\2903819095.py:15: FutureWarning: suggest_loguniform has been deprecated in v3.0.0. This feature will be removed in v6.0.0. See https://github.com/optuna/optuna/releases/tag/v3.0.0. Use suggest_float(..., log=True) instead.\n",
      "  'reg_alpha': trial.suggest_loguniform('reg_alpha', 1e-5, 10.0),  # More range for L1 regularization\n",
      "C:\\Users\\dlesha\\AppData\\Local\\Temp\\ipykernel_3652\\2903819095.py:16: FutureWarning: suggest_loguniform has been deprecated in v3.0.0. This feature will be removed in v6.0.0. See https://github.com/optuna/optuna/releases/tag/v3.0.0. Use suggest_float(..., log=True) instead.\n",
      "  'reg_lambda': trial.suggest_loguniform('reg_lambda', 1e-5, 10.0),  # More range for L2 regularization\n",
      "[I 2024-03-29 23:25:58,211] Trial 41 finished with value: 0.825414364640884 and parameters: {'learning_rate': 0.06219847624621815, 'n_estimators': 331, 'max_depth': 6, 'min_child_weight': 1, 'subsample': 0.8383744201638621, 'colsample_bytree': 0.5539064633910671, 'gamma': 4.041583706219689, 'reg_alpha': 2.5158582474271394, 'reg_lambda': 0.20141610269978386}. Best is trial 21 with value: 0.8331491712707184.\n",
      "C:\\Users\\dlesha\\AppData\\Local\\Temp\\ipykernel_3652\\2903819095.py:15: FutureWarning: suggest_loguniform has been deprecated in v3.0.0. This feature will be removed in v6.0.0. See https://github.com/optuna/optuna/releases/tag/v3.0.0. Use suggest_float(..., log=True) instead.\n",
      "  'reg_alpha': trial.suggest_loguniform('reg_alpha', 1e-5, 10.0),  # More range for L1 regularization\n",
      "C:\\Users\\dlesha\\AppData\\Local\\Temp\\ipykernel_3652\\2903819095.py:16: FutureWarning: suggest_loguniform has been deprecated in v3.0.0. This feature will be removed in v6.0.0. See https://github.com/optuna/optuna/releases/tag/v3.0.0. Use suggest_float(..., log=True) instead.\n",
      "  'reg_lambda': trial.suggest_loguniform('reg_lambda', 1e-5, 10.0),  # More range for L2 regularization\n",
      "[I 2024-03-29 23:25:58,407] Trial 42 finished with value: 0.816574585635359 and parameters: {'learning_rate': 0.08667259510245445, 'n_estimators': 402, 'max_depth': 6, 'min_child_weight': 1, 'subsample': 0.8996416990046507, 'colsample_bytree': 0.530700384591916, 'gamma': 3.7898760800530074, 'reg_alpha': 3.1649257544585185, 'reg_lambda': 1.3605061454262277}. Best is trial 21 with value: 0.8331491712707184.\n",
      "C:\\Users\\dlesha\\AppData\\Local\\Temp\\ipykernel_3652\\2903819095.py:15: FutureWarning: suggest_loguniform has been deprecated in v3.0.0. This feature will be removed in v6.0.0. See https://github.com/optuna/optuna/releases/tag/v3.0.0. Use suggest_float(..., log=True) instead.\n",
      "  'reg_alpha': trial.suggest_loguniform('reg_alpha', 1e-5, 10.0),  # More range for L1 regularization\n",
      "C:\\Users\\dlesha\\AppData\\Local\\Temp\\ipykernel_3652\\2903819095.py:16: FutureWarning: suggest_loguniform has been deprecated in v3.0.0. This feature will be removed in v6.0.0. See https://github.com/optuna/optuna/releases/tag/v3.0.0. Use suggest_float(..., log=True) instead.\n",
      "  'reg_lambda': trial.suggest_loguniform('reg_lambda', 1e-5, 10.0),  # More range for L2 regularization\n",
      "[I 2024-03-29 23:25:58,662] Trial 43 finished with value: 0.8298342541436463 and parameters: {'learning_rate': 0.02237327691615625, 'n_estimators': 447, 'max_depth': 7, 'min_child_weight': 2, 'subsample': 0.8721936062840931, 'colsample_bytree': 0.5035731898405329, 'gamma': 4.664011083572883, 'reg_alpha': 0.022875111581416408, 'reg_lambda': 0.6195775943360989}. Best is trial 21 with value: 0.8331491712707184.\n",
      "C:\\Users\\dlesha\\AppData\\Local\\Temp\\ipykernel_3652\\2903819095.py:15: FutureWarning: suggest_loguniform has been deprecated in v3.0.0. This feature will be removed in v6.0.0. See https://github.com/optuna/optuna/releases/tag/v3.0.0. Use suggest_float(..., log=True) instead.\n",
      "  'reg_alpha': trial.suggest_loguniform('reg_alpha', 1e-5, 10.0),  # More range for L1 regularization\n",
      "C:\\Users\\dlesha\\AppData\\Local\\Temp\\ipykernel_3652\\2903819095.py:16: FutureWarning: suggest_loguniform has been deprecated in v3.0.0. This feature will be removed in v6.0.0. See https://github.com/optuna/optuna/releases/tag/v3.0.0. Use suggest_float(..., log=True) instead.\n",
      "  'reg_lambda': trial.suggest_loguniform('reg_lambda', 1e-5, 10.0),  # More range for L2 regularization\n",
      "[I 2024-03-29 23:25:58,910] Trial 44 finished with value: 0.830939226519337 and parameters: {'learning_rate': 0.02309378937054106, 'n_estimators': 454, 'max_depth': 7, 'min_child_weight': 2, 'subsample': 0.8703975863214928, 'colsample_bytree': 0.5685389772771298, 'gamma': 4.4525129576049185, 'reg_alpha': 0.00796525862002553, 'reg_lambda': 0.5880493222637845}. Best is trial 21 with value: 0.8331491712707184.\n",
      "C:\\Users\\dlesha\\AppData\\Local\\Temp\\ipykernel_3652\\2903819095.py:15: FutureWarning: suggest_loguniform has been deprecated in v3.0.0. This feature will be removed in v6.0.0. See https://github.com/optuna/optuna/releases/tag/v3.0.0. Use suggest_float(..., log=True) instead.\n",
      "  'reg_alpha': trial.suggest_loguniform('reg_alpha', 1e-5, 10.0),  # More range for L1 regularization\n",
      "C:\\Users\\dlesha\\AppData\\Local\\Temp\\ipykernel_3652\\2903819095.py:16: FutureWarning: suggest_loguniform has been deprecated in v3.0.0. This feature will be removed in v6.0.0. See https://github.com/optuna/optuna/releases/tag/v3.0.0. Use suggest_float(..., log=True) instead.\n",
      "  'reg_lambda': trial.suggest_loguniform('reg_lambda', 1e-5, 10.0),  # More range for L2 regularization\n",
      "[I 2024-03-29 23:25:59,193] Trial 45 finished with value: 0.8209944751381215 and parameters: {'learning_rate': 0.04155305266312048, 'n_estimators': 469, 'max_depth': 7, 'min_child_weight': 3, 'subsample': 0.8631769191697157, 'colsample_bytree': 0.5795248868189745, 'gamma': 4.483755395340014, 'reg_alpha': 0.006418433084480799, 'reg_lambda': 3.993792259993557}. Best is trial 21 with value: 0.8331491712707184.\n",
      "C:\\Users\\dlesha\\AppData\\Local\\Temp\\ipykernel_3652\\2903819095.py:15: FutureWarning: suggest_loguniform has been deprecated in v3.0.0. This feature will be removed in v6.0.0. See https://github.com/optuna/optuna/releases/tag/v3.0.0. Use suggest_float(..., log=True) instead.\n",
      "  'reg_alpha': trial.suggest_loguniform('reg_alpha', 1e-5, 10.0),  # More range for L1 regularization\n",
      "C:\\Users\\dlesha\\AppData\\Local\\Temp\\ipykernel_3652\\2903819095.py:16: FutureWarning: suggest_loguniform has been deprecated in v3.0.0. This feature will be removed in v6.0.0. See https://github.com/optuna/optuna/releases/tag/v3.0.0. Use suggest_float(..., log=True) instead.\n",
      "  'reg_lambda': trial.suggest_loguniform('reg_lambda', 1e-5, 10.0),  # More range for L2 regularization\n",
      "[I 2024-03-29 23:25:59,455] Trial 46 finished with value: 0.8243093922651934 and parameters: {'learning_rate': 0.15697888668439514, 'n_estimators': 428, 'max_depth': 7, 'min_child_weight': 2, 'subsample': 0.6932129063301202, 'colsample_bytree': 0.6151029688317843, 'gamma': 4.274494202766923, 'reg_alpha': 0.052779616358251485, 'reg_lambda': 1.776991285955951}. Best is trial 21 with value: 0.8331491712707184.\n",
      "C:\\Users\\dlesha\\AppData\\Local\\Temp\\ipykernel_3652\\2903819095.py:15: FutureWarning: suggest_loguniform has been deprecated in v3.0.0. This feature will be removed in v6.0.0. See https://github.com/optuna/optuna/releases/tag/v3.0.0. Use suggest_float(..., log=True) instead.\n",
      "  'reg_alpha': trial.suggest_loguniform('reg_alpha', 1e-5, 10.0),  # More range for L1 regularization\n",
      "C:\\Users\\dlesha\\AppData\\Local\\Temp\\ipykernel_3652\\2903819095.py:16: FutureWarning: suggest_loguniform has been deprecated in v3.0.0. This feature will be removed in v6.0.0. See https://github.com/optuna/optuna/releases/tag/v3.0.0. Use suggest_float(..., log=True) instead.\n",
      "  'reg_lambda': trial.suggest_loguniform('reg_lambda', 1e-5, 10.0),  # More range for L2 regularization\n",
      "[I 2024-03-29 23:25:59,688] Trial 47 finished with value: 0.819889502762431 and parameters: {'learning_rate': 0.020450334528985217, 'n_estimators': 513, 'max_depth': 5, 'min_child_weight': 9, 'subsample': 0.8806272731293057, 'colsample_bytree': 0.6434951742026468, 'gamma': 4.5299722939404115, 'reg_alpha': 0.008789278503208472, 'reg_lambda': 5.298338950474656}. Best is trial 21 with value: 0.8331491712707184.\n",
      "C:\\Users\\dlesha\\AppData\\Local\\Temp\\ipykernel_3652\\2903819095.py:15: FutureWarning: suggest_loguniform has been deprecated in v3.0.0. This feature will be removed in v6.0.0. See https://github.com/optuna/optuna/releases/tag/v3.0.0. Use suggest_float(..., log=True) instead.\n",
      "  'reg_alpha': trial.suggest_loguniform('reg_alpha', 1e-5, 10.0),  # More range for L1 regularization\n",
      "C:\\Users\\dlesha\\AppData\\Local\\Temp\\ipykernel_3652\\2903819095.py:16: FutureWarning: suggest_loguniform has been deprecated in v3.0.0. This feature will be removed in v6.0.0. See https://github.com/optuna/optuna/releases/tag/v3.0.0. Use suggest_float(..., log=True) instead.\n",
      "  'reg_lambda': trial.suggest_loguniform('reg_lambda', 1e-5, 10.0),  # More range for L2 regularization\n",
      "[I 2024-03-29 23:25:59,836] Trial 48 finished with value: 0.8243093922651934 and parameters: {'learning_rate': 0.010291990564087458, 'n_estimators': 203, 'max_depth': 6, 'min_child_weight': 3, 'subsample': 0.8027313372866104, 'colsample_bytree': 0.6736676312555236, 'gamma': 1.7210766271812425, 'reg_alpha': 0.002585937872838527, 'reg_lambda': 0.4564642133773013}. Best is trial 21 with value: 0.8331491712707184.\n",
      "C:\\Users\\dlesha\\AppData\\Local\\Temp\\ipykernel_3652\\2903819095.py:15: FutureWarning: suggest_loguniform has been deprecated in v3.0.0. This feature will be removed in v6.0.0. See https://github.com/optuna/optuna/releases/tag/v3.0.0. Use suggest_float(..., log=True) instead.\n",
      "  'reg_alpha': trial.suggest_loguniform('reg_alpha', 1e-5, 10.0),  # More range for L1 regularization\n",
      "C:\\Users\\dlesha\\AppData\\Local\\Temp\\ipykernel_3652\\2903819095.py:16: FutureWarning: suggest_loguniform has been deprecated in v3.0.0. This feature will be removed in v6.0.0. See https://github.com/optuna/optuna/releases/tag/v3.0.0. Use suggest_float(..., log=True) instead.\n",
      "  'reg_lambda': trial.suggest_loguniform('reg_lambda', 1e-5, 10.0),  # More range for L2 regularization\n",
      "[I 2024-03-29 23:26:00,073] Trial 49 finished with value: 0.8209944751381215 and parameters: {'learning_rate': 0.03494952326945602, 'n_estimators': 378, 'max_depth': 6, 'min_child_weight': 4, 'subsample': 0.7759239440025734, 'colsample_bytree': 0.7393886127899005, 'gamma': 0.011912748386449845, 'reg_alpha': 0.000529284202881875, 'reg_lambda': 0.13286766904841163}. Best is trial 21 with value: 0.8331491712707184.\n",
      "C:\\Users\\dlesha\\AppData\\Local\\Temp\\ipykernel_3652\\2903819095.py:15: FutureWarning: suggest_loguniform has been deprecated in v3.0.0. This feature will be removed in v6.0.0. See https://github.com/optuna/optuna/releases/tag/v3.0.0. Use suggest_float(..., log=True) instead.\n",
      "  'reg_alpha': trial.suggest_loguniform('reg_alpha', 1e-5, 10.0),  # More range for L1 regularization\n",
      "C:\\Users\\dlesha\\AppData\\Local\\Temp\\ipykernel_3652\\2903819095.py:16: FutureWarning: suggest_loguniform has been deprecated in v3.0.0. This feature will be removed in v6.0.0. See https://github.com/optuna/optuna/releases/tag/v3.0.0. Use suggest_float(..., log=True) instead.\n",
      "  'reg_lambda': trial.suggest_loguniform('reg_lambda', 1e-5, 10.0),  # More range for L2 regularization\n",
      "[I 2024-03-29 23:26:00,176] Trial 50 finished with value: 0.825414364640884 and parameters: {'learning_rate': 0.05204692178661478, 'n_estimators': 105, 'max_depth': 5, 'min_child_weight': 6, 'subsample': 0.7389636403319428, 'colsample_bytree': 0.8709677132167253, 'gamma': 2.2914793876770077, 'reg_alpha': 0.018523928185677378, 'reg_lambda': 0.9278028631678353}. Best is trial 21 with value: 0.8331491712707184.\n",
      "C:\\Users\\dlesha\\AppData\\Local\\Temp\\ipykernel_3652\\2903819095.py:15: FutureWarning: suggest_loguniform has been deprecated in v3.0.0. This feature will be removed in v6.0.0. See https://github.com/optuna/optuna/releases/tag/v3.0.0. Use suggest_float(..., log=True) instead.\n",
      "  'reg_alpha': trial.suggest_loguniform('reg_alpha', 1e-5, 10.0),  # More range for L1 regularization\n",
      "C:\\Users\\dlesha\\AppData\\Local\\Temp\\ipykernel_3652\\2903819095.py:16: FutureWarning: suggest_loguniform has been deprecated in v3.0.0. This feature will be removed in v6.0.0. See https://github.com/optuna/optuna/releases/tag/v3.0.0. Use suggest_float(..., log=True) instead.\n",
      "  'reg_lambda': trial.suggest_loguniform('reg_lambda', 1e-5, 10.0),  # More range for L2 regularization\n",
      "[I 2024-03-29 23:26:00,433] Trial 51 finished with value: 0.8320441988950277 and parameters: {'learning_rate': 0.020739909605492175, 'n_estimators': 436, 'max_depth': 7, 'min_child_weight': 2, 'subsample': 0.8670768583276466, 'colsample_bytree': 0.5084984673931711, 'gamma': 4.656000795212559, 'reg_alpha': 0.026984600439665083, 'reg_lambda': 0.6613875853861365}. Best is trial 21 with value: 0.8331491712707184.\n",
      "C:\\Users\\dlesha\\AppData\\Local\\Temp\\ipykernel_3652\\2903819095.py:15: FutureWarning: suggest_loguniform has been deprecated in v3.0.0. This feature will be removed in v6.0.0. See https://github.com/optuna/optuna/releases/tag/v3.0.0. Use suggest_float(..., log=True) instead.\n",
      "  'reg_alpha': trial.suggest_loguniform('reg_alpha', 1e-5, 10.0),  # More range for L1 regularization\n",
      "C:\\Users\\dlesha\\AppData\\Local\\Temp\\ipykernel_3652\\2903819095.py:16: FutureWarning: suggest_loguniform has been deprecated in v3.0.0. This feature will be removed in v6.0.0. See https://github.com/optuna/optuna/releases/tag/v3.0.0. Use suggest_float(..., log=True) instead.\n",
      "  'reg_lambda': trial.suggest_loguniform('reg_lambda', 1e-5, 10.0),  # More range for L2 regularization\n",
      "[I 2024-03-29 23:26:00,702] Trial 52 finished with value: 0.8265193370165747 and parameters: {'learning_rate': 0.02487542072431946, 'n_estimators': 526, 'max_depth': 7, 'min_child_weight': 2, 'subsample': 0.8549540457016054, 'colsample_bytree': 0.5211845504745712, 'gamma': 4.807447143471403, 'reg_alpha': 0.007905098477695284, 'reg_lambda': 2.1094293153813513}. Best is trial 21 with value: 0.8331491712707184.\n",
      "C:\\Users\\dlesha\\AppData\\Local\\Temp\\ipykernel_3652\\2903819095.py:15: FutureWarning: suggest_loguniform has been deprecated in v3.0.0. This feature will be removed in v6.0.0. See https://github.com/optuna/optuna/releases/tag/v3.0.0. Use suggest_float(..., log=True) instead.\n",
      "  'reg_alpha': trial.suggest_loguniform('reg_alpha', 1e-5, 10.0),  # More range for L1 regularization\n",
      "C:\\Users\\dlesha\\AppData\\Local\\Temp\\ipykernel_3652\\2903819095.py:16: FutureWarning: suggest_loguniform has been deprecated in v3.0.0. This feature will be removed in v6.0.0. See https://github.com/optuna/optuna/releases/tag/v3.0.0. Use suggest_float(..., log=True) instead.\n",
      "  'reg_lambda': trial.suggest_loguniform('reg_lambda', 1e-5, 10.0),  # More range for L2 regularization\n",
      "[I 2024-03-29 23:26:00,976] Trial 53 finished with value: 0.8276243093922652 and parameters: {'learning_rate': 0.02776112094638261, 'n_estimators': 426, 'max_depth': 7, 'min_child_weight': 1, 'subsample': 0.8888407580697688, 'colsample_bytree': 0.5992530345948898, 'gamma': 4.966375706781146, 'reg_alpha': 0.04327411813217959, 'reg_lambda': 0.03461752072259298}. Best is trial 21 with value: 0.8331491712707184.\n",
      "C:\\Users\\dlesha\\AppData\\Local\\Temp\\ipykernel_3652\\2903819095.py:15: FutureWarning: suggest_loguniform has been deprecated in v3.0.0. This feature will be removed in v6.0.0. See https://github.com/optuna/optuna/releases/tag/v3.0.0. Use suggest_float(..., log=True) instead.\n",
      "  'reg_alpha': trial.suggest_loguniform('reg_alpha', 1e-5, 10.0),  # More range for L1 regularization\n",
      "C:\\Users\\dlesha\\AppData\\Local\\Temp\\ipykernel_3652\\2903819095.py:16: FutureWarning: suggest_loguniform has been deprecated in v3.0.0. This feature will be removed in v6.0.0. See https://github.com/optuna/optuna/releases/tag/v3.0.0. Use suggest_float(..., log=True) instead.\n",
      "  'reg_lambda': trial.suggest_loguniform('reg_lambda', 1e-5, 10.0),  # More range for L2 regularization\n",
      "[I 2024-03-29 23:26:01,186] Trial 54 finished with value: 0.8287292817679559 and parameters: {'learning_rate': 0.01839736805262109, 'n_estimators': 380, 'max_depth': 7, 'min_child_weight': 2, 'subsample': 0.8656098537381928, 'colsample_bytree': 0.5601104930175924, 'gamma': 4.278584784871031, 'reg_alpha': 0.1378490030076631, 'reg_lambda': 0.6444751404468165}. Best is trial 21 with value: 0.8331491712707184.\n",
      "C:\\Users\\dlesha\\AppData\\Local\\Temp\\ipykernel_3652\\2903819095.py:15: FutureWarning: suggest_loguniform has been deprecated in v3.0.0. This feature will be removed in v6.0.0. See https://github.com/optuna/optuna/releases/tag/v3.0.0. Use suggest_float(..., log=True) instead.\n",
      "  'reg_alpha': trial.suggest_loguniform('reg_alpha', 1e-5, 10.0),  # More range for L1 regularization\n",
      "C:\\Users\\dlesha\\AppData\\Local\\Temp\\ipykernel_3652\\2903819095.py:16: FutureWarning: suggest_loguniform has been deprecated in v3.0.0. This feature will be removed in v6.0.0. See https://github.com/optuna/optuna/releases/tag/v3.0.0. Use suggest_float(..., log=True) instead.\n",
      "  'reg_lambda': trial.suggest_loguniform('reg_lambda', 1e-5, 10.0),  # More range for L2 regularization\n",
      "[I 2024-03-29 23:26:01,431] Trial 55 finished with value: 0.8342541436464088 and parameters: {'learning_rate': 0.037386686605238424, 'n_estimators': 473, 'max_depth': 7, 'min_child_weight': 1, 'subsample': 0.8900264626634784, 'colsample_bytree': 0.5164639496476611, 'gamma': 0.9630761750324566, 'reg_alpha': 0.0014646277406021012, 'reg_lambda': 0.9450637672462581}. Best is trial 55 with value: 0.8342541436464088.\n",
      "C:\\Users\\dlesha\\AppData\\Local\\Temp\\ipykernel_3652\\2903819095.py:15: FutureWarning: suggest_loguniform has been deprecated in v3.0.0. This feature will be removed in v6.0.0. See https://github.com/optuna/optuna/releases/tag/v3.0.0. Use suggest_float(..., log=True) instead.\n",
      "  'reg_alpha': trial.suggest_loguniform('reg_alpha', 1e-5, 10.0),  # More range for L1 regularization\n",
      "C:\\Users\\dlesha\\AppData\\Local\\Temp\\ipykernel_3652\\2903819095.py:16: FutureWarning: suggest_loguniform has been deprecated in v3.0.0. This feature will be removed in v6.0.0. See https://github.com/optuna/optuna/releases/tag/v3.0.0. Use suggest_float(..., log=True) instead.\n",
      "  'reg_lambda': trial.suggest_loguniform('reg_lambda', 1e-5, 10.0),  # More range for L2 regularization\n",
      "[I 2024-03-29 23:26:01,619] Trial 56 finished with value: 0.8265193370165747 and parameters: {'learning_rate': 0.037603766458593604, 'n_estimators': 472, 'max_depth': 4, 'min_child_weight': 1, 'subsample': 0.8993007822335917, 'colsample_bytree': 0.515890184713306, 'gamma': 0.730389280848051, 'reg_alpha': 0.0010621165039605425, 'reg_lambda': 9.519962118841754}. Best is trial 55 with value: 0.8342541436464088.\n",
      "C:\\Users\\dlesha\\AppData\\Local\\Temp\\ipykernel_3652\\2903819095.py:15: FutureWarning: suggest_loguniform has been deprecated in v3.0.0. This feature will be removed in v6.0.0. See https://github.com/optuna/optuna/releases/tag/v3.0.0. Use suggest_float(..., log=True) instead.\n",
      "  'reg_alpha': trial.suggest_loguniform('reg_alpha', 1e-5, 10.0),  # More range for L1 regularization\n",
      "C:\\Users\\dlesha\\AppData\\Local\\Temp\\ipykernel_3652\\2903819095.py:16: FutureWarning: suggest_loguniform has been deprecated in v3.0.0. This feature will be removed in v6.0.0. See https://github.com/optuna/optuna/releases/tag/v3.0.0. Use suggest_float(..., log=True) instead.\n",
      "  'reg_lambda': trial.suggest_loguniform('reg_lambda', 1e-5, 10.0),  # More range for L2 regularization\n",
      "[I 2024-03-29 23:26:01,725] Trial 57 finished with value: 0.8232044198895027 and parameters: {'learning_rate': 0.19936746864969346, 'n_estimators': 128, 'max_depth': 7, 'min_child_weight': 1, 'subsample': 0.5231850170648463, 'colsample_bytree': 0.5000157795507504, 'gamma': 1.0256868587653651, 'reg_alpha': 0.0037385381464483587, 'reg_lambda': 5.693380289414931}. Best is trial 55 with value: 0.8342541436464088.\n",
      "C:\\Users\\dlesha\\AppData\\Local\\Temp\\ipykernel_3652\\2903819095.py:15: FutureWarning: suggest_loguniform has been deprecated in v3.0.0. This feature will be removed in v6.0.0. See https://github.com/optuna/optuna/releases/tag/v3.0.0. Use suggest_float(..., log=True) instead.\n",
      "  'reg_alpha': trial.suggest_loguniform('reg_alpha', 1e-5, 10.0),  # More range for L1 regularization\n",
      "C:\\Users\\dlesha\\AppData\\Local\\Temp\\ipykernel_3652\\2903819095.py:16: FutureWarning: suggest_loguniform has been deprecated in v3.0.0. This feature will be removed in v6.0.0. See https://github.com/optuna/optuna/releases/tag/v3.0.0. Use suggest_float(..., log=True) instead.\n",
      "  'reg_lambda': trial.suggest_loguniform('reg_lambda', 1e-5, 10.0),  # More range for L2 regularization\n",
      "[I 2024-03-29 23:26:01,837] Trial 58 finished with value: 0.8265193370165747 and parameters: {'learning_rate': 0.05099023563849066, 'n_estimators': 250, 'max_depth': 3, 'min_child_weight': 3, 'subsample': 0.8475004521593698, 'colsample_bytree': 0.5438978574796808, 'gamma': 1.5057234969953166, 'reg_alpha': 0.07420132512186908, 'reg_lambda': 0.9733050044541813}. Best is trial 55 with value: 0.8342541436464088.\n",
      "C:\\Users\\dlesha\\AppData\\Local\\Temp\\ipykernel_3652\\2903819095.py:15: FutureWarning: suggest_loguniform has been deprecated in v3.0.0. This feature will be removed in v6.0.0. See https://github.com/optuna/optuna/releases/tag/v3.0.0. Use suggest_float(..., log=True) instead.\n",
      "  'reg_alpha': trial.suggest_loguniform('reg_alpha', 1e-5, 10.0),  # More range for L1 regularization\n",
      "C:\\Users\\dlesha\\AppData\\Local\\Temp\\ipykernel_3652\\2903819095.py:16: FutureWarning: suggest_loguniform has been deprecated in v3.0.0. This feature will be removed in v6.0.0. See https://github.com/optuna/optuna/releases/tag/v3.0.0. Use suggest_float(..., log=True) instead.\n",
      "  'reg_lambda': trial.suggest_loguniform('reg_lambda', 1e-5, 10.0),  # More range for L2 regularization\n",
      "[I 2024-03-29 23:26:01,976] Trial 59 finished with value: 0.8243093922651934 and parameters: {'learning_rate': 0.04559878461686026, 'n_estimators': 175, 'max_depth': 6, 'min_child_weight': 1, 'subsample': 0.6766993417274624, 'colsample_bytree': 0.8175609848828952, 'gamma': 0.3267183458872589, 'reg_alpha': 2.598244920207326e-05, 'reg_lambda': 0.2657996413179414}. Best is trial 55 with value: 0.8342541436464088.\n",
      "C:\\Users\\dlesha\\AppData\\Local\\Temp\\ipykernel_3652\\2903819095.py:15: FutureWarning: suggest_loguniform has been deprecated in v3.0.0. This feature will be removed in v6.0.0. See https://github.com/optuna/optuna/releases/tag/v3.0.0. Use suggest_float(..., log=True) instead.\n",
      "  'reg_alpha': trial.suggest_loguniform('reg_alpha', 1e-5, 10.0),  # More range for L1 regularization\n",
      "C:\\Users\\dlesha\\AppData\\Local\\Temp\\ipykernel_3652\\2903819095.py:16: FutureWarning: suggest_loguniform has been deprecated in v3.0.0. This feature will be removed in v6.0.0. See https://github.com/optuna/optuna/releases/tag/v3.0.0. Use suggest_float(..., log=True) instead.\n",
      "  'reg_lambda': trial.suggest_loguniform('reg_lambda', 1e-5, 10.0),  # More range for L2 regularization\n",
      "[I 2024-03-29 23:26:02,183] Trial 60 finished with value: 0.830939226519337 and parameters: {'learning_rate': 0.016707080659429163, 'n_estimators': 525, 'max_depth': 4, 'min_child_weight': 1, 'subsample': 0.8893179495866508, 'colsample_bytree': 0.5123414077661165, 'gamma': 0.8241383145708363, 'reg_alpha': 0.0017774907353050899, 'reg_lambda': 2.7586341547440445}. Best is trial 55 with value: 0.8342541436464088.\n",
      "C:\\Users\\dlesha\\AppData\\Local\\Temp\\ipykernel_3652\\2903819095.py:15: FutureWarning: suggest_loguniform has been deprecated in v3.0.0. This feature will be removed in v6.0.0. See https://github.com/optuna/optuna/releases/tag/v3.0.0. Use suggest_float(..., log=True) instead.\n",
      "  'reg_alpha': trial.suggest_loguniform('reg_alpha', 1e-5, 10.0),  # More range for L1 regularization\n",
      "C:\\Users\\dlesha\\AppData\\Local\\Temp\\ipykernel_3652\\2903819095.py:16: FutureWarning: suggest_loguniform has been deprecated in v3.0.0. This feature will be removed in v6.0.0. See https://github.com/optuna/optuna/releases/tag/v3.0.0. Use suggest_float(..., log=True) instead.\n",
      "  'reg_lambda': trial.suggest_loguniform('reg_lambda', 1e-5, 10.0),  # More range for L2 regularization\n",
      "[I 2024-03-29 23:26:02,429] Trial 61 finished with value: 0.8232044198895029 and parameters: {'learning_rate': 0.033699233291244385, 'n_estimators': 464, 'max_depth': 7, 'min_child_weight': 2, 'subsample': 0.869276174117304, 'colsample_bytree': 0.5322938687916212, 'gamma': 1.979468697438084, 'reg_alpha': 0.011652652133624122, 'reg_lambda': 0.4657845009103884}. Best is trial 55 with value: 0.8342541436464088.\n",
      "C:\\Users\\dlesha\\AppData\\Local\\Temp\\ipykernel_3652\\2903819095.py:15: FutureWarning: suggest_loguniform has been deprecated in v3.0.0. This feature will be removed in v6.0.0. See https://github.com/optuna/optuna/releases/tag/v3.0.0. Use suggest_float(..., log=True) instead.\n",
      "  'reg_alpha': trial.suggest_loguniform('reg_alpha', 1e-5, 10.0),  # More range for L1 regularization\n",
      "C:\\Users\\dlesha\\AppData\\Local\\Temp\\ipykernel_3652\\2903819095.py:16: FutureWarning: suggest_loguniform has been deprecated in v3.0.0. This feature will be removed in v6.0.0. See https://github.com/optuna/optuna/releases/tag/v3.0.0. Use suggest_float(..., log=True) instead.\n",
      "  'reg_lambda': trial.suggest_loguniform('reg_lambda', 1e-5, 10.0),  # More range for L2 regularization\n",
      "[I 2024-03-29 23:26:02,670] Trial 62 finished with value: 0.8287292817679559 and parameters: {'learning_rate': 0.02679635246465798, 'n_estimators': 414, 'max_depth': 7, 'min_child_weight': 2, 'subsample': 0.8849748397980463, 'colsample_bytree': 0.5844734612671061, 'gamma': 4.6177373821913505, 'reg_alpha': 0.02124586674237471, 'reg_lambda': 1.0684754952682725}. Best is trial 55 with value: 0.8342541436464088.\n",
      "C:\\Users\\dlesha\\AppData\\Local\\Temp\\ipykernel_3652\\2903819095.py:15: FutureWarning: suggest_loguniform has been deprecated in v3.0.0. This feature will be removed in v6.0.0. See https://github.com/optuna/optuna/releases/tag/v3.0.0. Use suggest_float(..., log=True) instead.\n",
      "  'reg_alpha': trial.suggest_loguniform('reg_alpha', 1e-5, 10.0),  # More range for L1 regularization\n",
      "C:\\Users\\dlesha\\AppData\\Local\\Temp\\ipykernel_3652\\2903819095.py:16: FutureWarning: suggest_loguniform has been deprecated in v3.0.0. This feature will be removed in v6.0.0. See https://github.com/optuna/optuna/releases/tag/v3.0.0. Use suggest_float(..., log=True) instead.\n",
      "  'reg_lambda': trial.suggest_loguniform('reg_lambda', 1e-5, 10.0),  # More range for L2 regularization\n",
      "[I 2024-03-29 23:26:02,907] Trial 63 finished with value: 0.8232044198895027 and parameters: {'learning_rate': 0.041354397455760944, 'n_estimators': 446, 'max_depth': 7, 'min_child_weight': 2, 'subsample': 0.8243814564747646, 'colsample_bytree': 0.5677537381487704, 'gamma': 2.6808912650372085, 'reg_alpha': 0.005057014655230809, 'reg_lambda': 0.07543191087444243}. Best is trial 55 with value: 0.8342541436464088.\n",
      "C:\\Users\\dlesha\\AppData\\Local\\Temp\\ipykernel_3652\\2903819095.py:15: FutureWarning: suggest_loguniform has been deprecated in v3.0.0. This feature will be removed in v6.0.0. See https://github.com/optuna/optuna/releases/tag/v3.0.0. Use suggest_float(..., log=True) instead.\n",
      "  'reg_alpha': trial.suggest_loguniform('reg_alpha', 1e-5, 10.0),  # More range for L1 regularization\n",
      "C:\\Users\\dlesha\\AppData\\Local\\Temp\\ipykernel_3652\\2903819095.py:16: FutureWarning: suggest_loguniform has been deprecated in v3.0.0. This feature will be removed in v6.0.0. See https://github.com/optuna/optuna/releases/tag/v3.0.0. Use suggest_float(..., log=True) instead.\n",
      "  'reg_lambda': trial.suggest_loguniform('reg_lambda', 1e-5, 10.0),  # More range for L2 regularization\n",
      "[I 2024-03-29 23:26:03,196] Trial 64 finished with value: 0.8386740331491712 and parameters: {'learning_rate': 0.017113271594837998, 'n_estimators': 499, 'max_depth': 7, 'min_child_weight': 1, 'subsample': 0.8582594813020115, 'colsample_bytree': 0.5503703130038325, 'gamma': 2.44945174193325, 'reg_alpha': 0.0007057780952627311, 'reg_lambda': 1.2719285942255628e-05}. Best is trial 64 with value: 0.8386740331491712.\n",
      "C:\\Users\\dlesha\\AppData\\Local\\Temp\\ipykernel_3652\\2903819095.py:15: FutureWarning: suggest_loguniform has been deprecated in v3.0.0. This feature will be removed in v6.0.0. See https://github.com/optuna/optuna/releases/tag/v3.0.0. Use suggest_float(..., log=True) instead.\n",
      "  'reg_alpha': trial.suggest_loguniform('reg_alpha', 1e-5, 10.0),  # More range for L1 regularization\n",
      "C:\\Users\\dlesha\\AppData\\Local\\Temp\\ipykernel_3652\\2903819095.py:16: FutureWarning: suggest_loguniform has been deprecated in v3.0.0. This feature will be removed in v6.0.0. See https://github.com/optuna/optuna/releases/tag/v3.0.0. Use suggest_float(..., log=True) instead.\n",
      "  'reg_lambda': trial.suggest_loguniform('reg_lambda', 1e-5, 10.0),  # More range for L2 regularization\n",
      "[I 2024-03-29 23:26:03,395] Trial 65 finished with value: 0.8342541436464088 and parameters: {'learning_rate': 0.010088874512246397, 'n_estimators': 357, 'max_depth': 6, 'min_child_weight': 1, 'subsample': 0.855620870046446, 'colsample_bytree': 0.5501390215505259, 'gamma': 2.396894810483937, 'reg_alpha': 0.0001172855666129668, 'reg_lambda': 8.605048803064368e-05}. Best is trial 64 with value: 0.8386740331491712.\n",
      "C:\\Users\\dlesha\\AppData\\Local\\Temp\\ipykernel_3652\\2903819095.py:15: FutureWarning: suggest_loguniform has been deprecated in v3.0.0. This feature will be removed in v6.0.0. See https://github.com/optuna/optuna/releases/tag/v3.0.0. Use suggest_float(..., log=True) instead.\n",
      "  'reg_alpha': trial.suggest_loguniform('reg_alpha', 1e-5, 10.0),  # More range for L1 regularization\n",
      "C:\\Users\\dlesha\\AppData\\Local\\Temp\\ipykernel_3652\\2903819095.py:16: FutureWarning: suggest_loguniform has been deprecated in v3.0.0. This feature will be removed in v6.0.0. See https://github.com/optuna/optuna/releases/tag/v3.0.0. Use suggest_float(..., log=True) instead.\n",
      "  'reg_lambda': trial.suggest_loguniform('reg_lambda', 1e-5, 10.0),  # More range for L2 regularization\n",
      "[I 2024-03-29 23:26:03,672] Trial 66 finished with value: 0.8386740331491713 and parameters: {'learning_rate': 0.017798880115079904, 'n_estimators': 552, 'max_depth': 6, 'min_child_weight': 1, 'subsample': 0.8444923078101239, 'colsample_bytree': 0.551572220162069, 'gamma': 2.4558313953917694, 'reg_alpha': 8.27884459907128e-05, 'reg_lambda': 1.3996796251163958e-05}. Best is trial 66 with value: 0.8386740331491713.\n",
      "C:\\Users\\dlesha\\AppData\\Local\\Temp\\ipykernel_3652\\2903819095.py:15: FutureWarning: suggest_loguniform has been deprecated in v3.0.0. This feature will be removed in v6.0.0. See https://github.com/optuna/optuna/releases/tag/v3.0.0. Use suggest_float(..., log=True) instead.\n",
      "  'reg_alpha': trial.suggest_loguniform('reg_alpha', 1e-5, 10.0),  # More range for L1 regularization\n",
      "C:\\Users\\dlesha\\AppData\\Local\\Temp\\ipykernel_3652\\2903819095.py:16: FutureWarning: suggest_loguniform has been deprecated in v3.0.0. This feature will be removed in v6.0.0. See https://github.com/optuna/optuna/releases/tag/v3.0.0. Use suggest_float(..., log=True) instead.\n",
      "  'reg_lambda': trial.suggest_loguniform('reg_lambda', 1e-5, 10.0),  # More range for L2 regularization\n",
      "[I 2024-03-29 23:26:03,996] Trial 67 finished with value: 0.8320441988950276 and parameters: {'learning_rate': 0.015787898434161445, 'n_estimators': 592, 'max_depth': 6, 'min_child_weight': 1, 'subsample': 0.8460104079904377, 'colsample_bytree': 0.6308483029671151, 'gamma': 2.4548851589689304, 'reg_alpha': 0.00013740019970934951, 'reg_lambda': 1.3606712233842125e-05}. Best is trial 66 with value: 0.8386740331491713.\n",
      "C:\\Users\\dlesha\\AppData\\Local\\Temp\\ipykernel_3652\\2903819095.py:15: FutureWarning: suggest_loguniform has been deprecated in v3.0.0. This feature will be removed in v6.0.0. See https://github.com/optuna/optuna/releases/tag/v3.0.0. Use suggest_float(..., log=True) instead.\n",
      "  'reg_alpha': trial.suggest_loguniform('reg_alpha', 1e-5, 10.0),  # More range for L1 regularization\n",
      "C:\\Users\\dlesha\\AppData\\Local\\Temp\\ipykernel_3652\\2903819095.py:16: FutureWarning: suggest_loguniform has been deprecated in v3.0.0. This feature will be removed in v6.0.0. See https://github.com/optuna/optuna/releases/tag/v3.0.0. Use suggest_float(..., log=True) instead.\n",
      "  'reg_lambda': trial.suggest_loguniform('reg_lambda', 1e-5, 10.0),  # More range for L2 regularization\n",
      "[I 2024-03-29 23:26:04,298] Trial 68 finished with value: 0.830939226519337 and parameters: {'learning_rate': 0.03146807590141605, 'n_estimators': 566, 'max_depth': 6, 'min_child_weight': 1, 'subsample': 0.8251255843428553, 'colsample_bytree': 0.695450841283122, 'gamma': 2.813439465119565, 'reg_alpha': 0.00012928305507393275, 'reg_lambda': 2.7478202334717696e-05}. Best is trial 66 with value: 0.8386740331491713.\n",
      "C:\\Users\\dlesha\\AppData\\Local\\Temp\\ipykernel_3652\\2903819095.py:15: FutureWarning: suggest_loguniform has been deprecated in v3.0.0. This feature will be removed in v6.0.0. See https://github.com/optuna/optuna/releases/tag/v3.0.0. Use suggest_float(..., log=True) instead.\n",
      "  'reg_alpha': trial.suggest_loguniform('reg_alpha', 1e-5, 10.0),  # More range for L1 regularization\n",
      "C:\\Users\\dlesha\\AppData\\Local\\Temp\\ipykernel_3652\\2903819095.py:16: FutureWarning: suggest_loguniform has been deprecated in v3.0.0. This feature will be removed in v6.0.0. See https://github.com/optuna/optuna/releases/tag/v3.0.0. Use suggest_float(..., log=True) instead.\n",
      "  'reg_lambda': trial.suggest_loguniform('reg_lambda', 1e-5, 10.0),  # More range for L2 regularization\n",
      "[I 2024-03-29 23:26:04,584] Trial 69 finished with value: 0.8375690607734807 and parameters: {'learning_rate': 0.010899789486243018, 'n_estimators': 555, 'max_depth': 6, 'min_child_weight': 1, 'subsample': 0.8906077791912755, 'colsample_bytree': 0.5511199614351712, 'gamma': 2.326309268225085, 'reg_alpha': 7.07803301456704e-05, 'reg_lambda': 3.2200487169242945e-05}. Best is trial 66 with value: 0.8386740331491713.\n",
      "C:\\Users\\dlesha\\AppData\\Local\\Temp\\ipykernel_3652\\2903819095.py:15: FutureWarning: suggest_loguniform has been deprecated in v3.0.0. This feature will be removed in v6.0.0. See https://github.com/optuna/optuna/releases/tag/v3.0.0. Use suggest_float(..., log=True) instead.\n",
      "  'reg_alpha': trial.suggest_loguniform('reg_alpha', 1e-5, 10.0),  # More range for L1 regularization\n",
      "C:\\Users\\dlesha\\AppData\\Local\\Temp\\ipykernel_3652\\2903819095.py:16: FutureWarning: suggest_loguniform has been deprecated in v3.0.0. This feature will be removed in v6.0.0. See https://github.com/optuna/optuna/releases/tag/v3.0.0. Use suggest_float(..., log=True) instead.\n",
      "  'reg_lambda': trial.suggest_loguniform('reg_lambda', 1e-5, 10.0),  # More range for L2 regularization\n",
      "[I 2024-03-29 23:26:04,880] Trial 70 finished with value: 0.8386740331491712 and parameters: {'learning_rate': 0.011216743990072433, 'n_estimators': 559, 'max_depth': 6, 'min_child_weight': 1, 'subsample': 0.857863013369904, 'colsample_bytree': 0.5477417661557654, 'gamma': 2.3496553720620463, 'reg_alpha': 4.1085954330477e-05, 'reg_lambda': 7.999657773645183e-05}. Best is trial 66 with value: 0.8386740331491713.\n",
      "C:\\Users\\dlesha\\AppData\\Local\\Temp\\ipykernel_3652\\2903819095.py:15: FutureWarning: suggest_loguniform has been deprecated in v3.0.0. This feature will be removed in v6.0.0. See https://github.com/optuna/optuna/releases/tag/v3.0.0. Use suggest_float(..., log=True) instead.\n",
      "  'reg_alpha': trial.suggest_loguniform('reg_alpha', 1e-5, 10.0),  # More range for L1 regularization\n",
      "C:\\Users\\dlesha\\AppData\\Local\\Temp\\ipykernel_3652\\2903819095.py:16: FutureWarning: suggest_loguniform has been deprecated in v3.0.0. This feature will be removed in v6.0.0. See https://github.com/optuna/optuna/releases/tag/v3.0.0. Use suggest_float(..., log=True) instead.\n",
      "  'reg_lambda': trial.suggest_loguniform('reg_lambda', 1e-5, 10.0),  # More range for L2 regularization\n",
      "[I 2024-03-29 23:26:05,159] Trial 71 finished with value: 0.8375690607734807 and parameters: {'learning_rate': 0.010276777864169327, 'n_estimators': 564, 'max_depth': 6, 'min_child_weight': 1, 'subsample': 0.8570994943342236, 'colsample_bytree': 0.5500321762670626, 'gamma': 2.3656555833638517, 'reg_alpha': 3.627888444271486e-05, 'reg_lambda': 9.908079074515407e-05}. Best is trial 66 with value: 0.8386740331491713.\n",
      "C:\\Users\\dlesha\\AppData\\Local\\Temp\\ipykernel_3652\\2903819095.py:15: FutureWarning: suggest_loguniform has been deprecated in v3.0.0. This feature will be removed in v6.0.0. See https://github.com/optuna/optuna/releases/tag/v3.0.0. Use suggest_float(..., log=True) instead.\n",
      "  'reg_alpha': trial.suggest_loguniform('reg_alpha', 1e-5, 10.0),  # More range for L1 regularization\n",
      "C:\\Users\\dlesha\\AppData\\Local\\Temp\\ipykernel_3652\\2903819095.py:16: FutureWarning: suggest_loguniform has been deprecated in v3.0.0. This feature will be removed in v6.0.0. See https://github.com/optuna/optuna/releases/tag/v3.0.0. Use suggest_float(..., log=True) instead.\n",
      "  'reg_lambda': trial.suggest_loguniform('reg_lambda', 1e-5, 10.0),  # More range for L2 regularization\n",
      "[I 2024-03-29 23:26:05,435] Trial 72 finished with value: 0.8386740331491713 and parameters: {'learning_rate': 0.015249882030961366, 'n_estimators': 561, 'max_depth': 6, 'min_child_weight': 1, 'subsample': 0.858340675373733, 'colsample_bytree': 0.5524481866839901, 'gamma': 2.464348349237229, 'reg_alpha': 3.870550420427646e-05, 'reg_lambda': 0.00010624523037189529}. Best is trial 66 with value: 0.8386740331491713.\n",
      "C:\\Users\\dlesha\\AppData\\Local\\Temp\\ipykernel_3652\\2903819095.py:15: FutureWarning: suggest_loguniform has been deprecated in v3.0.0. This feature will be removed in v6.0.0. See https://github.com/optuna/optuna/releases/tag/v3.0.0. Use suggest_float(..., log=True) instead.\n",
      "  'reg_alpha': trial.suggest_loguniform('reg_alpha', 1e-5, 10.0),  # More range for L1 regularization\n",
      "C:\\Users\\dlesha\\AppData\\Local\\Temp\\ipykernel_3652\\2903819095.py:16: FutureWarning: suggest_loguniform has been deprecated in v3.0.0. This feature will be removed in v6.0.0. See https://github.com/optuna/optuna/releases/tag/v3.0.0. Use suggest_float(..., log=True) instead.\n",
      "  'reg_lambda': trial.suggest_loguniform('reg_lambda', 1e-5, 10.0),  # More range for L2 regularization\n",
      "[I 2024-03-29 23:26:05,707] Trial 73 finished with value: 0.8342541436464088 and parameters: {'learning_rate': 0.016091577203463676, 'n_estimators': 559, 'max_depth': 6, 'min_child_weight': 1, 'subsample': 0.8094707478712003, 'colsample_bytree': 0.5475248629456108, 'gamma': 2.4193590969603584, 'reg_alpha': 3.727433103296051e-05, 'reg_lambda': 0.00011099271030061367}. Best is trial 66 with value: 0.8386740331491713.\n",
      "C:\\Users\\dlesha\\AppData\\Local\\Temp\\ipykernel_3652\\2903819095.py:15: FutureWarning: suggest_loguniform has been deprecated in v3.0.0. This feature will be removed in v6.0.0. See https://github.com/optuna/optuna/releases/tag/v3.0.0. Use suggest_float(..., log=True) instead.\n",
      "  'reg_alpha': trial.suggest_loguniform('reg_alpha', 1e-5, 10.0),  # More range for L1 regularization\n",
      "C:\\Users\\dlesha\\AppData\\Local\\Temp\\ipykernel_3652\\2903819095.py:16: FutureWarning: suggest_loguniform has been deprecated in v3.0.0. This feature will be removed in v6.0.0. See https://github.com/optuna/optuna/releases/tag/v3.0.0. Use suggest_float(..., log=True) instead.\n",
      "  'reg_lambda': trial.suggest_loguniform('reg_lambda', 1e-5, 10.0),  # More range for L2 regularization\n",
      "[I 2024-03-29 23:26:05,994] Trial 74 finished with value: 0.8397790055248618 and parameters: {'learning_rate': 0.010243164670562953, 'n_estimators': 575, 'max_depth': 6, 'min_child_weight': 1, 'subsample': 0.8566024420035201, 'colsample_bytree': 0.5535372416607698, 'gamma': 2.0606932358047905, 'reg_alpha': 1.3067414840153777e-05, 'reg_lambda': 6.564808445852944e-05}. Best is trial 74 with value: 0.8397790055248618.\n",
      "C:\\Users\\dlesha\\AppData\\Local\\Temp\\ipykernel_3652\\2903819095.py:15: FutureWarning: suggest_loguniform has been deprecated in v3.0.0. This feature will be removed in v6.0.0. See https://github.com/optuna/optuna/releases/tag/v3.0.0. Use suggest_float(..., log=True) instead.\n",
      "  'reg_alpha': trial.suggest_loguniform('reg_alpha', 1e-5, 10.0),  # More range for L1 regularization\n",
      "C:\\Users\\dlesha\\AppData\\Local\\Temp\\ipykernel_3652\\2903819095.py:16: FutureWarning: suggest_loguniform has been deprecated in v3.0.0. This feature will be removed in v6.0.0. See https://github.com/optuna/optuna/releases/tag/v3.0.0. Use suggest_float(..., log=True) instead.\n",
      "  'reg_lambda': trial.suggest_loguniform('reg_lambda', 1e-5, 10.0),  # More range for L2 regularization\n",
      "[I 2024-03-29 23:26:06,268] Trial 75 finished with value: 0.8375690607734807 and parameters: {'learning_rate': 0.017109279362036114, 'n_estimators': 571, 'max_depth': 6, 'min_child_weight': 1, 'subsample': 0.8410613530961004, 'colsample_bytree': 0.5348513958760992, 'gamma': 2.106070792926323, 'reg_alpha': 1.0161349397759475e-05, 'reg_lambda': 2.576525932411844e-05}. Best is trial 74 with value: 0.8397790055248618.\n",
      "C:\\Users\\dlesha\\AppData\\Local\\Temp\\ipykernel_3652\\2903819095.py:15: FutureWarning: suggest_loguniform has been deprecated in v3.0.0. This feature will be removed in v6.0.0. See https://github.com/optuna/optuna/releases/tag/v3.0.0. Use suggest_float(..., log=True) instead.\n",
      "  'reg_alpha': trial.suggest_loguniform('reg_alpha', 1e-5, 10.0),  # More range for L1 regularization\n",
      "C:\\Users\\dlesha\\AppData\\Local\\Temp\\ipykernel_3652\\2903819095.py:16: FutureWarning: suggest_loguniform has been deprecated in v3.0.0. This feature will be removed in v6.0.0. See https://github.com/optuna/optuna/releases/tag/v3.0.0. Use suggest_float(..., log=True) instead.\n",
      "  'reg_lambda': trial.suggest_loguniform('reg_lambda', 1e-5, 10.0),  # More range for L2 regularization\n",
      "[I 2024-03-29 23:26:06,568] Trial 76 finished with value: 0.8386740331491712 and parameters: {'learning_rate': 0.017774308979941842, 'n_estimators': 600, 'max_depth': 6, 'min_child_weight': 1, 'subsample': 0.8424252178302317, 'colsample_bytree': 0.5312372243969014, 'gamma': 2.0774750976951863, 'reg_alpha': 1.1772465441732768e-05, 'reg_lambda': 2.554791131449466e-05}. Best is trial 74 with value: 0.8397790055248618.\n",
      "C:\\Users\\dlesha\\AppData\\Local\\Temp\\ipykernel_3652\\2903819095.py:15: FutureWarning: suggest_loguniform has been deprecated in v3.0.0. This feature will be removed in v6.0.0. See https://github.com/optuna/optuna/releases/tag/v3.0.0. Use suggest_float(..., log=True) instead.\n",
      "  'reg_alpha': trial.suggest_loguniform('reg_alpha', 1e-5, 10.0),  # More range for L1 regularization\n",
      "C:\\Users\\dlesha\\AppData\\Local\\Temp\\ipykernel_3652\\2903819095.py:16: FutureWarning: suggest_loguniform has been deprecated in v3.0.0. This feature will be removed in v6.0.0. See https://github.com/optuna/optuna/releases/tag/v3.0.0. Use suggest_float(..., log=True) instead.\n",
      "  'reg_lambda': trial.suggest_loguniform('reg_lambda', 1e-5, 10.0),  # More range for L2 regularization\n",
      "[I 2024-03-29 23:26:06,828] Trial 77 finished with value: 0.8386740331491713 and parameters: {'learning_rate': 0.029529460834699837, 'n_estimators': 545, 'max_depth': 6, 'min_child_weight': 1, 'subsample': 0.8258452572404771, 'colsample_bytree': 0.5570092596555096, 'gamma': 2.593947333684768, 'reg_alpha': 6.288930258980772e-05, 'reg_lambda': 5.811340829888281e-05}. Best is trial 74 with value: 0.8397790055248618.\n",
      "C:\\Users\\dlesha\\AppData\\Local\\Temp\\ipykernel_3652\\2903819095.py:15: FutureWarning: suggest_loguniform has been deprecated in v3.0.0. This feature will be removed in v6.0.0. See https://github.com/optuna/optuna/releases/tag/v3.0.0. Use suggest_float(..., log=True) instead.\n",
      "  'reg_alpha': trial.suggest_loguniform('reg_alpha', 1e-5, 10.0),  # More range for L1 regularization\n",
      "C:\\Users\\dlesha\\AppData\\Local\\Temp\\ipykernel_3652\\2903819095.py:16: FutureWarning: suggest_loguniform has been deprecated in v3.0.0. This feature will be removed in v6.0.0. See https://github.com/optuna/optuna/releases/tag/v3.0.0. Use suggest_float(..., log=True) instead.\n",
      "  'reg_lambda': trial.suggest_loguniform('reg_lambda', 1e-5, 10.0),  # More range for L2 regularization\n",
      "[I 2024-03-29 23:26:07,123] Trial 78 finished with value: 0.8287292817679559 and parameters: {'learning_rate': 0.02822697615451477, 'n_estimators': 540, 'max_depth': 6, 'min_child_weight': 1, 'subsample': 0.8272495700164222, 'colsample_bytree': 0.5764330477526016, 'gamma': 2.569242858276123, 'reg_alpha': 6.656976742701306e-05, 'reg_lambda': 4.631855759995282e-05}. Best is trial 74 with value: 0.8397790055248618.\n",
      "C:\\Users\\dlesha\\AppData\\Local\\Temp\\ipykernel_3652\\2903819095.py:15: FutureWarning: suggest_loguniform has been deprecated in v3.0.0. This feature will be removed in v6.0.0. See https://github.com/optuna/optuna/releases/tag/v3.0.0. Use suggest_float(..., log=True) instead.\n",
      "  'reg_alpha': trial.suggest_loguniform('reg_alpha', 1e-5, 10.0),  # More range for L1 regularization\n",
      "C:\\Users\\dlesha\\AppData\\Local\\Temp\\ipykernel_3652\\2903819095.py:16: FutureWarning: suggest_loguniform has been deprecated in v3.0.0. This feature will be removed in v6.0.0. See https://github.com/optuna/optuna/releases/tag/v3.0.0. Use suggest_float(..., log=True) instead.\n",
      "  'reg_lambda': trial.suggest_loguniform('reg_lambda', 1e-5, 10.0),  # More range for L2 regularization\n",
      "[I 2024-03-29 23:26:07,443] Trial 79 finished with value: 0.8320441988950276 and parameters: {'learning_rate': 0.019728865675641784, 'n_estimators': 580, 'max_depth': 6, 'min_child_weight': 1, 'subsample': 0.8022103955615235, 'colsample_bytree': 0.5915293812360309, 'gamma': 2.0196846395985375, 'reg_alpha': 1.3445099848110333e-05, 'reg_lambda': 0.00022614414174175262}. Best is trial 74 with value: 0.8397790055248618.\n",
      "C:\\Users\\dlesha\\AppData\\Local\\Temp\\ipykernel_3652\\2903819095.py:15: FutureWarning: suggest_loguniform has been deprecated in v3.0.0. This feature will be removed in v6.0.0. See https://github.com/optuna/optuna/releases/tag/v3.0.0. Use suggest_float(..., log=True) instead.\n",
      "  'reg_alpha': trial.suggest_loguniform('reg_alpha', 1e-5, 10.0),  # More range for L1 regularization\n",
      "C:\\Users\\dlesha\\AppData\\Local\\Temp\\ipykernel_3652\\2903819095.py:16: FutureWarning: suggest_loguniform has been deprecated in v3.0.0. This feature will be removed in v6.0.0. See https://github.com/optuna/optuna/releases/tag/v3.0.0. Use suggest_float(..., log=True) instead.\n",
      "  'reg_lambda': trial.suggest_loguniform('reg_lambda', 1e-5, 10.0),  # More range for L2 regularization\n",
      "[I 2024-03-29 23:26:07,695] Trial 80 finished with value: 0.819889502762431 and parameters: {'learning_rate': 0.0240431022347819, 'n_estimators': 598, 'max_depth': 6, 'min_child_weight': 8, 'subsample': 0.7796562301908626, 'colsample_bytree': 0.5276916836124982, 'gamma': 1.8358433103172027, 'reg_alpha': 0.0002336607069677595, 'reg_lambda': 5.926633516497907e-05}. Best is trial 74 with value: 0.8397790055248618.\n",
      "C:\\Users\\dlesha\\AppData\\Local\\Temp\\ipykernel_3652\\2903819095.py:15: FutureWarning: suggest_loguniform has been deprecated in v3.0.0. This feature will be removed in v6.0.0. See https://github.com/optuna/optuna/releases/tag/v3.0.0. Use suggest_float(..., log=True) instead.\n",
      "  'reg_alpha': trial.suggest_loguniform('reg_alpha', 1e-5, 10.0),  # More range for L1 regularization\n",
      "C:\\Users\\dlesha\\AppData\\Local\\Temp\\ipykernel_3652\\2903819095.py:16: FutureWarning: suggest_loguniform has been deprecated in v3.0.0. This feature will be removed in v6.0.0. See https://github.com/optuna/optuna/releases/tag/v3.0.0. Use suggest_float(..., log=True) instead.\n",
      "  'reg_lambda': trial.suggest_loguniform('reg_lambda', 1e-5, 10.0),  # More range for L2 regularization\n",
      "[I 2024-03-29 23:26:07,966] Trial 81 finished with value: 0.830939226519337 and parameters: {'learning_rate': 0.01004206168618959, 'n_estimators': 548, 'max_depth': 6, 'min_child_weight': 1, 'subsample': 0.8571491966760717, 'colsample_bytree': 0.5561268521258491, 'gamma': 2.7425840494145204, 'reg_alpha': 2.613389535470565e-05, 'reg_lambda': 2.1912290019892507e-05}. Best is trial 74 with value: 0.8397790055248618.\n",
      "C:\\Users\\dlesha\\AppData\\Local\\Temp\\ipykernel_3652\\2903819095.py:15: FutureWarning: suggest_loguniform has been deprecated in v3.0.0. This feature will be removed in v6.0.0. See https://github.com/optuna/optuna/releases/tag/v3.0.0. Use suggest_float(..., log=True) instead.\n",
      "  'reg_alpha': trial.suggest_loguniform('reg_alpha', 1e-5, 10.0),  # More range for L1 regularization\n",
      "C:\\Users\\dlesha\\AppData\\Local\\Temp\\ipykernel_3652\\2903819095.py:16: FutureWarning: suggest_loguniform has been deprecated in v3.0.0. This feature will be removed in v6.0.0. See https://github.com/optuna/optuna/releases/tag/v3.0.0. Use suggest_float(..., log=True) instead.\n",
      "  'reg_lambda': trial.suggest_loguniform('reg_lambda', 1e-5, 10.0),  # More range for L2 regularization\n",
      "[I 2024-03-29 23:26:08,266] Trial 82 finished with value: 0.8397790055248618 and parameters: {'learning_rate': 0.014466533497822167, 'n_estimators': 580, 'max_depth': 6, 'min_child_weight': 1, 'subsample': 0.8201793180505748, 'colsample_bytree': 0.5571189953686853, 'gamma': 2.322936459818383, 'reg_alpha': 6.0871535648603916e-05, 'reg_lambda': 1.1497939813953255e-05}. Best is trial 74 with value: 0.8397790055248618.\n",
      "C:\\Users\\dlesha\\AppData\\Local\\Temp\\ipykernel_3652\\2903819095.py:15: FutureWarning: suggest_loguniform has been deprecated in v3.0.0. This feature will be removed in v6.0.0. See https://github.com/optuna/optuna/releases/tag/v3.0.0. Use suggest_float(..., log=True) instead.\n",
      "  'reg_alpha': trial.suggest_loguniform('reg_alpha', 1e-5, 10.0),  # More range for L1 regularization\n",
      "C:\\Users\\dlesha\\AppData\\Local\\Temp\\ipykernel_3652\\2903819095.py:16: FutureWarning: suggest_loguniform has been deprecated in v3.0.0. This feature will be removed in v6.0.0. See https://github.com/optuna/optuna/releases/tag/v3.0.0. Use suggest_float(..., log=True) instead.\n",
      "  'reg_lambda': trial.suggest_loguniform('reg_lambda', 1e-5, 10.0),  # More range for L2 regularization\n",
      "[I 2024-03-29 23:26:08,556] Trial 83 finished with value: 0.8353591160220993 and parameters: {'learning_rate': 0.016045743177582103, 'n_estimators': 585, 'max_depth': 6, 'min_child_weight': 1, 'subsample': 0.832905526742895, 'colsample_bytree': 0.5604710447365301, 'gamma': 2.1415413773465324, 'reg_alpha': 7.122294379723123e-05, 'reg_lambda': 1.0377362709855361e-05}. Best is trial 74 with value: 0.8397790055248618.\n",
      "C:\\Users\\dlesha\\AppData\\Local\\Temp\\ipykernel_3652\\2903819095.py:15: FutureWarning: suggest_loguniform has been deprecated in v3.0.0. This feature will be removed in v6.0.0. See https://github.com/optuna/optuna/releases/tag/v3.0.0. Use suggest_float(..., log=True) instead.\n",
      "  'reg_alpha': trial.suggest_loguniform('reg_alpha', 1e-5, 10.0),  # More range for L1 regularization\n",
      "C:\\Users\\dlesha\\AppData\\Local\\Temp\\ipykernel_3652\\2903819095.py:16: FutureWarning: suggest_loguniform has been deprecated in v3.0.0. This feature will be removed in v6.0.0. See https://github.com/optuna/optuna/releases/tag/v3.0.0. Use suggest_float(..., log=True) instead.\n",
      "  'reg_lambda': trial.suggest_loguniform('reg_lambda', 1e-5, 10.0),  # More range for L2 regularization\n",
      "[I 2024-03-29 23:26:08,800] Trial 84 finished with value: 0.8298342541436465 and parameters: {'learning_rate': 0.028553085449481597, 'n_estimators': 504, 'max_depth': 6, 'min_child_weight': 2, 'subsample': 0.8429631787264724, 'colsample_bytree': 0.5378963033406214, 'gamma': 2.553667962701251, 'reg_alpha': 4.967531991148498e-05, 'reg_lambda': 1.9099845883517058e-05}. Best is trial 74 with value: 0.8397790055248618.\n",
      "C:\\Users\\dlesha\\AppData\\Local\\Temp\\ipykernel_3652\\2903819095.py:15: FutureWarning: suggest_loguniform has been deprecated in v3.0.0. This feature will be removed in v6.0.0. See https://github.com/optuna/optuna/releases/tag/v3.0.0. Use suggest_float(..., log=True) instead.\n",
      "  'reg_alpha': trial.suggest_loguniform('reg_alpha', 1e-5, 10.0),  # More range for L1 regularization\n",
      "C:\\Users\\dlesha\\AppData\\Local\\Temp\\ipykernel_3652\\2903819095.py:16: FutureWarning: suggest_loguniform has been deprecated in v3.0.0. This feature will be removed in v6.0.0. See https://github.com/optuna/optuna/releases/tag/v3.0.0. Use suggest_float(..., log=True) instead.\n",
      "  'reg_lambda': trial.suggest_loguniform('reg_lambda', 1e-5, 10.0),  # More range for L2 regularization\n",
      "[I 2024-03-29 23:26:09,064] Trial 85 finished with value: 0.8397790055248618 and parameters: {'learning_rate': 0.014758514816941674, 'n_estimators': 541, 'max_depth': 6, 'min_child_weight': 1, 'subsample': 0.8173514180729986, 'colsample_bytree': 0.5249472861807658, 'gamma': 2.9793960599323217, 'reg_alpha': 1.9299174951919813e-05, 'reg_lambda': 0.00020832200111652274}. Best is trial 74 with value: 0.8397790055248618.\n",
      "C:\\Users\\dlesha\\AppData\\Local\\Temp\\ipykernel_3652\\2903819095.py:15: FutureWarning: suggest_loguniform has been deprecated in v3.0.0. This feature will be removed in v6.0.0. See https://github.com/optuna/optuna/releases/tag/v3.0.0. Use suggest_float(..., log=True) instead.\n",
      "  'reg_alpha': trial.suggest_loguniform('reg_alpha', 1e-5, 10.0),  # More range for L1 regularization\n",
      "C:\\Users\\dlesha\\AppData\\Local\\Temp\\ipykernel_3652\\2903819095.py:16: FutureWarning: suggest_loguniform has been deprecated in v3.0.0. This feature will be removed in v6.0.0. See https://github.com/optuna/optuna/releases/tag/v3.0.0. Use suggest_float(..., log=True) instead.\n",
      "  'reg_lambda': trial.suggest_loguniform('reg_lambda', 1e-5, 10.0),  # More range for L2 regularization\n",
      "[I 2024-03-29 23:26:09,359] Trial 86 finished with value: 0.8320441988950276 and parameters: {'learning_rate': 0.02325060867311851, 'n_estimators': 536, 'max_depth': 6, 'min_child_weight': 1, 'subsample': 0.8163841599972566, 'colsample_bytree': 0.6057144765091514, 'gamma': 3.1378752008847726, 'reg_alpha': 2.1807533361387313e-05, 'reg_lambda': 5.914670795290606e-05}. Best is trial 74 with value: 0.8397790055248618.\n",
      "C:\\Users\\dlesha\\AppData\\Local\\Temp\\ipykernel_3652\\2903819095.py:15: FutureWarning: suggest_loguniform has been deprecated in v3.0.0. This feature will be removed in v6.0.0. See https://github.com/optuna/optuna/releases/tag/v3.0.0. Use suggest_float(..., log=True) instead.\n",
      "  'reg_alpha': trial.suggest_loguniform('reg_alpha', 1e-5, 10.0),  # More range for L1 regularization\n",
      "C:\\Users\\dlesha\\AppData\\Local\\Temp\\ipykernel_3652\\2903819095.py:16: FutureWarning: suggest_loguniform has been deprecated in v3.0.0. This feature will be removed in v6.0.0. See https://github.com/optuna/optuna/releases/tag/v3.0.0. Use suggest_float(..., log=True) instead.\n",
      "  'reg_lambda': trial.suggest_loguniform('reg_lambda', 1e-5, 10.0),  # More range for L2 regularization\n",
      "[I 2024-03-29 23:26:09,644] Trial 87 finished with value: 0.8254143646408838 and parameters: {'learning_rate': 0.015178887293609122, 'n_estimators': 577, 'max_depth': 6, 'min_child_weight': 2, 'subsample': 0.7909519056103202, 'colsample_bytree': 0.5242321875006974, 'gamma': 3.0017206733301167, 'reg_alpha': 1.739525074820978e-05, 'reg_lambda': 0.00023820082800621927}. Best is trial 74 with value: 0.8397790055248618.\n",
      "C:\\Users\\dlesha\\AppData\\Local\\Temp\\ipykernel_3652\\2903819095.py:15: FutureWarning: suggest_loguniform has been deprecated in v3.0.0. This feature will be removed in v6.0.0. See https://github.com/optuna/optuna/releases/tag/v3.0.0. Use suggest_float(..., log=True) instead.\n",
      "  'reg_alpha': trial.suggest_loguniform('reg_alpha', 1e-5, 10.0),  # More range for L1 regularization\n",
      "C:\\Users\\dlesha\\AppData\\Local\\Temp\\ipykernel_3652\\2903819095.py:16: FutureWarning: suggest_loguniform has been deprecated in v3.0.0. This feature will be removed in v6.0.0. See https://github.com/optuna/optuna/releases/tag/v3.0.0. Use suggest_float(..., log=True) instead.\n",
      "  'reg_lambda': trial.suggest_loguniform('reg_lambda', 1e-5, 10.0),  # More range for L2 regularization\n",
      "[I 2024-03-29 23:26:09,933] Trial 88 finished with value: 0.8287292817679559 and parameters: {'learning_rate': 0.030181868953493556, 'n_estimators': 519, 'max_depth': 6, 'min_child_weight': 1, 'subsample': 0.7702690906387831, 'colsample_bytree': 0.5809786709646115, 'gamma': 2.6615314582092116, 'reg_alpha': 4.1045866644967925e-05, 'reg_lambda': 0.00017986391640414316}. Best is trial 74 with value: 0.8397790055248618.\n",
      "C:\\Users\\dlesha\\AppData\\Local\\Temp\\ipykernel_3652\\2903819095.py:15: FutureWarning: suggest_loguniform has been deprecated in v3.0.0. This feature will be removed in v6.0.0. See https://github.com/optuna/optuna/releases/tag/v3.0.0. Use suggest_float(..., log=True) instead.\n",
      "  'reg_alpha': trial.suggest_loguniform('reg_alpha', 1e-5, 10.0),  # More range for L1 regularization\n",
      "C:\\Users\\dlesha\\AppData\\Local\\Temp\\ipykernel_3652\\2903819095.py:16: FutureWarning: suggest_loguniform has been deprecated in v3.0.0. This feature will be removed in v6.0.0. See https://github.com/optuna/optuna/releases/tag/v3.0.0. Use suggest_float(..., log=True) instead.\n",
      "  'reg_lambda': trial.suggest_loguniform('reg_lambda', 1e-5, 10.0),  # More range for L2 regularization\n",
      "[I 2024-03-29 23:26:10,202] Trial 89 finished with value: 0.825414364640884 and parameters: {'learning_rate': 0.02104102221842309, 'n_estimators': 494, 'max_depth': 6, 'min_child_weight': 2, 'subsample': 0.8144548724440578, 'colsample_bytree': 0.5744554003696364, 'gamma': 2.8860285626236304, 'reg_alpha': 1.4015378080026786e-05, 'reg_lambda': 0.0005265719640133147}. Best is trial 74 with value: 0.8397790055248618.\n",
      "C:\\Users\\dlesha\\AppData\\Local\\Temp\\ipykernel_3652\\2903819095.py:15: FutureWarning: suggest_loguniform has been deprecated in v3.0.0. This feature will be removed in v6.0.0. See https://github.com/optuna/optuna/releases/tag/v3.0.0. Use suggest_float(..., log=True) instead.\n",
      "  'reg_alpha': trial.suggest_loguniform('reg_alpha', 1e-5, 10.0),  # More range for L1 regularization\n",
      "C:\\Users\\dlesha\\AppData\\Local\\Temp\\ipykernel_3652\\2903819095.py:16: FutureWarning: suggest_loguniform has been deprecated in v3.0.0. This feature will be removed in v6.0.0. See https://github.com/optuna/optuna/releases/tag/v3.0.0. Use suggest_float(..., log=True) instead.\n",
      "  'reg_lambda': trial.suggest_loguniform('reg_lambda', 1e-5, 10.0),  # More range for L2 regularization\n",
      "[I 2024-03-29 23:26:10,443] Trial 90 finished with value: 0.8375690607734807 and parameters: {'learning_rate': 0.033009408195380605, 'n_estimators': 539, 'max_depth': 5, 'min_child_weight': 2, 'subsample': 0.8020472888050564, 'colsample_bytree': 0.5356943695786732, 'gamma': 1.614100551855965, 'reg_alpha': 0.00021360149534386662, 'reg_lambda': 1.6910178136289965e-05}. Best is trial 74 with value: 0.8397790055248618.\n",
      "C:\\Users\\dlesha\\AppData\\Local\\Temp\\ipykernel_3652\\2903819095.py:15: FutureWarning: suggest_loguniform has been deprecated in v3.0.0. This feature will be removed in v6.0.0. See https://github.com/optuna/optuna/releases/tag/v3.0.0. Use suggest_float(..., log=True) instead.\n",
      "  'reg_alpha': trial.suggest_loguniform('reg_alpha', 1e-5, 10.0),  # More range for L1 regularization\n",
      "C:\\Users\\dlesha\\AppData\\Local\\Temp\\ipykernel_3652\\2903819095.py:16: FutureWarning: suggest_loguniform has been deprecated in v3.0.0. This feature will be removed in v6.0.0. See https://github.com/optuna/optuna/releases/tag/v3.0.0. Use suggest_float(..., log=True) instead.\n",
      "  'reg_lambda': trial.suggest_loguniform('reg_lambda', 1e-5, 10.0),  # More range for L2 regularization\n",
      "[I 2024-03-29 23:26:10,727] Trial 91 finished with value: 0.8364640883977902 and parameters: {'learning_rate': 0.013384845427503836, 'n_estimators': 553, 'max_depth': 6, 'min_child_weight': 1, 'subsample': 0.8279733154991273, 'colsample_bytree': 0.5612369772928798, 'gamma': 2.2508097861387024, 'reg_alpha': 9.835586692414292e-05, 'reg_lambda': 3.498128452099151e-05}. Best is trial 74 with value: 0.8397790055248618.\n",
      "C:\\Users\\dlesha\\AppData\\Local\\Temp\\ipykernel_3652\\2903819095.py:15: FutureWarning: suggest_loguniform has been deprecated in v3.0.0. This feature will be removed in v6.0.0. See https://github.com/optuna/optuna/releases/tag/v3.0.0. Use suggest_float(..., log=True) instead.\n",
      "  'reg_alpha': trial.suggest_loguniform('reg_alpha', 1e-5, 10.0),  # More range for L1 regularization\n",
      "C:\\Users\\dlesha\\AppData\\Local\\Temp\\ipykernel_3652\\2903819095.py:16: FutureWarning: suggest_loguniform has been deprecated in v3.0.0. This feature will be removed in v6.0.0. See https://github.com/optuna/optuna/releases/tag/v3.0.0. Use suggest_float(..., log=True) instead.\n",
      "  'reg_lambda': trial.suggest_loguniform('reg_lambda', 1e-5, 10.0),  # More range for L2 regularization\n",
      "[I 2024-03-29 23:26:11,020] Trial 92 finished with value: 0.8342541436464088 and parameters: {'learning_rate': 0.024580127878314678, 'n_estimators': 600, 'max_depth': 6, 'min_child_weight': 1, 'subsample': 0.8758782017228948, 'colsample_bytree': 0.5241968521794362, 'gamma': 2.3026363346571386, 'reg_alpha': 8.437638338067e-05, 'reg_lambda': 1.0117047304020194e-05}. Best is trial 74 with value: 0.8397790055248618.\n",
      "C:\\Users\\dlesha\\AppData\\Local\\Temp\\ipykernel_3652\\2903819095.py:15: FutureWarning: suggest_loguniform has been deprecated in v3.0.0. This feature will be removed in v6.0.0. See https://github.com/optuna/optuna/releases/tag/v3.0.0. Use suggest_float(..., log=True) instead.\n",
      "  'reg_alpha': trial.suggest_loguniform('reg_alpha', 1e-5, 10.0),  # More range for L1 regularization\n",
      "C:\\Users\\dlesha\\AppData\\Local\\Temp\\ipykernel_3652\\2903819095.py:16: FutureWarning: suggest_loguniform has been deprecated in v3.0.0. This feature will be removed in v6.0.0. See https://github.com/optuna/optuna/releases/tag/v3.0.0. Use suggest_float(..., log=True) instead.\n",
      "  'reg_lambda': trial.suggest_loguniform('reg_lambda', 1e-5, 10.0),  # More range for L2 regularization\n",
      "[I 2024-03-29 23:26:11,317] Trial 93 finished with value: 0.8320441988950277 and parameters: {'learning_rate': 0.018877972619370277, 'n_estimators': 588, 'max_depth': 6, 'min_child_weight': 1, 'subsample': 0.8411954806595472, 'colsample_bytree': 0.5490150150028553, 'gamma': 1.8706879973091226, 'reg_alpha': 4.896142888886271e-05, 'reg_lambda': 7.050772711636333e-05}. Best is trial 74 with value: 0.8397790055248618.\n",
      "C:\\Users\\dlesha\\AppData\\Local\\Temp\\ipykernel_3652\\2903819095.py:15: FutureWarning: suggest_loguniform has been deprecated in v3.0.0. This feature will be removed in v6.0.0. See https://github.com/optuna/optuna/releases/tag/v3.0.0. Use suggest_float(..., log=True) instead.\n",
      "  'reg_alpha': trial.suggest_loguniform('reg_alpha', 1e-5, 10.0),  # More range for L1 regularization\n",
      "C:\\Users\\dlesha\\AppData\\Local\\Temp\\ipykernel_3652\\2903819095.py:16: FutureWarning: suggest_loguniform has been deprecated in v3.0.0. This feature will be removed in v6.0.0. See https://github.com/optuna/optuna/releases/tag/v3.0.0. Use suggest_float(..., log=True) instead.\n",
      "  'reg_lambda': trial.suggest_loguniform('reg_lambda', 1e-5, 10.0),  # More range for L2 regularization\n",
      "[I 2024-03-29 23:26:11,592] Trial 94 finished with value: 0.8375690607734807 and parameters: {'learning_rate': 0.013683792534442492, 'n_estimators': 547, 'max_depth': 6, 'min_child_weight': 1, 'subsample': 0.8619960884795834, 'colsample_bytree': 0.5425680535257087, 'gamma': 2.0730832104915278, 'reg_alpha': 1.078927837010759e-05, 'reg_lambda': 4.20109832967206e-05}. Best is trial 74 with value: 0.8397790055248618.\n",
      "C:\\Users\\dlesha\\AppData\\Local\\Temp\\ipykernel_3652\\2903819095.py:15: FutureWarning: suggest_loguniform has been deprecated in v3.0.0. This feature will be removed in v6.0.0. See https://github.com/optuna/optuna/releases/tag/v3.0.0. Use suggest_float(..., log=True) instead.\n",
      "  'reg_alpha': trial.suggest_loguniform('reg_alpha', 1e-5, 10.0),  # More range for L1 regularization\n",
      "C:\\Users\\dlesha\\AppData\\Local\\Temp\\ipykernel_3652\\2903819095.py:16: FutureWarning: suggest_loguniform has been deprecated in v3.0.0. This feature will be removed in v6.0.0. See https://github.com/optuna/optuna/releases/tag/v3.0.0. Use suggest_float(..., log=True) instead.\n",
      "  'reg_lambda': trial.suggest_loguniform('reg_lambda', 1e-5, 10.0),  # More range for L2 regularization\n",
      "[I 2024-03-29 23:26:11,867] Trial 95 finished with value: 0.8209944751381215 and parameters: {'learning_rate': 0.17802588551187093, 'n_estimators': 530, 'max_depth': 6, 'min_child_weight': 1, 'subsample': 0.8501835855144695, 'colsample_bytree': 0.5917239683395139, 'gamma': 2.5008954198696514, 'reg_alpha': 2.2430547511375535e-05, 'reg_lambda': 3.218493489352698e-05}. Best is trial 74 with value: 0.8397790055248618.\n",
      "C:\\Users\\dlesha\\AppData\\Local\\Temp\\ipykernel_3652\\2903819095.py:15: FutureWarning: suggest_loguniform has been deprecated in v3.0.0. This feature will be removed in v6.0.0. See https://github.com/optuna/optuna/releases/tag/v3.0.0. Use suggest_float(..., log=True) instead.\n",
      "  'reg_alpha': trial.suggest_loguniform('reg_alpha', 1e-5, 10.0),  # More range for L1 regularization\n",
      "C:\\Users\\dlesha\\AppData\\Local\\Temp\\ipykernel_3652\\2903819095.py:16: FutureWarning: suggest_loguniform has been deprecated in v3.0.0. This feature will be removed in v6.0.0. See https://github.com/optuna/optuna/releases/tag/v3.0.0. Use suggest_float(..., log=True) instead.\n",
      "  'reg_lambda': trial.suggest_loguniform('reg_lambda', 1e-5, 10.0),  # More range for L2 regularization\n",
      "[I 2024-03-29 23:26:12,114] Trial 96 finished with value: 0.8408839779005526 and parameters: {'learning_rate': 0.01964678370543278, 'n_estimators': 512, 'max_depth': 6, 'min_child_weight': 1, 'subsample': 0.819949583569284, 'colsample_bytree': 0.5556925659207662, 'gamma': 2.232647568359968, 'reg_alpha': 2.8800598168243933e-05, 'reg_lambda': 0.00013101762762568182}. Best is trial 96 with value: 0.8408839779005526.\n",
      "C:\\Users\\dlesha\\AppData\\Local\\Temp\\ipykernel_3652\\2903819095.py:15: FutureWarning: suggest_loguniform has been deprecated in v3.0.0. This feature will be removed in v6.0.0. See https://github.com/optuna/optuna/releases/tag/v3.0.0. Use suggest_float(..., log=True) instead.\n",
      "  'reg_alpha': trial.suggest_loguniform('reg_alpha', 1e-5, 10.0),  # More range for L1 regularization\n",
      "C:\\Users\\dlesha\\AppData\\Local\\Temp\\ipykernel_3652\\2903819095.py:16: FutureWarning: suggest_loguniform has been deprecated in v3.0.0. This feature will be removed in v6.0.0. See https://github.com/optuna/optuna/releases/tag/v3.0.0. Use suggest_float(..., log=True) instead.\n",
      "  'reg_lambda': trial.suggest_loguniform('reg_lambda', 1e-5, 10.0),  # More range for L2 regularization\n",
      "[I 2024-03-29 23:26:12,361] Trial 97 finished with value: 0.830939226519337 and parameters: {'learning_rate': 0.01998485167009294, 'n_estimators': 507, 'max_depth': 6, 'min_child_weight': 2, 'subsample': 0.8217101014322835, 'colsample_bytree': 0.5082449915479947, 'gamma': 2.1807886056129826, 'reg_alpha': 0.00020261565553349688, 'reg_lambda': 0.0001565860743229837}. Best is trial 96 with value: 0.8408839779005526.\n",
      "C:\\Users\\dlesha\\AppData\\Local\\Temp\\ipykernel_3652\\2903819095.py:15: FutureWarning: suggest_loguniform has been deprecated in v3.0.0. This feature will be removed in v6.0.0. See https://github.com/optuna/optuna/releases/tag/v3.0.0. Use suggest_float(..., log=True) instead.\n",
      "  'reg_alpha': trial.suggest_loguniform('reg_alpha', 1e-5, 10.0),  # More range for L1 regularization\n",
      "C:\\Users\\dlesha\\AppData\\Local\\Temp\\ipykernel_3652\\2903819095.py:16: FutureWarning: suggest_loguniform has been deprecated in v3.0.0. This feature will be removed in v6.0.0. See https://github.com/optuna/optuna/releases/tag/v3.0.0. Use suggest_float(..., log=True) instead.\n",
      "  'reg_lambda': trial.suggest_loguniform('reg_lambda', 1e-5, 10.0),  # More range for L2 regularization\n",
      "[I 2024-03-29 23:26:12,648] Trial 98 finished with value: 0.8331491712707184 and parameters: {'learning_rate': 0.025970026279709787, 'n_estimators': 576, 'max_depth': 5, 'min_child_weight': 1, 'subsample': 0.7881210855733972, 'colsample_bytree': 0.5730274115924061, 'gamma': 3.30080349409609, 'reg_alpha': 2.7927995147366515e-05, 'reg_lambda': 1.2922553522853627e-05}. Best is trial 96 with value: 0.8408839779005526.\n",
      "C:\\Users\\dlesha\\AppData\\Local\\Temp\\ipykernel_3652\\2903819095.py:15: FutureWarning: suggest_loguniform has been deprecated in v3.0.0. This feature will be removed in v6.0.0. See https://github.com/optuna/optuna/releases/tag/v3.0.0. Use suggest_float(..., log=True) instead.\n",
      "  'reg_alpha': trial.suggest_loguniform('reg_alpha', 1e-5, 10.0),  # More range for L1 regularization\n",
      "C:\\Users\\dlesha\\AppData\\Local\\Temp\\ipykernel_3652\\2903819095.py:16: FutureWarning: suggest_loguniform has been deprecated in v3.0.0. This feature will be removed in v6.0.0. See https://github.com/optuna/optuna/releases/tag/v3.0.0. Use suggest_float(..., log=True) instead.\n",
      "  'reg_lambda': trial.suggest_loguniform('reg_lambda', 1e-5, 10.0),  # More range for L2 regularization\n",
      "[I 2024-03-29 23:26:12,894] Trial 99 finished with value: 0.8386740331491713 and parameters: {'learning_rate': 0.014604425268548136, 'n_estimators': 484, 'max_depth': 6, 'min_child_weight': 1, 'subsample': 0.8065961243749235, 'colsample_bytree': 0.561281318116977, 'gamma': 2.7415111309020865, 'reg_alpha': 1.802504549009203e-05, 'reg_lambda': 0.0001356600702884479}. Best is trial 96 with value: 0.8408839779005526.\n"
     ]
    },
    {
     "name": "stdout",
     "output_type": "stream",
     "text": [
      "Number of finished trials: 100\n",
      "Best trial: {'learning_rate': 0.01964678370543278, 'n_estimators': 512, 'max_depth': 6, 'min_child_weight': 1, 'subsample': 0.819949583569284, 'colsample_bytree': 0.5556925659207662, 'gamma': 2.232647568359968, 'reg_alpha': 2.8800598168243933e-05, 'reg_lambda': 0.00013101762762568182}\n"
     ]
    }
   ],
   "source": [
    "study = opt.create_study(direction='maximize')\n",
    "study.optimize(objective, n_trials=100)\n",
    "\n",
    "print('Number of finished trials:', len(study.trials))\n",
    "print('Best trial:', study.best_trial.params)\n"
   ],
   "metadata": {
    "collapsed": false,
    "ExecuteTime": {
     "end_time": "2024-03-29T22:26:12.905286Z",
     "start_time": "2024-03-29T22:25:46.422323Z"
    }
   },
   "id": "95e1458faa254e3f",
   "execution_count": 38
  },
  {
   "cell_type": "code",
   "outputs": [
    {
     "name": "stdout",
     "output_type": "stream",
     "text": [
      "Best trial accuracy: 0.8408839779005526\n"
     ]
    }
   ],
   "source": [
    "best_trial = study.best_trial\n",
    "print(f\"Best trial accuracy: {best_trial.value}\")"
   ],
   "metadata": {
    "collapsed": false,
    "ExecuteTime": {
     "end_time": "2024-03-29T22:26:12.908717Z",
     "start_time": "2024-03-29T22:26:12.906301Z"
    }
   },
   "id": "e34bcdb79ff39629",
   "execution_count": 39
  },
  {
   "cell_type": "markdown",
   "source": [
    "### Generate Results"
   ],
   "metadata": {
    "collapsed": false
   },
   "id": "51110c2bfd963af1"
  },
  {
   "cell_type": "code",
   "outputs": [
    {
     "data": {
      "text/plain": "XGBClassifier(base_score=None, booster=None, callbacks=None,\n              colsample_bylevel=None, colsample_bynode=None,\n              colsample_bytree=0.5556925659207662, early_stopping_rounds=None,\n              enable_categorical=False, eval_metric=None, feature_types=None,\n              gamma=2.232647568359968, gpu_id=None, grow_policy=None,\n              importance_type=None, interaction_constraints=None,\n              learning_rate=0.01964678370543278, max_bin=None,\n              max_cat_threshold=None, max_cat_to_onehot=None,\n              max_delta_step=None, max_depth=6, max_leaves=None,\n              min_child_weight=1, missing=nan, monotone_constraints=None,\n              n_estimators=512, n_jobs=None, num_parallel_tree=None,\n              predictor=None, random_state=None, ...)",
      "text/html": "<style>#sk-container-id-1 {color: black;}#sk-container-id-1 pre{padding: 0;}#sk-container-id-1 div.sk-toggleable {background-color: white;}#sk-container-id-1 label.sk-toggleable__label {cursor: pointer;display: block;width: 100%;margin-bottom: 0;padding: 0.3em;box-sizing: border-box;text-align: center;}#sk-container-id-1 label.sk-toggleable__label-arrow:before {content: \"▸\";float: left;margin-right: 0.25em;color: #696969;}#sk-container-id-1 label.sk-toggleable__label-arrow:hover:before {color: black;}#sk-container-id-1 div.sk-estimator:hover label.sk-toggleable__label-arrow:before {color: black;}#sk-container-id-1 div.sk-toggleable__content {max-height: 0;max-width: 0;overflow: hidden;text-align: left;background-color: #f0f8ff;}#sk-container-id-1 div.sk-toggleable__content pre {margin: 0.2em;color: black;border-radius: 0.25em;background-color: #f0f8ff;}#sk-container-id-1 input.sk-toggleable__control:checked~div.sk-toggleable__content {max-height: 200px;max-width: 100%;overflow: auto;}#sk-container-id-1 input.sk-toggleable__control:checked~label.sk-toggleable__label-arrow:before {content: \"▾\";}#sk-container-id-1 div.sk-estimator input.sk-toggleable__control:checked~label.sk-toggleable__label {background-color: #d4ebff;}#sk-container-id-1 div.sk-label input.sk-toggleable__control:checked~label.sk-toggleable__label {background-color: #d4ebff;}#sk-container-id-1 input.sk-hidden--visually {border: 0;clip: rect(1px 1px 1px 1px);clip: rect(1px, 1px, 1px, 1px);height: 1px;margin: -1px;overflow: hidden;padding: 0;position: absolute;width: 1px;}#sk-container-id-1 div.sk-estimator {font-family: monospace;background-color: #f0f8ff;border: 1px dotted black;border-radius: 0.25em;box-sizing: border-box;margin-bottom: 0.5em;}#sk-container-id-1 div.sk-estimator:hover {background-color: #d4ebff;}#sk-container-id-1 div.sk-parallel-item::after {content: \"\";width: 100%;border-bottom: 1px solid gray;flex-grow: 1;}#sk-container-id-1 div.sk-label:hover label.sk-toggleable__label {background-color: #d4ebff;}#sk-container-id-1 div.sk-serial::before {content: \"\";position: absolute;border-left: 1px solid gray;box-sizing: border-box;top: 0;bottom: 0;left: 50%;z-index: 0;}#sk-container-id-1 div.sk-serial {display: flex;flex-direction: column;align-items: center;background-color: white;padding-right: 0.2em;padding-left: 0.2em;position: relative;}#sk-container-id-1 div.sk-item {position: relative;z-index: 1;}#sk-container-id-1 div.sk-parallel {display: flex;align-items: stretch;justify-content: center;background-color: white;position: relative;}#sk-container-id-1 div.sk-item::before, #sk-container-id-1 div.sk-parallel-item::before {content: \"\";position: absolute;border-left: 1px solid gray;box-sizing: border-box;top: 0;bottom: 0;left: 50%;z-index: -1;}#sk-container-id-1 div.sk-parallel-item {display: flex;flex-direction: column;z-index: 1;position: relative;background-color: white;}#sk-container-id-1 div.sk-parallel-item:first-child::after {align-self: flex-end;width: 50%;}#sk-container-id-1 div.sk-parallel-item:last-child::after {align-self: flex-start;width: 50%;}#sk-container-id-1 div.sk-parallel-item:only-child::after {width: 0;}#sk-container-id-1 div.sk-dashed-wrapped {border: 1px dashed gray;margin: 0 0.4em 0.5em 0.4em;box-sizing: border-box;padding-bottom: 0.4em;background-color: white;}#sk-container-id-1 div.sk-label label {font-family: monospace;font-weight: bold;display: inline-block;line-height: 1.2em;}#sk-container-id-1 div.sk-label-container {text-align: center;}#sk-container-id-1 div.sk-container {/* jupyter's `normalize.less` sets `[hidden] { display: none; }` but bootstrap.min.css set `[hidden] { display: none !important; }` so we also need the `!important` here to be able to override the default hidden behavior on the sphinx rendered scikit-learn.org. See: https://github.com/scikit-learn/scikit-learn/issues/21755 */display: inline-block !important;position: relative;}#sk-container-id-1 div.sk-text-repr-fallback {display: none;}</style><div id=\"sk-container-id-1\" class=\"sk-top-container\"><div class=\"sk-text-repr-fallback\"><pre>XGBClassifier(base_score=None, booster=None, callbacks=None,\n              colsample_bylevel=None, colsample_bynode=None,\n              colsample_bytree=0.5556925659207662, early_stopping_rounds=None,\n              enable_categorical=False, eval_metric=None, feature_types=None,\n              gamma=2.232647568359968, gpu_id=None, grow_policy=None,\n              importance_type=None, interaction_constraints=None,\n              learning_rate=0.01964678370543278, max_bin=None,\n              max_cat_threshold=None, max_cat_to_onehot=None,\n              max_delta_step=None, max_depth=6, max_leaves=None,\n              min_child_weight=1, missing=nan, monotone_constraints=None,\n              n_estimators=512, n_jobs=None, num_parallel_tree=None,\n              predictor=None, random_state=None, ...)</pre><b>In a Jupyter environment, please rerun this cell to show the HTML representation or trust the notebook. <br />On GitHub, the HTML representation is unable to render, please try loading this page with nbviewer.org.</b></div><div class=\"sk-container\" hidden><div class=\"sk-item\"><div class=\"sk-estimator sk-toggleable\"><input class=\"sk-toggleable__control sk-hidden--visually\" id=\"sk-estimator-id-1\" type=\"checkbox\" checked><label for=\"sk-estimator-id-1\" class=\"sk-toggleable__label sk-toggleable__label-arrow\">XGBClassifier</label><div class=\"sk-toggleable__content\"><pre>XGBClassifier(base_score=None, booster=None, callbacks=None,\n              colsample_bylevel=None, colsample_bynode=None,\n              colsample_bytree=0.5556925659207662, early_stopping_rounds=None,\n              enable_categorical=False, eval_metric=None, feature_types=None,\n              gamma=2.232647568359968, gpu_id=None, grow_policy=None,\n              importance_type=None, interaction_constraints=None,\n              learning_rate=0.01964678370543278, max_bin=None,\n              max_cat_threshold=None, max_cat_to_onehot=None,\n              max_delta_step=None, max_depth=6, max_leaves=None,\n              min_child_weight=1, missing=nan, monotone_constraints=None,\n              n_estimators=512, n_jobs=None, num_parallel_tree=None,\n              predictor=None, random_state=None, ...)</pre></div></div></div></div></div>"
     },
     "execution_count": 40,
     "metadata": {},
     "output_type": "execute_result"
    }
   ],
   "source": [
    "xgb_classifier.set_params(**best_trial.params)\n",
    "xgb_classifier.fit(X_train, y_train)"
   ],
   "metadata": {
    "collapsed": false,
    "ExecuteTime": {
     "end_time": "2024-03-29T22:26:13.212752Z",
     "start_time": "2024-03-29T22:26:12.908717Z"
    }
   },
   "id": "b226ecb6aedbb097",
   "execution_count": 40
  },
  {
   "cell_type": "code",
   "outputs": [
    {
     "name": "stdout",
     "output_type": "stream",
     "text": [
      "CV Accuracy after Optuna: 0.8309 (+/- 0.0783)\n"
     ]
    }
   ],
   "source": [
    "cv = StratifiedKFold(n_splits=10, shuffle=True, random_state=42)  # More folds for a thorough evaluation\n",
    "scores = cross_val_score(xgb_classifier, X_train, y_train, cv=cv, scoring='accuracy', n_jobs=-1)\n",
    "\n",
    "print(\"CV Accuracy after Optuna: %0.4f (+/- %0.4f)\" % (scores.mean(), scores.std() * 2))"
   ],
   "metadata": {
    "collapsed": false,
    "ExecuteTime": {
     "end_time": "2024-03-29T22:26:13.542117Z",
     "start_time": "2024-03-29T22:26:13.213255Z"
    }
   },
   "id": "c71bcdb9197082ef",
   "execution_count": 41
  },
  {
   "cell_type": "code",
   "outputs": [],
   "source": [
    "y_pred = xgb_classifier.predict(X_test)"
   ],
   "metadata": {
    "collapsed": false,
    "ExecuteTime": {
     "end_time": "2024-03-29T22:26:13.547920Z",
     "start_time": "2024-03-29T22:26:13.542697Z"
    }
   },
   "id": "f6fdd55ef8d83270",
   "execution_count": 42
  },
  {
   "cell_type": "code",
   "outputs": [
    {
     "name": "stdout",
     "output_type": "stream",
     "text": [
      "Accuracy: 0.75\n"
     ]
    }
   ],
   "source": [
    "accuracy = accuracy_score(y_test, y_pred)\n",
    "print(f\"Accuracy: {accuracy:.2f}\")"
   ],
   "metadata": {
    "collapsed": false,
    "ExecuteTime": {
     "end_time": "2024-03-29T22:26:13.565315Z",
     "start_time": "2024-03-29T22:26:13.548927Z"
    }
   },
   "id": "b9bd22a2528c3470",
   "execution_count": 43
  },
  {
   "cell_type": "code",
   "outputs": [
    {
     "data": {
      "text/plain": "     Embarked  Deck  Title  Sex  IsAlone  Age*Class  Fare_Per_Person\n0           2     7      2    0        1         95              186\n1           1     7      2    0        1         69              156\n2           2     7      2    0        0         61              109\n3           0     1      3    1        0         39              127\n4           2     7      3    1        0         95               83\n..        ...   ...    ...  ...      ...        ...              ...\n900         1     7      1    1        1         83              153\n901         2     3      2    0        0         36              118\n902         2     6      2    0        1         74              258\n903         2     7      1    0        1         45              213\n904         0     1      2    1        0         32              202\n\n[905 rows x 7 columns]",
      "text/html": "<div>\n<style scoped>\n    .dataframe tbody tr th:only-of-type {\n        vertical-align: middle;\n    }\n\n    .dataframe tbody tr th {\n        vertical-align: top;\n    }\n\n    .dataframe thead th {\n        text-align: right;\n    }\n</style>\n<table border=\"1\" class=\"dataframe\">\n  <thead>\n    <tr style=\"text-align: right;\">\n      <th></th>\n      <th>Embarked</th>\n      <th>Deck</th>\n      <th>Title</th>\n      <th>Sex</th>\n      <th>IsAlone</th>\n      <th>Age*Class</th>\n      <th>Fare_Per_Person</th>\n    </tr>\n  </thead>\n  <tbody>\n    <tr>\n      <th>0</th>\n      <td>2</td>\n      <td>7</td>\n      <td>2</td>\n      <td>0</td>\n      <td>1</td>\n      <td>95</td>\n      <td>186</td>\n    </tr>\n    <tr>\n      <th>1</th>\n      <td>1</td>\n      <td>7</td>\n      <td>2</td>\n      <td>0</td>\n      <td>1</td>\n      <td>69</td>\n      <td>156</td>\n    </tr>\n    <tr>\n      <th>2</th>\n      <td>2</td>\n      <td>7</td>\n      <td>2</td>\n      <td>0</td>\n      <td>0</td>\n      <td>61</td>\n      <td>109</td>\n    </tr>\n    <tr>\n      <th>3</th>\n      <td>0</td>\n      <td>1</td>\n      <td>3</td>\n      <td>1</td>\n      <td>0</td>\n      <td>39</td>\n      <td>127</td>\n    </tr>\n    <tr>\n      <th>4</th>\n      <td>2</td>\n      <td>7</td>\n      <td>3</td>\n      <td>1</td>\n      <td>0</td>\n      <td>95</td>\n      <td>83</td>\n    </tr>\n    <tr>\n      <th>...</th>\n      <td>...</td>\n      <td>...</td>\n      <td>...</td>\n      <td>...</td>\n      <td>...</td>\n      <td>...</td>\n      <td>...</td>\n    </tr>\n    <tr>\n      <th>900</th>\n      <td>1</td>\n      <td>7</td>\n      <td>1</td>\n      <td>1</td>\n      <td>1</td>\n      <td>83</td>\n      <td>153</td>\n    </tr>\n    <tr>\n      <th>901</th>\n      <td>2</td>\n      <td>3</td>\n      <td>2</td>\n      <td>0</td>\n      <td>0</td>\n      <td>36</td>\n      <td>118</td>\n    </tr>\n    <tr>\n      <th>902</th>\n      <td>2</td>\n      <td>6</td>\n      <td>2</td>\n      <td>0</td>\n      <td>1</td>\n      <td>74</td>\n      <td>258</td>\n    </tr>\n    <tr>\n      <th>903</th>\n      <td>2</td>\n      <td>7</td>\n      <td>1</td>\n      <td>0</td>\n      <td>1</td>\n      <td>45</td>\n      <td>213</td>\n    </tr>\n    <tr>\n      <th>904</th>\n      <td>0</td>\n      <td>1</td>\n      <td>2</td>\n      <td>1</td>\n      <td>0</td>\n      <td>32</td>\n      <td>202</td>\n    </tr>\n  </tbody>\n</table>\n<p>905 rows × 7 columns</p>\n</div>"
     },
     "execution_count": 44,
     "metadata": {},
     "output_type": "execute_result"
    }
   ],
   "source": [
    "X_train"
   ],
   "metadata": {
    "collapsed": false,
    "ExecuteTime": {
     "end_time": "2024-03-29T22:26:13.577754Z",
     "start_time": "2024-03-29T22:26:13.566321Z"
    }
   },
   "id": "e2543e91609242d5",
   "execution_count": 44
  },
  {
   "cell_type": "code",
   "outputs": [],
   "source": [
    "submission_test = xgb_classifier.predict(to_test)\n",
    "submission_test = pd.Series(submission_test, to_test.index, name='Survived')\n",
    "# save submission\n",
    "#submission_test.to_csv('submission_test_xgb.csv') "
   ],
   "metadata": {
    "collapsed": false,
    "ExecuteTime": {
     "end_time": "2024-03-29T22:26:13.585171Z",
     "start_time": "2024-03-29T22:26:13.578758Z"
    }
   },
   "id": "d03f1dc12d6486a8",
   "execution_count": 45
  },
  {
   "cell_type": "code",
   "outputs": [
    {
     "name": "stdout",
     "output_type": "stream",
     "text": [
      "Accuracy Score: 0.7412060301507538\n"
     ]
    }
   ],
   "source": [
    "actual_data = pd.read_csv(\"test_results.csv\",index_col=\"PassengerId\")\n",
    "merged_df = pd.merge(actual_data, submission_test, on='PassengerId', suffixes=('_df1', '_df2'))\n",
    "# Step 3: Calculate accuracy score\n",
    "accuracy = accuracy_score(merged_df['survived'], merged_df['Survived'])\n",
    "\n",
    "print(f\"Accuracy Score: {accuracy}\")"
   ],
   "metadata": {
    "collapsed": false,
    "ExecuteTime": {
     "end_time": "2024-03-29T22:26:13.595178Z",
     "start_time": "2024-03-29T22:26:13.586177Z"
    }
   },
   "id": "1be59c9316f19d8e",
   "execution_count": 46
  },
  {
   "cell_type": "code",
   "outputs": [
    {
     "data": {
      "text/plain": "             survived  Survived\nPassengerId                    \n892               0.0         0\n892               0.0         0\n893               1.0         0\n894               0.0         0\n895               0.0         0\n...               ...       ...\n1305              0.0         0\n1306              1.0         1\n1307              0.0         0\n1308              0.0         0\n1309              1.0         1\n\n[398 rows x 2 columns]",
      "text/html": "<div>\n<style scoped>\n    .dataframe tbody tr th:only-of-type {\n        vertical-align: middle;\n    }\n\n    .dataframe tbody tr th {\n        vertical-align: top;\n    }\n\n    .dataframe thead th {\n        text-align: right;\n    }\n</style>\n<table border=\"1\" class=\"dataframe\">\n  <thead>\n    <tr style=\"text-align: right;\">\n      <th></th>\n      <th>survived</th>\n      <th>Survived</th>\n    </tr>\n    <tr>\n      <th>PassengerId</th>\n      <th></th>\n      <th></th>\n    </tr>\n  </thead>\n  <tbody>\n    <tr>\n      <th>892</th>\n      <td>0.0</td>\n      <td>0</td>\n    </tr>\n    <tr>\n      <th>892</th>\n      <td>0.0</td>\n      <td>0</td>\n    </tr>\n    <tr>\n      <th>893</th>\n      <td>1.0</td>\n      <td>0</td>\n    </tr>\n    <tr>\n      <th>894</th>\n      <td>0.0</td>\n      <td>0</td>\n    </tr>\n    <tr>\n      <th>895</th>\n      <td>0.0</td>\n      <td>0</td>\n    </tr>\n    <tr>\n      <th>...</th>\n      <td>...</td>\n      <td>...</td>\n    </tr>\n    <tr>\n      <th>1305</th>\n      <td>0.0</td>\n      <td>0</td>\n    </tr>\n    <tr>\n      <th>1306</th>\n      <td>1.0</td>\n      <td>1</td>\n    </tr>\n    <tr>\n      <th>1307</th>\n      <td>0.0</td>\n      <td>0</td>\n    </tr>\n    <tr>\n      <th>1308</th>\n      <td>0.0</td>\n      <td>0</td>\n    </tr>\n    <tr>\n      <th>1309</th>\n      <td>1.0</td>\n      <td>1</td>\n    </tr>\n  </tbody>\n</table>\n<p>398 rows × 2 columns</p>\n</div>"
     },
     "execution_count": 47,
     "metadata": {},
     "output_type": "execute_result"
    }
   ],
   "source": [
    "merged_df"
   ],
   "metadata": {
    "collapsed": false,
    "ExecuteTime": {
     "end_time": "2024-03-29T22:26:13.604889Z",
     "start_time": "2024-03-29T22:26:13.596183Z"
    }
   },
   "id": "aab968d9c72c9b24",
   "execution_count": 47
  },
  {
   "cell_type": "code",
   "outputs": [
    {
     "data": {
      "text/plain": "{'importances_mean': array([-0.00670391,  0.02122905,  0.11284916,  0.07597765, -0.00446927,\n         0.00446927,  0.02458101]),\n 'importances_std': array([0.00418062, 0.01024039, 0.01780713, 0.0115035 , 0.00418062,\n        0.00893855, 0.02078332]),\n 'importances': array([[-0.01117318,  0.        , -0.01117318, -0.00558659, -0.00558659],\n        [ 0.03910615,  0.02234637,  0.01117318,  0.02234637,  0.01117318],\n        [ 0.1396648 ,  0.10055866,  0.12849162,  0.09497207,  0.10055866],\n        [ 0.08938547,  0.08379888,  0.0726257 ,  0.05586592,  0.07821229],\n        [-0.00558659,  0.        , -0.01117318, -0.00558659,  0.        ],\n        [ 0.01117318, -0.01117318,  0.01117318,  0.01117318,  0.        ],\n        [ 0.02234637,  0.03910615,  0.02234637, -0.01117318,  0.05027933]])}"
     },
     "execution_count": 48,
     "metadata": {},
     "output_type": "execute_result"
    }
   ],
   "source": [
    "results = permutation_importance(xgb_classifier, X_test, y_test, scoring='accuracy')\n",
    "results"
   ],
   "metadata": {
    "collapsed": false,
    "ExecuteTime": {
     "end_time": "2024-03-29T22:26:13.729020Z",
     "start_time": "2024-03-29T22:26:13.605894Z"
    }
   },
   "id": "8fbb228cd5973432",
   "execution_count": 48
  },
  {
   "cell_type": "code",
   "outputs": [
    {
     "data": {
      "text/plain": "<Figure size 640x480 with 1 Axes>",
      "image/png": "[encoded data removed]"
     },
     "metadata": {},
     "output_type": "display_data"
    }
   ],
   "source": [
    "importance = results.importances_mean\n",
    "std = results.importances_std\n",
    "\n",
    "features = X_train.columns\n",
    "sorted_idx = importance.argsort()\n",
    "\n",
    "plt.barh(range(len(sorted_idx)), importance[sorted_idx], xerr=std[sorted_idx], align='center')\n",
    "plt.yticks(range(len(sorted_idx)), [features[i] for i in sorted_idx])\n",
    "plt.xlabel(\"Permutation Importance\")\n",
    "plt.show()"
   ],
   "metadata": {
    "collapsed": false,
    "ExecuteTime": {
     "end_time": "2024-03-29T22:26:13.919232Z",
     "start_time": "2024-03-29T22:26:13.730024Z"
    }
   },
   "id": "8b2a03f876091fe5",
   "execution_count": 49
  },
  {
   "cell_type": "markdown",
   "source": [
    "#### ElasticNet using L1 and L2 regularization gives insight onto Feature Importance"
   ],
   "metadata": {
    "collapsed": false
   },
   "id": "1073fd48ce5903ed"
  },
  {
   "cell_type": "code",
   "outputs": [],
   "source": [
    "def objective(trial):\n",
    "    alpha = trial.suggest_float('alpha', 1e-3, 10.0, log=True)\n",
    "    l1_ratio = trial.suggest_float('l1_ratio', 0, 1)\n",
    "\n",
    "    elastic_net = make_pipeline(StandardScaler(), ElasticNet(alpha=alpha, l1_ratio=l1_ratio, random_state=42))\n",
    "\n",
    "    cv = StratifiedKFold(n_splits=10, shuffle=True, random_state=42)\n",
    "    scores = cross_val_score(elastic_net, X_train, y_train, cv=cv, scoring='neg_mean_squared_error', n_jobs=-1)\n",
    "\n",
    "    return np.mean(scores)"
   ],
   "metadata": {
    "collapsed": false,
    "ExecuteTime": {
     "end_time": "2024-03-29T22:26:13.924339Z",
     "start_time": "2024-03-29T22:26:13.920238Z"
    }
   },
   "id": "4d3a77a1b463caf1",
   "execution_count": 50
  },
  {
   "cell_type": "code",
   "outputs": [
    {
     "name": "stderr",
     "output_type": "stream",
     "text": [
      "[I 2024-03-29 23:26:13,930] A new study created in memory with name: no-name-50ad0834-9319-4124-be53-0e43c402c2d7\n",
      "[I 2024-03-29 23:26:14,011] Trial 0 finished with value: -0.2498932457225458 and parameters: {'alpha': 2.9950798453403698, 'l1_ratio': 0.5129122777700322}. Best is trial 0 with value: -0.2498932457225458.\n",
      "[I 2024-03-29 23:26:14,097] Trial 1 finished with value: -0.17412242199219485 and parameters: {'alpha': 0.014217834036705635, 'l1_ratio': 0.5097505378753526}. Best is trial 1 with value: -0.17412242199219485.\n",
      "[I 2024-03-29 23:26:14,119] Trial 2 finished with value: -0.2498932457225458 and parameters: {'alpha': 0.6247157651340576, 'l1_ratio': 0.6382514595500853}. Best is trial 1 with value: -0.17412242199219485.\n",
      "[I 2024-03-29 23:26:14,141] Trial 3 finished with value: -0.17355924580295395 and parameters: {'alpha': 0.0046095792503418895, 'l1_ratio': 0.07190280876613353}. Best is trial 3 with value: -0.17355924580295395.\n",
      "[I 2024-03-29 23:26:14,161] Trial 4 finished with value: -0.17359089977972503 and parameters: {'alpha': 0.0026359575036811185, 'l1_ratio': 0.4931295795722672}. Best is trial 3 with value: -0.17355924580295395.\n",
      "[I 2024-03-29 23:26:14,181] Trial 5 finished with value: -0.17359763759930083 and parameters: {'alpha': 0.002060275504990062, 'l1_ratio': 0.7003612999199793}. Best is trial 3 with value: -0.17355924580295395.\n",
      "[I 2024-03-29 23:26:14,202] Trial 6 finished with value: -0.1748221049810125 and parameters: {'alpha': 0.03811545114661238, 'l1_ratio': 0.2741393422681776}. Best is trial 3 with value: -0.17355924580295395.\n",
      "[I 2024-03-29 23:26:14,224] Trial 7 finished with value: -0.17357589240028917 and parameters: {'alpha': 0.0010498865605035718, 'l1_ratio': 0.006443948104797426}. Best is trial 3 with value: -0.17355924580295395.\n",
      "[I 2024-03-29 23:26:14,245] Trial 8 finished with value: -0.17364228603883008 and parameters: {'alpha': 0.023634974706709503, 'l1_ratio': 0.11162253062023408}. Best is trial 3 with value: -0.17355924580295395.\n",
      "[I 2024-03-29 23:26:14,270] Trial 9 finished with value: -0.2498932457225458 and parameters: {'alpha': 1.7068187218194337, 'l1_ratio': 0.20112791514726636}. Best is trial 3 with value: -0.17355924580295395.\n",
      "[I 2024-03-29 23:26:14,297] Trial 10 finished with value: -0.24396919124698768 and parameters: {'alpha': 0.23573263492799704, 'l1_ratio': 0.9146253959919226}. Best is trial 3 with value: -0.17355924580295395.\n",
      "[I 2024-03-29 23:26:14,323] Trial 11 finished with value: -0.173574707970007 and parameters: {'alpha': 0.0012376068105278942, 'l1_ratio': 0.008899083514754734}. Best is trial 3 with value: -0.17355924580295395.\n",
      "[I 2024-03-29 23:26:14,352] Trial 12 finished with value: -0.17354614220276743 and parameters: {'alpha': 0.006216969128887438, 'l1_ratio': 0.0012112262985191496}. Best is trial 12 with value: -0.17354614220276743.\n",
      "[I 2024-03-29 23:26:14,380] Trial 13 finished with value: -0.17363274934259226 and parameters: {'alpha': 0.010351104294541556, 'l1_ratio': 0.25007161336792827}. Best is trial 12 with value: -0.17354614220276743.\n",
      "[I 2024-03-29 23:26:14,407] Trial 14 finished with value: -0.17361496196991585 and parameters: {'alpha': 0.005927748193730164, 'l1_ratio': 0.3634292801977354}. Best is trial 12 with value: -0.17354614220276743.\n",
      "[I 2024-03-29 23:26:14,433] Trial 15 finished with value: -0.17521576954292045 and parameters: {'alpha': 0.0823420133030073, 'l1_ratio': 0.12789261718593958}. Best is trial 12 with value: -0.17354614220276743.\n",
      "[I 2024-03-29 23:26:14,458] Trial 16 finished with value: -0.17361189300375174 and parameters: {'alpha': 0.005557803259745232, 'l1_ratio': 0.3731212009387113}. Best is trial 12 with value: -0.17354614220276743.\n",
      "[I 2024-03-29 23:26:14,483] Trial 17 finished with value: -0.1913601077743187 and parameters: {'alpha': 0.07374397020363217, 'l1_ratio': 0.9944545468491853}. Best is trial 12 with value: -0.17354614220276743.\n",
      "[I 2024-03-29 23:26:14,507] Trial 18 finished with value: -0.1735612809807407 and parameters: {'alpha': 0.004202858627043189, 'l1_ratio': 0.07803259571484658}. Best is trial 12 with value: -0.17354614220276743.\n",
      "[I 2024-03-29 23:26:14,533] Trial 19 finished with value: -0.19926025076995652 and parameters: {'alpha': 0.24157114946252523, 'l1_ratio': 0.34805380545236947}. Best is trial 12 with value: -0.17354614220276743.\n",
      "[I 2024-03-29 23:26:14,558] Trial 20 finished with value: -0.17374353741464182 and parameters: {'alpha': 0.0226902712845037, 'l1_ratio': 0.1695421417393146}. Best is trial 12 with value: -0.17354614220276743.\n",
      "[I 2024-03-29 23:26:14,582] Trial 21 finished with value: -0.17355926858706688 and parameters: {'alpha': 0.004409058036492558, 'l1_ratio': 0.06129470527888661}. Best is trial 12 with value: -0.17354614220276743.\n",
      "[I 2024-03-29 23:26:14,610] Trial 22 finished with value: -0.17352370249215263 and parameters: {'alpha': 0.011769432320671173, 'l1_ratio': 0.007609981996087992}. Best is trial 22 with value: -0.17352370249215263.\n",
      "[I 2024-03-29 23:26:14,636] Trial 23 finished with value: -0.17352843808362148 and parameters: {'alpha': 0.010100388593040107, 'l1_ratio': 0.0011773420823989241}. Best is trial 22 with value: -0.17352370249215263.\n",
      "[I 2024-03-29 23:26:14,660] Trial 24 finished with value: -0.17361858369773608 and parameters: {'alpha': 0.012200194595691664, 'l1_ratio': 0.19486495673545065}. Best is trial 22 with value: -0.17352370249215263.\n",
      "[I 2024-03-29 23:26:14,685] Trial 25 finished with value: -0.17351745038803526 and parameters: {'alpha': 0.04750684809994935, 'l1_ratio': 0.00287435428057832}. Best is trial 25 with value: -0.17351745038803526.\n",
      "[I 2024-03-29 23:26:14,710] Trial 26 finished with value: -0.17456708115107178 and parameters: {'alpha': 0.035431211549493184, 'l1_ratio': 0.26092694313329395}. Best is trial 25 with value: -0.17351745038803526.\n",
      "[I 2024-03-29 23:26:14,739] Trial 27 finished with value: -0.2423766831450993 and parameters: {'alpha': 0.2731525309126197, 'l1_ratio': 0.7728391722816258}. Best is trial 25 with value: -0.17351745038803526.\n",
      "[I 2024-03-29 23:26:14,764] Trial 28 finished with value: -0.2498932457225458 and parameters: {'alpha': 7.946448884334995, 'l1_ratio': 0.15096239287058832}. Best is trial 25 with value: -0.17351745038803526.\n",
      "[I 2024-03-29 23:26:14,790] Trial 29 finished with value: -0.17828324724584896 and parameters: {'alpha': 0.057813306172620586, 'l1_ratio': 0.4303384035391765}. Best is trial 25 with value: -0.17351745038803526.\n",
      "[I 2024-03-29 23:26:14,817] Trial 30 finished with value: -0.17545708338881405 and parameters: {'alpha': 0.1325140307887105, 'l1_ratio': 0.0675043150378799}. Best is trial 25 with value: -0.17351745038803526.\n",
      "[I 2024-03-29 23:26:14,843] Trial 31 finished with value: -0.1735316876027079 and parameters: {'alpha': 0.009940527543773597, 'l1_ratio': 0.01378562286154986}. Best is trial 25 with value: -0.17351745038803526.\n",
      "[I 2024-03-29 23:26:14,870] Trial 32 finished with value: -0.17350539249123326 and parameters: {'alpha': 0.027181870809728323, 'l1_ratio': 0.013575457956020751}. Best is trial 32 with value: -0.17350539249123326.\n",
      "[I 2024-03-29 23:26:14,895] Trial 33 finished with value: -0.17359336126076258 and parameters: {'alpha': 0.020128943509511266, 'l1_ratio': 0.09866262316530387}. Best is trial 32 with value: -0.17350539249123326.\n",
      "[I 2024-03-29 23:26:14,920] Trial 34 finished with value: -0.17438296558446548 and parameters: {'alpha': 0.04175742892907358, 'l1_ratio': 0.1909617651906851}. Best is trial 32 with value: -0.17350539249123326.\n",
      "[I 2024-03-29 23:26:14,947] Trial 35 finished with value: -0.17472483140664363 and parameters: {'alpha': 0.017631194233195494, 'l1_ratio': 0.5989024642877697}. Best is trial 32 with value: -0.17350539249123326.\n",
      "[I 2024-03-29 23:26:14,970] Trial 36 finished with value: -0.17573708235996688 and parameters: {'alpha': 0.1575720584867851, 'l1_ratio': 0.0554543122606329}. Best is trial 32 with value: -0.17350539249123326.\n",
      "[I 2024-03-29 23:26:14,998] Trial 37 finished with value: -0.21128491172637923 and parameters: {'alpha': 0.6910468203257155, 'l1_ratio': 0.1338531727560751}. Best is trial 32 with value: -0.17350539249123326.\n",
      "[I 2024-03-29 23:26:15,024] Trial 38 finished with value: -0.17359262784396964 and parameters: {'alpha': 0.03421616074342312, 'l1_ratio': 0.04987256790982188}. Best is trial 32 with value: -0.17350539249123326.\n",
      "[I 2024-03-29 23:26:15,047] Trial 39 finished with value: -0.1735779173989898 and parameters: {'alpha': 0.002793401864954059, 'l1_ratio': 0.2990193975834977}. Best is trial 32 with value: -0.17350539249123326.\n",
      "[I 2024-03-29 23:26:15,074] Trial 40 finished with value: -0.1736323816255891 and parameters: {'alpha': 0.011650162369096356, 'l1_ratio': 0.22272699028859833}. Best is trial 32 with value: -0.17350539249123326.\n",
      "[I 2024-03-29 23:26:15,098] Trial 41 finished with value: -0.1735376468268181 and parameters: {'alpha': 0.008085517686287387, 'l1_ratio': 0.004756370973025404}. Best is trial 32 with value: -0.17350539249123326.\n",
      "[I 2024-03-29 23:26:15,123] Trial 42 finished with value: -0.17352773997975163 and parameters: {'alpha': 0.0150322948892155, 'l1_ratio': 0.03658608739316059}. Best is trial 32 with value: -0.17350539249123326.\n",
      "[I 2024-03-29 23:26:15,148] Trial 43 finished with value: -0.17368383376025956 and parameters: {'alpha': 0.026894381408690465, 'l1_ratio': 0.11429815388597624}. Best is trial 32 with value: -0.17350539249123326.\n",
      "[I 2024-03-29 23:26:15,172] Trial 44 finished with value: -0.17353214871194036 and parameters: {'alpha': 0.016990635609436592, 'l1_ratio': 0.04506542118646999}. Best is trial 32 with value: -0.17350539249123326.\n",
      "[I 2024-03-29 23:26:15,199] Trial 45 finished with value: -0.17413451101220656 and parameters: {'alpha': 0.05675857706751289, 'l1_ratio': 0.10032922340915221}. Best is trial 32 with value: -0.17350539249123326.\n",
      "[I 2024-03-29 23:26:15,223] Trial 46 finished with value: -0.1735723405179137 and parameters: {'alpha': 0.0021689334690358493, 'l1_ratio': 0.15860257986630374}. Best is trial 32 with value: -0.17350539249123326.\n",
      "[I 2024-03-29 23:26:15,250] Trial 47 finished with value: -0.17356100575918604 and parameters: {'alpha': 0.0034685966458481298, 'l1_ratio': 0.0004667844452866318}. Best is trial 32 with value: -0.17350539249123326.\n",
      "[I 2024-03-29 23:26:15,274] Trial 48 finished with value: -0.17354508747374486 and parameters: {'alpha': 0.007501907762394306, 'l1_ratio': 0.03928797447835653}. Best is trial 32 with value: -0.17350539249123326.\n",
      "[I 2024-03-29 23:26:15,299] Trial 49 finished with value: -0.20005669449785718 and parameters: {'alpha': 0.12058341517720256, 'l1_ratio': 0.7774776200806296}. Best is trial 32 with value: -0.17350539249123326.\n",
      "[I 2024-03-29 23:26:15,324] Trial 50 finished with value: -0.1744552116807424 and parameters: {'alpha': 0.015647739477959402, 'l1_ratio': 0.5900076008069777}. Best is trial 32 with value: -0.17350539249123326.\n",
      "[I 2024-03-29 23:26:15,348] Trial 51 finished with value: -0.1735387574620202 and parameters: {'alpha': 0.009243483003455708, 'l1_ratio': 0.035594672080111016}. Best is trial 32 with value: -0.17350539249123326.\n",
      "[I 2024-03-29 23:26:15,377] Trial 52 finished with value: -0.17357341065574056 and parameters: {'alpha': 0.001619344793889282, 'l1_ratio': 0.09360935084604849}. Best is trial 32 with value: -0.17350539249123326.\n",
      "[I 2024-03-29 23:26:15,407] Trial 53 finished with value: -0.1735238964027208 and parameters: {'alpha': 0.029468185734340596, 'l1_ratio': 0.024724756727578366}. Best is trial 32 with value: -0.17350539249123326.\n",
      "[I 2024-03-29 23:26:15,434] Trial 54 finished with value: -0.17361624699682 and parameters: {'alpha': 0.026601894798883363, 'l1_ratio': 0.08387439036318917}. Best is trial 32 with value: -0.17350539249123326.\n",
      "[I 2024-03-29 23:26:15,458] Trial 55 finished with value: -0.17436357720222861 and parameters: {'alpha': 0.054540055863260814, 'l1_ratio': 0.1339633922276571}. Best is trial 32 with value: -0.17350539249123326.\n",
      "[I 2024-03-29 23:26:15,484] Trial 56 finished with value: -0.17787892978483327 and parameters: {'alpha': 0.0914293777249831, 'l1_ratio': 0.22812289391628435}. Best is trial 32 with value: -0.17350539249123326.\n",
      "[I 2024-03-29 23:26:15,510] Trial 57 finished with value: -0.1754925120794199 and parameters: {'alpha': 0.042605094653060005, 'l1_ratio': 0.3105534388127967}. Best is trial 32 with value: -0.17350539249123326.\n",
      "[I 2024-03-29 23:26:15,535] Trial 58 finished with value: -0.1735279495452417 and parameters: {'alpha': 0.0138056323383143, 'l1_ratio': 0.0340873215444939}. Best is trial 32 with value: -0.17350539249123326.\n",
      "[I 2024-03-29 23:26:15,561] Trial 59 finished with value: -0.17383586721493532 and parameters: {'alpha': 0.02703324031432201, 'l1_ratio': 0.17103266290288957}. Best is trial 32 with value: -0.17350539249123326.\n",
      "[I 2024-03-29 23:26:15,585] Trial 60 finished with value: -0.17405873174307585 and parameters: {'alpha': 0.014263571693117283, 'l1_ratio': 0.47659745675750165}. Best is trial 32 with value: -0.17350539249123326.\n",
      "[I 2024-03-29 23:26:15,610] Trial 61 finished with value: -0.1735453343013585 and parameters: {'alpha': 0.006961953087603995, 'l1_ratio': 0.026211111385436928}. Best is trial 32 with value: -0.17350539249123326.\n",
      "[I 2024-03-29 23:26:15,635] Trial 62 finished with value: -0.17354746809869348 and parameters: {'alpha': 0.013322015282468841, 'l1_ratio': 0.07341288696405208}. Best is trial 32 with value: -0.17350539249123326.\n",
      "[I 2024-03-29 23:26:15,659] Trial 63 finished with value: -0.17349654409000181 and parameters: {'alpha': 0.0223299938436743, 'l1_ratio': 0.0026974808148136666}. Best is trial 63 with value: -0.17349654409000181.\n",
      "[I 2024-03-29 23:26:15,684] Trial 64 finished with value: -0.17465479027012737 and parameters: {'alpha': 0.07157736061105414, 'l1_ratio': 0.11432332057242894}. Best is trial 63 with value: -0.17349654409000181.\n",
      "[I 2024-03-29 23:26:15,710] Trial 65 finished with value: -0.17361289207504052 and parameters: {'alpha': 0.031915248525970615, 'l1_ratio': 0.06424988040337755}. Best is trial 63 with value: -0.17349654409000181.\n",
      "[I 2024-03-29 23:26:15,736] Trial 66 finished with value: -0.17352260765567012 and parameters: {'alpha': 0.02077204598753488, 'l1_ratio': 0.031692553101415624}. Best is trial 63 with value: -0.17349654409000181.\n",
      "[I 2024-03-29 23:26:15,765] Trial 67 finished with value: -0.17357531297839 and parameters: {'alpha': 0.021243518341384857, 'l1_ratio': 0.0793898000431032}. Best is trial 63 with value: -0.17349654409000181.\n",
      "[I 2024-03-29 23:26:15,790] Trial 68 finished with value: -0.17349979432147017 and parameters: {'alpha': 0.04285861456987167, 'l1_ratio': 0.0002912146504134294}. Best is trial 63 with value: -0.17349654409000181.\n",
      "[I 2024-03-29 23:26:15,815] Trial 69 finished with value: -0.17985439633046557 and parameters: {'alpha': 0.17197986898758605, 'l1_ratio': 0.14007263229762928}. Best is trial 63 with value: -0.17349654409000181.\n",
      "[I 2024-03-29 23:26:15,841] Trial 70 finished with value: -0.1735864023062886 and parameters: {'alpha': 0.04571177719944425, 'l1_ratio': 0.026292642819514444}. Best is trial 63 with value: -0.17349654409000181.\n",
      "[I 2024-03-29 23:26:15,865] Trial 71 finished with value: -0.17359811132105413 and parameters: {'alpha': 0.06759631399438779, 'l1_ratio': 0.0031252311099391325}. Best is trial 63 with value: -0.17349654409000181.\n",
      "[I 2024-03-29 23:26:15,889] Trial 72 finished with value: -0.17353736500015118 and parameters: {'alpha': 0.019431069847507608, 'l1_ratio': 0.049341519075677846}. Best is trial 63 with value: -0.17349654409000181.\n",
      "[I 2024-03-29 23:26:15,913] Trial 73 finished with value: -0.17370200047241152 and parameters: {'alpha': 0.032104673480529825, 'l1_ratio': 0.09703004028484574}. Best is trial 63 with value: -0.17349654409000181.\n",
      "[I 2024-03-29 23:26:15,939] Trial 74 finished with value: -0.17409620805299267 and parameters: {'alpha': 0.09992239435593776, 'l1_ratio': 0.02810398350149975}. Best is trial 63 with value: -0.17349654409000181.\n",
      "[I 2024-03-29 23:26:15,966] Trial 75 finished with value: -0.17355593302309458 and parameters: {'alpha': 0.005312122801361343, 'l1_ratio': 0.0640026029110882}. Best is trial 63 with value: -0.17349654409000181.\n",
      "[I 2024-03-29 23:26:15,991] Trial 76 finished with value: -0.17414235505495046 and parameters: {'alpha': 0.05000534978533738, 'l1_ratio': 0.12153710829543984}. Best is trial 63 with value: -0.17349654409000181.\n",
      "[I 2024-03-29 23:26:16,016] Trial 77 finished with value: -0.174072068323244 and parameters: {'alpha': 0.0362758789123391, 'l1_ratio': 0.17023242823146828}. Best is trial 63 with value: -0.17349654409000181.\n",
      "[I 2024-03-29 23:26:16,042] Trial 78 finished with value: -0.17349816871233426 and parameters: {'alpha': 0.021756848256993935, 'l1_ratio': 0.003753528331156471}. Best is trial 63 with value: -0.17349654409000181.\n",
      "[I 2024-03-29 23:26:16,067] Trial 79 finished with value: -0.17350833511328242 and parameters: {'alpha': 0.02116272031987061, 'l1_ratio': 0.015528105604854523}. Best is trial 63 with value: -0.17349654409000181.\n",
      "[I 2024-03-29 23:26:16,094] Trial 80 finished with value: -0.1734988979333857 and parameters: {'alpha': 0.021853686189149086, 'l1_ratio': 0.004826495141261796}. Best is trial 63 with value: -0.17349654409000181.\n",
      "[I 2024-03-29 23:26:16,121] Trial 81 finished with value: -0.1734934788906724 and parameters: {'alpha': 0.023471020932861526, 'l1_ratio': 0.0008408257895462122}. Best is trial 81 with value: -0.1734934788906724.\n",
      "[I 2024-03-29 23:26:16,146] Trial 82 finished with value: -0.17355497659092922 and parameters: {'alpha': 0.02175283947220036, 'l1_ratio': 0.061160655831181576}. Best is trial 81 with value: -0.1734934788906724.\n",
      "[I 2024-03-29 23:26:16,173] Trial 83 finished with value: -0.17349462762801338 and parameters: {'alpha': 0.022804894494789858, 'l1_ratio': 0.0011715023864765574}. Best is trial 81 with value: -0.1734934788906724.\n",
      "[I 2024-03-29 23:26:16,199] Trial 84 finished with value: -0.17350332368950178 and parameters: {'alpha': 0.039291366166570654, 'l1_ratio': 0.004498739802103213}. Best is trial 81 with value: -0.1734934788906724.\n",
      "[I 2024-03-29 23:26:16,225] Trial 85 finished with value: -0.1737872967386524 and parameters: {'alpha': 0.04049702242748957, 'l1_ratio': 0.09040464616371346}. Best is trial 81 with value: -0.1734934788906724.\n",
      "[I 2024-03-29 23:26:16,251] Trial 86 finished with value: -0.1734930830108913 and parameters: {'alpha': 0.024229520123493144, 'l1_ratio': 0.0013723804851094347}. Best is trial 86 with value: -0.1734930830108913.\n",
      "[I 2024-03-29 23:26:16,276] Trial 87 finished with value: -0.17357397788911302 and parameters: {'alpha': 0.06545080838879187, 'l1_ratio': 0.00048235888195542016}. Best is trial 86 with value: -0.1734930830108913.\n",
      "[I 2024-03-29 23:26:16,302] Trial 88 finished with value: -0.1735603456737919 and parameters: {'alpha': 0.025458024343591363, 'l1_ratio': 0.05519136638426673}. Best is trial 86 with value: -0.1734930830108913.\n",
      "[I 2024-03-29 23:26:16,330] Trial 89 finished with value: -0.17356024902765665 and parameters: {'alpha': 0.009449018093112558, 'l1_ratio': 0.11380205581464183}. Best is trial 86 with value: -0.1734930830108913.\n",
      "[I 2024-03-29 23:26:16,355] Trial 90 finished with value: -0.17355687449464155 and parameters: {'alpha': 0.017616508312861677, 'l1_ratio': 0.07562094305711223}. Best is trial 86 with value: -0.1734930830108913.\n",
      "[I 2024-03-29 23:26:16,383] Trial 91 finished with value: -0.17350808367714543 and parameters: {'alpha': 0.02466978486696445, 'l1_ratio': 0.01642209741663654}. Best is trial 86 with value: -0.1734930830108913.\n",
      "[I 2024-03-29 23:26:16,411] Trial 92 finished with value: -0.17359681112138825 and parameters: {'alpha': 0.036783154931465306, 'l1_ratio': 0.04576504485069561}. Best is trial 86 with value: -0.1734930830108913.\n",
      "[I 2024-03-29 23:26:16,439] Trial 93 finished with value: -0.17351100349202875 and parameters: {'alpha': 0.02748234309866152, 'l1_ratio': 0.017631743731359555}. Best is trial 86 with value: -0.1734930830108913.\n",
      "[I 2024-03-29 23:26:16,467] Trial 94 finished with value: -0.17369350447231297 and parameters: {'alpha': 0.04820279301942477, 'l1_ratio': 0.04901891138597681}. Best is trial 86 with value: -0.1734930830108913.\n",
      "[I 2024-03-29 23:26:16,494] Trial 95 finished with value: -0.1735256177816163 and parameters: {'alpha': 0.010741442778447515, 'l1_ratio': 3.07590601989321e-05}. Best is trial 86 with value: -0.1734930830108913.\n",
      "[I 2024-03-29 23:26:16,520] Trial 96 finished with value: -0.17363335791920248 and parameters: {'alpha': 0.0317477080963826, 'l1_ratio': 0.07309173538448822}. Best is trial 86 with value: -0.1734930830108913.\n",
      "[I 2024-03-29 23:26:16,546] Trial 97 finished with value: -0.18792389777531732 and parameters: {'alpha': 0.08406691705775862, 'l1_ratio': 0.741490310029889}. Best is trial 86 with value: -0.1734930830108913.\n",
      "[I 2024-03-29 23:26:16,573] Trial 98 finished with value: -0.17572459433501944 and parameters: {'alpha': 0.01700051331394643, 'l1_ratio': 0.8611046807160677}. Best is trial 86 with value: -0.1734930830108913.\n",
      "[I 2024-03-29 23:26:16,601] Trial 99 finished with value: -0.23004321062929614 and parameters: {'alpha': 3.021104747584576, 'l1_ratio': 0.029937356155899646}. Best is trial 86 with value: -0.1734930830108913.\n"
     ]
    },
    {
     "data": {
      "text/plain": "Pipeline(steps=[('standardscaler', StandardScaler()),\n                ('elasticnet',\n                 ElasticNet(alpha=0.024229520123493144,\n                            l1_ratio=0.0013723804851094347, random_state=42))])",
      "text/html": "<style>#sk-container-id-2 {color: black;}#sk-container-id-2 pre{padding: 0;}#sk-container-id-2 div.sk-toggleable {background-color: white;}#sk-container-id-2 label.sk-toggleable__label {cursor: pointer;display: block;width: 100%;margin-bottom: 0;padding: 0.3em;box-sizing: border-box;text-align: center;}#sk-container-id-2 label.sk-toggleable__label-arrow:before {content: \"▸\";float: left;margin-right: 0.25em;color: #696969;}#sk-container-id-2 label.sk-toggleable__label-arrow:hover:before {color: black;}#sk-container-id-2 div.sk-estimator:hover label.sk-toggleable__label-arrow:before {color: black;}#sk-container-id-2 div.sk-toggleable__content {max-height: 0;max-width: 0;overflow: hidden;text-align: left;background-color: #f0f8ff;}#sk-container-id-2 div.sk-toggleable__content pre {margin: 0.2em;color: black;border-radius: 0.25em;background-color: #f0f8ff;}#sk-container-id-2 input.sk-toggleable__control:checked~div.sk-toggleable__content {max-height: 200px;max-width: 100%;overflow: auto;}#sk-container-id-2 input.sk-toggleable__control:checked~label.sk-toggleable__label-arrow:before {content: \"▾\";}#sk-container-id-2 div.sk-estimator input.sk-toggleable__control:checked~label.sk-toggleable__label {background-color: #d4ebff;}#sk-container-id-2 div.sk-label input.sk-toggleable__control:checked~label.sk-toggleable__label {background-color: #d4ebff;}#sk-container-id-2 input.sk-hidden--visually {border: 0;clip: rect(1px 1px 1px 1px);clip: rect(1px, 1px, 1px, 1px);height: 1px;margin: -1px;overflow: hidden;padding: 0;position: absolute;width: 1px;}#sk-container-id-2 div.sk-estimator {font-family: monospace;background-color: #f0f8ff;border: 1px dotted black;border-radius: 0.25em;box-sizing: border-box;margin-bottom: 0.5em;}#sk-container-id-2 div.sk-estimator:hover {background-color: #d4ebff;}#sk-container-id-2 div.sk-parallel-item::after {content: \"\";width: 100%;border-bottom: 1px solid gray;flex-grow: 1;}#sk-container-id-2 div.sk-label:hover label.sk-toggleable__label {background-color: #d4ebff;}#sk-container-id-2 div.sk-serial::before {content: \"\";position: absolute;border-left: 1px solid gray;box-sizing: border-box;top: 0;bottom: 0;left: 50%;z-index: 0;}#sk-container-id-2 div.sk-serial {display: flex;flex-direction: column;align-items: center;background-color: white;padding-right: 0.2em;padding-left: 0.2em;position: relative;}#sk-container-id-2 div.sk-item {position: relative;z-index: 1;}#sk-container-id-2 div.sk-parallel {display: flex;align-items: stretch;justify-content: center;background-color: white;position: relative;}#sk-container-id-2 div.sk-item::before, #sk-container-id-2 div.sk-parallel-item::before {content: \"\";position: absolute;border-left: 1px solid gray;box-sizing: border-box;top: 0;bottom: 0;left: 50%;z-index: -1;}#sk-container-id-2 div.sk-parallel-item {display: flex;flex-direction: column;z-index: 1;position: relative;background-color: white;}#sk-container-id-2 div.sk-parallel-item:first-child::after {align-self: flex-end;width: 50%;}#sk-container-id-2 div.sk-parallel-item:last-child::after {align-self: flex-start;width: 50%;}#sk-container-id-2 div.sk-parallel-item:only-child::after {width: 0;}#sk-container-id-2 div.sk-dashed-wrapped {border: 1px dashed gray;margin: 0 0.4em 0.5em 0.4em;box-sizing: border-box;padding-bottom: 0.4em;background-color: white;}#sk-container-id-2 div.sk-label label {font-family: monospace;font-weight: bold;display: inline-block;line-height: 1.2em;}#sk-container-id-2 div.sk-label-container {text-align: center;}#sk-container-id-2 div.sk-container {/* jupyter's `normalize.less` sets `[hidden] { display: none; }` but bootstrap.min.css set `[hidden] { display: none !important; }` so we also need the `!important` here to be able to override the default hidden behavior on the sphinx rendered scikit-learn.org. See: https://github.com/scikit-learn/scikit-learn/issues/21755 */display: inline-block !important;position: relative;}#sk-container-id-2 div.sk-text-repr-fallback {display: none;}</style><div id=\"sk-container-id-2\" class=\"sk-top-container\"><div class=\"sk-text-repr-fallback\"><pre>Pipeline(steps=[(&#x27;standardscaler&#x27;, StandardScaler()),\n                (&#x27;elasticnet&#x27;,\n                 ElasticNet(alpha=0.024229520123493144,\n                            l1_ratio=0.0013723804851094347, random_state=42))])</pre><b>In a Jupyter environment, please rerun this cell to show the HTML representation or trust the notebook. <br />On GitHub, the HTML representation is unable to render, please try loading this page with nbviewer.org.</b></div><div class=\"sk-container\" hidden><div class=\"sk-item sk-dashed-wrapped\"><div class=\"sk-label-container\"><div class=\"sk-label sk-toggleable\"><input class=\"sk-toggleable__control sk-hidden--visually\" id=\"sk-estimator-id-2\" type=\"checkbox\" ><label for=\"sk-estimator-id-2\" class=\"sk-toggleable__label sk-toggleable__label-arrow\">Pipeline</label><div class=\"sk-toggleable__content\"><pre>Pipeline(steps=[(&#x27;standardscaler&#x27;, StandardScaler()),\n                (&#x27;elasticnet&#x27;,\n                 ElasticNet(alpha=0.024229520123493144,\n                            l1_ratio=0.0013723804851094347, random_state=42))])</pre></div></div></div><div class=\"sk-serial\"><div class=\"sk-item\"><div class=\"sk-estimator sk-toggleable\"><input class=\"sk-toggleable__control sk-hidden--visually\" id=\"sk-estimator-id-3\" type=\"checkbox\" ><label for=\"sk-estimator-id-3\" class=\"sk-toggleable__label sk-toggleable__label-arrow\">StandardScaler</label><div class=\"sk-toggleable__content\"><pre>StandardScaler()</pre></div></div></div><div class=\"sk-item\"><div class=\"sk-estimator sk-toggleable\"><input class=\"sk-toggleable__control sk-hidden--visually\" id=\"sk-estimator-id-4\" type=\"checkbox\" ><label for=\"sk-estimator-id-4\" class=\"sk-toggleable__label sk-toggleable__label-arrow\">ElasticNet</label><div class=\"sk-toggleable__content\"><pre>ElasticNet(alpha=0.024229520123493144, l1_ratio=0.0013723804851094347,\n           random_state=42)</pre></div></div></div></div></div></div></div>"
     },
     "execution_count": 51,
     "metadata": {},
     "output_type": "execute_result"
    }
   ],
   "source": [
    "\n",
    "study = opt.create_study(direction='maximize')\n",
    "study.optimize(objective, n_trials=100)\n",
    "best_params = study.best_trial.params\n",
    "elastic_net = make_pipeline(StandardScaler(), ElasticNet(alpha=best_params['alpha'], l1_ratio=best_params['l1_ratio'], random_state=42))\n",
    "elastic_net.fit(X_train, y_train)"
   ],
   "metadata": {
    "collapsed": false,
    "ExecuteTime": {
     "end_time": "2024-03-29T22:26:16.611590Z",
     "start_time": "2024-03-29T22:26:13.925349Z"
    }
   },
   "id": "3cf11096427707ee",
   "execution_count": 51
  },
  {
   "cell_type": "code",
   "outputs": [
    {
     "name": "stdout",
     "output_type": "stream",
     "text": [
      "Sex                0.198582\n",
      "Fare_Per_Person    0.090753\n",
      "IsAlone            0.073568\n",
      "Deck               0.066524\n",
      "Title              0.059244\n",
      "Embarked           0.052797\n",
      "Age*Class          0.027903\n",
      "dtype: float64\n"
     ]
    }
   ],
   "source": [
    "feature_importance = elastic_net.named_steps['elasticnet'].coef_\n",
    "\n",
    "feature_names = X_train.columns\n",
    "importance_series = pd.Series(feature_importance, index=feature_names)\n",
    "sorted_features = importance_series.abs().sort_values(ascending=False)\n",
    "print(sorted_features)"
   ],
   "metadata": {
    "collapsed": false,
    "ExecuteTime": {
     "end_time": "2024-03-29T22:26:16.616461Z",
     "start_time": "2024-03-29T22:26:16.612599Z"
    }
   },
   "id": "c951c26be4db24dc",
   "execution_count": 52
  },
  {
   "cell_type": "markdown",
   "source": [
    "## RandomForestClassifier"
   ],
   "metadata": {
    "collapsed": false
   },
   "id": "ab53aa8a3a177d5b"
  },
  {
   "cell_type": "code",
   "outputs": [],
   "source": [
    "from sklearn.ensemble import RandomForestClassifier\n",
    "\n",
    "\n",
    "def objective(trial):\n",
    "    param = {\n",
    "        'n_estimators': trial.suggest_int('n_estimators', 100, 1000),\n",
    "        'max_depth': trial.suggest_int('max_depth', 2, 32),\n",
    "        'min_samples_split': trial.suggest_int('min_samples_split', 2, 10),\n",
    "        'min_samples_leaf': trial.suggest_int('min_samples_leaf', 1, 10),\n",
    "        'max_features': trial.suggest_categorical('max_features', ['sqrt', 'log2', None]),\n",
    "        'bootstrap': trial.suggest_categorical('bootstrap', [True, False]),\n",
    "    }\n",
    "\n",
    "    model = RandomForestClassifier(**param, random_state=random_id)\n",
    "    \n",
    "    cv = StratifiedKFold(n_splits=5)\n",
    "    scores = cross_val_score(model, X_train, y_train, cv=cv, scoring='accuracy')\n",
    "    \n",
    "    return scores.mean()"
   ],
   "metadata": {
    "collapsed": false,
    "ExecuteTime": {
     "end_time": "2024-03-29T22:26:16.633934Z",
     "start_time": "2024-03-29T22:26:16.616980Z"
    }
   },
   "id": "d02c3644b61de1a1",
   "execution_count": 53
  },
  {
   "cell_type": "code",
   "outputs": [
    {
     "name": "stderr",
     "output_type": "stream",
     "text": [
      "[I 2024-03-29 23:26:16,638] A new study created in memory with name: no-name-abe7417d-ff6f-418f-b5bf-37728cca2c1f\n",
      "[I 2024-03-29 23:26:18,661] Trial 0 finished with value: 0.8287292817679557 and parameters: {'n_estimators': 274, 'max_depth': 13, 'min_samples_split': 4, 'min_samples_leaf': 2, 'max_features': 'sqrt', 'bootstrap': False}. Best is trial 0 with value: 0.8287292817679557.\n",
      "[I 2024-03-29 23:26:19,591] Trial 1 finished with value: 0.8209944751381215 and parameters: {'n_estimators': 177, 'max_depth': 13, 'min_samples_split': 10, 'min_samples_leaf': 6, 'max_features': 'log2', 'bootstrap': False}. Best is trial 0 with value: 0.8287292817679557.\n",
      "[I 2024-03-29 23:26:22,468] Trial 2 finished with value: 0.8165745856353592 and parameters: {'n_estimators': 742, 'max_depth': 4, 'min_samples_split': 4, 'min_samples_leaf': 9, 'max_features': 'log2', 'bootstrap': False}. Best is trial 0 with value: 0.8287292817679557.\n",
      "[I 2024-03-29 23:26:24,643] Trial 3 finished with value: 0.8154696132596685 and parameters: {'n_estimators': 443, 'max_depth': 21, 'min_samples_split': 10, 'min_samples_leaf': 10, 'max_features': 'log2', 'bootstrap': True}. Best is trial 0 with value: 0.8287292817679557.\n",
      "[I 2024-03-29 23:26:28,777] Trial 4 finished with value: 0.7922651933701657 and parameters: {'n_estimators': 494, 'max_depth': 9, 'min_samples_split': 6, 'min_samples_leaf': 8, 'max_features': None, 'bootstrap': False}. Best is trial 0 with value: 0.8287292817679557.\n",
      "[I 2024-03-29 23:26:29,726] Trial 5 finished with value: 0.7845303867403315 and parameters: {'n_estimators': 117, 'max_depth': 27, 'min_samples_split': 5, 'min_samples_leaf': 10, 'max_features': None, 'bootstrap': False}. Best is trial 0 with value: 0.8287292817679557.\n",
      "[I 2024-03-29 23:26:37,129] Trial 6 finished with value: 0.8176795580110496 and parameters: {'n_estimators': 789, 'max_depth': 17, 'min_samples_split': 4, 'min_samples_leaf': 2, 'max_features': None, 'bootstrap': True}. Best is trial 0 with value: 0.8287292817679557.\n",
      "[I 2024-03-29 23:26:41,364] Trial 7 finished with value: 0.8232044198895027 and parameters: {'n_estimators': 796, 'max_depth': 8, 'min_samples_split': 8, 'min_samples_leaf': 3, 'max_features': 'log2', 'bootstrap': True}. Best is trial 0 with value: 0.8287292817679557.\n",
      "[I 2024-03-29 23:26:43,220] Trial 8 finished with value: 0.822099447513812 and parameters: {'n_estimators': 364, 'max_depth': 16, 'min_samples_split': 9, 'min_samples_leaf': 7, 'max_features': 'log2', 'bootstrap': True}. Best is trial 0 with value: 0.8287292817679557.\n",
      "[I 2024-03-29 23:26:48,912] Trial 9 finished with value: 0.8132596685082873 and parameters: {'n_estimators': 884, 'max_depth': 4, 'min_samples_split': 8, 'min_samples_leaf': 1, 'max_features': None, 'bootstrap': True}. Best is trial 0 with value: 0.8287292817679557.\n",
      "[I 2024-03-29 23:26:50,477] Trial 10 finished with value: 0.8276243093922652 and parameters: {'n_estimators': 296, 'max_depth': 29, 'min_samples_split': 2, 'min_samples_leaf': 4, 'max_features': 'sqrt', 'bootstrap': False}. Best is trial 0 with value: 0.8287292817679557.\n",
      "[I 2024-03-29 23:26:52,084] Trial 11 finished with value: 0.8276243093922652 and parameters: {'n_estimators': 305, 'max_depth': 30, 'min_samples_split': 2, 'min_samples_leaf': 4, 'max_features': 'sqrt', 'bootstrap': False}. Best is trial 0 with value: 0.8287292817679557.\n",
      "[I 2024-03-29 23:26:55,268] Trial 12 finished with value: 0.825414364640884 and parameters: {'n_estimators': 614, 'max_depth': 24, 'min_samples_split': 2, 'min_samples_leaf': 4, 'max_features': 'sqrt', 'bootstrap': False}. Best is trial 0 with value: 0.8287292817679557.\n",
      "[I 2024-03-29 23:26:56,692] Trial 13 finished with value: 0.8243093922651934 and parameters: {'n_estimators': 268, 'max_depth': 32, 'min_samples_split': 3, 'min_samples_leaf': 5, 'max_features': 'sqrt', 'bootstrap': False}. Best is trial 0 with value: 0.8287292817679557.\n",
      "[I 2024-03-29 23:26:58,271] Trial 14 finished with value: 0.8077348066298342 and parameters: {'n_estimators': 238, 'max_depth': 21, 'min_samples_split': 3, 'min_samples_leaf': 1, 'max_features': 'sqrt', 'bootstrap': False}. Best is trial 0 with value: 0.8287292817679557.\n",
      "[I 2024-03-29 23:27:00,591] Trial 15 finished with value: 0.8342541436464088 and parameters: {'n_estimators': 404, 'max_depth': 13, 'min_samples_split': 5, 'min_samples_leaf': 2, 'max_features': 'sqrt', 'bootstrap': False}. Best is trial 15 with value: 0.8342541436464088.\n",
      "[I 2024-03-29 23:27:04,090] Trial 16 finished with value: 0.8320441988950277 and parameters: {'n_estimators': 626, 'max_depth': 12, 'min_samples_split': 6, 'min_samples_leaf': 2, 'max_features': 'sqrt', 'bootstrap': False}. Best is trial 15 with value: 0.8342541436464088.\n",
      "[I 2024-03-29 23:27:07,395] Trial 17 finished with value: 0.8342541436464088 and parameters: {'n_estimators': 618, 'max_depth': 10, 'min_samples_split': 6, 'min_samples_leaf': 2, 'max_features': 'sqrt', 'bootstrap': False}. Best is trial 15 with value: 0.8342541436464088.\n",
      "[I 2024-03-29 23:27:10,291] Trial 18 finished with value: 0.8276243093922652 and parameters: {'n_estimators': 594, 'max_depth': 8, 'min_samples_split': 7, 'min_samples_leaf': 3, 'max_features': 'sqrt', 'bootstrap': False}. Best is trial 15 with value: 0.8342541436464088.\n",
      "[I 2024-03-29 23:27:14,961] Trial 19 finished with value: 0.8220994475138121 and parameters: {'n_estimators': 977, 'max_depth': 20, 'min_samples_split': 6, 'min_samples_leaf': 6, 'max_features': 'sqrt', 'bootstrap': False}. Best is trial 15 with value: 0.8342541436464088.\n",
      "[I 2024-03-29 23:27:16,310] Trial 20 finished with value: 0.8022099447513812 and parameters: {'n_estimators': 431, 'max_depth': 2, 'min_samples_split': 5, 'min_samples_leaf': 1, 'max_features': 'sqrt', 'bootstrap': False}. Best is trial 15 with value: 0.8342541436464088.\n",
      "[I 2024-03-29 23:27:19,852] Trial 21 finished with value: 0.8331491712707182 and parameters: {'n_estimators': 641, 'max_depth': 12, 'min_samples_split': 6, 'min_samples_leaf': 2, 'max_features': 'sqrt', 'bootstrap': False}. Best is trial 15 with value: 0.8342541436464088.\n",
      "[I 2024-03-29 23:27:23,475] Trial 22 finished with value: 0.8331491712707182 and parameters: {'n_estimators': 694, 'max_depth': 11, 'min_samples_split': 7, 'min_samples_leaf': 3, 'max_features': 'sqrt', 'bootstrap': False}. Best is trial 15 with value: 0.8342541436464088.\n",
      "[I 2024-03-29 23:27:26,411] Trial 23 finished with value: 0.8298342541436465 and parameters: {'n_estimators': 509, 'max_depth': 16, 'min_samples_split': 5, 'min_samples_leaf': 2, 'max_features': 'sqrt', 'bootstrap': False}. Best is trial 15 with value: 0.8342541436464088.\n",
      "[I 2024-03-29 23:27:29,225] Trial 24 finished with value: 0.8198895027624309 and parameters: {'n_estimators': 658, 'max_depth': 6, 'min_samples_split': 7, 'min_samples_leaf': 5, 'max_features': 'sqrt', 'bootstrap': False}. Best is trial 15 with value: 0.8342541436464088.\n",
      "[I 2024-03-29 23:27:31,986] Trial 25 finished with value: 0.8276243093922652 and parameters: {'n_estimators': 531, 'max_depth': 10, 'min_samples_split': 5, 'min_samples_leaf': 3, 'max_features': 'sqrt', 'bootstrap': False}. Best is trial 15 with value: 0.8342541436464088.\n",
      "[I 2024-03-29 23:27:34,487] Trial 26 finished with value: 0.8353591160220996 and parameters: {'n_estimators': 396, 'max_depth': 14, 'min_samples_split': 6, 'min_samples_leaf': 1, 'max_features': 'sqrt', 'bootstrap': True}. Best is trial 26 with value: 0.8353591160220996.\n",
      "[I 2024-03-29 23:27:36,858] Trial 27 finished with value: 0.8342541436464088 and parameters: {'n_estimators': 379, 'max_depth': 15, 'min_samples_split': 8, 'min_samples_leaf': 1, 'max_features': 'sqrt', 'bootstrap': True}. Best is trial 26 with value: 0.8353591160220996.\n",
      "[I 2024-03-29 23:27:41,008] Trial 28 finished with value: 0.8143646408839779 and parameters: {'n_estimators': 433, 'max_depth': 19, 'min_samples_split': 7, 'min_samples_leaf': 1, 'max_features': None, 'bootstrap': True}. Best is trial 26 with value: 0.8353591160220996.\n",
      "[I 2024-03-29 23:27:43,253] Trial 29 finished with value: 0.8298342541436463 and parameters: {'n_estimators': 359, 'max_depth': 14, 'min_samples_split': 4, 'min_samples_leaf': 2, 'max_features': 'sqrt', 'bootstrap': True}. Best is trial 26 with value: 0.8353591160220996.\n"
     ]
    },
    {
     "name": "stdout",
     "output_type": "stream",
     "text": [
      "Number of finished trials: 30\n",
      "Best trial: {'n_estimators': 396, 'max_depth': 14, 'min_samples_split': 6, 'min_samples_leaf': 1, 'max_features': 'sqrt', 'bootstrap': True}\n",
      "Best trial accuracy: 0.8353591160220996\n"
     ]
    }
   ],
   "source": [
    "study = opt.create_study(direction='maximize')\n",
    "study.optimize(objective, n_trials=30)\n",
    "\n",
    "print('Number of finished trials:', len(study.trials))\n",
    "print('Best trial:', study.best_trial.params)\n",
    "print(f\"Best trial accuracy: {study.best_trial.value}\")"
   ],
   "metadata": {
    "collapsed": false,
    "ExecuteTime": {
     "end_time": "2024-03-29T22:27:43.257788Z",
     "start_time": "2024-03-29T22:26:16.634943Z"
    }
   },
   "id": "fccad4eff8bb9ae0",
   "execution_count": 54
  },
  {
   "cell_type": "code",
   "outputs": [
    {
     "name": "stdout",
     "output_type": "stream",
     "text": [
      "Accuracy: 0.78\n"
     ]
    }
   ],
   "source": [
    "randomForest_classifier = RandomForestClassifier()\n",
    "randomForest_classifier.set_params(**study.best_trial.params)\n",
    "randomForest_classifier.fit(X_train, y_train)\n",
    "y_pred = randomForest_classifier.predict(X_test)\n",
    "accuracy = accuracy_score(y_test, y_pred)\n",
    "print(f\"Accuracy: {accuracy:.2f}\")"
   ],
   "metadata": {
    "collapsed": false,
    "ExecuteTime": {
     "end_time": "2024-03-29T22:27:43.825217Z",
     "start_time": "2024-03-29T22:27:43.260792Z"
    }
   },
   "id": "84b77e0028fc4bb6",
   "execution_count": 55
  },
  {
   "cell_type": "markdown",
   "source": [
    "### Compare accuracy to supposed real data"
   ],
   "metadata": {
    "collapsed": false
   },
   "id": "d4d68d989c272924"
  },
  {
   "cell_type": "code",
   "outputs": [
    {
     "name": "stdout",
     "output_type": "stream",
     "text": [
      "Accuracy Score: 0.7587939698492462\n"
     ]
    }
   ],
   "source": [
    "submission_test = randomForest_classifier.predict(to_test)\n",
    "submission_test = pd.Series(submission_test, to_test.index, name='Survived')\n",
    "actual_data = pd.read_csv(\"test_results.csv\",index_col=\"PassengerId\")\n",
    "merged_df = pd.merge(actual_data, submission_test, on='PassengerId', suffixes=('_df1', '_df2'))\n",
    "# Step 3: Calculate accuracy score\n",
    "accuracy = accuracy_score(merged_df['survived'], merged_df['Survived'])\n",
    "\n",
    "print(f\"Accuracy Score: {accuracy}\")\n"
   ],
   "metadata": {
    "collapsed": false,
    "ExecuteTime": {
     "end_time": "2024-03-29T22:27:43.871124Z",
     "start_time": "2024-03-29T22:27:43.826222Z"
    }
   },
   "id": "badeaa27c8fc319",
   "execution_count": 56
  },
  {
   "cell_type": "code",
   "outputs": [],
   "source": [
    "#submission_test.to_csv(\"submission_test_randomForest_3.csv\")"
   ],
   "metadata": {
    "collapsed": false,
    "ExecuteTime": {
     "end_time": "2024-03-29T22:27:43.875230Z",
     "start_time": "2024-03-29T22:27:43.872128Z"
    }
   },
   "id": "e74ba0a6e6158ca1",
   "execution_count": 57
  },
  {
   "cell_type": "code",
   "outputs": [
    {
     "data": {
      "text/plain": "Index(['Embarked', 'Deck', 'Title', 'Sex', 'IsAlone', 'Age*Class',\n       'Fare_Per_Person'],\n      dtype='object')"
     },
     "execution_count": 58,
     "metadata": {},
     "output_type": "execute_result"
    }
   ],
   "source": [
    "to_test.columns"
   ],
   "metadata": {
    "collapsed": false,
    "ExecuteTime": {
     "end_time": "2024-03-29T22:27:43.884742Z",
     "start_time": "2024-03-29T22:27:43.876234Z"
    }
   },
   "id": "e8981de8b11c6fa0",
   "execution_count": 58
  },
  {
   "cell_type": "markdown",
   "source": [
    "### Try out ensemble of different models"
   ],
   "metadata": {
    "collapsed": false
   },
   "id": "ffe8585aed01223e"
  },
  {
   "cell_type": "code",
   "outputs": [
    {
     "data": {
      "text/plain": "StackingClassifier(cv=10,\n                   estimators=[('rf',\n                                RandomForestClassifier(max_depth=14,\n                                                       min_samples_split=6,\n                                                       n_estimators=396)),\n                               ('xgb',\n                                XGBClassifier(base_score=None, booster=None,\n                                              callbacks=None,\n                                              colsample_bylevel=None,\n                                              colsample_bynode=None,\n                                              colsample_bytree=0.5556925659207662,\n                                              early_stopping_rounds=None,\n                                              enable_categorical=False,\n                                              eval_metric=None,\n                                              feature_types=Non...\n                                              interaction_constraints=None,\n                                              learning_rate=0.01964678370543278,\n                                              max_bin=None,\n                                              max_cat_threshold=None,\n                                              max_cat_to_onehot=None,\n                                              max_delta_step=None, max_depth=6,\n                                              max_leaves=None,\n                                              min_child_weight=1, missing=nan,\n                                              monotone_constraints=None,\n                                              n_estimators=512, n_jobs=None,\n                                              num_parallel_tree=None,\n                                              predictor=None, random_state=None, ...))],\n                   final_estimator=LogisticRegression())",
      "text/html": "<style>#sk-container-id-3 {color: black;}#sk-container-id-3 pre{padding: 0;}#sk-container-id-3 div.sk-toggleable {background-color: white;}#sk-container-id-3 label.sk-toggleable__label {cursor: pointer;display: block;width: 100%;margin-bottom: 0;padding: 0.3em;box-sizing: border-box;text-align: center;}#sk-container-id-3 label.sk-toggleable__label-arrow:before {content: \"▸\";float: left;margin-right: 0.25em;color: #696969;}#sk-container-id-3 label.sk-toggleable__label-arrow:hover:before {color: black;}#sk-container-id-3 div.sk-estimator:hover label.sk-toggleable__label-arrow:before {color: black;}#sk-container-id-3 div.sk-toggleable__content {max-height: 0;max-width: 0;overflow: hidden;text-align: left;background-color: #f0f8ff;}#sk-container-id-3 div.sk-toggleable__content pre {margin: 0.2em;color: black;border-radius: 0.25em;background-color: #f0f8ff;}#sk-container-id-3 input.sk-toggleable__control:checked~div.sk-toggleable__content {max-height: 200px;max-width: 100%;overflow: auto;}#sk-container-id-3 input.sk-toggleable__control:checked~label.sk-toggleable__label-arrow:before {content: \"▾\";}#sk-container-id-3 div.sk-estimator input.sk-toggleable__control:checked~label.sk-toggleable__label {background-color: #d4ebff;}#sk-container-id-3 div.sk-label input.sk-toggleable__control:checked~label.sk-toggleable__label {background-color: #d4ebff;}#sk-container-id-3 input.sk-hidden--visually {border: 0;clip: rect(1px 1px 1px 1px);clip: rect(1px, 1px, 1px, 1px);height: 1px;margin: -1px;overflow: hidden;padding: 0;position: absolute;width: 1px;}#sk-container-id-3 div.sk-estimator {font-family: monospace;background-color: #f0f8ff;border: 1px dotted black;border-radius: 0.25em;box-sizing: border-box;margin-bottom: 0.5em;}#sk-container-id-3 div.sk-estimator:hover {background-color: #d4ebff;}#sk-container-id-3 div.sk-parallel-item::after {content: \"\";width: 100%;border-bottom: 1px solid gray;flex-grow: 1;}#sk-container-id-3 div.sk-label:hover label.sk-toggleable__label {background-color: #d4ebff;}#sk-container-id-3 div.sk-serial::before {content: \"\";position: absolute;border-left: 1px solid gray;box-sizing: border-box;top: 0;bottom: 0;left: 50%;z-index: 0;}#sk-container-id-3 div.sk-serial {display: flex;flex-direction: column;align-items: center;background-color: white;padding-right: 0.2em;padding-left: 0.2em;position: relative;}#sk-container-id-3 div.sk-item {position: relative;z-index: 1;}#sk-container-id-3 div.sk-parallel {display: flex;align-items: stretch;justify-content: center;background-color: white;position: relative;}#sk-container-id-3 div.sk-item::before, #sk-container-id-3 div.sk-parallel-item::before {content: \"\";position: absolute;border-left: 1px solid gray;box-sizing: border-box;top: 0;bottom: 0;left: 50%;z-index: -1;}#sk-container-id-3 div.sk-parallel-item {display: flex;flex-direction: column;z-index: 1;position: relative;background-color: white;}#sk-container-id-3 div.sk-parallel-item:first-child::after {align-self: flex-end;width: 50%;}#sk-container-id-3 div.sk-parallel-item:last-child::after {align-self: flex-start;width: 50%;}#sk-container-id-3 div.sk-parallel-item:only-child::after {width: 0;}#sk-container-id-3 div.sk-dashed-wrapped {border: 1px dashed gray;margin: 0 0.4em 0.5em 0.4em;box-sizing: border-box;padding-bottom: 0.4em;background-color: white;}#sk-container-id-3 div.sk-label label {font-family: monospace;font-weight: bold;display: inline-block;line-height: 1.2em;}#sk-container-id-3 div.sk-label-container {text-align: center;}#sk-container-id-3 div.sk-container {/* jupyter's `normalize.less` sets `[hidden] { display: none; }` but bootstrap.min.css set `[hidden] { display: none !important; }` so we also need the `!important` here to be able to override the default hidden behavior on the sphinx rendered scikit-learn.org. See: https://github.com/scikit-learn/scikit-learn/issues/21755 */display: inline-block !important;position: relative;}#sk-container-id-3 div.sk-text-repr-fallback {display: none;}</style><div id=\"sk-container-id-3\" class=\"sk-top-container\"><div class=\"sk-text-repr-fallback\"><pre>StackingClassifier(cv=10,\n                   estimators=[(&#x27;rf&#x27;,\n                                RandomForestClassifier(max_depth=14,\n                                                       min_samples_split=6,\n                                                       n_estimators=396)),\n                               (&#x27;xgb&#x27;,\n                                XGBClassifier(base_score=None, booster=None,\n                                              callbacks=None,\n                                              colsample_bylevel=None,\n                                              colsample_bynode=None,\n                                              colsample_bytree=0.5556925659207662,\n                                              early_stopping_rounds=None,\n                                              enable_categorical=False,\n                                              eval_metric=None,\n                                              feature_types=Non...\n                                              interaction_constraints=None,\n                                              learning_rate=0.01964678370543278,\n                                              max_bin=None,\n                                              max_cat_threshold=None,\n                                              max_cat_to_onehot=None,\n                                              max_delta_step=None, max_depth=6,\n                                              max_leaves=None,\n                                              min_child_weight=1, missing=nan,\n                                              monotone_constraints=None,\n                                              n_estimators=512, n_jobs=None,\n                                              num_parallel_tree=None,\n                                              predictor=None, random_state=None, ...))],\n                   final_estimator=LogisticRegression())</pre><b>In a Jupyter environment, please rerun this cell to show the HTML representation or trust the notebook. <br />On GitHub, the HTML representation is unable to render, please try loading this page with nbviewer.org.</b></div><div class=\"sk-container\" hidden><div class=\"sk-item sk-dashed-wrapped\"><div class=\"sk-label-container\"><div class=\"sk-label sk-toggleable\"><input class=\"sk-toggleable__control sk-hidden--visually\" id=\"sk-estimator-id-5\" type=\"checkbox\" ><label for=\"sk-estimator-id-5\" class=\"sk-toggleable__label sk-toggleable__label-arrow\">StackingClassifier</label><div class=\"sk-toggleable__content\"><pre>StackingClassifier(cv=10,\n                   estimators=[(&#x27;rf&#x27;,\n                                RandomForestClassifier(max_depth=14,\n                                                       min_samples_split=6,\n                                                       n_estimators=396)),\n                               (&#x27;xgb&#x27;,\n                                XGBClassifier(base_score=None, booster=None,\n                                              callbacks=None,\n                                              colsample_bylevel=None,\n                                              colsample_bynode=None,\n                                              colsample_bytree=0.5556925659207662,\n                                              early_stopping_rounds=None,\n                                              enable_categorical=False,\n                                              eval_metric=None,\n                                              feature_types=Non...\n                                              interaction_constraints=None,\n                                              learning_rate=0.01964678370543278,\n                                              max_bin=None,\n                                              max_cat_threshold=None,\n                                              max_cat_to_onehot=None,\n                                              max_delta_step=None, max_depth=6,\n                                              max_leaves=None,\n                                              min_child_weight=1, missing=nan,\n                                              monotone_constraints=None,\n                                              n_estimators=512, n_jobs=None,\n                                              num_parallel_tree=None,\n                                              predictor=None, random_state=None, ...))],\n                   final_estimator=LogisticRegression())</pre></div></div></div><div class=\"sk-serial\"><div class=\"sk-item\"><div class=\"sk-parallel\"><div class=\"sk-parallel-item\"><div class=\"sk-item\"><div class=\"sk-label-container\"><div class=\"sk-label sk-toggleable\"><label>rf</label></div></div><div class=\"sk-serial\"><div class=\"sk-item\"><div class=\"sk-estimator sk-toggleable\"><input class=\"sk-toggleable__control sk-hidden--visually\" id=\"sk-estimator-id-6\" type=\"checkbox\" ><label for=\"sk-estimator-id-6\" class=\"sk-toggleable__label sk-toggleable__label-arrow\">RandomForestClassifier</label><div class=\"sk-toggleable__content\"><pre>RandomForestClassifier(max_depth=14, min_samples_split=6, n_estimators=396)</pre></div></div></div></div></div></div><div class=\"sk-parallel-item\"><div class=\"sk-item\"><div class=\"sk-label-container\"><div class=\"sk-label sk-toggleable\"><label>xgb</label></div></div><div class=\"sk-serial\"><div class=\"sk-item\"><div class=\"sk-estimator sk-toggleable\"><input class=\"sk-toggleable__control sk-hidden--visually\" id=\"sk-estimator-id-7\" type=\"checkbox\" ><label for=\"sk-estimator-id-7\" class=\"sk-toggleable__label sk-toggleable__label-arrow\">XGBClassifier</label><div class=\"sk-toggleable__content\"><pre>XGBClassifier(base_score=None, booster=None, callbacks=None,\n              colsample_bylevel=None, colsample_bynode=None,\n              colsample_bytree=0.5556925659207662, early_stopping_rounds=None,\n              enable_categorical=False, eval_metric=None, feature_types=None,\n              gamma=2.232647568359968, gpu_id=None, grow_policy=None,\n              importance_type=None, interaction_constraints=None,\n              learning_rate=0.01964678370543278, max_bin=None,\n              max_cat_threshold=None, max_cat_to_onehot=None,\n              max_delta_step=None, max_depth=6, max_leaves=None,\n              min_child_weight=1, missing=nan, monotone_constraints=None,\n              n_estimators=512, n_jobs=None, num_parallel_tree=None,\n              predictor=None, random_state=None, ...)</pre></div></div></div></div></div></div></div></div><div class=\"sk-item\"><div class=\"sk-parallel\"><div class=\"sk-parallel-item\"><div class=\"sk-item\"><div class=\"sk-label-container\"><div class=\"sk-label sk-toggleable\"><label>final_estimator</label></div></div><div class=\"sk-serial\"><div class=\"sk-item\"><div class=\"sk-estimator sk-toggleable\"><input class=\"sk-toggleable__control sk-hidden--visually\" id=\"sk-estimator-id-8\" type=\"checkbox\" ><label for=\"sk-estimator-id-8\" class=\"sk-toggleable__label sk-toggleable__label-arrow\">LogisticRegression</label><div class=\"sk-toggleable__content\"><pre>LogisticRegression()</pre></div></div></div></div></div></div></div></div></div></div></div></div>"
     },
     "execution_count": 59,
     "metadata": {},
     "output_type": "execute_result"
    }
   ],
   "source": [
    "stacking_clf = StackingClassifier(\n",
    "    estimators=[('rf', randomForest_classifier), ('xgb', xgb_classifier)],\n",
    "    final_estimator=LogisticRegression(),\n",
    "    stack_method='auto',\n",
    "    cv=10\n",
    ")\n",
    "stacking_clf.fit(X_train, y_train)"
   ],
   "metadata": {
    "collapsed": false,
    "ExecuteTime": {
     "end_time": "2024-03-29T22:27:52.552108Z",
     "start_time": "2024-03-29T22:27:43.885747Z"
    }
   },
   "id": "b332eaaf2aca8bdf",
   "execution_count": 59
  },
  {
   "cell_type": "code",
   "outputs": [
    {
     "name": "stdout",
     "output_type": "stream",
     "text": [
      "Accuracy: 0.770949720670391\n"
     ]
    }
   ],
   "source": [
    "accuracy = stacking_clf.score(X_test, y_test)\n",
    "print(f\"Accuracy: {accuracy}\")"
   ],
   "metadata": {
    "collapsed": false,
    "ExecuteTime": {
     "end_time": "2024-03-29T22:27:52.588803Z",
     "start_time": "2024-03-29T22:27:52.553126Z"
    }
   },
   "id": "cedc6f3b2896f431",
   "execution_count": 60
  },
  {
   "cell_type": "code",
   "outputs": [
    {
     "name": "stdout",
     "output_type": "stream",
     "text": [
      "Accuracy Score: 0.7386934673366834\n"
     ]
    }
   ],
   "source": [
    "submission_test = stacking_clf.predict(to_test)\n",
    "submission_test = pd.Series(submission_test, to_test.index, name='Survived')\n",
    "actual_data = pd.read_csv(\"test_results.csv\",index_col=\"PassengerId\")\n",
    "merged_df = pd.merge(actual_data, submission_test, on='PassengerId')\n",
    "# Step 3: Calculate accuracy score\n",
    "accuracy = accuracy_score(merged_df['survived'], merged_df['Survived'])\n",
    "\n",
    "print(f\"Accuracy Score: {accuracy}\")"
   ],
   "metadata": {
    "collapsed": false,
    "ExecuteTime": {
     "end_time": "2024-03-29T22:27:52.676026Z",
     "start_time": "2024-03-29T22:27:52.589807Z"
    }
   },
   "id": "559b8bf7ff1638fa",
   "execution_count": 61
  },
  {
   "cell_type": "code",
   "outputs": [],
   "source": [
    "#submission_test.to_csv(\"submission_test_ensemble.csv\")"
   ],
   "metadata": {
    "collapsed": false,
    "ExecuteTime": {
     "end_time": "2024-03-29T22:27:52.679956Z",
     "start_time": "2024-03-29T22:27:52.677030Z"
    }
   },
   "id": "8a4e9481e3a6d088",
   "execution_count": 62
  },
  {
   "cell_type": "code",
   "outputs": [
    {
     "data": {
      "text/plain": "['Embarked', 'Deck', 'Title', 'Sex', 'IsAlone', 'Age*Class', 'Fare_Per_Person']"
     },
     "execution_count": 63,
     "metadata": {},
     "output_type": "execute_result"
    }
   ],
   "source": [
    "X_train.columns.to_list()"
   ],
   "metadata": {
    "collapsed": false,
    "ExecuteTime": {
     "end_time": "2024-03-29T22:27:52.690531Z",
     "start_time": "2024-03-29T22:27:52.680961Z"
    }
   },
   "id": "5f04c7bf43c6a782",
   "execution_count": 63
  },
  {
   "cell_type": "code",
   "outputs": [
    {
     "name": "stderr",
     "output_type": "stream",
     "text": [
      "[I 2024-03-29 23:27:52,697] A new study created in memory with name: no-name-1b7da870-64c4-49b8-9270-537f7e3ad92a\n",
      "[I 2024-03-29 23:27:55,601] Trial 0 finished with value: 0.743646408839779 and parameters: {'C': 0.9182189016422406, 'kernel': 'linear', 'gamma': 'scale'}. Best is trial 0 with value: 0.743646408839779.\n",
      "[I 2024-03-29 23:27:55,703] Trial 1 finished with value: 0.6519337016574586 and parameters: {'C': 7.004501395165114, 'kernel': 'rbf', 'gamma': 'scale'}. Best is trial 0 with value: 0.743646408839779.\n",
      "[I 2024-03-29 23:28:18,249] Trial 2 finished with value: 0.7447513812154696 and parameters: {'C': 9.320155392330783, 'kernel': 'linear', 'gamma': 'scale'}. Best is trial 2 with value: 0.7447513812154696.\n",
      "[I 2024-03-29 23:28:18,426] Trial 3 finished with value: 0.7193370165745857 and parameters: {'C': 7.233147105140089, 'kernel': 'rbf', 'gamma': 'auto'}. Best is trial 2 with value: 0.7447513812154696.\n",
      "[I 2024-03-29 23:28:37,999] Trial 4 finished with value: 0.7414364640883977 and parameters: {'C': 8.400388247621663, 'kernel': 'linear', 'gamma': 'auto'}. Best is trial 2 with value: 0.7447513812154696.\n",
      "[I 2024-03-29 23:28:58,351] Trial 5 finished with value: 0.7469613259668508 and parameters: {'C': 8.582231826076045, 'kernel': 'linear', 'gamma': 'auto'}. Best is trial 5 with value: 0.7469613259668508.\n",
      "[I 2024-03-29 23:28:58,522] Trial 6 finished with value: 0.7204419889502762 and parameters: {'C': 9.433232544996352, 'kernel': 'rbf', 'gamma': 'auto'}. Best is trial 5 with value: 0.7469613259668508.\n",
      "[I 2024-03-29 23:28:58,698] Trial 7 finished with value: 0.7193370165745857 and parameters: {'C': 7.048177202628651, 'kernel': 'rbf', 'gamma': 'auto'}. Best is trial 5 with value: 0.7469613259668508.\n",
      "[I 2024-03-29 23:29:20,007] Trial 8 finished with value: 0.7425414364640883 and parameters: {'C': 8.95635947668493, 'kernel': 'linear', 'gamma': 'auto'}. Best is trial 5 with value: 0.7469613259668508.\n",
      "[I 2024-03-29 23:29:20,183] Trial 9 finished with value: 0.7226519337016575 and parameters: {'C': 1.7461786471351168, 'kernel': 'rbf', 'gamma': 'auto'}. Best is trial 5 with value: 0.7469613259668508.\n",
      "[I 2024-03-29 23:29:30,359] Trial 10 finished with value: 0.743646408839779 and parameters: {'C': 4.117311171631392, 'kernel': 'linear', 'gamma': 'scale'}. Best is trial 5 with value: 0.7469613259668508.\n",
      "[I 2024-03-29 23:29:43,102] Trial 11 finished with value: 0.7414364640883977 and parameters: {'C': 4.982703970430689, 'kernel': 'linear', 'gamma': 'scale'}. Best is trial 5 with value: 0.7469613259668508.\n",
      "[I 2024-03-29 23:30:06,256] Trial 12 finished with value: 0.7425414364640883 and parameters: {'C': 9.809206529536063, 'kernel': 'linear', 'gamma': 'scale'}. Best is trial 5 with value: 0.7469613259668508.\n",
      "[I 2024-03-29 23:30:26,539] Trial 13 finished with value: 0.743646408839779 and parameters: {'C': 7.923245376621927, 'kernel': 'linear', 'gamma': 'scale'}. Best is trial 5 with value: 0.7469613259668508.\n",
      "[I 2024-03-29 23:30:41,977] Trial 14 finished with value: 0.7414364640883977 and parameters: {'C': 5.798841177694262, 'kernel': 'linear', 'gamma': 'auto'}. Best is trial 5 with value: 0.7469613259668508.\n",
      "[I 2024-03-29 23:30:50,562] Trial 15 finished with value: 0.7425414364640883 and parameters: {'C': 2.891438708920785, 'kernel': 'linear', 'gamma': 'scale'}. Best is trial 5 with value: 0.7469613259668508.\n",
      "[I 2024-03-29 23:31:04,950] Trial 16 finished with value: 0.7425414364640883 and parameters: {'C': 5.575854645539724, 'kernel': 'linear', 'gamma': 'auto'}. Best is trial 5 with value: 0.7469613259668508.\n",
      "[I 2024-03-29 23:31:26,883] Trial 17 finished with value: 0.7414364640883977 and parameters: {'C': 9.895742669039695, 'kernel': 'linear', 'gamma': 'scale'}. Best is trial 5 with value: 0.7469613259668508.\n",
      "[I 2024-03-29 23:31:44,938] Trial 18 finished with value: 0.7414364640883977 and parameters: {'C': 8.105374715037636, 'kernel': 'linear', 'gamma': 'scale'}. Best is trial 5 with value: 0.7469613259668508.\n",
      "[I 2024-03-29 23:32:01,353] Trial 19 finished with value: 0.7414364640883977 and parameters: {'C': 6.330595487003438, 'kernel': 'linear', 'gamma': 'auto'}. Best is trial 5 with value: 0.7469613259668508.\n",
      "[I 2024-03-29 23:32:11,984] Trial 20 finished with value: 0.7447513812154696 and parameters: {'C': 4.217319965049476, 'kernel': 'linear', 'gamma': 'auto'}. Best is trial 5 with value: 0.7469613259668508.\n",
      "[I 2024-03-29 23:32:22,401] Trial 21 finished with value: 0.7414364640883977 and parameters: {'C': 3.826501030446355, 'kernel': 'linear', 'gamma': 'auto'}. Best is trial 5 with value: 0.7469613259668508.\n",
      "[I 2024-03-29 23:32:29,997] Trial 22 finished with value: 0.7425414364640883 and parameters: {'C': 2.570100019216291, 'kernel': 'linear', 'gamma': 'auto'}. Best is trial 5 with value: 0.7469613259668508.\n",
      "[I 2024-03-29 23:32:40,675] Trial 23 finished with value: 0.7447513812154696 and parameters: {'C': 3.829711674349136, 'kernel': 'linear', 'gamma': 'auto'}. Best is trial 5 with value: 0.7469613259668508.\n",
      "[I 2024-03-29 23:32:53,029] Trial 24 finished with value: 0.7425414364640883 and parameters: {'C': 4.62252281595911, 'kernel': 'linear', 'gamma': 'auto'}. Best is trial 5 with value: 0.7469613259668508.\n",
      "[I 2024-03-29 23:33:15,379] Trial 25 finished with value: 0.7414364640883977 and parameters: {'C': 9.101756128967523, 'kernel': 'linear', 'gamma': 'auto'}. Best is trial 5 with value: 0.7469613259668508.\n",
      "[I 2024-03-29 23:33:15,479] Trial 26 finished with value: 0.6475138121546962 and parameters: {'C': 6.177334586496241, 'kernel': 'rbf', 'gamma': 'scale'}. Best is trial 5 with value: 0.7469613259668508.\n",
      "[I 2024-03-29 23:33:36,805] Trial 27 finished with value: 0.7425414364640883 and parameters: {'C': 8.492165519065171, 'kernel': 'linear', 'gamma': 'auto'}. Best is trial 5 with value: 0.7469613259668508.\n",
      "[I 2024-03-29 23:33:37,809] Trial 28 finished with value: 0.743646408839779 and parameters: {'C': 0.19671577243662952, 'kernel': 'linear', 'gamma': 'scale'}. Best is trial 5 with value: 0.7469613259668508.\n",
      "[I 2024-03-29 23:33:46,609] Trial 29 finished with value: 0.7403314917127071 and parameters: {'C': 3.110603137550372, 'kernel': 'linear', 'gamma': 'scale'}. Best is trial 5 with value: 0.7469613259668508.\n",
      "[I 2024-03-29 23:34:05,455] Trial 30 finished with value: 0.7403314917127071 and parameters: {'C': 7.6770900227565395, 'kernel': 'linear', 'gamma': 'auto'}. Best is trial 5 with value: 0.7469613259668508.\n",
      "[I 2024-03-29 23:34:15,690] Trial 31 finished with value: 0.7414364640883977 and parameters: {'C': 3.856366464061946, 'kernel': 'linear', 'gamma': 'auto'}. Best is trial 5 with value: 0.7469613259668508.\n",
      "[I 2024-03-29 23:34:21,420] Trial 32 finished with value: 0.7414364640883977 and parameters: {'C': 2.006969165266872, 'kernel': 'linear', 'gamma': 'auto'}. Best is trial 5 with value: 0.7469613259668508.\n",
      "[I 2024-03-29 23:34:33,914] Trial 33 finished with value: 0.743646408839779 and parameters: {'C': 4.6387056236973265, 'kernel': 'linear', 'gamma': 'auto'}. Best is trial 5 with value: 0.7469613259668508.\n",
      "[I 2024-03-29 23:34:34,104] Trial 34 finished with value: 0.7248618784530387 and parameters: {'C': 3.4989752214222563, 'kernel': 'rbf', 'gamma': 'auto'}. Best is trial 5 with value: 0.7469613259668508.\n",
      "[I 2024-03-29 23:34:51,450] Trial 35 finished with value: 0.7414364640883978 and parameters: {'C': 6.654748468009052, 'kernel': 'linear', 'gamma': 'auto'}. Best is trial 5 with value: 0.7469613259668508.\n",
      "[I 2024-03-29 23:34:51,637] Trial 36 finished with value: 0.7248618784530387 and parameters: {'C': 5.161776824728061, 'kernel': 'rbf', 'gamma': 'auto'}. Best is trial 5 with value: 0.7469613259668508.\n",
      "[I 2024-03-29 23:35:10,236] Trial 37 finished with value: 0.7425414364640883 and parameters: {'C': 7.511934603798097, 'kernel': 'linear', 'gamma': 'auto'}. Best is trial 5 with value: 0.7469613259668508.\n",
      "[I 2024-03-29 23:35:10,350] Trial 38 finished with value: 0.6563535911602211 and parameters: {'C': 8.797648513330614, 'kernel': 'rbf', 'gamma': 'scale'}. Best is trial 5 with value: 0.7469613259668508.\n",
      "[I 2024-03-29 23:35:14,926] Trial 39 finished with value: 0.743646408839779 and parameters: {'C': 1.3423986405486867, 'kernel': 'linear', 'gamma': 'auto'}. Best is trial 5 with value: 0.7469613259668508.\n",
      "[I 2024-03-29 23:35:22,653] Trial 40 finished with value: 0.7414364640883977 and parameters: {'C': 2.434778668233377, 'kernel': 'linear', 'gamma': 'auto'}. Best is trial 5 with value: 0.7469613259668508.\n",
      "[I 2024-03-29 23:35:23,960] Trial 41 finished with value: 0.7425414364640883 and parameters: {'C': 0.2005589734106934, 'kernel': 'linear', 'gamma': 'scale'}. Best is trial 5 with value: 0.7469613259668508.\n",
      "[I 2024-03-29 23:35:28,028] Trial 42 finished with value: 0.7425414364640883 and parameters: {'C': 1.3064043325940236, 'kernel': 'linear', 'gamma': 'scale'}. Best is trial 5 with value: 0.7469613259668508.\n",
      "[I 2024-03-29 23:35:51,155] Trial 43 finished with value: 0.7425414364640883 and parameters: {'C': 9.322728142633427, 'kernel': 'linear', 'gamma': 'scale'}. Best is trial 5 with value: 0.7469613259668508.\n",
      "[I 2024-03-29 23:35:51,266] Trial 44 finished with value: 0.6298342541436464 and parameters: {'C': 0.8473873240478014, 'kernel': 'rbf', 'gamma': 'scale'}. Best is trial 5 with value: 0.7469613259668508.\n",
      "[I 2024-03-29 23:36:02,919] Trial 45 finished with value: 0.7425414364640883 and parameters: {'C': 4.201994006662713, 'kernel': 'linear', 'gamma': 'scale'}. Best is trial 5 with value: 0.7469613259668508.\n",
      "[I 2024-03-29 23:36:19,488] Trial 46 finished with value: 0.7425414364640883 and parameters: {'C': 7.052714865051824, 'kernel': 'linear', 'gamma': 'scale'}. Best is trial 5 with value: 0.7469613259668508.\n",
      "[I 2024-03-29 23:36:34,338] Trial 47 finished with value: 0.7425414364640883 and parameters: {'C': 5.325637554601839, 'kernel': 'linear', 'gamma': 'auto'}. Best is trial 5 with value: 0.7469613259668508.\n",
      "[I 2024-03-29 23:37:00,149] Trial 48 finished with value: 0.7403314917127071 and parameters: {'C': 9.538310254098798, 'kernel': 'linear', 'gamma': 'scale'}. Best is trial 5 with value: 0.7469613259668508.\n",
      "[I 2024-03-29 23:37:20,216] Trial 49 finished with value: 0.7414364640883977 and parameters: {'C': 8.455215298914315, 'kernel': 'linear', 'gamma': 'auto'}. Best is trial 5 with value: 0.7469613259668508.\n"
     ]
    },
    {
     "data": {
      "text/plain": "SVC(C=8.582231826076045, gamma='auto', kernel='linear', random_state=17)",
      "text/html": "<style>#sk-container-id-4 {color: black;}#sk-container-id-4 pre{padding: 0;}#sk-container-id-4 div.sk-toggleable {background-color: white;}#sk-container-id-4 label.sk-toggleable__label {cursor: pointer;display: block;width: 100%;margin-bottom: 0;padding: 0.3em;box-sizing: border-box;text-align: center;}#sk-container-id-4 label.sk-toggleable__label-arrow:before {content: \"▸\";float: left;margin-right: 0.25em;color: #696969;}#sk-container-id-4 label.sk-toggleable__label-arrow:hover:before {color: black;}#sk-container-id-4 div.sk-estimator:hover label.sk-toggleable__label-arrow:before {color: black;}#sk-container-id-4 div.sk-toggleable__content {max-height: 0;max-width: 0;overflow: hidden;text-align: left;background-color: #f0f8ff;}#sk-container-id-4 div.sk-toggleable__content pre {margin: 0.2em;color: black;border-radius: 0.25em;background-color: #f0f8ff;}#sk-container-id-4 input.sk-toggleable__control:checked~div.sk-toggleable__content {max-height: 200px;max-width: 100%;overflow: auto;}#sk-container-id-4 input.sk-toggleable__control:checked~label.sk-toggleable__label-arrow:before {content: \"▾\";}#sk-container-id-4 div.sk-estimator input.sk-toggleable__control:checked~label.sk-toggleable__label {background-color: #d4ebff;}#sk-container-id-4 div.sk-label input.sk-toggleable__control:checked~label.sk-toggleable__label {background-color: #d4ebff;}#sk-container-id-4 input.sk-hidden--visually {border: 0;clip: rect(1px 1px 1px 1px);clip: rect(1px, 1px, 1px, 1px);height: 1px;margin: -1px;overflow: hidden;padding: 0;position: absolute;width: 1px;}#sk-container-id-4 div.sk-estimator {font-family: monospace;background-color: #f0f8ff;border: 1px dotted black;border-radius: 0.25em;box-sizing: border-box;margin-bottom: 0.5em;}#sk-container-id-4 div.sk-estimator:hover {background-color: #d4ebff;}#sk-container-id-4 div.sk-parallel-item::after {content: \"\";width: 100%;border-bottom: 1px solid gray;flex-grow: 1;}#sk-container-id-4 div.sk-label:hover label.sk-toggleable__label {background-color: #d4ebff;}#sk-container-id-4 div.sk-serial::before {content: \"\";position: absolute;border-left: 1px solid gray;box-sizing: border-box;top: 0;bottom: 0;left: 50%;z-index: 0;}#sk-container-id-4 div.sk-serial {display: flex;flex-direction: column;align-items: center;background-color: white;padding-right: 0.2em;padding-left: 0.2em;position: relative;}#sk-container-id-4 div.sk-item {position: relative;z-index: 1;}#sk-container-id-4 div.sk-parallel {display: flex;align-items: stretch;justify-content: center;background-color: white;position: relative;}#sk-container-id-4 div.sk-item::before, #sk-container-id-4 div.sk-parallel-item::before {content: \"\";position: absolute;border-left: 1px solid gray;box-sizing: border-box;top: 0;bottom: 0;left: 50%;z-index: -1;}#sk-container-id-4 div.sk-parallel-item {display: flex;flex-direction: column;z-index: 1;position: relative;background-color: white;}#sk-container-id-4 div.sk-parallel-item:first-child::after {align-self: flex-end;width: 50%;}#sk-container-id-4 div.sk-parallel-item:last-child::after {align-self: flex-start;width: 50%;}#sk-container-id-4 div.sk-parallel-item:only-child::after {width: 0;}#sk-container-id-4 div.sk-dashed-wrapped {border: 1px dashed gray;margin: 0 0.4em 0.5em 0.4em;box-sizing: border-box;padding-bottom: 0.4em;background-color: white;}#sk-container-id-4 div.sk-label label {font-family: monospace;font-weight: bold;display: inline-block;line-height: 1.2em;}#sk-container-id-4 div.sk-label-container {text-align: center;}#sk-container-id-4 div.sk-container {/* jupyter's `normalize.less` sets `[hidden] { display: none; }` but bootstrap.min.css set `[hidden] { display: none !important; }` so we also need the `!important` here to be able to override the default hidden behavior on the sphinx rendered scikit-learn.org. See: https://github.com/scikit-learn/scikit-learn/issues/21755 */display: inline-block !important;position: relative;}#sk-container-id-4 div.sk-text-repr-fallback {display: none;}</style><div id=\"sk-container-id-4\" class=\"sk-top-container\"><div class=\"sk-text-repr-fallback\"><pre>SVC(C=8.582231826076045, gamma=&#x27;auto&#x27;, kernel=&#x27;linear&#x27;, random_state=17)</pre><b>In a Jupyter environment, please rerun this cell to show the HTML representation or trust the notebook. <br />On GitHub, the HTML representation is unable to render, please try loading this page with nbviewer.org.</b></div><div class=\"sk-container\" hidden><div class=\"sk-item\"><div class=\"sk-estimator sk-toggleable\"><input class=\"sk-toggleable__control sk-hidden--visually\" id=\"sk-estimator-id-9\" type=\"checkbox\" checked><label for=\"sk-estimator-id-9\" class=\"sk-toggleable__label sk-toggleable__label-arrow\">SVC</label><div class=\"sk-toggleable__content\"><pre>SVC(C=8.582231826076045, gamma=&#x27;auto&#x27;, kernel=&#x27;linear&#x27;, random_state=17)</pre></div></div></div></div></div>"
     },
     "execution_count": 64,
     "metadata": {},
     "output_type": "execute_result"
    }
   ],
   "source": [
    "def objective(trial):\n",
    "    # SVM hyperparameters to tune\n",
    "    param = {\n",
    "        'C': trial.suggest_float('C', 0.1, 10.0),\n",
    "        'kernel': trial.suggest_categorical('kernel', ['linear', 'rbf']),  # Consider excluding 'poly' for speed\n",
    "        'gamma': trial.suggest_categorical('gamma', ['scale', 'auto']),  # 'auto' uses 1 / n_features\n",
    "        # Commenting out degree and coef0 to speed up the process\n",
    "        # 'degree': trial.suggest_int('degree', 1, 3),  # Higher degrees can be very slow\n",
    "        # 'coef0': trial.suggest_float('coef0', 0.0, 1.0),\n",
    "    }\n",
    "\n",
    "    model = SVC(**param, random_state=random_id)\n",
    "    \n",
    "    cv = StratifiedKFold(n_splits=5)\n",
    "    scores = cross_val_score(model, X_train, y_train, cv=cv, scoring='accuracy')\n",
    "    \n",
    "    return scores.mean()\n",
    " \n",
    "study = opt.create_study(direction='maximize')\n",
    "study.optimize(objective, n_trials=50)\n",
    "\n",
    "best_params = study.best_trial.params\n",
    "svm_classifier = SVC(**best_params, random_state=random_id)\n",
    "svm_classifier.fit(X_train, y_train)"
   ],
   "metadata": {
    "collapsed": false,
    "ExecuteTime": {
     "end_time": "2024-03-29T22:37:24.627081Z",
     "start_time": "2024-03-29T22:27:52.691535Z"
    }
   },
   "id": "2d669c9d64942554",
   "execution_count": 64
  },
  {
   "cell_type": "code",
   "outputs": [],
   "source": [
    "\n",
    "# Initialize the StackingClassifier\n",
    "stacking_clf = StackingClassifier(\n",
    "    estimators=[\n",
    "        ('xgb', xgb_classifier), \n",
    "        ('svm', svm_classifier)\n",
    "    ],\n",
    "    final_estimator=LogisticRegression(),\n",
    "    cv=5\n",
    ")\n",
    "\n",
    "# Fit the StackingClassifier\n",
    "stacking_clf.fit(X_train, y_train)\n",
    "\n",
    "# Evaluate the model using appropriate metrics like F1 score or ROC AUC\n",
    "from sklearn.metrics import f1_score, roc_auc_score\n",
    "\n",
    "# Assuming you have a validation set to evaluate your model\n",
    "y_pred = stacking_clf.predict(X_test)\n",
    "y_pred_proba = stacking_clf.predict_proba(X_test)[:, 1]  # Assuming binary classification: [0, 1]\n",
    "\n",
    "# Calculate F1 score and ROC AUC\n",
    "f1 = f1_score(y_test, y_pred)\n",
    "roc_auc = roc_auc_score(y_test, y_pred_proba)"
   ],
   "metadata": {
    "collapsed": false,
    "ExecuteTime": {
     "end_time": "2024-03-29T22:37:51.280627Z",
     "start_time": "2024-03-29T22:37:24.628087Z"
    }
   },
   "id": "ae6b860f29d32c56",
   "execution_count": 65
  },
  {
   "cell_type": "code",
   "outputs": [
    {
     "data": {
      "text/plain": "0.7074829931972789"
     },
     "execution_count": 66,
     "metadata": {},
     "output_type": "execute_result"
    }
   ],
   "source": [
    "f1"
   ],
   "metadata": {
    "collapsed": false,
    "ExecuteTime": {
     "end_time": "2024-03-29T22:37:51.285943Z",
     "start_time": "2024-03-29T22:37:51.281631Z"
    }
   },
   "id": "8d86f522afb1f615",
   "execution_count": 66
  },
  {
   "cell_type": "code",
   "outputs": [
    {
     "data": {
      "text/plain": "0.8046652881881623"
     },
     "execution_count": 67,
     "metadata": {},
     "output_type": "execute_result"
    }
   ],
   "source": [
    "roc_auc"
   ],
   "metadata": {
    "collapsed": false,
    "ExecuteTime": {
     "end_time": "2024-03-29T22:37:51.294477Z",
     "start_time": "2024-03-29T22:37:51.286947Z"
    }
   },
   "id": "aa0570dc43980fdd",
   "execution_count": 67
  },
  {
   "cell_type": "code",
   "outputs": [
    {
     "data": {
      "text/plain": "0.7597765363128491"
     },
     "execution_count": 68,
     "metadata": {},
     "output_type": "execute_result"
    }
   ],
   "source": [
    "accuracy_score(y_test, y_pred)"
   ],
   "metadata": {
    "collapsed": false,
    "ExecuteTime": {
     "end_time": "2024-03-29T22:37:51.303298Z",
     "start_time": "2024-03-29T22:37:51.295481Z"
    }
   },
   "id": "79190fe2639412a6",
   "execution_count": 68
  },
  {
   "cell_type": "code",
   "outputs": [
    {
     "name": "stdout",
     "output_type": "stream",
     "text": [
      "Accuracy Score: 0.7386934673366834\n"
     ]
    }
   ],
   "source": [
    "submission_test = stacking_clf.predict(to_test)\n",
    "submission_test = pd.Series(submission_test, to_test.index, name='Survived')\n",
    "actual_data = pd.read_csv(\"test_results.csv\",index_col=\"PassengerId\")\n",
    "merged_df = pd.merge(actual_data, submission_test, on='PassengerId')\n",
    "# Step 3: Calculate accuracy score\n",
    "accuracy = accuracy_score(merged_df['survived'], merged_df['Survived'])\n",
    "\n",
    "print(f\"Accuracy Score: {accuracy}\")\n"
   ],
   "metadata": {
    "collapsed": false,
    "ExecuteTime": {
     "end_time": "2024-03-29T22:37:51.325675Z",
     "start_time": "2024-03-29T22:37:51.304302Z"
    }
   },
   "id": "f2aaad3f2c7a6ac2",
   "execution_count": 69
  },
  {
   "cell_type": "code",
   "outputs": [],
   "source": [],
   "metadata": {
    "collapsed": false,
    "ExecuteTime": {
     "end_time": "2024-03-29T22:37:51.328872Z",
     "start_time": "2024-03-29T22:37:51.326678Z"
    }
   },
   "id": "a5af3ab80d8df46a",
   "execution_count": 69
  }
 ],
 "metadata": {
  "kernelspec": {
   "display_name": "Python 3",
   "language": "python",
   "name": "python3"
  },
  "language_info": {
   "codemirror_mode": {
    "name": "ipython",
    "version": 2
   },
   "file_extension": ".py",
   "mimetype": "text/x-python",
   "name": "python",
   "nbconvert_exporter": "python",
   "pygments_lexer": "ipython2",
   "version": "2.7.6"
  }
 },
 "nbformat": 4,
 "nbformat_minor": 5
}
