{
 "cells": [
  {
   "cell_type": "code",
   "execution_count": 116,
   "id": "initial_id",
   "metadata": {
    "collapsed": true,
    "ExecuteTime": {
     "end_time": "2024-02-28T22:50:03.568903Z",
     "start_time": "2024-02-28T22:50:03.564864Z"
    }
   },
   "outputs": [],
   "source": [
    "from sklearn.model_selection import train_test_split\n",
    "from sklearn.preprocessing import LabelEncoder\n",
    "from sklearn.metrics import accuracy_score\n",
    "from sklearn.model_selection import StratifiedKFold\n",
    "from sklearn.model_selection import GridSearchCV\n",
    "from sklearn.model_selection import RandomizedSearchCV\n",
    "from scipy.stats import randint, uniform\n",
    "from xgboost import XGBClassifier\n",
    "import pandas as pd\n",
    "import numpy as np\n",
    "import xgboost as xgb \n",
    "import re"
   ]
  },
  {
   "cell_type": "code",
   "outputs": [
    {
     "data": {
      "text/plain": "             Survived  Pclass  \\\nPassengerId                     \n1                   0       3   \n2                   1       1   \n3                   1       3   \n4                   1       1   \n5                   0       3   \n...               ...     ...   \n887                 0       2   \n888                 1       1   \n889                 0       3   \n890                 1       1   \n891                 0       3   \n\n                                                          Name   Age  SibSp  \\\nPassengerId                                                                   \n1                                      Braund, Mr. Owen Harris  22.0      1   \n2            Cumings, Mrs. John Bradley (Florence Briggs Th...  38.0      1   \n3                                       Heikkinen, Miss. Laina  26.0      0   \n4                 Futrelle, Mrs. Jacques Heath (Lily May Peel)  35.0      1   \n5                                     Allen, Mr. William Henry  35.0      0   \n...                                                        ...   ...    ...   \n887                                      Montvila, Rev. Juozas  27.0      0   \n888                               Graham, Miss. Margaret Edith  19.0      0   \n889                   Johnston, Miss. Catherine Helen \"Carrie\"   NaN      1   \n890                                      Behr, Mr. Karl Howell  26.0      0   \n891                                        Dooley, Mr. Patrick  32.0      0   \n\n             Parch            Ticket     Fare Cabin Embarked  \nPassengerId                                                   \n1                0         A/5 21171   7.2500   NaN        S  \n2                0          PC 17599  71.2833   C85        C  \n3                0  STON/O2. 3101282   7.9250   NaN        S  \n4                0            113803  53.1000  C123        S  \n5                0            373450   8.0500   NaN        S  \n...            ...               ...      ...   ...      ...  \n887              0            211536  13.0000   NaN        S  \n888              0            112053  30.0000   B42        S  \n889              2        W./C. 6607  23.4500   NaN        S  \n890              0            111369  30.0000  C148        C  \n891              0            370376   7.7500   NaN        Q  \n\n[891 rows x 10 columns]",
      "text/html": "<div>\n<style scoped>\n    .dataframe tbody tr th:only-of-type {\n        vertical-align: middle;\n    }\n\n    .dataframe tbody tr th {\n        vertical-align: top;\n    }\n\n    .dataframe thead th {\n        text-align: right;\n    }\n</style>\n<table border=\"1\" class=\"dataframe\">\n  <thead>\n    <tr style=\"text-align: right;\">\n      <th></th>\n      <th>Survived</th>\n      <th>Pclass</th>\n      <th>Name</th>\n      <th>Age</th>\n      <th>SibSp</th>\n      <th>Parch</th>\n      <th>Ticket</th>\n      <th>Fare</th>\n      <th>Cabin</th>\n      <th>Embarked</th>\n    </tr>\n    <tr>\n      <th>PassengerId</th>\n      <th></th>\n      <th></th>\n      <th></th>\n      <th></th>\n      <th></th>\n      <th></th>\n      <th></th>\n      <th></th>\n      <th></th>\n      <th></th>\n    </tr>\n  </thead>\n  <tbody>\n    <tr>\n      <th>1</th>\n      <td>0</td>\n      <td>3</td>\n      <td>Braund, Mr. Owen Harris</td>\n      <td>22.0</td>\n      <td>1</td>\n      <td>0</td>\n      <td>A/5 21171</td>\n      <td>7.2500</td>\n      <td>NaN</td>\n      <td>S</td>\n    </tr>\n    <tr>\n      <th>2</th>\n      <td>1</td>\n      <td>1</td>\n      <td>Cumings, Mrs. John Bradley (Florence Briggs Th...</td>\n      <td>38.0</td>\n      <td>1</td>\n      <td>0</td>\n      <td>PC 17599</td>\n      <td>71.2833</td>\n      <td>C85</td>\n      <td>C</td>\n    </tr>\n    <tr>\n      <th>3</th>\n      <td>1</td>\n      <td>3</td>\n      <td>Heikkinen, Miss. Laina</td>\n      <td>26.0</td>\n      <td>0</td>\n      <td>0</td>\n      <td>STON/O2. 3101282</td>\n      <td>7.9250</td>\n      <td>NaN</td>\n      <td>S</td>\n    </tr>\n    <tr>\n      <th>4</th>\n      <td>1</td>\n      <td>1</td>\n      <td>Futrelle, Mrs. Jacques Heath (Lily May Peel)</td>\n      <td>35.0</td>\n      <td>1</td>\n      <td>0</td>\n      <td>113803</td>\n      <td>53.1000</td>\n      <td>C123</td>\n      <td>S</td>\n    </tr>\n    <tr>\n      <th>5</th>\n      <td>0</td>\n      <td>3</td>\n      <td>Allen, Mr. William Henry</td>\n      <td>35.0</td>\n      <td>0</td>\n      <td>0</td>\n      <td>373450</td>\n      <td>8.0500</td>\n      <td>NaN</td>\n      <td>S</td>\n    </tr>\n    <tr>\n      <th>...</th>\n      <td>...</td>\n      <td>...</td>\n      <td>...</td>\n      <td>...</td>\n      <td>...</td>\n      <td>...</td>\n      <td>...</td>\n      <td>...</td>\n      <td>...</td>\n      <td>...</td>\n    </tr>\n    <tr>\n      <th>887</th>\n      <td>0</td>\n      <td>2</td>\n      <td>Montvila, Rev. Juozas</td>\n      <td>27.0</td>\n      <td>0</td>\n      <td>0</td>\n      <td>211536</td>\n      <td>13.0000</td>\n      <td>NaN</td>\n      <td>S</td>\n    </tr>\n    <tr>\n      <th>888</th>\n      <td>1</td>\n      <td>1</td>\n      <td>Graham, Miss. Margaret Edith</td>\n      <td>19.0</td>\n      <td>0</td>\n      <td>0</td>\n      <td>112053</td>\n      <td>30.0000</td>\n      <td>B42</td>\n      <td>S</td>\n    </tr>\n    <tr>\n      <th>889</th>\n      <td>0</td>\n      <td>3</td>\n      <td>Johnston, Miss. Catherine Helen \"Carrie\"</td>\n      <td>NaN</td>\n      <td>1</td>\n      <td>2</td>\n      <td>W./C. 6607</td>\n      <td>23.4500</td>\n      <td>NaN</td>\n      <td>S</td>\n    </tr>\n    <tr>\n      <th>890</th>\n      <td>1</td>\n      <td>1</td>\n      <td>Behr, Mr. Karl Howell</td>\n      <td>26.0</td>\n      <td>0</td>\n      <td>0</td>\n      <td>111369</td>\n      <td>30.0000</td>\n      <td>C148</td>\n      <td>C</td>\n    </tr>\n    <tr>\n      <th>891</th>\n      <td>0</td>\n      <td>3</td>\n      <td>Dooley, Mr. Patrick</td>\n      <td>32.0</td>\n      <td>0</td>\n      <td>0</td>\n      <td>370376</td>\n      <td>7.7500</td>\n      <td>NaN</td>\n      <td>Q</td>\n    </tr>\n  </tbody>\n</table>\n<p>891 rows × 10 columns</p>\n</div>"
     },
     "execution_count": 117,
     "metadata": {},
     "output_type": "execute_result"
    }
   ],
   "source": [
    "to_test = pd.read_csv(\"test.csv\", index_col=\"PassengerId\")\n",
    "df = pd.read_csv(\"train.csv\", index_col=\"PassengerId\")\n",
    "df"
   ],
   "metadata": {
    "collapsed": false,
    "ExecuteTime": {
     "end_time": "2024-02-28T22:50:03.604662Z",
     "start_time": "2024-02-28T22:50:03.585748Z"
    }
   },
   "id": "7437cf88e2628702",
   "execution_count": 117
  },
  {
   "cell_type": "code",
   "outputs": [
    {
     "data": {
      "text/plain": "Survived             Int64\nPclass               Int64\nName        string[python]\nAge                Float64\nSibSp                Int64\nParch                Int64\nTicket      string[python]\nFare               Float64\nCabin       string[python]\nEmbarked          category\ndtype: object"
     },
     "execution_count": 118,
     "metadata": {},
     "output_type": "execute_result"
    }
   ],
   "source": [
    "df = df.convert_dtypes()\n",
    "df[\"Embarked\"] = df[\"Embarked\"].astype(\"category\")\n",
    "df.dtypes"
   ],
   "metadata": {
    "collapsed": false,
    "ExecuteTime": {
     "end_time": "2024-02-28T22:50:03.654628Z",
     "start_time": "2024-02-28T22:50:03.645554Z"
    }
   },
   "id": "bc7c0dd7b79336e6",
   "execution_count": 118
  },
  {
   "cell_type": "code",
   "outputs": [
    {
     "name": "stdout",
     "output_type": "stream",
     "text": [
      "['Age', 'Cabin', 'Embarked']\n"
     ]
    }
   ],
   "source": [
    "X_train,X_test,y_train,y_test = train_test_split(df.drop(\"Survived\", axis=1), df[\"Survived\"], test_size=0.2, random_state=42)\n",
    "print(df.columns[df.isna().any(axis=0)].tolist())"
   ],
   "metadata": {
    "collapsed": false,
    "ExecuteTime": {
     "end_time": "2024-02-28T22:50:03.674259Z",
     "start_time": "2024-02-28T22:50:03.666172Z"
    }
   },
   "id": "311deef3a7079778",
   "execution_count": 119
  },
  {
   "cell_type": "markdown",
   "source": [
    "### Data Pre-Processing after splitting the data to prevent data - leakage"
   ],
   "metadata": {
    "collapsed": false
   },
   "id": "81f55df3da10ac26"
  },
  {
   "cell_type": "code",
   "outputs": [],
   "source": [
    "#Data Imputation for the Age column\n",
    "data = [X_train, X_test, to_test]\n",
    "for dataset in data:\n",
    "    mean = X_train[\"Age\"].mean()\n",
    "    std = X_test[\"Age\"].std()\n",
    "    is_null = dataset[\"Age\"].isna().sum()\n",
    "    rand_age = np.random.randint(mean - std, mean + std, size = is_null)\n",
    "    rand_age_series = pd.Series(rand_age, index=dataset[dataset[\"Age\"].isnull()].index)\n",
    "    dataset[\"Age\"].fillna(rand_age_series, inplace=True)\n",
    "    dataset[\"Age\"] = dataset[\"Age\"].astype(int)"
   ],
   "metadata": {
    "collapsed": false,
    "ExecuteTime": {
     "end_time": "2024-02-28T22:50:03.702551Z",
     "start_time": "2024-02-28T22:50:03.693942Z"
    }
   },
   "id": "382104a86596fa97",
   "execution_count": 120
  },
  {
   "cell_type": "code",
   "outputs": [],
   "source": [
    "#Feature Engineering the Deck Column \n",
    "#Cabins are mapped to a numerical Deck feature\n",
    "deck = {\"A\": 1, \"B\": 2, \"C\": 3, \"D\": 4, \"E\": 5, \"F\": 6, \"G\": 7, \"U\": 8}\n",
    "data = [X_train, X_test, to_test]\n",
    "\n",
    "for dataset in data:\n",
    "    dataset['Cabin'] = dataset['Cabin'].fillna(\"U0\")\n",
    "    dataset['Deck'] = dataset['Cabin'].map(lambda x: re.compile(\"([a-zA-Z]+)\").search(x).group())\n",
    "    dataset['Deck'] = dataset['Deck'].map(deck)\n",
    "    dataset['Deck'] = dataset['Deck'].fillna(0)\n",
    "    dataset['Deck'] = dataset['Deck'].astype(int)\n",
    "X_train = X_train.drop(['Cabin'], axis=1)\n",
    "X_test = X_test.drop(['Cabin'], axis=1)\n",
    "to_test = to_test.drop(['Cabin'], axis=1)"
   ],
   "metadata": {
    "collapsed": false,
    "ExecuteTime": {
     "end_time": "2024-02-28T22:50:03.727200Z",
     "start_time": "2024-02-28T22:50:03.717071Z"
    }
   },
   "id": "e8ca56c07025d74e",
   "execution_count": 121
  },
  {
   "cell_type": "code",
   "outputs": [],
   "source": [
    "X_train[\"Embarked\"].describe()\n",
    "for dataset in [X_train, X_test, to_test]:\n",
    "    dataset[\"Embarked\"].fillna(\"S\", inplace=True)"
   ],
   "metadata": {
    "collapsed": false,
    "ExecuteTime": {
     "end_time": "2024-02-28T22:50:03.836064Z",
     "start_time": "2024-02-28T22:50:03.831964Z"
    }
   },
   "id": "46c7b88f0da0a969",
   "execution_count": 122
  },
  {
   "cell_type": "code",
   "outputs": [
    {
     "data": {
      "text/plain": "Pclass      False\nName        False\nAge         False\nSibSp       False\nParch       False\nTicket      False\nFare        False\nEmbarked    False\nDeck        False\ndtype: bool"
     },
     "execution_count": 123,
     "metadata": {},
     "output_type": "execute_result"
    }
   ],
   "source": [
    "X_train.isna().any()"
   ],
   "metadata": {
    "collapsed": false,
    "ExecuteTime": {
     "end_time": "2024-02-28T22:50:03.845260Z",
     "start_time": "2024-02-28T22:50:03.837143Z"
    }
   },
   "id": "32c820fc22b56a5d",
   "execution_count": 123
  },
  {
   "cell_type": "markdown",
   "source": [
    "### Encode all Labels to String in order to pass through the GBM model"
   ],
   "metadata": {
    "collapsed": false
   },
   "id": "d79ef93bb1e9aec8"
  },
  {
   "cell_type": "code",
   "outputs": [
    {
     "data": {
      "text/plain": "             Pclass  Name  Age  SibSp  Parch  Ticket  Fare  Embarked  Deck\nPassengerId                                                               \n332               0   499   45      0      0      15   133         2     3\n734               1    63   23      0      0     188    74         2     8\n383               2   642   32      0      0     543    37         2     8\n705               2   250   26      1      0     332    33         2     8\n814               2    19    6      4      2     277   141         2     8\n...             ...   ...  ...    ...    ...     ...   ...       ...   ...\n107               2   574   21      0      0     245    23         2     8\n271               0    96   41      0      0      39   140         2     8\n861               2   249   41      2      0     333    81         2     8\n436               0   108   14      1      2      27   205         2     2\n103               0   684   21      0      1     348   185         2     4\n\n[712 rows x 9 columns]",
      "text/html": "<div>\n<style scoped>\n    .dataframe tbody tr th:only-of-type {\n        vertical-align: middle;\n    }\n\n    .dataframe tbody tr th {\n        vertical-align: top;\n    }\n\n    .dataframe thead th {\n        text-align: right;\n    }\n</style>\n<table border=\"1\" class=\"dataframe\">\n  <thead>\n    <tr style=\"text-align: right;\">\n      <th></th>\n      <th>Pclass</th>\n      <th>Name</th>\n      <th>Age</th>\n      <th>SibSp</th>\n      <th>Parch</th>\n      <th>Ticket</th>\n      <th>Fare</th>\n      <th>Embarked</th>\n      <th>Deck</th>\n    </tr>\n    <tr>\n      <th>PassengerId</th>\n      <th></th>\n      <th></th>\n      <th></th>\n      <th></th>\n      <th></th>\n      <th></th>\n      <th></th>\n      <th></th>\n      <th></th>\n    </tr>\n  </thead>\n  <tbody>\n    <tr>\n      <th>332</th>\n      <td>0</td>\n      <td>499</td>\n      <td>45</td>\n      <td>0</td>\n      <td>0</td>\n      <td>15</td>\n      <td>133</td>\n      <td>2</td>\n      <td>3</td>\n    </tr>\n    <tr>\n      <th>734</th>\n      <td>1</td>\n      <td>63</td>\n      <td>23</td>\n      <td>0</td>\n      <td>0</td>\n      <td>188</td>\n      <td>74</td>\n      <td>2</td>\n      <td>8</td>\n    </tr>\n    <tr>\n      <th>383</th>\n      <td>2</td>\n      <td>642</td>\n      <td>32</td>\n      <td>0</td>\n      <td>0</td>\n      <td>543</td>\n      <td>37</td>\n      <td>2</td>\n      <td>8</td>\n    </tr>\n    <tr>\n      <th>705</th>\n      <td>2</td>\n      <td>250</td>\n      <td>26</td>\n      <td>1</td>\n      <td>0</td>\n      <td>332</td>\n      <td>33</td>\n      <td>2</td>\n      <td>8</td>\n    </tr>\n    <tr>\n      <th>814</th>\n      <td>2</td>\n      <td>19</td>\n      <td>6</td>\n      <td>4</td>\n      <td>2</td>\n      <td>277</td>\n      <td>141</td>\n      <td>2</td>\n      <td>8</td>\n    </tr>\n    <tr>\n      <th>...</th>\n      <td>...</td>\n      <td>...</td>\n      <td>...</td>\n      <td>...</td>\n      <td>...</td>\n      <td>...</td>\n      <td>...</td>\n      <td>...</td>\n      <td>...</td>\n    </tr>\n    <tr>\n      <th>107</th>\n      <td>2</td>\n      <td>574</td>\n      <td>21</td>\n      <td>0</td>\n      <td>0</td>\n      <td>245</td>\n      <td>23</td>\n      <td>2</td>\n      <td>8</td>\n    </tr>\n    <tr>\n      <th>271</th>\n      <td>0</td>\n      <td>96</td>\n      <td>41</td>\n      <td>0</td>\n      <td>0</td>\n      <td>39</td>\n      <td>140</td>\n      <td>2</td>\n      <td>8</td>\n    </tr>\n    <tr>\n      <th>861</th>\n      <td>2</td>\n      <td>249</td>\n      <td>41</td>\n      <td>2</td>\n      <td>0</td>\n      <td>333</td>\n      <td>81</td>\n      <td>2</td>\n      <td>8</td>\n    </tr>\n    <tr>\n      <th>436</th>\n      <td>0</td>\n      <td>108</td>\n      <td>14</td>\n      <td>1</td>\n      <td>2</td>\n      <td>27</td>\n      <td>205</td>\n      <td>2</td>\n      <td>2</td>\n    </tr>\n    <tr>\n      <th>103</th>\n      <td>0</td>\n      <td>684</td>\n      <td>21</td>\n      <td>0</td>\n      <td>1</td>\n      <td>348</td>\n      <td>185</td>\n      <td>2</td>\n      <td>4</td>\n    </tr>\n  </tbody>\n</table>\n<p>712 rows × 9 columns</p>\n</div>"
     },
     "execution_count": 124,
     "metadata": {},
     "output_type": "execute_result"
    }
   ],
   "source": [
    "X_train = X_train.apply(LabelEncoder().fit_transform)\n",
    "X_test = X_test.apply(LabelEncoder().fit_transform)\n",
    "to_test = to_test.apply(LabelEncoder().fit_transform)\n",
    "X_train"
   ],
   "metadata": {
    "collapsed": false,
    "ExecuteTime": {
     "end_time": "2024-02-28T22:50:03.903447Z",
     "start_time": "2024-02-28T22:50:03.885212Z"
    }
   },
   "id": "ea4249e0dc9aa4f2",
   "execution_count": 124
  },
  {
   "cell_type": "markdown",
   "source": [
    "### Cross-Fold Validation"
   ],
   "metadata": {
    "collapsed": false
   },
   "id": "e264278da47f49c2"
  },
  {
   "cell_type": "code",
   "outputs": [
    {
     "name": "stdout",
     "output_type": "stream",
     "text": [
      "Best: 0.738732 using {'learning_rate': 0.01, 'max_depth': 3, 'n_estimators': 200, 'subsample': 0.8}\n"
     ]
    }
   ],
   "source": [
    "model = XGBClassifier() # classifier used to tune hyperparameters\n",
    "param_grid = {\n",
    "    'max_depth': [3, 4, 5],\n",
    "    'learning_rate': [0.01, 0.1, 0.2],\n",
    "    'n_estimators': [100, 200, 300],\n",
    "    'subsample': [0.8, 0.9, 1.0]\n",
    "}\n",
    "\n",
    "k_fold = StratifiedKFold(n_splits=10, shuffle=True, random_state=42)\n",
    "grid_search = GridSearchCV(model, param_grid, scoring='accuracy', n_jobs=-1, cv=k_fold)\n",
    "grid_result = grid_search.fit(X_train, y_train)\n",
    "print(\"Best: %f using %s\" % (grid_result.best_score_, grid_result.best_params_))"
   ],
   "metadata": {
    "collapsed": false,
    "ExecuteTime": {
     "end_time": "2024-02-28T22:50:15.109870Z",
     "start_time": "2024-02-28T22:50:03.917163Z"
    }
   },
   "id": "d84d0e3eb04fb1a4",
   "execution_count": 125
  },
  {
   "cell_type": "code",
   "outputs": [
    {
     "name": "stdout",
     "output_type": "stream",
     "text": [
      "Best: 0.724687 using {'colsample_bytree': 0.7310958150729396, 'gamma': 4.719458022803786, 'learning_rate': 0.28333122754042506, 'max_depth': 6, 'min_child_weight': 3, 'n_estimators': 713, 'reg_alpha': 0.6771683423829817, 'reg_lambda': 5.733674683048916, 'scale_pos_weight': 1, 'subsample': 0.7291264452457583}\n"
     ]
    }
   ],
   "source": [
    "param_distributions = {\n",
    "    'max_depth': randint(3, 10),  \n",
    "    'learning_rate': uniform(0.001, 0.299),  \n",
    "    'n_estimators': randint(50, 1000),\n",
    "    'subsample': uniform(0.5, 0.5),  \n",
    "    'colsample_bytree': uniform(0.3, 0.7),  \n",
    "    'min_child_weight': randint(0, 10),\n",
    "    'gamma': uniform(0, 5),\n",
    "    'reg_lambda': uniform(1e-5, 10 - 1e-5),  \n",
    "    'reg_alpha': uniform(0, 1),\n",
    "    'scale_pos_weight': [1, 10, 25, 50, 75, 100]\n",
    "}\n",
    "\n",
    "kfold = StratifiedKFold(n_splits=10, shuffle=True, random_state=42)\n",
    "random_search = RandomizedSearchCV(model, param_distributions, n_iter=100, scoring='accuracy', n_jobs=-1, cv=kfold, random_state=42)\n",
    "random_search.fit(X_train, y_train)\n",
    "\n",
    "print(\"Best: %f using %s\" % (random_search.best_score_, random_search.best_params_))"
   ],
   "metadata": {
    "collapsed": false,
    "ExecuteTime": {
     "end_time": "2024-02-28T22:50:39.622723Z",
     "start_time": "2024-02-28T22:50:15.112385Z"
    }
   },
   "id": "7bb830f204215c5c",
   "execution_count": 126
  },
  {
   "cell_type": "markdown",
   "source": [
    "### Generate Results"
   ],
   "metadata": {
    "collapsed": false
   },
   "id": "51110c2bfd963af1"
  },
  {
   "cell_type": "code",
   "outputs": [
    {
     "data": {
      "text/plain": "XGBClassifier(base_score=None, booster=None, callbacks=None,\n              colsample_bylevel=None, colsample_bynode=None,\n              colsample_bytree=0.7310958150729396, early_stopping_rounds=None,\n              enable_categorical=False, eval_metric=None, feature_types=None,\n              gamma=4.719458022803786, gpu_id=None, grow_policy=None,\n              importance_type=None, interaction_constraints=None,\n              learning_rate=0.28333122754042506, max_bin=None,\n              max_cat_threshold=None, max_cat_to_onehot=None,\n              max_delta_step=None, max_depth=6, max_leaves=None,\n              min_child_weight=3, missing=nan, monotone_constraints=None,\n              n_estimators=713, n_jobs=None, num_parallel_tree=None,\n              predictor=None, random_state=None, ...)",
      "text/html": "<style>#sk-container-id-9 {color: black;}#sk-container-id-9 pre{padding: 0;}#sk-container-id-9 div.sk-toggleable {background-color: white;}#sk-container-id-9 label.sk-toggleable__label {cursor: pointer;display: block;width: 100%;margin-bottom: 0;padding: 0.3em;box-sizing: border-box;text-align: center;}#sk-container-id-9 label.sk-toggleable__label-arrow:before {content: \"▸\";float: left;margin-right: 0.25em;color: #696969;}#sk-container-id-9 label.sk-toggleable__label-arrow:hover:before {color: black;}#sk-container-id-9 div.sk-estimator:hover label.sk-toggleable__label-arrow:before {color: black;}#sk-container-id-9 div.sk-toggleable__content {max-height: 0;max-width: 0;overflow: hidden;text-align: left;background-color: #f0f8ff;}#sk-container-id-9 div.sk-toggleable__content pre {margin: 0.2em;color: black;border-radius: 0.25em;background-color: #f0f8ff;}#sk-container-id-9 input.sk-toggleable__control:checked~div.sk-toggleable__content {max-height: 200px;max-width: 100%;overflow: auto;}#sk-container-id-9 input.sk-toggleable__control:checked~label.sk-toggleable__label-arrow:before {content: \"▾\";}#sk-container-id-9 div.sk-estimator input.sk-toggleable__control:checked~label.sk-toggleable__label {background-color: #d4ebff;}#sk-container-id-9 div.sk-label input.sk-toggleable__control:checked~label.sk-toggleable__label {background-color: #d4ebff;}#sk-container-id-9 input.sk-hidden--visually {border: 0;clip: rect(1px 1px 1px 1px);clip: rect(1px, 1px, 1px, 1px);height: 1px;margin: -1px;overflow: hidden;padding: 0;position: absolute;width: 1px;}#sk-container-id-9 div.sk-estimator {font-family: monospace;background-color: #f0f8ff;border: 1px dotted black;border-radius: 0.25em;box-sizing: border-box;margin-bottom: 0.5em;}#sk-container-id-9 div.sk-estimator:hover {background-color: #d4ebff;}#sk-container-id-9 div.sk-parallel-item::after {content: \"\";width: 100%;border-bottom: 1px solid gray;flex-grow: 1;}#sk-container-id-9 div.sk-label:hover label.sk-toggleable__label {background-color: #d4ebff;}#sk-container-id-9 div.sk-serial::before {content: \"\";position: absolute;border-left: 1px solid gray;box-sizing: border-box;top: 0;bottom: 0;left: 50%;z-index: 0;}#sk-container-id-9 div.sk-serial {display: flex;flex-direction: column;align-items: center;background-color: white;padding-right: 0.2em;padding-left: 0.2em;position: relative;}#sk-container-id-9 div.sk-item {position: relative;z-index: 1;}#sk-container-id-9 div.sk-parallel {display: flex;align-items: stretch;justify-content: center;background-color: white;position: relative;}#sk-container-id-9 div.sk-item::before, #sk-container-id-9 div.sk-parallel-item::before {content: \"\";position: absolute;border-left: 1px solid gray;box-sizing: border-box;top: 0;bottom: 0;left: 50%;z-index: -1;}#sk-container-id-9 div.sk-parallel-item {display: flex;flex-direction: column;z-index: 1;position: relative;background-color: white;}#sk-container-id-9 div.sk-parallel-item:first-child::after {align-self: flex-end;width: 50%;}#sk-container-id-9 div.sk-parallel-item:last-child::after {align-self: flex-start;width: 50%;}#sk-container-id-9 div.sk-parallel-item:only-child::after {width: 0;}#sk-container-id-9 div.sk-dashed-wrapped {border: 1px dashed gray;margin: 0 0.4em 0.5em 0.4em;box-sizing: border-box;padding-bottom: 0.4em;background-color: white;}#sk-container-id-9 div.sk-label label {font-family: monospace;font-weight: bold;display: inline-block;line-height: 1.2em;}#sk-container-id-9 div.sk-label-container {text-align: center;}#sk-container-id-9 div.sk-container {/* jupyter's `normalize.less` sets `[hidden] { display: none; }` but bootstrap.min.css set `[hidden] { display: none !important; }` so we also need the `!important` here to be able to override the default hidden behavior on the sphinx rendered scikit-learn.org. See: https://github.com/scikit-learn/scikit-learn/issues/21755 */display: inline-block !important;position: relative;}#sk-container-id-9 div.sk-text-repr-fallback {display: none;}</style><div id=\"sk-container-id-9\" class=\"sk-top-container\"><div class=\"sk-text-repr-fallback\"><pre>XGBClassifier(base_score=None, booster=None, callbacks=None,\n              colsample_bylevel=None, colsample_bynode=None,\n              colsample_bytree=0.7310958150729396, early_stopping_rounds=None,\n              enable_categorical=False, eval_metric=None, feature_types=None,\n              gamma=4.719458022803786, gpu_id=None, grow_policy=None,\n              importance_type=None, interaction_constraints=None,\n              learning_rate=0.28333122754042506, max_bin=None,\n              max_cat_threshold=None, max_cat_to_onehot=None,\n              max_delta_step=None, max_depth=6, max_leaves=None,\n              min_child_weight=3, missing=nan, monotone_constraints=None,\n              n_estimators=713, n_jobs=None, num_parallel_tree=None,\n              predictor=None, random_state=None, ...)</pre><b>In a Jupyter environment, please rerun this cell to show the HTML representation or trust the notebook. <br />On GitHub, the HTML representation is unable to render, please try loading this page with nbviewer.org.</b></div><div class=\"sk-container\" hidden><div class=\"sk-item\"><div class=\"sk-estimator sk-toggleable\"><input class=\"sk-toggleable__control sk-hidden--visually\" id=\"sk-estimator-id-9\" type=\"checkbox\" checked><label for=\"sk-estimator-id-9\" class=\"sk-toggleable__label sk-toggleable__label-arrow\">XGBClassifier</label><div class=\"sk-toggleable__content\"><pre>XGBClassifier(base_score=None, booster=None, callbacks=None,\n              colsample_bylevel=None, colsample_bynode=None,\n              colsample_bytree=0.7310958150729396, early_stopping_rounds=None,\n              enable_categorical=False, eval_metric=None, feature_types=None,\n              gamma=4.719458022803786, gpu_id=None, grow_policy=None,\n              importance_type=None, interaction_constraints=None,\n              learning_rate=0.28333122754042506, max_bin=None,\n              max_cat_threshold=None, max_cat_to_onehot=None,\n              max_delta_step=None, max_depth=6, max_leaves=None,\n              min_child_weight=3, missing=nan, monotone_constraints=None,\n              n_estimators=713, n_jobs=None, num_parallel_tree=None,\n              predictor=None, random_state=None, ...)</pre></div></div></div></div></div>"
     },
     "execution_count": 135,
     "metadata": {},
     "output_type": "execute_result"
    }
   ],
   "source": [
    "model.set_params(**random_search.best_params_)\n",
    "model.fit(X_train, y_train)"
   ],
   "metadata": {
    "collapsed": false,
    "ExecuteTime": {
     "end_time": "2024-02-28T22:51:44.400565Z",
     "start_time": "2024-02-28T22:51:43.619346Z"
    }
   },
   "id": "b226ecb6aedbb097",
   "execution_count": 135
  },
  {
   "cell_type": "code",
   "outputs": [],
   "source": [
    "y_pred = model.predict(X_test)"
   ],
   "metadata": {
    "collapsed": false,
    "ExecuteTime": {
     "end_time": "2024-02-28T22:51:45.040923Z",
     "start_time": "2024-02-28T22:51:45.034967Z"
    }
   },
   "id": "f6fdd55ef8d83270",
   "execution_count": 136
  },
  {
   "cell_type": "code",
   "outputs": [
    {
     "name": "stdout",
     "output_type": "stream",
     "text": [
      "Accuracy: 0.72\n"
     ]
    }
   ],
   "source": [
    "accuracy = accuracy_score(y_test, y_pred)\n",
    "print(f\"Accuracy: {accuracy:.2f}\")"
   ],
   "metadata": {
    "collapsed": false,
    "ExecuteTime": {
     "end_time": "2024-02-28T22:51:45.805284Z",
     "start_time": "2024-02-28T22:51:45.800527Z"
    }
   },
   "id": "b9bd22a2528c3470",
   "execution_count": 137
  },
  {
   "cell_type": "code",
   "outputs": [],
   "source": [
    "submission_test = model.predict(to_test)\n",
    "submission_test = pd.Series(submission_test, to_test.index, name='Survived')\n",
    "# save submission\n",
    "submission_test.to_csv('submission_test.csv') "
   ],
   "metadata": {
    "collapsed": false,
    "ExecuteTime": {
     "end_time": "2024-02-28T22:51:46.324510Z",
     "start_time": "2024-02-28T22:51:46.316915Z"
    }
   },
   "id": "badeaa27c8fc319",
   "execution_count": 138
  },
  {
   "cell_type": "code",
   "outputs": [],
   "source": [],
   "metadata": {
    "collapsed": false,
    "ExecuteTime": {
     "end_time": "2024-02-28T22:51:33.503580Z",
     "start_time": "2024-02-28T22:51:33.501711Z"
    }
   },
   "id": "600e2bb544f7ab73",
   "execution_count": 134
  }
 ],
 "metadata": {
  "kernelspec": {
   "display_name": "Python 3",
   "language": "python",
   "name": "python3"
  },
  "language_info": {
   "codemirror_mode": {
    "name": "ipython",
    "version": 2
   },
   "file_extension": ".py",
   "mimetype": "text/x-python",
   "name": "python",
   "nbconvert_exporter": "python",
   "pygments_lexer": "ipython2",
   "version": "2.7.6"
  }
 },
 "nbformat": 4,
 "nbformat_minor": 5
}
