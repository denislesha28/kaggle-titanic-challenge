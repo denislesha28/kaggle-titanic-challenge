{
 "cells": [
  {
   "cell_type": "code",
   "execution_count": 69,
   "id": "initial_id",
   "metadata": {
    "collapsed": true,
    "ExecuteTime": {
     "end_time": "2024-03-12T17:48:34.007865Z",
     "start_time": "2024-03-12T17:48:34.002346Z"
    }
   },
   "outputs": [],
   "source": [
    "import re\n",
    "\n",
    "import numpy as np\n",
    "import optuna as opt\n",
    "import pandas as pd\n",
    "import xgboost as xgb\n",
    "from matplotlib import pyplot as plt\n",
    "from sklearn.inspection import permutation_importance\n",
    "from sklearn.metrics import accuracy_score\n",
    "from sklearn.model_selection import train_test_split, StratifiedKFold, cross_val_score\n",
    "from sklearn.preprocessing import LabelEncoder\n",
    "from sklearn.linear_model import LogisticRegression\n",
    "from sklearn.ensemble import StackingClassifier\n",
    "from xgboost import XGBClassifier"
   ]
  },
  {
   "cell_type": "code",
   "outputs": [],
   "source": [
    "random_id = 17 #ai23m017 - 17 is the id\n",
    "random_state = np.random.RandomState(random_id)"
   ],
   "metadata": {
    "collapsed": false,
    "ExecuteTime": {
     "end_time": "2024-03-12T17:40:46.017329Z",
     "start_time": "2024-03-12T17:40:46.011947Z"
    }
   },
   "id": "cfc9bf5391961962",
   "execution_count": 27
  },
  {
   "cell_type": "code",
   "outputs": [
    {
     "data": {
      "text/plain": "             Survived  Pclass  \\\nPassengerId                     \n1                   0       3   \n2                   1       1   \n3                   1       3   \n4                   1       1   \n5                   0       3   \n...               ...     ...   \n887                 0       2   \n888                 1       1   \n889                 0       3   \n890                 1       1   \n891                 0       3   \n\n                                                          Name   Age  SibSp  \\\nPassengerId                                                                   \n1                                      Braund, Mr. Owen Harris  22.0      1   \n2            Cumings, Mrs. John Bradley (Florence Briggs Th...  38.0      1   \n3                                       Heikkinen, Miss. Laina  26.0      0   \n4                 Futrelle, Mrs. Jacques Heath (Lily May Peel)  35.0      1   \n5                                     Allen, Mr. William Henry  35.0      0   \n...                                                        ...   ...    ...   \n887                                      Montvila, Rev. Juozas  27.0      0   \n888                               Graham, Miss. Margaret Edith  19.0      0   \n889                   Johnston, Miss. Catherine Helen \"Carrie\"   NaN      1   \n890                                      Behr, Mr. Karl Howell  26.0      0   \n891                                        Dooley, Mr. Patrick  32.0      0   \n\n             Parch            Ticket     Fare Cabin Embarked  \nPassengerId                                                   \n1                0         A/5 21171   7.2500   NaN        S  \n2                0          PC 17599  71.2833   C85        C  \n3                0  STON/O2. 3101282   7.9250   NaN        S  \n4                0            113803  53.1000  C123        S  \n5                0            373450   8.0500   NaN        S  \n...            ...               ...      ...   ...      ...  \n887              0            211536  13.0000   NaN        S  \n888              0            112053  30.0000   B42        S  \n889              2        W./C. 6607  23.4500   NaN        S  \n890              0            111369  30.0000  C148        C  \n891              0            370376   7.7500   NaN        Q  \n\n[891 rows x 10 columns]",
      "text/html": "<div>\n<style scoped>\n    .dataframe tbody tr th:only-of-type {\n        vertical-align: middle;\n    }\n\n    .dataframe tbody tr th {\n        vertical-align: top;\n    }\n\n    .dataframe thead th {\n        text-align: right;\n    }\n</style>\n<table border=\"1\" class=\"dataframe\">\n  <thead>\n    <tr style=\"text-align: right;\">\n      <th></th>\n      <th>Survived</th>\n      <th>Pclass</th>\n      <th>Name</th>\n      <th>Age</th>\n      <th>SibSp</th>\n      <th>Parch</th>\n      <th>Ticket</th>\n      <th>Fare</th>\n      <th>Cabin</th>\n      <th>Embarked</th>\n    </tr>\n    <tr>\n      <th>PassengerId</th>\n      <th></th>\n      <th></th>\n      <th></th>\n      <th></th>\n      <th></th>\n      <th></th>\n      <th></th>\n      <th></th>\n      <th></th>\n      <th></th>\n    </tr>\n  </thead>\n  <tbody>\n    <tr>\n      <th>1</th>\n      <td>0</td>\n      <td>3</td>\n      <td>Braund, Mr. Owen Harris</td>\n      <td>22.0</td>\n      <td>1</td>\n      <td>0</td>\n      <td>A/5 21171</td>\n      <td>7.2500</td>\n      <td>NaN</td>\n      <td>S</td>\n    </tr>\n    <tr>\n      <th>2</th>\n      <td>1</td>\n      <td>1</td>\n      <td>Cumings, Mrs. John Bradley (Florence Briggs Th...</td>\n      <td>38.0</td>\n      <td>1</td>\n      <td>0</td>\n      <td>PC 17599</td>\n      <td>71.2833</td>\n      <td>C85</td>\n      <td>C</td>\n    </tr>\n    <tr>\n      <th>3</th>\n      <td>1</td>\n      <td>3</td>\n      <td>Heikkinen, Miss. Laina</td>\n      <td>26.0</td>\n      <td>0</td>\n      <td>0</td>\n      <td>STON/O2. 3101282</td>\n      <td>7.9250</td>\n      <td>NaN</td>\n      <td>S</td>\n    </tr>\n    <tr>\n      <th>4</th>\n      <td>1</td>\n      <td>1</td>\n      <td>Futrelle, Mrs. Jacques Heath (Lily May Peel)</td>\n      <td>35.0</td>\n      <td>1</td>\n      <td>0</td>\n      <td>113803</td>\n      <td>53.1000</td>\n      <td>C123</td>\n      <td>S</td>\n    </tr>\n    <tr>\n      <th>5</th>\n      <td>0</td>\n      <td>3</td>\n      <td>Allen, Mr. William Henry</td>\n      <td>35.0</td>\n      <td>0</td>\n      <td>0</td>\n      <td>373450</td>\n      <td>8.0500</td>\n      <td>NaN</td>\n      <td>S</td>\n    </tr>\n    <tr>\n      <th>...</th>\n      <td>...</td>\n      <td>...</td>\n      <td>...</td>\n      <td>...</td>\n      <td>...</td>\n      <td>...</td>\n      <td>...</td>\n      <td>...</td>\n      <td>...</td>\n      <td>...</td>\n    </tr>\n    <tr>\n      <th>887</th>\n      <td>0</td>\n      <td>2</td>\n      <td>Montvila, Rev. Juozas</td>\n      <td>27.0</td>\n      <td>0</td>\n      <td>0</td>\n      <td>211536</td>\n      <td>13.0000</td>\n      <td>NaN</td>\n      <td>S</td>\n    </tr>\n    <tr>\n      <th>888</th>\n      <td>1</td>\n      <td>1</td>\n      <td>Graham, Miss. Margaret Edith</td>\n      <td>19.0</td>\n      <td>0</td>\n      <td>0</td>\n      <td>112053</td>\n      <td>30.0000</td>\n      <td>B42</td>\n      <td>S</td>\n    </tr>\n    <tr>\n      <th>889</th>\n      <td>0</td>\n      <td>3</td>\n      <td>Johnston, Miss. Catherine Helen \"Carrie\"</td>\n      <td>NaN</td>\n      <td>1</td>\n      <td>2</td>\n      <td>W./C. 6607</td>\n      <td>23.4500</td>\n      <td>NaN</td>\n      <td>S</td>\n    </tr>\n    <tr>\n      <th>890</th>\n      <td>1</td>\n      <td>1</td>\n      <td>Behr, Mr. Karl Howell</td>\n      <td>26.0</td>\n      <td>0</td>\n      <td>0</td>\n      <td>111369</td>\n      <td>30.0000</td>\n      <td>C148</td>\n      <td>C</td>\n    </tr>\n    <tr>\n      <th>891</th>\n      <td>0</td>\n      <td>3</td>\n      <td>Dooley, Mr. Patrick</td>\n      <td>32.0</td>\n      <td>0</td>\n      <td>0</td>\n      <td>370376</td>\n      <td>7.7500</td>\n      <td>NaN</td>\n      <td>Q</td>\n    </tr>\n  </tbody>\n</table>\n<p>891 rows × 10 columns</p>\n</div>"
     },
     "execution_count": 28,
     "metadata": {},
     "output_type": "execute_result"
    }
   ],
   "source": [
    "to_test = pd.read_csv(\"test.csv\", index_col=\"PassengerId\")\n",
    "df = pd.read_csv(\"train.csv\", index_col=\"PassengerId\")\n",
    "df"
   ],
   "metadata": {
    "collapsed": false,
    "ExecuteTime": {
     "end_time": "2024-03-12T17:40:46.114707Z",
     "start_time": "2024-03-12T17:40:46.087812Z"
    }
   },
   "id": "7437cf88e2628702",
   "execution_count": 28
  },
  {
   "cell_type": "code",
   "outputs": [
    {
     "data": {
      "text/plain": "Survived             Int64\nPclass               Int64\nName        string[python]\nAge                Float64\nSibSp                Int64\nParch                Int64\nTicket      string[python]\nFare               Float64\nCabin       string[python]\nEmbarked          category\ndtype: object"
     },
     "execution_count": 29,
     "metadata": {},
     "output_type": "execute_result"
    }
   ],
   "source": [
    "df = df.convert_dtypes()\n",
    "df[\"Embarked\"] = df[\"Embarked\"].astype(\"category\")\n",
    "df.dtypes"
   ],
   "metadata": {
    "collapsed": false,
    "ExecuteTime": {
     "end_time": "2024-03-12T17:40:46.226341Z",
     "start_time": "2024-03-12T17:40:46.211364Z"
    }
   },
   "id": "bc7c0dd7b79336e6",
   "execution_count": 29
  },
  {
   "cell_type": "code",
   "outputs": [
    {
     "data": {
      "text/plain": "'\\nrandom_id = 17 #ai23m017 - 17 is the id\\n# a RandomState object or the id may be used, choose a variant\\nrandom_state = np.random.RandomState(random_id)\\nrandom_state = random_id\\n'"
     },
     "execution_count": 30,
     "metadata": {},
     "output_type": "execute_result"
    }
   ],
   "source": [
    "'''\n",
    "random_id = 17 #ai23m017 - 17 is the id\n",
    "# a RandomState object or the id may be used, choose a variant\n",
    "random_state = np.random.RandomState(random_id)\n",
    "random_state = random_id\n",
    "'''\n",
    "#TODO implement this for all random states"
   ],
   "metadata": {
    "collapsed": false,
    "ExecuteTime": {
     "end_time": "2024-03-12T17:40:46.278451Z",
     "start_time": "2024-03-12T17:40:46.271750Z"
    }
   },
   "id": "9a422a05e1ee9e2d",
   "execution_count": 30
  },
  {
   "cell_type": "code",
   "outputs": [
    {
     "name": "stdout",
     "output_type": "stream",
     "text": [
      "['Age', 'Cabin', 'Embarked']\n"
     ]
    }
   ],
   "source": [
    "X_train,X_test,y_train,y_test = train_test_split(df.drop(\"Survived\", axis=1), df[\"Survived\"], test_size=0.2, random_state=random_id)\n",
    "print(df.columns[df.isna().any(axis=0)].tolist())"
   ],
   "metadata": {
    "collapsed": false,
    "ExecuteTime": {
     "end_time": "2024-03-12T17:40:46.346215Z",
     "start_time": "2024-03-12T17:40:46.334946Z"
    }
   },
   "id": "311deef3a7079778",
   "execution_count": 31
  },
  {
   "cell_type": "markdown",
   "source": [
    "### Data Pre-Processing after splitting the data to prevent data - leakage"
   ],
   "metadata": {
    "collapsed": false
   },
   "id": "81f55df3da10ac26"
  },
  {
   "cell_type": "code",
   "outputs": [],
   "source": [
    "#Data Imputation for the Age column\n",
    "data = [X_train, X_test, to_test]\n",
    "for dataset in data:\n",
    "    mean = X_train[\"Age\"].mean()\n",
    "    std = X_test[\"Age\"].std()\n",
    "    is_null = dataset[\"Age\"].isna().sum()\n",
    "    rand_age = np.random.randint(mean - std, mean + std, size = is_null)\n",
    "    rand_age_series = pd.Series(rand_age, index=dataset[dataset[\"Age\"].isnull()].index)\n",
    "    dataset[\"Age\"].fillna(rand_age_series, inplace=True)\n",
    "    dataset[\"Age\"] = dataset[\"Age\"].astype(int)\n",
    "    "
   ],
   "metadata": {
    "collapsed": false,
    "ExecuteTime": {
     "end_time": "2024-03-12T17:40:46.495684Z",
     "start_time": "2024-03-12T17:40:46.480839Z"
    }
   },
   "id": "382104a86596fa97",
   "execution_count": 32
  },
  {
   "cell_type": "code",
   "outputs": [],
   "source": [
    "#Feature Engineering the Deck Column \n",
    "#Cabins are mapped to a numerical Deck feature\n",
    "\n",
    "deck = {\"A\": 1, \"B\": 2, \"C\": 3, \"D\": 4, \"E\": 5, \"F\": 6, \"G\": 7, \"U\": 8}\n",
    "\n",
    "for dataset in data:\n",
    "    dataset['Cabin'] = dataset['Cabin'].fillna(\"U0\")\n",
    "    dataset['Deck'] = dataset['Cabin'].map(lambda x: re.compile(\"([a-zA-Z]+)\").search(x).group())\n",
    "    dataset['Deck'] = dataset['Deck'].map(deck)\n",
    "    dataset['Deck'] = dataset['Deck'].fillna(0)\n",
    "    dataset['Deck'] = dataset['Deck'].astype(int)\n",
    "    dataset.drop([\"Cabin\"], axis=1, inplace=True)"
   ],
   "metadata": {
    "collapsed": false,
    "ExecuteTime": {
     "end_time": "2024-03-12T17:40:46.782652Z",
     "start_time": "2024-03-12T17:40:46.762603Z"
    }
   },
   "id": "e8ca56c07025d74e",
   "execution_count": 33
  },
  {
   "cell_type": "code",
   "outputs": [],
   "source": [
    "X_train[\"Embarked\"].describe()\n",
    "for dataset in [X_train, X_test, to_test]:\n",
    "    dataset['Embarked'].fillna(dataset['Embarked'].mode()[0], inplace=True)\n"
   ],
   "metadata": {
    "collapsed": false,
    "ExecuteTime": {
     "end_time": "2024-03-12T17:40:46.929634Z",
     "start_time": "2024-03-12T17:40:46.921664Z"
    }
   },
   "id": "46c7b88f0da0a969",
   "execution_count": 34
  },
  {
   "cell_type": "code",
   "outputs": [
    {
     "data": {
      "text/plain": "Pclass      False\nName        False\nAge         False\nSibSp       False\nParch       False\nTicket      False\nFare        False\nEmbarked    False\nDeck        False\ndtype: bool"
     },
     "execution_count": 35,
     "metadata": {},
     "output_type": "execute_result"
    }
   ],
   "source": [
    "X_train.isna().any()"
   ],
   "metadata": {
    "collapsed": false,
    "ExecuteTime": {
     "end_time": "2024-03-12T17:40:47.037653Z",
     "start_time": "2024-03-12T17:40:47.028943Z"
    }
   },
   "id": "32c820fc22b56a5d",
   "execution_count": 35
  },
  {
   "cell_type": "code",
   "outputs": [],
   "source": [
    "#Feature Engineering Title Column\n",
    "for dataset in data:\n",
    "    dataset[\"Title\"] = dataset[\"Name\"].apply(lambda x: x.split(\",\")[1].split(\".\")[0].strip())"
   ],
   "metadata": {
    "collapsed": false,
    "ExecuteTime": {
     "end_time": "2024-03-12T17:40:47.128919Z",
     "start_time": "2024-03-12T17:40:47.122003Z"
    }
   },
   "id": "f6cd938e3addfb44",
   "execution_count": 36
  },
  {
   "cell_type": "code",
   "outputs": [],
   "source": [
    "#Feature Engineering Sex Column \n",
    "def map_to_sex(value):\n",
    "    if value in [\"Miss\",\"Mrs\"]:\n",
    "        return \"female\"\n",
    "    else:\n",
    "        return \"male\"\n",
    "\n",
    "for dataset in data:\n",
    "    dataset[\"Sex\"] = dataset[\"Title\"].apply(map_to_sex)\n",
    "    dataset.drop(\"Title\", axis=1, inplace=True)"
   ],
   "metadata": {
    "collapsed": false,
    "ExecuteTime": {
     "end_time": "2024-03-12T17:40:47.214970Z",
     "start_time": "2024-03-12T17:40:47.205014Z"
    }
   },
   "id": "502afae6ac628fa2",
   "execution_count": 37
  },
  {
   "cell_type": "code",
   "outputs": [],
   "source": [
    "#Feature Engineering Family Size Column\n",
    "for dataset in data:\n",
    "    dataset[\"Fam_size\"] = dataset[\"SibSp\"] + dataset[\"Parch\"] + 1\n",
    "    dataset[\"Fam_type\"] = pd.cut(dataset.Fam_size, [0,1,4,7,11], labels=[\"Solo\", \"Small\", \"Big\", \"Very big\"])\n",
    "    dataset.drop([\"SibSp\",\"Parch\"], axis=1, inplace=True)\n"
   ],
   "metadata": {
    "collapsed": false,
    "ExecuteTime": {
     "end_time": "2024-03-12T17:40:47.331153Z",
     "start_time": "2024-03-12T17:40:47.315769Z"
    }
   },
   "id": "7611fdcd2568120a",
   "execution_count": 38
  },
  {
   "cell_type": "code",
   "outputs": [],
   "source": [
    "for dataset in data:\n",
    "    ticket_frequency = dataset.groupby('Ticket')['Name'].transform('count')\n",
    "    dataset['Ticket_Frequency'] = ticket_frequency"
   ],
   "metadata": {
    "collapsed": false,
    "ExecuteTime": {
     "end_time": "2024-03-12T17:40:47.361008Z",
     "start_time": "2024-03-12T17:40:47.350653Z"
    }
   },
   "id": "bdc7d2c896c57bf0",
   "execution_count": 39
  },
  {
   "cell_type": "code",
   "outputs": [],
   "source": [
    "\n",
    "for dataset in data:\n",
    "    dataset['Age*Class'] = dataset['Age'] * dataset['Pclass']\n",
    "    dataset.drop(columns=[\"Age\",\"Pclass\"], inplace=True)"
   ],
   "metadata": {
    "collapsed": false,
    "ExecuteTime": {
     "end_time": "2024-03-12T17:40:47.412605Z",
     "start_time": "2024-03-12T17:40:47.401555Z"
    }
   },
   "id": "86319017430b8d13",
   "execution_count": 40
  },
  {
   "cell_type": "code",
   "outputs": [],
   "source": [
    "#Feature Engineering Ticket_2letter column\n",
    "for dataset in data:\n",
    "    '''\n",
    "    dataset[\"Ticket_2letter\"] = dataset.Ticket.apply(lambda x: x[:2])\n",
    "    dataset[\"Ticket_len\"] = dataset.Ticket.apply(lambda x: len(x))\n",
    "    dataset[\"Cabin_num\"] = dataset.Ticket.apply(lambda x: len(x.split()))\n",
    "    dataset[\"Cabin_1letter\"] = dataset.Ticket.apply(lambda x: x[:1])\n",
    "    '''\n",
    "    dataset.drop(\"Ticket\", axis=1, inplace=True)"
   ],
   "metadata": {
    "collapsed": false,
    "ExecuteTime": {
     "end_time": "2024-03-12T17:40:47.500306Z",
     "start_time": "2024-03-12T17:40:47.490407Z"
    }
   },
   "id": "71f54e901c433b54",
   "execution_count": 41
  },
  {
   "cell_type": "markdown",
   "source": [],
   "metadata": {
    "collapsed": false
   },
   "id": "f1181ce179efe6fe"
  },
  {
   "cell_type": "code",
   "outputs": [],
   "source": [
    "for dataset in data:\n",
    "    dataset['Fare'] = np.log1p(dataset['Fare'])\n",
    "    dataset['Fare_Per_Person'] = dataset['Fare'] / (dataset['Fam_size'])\n",
    "    dataset['Fare_Bin'] = pd.qcut(dataset['Fare'], 4, labels=False)\n",
    "    \n"
   ],
   "metadata": {
    "collapsed": false,
    "ExecuteTime": {
     "end_time": "2024-03-12T17:40:47.576281Z",
     "start_time": "2024-03-12T17:40:47.561566Z"
    }
   },
   "id": "bbea7c958369cb64",
   "execution_count": 42
  },
  {
   "cell_type": "code",
   "outputs": [
    {
     "data": {
      "text/plain": "                                                        Name      Fare  \\\nPassengerId                                                              \n874                              Vander Cruyssen, Mr. Victor  2.302585   \n829                             McCormack, Mr. Thomas Joseph  2.169054   \n100                                        Kantor, Mr. Sinai  3.295837   \n524          Hippach, Mrs. Louis Albert (Ida Sophia Fischer)  4.077185   \n133           Robins, Mrs. Alexander A (Grace Charity Laury)   2.74084   \n...                                                      ...       ...   \n407                         Widegren, Mr. Carl/Charles Peter  2.169054   \n391                               Carter, Mr. William Ernest  4.795791   \n144                                      Burke, Mr. Jeremiah  2.047693   \n242                           Murphy, Miss. Katherine \"Kate\"   2.80336   \n624                              Hansen, Mr. Henry Damsgaard  2.180892   \n\n            Embarked  Deck     Sex  Fam_size Fam_type  Ticket_Frequency  \\\nPassengerId                                                               \n874                S     8    male         1     Solo                 1   \n829                Q     8    male         1     Solo                 1   \n100                S     8    male         2    Small                 2   \n524                C     2  female         2    Small                 2   \n133                S     8  female         2    Small                 1   \n...              ...   ...     ...       ...      ...               ...   \n407                S     8    male         1     Solo                 1   \n391                S     2    male         4    Small                 3   \n144                Q     8    male         1     Solo                 1   \n242                Q     8  female         2    Small                 2   \n624                S     8    male         1     Solo                 1   \n\n             Age*Class  Fare_Per_Person  Fare_Bin  \nPassengerId                                        \n874                141         2.302585         1  \n829                 54         2.169054         0  \n100                 68         1.647918         2  \n524                 44         2.038592         3  \n133                141          1.37042         2  \n...                ...              ...       ...  \n407                153         2.169054         0  \n391                 36         1.198948         3  \n144                 57         2.047693         0  \n242                105          1.40168         2  \n624                 63         2.180892         0  \n\n[712 rows x 11 columns]",
      "text/html": "<div>\n<style scoped>\n    .dataframe tbody tr th:only-of-type {\n        vertical-align: middle;\n    }\n\n    .dataframe tbody tr th {\n        vertical-align: top;\n    }\n\n    .dataframe thead th {\n        text-align: right;\n    }\n</style>\n<table border=\"1\" class=\"dataframe\">\n  <thead>\n    <tr style=\"text-align: right;\">\n      <th></th>\n      <th>Name</th>\n      <th>Fare</th>\n      <th>Embarked</th>\n      <th>Deck</th>\n      <th>Sex</th>\n      <th>Fam_size</th>\n      <th>Fam_type</th>\n      <th>Ticket_Frequency</th>\n      <th>Age*Class</th>\n      <th>Fare_Per_Person</th>\n      <th>Fare_Bin</th>\n    </tr>\n    <tr>\n      <th>PassengerId</th>\n      <th></th>\n      <th></th>\n      <th></th>\n      <th></th>\n      <th></th>\n      <th></th>\n      <th></th>\n      <th></th>\n      <th></th>\n      <th></th>\n      <th></th>\n    </tr>\n  </thead>\n  <tbody>\n    <tr>\n      <th>874</th>\n      <td>Vander Cruyssen, Mr. Victor</td>\n      <td>2.302585</td>\n      <td>S</td>\n      <td>8</td>\n      <td>male</td>\n      <td>1</td>\n      <td>Solo</td>\n      <td>1</td>\n      <td>141</td>\n      <td>2.302585</td>\n      <td>1</td>\n    </tr>\n    <tr>\n      <th>829</th>\n      <td>McCormack, Mr. Thomas Joseph</td>\n      <td>2.169054</td>\n      <td>Q</td>\n      <td>8</td>\n      <td>male</td>\n      <td>1</td>\n      <td>Solo</td>\n      <td>1</td>\n      <td>54</td>\n      <td>2.169054</td>\n      <td>0</td>\n    </tr>\n    <tr>\n      <th>100</th>\n      <td>Kantor, Mr. Sinai</td>\n      <td>3.295837</td>\n      <td>S</td>\n      <td>8</td>\n      <td>male</td>\n      <td>2</td>\n      <td>Small</td>\n      <td>2</td>\n      <td>68</td>\n      <td>1.647918</td>\n      <td>2</td>\n    </tr>\n    <tr>\n      <th>524</th>\n      <td>Hippach, Mrs. Louis Albert (Ida Sophia Fischer)</td>\n      <td>4.077185</td>\n      <td>C</td>\n      <td>2</td>\n      <td>female</td>\n      <td>2</td>\n      <td>Small</td>\n      <td>2</td>\n      <td>44</td>\n      <td>2.038592</td>\n      <td>3</td>\n    </tr>\n    <tr>\n      <th>133</th>\n      <td>Robins, Mrs. Alexander A (Grace Charity Laury)</td>\n      <td>2.74084</td>\n      <td>S</td>\n      <td>8</td>\n      <td>female</td>\n      <td>2</td>\n      <td>Small</td>\n      <td>1</td>\n      <td>141</td>\n      <td>1.37042</td>\n      <td>2</td>\n    </tr>\n    <tr>\n      <th>...</th>\n      <td>...</td>\n      <td>...</td>\n      <td>...</td>\n      <td>...</td>\n      <td>...</td>\n      <td>...</td>\n      <td>...</td>\n      <td>...</td>\n      <td>...</td>\n      <td>...</td>\n      <td>...</td>\n    </tr>\n    <tr>\n      <th>407</th>\n      <td>Widegren, Mr. Carl/Charles Peter</td>\n      <td>2.169054</td>\n      <td>S</td>\n      <td>8</td>\n      <td>male</td>\n      <td>1</td>\n      <td>Solo</td>\n      <td>1</td>\n      <td>153</td>\n      <td>2.169054</td>\n      <td>0</td>\n    </tr>\n    <tr>\n      <th>391</th>\n      <td>Carter, Mr. William Ernest</td>\n      <td>4.795791</td>\n      <td>S</td>\n      <td>2</td>\n      <td>male</td>\n      <td>4</td>\n      <td>Small</td>\n      <td>3</td>\n      <td>36</td>\n      <td>1.198948</td>\n      <td>3</td>\n    </tr>\n    <tr>\n      <th>144</th>\n      <td>Burke, Mr. Jeremiah</td>\n      <td>2.047693</td>\n      <td>Q</td>\n      <td>8</td>\n      <td>male</td>\n      <td>1</td>\n      <td>Solo</td>\n      <td>1</td>\n      <td>57</td>\n      <td>2.047693</td>\n      <td>0</td>\n    </tr>\n    <tr>\n      <th>242</th>\n      <td>Murphy, Miss. Katherine \"Kate\"</td>\n      <td>2.80336</td>\n      <td>Q</td>\n      <td>8</td>\n      <td>female</td>\n      <td>2</td>\n      <td>Small</td>\n      <td>2</td>\n      <td>105</td>\n      <td>1.40168</td>\n      <td>2</td>\n    </tr>\n    <tr>\n      <th>624</th>\n      <td>Hansen, Mr. Henry Damsgaard</td>\n      <td>2.180892</td>\n      <td>S</td>\n      <td>8</td>\n      <td>male</td>\n      <td>1</td>\n      <td>Solo</td>\n      <td>1</td>\n      <td>63</td>\n      <td>2.180892</td>\n      <td>0</td>\n    </tr>\n  </tbody>\n</table>\n<p>712 rows × 11 columns</p>\n</div>"
     },
     "execution_count": 43,
     "metadata": {},
     "output_type": "execute_result"
    }
   ],
   "source": [
    "X_train"
   ],
   "metadata": {
    "collapsed": false,
    "ExecuteTime": {
     "end_time": "2024-03-12T17:40:47.669752Z",
     "start_time": "2024-03-12T17:40:47.650264Z"
    }
   },
   "id": "440341c693d677f8",
   "execution_count": 43
  },
  {
   "cell_type": "code",
   "outputs": [],
   "source": [
    "port_survival_mapping = {'S': 0.33, 'C': 0.55, 'Q': 0.39}\n",
    "for dataset in data:\n",
    "    dataset['Embarked_Survival_Rate'] = dataset['Embarked'].map(port_survival_mapping)  \n",
    "    #average_fare_per_port = dataset.groupby('Embarked')['Fare'].mean().to_dict()\n",
    "    #dataset['Avg_Fare_Per_Port'] = dataset['Embarked'].map(average_fare_per_port)\n",
    "    dataset.drop(columns=[\"Fare\",\"Fam_size\"],axis=1,inplace=True)\n",
    "    "
   ],
   "metadata": {
    "collapsed": false,
    "ExecuteTime": {
     "end_time": "2024-03-12T17:40:47.713573Z",
     "start_time": "2024-03-12T17:40:47.701890Z"
    }
   },
   "id": "63e5806d45bb8e54",
   "execution_count": 44
  },
  {
   "cell_type": "code",
   "outputs": [
    {
     "data": {
      "text/plain": "                                                        Name Embarked  Deck  \\\nPassengerId                                                                   \n874                              Vander Cruyssen, Mr. Victor        S     8   \n829                             McCormack, Mr. Thomas Joseph        Q     8   \n100                                        Kantor, Mr. Sinai        S     8   \n524          Hippach, Mrs. Louis Albert (Ida Sophia Fischer)        C     2   \n133           Robins, Mrs. Alexander A (Grace Charity Laury)        S     8   \n...                                                      ...      ...   ...   \n407                         Widegren, Mr. Carl/Charles Peter        S     8   \n391                               Carter, Mr. William Ernest        S     2   \n144                                      Burke, Mr. Jeremiah        Q     8   \n242                           Murphy, Miss. Katherine \"Kate\"        Q     8   \n624                              Hansen, Mr. Henry Damsgaard        S     8   \n\n                Sex Fam_type  Ticket_Frequency  Age*Class  Fare_Per_Person  \\\nPassengerId                                                                  \n874            male     Solo                 1        141         2.302585   \n829            male     Solo                 1         54         2.169054   \n100            male    Small                 2         68         1.647918   \n524          female    Small                 2         44         2.038592   \n133          female    Small                 1        141          1.37042   \n...             ...      ...               ...        ...              ...   \n407            male     Solo                 1        153         2.169054   \n391            male    Small                 3         36         1.198948   \n144            male     Solo                 1         57         2.047693   \n242          female    Small                 2        105          1.40168   \n624            male     Solo                 1         63         2.180892   \n\n             Fare_Bin Embarked_Survival_Rate  \nPassengerId                                   \n874                 1                   0.33  \n829                 0                   0.39  \n100                 2                   0.33  \n524                 3                   0.55  \n133                 2                   0.33  \n...               ...                    ...  \n407                 0                   0.33  \n391                 3                   0.33  \n144                 0                   0.39  \n242                 2                   0.39  \n624                 0                   0.33  \n\n[712 rows x 10 columns]",
      "text/html": "<div>\n<style scoped>\n    .dataframe tbody tr th:only-of-type {\n        vertical-align: middle;\n    }\n\n    .dataframe tbody tr th {\n        vertical-align: top;\n    }\n\n    .dataframe thead th {\n        text-align: right;\n    }\n</style>\n<table border=\"1\" class=\"dataframe\">\n  <thead>\n    <tr style=\"text-align: right;\">\n      <th></th>\n      <th>Name</th>\n      <th>Embarked</th>\n      <th>Deck</th>\n      <th>Sex</th>\n      <th>Fam_type</th>\n      <th>Ticket_Frequency</th>\n      <th>Age*Class</th>\n      <th>Fare_Per_Person</th>\n      <th>Fare_Bin</th>\n      <th>Embarked_Survival_Rate</th>\n    </tr>\n    <tr>\n      <th>PassengerId</th>\n      <th></th>\n      <th></th>\n      <th></th>\n      <th></th>\n      <th></th>\n      <th></th>\n      <th></th>\n      <th></th>\n      <th></th>\n      <th></th>\n    </tr>\n  </thead>\n  <tbody>\n    <tr>\n      <th>874</th>\n      <td>Vander Cruyssen, Mr. Victor</td>\n      <td>S</td>\n      <td>8</td>\n      <td>male</td>\n      <td>Solo</td>\n      <td>1</td>\n      <td>141</td>\n      <td>2.302585</td>\n      <td>1</td>\n      <td>0.33</td>\n    </tr>\n    <tr>\n      <th>829</th>\n      <td>McCormack, Mr. Thomas Joseph</td>\n      <td>Q</td>\n      <td>8</td>\n      <td>male</td>\n      <td>Solo</td>\n      <td>1</td>\n      <td>54</td>\n      <td>2.169054</td>\n      <td>0</td>\n      <td>0.39</td>\n    </tr>\n    <tr>\n      <th>100</th>\n      <td>Kantor, Mr. Sinai</td>\n      <td>S</td>\n      <td>8</td>\n      <td>male</td>\n      <td>Small</td>\n      <td>2</td>\n      <td>68</td>\n      <td>1.647918</td>\n      <td>2</td>\n      <td>0.33</td>\n    </tr>\n    <tr>\n      <th>524</th>\n      <td>Hippach, Mrs. Louis Albert (Ida Sophia Fischer)</td>\n      <td>C</td>\n      <td>2</td>\n      <td>female</td>\n      <td>Small</td>\n      <td>2</td>\n      <td>44</td>\n      <td>2.038592</td>\n      <td>3</td>\n      <td>0.55</td>\n    </tr>\n    <tr>\n      <th>133</th>\n      <td>Robins, Mrs. Alexander A (Grace Charity Laury)</td>\n      <td>S</td>\n      <td>8</td>\n      <td>female</td>\n      <td>Small</td>\n      <td>1</td>\n      <td>141</td>\n      <td>1.37042</td>\n      <td>2</td>\n      <td>0.33</td>\n    </tr>\n    <tr>\n      <th>...</th>\n      <td>...</td>\n      <td>...</td>\n      <td>...</td>\n      <td>...</td>\n      <td>...</td>\n      <td>...</td>\n      <td>...</td>\n      <td>...</td>\n      <td>...</td>\n      <td>...</td>\n    </tr>\n    <tr>\n      <th>407</th>\n      <td>Widegren, Mr. Carl/Charles Peter</td>\n      <td>S</td>\n      <td>8</td>\n      <td>male</td>\n      <td>Solo</td>\n      <td>1</td>\n      <td>153</td>\n      <td>2.169054</td>\n      <td>0</td>\n      <td>0.33</td>\n    </tr>\n    <tr>\n      <th>391</th>\n      <td>Carter, Mr. William Ernest</td>\n      <td>S</td>\n      <td>2</td>\n      <td>male</td>\n      <td>Small</td>\n      <td>3</td>\n      <td>36</td>\n      <td>1.198948</td>\n      <td>3</td>\n      <td>0.33</td>\n    </tr>\n    <tr>\n      <th>144</th>\n      <td>Burke, Mr. Jeremiah</td>\n      <td>Q</td>\n      <td>8</td>\n      <td>male</td>\n      <td>Solo</td>\n      <td>1</td>\n      <td>57</td>\n      <td>2.047693</td>\n      <td>0</td>\n      <td>0.39</td>\n    </tr>\n    <tr>\n      <th>242</th>\n      <td>Murphy, Miss. Katherine \"Kate\"</td>\n      <td>Q</td>\n      <td>8</td>\n      <td>female</td>\n      <td>Small</td>\n      <td>2</td>\n      <td>105</td>\n      <td>1.40168</td>\n      <td>2</td>\n      <td>0.39</td>\n    </tr>\n    <tr>\n      <th>624</th>\n      <td>Hansen, Mr. Henry Damsgaard</td>\n      <td>S</td>\n      <td>8</td>\n      <td>male</td>\n      <td>Solo</td>\n      <td>1</td>\n      <td>63</td>\n      <td>2.180892</td>\n      <td>0</td>\n      <td>0.33</td>\n    </tr>\n  </tbody>\n</table>\n<p>712 rows × 10 columns</p>\n</div>"
     },
     "execution_count": 45,
     "metadata": {},
     "output_type": "execute_result"
    }
   ],
   "source": [
    "X_train"
   ],
   "metadata": {
    "collapsed": false,
    "ExecuteTime": {
     "end_time": "2024-03-12T17:40:47.794303Z",
     "start_time": "2024-03-12T17:40:47.771898Z"
    }
   },
   "id": "7da1ea0f154829ec",
   "execution_count": 45
  },
  {
   "cell_type": "markdown",
   "source": [
    "### Encode all Labels to String in order to pass through the GBM model"
   ],
   "metadata": {
    "collapsed": false
   },
   "id": "d79ef93bb1e9aec8"
  },
  {
   "cell_type": "code",
   "outputs": [
    {
     "data": {
      "text/plain": "             Name  Embarked  Deck  Sex  Fam_type  Ticket_Frequency  Age*Class  \\\nPassengerId                                                                     \n874           672         2     7    1         2                 0         97   \n829           413         1     7    1         2                 0         49   \n100           333         2     7    1         1                 1         61   \n524           286         0     1    0         1                 1         39   \n133           564         2     7    0         1                 0         97   \n...           ...       ...   ...  ...       ...               ...        ...   \n407           690         2     7    1         2                 0        101   \n391           107         2     1    1         1                 2         31   \n144            85         1     7    1         2                 0         52   \n242           455         1     7    0         1                 1         84   \n624           255         2     7    1         2                 0         57   \n\n             Fare_Per_Person  Fare_Bin  Embarked_Survival_Rate  \nPassengerId                                                     \n874                      186         1                       0  \n829                      156         0                       1  \n100                      109         2                       0  \n524                      127         3                       2  \n133                       83         2                       0  \n...                      ...       ...                     ...  \n407                      156         0                       0  \n391                       68         3                       0  \n144                      128         0                       1  \n242                       84         2                       1  \n624                      163         0                       0  \n\n[712 rows x 10 columns]",
      "text/html": "<div>\n<style scoped>\n    .dataframe tbody tr th:only-of-type {\n        vertical-align: middle;\n    }\n\n    .dataframe tbody tr th {\n        vertical-align: top;\n    }\n\n    .dataframe thead th {\n        text-align: right;\n    }\n</style>\n<table border=\"1\" class=\"dataframe\">\n  <thead>\n    <tr style=\"text-align: right;\">\n      <th></th>\n      <th>Name</th>\n      <th>Embarked</th>\n      <th>Deck</th>\n      <th>Sex</th>\n      <th>Fam_type</th>\n      <th>Ticket_Frequency</th>\n      <th>Age*Class</th>\n      <th>Fare_Per_Person</th>\n      <th>Fare_Bin</th>\n      <th>Embarked_Survival_Rate</th>\n    </tr>\n    <tr>\n      <th>PassengerId</th>\n      <th></th>\n      <th></th>\n      <th></th>\n      <th></th>\n      <th></th>\n      <th></th>\n      <th></th>\n      <th></th>\n      <th></th>\n      <th></th>\n    </tr>\n  </thead>\n  <tbody>\n    <tr>\n      <th>874</th>\n      <td>672</td>\n      <td>2</td>\n      <td>7</td>\n      <td>1</td>\n      <td>2</td>\n      <td>0</td>\n      <td>97</td>\n      <td>186</td>\n      <td>1</td>\n      <td>0</td>\n    </tr>\n    <tr>\n      <th>829</th>\n      <td>413</td>\n      <td>1</td>\n      <td>7</td>\n      <td>1</td>\n      <td>2</td>\n      <td>0</td>\n      <td>49</td>\n      <td>156</td>\n      <td>0</td>\n      <td>1</td>\n    </tr>\n    <tr>\n      <th>100</th>\n      <td>333</td>\n      <td>2</td>\n      <td>7</td>\n      <td>1</td>\n      <td>1</td>\n      <td>1</td>\n      <td>61</td>\n      <td>109</td>\n      <td>2</td>\n      <td>0</td>\n    </tr>\n    <tr>\n      <th>524</th>\n      <td>286</td>\n      <td>0</td>\n      <td>1</td>\n      <td>0</td>\n      <td>1</td>\n      <td>1</td>\n      <td>39</td>\n      <td>127</td>\n      <td>3</td>\n      <td>2</td>\n    </tr>\n    <tr>\n      <th>133</th>\n      <td>564</td>\n      <td>2</td>\n      <td>7</td>\n      <td>0</td>\n      <td>1</td>\n      <td>0</td>\n      <td>97</td>\n      <td>83</td>\n      <td>2</td>\n      <td>0</td>\n    </tr>\n    <tr>\n      <th>...</th>\n      <td>...</td>\n      <td>...</td>\n      <td>...</td>\n      <td>...</td>\n      <td>...</td>\n      <td>...</td>\n      <td>...</td>\n      <td>...</td>\n      <td>...</td>\n      <td>...</td>\n    </tr>\n    <tr>\n      <th>407</th>\n      <td>690</td>\n      <td>2</td>\n      <td>7</td>\n      <td>1</td>\n      <td>2</td>\n      <td>0</td>\n      <td>101</td>\n      <td>156</td>\n      <td>0</td>\n      <td>0</td>\n    </tr>\n    <tr>\n      <th>391</th>\n      <td>107</td>\n      <td>2</td>\n      <td>1</td>\n      <td>1</td>\n      <td>1</td>\n      <td>2</td>\n      <td>31</td>\n      <td>68</td>\n      <td>3</td>\n      <td>0</td>\n    </tr>\n    <tr>\n      <th>144</th>\n      <td>85</td>\n      <td>1</td>\n      <td>7</td>\n      <td>1</td>\n      <td>2</td>\n      <td>0</td>\n      <td>52</td>\n      <td>128</td>\n      <td>0</td>\n      <td>1</td>\n    </tr>\n    <tr>\n      <th>242</th>\n      <td>455</td>\n      <td>1</td>\n      <td>7</td>\n      <td>0</td>\n      <td>1</td>\n      <td>1</td>\n      <td>84</td>\n      <td>84</td>\n      <td>2</td>\n      <td>1</td>\n    </tr>\n    <tr>\n      <th>624</th>\n      <td>255</td>\n      <td>2</td>\n      <td>7</td>\n      <td>1</td>\n      <td>2</td>\n      <td>0</td>\n      <td>57</td>\n      <td>163</td>\n      <td>0</td>\n      <td>0</td>\n    </tr>\n  </tbody>\n</table>\n<p>712 rows × 10 columns</p>\n</div>"
     },
     "execution_count": 46,
     "metadata": {},
     "output_type": "execute_result"
    }
   ],
   "source": [
    "X_train = X_train.apply(LabelEncoder().fit_transform)\n",
    "X_test = X_test.apply(LabelEncoder().fit_transform)\n",
    "to_test = to_test.apply(LabelEncoder().fit_transform)\n",
    "X_train"
   ],
   "metadata": {
    "collapsed": false,
    "ExecuteTime": {
     "end_time": "2024-03-12T17:40:47.934137Z",
     "start_time": "2024-03-12T17:40:47.892972Z"
    }
   },
   "id": "ea4249e0dc9aa4f2",
   "execution_count": 46
  },
  {
   "cell_type": "markdown",
   "source": [
    "### Cross-Fold Validation"
   ],
   "metadata": {
    "collapsed": false
   },
   "id": "e264278da47f49c2"
  },
  {
   "cell_type": "code",
   "outputs": [],
   "source": [
    "xgb_classifier = XGBClassifier() # classifier used to tune hyperparameters\n",
    "\n",
    "def objective(trial):\n",
    "    param = {\n",
    "        'verbosity': 0,\n",
    "        'objective': 'binary:logistic',  # or 'multi:softprob' for multiclass and set 'num_class'\n",
    "        'eval_metric': 'logloss',  # or another suitable metric\n",
    "        'learning_rate': trial.suggest_float('learning_rate', 0.01, 0.3),\n",
    "        'n_estimators': trial.suggest_int('n_estimators', 100, 1000),\n",
    "        'max_depth': trial.suggest_int('max_depth', 3, 9),\n",
    "        'min_child_weight': trial.suggest_int('min_child_weight', 1, 10),\n",
    "        'subsample': trial.suggest_float('subsample', 0.5, 1.0),\n",
    "        'colsample_bytree': trial.suggest_float('colsample_bytree', 0.5, 1.0),\n",
    "        'reg_alpha': trial.suggest_float('reg_alpha', 0.0, 1.0),\n",
    "        'reg_lambda': trial.suggest_float('reg_lambda', 1e-5, 100.0),\n",
    "    }\n",
    "\n",
    "    model = xgb.XGBClassifier(**param)\n",
    "    \n",
    "    cv = StratifiedKFold(n_splits=5)\n",
    "    scores = cross_val_score(model, X_train, y_train, cv=cv, scoring='accuracy')\n",
    "    \n",
    "    return scores.mean()\n"
   ],
   "metadata": {
    "collapsed": false,
    "ExecuteTime": {
     "end_time": "2024-03-12T17:40:47.994952Z",
     "start_time": "2024-03-12T17:40:47.988111Z"
    }
   },
   "id": "eb7c96151e8b9c70",
   "execution_count": 47
  },
  {
   "cell_type": "code",
   "outputs": [
    {
     "name": "stderr",
     "output_type": "stream",
     "text": [
      "[I 2024-03-12 18:40:48,226] A new study created in memory with name: no-name-84e75b48-68c2-4c8f-9391-0004dc15f0da\n",
      "[I 2024-03-12 18:40:50,910] Trial 0 finished with value: 0.8145868216290753 and parameters: {'learning_rate': 0.18988478271780299, 'n_estimators': 752, 'max_depth': 4, 'min_child_weight': 9, 'subsample': 0.8276758036348424, 'colsample_bytree': 0.7116144098940449, 'reg_alpha': 0.6671192617028393, 'reg_lambda': 44.35428707853075}. Best is trial 0 with value: 0.8145868216290753.\n",
      "[I 2024-03-12 18:40:52,470] Trial 1 finished with value: 0.817393873731902 and parameters: {'learning_rate': 0.2874102372908826, 'n_estimators': 551, 'max_depth': 3, 'min_child_weight': 2, 'subsample': 0.8133560324446518, 'colsample_bytree': 0.7095984556973685, 'reg_alpha': 0.6480423228850077, 'reg_lambda': 33.2329303477287}. Best is trial 1 with value: 0.817393873731902.\n",
      "[I 2024-03-12 18:40:55,492] Trial 2 finished with value: 0.8300403821530583 and parameters: {'learning_rate': 0.016745376654402774, 'n_estimators': 981, 'max_depth': 6, 'min_child_weight': 2, 'subsample': 0.8836036790713467, 'colsample_bytree': 0.751528299437435, 'reg_alpha': 0.2067349618878238, 'reg_lambda': 90.61486630817573}. Best is trial 2 with value: 0.8300403821530583.\n",
      "[I 2024-03-12 18:40:57,172] Trial 3 finished with value: 0.814606520240323 and parameters: {'learning_rate': 0.2085755272196825, 'n_estimators': 500, 'max_depth': 6, 'min_child_weight': 1, 'subsample': 0.8566747181392077, 'colsample_bytree': 0.9626786634777238, 'reg_alpha': 0.7985966531229352, 'reg_lambda': 7.414107132763054}. Best is trial 2 with value: 0.8300403821530583.\n",
      "[I 2024-03-12 18:40:57,817] Trial 4 finished with value: 0.8159755737220526 and parameters: {'learning_rate': 0.22942392499375563, 'n_estimators': 231, 'max_depth': 6, 'min_child_weight': 5, 'subsample': 0.558796991427668, 'colsample_bytree': 0.9605363148667386, 'reg_alpha': 0.20606242006286846, 'reg_lambda': 42.04356920270337}. Best is trial 2 with value: 0.8300403821530583.\n",
      "[I 2024-03-12 18:40:58,597] Trial 5 finished with value: 0.8117896188318724 and parameters: {'learning_rate': 0.16461189255602693, 'n_estimators': 299, 'max_depth': 5, 'min_child_weight': 6, 'subsample': 0.5970620626428433, 'colsample_bytree': 0.8149228712978933, 'reg_alpha': 0.12652678530049766, 'reg_lambda': 96.59157567080862}. Best is trial 2 with value: 0.8300403821530583.\n",
      "[I 2024-03-12 18:41:00,232] Trial 6 finished with value: 0.8188023244361272 and parameters: {'learning_rate': 0.14473035113617816, 'n_estimators': 677, 'max_depth': 3, 'min_child_weight': 5, 'subsample': 0.6250135929949645, 'colsample_bytree': 0.5599781907641954, 'reg_alpha': 0.457488602720418, 'reg_lambda': 71.02954730967465}. Best is trial 2 with value: 0.8300403821530583.\n",
      "[I 2024-03-12 18:41:01,140] Trial 7 finished with value: 0.8103516202107752 and parameters: {'learning_rate': 0.2639068459187246, 'n_estimators': 283, 'max_depth': 4, 'min_child_weight': 5, 'subsample': 0.7655005977492397, 'colsample_bytree': 0.9191785478142838, 'reg_alpha': 0.0953986755095122, 'reg_lambda': 30.488588140149247}. Best is trial 2 with value: 0.8300403821530583.\n",
      "[I 2024-03-12 18:41:01,978] Trial 8 finished with value: 0.8202009258347287 and parameters: {'learning_rate': 0.24642604196568488, 'n_estimators': 248, 'max_depth': 5, 'min_child_weight': 5, 'subsample': 0.8011535825333955, 'colsample_bytree': 0.7296492245160491, 'reg_alpha': 0.2865767124763777, 'reg_lambda': 39.32689728458137}. Best is trial 2 with value: 0.8300403821530583.\n",
      "[I 2024-03-12 18:41:04,558] Trial 9 finished with value: 0.8117896188318724 and parameters: {'learning_rate': 0.21205825004344492, 'n_estimators': 792, 'max_depth': 6, 'min_child_weight': 1, 'subsample': 0.6566783691497482, 'colsample_bytree': 0.9149135021741575, 'reg_alpha': 0.5309443974053575, 'reg_lambda': 56.647197727289736}. Best is trial 2 with value: 0.8300403821530583.\n",
      "[I 2024-03-12 18:41:07,507] Trial 10 finished with value: 0.8202107751403526 and parameters: {'learning_rate': 0.02731347204351407, 'n_estimators': 970, 'max_depth': 9, 'min_child_weight': 3, 'subsample': 0.9948377565166773, 'colsample_bytree': 0.5856271403310798, 'reg_alpha': 0.3639074943989048, 'reg_lambda': 96.46292169396379}. Best is trial 2 with value: 0.8300403821530583.\n",
      "[I 2024-03-12 18:41:10,665] Trial 11 finished with value: 0.8244262779474048 and parameters: {'learning_rate': 0.02299959356875994, 'n_estimators': 990, 'max_depth': 9, 'min_child_weight': 3, 'subsample': 0.9524267667419305, 'colsample_bytree': 0.5673472860848259, 'reg_alpha': 0.31295645070568223, 'reg_lambda': 98.7271375270769}. Best is trial 2 with value: 0.8300403821530583.\n",
      "[I 2024-03-12 18:41:14,123] Trial 12 finished with value: 0.8300403821530582 and parameters: {'learning_rate': 0.03381477244968693, 'n_estimators': 1000, 'max_depth': 9, 'min_child_weight': 3, 'subsample': 0.9630410048271257, 'colsample_bytree': 0.5041511897482016, 'reg_alpha': 0.007441048440054443, 'reg_lambda': 76.06053943267241}. Best is trial 2 with value: 0.8300403821530583.\n",
      "[I 2024-03-12 18:41:17,133] Trial 13 finished with value: 0.8300403821530583 and parameters: {'learning_rate': 0.09356209263783781, 'n_estimators': 891, 'max_depth': 8, 'min_child_weight': 3, 'subsample': 0.9120436640151879, 'colsample_bytree': 0.6258739803796571, 'reg_alpha': 0.006748587099128136, 'reg_lambda': 76.5483182449976}. Best is trial 2 with value: 0.8300403821530583.\n",
      "[I 2024-03-12 18:41:19,317] Trial 14 finished with value: 0.8075150201910765 and parameters: {'learning_rate': 0.09414355637247236, 'n_estimators': 853, 'max_depth': 8, 'min_child_weight': 8, 'subsample': 0.9002605971067942, 'colsample_bytree': 0.8086958463424727, 'reg_alpha': 0.017665683236714684, 'reg_lambda': 80.93936867646103}. Best is trial 2 with value: 0.8300403821530583.\n",
      "[I 2024-03-12 18:41:21,997] Trial 15 finished with value: 0.8300305328474342 and parameters: {'learning_rate': 0.08633362260240932, 'n_estimators': 891, 'max_depth': 7, 'min_child_weight': 3, 'subsample': 0.8992418363109634, 'colsample_bytree': 0.6429116629786502, 'reg_alpha': 0.9467216955589302, 'reg_lambda': 62.004527674205576}. Best is trial 2 with value: 0.8300403821530583.\n",
      "[I 2024-03-12 18:41:23,469] Trial 16 finished with value: 0.8131783709248499 and parameters: {'learning_rate': 0.07639801720440656, 'n_estimators': 603, 'max_depth': 7, 'min_child_weight': 7, 'subsample': 0.7152985558907036, 'colsample_bytree': 0.653852582906321, 'reg_alpha': 0.1704219122054791, 'reg_lambda': 85.00269092461726}. Best is trial 2 with value: 0.8300403821530583.\n",
      "[I 2024-03-12 18:41:25,002] Trial 17 finished with value: 0.8286417807544568 and parameters: {'learning_rate': 0.11601479454480411, 'n_estimators': 448, 'max_depth': 7, 'min_child_weight': 2, 'subsample': 0.8908476859260406, 'colsample_bytree': 0.8096554659551598, 'reg_alpha': 0.25507114455314706, 'reg_lambda': 69.21879055412802}. Best is trial 2 with value: 0.8300403821530583.\n",
      "[I 2024-03-12 18:41:27,338] Trial 18 finished with value: 0.8300403821530583 and parameters: {'learning_rate': 0.05170725079862958, 'n_estimators': 878, 'max_depth': 8, 'min_child_weight': 4, 'subsample': 0.7255598080662162, 'colsample_bytree': 0.6466120720630898, 'reg_alpha': 0.4073176998228647, 'reg_lambda': 87.22088414512174}. Best is trial 2 with value: 0.8300403821530583.\n",
      "[I 2024-03-12 18:41:29,127] Trial 19 finished with value: 0.8103417709051512 and parameters: {'learning_rate': 0.05418023251909253, 'n_estimators': 719, 'max_depth': 8, 'min_child_weight': 10, 'subsample': 0.9397644201828472, 'colsample_bytree': 0.7581023422255779, 'reg_alpha': 0.10037013299558835, 'reg_lambda': 58.04070876086995}. Best is trial 2 with value: 0.8300403821530583.\n",
      "[I 2024-03-12 18:41:29,548] Trial 20 finished with value: 0.8188121737417513 and parameters: {'learning_rate': 0.11426445302403065, 'n_estimators': 107, 'max_depth': 5, 'min_child_weight': 2, 'subsample': 0.8650132477391459, 'colsample_bytree': 0.6692332528393218, 'reg_alpha': 0.04226166714561376, 'reg_lambda': 85.83062444401554}. Best is trial 2 with value: 0.8300403821530583.\n",
      "[I 2024-03-12 18:41:31,892] Trial 21 finished with value: 0.8272333300502316 and parameters: {'learning_rate': 0.06087303892135684, 'n_estimators': 883, 'max_depth': 8, 'min_child_weight': 4, 'subsample': 0.7460754887012977, 'colsample_bytree': 0.6152554259892727, 'reg_alpha': 0.43680506409801567, 'reg_lambda': 88.65578365918543}. Best is trial 2 with value: 0.8300403821530583.\n",
      "[I 2024-03-12 18:41:34,093] Trial 22 finished with value: 0.8103910174332711 and parameters: {'learning_rate': 0.011448870872160124, 'n_estimators': 840, 'max_depth': 8, 'min_child_weight': 4, 'subsample': 0.6726733360729228, 'colsample_bytree': 0.7714915715933777, 'reg_alpha': 0.20808048844547822, 'reg_lambda': 69.78174563116937}. Best is trial 2 with value: 0.8300403821530583.\n",
      "[I 2024-03-12 18:41:36,994] Trial 23 finished with value: 0.8286319314488327 and parameters: {'learning_rate': 0.05247159409638844, 'n_estimators': 927, 'max_depth': 7, 'min_child_weight': 1, 'subsample': 0.7185564760619635, 'colsample_bytree': 0.5137257689916616, 'reg_alpha': 0.3762270460216657, 'reg_lambda': 92.12648389014592}. Best is trial 2 with value: 0.8300403821530583.\n",
      "[I 2024-03-12 18:41:38,650] Trial 24 finished with value: 0.8201910765291046 and parameters: {'learning_rate': 0.12936961097183858, 'n_estimators': 656, 'max_depth': 6, 'min_child_weight': 4, 'subsample': 0.5163218147907194, 'colsample_bytree': 0.6728634935998368, 'reg_alpha': 0.5556299395621065, 'reg_lambda': 78.70029990535701}. Best is trial 2 with value: 0.8300403821530583.\n",
      "[I 2024-03-12 18:41:40,911] Trial 25 finished with value: 0.8117896188318724 and parameters: {'learning_rate': 0.0453847353273666, 'n_estimators': 809, 'max_depth': 8, 'min_child_weight': 6, 'subsample': 0.7785009826278243, 'colsample_bytree': 0.860642972145008, 'reg_alpha': 0.3643296029072248, 'reg_lambda': 0.006019744631757362}. Best is trial 2 with value: 0.8300403821530583.\n",
      "[I 2024-03-12 18:41:43,828] Trial 26 finished with value: 0.8300403821530582 and parameters: {'learning_rate': 0.07520598434589343, 'n_estimators': 915, 'max_depth': 7, 'min_child_weight': 2, 'subsample': 0.8555794378559222, 'colsample_bytree': 0.6852460725743452, 'reg_alpha': 0.16078488429478233, 'reg_lambda': 89.2066469216195}. Best is trial 2 with value: 0.8300403821530583.\n",
      "[I 2024-03-12 18:41:45,801] Trial 27 finished with value: 0.8314192849404117 and parameters: {'learning_rate': 0.0967947929109038, 'n_estimators': 734, 'max_depth': 9, 'min_child_weight': 4, 'subsample': 0.6966187818187787, 'colsample_bytree': 0.6266597989750708, 'reg_alpha': 0.2569270915278612, 'reg_lambda': 65.01464470699456}. Best is trial 27 with value: 0.8314192849404117.\n",
      "[I 2024-03-12 18:41:48,108] Trial 28 finished with value: 0.8202206244459767 and parameters: {'learning_rate': 0.16264052590227757, 'n_estimators': 756, 'max_depth': 9, 'min_child_weight': 3, 'subsample': 0.9224719048270825, 'colsample_bytree': 0.6103490793236108, 'reg_alpha': 0.26142364545652697, 'reg_lambda': 63.16521095401103}. Best is trial 27 with value: 0.8314192849404117.\n",
      "[I 2024-03-12 18:41:49,983] Trial 29 finished with value: 0.8243967300305328 and parameters: {'learning_rate': 0.10567388372375128, 'n_estimators': 736, 'max_depth': 9, 'min_child_weight': 7, 'subsample': 0.8328369212460655, 'colsample_bytree': 0.7123303887895518, 'reg_alpha': 0.08011376343515453, 'reg_lambda': 50.81304999459947}. Best is trial 27 with value: 0.8314192849404117.\n",
      "[I 2024-03-12 18:41:52,053] Trial 30 finished with value: 0.8258347286516301 and parameters: {'learning_rate': 0.1766109701780759, 'n_estimators': 792, 'max_depth': 4, 'min_child_weight': 2, 'subsample': 0.9972267753240344, 'colsample_bytree': 0.540058563541181, 'reg_alpha': 0.5969784085222793, 'reg_lambda': 73.76872544933117}. Best is trial 27 with value: 0.8314192849404117.\n",
      "[I 2024-03-12 18:41:54,517] Trial 31 finished with value: 0.8272136314389836 and parameters: {'learning_rate': 0.06401302093176106, 'n_estimators': 934, 'max_depth': 8, 'min_child_weight': 4, 'subsample': 0.7168620927028562, 'colsample_bytree': 0.615496599902938, 'reg_alpha': 0.4374660700415148, 'reg_lambda': 82.16631094650795}. Best is trial 27 with value: 0.8314192849404117.\n",
      "[I 2024-03-12 18:41:56,698] Trial 32 finished with value: 0.8160149709445484 and parameters: {'learning_rate': 0.01162594428277567, 'n_estimators': 851, 'max_depth': 9, 'min_child_weight': 4, 'subsample': 0.6865911125815259, 'colsample_bytree': 0.6417679598351625, 'reg_alpha': 0.746664939130572, 'reg_lambda': 64.60104770093595}. Best is trial 27 with value: 0.8314192849404117.\n",
      "[I 2024-03-12 18:41:59,502] Trial 33 finished with value: 0.8272234807446075 and parameters: {'learning_rate': 0.03620643856357342, 'n_estimators': 940, 'max_depth': 8, 'min_child_weight': 3, 'subsample': 0.7952915359553594, 'colsample_bytree': 0.7063281668530597, 'reg_alpha': 0.3325404362073916, 'reg_lambda': 51.155100834975556}. Best is trial 27 with value: 0.8314192849404117.\n",
      "[I 2024-03-12 18:42:01,363] Trial 34 finished with value: 0.8342657342657344 and parameters: {'learning_rate': 0.09488698666758935, 'n_estimators': 610, 'max_depth': 6, 'min_child_weight': 1, 'subsample': 0.7475151415450677, 'colsample_bytree': 0.5927039725454382, 'reg_alpha': 0.23213959110275786, 'reg_lambda': 92.44608349941872}. Best is trial 34 with value: 0.8342657342657344.\n",
      "[I 2024-03-12 18:42:03,261] Trial 35 finished with value: 0.8131882202304738 and parameters: {'learning_rate': 0.143776537622954, 'n_estimators': 591, 'max_depth': 6, 'min_child_weight': 1, 'subsample': 0.8266216732587081, 'colsample_bytree': 0.5989022135018832, 'reg_alpha': 0.18485864785434222, 'reg_lambda': 18.476882864249184}. Best is trial 34 with value: 0.8342657342657344.\n",
      "[I 2024-03-12 18:42:04,630] Trial 36 finished with value: 0.8286516300600807 and parameters: {'learning_rate': 0.13043339776119162, 'n_estimators': 505, 'max_depth': 5, 'min_child_weight': 2, 'subsample': 0.611808473744641, 'colsample_bytree': 0.5416698640311344, 'reg_alpha': 0.24087092462459675, 'reg_lambda': 93.60042311446736}. Best is trial 34 with value: 0.8342657342657344.\n",
      "[I 2024-03-12 18:42:06,094] Trial 37 finished with value: 0.8202009258347287 and parameters: {'learning_rate': 0.29927170492115696, 'n_estimators': 421, 'max_depth': 6, 'min_child_weight': 1, 'subsample': 0.8666494609978351, 'colsample_bytree': 0.7808762461872392, 'reg_alpha': 0.14112476843356409, 'reg_lambda': 99.69157671066093}. Best is trial 34 with value: 0.8342657342657344.\n",
      "[I 2024-03-12 18:42:08,038] Trial 38 finished with value: 0.8300108342361863 and parameters: {'learning_rate': 0.09517182017391754, 'n_estimators': 659, 'max_depth': 5, 'min_child_weight': 1, 'subsample': 0.6416649650945296, 'colsample_bytree': 0.843037005151994, 'reg_alpha': 0.05537750849493778, 'reg_lambda': 73.48110916171686}. Best is trial 34 with value: 0.8342657342657344.\n",
      "[I 2024-03-12 18:42:10,083] Trial 39 finished with value: 0.8202206244459767 and parameters: {'learning_rate': 0.1881047785252055, 'n_estimators': 688, 'max_depth': 6, 'min_child_weight': 2, 'subsample': 0.7565600812070941, 'colsample_bytree': 0.7328888707099995, 'reg_alpha': 0.1212517505015055, 'reg_lambda': 79.06401416935915}. Best is trial 34 with value: 0.8342657342657344.\n",
      "[I 2024-03-12 18:42:11,603] Trial 40 finished with value: 0.814586821629075 and parameters: {'learning_rate': 0.07503024433557523, 'n_estimators': 615, 'max_depth': 7, 'min_child_weight': 5, 'subsample': 0.5815131563664375, 'colsample_bytree': 0.5614310922472561, 'reg_alpha': 0.21546422187413844, 'reg_lambda': 45.22636625978337}. Best is trial 34 with value: 0.8342657342657344.\n",
      "[I 2024-03-12 18:42:13,622] Trial 41 finished with value: 0.8216093765389539 and parameters: {'learning_rate': 0.04411375368456367, 'n_estimators': 769, 'max_depth': 6, 'min_child_weight': 4, 'subsample': 0.730632347250534, 'colsample_bytree': 0.6347783896881405, 'reg_alpha': 0.469542621444377, 'reg_lambda': 92.3110974279876}. Best is trial 34 with value: 0.8342657342657344.\n",
      "[I 2024-03-12 18:42:15,236] Trial 42 finished with value: 0.832837584950261 and parameters: {'learning_rate': 0.10452199885982769, 'n_estimators': 555, 'max_depth': 7, 'min_child_weight': 3, 'subsample': 0.7824791443412382, 'colsample_bytree': 0.691544268692299, 'reg_alpha': 0.40440031539084026, 'reg_lambda': 84.96213049782139}. Best is trial 34 with value: 0.8342657342657344.\n",
      "[I 2024-03-12 18:42:16,872] Trial 43 finished with value: 0.8258150300403821 and parameters: {'learning_rate': 0.13103400903407972, 'n_estimators': 538, 'max_depth': 7, 'min_child_weight': 3, 'subsample': 0.7833446861281271, 'colsample_bytree': 0.7011158302397021, 'reg_alpha': 0.2980540357776904, 'reg_lambda': 83.45319580025652}. Best is trial 34 with value: 0.8342657342657344.\n",
      "[I 2024-03-12 18:42:18,155] Trial 44 finished with value: 0.8356446370530879 and parameters: {'learning_rate': 0.14726907732045363, 'n_estimators': 448, 'max_depth': 6, 'min_child_weight': 3, 'subsample': 0.688630720853024, 'colsample_bytree': 0.5852534505966063, 'reg_alpha': 0.33122358675211105, 'reg_lambda': 67.7056621126361}. Best is trial 44 with value: 0.8356446370530879.\n",
      "[I 2024-03-12 18:42:19,415] Trial 45 finished with value: 0.8328671328671329 and parameters: {'learning_rate': 0.1422517858774174, 'n_estimators': 432, 'max_depth': 5, 'min_child_weight': 1, 'subsample': 0.6918983090901203, 'colsample_bytree': 0.5827821385393039, 'reg_alpha': 0.31946451473509085, 'reg_lambda': 68.1140671383883}. Best is trial 44 with value: 0.8356446370530879.\n",
      "[I 2024-03-12 18:42:20,595] Trial 46 finished with value: 0.8272530286614794 and parameters: {'learning_rate': 0.1543914072897164, 'n_estimators': 379, 'max_depth': 5, 'min_child_weight': 1, 'subsample': 0.6900917780711353, 'colsample_bytree': 0.5844308965853179, 'reg_alpha': 0.5185773530807402, 'reg_lambda': 55.87169073084031}. Best is trial 44 with value: 0.8356446370530879.\n",
      "[I 2024-03-12 18:42:21,503] Trial 47 finished with value: 0.8103614695163991 and parameters: {'learning_rate': 0.1446395830141202, 'n_estimators': 356, 'max_depth': 4, 'min_child_weight': 6, 'subsample': 0.694390037636595, 'colsample_bytree': 0.5933255489205804, 'reg_alpha': 0.3262898661349798, 'reg_lambda': 66.71517678253564}. Best is trial 44 with value: 0.8356446370530879.\n",
      "[I 2024-03-12 18:42:22,619] Trial 48 finished with value: 0.8300305328474342 and parameters: {'learning_rate': 0.20050702175293103, 'n_estimators': 474, 'max_depth': 3, 'min_child_weight': 1, 'subsample': 0.6479773337108616, 'colsample_bytree': 0.5318678952482738, 'reg_alpha': 0.40803022495215036, 'reg_lambda': 58.71811675045841}. Best is trial 44 with value: 0.8356446370530879.\n",
      "[I 2024-03-12 18:42:24,161] Trial 49 finished with value: 0.8286417807544568 and parameters: {'learning_rate': 0.1053164665139665, 'n_estimators': 556, 'max_depth': 5, 'min_child_weight': 2, 'subsample': 0.6657842269386676, 'colsample_bytree': 0.5685949209484557, 'reg_alpha': 0.2841008409577974, 'reg_lambda': 45.421883239051695}. Best is trial 44 with value: 0.8356446370530879.\n",
      "[I 2024-03-12 18:42:25,310] Trial 50 finished with value: 0.8300403821530583 and parameters: {'learning_rate': 0.17584089884466822, 'n_estimators': 401, 'max_depth': 6, 'min_child_weight': 3, 'subsample': 0.6338101159434886, 'colsample_bytree': 0.574511959675839, 'reg_alpha': 0.3496854100283681, 'reg_lambda': 67.63934583094692}. Best is trial 44 with value: 0.8356446370530879.\n",
      "[I 2024-03-12 18:42:26,919] Trial 51 finished with value: 0.8188121737417513 and parameters: {'learning_rate': 0.22241597662016044, 'n_estimators': 517, 'max_depth': 6, 'min_child_weight': 2, 'subsample': 0.7550402485693386, 'colsample_bytree': 0.7322324308944853, 'reg_alpha': 0.2324655736055079, 'reg_lambda': 74.23596226097155}. Best is trial 44 with value: 0.8356446370530879.\n",
      "[I 2024-03-12 18:42:27,877] Trial 52 finished with value: 0.8272234807446075 and parameters: {'learning_rate': 0.1247939152955871, 'n_estimators': 335, 'max_depth': 4, 'min_child_weight': 2, 'subsample': 0.704596108251769, 'colsample_bytree': 0.6635518089622525, 'reg_alpha': 0.2806825023694456, 'reg_lambda': 35.14947975509881}. Best is trial 44 with value: 0.8356446370530879.\n",
      "[I 2024-03-12 18:42:29,398] Trial 53 finished with value: 0.8314488328572835 and parameters: {'learning_rate': 0.11322060025263954, 'n_estimators': 474, 'max_depth': 6, 'min_child_weight': 1, 'subsample': 0.7374061463210695, 'colsample_bytree': 0.6879237723536004, 'reg_alpha': 0.4094689699240532, 'reg_lambda': 94.60710683195352}. Best is trial 44 with value: 0.8356446370530879.\n",
      "[I 2024-03-12 18:42:30,825] Trial 54 finished with value: 0.8342558849601105 and parameters: {'learning_rate': 0.11432049417338219, 'n_estimators': 458, 'max_depth': 5, 'min_child_weight': 1, 'subsample': 0.7382339735478843, 'colsample_bytree': 0.9964078065906434, 'reg_alpha': 0.4742319280507494, 'reg_lambda': 95.17468638427736}. Best is trial 44 with value: 0.8356446370530879.\n",
      "[I 2024-03-12 18:42:32,262] Trial 55 finished with value: 0.8300403821530583 and parameters: {'learning_rate': 0.11573901771628847, 'n_estimators': 461, 'max_depth': 5, 'min_child_weight': 1, 'subsample': 0.7389958826059502, 'colsample_bytree': 0.9771982711392283, 'reg_alpha': 0.49767245209526567, 'reg_lambda': 95.71459952950755}. Best is trial 44 with value: 0.8356446370530879.\n",
      "[I 2024-03-12 18:42:34,199] Trial 56 finished with value: 0.8300403821530582 and parameters: {'learning_rate': 0.1406802398167515, 'n_estimators': 566, 'max_depth': 6, 'min_child_weight': 1, 'subsample': 0.8102727487469931, 'colsample_bytree': 0.9135921364612354, 'reg_alpha': 0.6225987291540802, 'reg_lambda': 96.39944200455633}. Best is trial 44 with value: 0.8356446370530879.\n",
      "[I 2024-03-12 18:42:35,426] Trial 57 finished with value: 0.8272234807446075 and parameters: {'learning_rate': 0.08424728062884031, 'n_estimators': 427, 'max_depth': 4, 'min_child_weight': 1, 'subsample': 0.791075601694235, 'colsample_bytree': 0.9284297228256265, 'reg_alpha': 0.38997859529986567, 'reg_lambda': 89.75428691419935}. Best is trial 44 with value: 0.8356446370530879.\n",
      "[I 2024-03-12 18:42:36,406] Trial 58 finished with value: 0.8272234807446075 and parameters: {'learning_rate': 0.10700794329561567, 'n_estimators': 297, 'max_depth': 5, 'min_child_weight': 1, 'subsample': 0.7672302973584695, 'colsample_bytree': 0.6844328919224983, 'reg_alpha': 0.4819408609782343, 'reg_lambda': 99.79227124348296}. Best is trial 44 with value: 0.8356446370530879.\n",
      "[I 2024-03-12 18:42:37,762] Trial 59 finished with value: 0.8314192849404117 and parameters: {'learning_rate': 0.16059312161876665, 'n_estimators': 477, 'max_depth': 5, 'min_child_weight': 2, 'subsample': 0.6738978841255329, 'colsample_bytree': 0.5227406798023189, 'reg_alpha': 0.5772654740361585, 'reg_lambda': 86.11497162245502}. Best is trial 44 with value: 0.8356446370530879.\n",
      "[I 2024-03-12 18:42:39,572] Trial 60 finished with value: 0.8286516300600809 and parameters: {'learning_rate': 0.15281842416967073, 'n_estimators': 523, 'max_depth': 7, 'min_child_weight': 1, 'subsample': 0.737933294938214, 'colsample_bytree': 0.7891864124028455, 'reg_alpha': 0.6658056855770766, 'reg_lambda': 94.11192902319942}. Best is trial 44 with value: 0.8356446370530879.\n",
      "[I 2024-03-12 18:42:41,165] Trial 61 finished with value: 0.8173840244262779 and parameters: {'learning_rate': 0.09754243885637714, 'n_estimators': 611, 'max_depth': 6, 'min_child_weight': 5, 'subsample': 0.7074035005862543, 'colsample_bytree': 0.6277276420305865, 'reg_alpha': 0.4127867693955722, 'reg_lambda': 78.60813979930109}. Best is trial 44 with value: 0.8356446370530879.\n",
      "[I 2024-03-12 18:42:42,854] Trial 62 finished with value: 0.8342558849601103 and parameters: {'learning_rate': 0.0833840495811678, 'n_estimators': 493, 'max_depth': 5, 'min_child_weight': 3, 'subsample': 0.7641975400923522, 'colsample_bytree': 0.5502657641673251, 'reg_alpha': 0.44428623485590407, 'reg_lambda': 60.49022899851641}. Best is trial 44 with value: 0.8356446370530879.\n",
      "[I 2024-03-12 18:42:44,649] Trial 63 finished with value: 0.8314488328572835 and parameters: {'learning_rate': 0.12243643854279421, 'n_estimators': 490, 'max_depth': 5, 'min_child_weight': 2, 'subsample': 0.7738884381293811, 'colsample_bytree': 0.5521724458003355, 'reg_alpha': 0.4480171260635923, 'reg_lambda': 70.37637048829703}. Best is trial 44 with value: 0.8356446370530879.\n",
      "[I 2024-03-12 18:42:45,996] Trial 64 finished with value: 0.828631931448833 and parameters: {'learning_rate': 0.13763990989765607, 'n_estimators': 437, 'max_depth': 5, 'min_child_weight': 3, 'subsample': 0.7569157395422524, 'colsample_bytree': 0.5098450758347853, 'reg_alpha': 0.3677262160249452, 'reg_lambda': 60.857811324509726}. Best is trial 44 with value: 0.8356446370530879.\n",
      "[I 2024-03-12 18:42:46,955] Trial 65 finished with value: 0.8272333300502315 and parameters: {'learning_rate': 0.08290709105372905, 'n_estimators': 249, 'max_depth': 6, 'min_child_weight': 2, 'subsample': 0.8226229825280593, 'colsample_bytree': 0.5783920995871461, 'reg_alpha': 0.5176095668274213, 'reg_lambda': 83.157367922218}. Best is trial 44 with value: 0.8356446370530879.\n",
      "[I 2024-03-12 18:42:48,643] Trial 66 finished with value: 0.8314389835516597 and parameters: {'learning_rate': 0.1160675391801493, 'n_estimators': 389, 'max_depth': 6, 'min_child_weight': 1, 'subsample': 0.723862958498312, 'colsample_bytree': 0.6036893882708787, 'reg_alpha': 0.33387150185696646, 'reg_lambda': 54.840083653291586}. Best is trial 44 with value: 0.8356446370530879.\n",
      "[I 2024-03-12 18:42:50,358] Trial 67 finished with value: 0.8033684625233921 and parameters: {'learning_rate': 0.07034509540117632, 'n_estimators': 580, 'max_depth': 5, 'min_child_weight': 9, 'subsample': 0.7382852002906615, 'colsample_bytree': 0.5524615339602561, 'reg_alpha': 0.43176314333981103, 'reg_lambda': 90.74798229701871}. Best is trial 44 with value: 0.8356446370530879.\n",
      "[I 2024-03-12 18:42:51,449] Trial 68 finished with value: 0.825824879346006 and parameters: {'learning_rate': 0.17345808534016174, 'n_estimators': 354, 'max_depth': 7, 'min_child_weight': 3, 'subsample': 0.7997320314796504, 'colsample_bytree': 0.7539852743862463, 'reg_alpha': 0.5424161445188443, 'reg_lambda': 96.83527754287482}. Best is trial 44 with value: 0.8356446370530879.\n",
      "[I 2024-03-12 18:42:52,886] Trial 69 finished with value: 0.8300403821530582 and parameters: {'learning_rate': 0.10481238073788075, 'n_estimators': 452, 'max_depth': 4, 'min_child_weight': 2, 'subsample': 0.7684200209071995, 'colsample_bytree': 0.6620820159119787, 'reg_alpha': 0.9125343760796101, 'reg_lambda': 87.84144369617863}. Best is trial 44 with value: 0.8356446370530879.\n",
      "[I 2024-03-12 18:42:55,775] Trial 70 finished with value: 0.8300403821530582 and parameters: {'learning_rate': 0.08928189364920787, 'n_estimators': 634, 'max_depth': 6, 'min_child_weight': 1, 'subsample': 0.843890030359169, 'colsample_bytree': 0.6913938637173266, 'reg_alpha': 0.39882627447825403, 'reg_lambda': 75.83647410911223}. Best is trial 44 with value: 0.8356446370530879.\n",
      "[I 2024-03-12 18:42:57,558] Trial 71 finished with value: 0.8286220821432089 and parameters: {'learning_rate': 0.12364047754224244, 'n_estimators': 492, 'max_depth': 5, 'min_child_weight': 2, 'subsample': 0.7806881610609488, 'colsample_bytree': 0.5500925317365973, 'reg_alpha': 0.44668463656343815, 'reg_lambda': 68.81219955741604}. Best is trial 44 with value: 0.8356446370530879.\n",
      "[I 2024-03-12 18:42:59,753] Trial 72 finished with value: 0.8328277356446371 and parameters: {'learning_rate': 0.11544659945585577, 'n_estimators': 547, 'max_depth': 5, 'min_child_weight': 2, 'subsample': 0.8076206543340159, 'colsample_bytree': 0.5295424131028511, 'reg_alpha': 0.45324224744463754, 'reg_lambda': 72.88317736088999}. Best is trial 44 with value: 0.8356446370530879.\n",
      "[I 2024-03-12 18:43:01,419] Trial 73 finished with value: 0.8328178863390132 and parameters: {'learning_rate': 0.1105769150089373, 'n_estimators': 534, 'max_depth': 5, 'min_child_weight': 3, 'subsample': 0.8161871397758381, 'colsample_bytree': 0.5307484772465887, 'reg_alpha': 0.5005134520864956, 'reg_lambda': 60.82565160427615}. Best is trial 44 with value: 0.8356446370530879.\n",
      "[I 2024-03-12 18:43:03,088] Trial 74 finished with value: 0.8272037821333595 and parameters: {'learning_rate': 0.13218757515948826, 'n_estimators': 547, 'max_depth': 5, 'min_child_weight': 3, 'subsample': 0.8105361105580831, 'colsample_bytree': 0.5034530168090267, 'reg_alpha': 0.4838615062732307, 'reg_lambda': 71.93774734003895}. Best is trial 44 with value: 0.8356446370530879.\n",
      "[I 2024-03-12 18:43:04,748] Trial 75 finished with value: 0.8300502314586822 and parameters: {'learning_rate': 0.06752980478241626, 'n_estimators': 525, 'max_depth': 5, 'min_child_weight': 3, 'subsample': 0.8435836104645592, 'colsample_bytree': 0.526138281762731, 'reg_alpha': 0.7022719493777999, 'reg_lambda': 53.227609311241245}. Best is trial 44 with value: 0.8356446370530879.\n",
      "[I 2024-03-12 18:43:06,841] Trial 76 finished with value: 0.8314389835516597 and parameters: {'learning_rate': 0.0996737569362943, 'n_estimators': 568, 'max_depth': 4, 'min_child_weight': 2, 'subsample': 0.8765258907713429, 'colsample_bytree': 0.5326097743206145, 'reg_alpha': 0.5699707964641028, 'reg_lambda': 59.40085779735939}. Best is trial 44 with value: 0.8356446370530879.\n",
      "[I 2024-03-12 18:43:08,181] Trial 77 finished with value: 0.8202009258347287 and parameters: {'learning_rate': 0.252873319571978, 'n_estimators': 505, 'max_depth': 4, 'min_child_weight': 3, 'subsample': 0.6773363409045928, 'colsample_bytree': 0.5909792406339627, 'reg_alpha': 0.305140527066976, 'reg_lambda': 63.018458682574945}. Best is trial 44 with value: 0.8356446370530879.\n",
      "[I 2024-03-12 18:43:10,154] Trial 78 finished with value: 0.8272234807446075 and parameters: {'learning_rate': 0.14962784104912175, 'n_estimators': 678, 'max_depth': 5, 'min_child_weight': 4, 'subsample': 0.751216011080252, 'colsample_bytree': 0.562042536874841, 'reg_alpha': 0.46376260926708224, 'reg_lambda': 65.83578683044108}. Best is trial 44 with value: 0.8356446370530879.\n",
      "[I 2024-03-12 18:43:12,233] Trial 79 finished with value: 0.8300403821530583 and parameters: {'learning_rate': 0.08343814089858693, 'n_estimators': 638, 'max_depth': 5, 'min_child_weight': 3, 'subsample': 0.6572423075761001, 'colsample_bytree': 0.5179379945112901, 'reg_alpha': 0.5138448469536872, 'reg_lambda': 79.9286224599684}. Best is trial 44 with value: 0.8356446370530879.\n",
      "[I 2024-03-12 18:43:13,743] Trial 80 finished with value: 0.8286417807544566 and parameters: {'learning_rate': 0.13601760245118577, 'n_estimators': 406, 'max_depth': 5, 'min_child_weight': 2, 'subsample': 0.7879300203320538, 'colsample_bytree': 0.5404031143581886, 'reg_alpha': 0.3503777044204108, 'reg_lambda': 48.274962565562625}. Best is trial 44 with value: 0.8356446370530879.\n",
      "[I 2024-03-12 18:43:15,304] Trial 81 finished with value: 0.8286220821432089 and parameters: {'learning_rate': 0.11150843286629661, 'n_estimators': 461, 'max_depth': 6, 'min_child_weight': 1, 'subsample': 0.8154546003118472, 'colsample_bytree': 0.6141674534318458, 'reg_alpha': 0.3709520057416057, 'reg_lambda': 60.743268831101915}. Best is trial 44 with value: 0.8356446370530879.\n",
      "[I 2024-03-12 18:43:17,199] Trial 82 finished with value: 0.8272234807446075 and parameters: {'learning_rate': 0.12011445845074395, 'n_estimators': 542, 'max_depth': 6, 'min_child_weight': 1, 'subsample': 0.7170457861780191, 'colsample_bytree': 0.7206213942427131, 'reg_alpha': 0.42055350646784384, 'reg_lambda': 84.61159251058483}. Best is trial 44 with value: 0.8356446370530879.\n",
      "[I 2024-03-12 18:43:18,540] Trial 83 finished with value: 0.8286319314488327 and parameters: {'learning_rate': 0.10201026217199216, 'n_estimators': 422, 'max_depth': 7, 'min_child_weight': 2, 'subsample': 0.7063416875187793, 'colsample_bytree': 0.8841228319673449, 'reg_alpha': 0.3895045193362943, 'reg_lambda': 92.20531025518193}. Best is trial 44 with value: 0.8356446370530879.\n",
      "[I 2024-03-12 18:43:20,405] Trial 84 finished with value: 0.8300502314586822 and parameters: {'learning_rate': 0.09264995704002028, 'n_estimators': 594, 'max_depth': 6, 'min_child_weight': 1, 'subsample': 0.7449926512257418, 'colsample_bytree': 0.5861002256463489, 'reg_alpha': 0.4695344696946554, 'reg_lambda': 71.43706536429357}. Best is trial 44 with value: 0.8356446370530879.\n",
      "[I 2024-03-12 18:43:21,859] Trial 85 finished with value: 0.8230178272431793 and parameters: {'learning_rate': 0.0769803810245709, 'n_estimators': 491, 'max_depth': 5, 'min_child_weight': 3, 'subsample': 0.7615412323961994, 'colsample_bytree': 0.9961206379844464, 'reg_alpha': 0.31928279838637963, 'reg_lambda': 63.38921656604063}. Best is trial 44 with value: 0.8356446370530879.\n",
      "[I 2024-03-12 18:43:23,250] Trial 86 finished with value: 0.8300502314586822 and parameters: {'learning_rate': 0.11313810820651775, 'n_estimators': 446, 'max_depth': 6, 'min_child_weight': 4, 'subsample': 0.8027279312859362, 'colsample_bytree': 0.5657384361725833, 'reg_alpha': 0.543116833809562, 'reg_lambda': 76.53947161223596}. Best is trial 44 with value: 0.8356446370530879.\n",
      "[I 2024-03-12 18:43:25,408] Trial 87 finished with value: 0.8202206244459767 and parameters: {'learning_rate': 0.1664129159123312, 'n_estimators': 536, 'max_depth': 7, 'min_child_weight': 1, 'subsample': 0.7318048685872152, 'colsample_bytree': 0.649878779982924, 'reg_alpha': 0.19269738674951864, 'reg_lambda': 57.25317280431433}. Best is trial 44 with value: 0.8356446370530879.\n",
      "[I 2024-03-12 18:43:26,616] Trial 88 finished with value: 0.8272530286614794 and parameters: {'learning_rate': 0.1260106605176065, 'n_estimators': 323, 'max_depth': 5, 'min_child_weight': 2, 'subsample': 0.835196399849295, 'colsample_bytree': 0.541030994462628, 'reg_alpha': 0.49554660730481187, 'reg_lambda': 97.65785496230359}. Best is trial 44 with value: 0.8356446370530879.\n",
      "[I 2024-03-12 18:43:27,956] Trial 89 finished with value: 0.8117896188318723 and parameters: {'learning_rate': 0.11073364082311431, 'n_estimators': 374, 'max_depth': 6, 'min_child_weight': 7, 'subsample': 0.682923700928805, 'colsample_bytree': 0.6007510264846719, 'reg_alpha': 0.28206319390737955, 'reg_lambda': 81.42176450678188}. Best is trial 44 with value: 0.8356446370530879.\n",
      "[I 2024-03-12 18:43:29,809] Trial 90 finished with value: 0.8286220821432089 and parameters: {'learning_rate': 0.14455524250107804, 'n_estimators': 577, 'max_depth': 5, 'min_child_weight': 1, 'subsample': 0.7751859928698274, 'colsample_bytree': 0.745004237981541, 'reg_alpha': 0.34458137608990147, 'reg_lambda': 94.49013128116427}. Best is trial 44 with value: 0.8356446370530879.\n",
      "[I 2024-03-12 18:43:31,322] Trial 91 finished with value: 0.832837584950261 and parameters: {'learning_rate': 0.12174768417504528, 'n_estimators': 474, 'max_depth': 5, 'min_child_weight': 2, 'subsample': 0.7720495270170648, 'colsample_bytree': 0.5536154346548076, 'reg_alpha': 0.44597153381065247, 'reg_lambda': 68.15936157093401}. Best is trial 44 with value: 0.8356446370530879.\n",
      "[I 2024-03-12 18:43:32,596] Trial 92 finished with value: 0.8272431793558553 and parameters: {'learning_rate': 0.09079363840293468, 'n_estimators': 472, 'max_depth': 4, 'min_child_weight': 2, 'subsample': 0.7958820678067127, 'colsample_bytree': 0.5024929021274038, 'reg_alpha': 0.4214813210893372, 'reg_lambda': 17.279554217243856}. Best is trial 44 with value: 0.8356446370530879.\n",
      "[I 2024-03-12 18:43:34,189] Trial 93 finished with value: 0.8258347286516301 and parameters: {'learning_rate': 0.1355586506220442, 'n_estimators': 509, 'max_depth': 5, 'min_child_weight': 1, 'subsample': 0.7481459013542631, 'colsample_bytree': 0.5757084333304628, 'reg_alpha': 0.4597135945278156, 'reg_lambda': 66.64307316932832}. Best is trial 44 with value: 0.8356446370530879.\n",
      "[I 2024-03-12 18:43:35,596] Trial 94 finished with value: 0.8286220821432089 and parameters: {'learning_rate': 0.11991987801022425, 'n_estimators': 410, 'max_depth': 5, 'min_child_weight': 3, 'subsample': 0.7843859106066412, 'colsample_bytree': 0.8313175467669682, 'reg_alpha': 0.3816733340596666, 'reg_lambda': 72.62394583079805}. Best is trial 44 with value: 0.8356446370530879.\n",
      "[I 2024-03-12 18:43:37,057] Trial 95 finished with value: 0.8272234807446075 and parameters: {'learning_rate': 0.1082509591326586, 'n_estimators': 553, 'max_depth': 3, 'min_child_weight': 4, 'subsample': 0.7270547678121527, 'colsample_bytree': 0.549229967451147, 'reg_alpha': 0.43636722736622413, 'reg_lambda': 68.228035455023}. Best is trial 44 with value: 0.8356446370530879.\n",
      "[I 2024-03-12 18:43:39,064] Trial 96 finished with value: 0.8286417807544568 and parameters: {'learning_rate': 0.09988211403175332, 'n_estimators': 622, 'max_depth': 5, 'min_child_weight': 2, 'subsample': 0.6987188014470889, 'colsample_bytree': 0.5192899743213591, 'reg_alpha': 0.5985137455994636, 'reg_lambda': 87.3417712486627}. Best is trial 44 with value: 0.8356446370530879.\n",
      "[I 2024-03-12 18:43:40,678] Trial 97 finished with value: 0.8272333300502315 and parameters: {'learning_rate': 0.128916097408219, 'n_estimators': 439, 'max_depth': 6, 'min_child_weight': 1, 'subsample': 0.7657510340806001, 'colsample_bytree': 0.6224063988655147, 'reg_alpha': 0.4017505160936171, 'reg_lambda': 74.82373607250423}. Best is trial 44 with value: 0.8356446370530879.\n",
      "[I 2024-03-12 18:43:42,507] Trial 98 finished with value: 0.8314389835516597 and parameters: {'learning_rate': 0.14838702214284624, 'n_estimators': 523, 'max_depth': 6, 'min_child_weight': 3, 'subsample': 0.8195205964352431, 'colsample_bytree': 0.5320019388610917, 'reg_alpha': 0.5030913968562515, 'reg_lambda': 90.12345793191464}. Best is trial 44 with value: 0.8356446370530879.\n",
      "[I 2024-03-12 18:43:43,896] Trial 99 finished with value: 0.8314389835516597 and parameters: {'learning_rate': 0.11734918908526584, 'n_estimators': 476, 'max_depth': 4, 'min_child_weight': 2, 'subsample': 0.804890001884424, 'colsample_bytree': 0.5576733771238143, 'reg_alpha': 0.2640315448521676, 'reg_lambda': 78.10215345857102}. Best is trial 44 with value: 0.8356446370530879.\n"
     ]
    },
    {
     "name": "stdout",
     "output_type": "stream",
     "text": [
      "Number of finished trials: 100\n",
      "Best trial: {'learning_rate': 0.14726907732045363, 'n_estimators': 448, 'max_depth': 6, 'min_child_weight': 3, 'subsample': 0.688630720853024, 'colsample_bytree': 0.5852534505966063, 'reg_alpha': 0.33122358675211105, 'reg_lambda': 67.7056621126361}\n"
     ]
    }
   ],
   "source": [
    "study = opt.create_study(direction='maximize')\n",
    "study.optimize(objective, n_trials=100)\n",
    "\n",
    "print('Number of finished trials:', len(study.trials))\n",
    "print('Best trial:', study.best_trial.params)\n"
   ],
   "metadata": {
    "collapsed": false,
    "ExecuteTime": {
     "end_time": "2024-03-12T17:43:43.915032Z",
     "start_time": "2024-03-12T17:40:48.224203Z"
    }
   },
   "id": "95e1458faa254e3f",
   "execution_count": 48
  },
  {
   "cell_type": "code",
   "outputs": [
    {
     "name": "stdout",
     "output_type": "stream",
     "text": [
      "Best trial accuracy: 0.8356446370530879\n"
     ]
    }
   ],
   "source": [
    "best_trial = study.best_trial\n",
    "print(f\"Best trial accuracy: {best_trial.value}\")"
   ],
   "metadata": {
    "collapsed": false,
    "ExecuteTime": {
     "end_time": "2024-03-12T17:43:43.922550Z",
     "start_time": "2024-03-12T17:43:43.917088Z"
    }
   },
   "id": "e34bcdb79ff39629",
   "execution_count": 49
  },
  {
   "cell_type": "markdown",
   "source": [
    "### Generate Results"
   ],
   "metadata": {
    "collapsed": false
   },
   "id": "51110c2bfd963af1"
  },
  {
   "cell_type": "code",
   "outputs": [
    {
     "data": {
      "text/plain": "XGBClassifier(base_score=None, booster=None, callbacks=None,\n              colsample_bylevel=None, colsample_bynode=None,\n              colsample_bytree=0.5852534505966063, early_stopping_rounds=None,\n              enable_categorical=False, eval_metric=None, feature_types=None,\n              gamma=None, gpu_id=None, grow_policy=None, importance_type=None,\n              interaction_constraints=None, learning_rate=0.14726907732045363,\n              max_bin=None, max_cat_threshold=None, max_cat_to_onehot=None,\n              max_delta_step=None, max_depth=6, max_leaves=None,\n              min_child_weight=3, missing=nan, monotone_constraints=None,\n              n_estimators=448, n_jobs=None, num_parallel_tree=None,\n              predictor=None, random_state=None, ...)",
      "text/html": "<style>#sk-container-id-1 {color: black;}#sk-container-id-1 pre{padding: 0;}#sk-container-id-1 div.sk-toggleable {background-color: white;}#sk-container-id-1 label.sk-toggleable__label {cursor: pointer;display: block;width: 100%;margin-bottom: 0;padding: 0.3em;box-sizing: border-box;text-align: center;}#sk-container-id-1 label.sk-toggleable__label-arrow:before {content: \"▸\";float: left;margin-right: 0.25em;color: #696969;}#sk-container-id-1 label.sk-toggleable__label-arrow:hover:before {color: black;}#sk-container-id-1 div.sk-estimator:hover label.sk-toggleable__label-arrow:before {color: black;}#sk-container-id-1 div.sk-toggleable__content {max-height: 0;max-width: 0;overflow: hidden;text-align: left;background-color: #f0f8ff;}#sk-container-id-1 div.sk-toggleable__content pre {margin: 0.2em;color: black;border-radius: 0.25em;background-color: #f0f8ff;}#sk-container-id-1 input.sk-toggleable__control:checked~div.sk-toggleable__content {max-height: 200px;max-width: 100%;overflow: auto;}#sk-container-id-1 input.sk-toggleable__control:checked~label.sk-toggleable__label-arrow:before {content: \"▾\";}#sk-container-id-1 div.sk-estimator input.sk-toggleable__control:checked~label.sk-toggleable__label {background-color: #d4ebff;}#sk-container-id-1 div.sk-label input.sk-toggleable__control:checked~label.sk-toggleable__label {background-color: #d4ebff;}#sk-container-id-1 input.sk-hidden--visually {border: 0;clip: rect(1px 1px 1px 1px);clip: rect(1px, 1px, 1px, 1px);height: 1px;margin: -1px;overflow: hidden;padding: 0;position: absolute;width: 1px;}#sk-container-id-1 div.sk-estimator {font-family: monospace;background-color: #f0f8ff;border: 1px dotted black;border-radius: 0.25em;box-sizing: border-box;margin-bottom: 0.5em;}#sk-container-id-1 div.sk-estimator:hover {background-color: #d4ebff;}#sk-container-id-1 div.sk-parallel-item::after {content: \"\";width: 100%;border-bottom: 1px solid gray;flex-grow: 1;}#sk-container-id-1 div.sk-label:hover label.sk-toggleable__label {background-color: #d4ebff;}#sk-container-id-1 div.sk-serial::before {content: \"\";position: absolute;border-left: 1px solid gray;box-sizing: border-box;top: 0;bottom: 0;left: 50%;z-index: 0;}#sk-container-id-1 div.sk-serial {display: flex;flex-direction: column;align-items: center;background-color: white;padding-right: 0.2em;padding-left: 0.2em;position: relative;}#sk-container-id-1 div.sk-item {position: relative;z-index: 1;}#sk-container-id-1 div.sk-parallel {display: flex;align-items: stretch;justify-content: center;background-color: white;position: relative;}#sk-container-id-1 div.sk-item::before, #sk-container-id-1 div.sk-parallel-item::before {content: \"\";position: absolute;border-left: 1px solid gray;box-sizing: border-box;top: 0;bottom: 0;left: 50%;z-index: -1;}#sk-container-id-1 div.sk-parallel-item {display: flex;flex-direction: column;z-index: 1;position: relative;background-color: white;}#sk-container-id-1 div.sk-parallel-item:first-child::after {align-self: flex-end;width: 50%;}#sk-container-id-1 div.sk-parallel-item:last-child::after {align-self: flex-start;width: 50%;}#sk-container-id-1 div.sk-parallel-item:only-child::after {width: 0;}#sk-container-id-1 div.sk-dashed-wrapped {border: 1px dashed gray;margin: 0 0.4em 0.5em 0.4em;box-sizing: border-box;padding-bottom: 0.4em;background-color: white;}#sk-container-id-1 div.sk-label label {font-family: monospace;font-weight: bold;display: inline-block;line-height: 1.2em;}#sk-container-id-1 div.sk-label-container {text-align: center;}#sk-container-id-1 div.sk-container {/* jupyter's `normalize.less` sets `[hidden] { display: none; }` but bootstrap.min.css set `[hidden] { display: none !important; }` so we also need the `!important` here to be able to override the default hidden behavior on the sphinx rendered scikit-learn.org. See: https://github.com/scikit-learn/scikit-learn/issues/21755 */display: inline-block !important;position: relative;}#sk-container-id-1 div.sk-text-repr-fallback {display: none;}</style><div id=\"sk-container-id-1\" class=\"sk-top-container\"><div class=\"sk-text-repr-fallback\"><pre>XGBClassifier(base_score=None, booster=None, callbacks=None,\n              colsample_bylevel=None, colsample_bynode=None,\n              colsample_bytree=0.5852534505966063, early_stopping_rounds=None,\n              enable_categorical=False, eval_metric=None, feature_types=None,\n              gamma=None, gpu_id=None, grow_policy=None, importance_type=None,\n              interaction_constraints=None, learning_rate=0.14726907732045363,\n              max_bin=None, max_cat_threshold=None, max_cat_to_onehot=None,\n              max_delta_step=None, max_depth=6, max_leaves=None,\n              min_child_weight=3, missing=nan, monotone_constraints=None,\n              n_estimators=448, n_jobs=None, num_parallel_tree=None,\n              predictor=None, random_state=None, ...)</pre><b>In a Jupyter environment, please rerun this cell to show the HTML representation or trust the notebook. <br />On GitHub, the HTML representation is unable to render, please try loading this page with nbviewer.org.</b></div><div class=\"sk-container\" hidden><div class=\"sk-item\"><div class=\"sk-estimator sk-toggleable\"><input class=\"sk-toggleable__control sk-hidden--visually\" id=\"sk-estimator-id-1\" type=\"checkbox\" checked><label for=\"sk-estimator-id-1\" class=\"sk-toggleable__label sk-toggleable__label-arrow\">XGBClassifier</label><div class=\"sk-toggleable__content\"><pre>XGBClassifier(base_score=None, booster=None, callbacks=None,\n              colsample_bylevel=None, colsample_bynode=None,\n              colsample_bytree=0.5852534505966063, early_stopping_rounds=None,\n              enable_categorical=False, eval_metric=None, feature_types=None,\n              gamma=None, gpu_id=None, grow_policy=None, importance_type=None,\n              interaction_constraints=None, learning_rate=0.14726907732045363,\n              max_bin=None, max_cat_threshold=None, max_cat_to_onehot=None,\n              max_delta_step=None, max_depth=6, max_leaves=None,\n              min_child_weight=3, missing=nan, monotone_constraints=None,\n              n_estimators=448, n_jobs=None, num_parallel_tree=None,\n              predictor=None, random_state=None, ...)</pre></div></div></div></div></div>"
     },
     "execution_count": 50,
     "metadata": {},
     "output_type": "execute_result"
    }
   ],
   "source": [
    "xgb_classifier.set_params(**best_trial.params)\n",
    "xgb_classifier.fit(X_train, y_train)"
   ],
   "metadata": {
    "collapsed": false,
    "ExecuteTime": {
     "end_time": "2024-03-12T17:43:44.349237Z",
     "start_time": "2024-03-12T17:43:43.924061Z"
    }
   },
   "id": "b226ecb6aedbb097",
   "execution_count": 50
  },
  {
   "cell_type": "code",
   "outputs": [],
   "source": [
    "y_pred = xgb_classifier.predict(X_test)"
   ],
   "metadata": {
    "collapsed": false,
    "ExecuteTime": {
     "end_time": "2024-03-12T17:43:44.360006Z",
     "start_time": "2024-03-12T17:43:44.352494Z"
    }
   },
   "id": "f6fdd55ef8d83270",
   "execution_count": 51
  },
  {
   "cell_type": "code",
   "outputs": [
    {
     "name": "stdout",
     "output_type": "stream",
     "text": [
      "Accuracy: 0.77\n"
     ]
    }
   ],
   "source": [
    "accuracy = accuracy_score(y_test, y_pred)\n",
    "print(f\"Accuracy: {accuracy:.2f}\")"
   ],
   "metadata": {
    "collapsed": false,
    "ExecuteTime": {
     "end_time": "2024-03-12T17:43:44.376527Z",
     "start_time": "2024-03-12T17:43:44.361682Z"
    }
   },
   "id": "b9bd22a2528c3470",
   "execution_count": 52
  },
  {
   "cell_type": "code",
   "outputs": [],
   "source": [
    "submission_test = xgb_classifier.predict(to_test)\n",
    "submission_test = pd.Series(submission_test, to_test.index, name='Survived')\n",
    "# save submission\n",
    "#submission_test.to_csv('submission_test.csv') "
   ],
   "metadata": {
    "collapsed": false,
    "ExecuteTime": {
     "end_time": "2024-03-12T17:43:44.387350Z",
     "start_time": "2024-03-12T17:43:44.378682Z"
    }
   },
   "id": "d03f1dc12d6486a8",
   "execution_count": 53
  },
  {
   "cell_type": "code",
   "outputs": [
    {
     "name": "stdout",
     "output_type": "stream",
     "text": [
      "Accuracy Score: 0.7713567839195979\n"
     ]
    }
   ],
   "source": [
    "actual_data = pd.read_csv(\"test_results.csv\",index_col=\"PassengerId\")\n",
    "merged_df = pd.merge(actual_data, submission_test, on='PassengerId', suffixes=('_df1', '_df2'))\n",
    "# Step 3: Calculate accuracy score\n",
    "accuracy = accuracy_score(merged_df['survived'], merged_df['Survived'])\n",
    "\n",
    "print(f\"Accuracy Score: {accuracy}\")"
   ],
   "metadata": {
    "collapsed": false,
    "ExecuteTime": {
     "end_time": "2024-03-12T17:43:44.404801Z",
     "start_time": "2024-03-12T17:43:44.388459Z"
    }
   },
   "id": "1be59c9316f19d8e",
   "execution_count": 54
  },
  {
   "cell_type": "code",
   "outputs": [
    {
     "data": {
      "text/plain": "             survived  Survived\nPassengerId                    \n892               0.0         0\n892               0.0         0\n893               1.0         0\n894               0.0         0\n895               0.0         0\n...               ...       ...\n1305              0.0         0\n1306              1.0         0\n1307              0.0         0\n1308              0.0         0\n1309              1.0         0\n\n[398 rows x 2 columns]",
      "text/html": "<div>\n<style scoped>\n    .dataframe tbody tr th:only-of-type {\n        vertical-align: middle;\n    }\n\n    .dataframe tbody tr th {\n        vertical-align: top;\n    }\n\n    .dataframe thead th {\n        text-align: right;\n    }\n</style>\n<table border=\"1\" class=\"dataframe\">\n  <thead>\n    <tr style=\"text-align: right;\">\n      <th></th>\n      <th>survived</th>\n      <th>Survived</th>\n    </tr>\n    <tr>\n      <th>PassengerId</th>\n      <th></th>\n      <th></th>\n    </tr>\n  </thead>\n  <tbody>\n    <tr>\n      <th>892</th>\n      <td>0.0</td>\n      <td>0</td>\n    </tr>\n    <tr>\n      <th>892</th>\n      <td>0.0</td>\n      <td>0</td>\n    </tr>\n    <tr>\n      <th>893</th>\n      <td>1.0</td>\n      <td>0</td>\n    </tr>\n    <tr>\n      <th>894</th>\n      <td>0.0</td>\n      <td>0</td>\n    </tr>\n    <tr>\n      <th>895</th>\n      <td>0.0</td>\n      <td>0</td>\n    </tr>\n    <tr>\n      <th>...</th>\n      <td>...</td>\n      <td>...</td>\n    </tr>\n    <tr>\n      <th>1305</th>\n      <td>0.0</td>\n      <td>0</td>\n    </tr>\n    <tr>\n      <th>1306</th>\n      <td>1.0</td>\n      <td>0</td>\n    </tr>\n    <tr>\n      <th>1307</th>\n      <td>0.0</td>\n      <td>0</td>\n    </tr>\n    <tr>\n      <th>1308</th>\n      <td>0.0</td>\n      <td>0</td>\n    </tr>\n    <tr>\n      <th>1309</th>\n      <td>1.0</td>\n      <td>0</td>\n    </tr>\n  </tbody>\n</table>\n<p>398 rows × 2 columns</p>\n</div>"
     },
     "execution_count": 55,
     "metadata": {},
     "output_type": "execute_result"
    }
   ],
   "source": [
    "merged_df"
   ],
   "metadata": {
    "collapsed": false,
    "ExecuteTime": {
     "end_time": "2024-03-12T17:43:44.418760Z",
     "start_time": "2024-03-12T17:43:44.405906Z"
    }
   },
   "id": "aab968d9c72c9b24",
   "execution_count": 55
  },
  {
   "cell_type": "code",
   "outputs": [
    {
     "data": {
      "text/plain": "{'importances_mean': array([-0.00223464, -0.00670391,  0.00893855,  0.08715084,  0.00111732,\n        -0.00670391,  0.04581006,  0.00782123, -0.00782123, -0.01117318]),\n 'importances_std': array([0.01523819, 0.00651503, 0.01439564, 0.0139553 , 0.00651503,\n        0.00651503, 0.02813336, 0.01986189, 0.00757802, 0.00790063]),\n 'importances': array([[-0.01117318,  0.02234637,  0.00558659, -0.00558659, -0.02234637],\n        [-0.00558659, -0.01117318, -0.01675978,  0.        ,  0.        ],\n        [ 0.00558659,  0.02234637, -0.01675978,  0.02234637,  0.01117318],\n        [ 0.10055866,  0.06145251,  0.09497207,  0.09497207,  0.08379888],\n        [ 0.        ,  0.01117318, -0.00558659,  0.00558659, -0.00558659],\n        [-0.00558659, -0.01117318, -0.01675978,  0.        ,  0.        ],\n        [ 0.05586592,  0.0726257 , -0.00558659,  0.06703911,  0.03910615],\n        [-0.02234637,  0.01117318,  0.03351955,  0.02234637, -0.00558659],\n        [-0.00558659,  0.00558659, -0.01675978, -0.01117318, -0.01117318],\n        [-0.01117318, -0.02234637, -0.01675978,  0.        , -0.00558659]])}"
     },
     "execution_count": 67,
     "metadata": {},
     "output_type": "execute_result"
    }
   ],
   "source": [
    "results = permutation_importance(xgb_classifier, X_test, y_test, scoring='accuracy')\n",
    "results"
   ],
   "metadata": {
    "collapsed": false,
    "ExecuteTime": {
     "end_time": "2024-03-12T17:47:27.528400Z",
     "start_time": "2024-03-12T17:47:27.315503Z"
    }
   },
   "id": "8fbb228cd5973432",
   "execution_count": 67
  },
  {
   "cell_type": "code",
   "outputs": [
    {
     "data": {
      "text/plain": "<Figure size 640x480 with 1 Axes>",
      "image/png": "[encoded data removed]"
     },
     "metadata": {},
     "output_type": "display_data"
    }
   ],
   "source": [
    "importance = results.importances_mean\n",
    "std = results.importances_std\n",
    "\n",
    "features = X_train.columns\n",
    "sorted_idx = importance.argsort()\n",
    "\n",
    "plt.barh(range(len(sorted_idx)), importance[sorted_idx], xerr=std[sorted_idx], align='center')\n",
    "plt.yticks(range(len(sorted_idx)), [features[i] for i in sorted_idx])\n",
    "plt.xlabel(\"Permutation Importance\")\n",
    "plt.show()"
   ],
   "metadata": {
    "collapsed": false,
    "ExecuteTime": {
     "end_time": "2024-03-12T17:48:42.810430Z",
     "start_time": "2024-03-12T17:48:42.475405Z"
    }
   },
   "id": "8b2a03f876091fe5",
   "execution_count": 70
  },
  {
   "cell_type": "markdown",
   "source": [
    "## RandomForestClassifier"
   ],
   "metadata": {
    "collapsed": false
   },
   "id": "ab53aa8a3a177d5b"
  },
  {
   "cell_type": "code",
   "outputs": [],
   "source": [
    "from sklearn.ensemble import RandomForestClassifier\n",
    "\n",
    "\n",
    "def objective(trial):\n",
    "    param = {\n",
    "        'n_estimators': trial.suggest_int('n_estimators', 100, 1000),\n",
    "        'max_depth': trial.suggest_int('max_depth', 2, 32),\n",
    "        'min_samples_split': trial.suggest_int('min_samples_split', 2, 10),\n",
    "        'min_samples_leaf': trial.suggest_int('min_samples_leaf', 1, 10),\n",
    "        'max_features': trial.suggest_categorical('max_features', ['sqrt', 'log2', None]),\n",
    "        'bootstrap': trial.suggest_categorical('bootstrap', [True, False]),\n",
    "    }\n",
    "\n",
    "    model = RandomForestClassifier(**param, random_state=random_id)\n",
    "    model.fit(X_train, y_train)\n",
    "    preds = model.predict(X_test)\n",
    "    accuracy = accuracy_score(y_test, preds)\n",
    "    \n",
    "    return accuracy"
   ],
   "metadata": {
    "collapsed": false,
    "ExecuteTime": {
     "end_time": "2024-03-12T17:43:44.667858Z",
     "start_time": "2024-03-12T17:43:44.660121Z"
    }
   },
   "id": "d02c3644b61de1a1",
   "execution_count": 57
  },
  {
   "cell_type": "code",
   "outputs": [
    {
     "name": "stderr",
     "output_type": "stream",
     "text": [
      "[I 2024-03-12 18:43:44,685] A new study created in memory with name: no-name-31148744-2b54-4ea6-9ac8-2379880d5c78\n",
      "[I 2024-03-12 18:43:46,396] Trial 0 finished with value: 0.776536312849162 and parameters: {'n_estimators': 664, 'max_depth': 8, 'min_samples_split': 3, 'min_samples_leaf': 10, 'max_features': 'log2', 'bootstrap': False}. Best is trial 0 with value: 0.776536312849162.\n",
      "[I 2024-03-12 18:43:46,931] Trial 1 finished with value: 0.7877094972067039 and parameters: {'n_estimators': 186, 'max_depth': 23, 'min_samples_split': 4, 'min_samples_leaf': 10, 'max_features': 'sqrt', 'bootstrap': False}. Best is trial 1 with value: 0.7877094972067039.\n",
      "[I 2024-03-12 18:43:47,838] Trial 2 finished with value: 0.776536312849162 and parameters: {'n_estimators': 325, 'max_depth': 13, 'min_samples_split': 2, 'min_samples_leaf': 6, 'max_features': 'log2', 'bootstrap': True}. Best is trial 1 with value: 0.7877094972067039.\n",
      "[I 2024-03-12 18:43:52,928] Trial 3 finished with value: 0.7374301675977654 and parameters: {'n_estimators': 731, 'max_depth': 18, 'min_samples_split': 5, 'min_samples_leaf': 6, 'max_features': None, 'bootstrap': False}. Best is trial 1 with value: 0.7877094972067039.\n",
      "[I 2024-03-12 18:43:54,715] Trial 4 finished with value: 0.7318435754189944 and parameters: {'n_estimators': 217, 'max_depth': 32, 'min_samples_split': 10, 'min_samples_leaf': 2, 'max_features': None, 'bootstrap': False}. Best is trial 1 with value: 0.7877094972067039.\n",
      "[I 2024-03-12 18:43:55,293] Trial 5 finished with value: 0.776536312849162 and parameters: {'n_estimators': 175, 'max_depth': 28, 'min_samples_split': 8, 'min_samples_leaf': 5, 'max_features': 'log2', 'bootstrap': True}. Best is trial 1 with value: 0.7877094972067039.\n",
      "[I 2024-03-12 18:43:57,978] Trial 6 finished with value: 0.7877094972067039 and parameters: {'n_estimators': 962, 'max_depth': 27, 'min_samples_split': 4, 'min_samples_leaf': 6, 'max_features': 'log2', 'bootstrap': True}. Best is trial 1 with value: 0.7877094972067039.\n",
      "[I 2024-03-12 18:43:59,281] Trial 7 finished with value: 0.7821229050279329 and parameters: {'n_estimators': 404, 'max_depth': 18, 'min_samples_split': 3, 'min_samples_leaf': 1, 'max_features': 'sqrt', 'bootstrap': True}. Best is trial 1 with value: 0.7877094972067039.\n",
      "[I 2024-03-12 18:44:00,467] Trial 8 finished with value: 0.7653631284916201 and parameters: {'n_estimators': 306, 'max_depth': 5, 'min_samples_split': 4, 'min_samples_leaf': 2, 'max_features': None, 'bootstrap': True}. Best is trial 1 with value: 0.7877094972067039.\n",
      "[I 2024-03-12 18:44:01,916] Trial 9 finished with value: 0.7430167597765364 and parameters: {'n_estimators': 232, 'max_depth': 12, 'min_samples_split': 7, 'min_samples_leaf': 1, 'max_features': None, 'bootstrap': False}. Best is trial 1 with value: 0.7877094972067039.\n",
      "[I 2024-03-12 18:44:03,104] Trial 10 finished with value: 0.7821229050279329 and parameters: {'n_estimators': 489, 'max_depth': 23, 'min_samples_split': 6, 'min_samples_leaf': 10, 'max_features': 'sqrt', 'bootstrap': False}. Best is trial 1 with value: 0.7877094972067039.\n",
      "[I 2024-03-12 18:44:05,502] Trial 11 finished with value: 0.7877094972067039 and parameters: {'n_estimators': 978, 'max_depth': 24, 'min_samples_split': 5, 'min_samples_leaf': 8, 'max_features': 'sqrt', 'bootstrap': True}. Best is trial 1 with value: 0.7877094972067039.\n",
      "[I 2024-03-12 18:44:07,909] Trial 12 finished with value: 0.7877094972067039 and parameters: {'n_estimators': 955, 'max_depth': 24, 'min_samples_split': 4, 'min_samples_leaf': 8, 'max_features': 'sqrt', 'bootstrap': True}. Best is trial 1 with value: 0.7877094972067039.\n",
      "[I 2024-03-12 18:44:10,209] Trial 13 finished with value: 0.7821229050279329 and parameters: {'n_estimators': 806, 'max_depth': 32, 'min_samples_split': 2, 'min_samples_leaf': 4, 'max_features': 'log2', 'bootstrap': False}. Best is trial 1 with value: 0.7877094972067039.\n",
      "[I 2024-03-12 18:44:11,654] Trial 14 finished with value: 0.776536312849162 and parameters: {'n_estimators': 577, 'max_depth': 27, 'min_samples_split': 5, 'min_samples_leaf': 8, 'max_features': 'log2', 'bootstrap': False}. Best is trial 1 with value: 0.7877094972067039.\n",
      "[I 2024-03-12 18:44:13,956] Trial 15 finished with value: 0.776536312849162 and parameters: {'n_estimators': 830, 'max_depth': 21, 'min_samples_split': 7, 'min_samples_leaf': 4, 'max_features': 'sqrt', 'bootstrap': True}. Best is trial 1 with value: 0.7877094972067039.\n",
      "[I 2024-03-12 18:44:15,417] Trial 16 finished with value: 0.7877094972067039 and parameters: {'n_estimators': 522, 'max_depth': 28, 'min_samples_split': 4, 'min_samples_leaf': 9, 'max_features': 'log2', 'bootstrap': True}. Best is trial 1 with value: 0.7877094972067039.\n",
      "[I 2024-03-12 18:44:15,821] Trial 17 finished with value: 0.770949720670391 and parameters: {'n_estimators': 119, 'max_depth': 14, 'min_samples_split': 3, 'min_samples_leaf': 7, 'max_features': 'sqrt', 'bootstrap': False}. Best is trial 1 with value: 0.7877094972067039.\n",
      "[I 2024-03-12 18:44:16,996] Trial 18 finished with value: 0.7821229050279329 and parameters: {'n_estimators': 411, 'max_depth': 21, 'min_samples_split': 6, 'min_samples_leaf': 4, 'max_features': 'log2', 'bootstrap': True}. Best is trial 1 with value: 0.7877094972067039.\n",
      "[I 2024-03-12 18:44:18,815] Trial 19 finished with value: 0.770949720670391 and parameters: {'n_estimators': 656, 'max_depth': 27, 'min_samples_split': 9, 'min_samples_leaf': 7, 'max_features': 'sqrt', 'bootstrap': False}. Best is trial 1 with value: 0.7877094972067039.\n",
      "[I 2024-03-12 18:44:21,184] Trial 20 finished with value: 0.7821229050279329 and parameters: {'n_estimators': 880, 'max_depth': 16, 'min_samples_split': 4, 'min_samples_leaf': 9, 'max_features': 'sqrt', 'bootstrap': False}. Best is trial 1 with value: 0.7877094972067039.\n",
      "[I 2024-03-12 18:44:24,083] Trial 21 finished with value: 0.7877094972067039 and parameters: {'n_estimators': 982, 'max_depth': 24, 'min_samples_split': 5, 'min_samples_leaf': 8, 'max_features': 'sqrt', 'bootstrap': True}. Best is trial 1 with value: 0.7877094972067039.\n",
      "[I 2024-03-12 18:44:26,918] Trial 22 finished with value: 0.7877094972067039 and parameters: {'n_estimators': 900, 'max_depth': 20, 'min_samples_split': 5, 'min_samples_leaf': 9, 'max_features': 'sqrt', 'bootstrap': True}. Best is trial 1 with value: 0.7877094972067039.\n",
      "[I 2024-03-12 18:44:29,887] Trial 23 finished with value: 0.7821229050279329 and parameters: {'n_estimators': 997, 'max_depth': 25, 'min_samples_split': 7, 'min_samples_leaf': 7, 'max_features': 'sqrt', 'bootstrap': True}. Best is trial 1 with value: 0.7877094972067039.\n",
      "[I 2024-03-12 18:44:32,031] Trial 24 finished with value: 0.7821229050279329 and parameters: {'n_estimators': 732, 'max_depth': 28, 'min_samples_split': 6, 'min_samples_leaf': 10, 'max_features': 'sqrt', 'bootstrap': True}. Best is trial 1 with value: 0.7877094972067039.\n",
      "[I 2024-03-12 18:44:34,128] Trial 25 finished with value: 0.7821229050279329 and parameters: {'n_estimators': 788, 'max_depth': 22, 'min_samples_split': 3, 'min_samples_leaf': 5, 'max_features': 'log2', 'bootstrap': True}. Best is trial 1 with value: 0.7877094972067039.\n",
      "[I 2024-03-12 18:44:36,310] Trial 26 finished with value: 0.7877094972067039 and parameters: {'n_estimators': 901, 'max_depth': 30, 'min_samples_split': 4, 'min_samples_leaf': 9, 'max_features': 'sqrt', 'bootstrap': True}. Best is trial 1 with value: 0.7877094972067039.\n",
      "[I 2024-03-12 18:44:38,802] Trial 27 finished with value: 0.7877094972067039 and parameters: {'n_estimators': 935, 'max_depth': 25, 'min_samples_split': 6, 'min_samples_leaf': 8, 'max_features': 'sqrt', 'bootstrap': True}. Best is trial 1 with value: 0.7877094972067039.\n",
      "[I 2024-03-12 18:44:42,968] Trial 28 finished with value: 0.7374301675977654 and parameters: {'n_estimators': 632, 'max_depth': 19, 'min_samples_split': 5, 'min_samples_leaf': 6, 'max_features': None, 'bootstrap': False}. Best is trial 1 with value: 0.7877094972067039.\n",
      "[I 2024-03-12 18:44:44,924] Trial 29 finished with value: 0.7821229050279329 and parameters: {'n_estimators': 746, 'max_depth': 9, 'min_samples_split': 2, 'min_samples_leaf': 10, 'max_features': 'log2', 'bootstrap': False}. Best is trial 1 with value: 0.7877094972067039.\n",
      "[I 2024-03-12 18:44:47,648] Trial 30 finished with value: 0.776536312849162 and parameters: {'n_estimators': 862, 'max_depth': 16, 'min_samples_split': 3, 'min_samples_leaf': 7, 'max_features': 'log2', 'bootstrap': True}. Best is trial 1 with value: 0.7877094972067039.\n",
      "[I 2024-03-12 18:44:50,493] Trial 31 finished with value: 0.7877094972067039 and parameters: {'n_estimators': 950, 'max_depth': 25, 'min_samples_split': 4, 'min_samples_leaf': 8, 'max_features': 'sqrt', 'bootstrap': True}. Best is trial 1 with value: 0.7877094972067039.\n",
      "[I 2024-03-12 18:44:52,902] Trial 32 finished with value: 0.7877094972067039 and parameters: {'n_estimators': 956, 'max_depth': 23, 'min_samples_split': 4, 'min_samples_leaf': 10, 'max_features': 'sqrt', 'bootstrap': True}. Best is trial 1 with value: 0.7877094972067039.\n",
      "[I 2024-03-12 18:44:55,103] Trial 33 finished with value: 0.7877094972067039 and parameters: {'n_estimators': 838, 'max_depth': 30, 'min_samples_split': 5, 'min_samples_leaf': 8, 'max_features': 'sqrt', 'bootstrap': True}. Best is trial 1 with value: 0.7877094972067039.\n",
      "[I 2024-03-12 18:44:57,586] Trial 34 finished with value: 0.7877094972067039 and parameters: {'n_estimators': 924, 'max_depth': 25, 'min_samples_split': 4, 'min_samples_leaf': 6, 'max_features': 'sqrt', 'bootstrap': True}. Best is trial 1 with value: 0.7877094972067039.\n",
      "[I 2024-03-12 18:44:59,946] Trial 35 finished with value: 0.7541899441340782 and parameters: {'n_estimators': 441, 'max_depth': 29, 'min_samples_split': 2, 'min_samples_leaf': 9, 'max_features': None, 'bootstrap': True}. Best is trial 1 with value: 0.7877094972067039.\n",
      "[I 2024-03-12 18:45:02,672] Trial 36 finished with value: 0.7821229050279329 and parameters: {'n_estimators': 998, 'max_depth': 26, 'min_samples_split': 3, 'min_samples_leaf': 5, 'max_features': 'log2', 'bootstrap': True}. Best is trial 1 with value: 0.7877094972067039.\n",
      "[I 2024-03-12 18:45:03,549] Trial 37 finished with value: 0.7653631284916201 and parameters: {'n_estimators': 318, 'max_depth': 23, 'min_samples_split': 5, 'min_samples_leaf': 6, 'max_features': 'sqrt', 'bootstrap': False}. Best is trial 1 with value: 0.7877094972067039.\n",
      "[I 2024-03-12 18:45:05,524] Trial 38 finished with value: 0.776536312849162 and parameters: {'n_estimators': 773, 'max_depth': 18, 'min_samples_split': 3, 'min_samples_leaf': 7, 'max_features': 'sqrt', 'bootstrap': True}. Best is trial 1 with value: 0.7877094972067039.\n",
      "[I 2024-03-12 18:45:10,886] Trial 39 finished with value: 0.7541899441340782 and parameters: {'n_estimators': 694, 'max_depth': 20, 'min_samples_split': 4, 'min_samples_leaf': 3, 'max_features': None, 'bootstrap': False}. Best is trial 1 with value: 0.7877094972067039.\n",
      "[I 2024-03-12 18:45:12,524] Trial 40 finished with value: 0.7877094972067039 and parameters: {'n_estimators': 573, 'max_depth': 30, 'min_samples_split': 5, 'min_samples_leaf': 10, 'max_features': 'log2', 'bootstrap': True}. Best is trial 1 with value: 0.7877094972067039.\n",
      "[I 2024-03-12 18:45:13,040] Trial 41 finished with value: 0.7541899441340782 and parameters: {'n_estimators': 255, 'max_depth': 2, 'min_samples_split': 4, 'min_samples_leaf': 9, 'max_features': 'log2', 'bootstrap': True}. Best is trial 1 with value: 0.7877094972067039.\n",
      "[I 2024-03-12 18:45:14,396] Trial 42 finished with value: 0.7877094972067039 and parameters: {'n_estimators': 469, 'max_depth': 28, 'min_samples_split': 4, 'min_samples_leaf': 9, 'max_features': 'log2', 'bootstrap': True}. Best is trial 1 with value: 0.7877094972067039.\n",
      "[I 2024-03-12 18:45:15,388] Trial 43 finished with value: 0.7821229050279329 and parameters: {'n_estimators': 356, 'max_depth': 32, 'min_samples_split': 4, 'min_samples_leaf': 8, 'max_features': 'log2', 'bootstrap': True}. Best is trial 1 with value: 0.7877094972067039.\n",
      "[I 2024-03-12 18:45:16,706] Trial 44 finished with value: 0.7877094972067039 and parameters: {'n_estimators': 524, 'max_depth': 27, 'min_samples_split': 3, 'min_samples_leaf': 9, 'max_features': 'log2', 'bootstrap': True}. Best is trial 1 with value: 0.7877094972067039.\n",
      "[I 2024-03-12 18:45:17,109] Trial 45 finished with value: 0.7821229050279329 and parameters: {'n_estimators': 117, 'max_depth': 23, 'min_samples_split': 5, 'min_samples_leaf': 8, 'max_features': 'log2', 'bootstrap': True}. Best is trial 1 with value: 0.7877094972067039.\n",
      "[I 2024-03-12 18:45:17,783] Trial 46 finished with value: 0.7877094972067039 and parameters: {'n_estimators': 276, 'max_depth': 26, 'min_samples_split': 2, 'min_samples_leaf': 10, 'max_features': 'sqrt', 'bootstrap': False}. Best is trial 1 with value: 0.7877094972067039.\n",
      "[I 2024-03-12 18:45:19,636] Trial 47 finished with value: 0.7541899441340782 and parameters: {'n_estimators': 367, 'max_depth': 31, 'min_samples_split': 6, 'min_samples_leaf': 7, 'max_features': None, 'bootstrap': True}. Best is trial 1 with value: 0.7877094972067039.\n",
      "[I 2024-03-12 18:45:20,256] Trial 48 finished with value: 0.7653631284916201 and parameters: {'n_estimators': 200, 'max_depth': 21, 'min_samples_split': 7, 'min_samples_leaf': 9, 'max_features': 'log2', 'bootstrap': False}. Best is trial 1 with value: 0.7877094972067039.\n",
      "[I 2024-03-12 18:45:20,771] Trial 49 finished with value: 0.7877094972067039 and parameters: {'n_estimators': 161, 'max_depth': 29, 'min_samples_split': 3, 'min_samples_leaf': 10, 'max_features': 'sqrt', 'bootstrap': True}. Best is trial 1 with value: 0.7877094972067039.\n",
      "[I 2024-03-12 18:45:22,495] Trial 50 finished with value: 0.7821229050279329 and parameters: {'n_estimators': 630, 'max_depth': 24, 'min_samples_split': 4, 'min_samples_leaf': 8, 'max_features': 'sqrt', 'bootstrap': False}. Best is trial 1 with value: 0.7877094972067039.\n",
      "[I 2024-03-12 18:45:25,573] Trial 51 finished with value: 0.7877094972067039 and parameters: {'n_estimators': 990, 'max_depth': 24, 'min_samples_split': 5, 'min_samples_leaf': 8, 'max_features': 'sqrt', 'bootstrap': True}. Best is trial 1 with value: 0.7877094972067039.\n",
      "[I 2024-03-12 18:45:28,286] Trial 52 finished with value: 0.7821229050279329 and parameters: {'n_estimators': 963, 'max_depth': 27, 'min_samples_split': 5, 'min_samples_leaf': 7, 'max_features': 'sqrt', 'bootstrap': True}. Best is trial 1 with value: 0.7877094972067039.\n",
      "[I 2024-03-12 18:45:30,565] Trial 53 finished with value: 0.7877094972067039 and parameters: {'n_estimators': 854, 'max_depth': 22, 'min_samples_split': 10, 'min_samples_leaf': 9, 'max_features': 'sqrt', 'bootstrap': True}. Best is trial 1 with value: 0.7877094972067039.\n",
      "[I 2024-03-12 18:45:32,924] Trial 54 finished with value: 0.7877094972067039 and parameters: {'n_estimators': 896, 'max_depth': 26, 'min_samples_split': 5, 'min_samples_leaf': 9, 'max_features': 'sqrt', 'bootstrap': True}. Best is trial 1 with value: 0.7877094972067039.\n",
      "[I 2024-03-12 18:45:34,958] Trial 55 finished with value: 0.7877094972067039 and parameters: {'n_estimators': 816, 'max_depth': 24, 'min_samples_split': 6, 'min_samples_leaf': 8, 'max_features': 'sqrt', 'bootstrap': True}. Best is trial 1 with value: 0.7877094972067039.\n",
      "[I 2024-03-12 18:45:37,452] Trial 56 finished with value: 0.7821229050279329 and parameters: {'n_estimators': 908, 'max_depth': 28, 'min_samples_split': 3, 'min_samples_leaf': 5, 'max_features': 'log2', 'bootstrap': True}. Best is trial 1 with value: 0.7877094972067039.\n",
      "[I 2024-03-12 18:45:40,240] Trial 57 finished with value: 0.7877094972067039 and parameters: {'n_estimators': 969, 'max_depth': 22, 'min_samples_split': 6, 'min_samples_leaf': 6, 'max_features': 'sqrt', 'bootstrap': True}. Best is trial 1 with value: 0.7877094972067039.\n",
      "[I 2024-03-12 18:45:42,866] Trial 58 finished with value: 0.7821229050279329 and parameters: {'n_estimators': 877, 'max_depth': 20, 'min_samples_split': 4, 'min_samples_leaf': 4, 'max_features': 'sqrt', 'bootstrap': False}. Best is trial 1 with value: 0.7877094972067039.\n",
      "[I 2024-03-12 18:45:45,579] Trial 59 finished with value: 0.7653631284916201 and parameters: {'n_estimators': 926, 'max_depth': 26, 'min_samples_split': 9, 'min_samples_leaf': 3, 'max_features': 'log2', 'bootstrap': True}. Best is trial 1 with value: 0.7877094972067039.\n",
      "[I 2024-03-12 18:45:49,037] Trial 60 finished with value: 0.7486033519553073 and parameters: {'n_estimators': 696, 'max_depth': 11, 'min_samples_split': 5, 'min_samples_leaf': 7, 'max_features': None, 'bootstrap': True}. Best is trial 1 with value: 0.7877094972067039.\n",
      "[I 2024-03-12 18:45:51,510] Trial 61 finished with value: 0.7877094972067039 and parameters: {'n_estimators': 972, 'max_depth': 19, 'min_samples_split': 5, 'min_samples_leaf': 10, 'max_features': 'sqrt', 'bootstrap': True}. Best is trial 1 with value: 0.7877094972067039.\n",
      "[I 2024-03-12 18:45:53,923] Trial 62 finished with value: 0.7877094972067039 and parameters: {'n_estimators': 936, 'max_depth': 17, 'min_samples_split': 4, 'min_samples_leaf': 9, 'max_features': 'sqrt', 'bootstrap': True}. Best is trial 1 with value: 0.7877094972067039.\n",
      "[I 2024-03-12 18:45:56,321] Trial 63 finished with value: 0.7877094972067039 and parameters: {'n_estimators': 894, 'max_depth': 21, 'min_samples_split': 5, 'min_samples_leaf': 8, 'max_features': 'sqrt', 'bootstrap': True}. Best is trial 1 with value: 0.7877094972067039.\n",
      "[I 2024-03-12 18:45:59,024] Trial 64 finished with value: 0.7877094972067039 and parameters: {'n_estimators': 995, 'max_depth': 24, 'min_samples_split': 4, 'min_samples_leaf': 10, 'max_features': 'sqrt', 'bootstrap': True}. Best is trial 1 with value: 0.7877094972067039.\n",
      "[I 2024-03-12 18:46:01,223] Trial 65 finished with value: 0.7877094972067039 and parameters: {'n_estimators': 853, 'max_depth': 22, 'min_samples_split': 6, 'min_samples_leaf': 9, 'max_features': 'sqrt', 'bootstrap': True}. Best is trial 1 with value: 0.7877094972067039.\n",
      "[I 2024-03-12 18:46:03,277] Trial 66 finished with value: 0.776536312849162 and parameters: {'n_estimators': 776, 'max_depth': 20, 'min_samples_split': 4, 'min_samples_leaf': 8, 'max_features': 'sqrt', 'bootstrap': False}. Best is trial 1 with value: 0.7877094972067039.\n",
      "[I 2024-03-12 18:46:05,591] Trial 67 finished with value: 0.7877094972067039 and parameters: {'n_estimators': 937, 'max_depth': 25, 'min_samples_split': 5, 'min_samples_leaf': 9, 'max_features': 'sqrt', 'bootstrap': True}. Best is trial 1 with value: 0.7877094972067039.\n",
      "[I 2024-03-12 18:46:07,016] Trial 68 finished with value: 0.7821229050279329 and parameters: {'n_estimators': 532, 'max_depth': 23, 'min_samples_split': 4, 'min_samples_leaf': 7, 'max_features': 'log2', 'bootstrap': True}. Best is trial 1 with value: 0.7877094972067039.\n",
      "[I 2024-03-12 18:46:09,364] Trial 69 finished with value: 0.7821229050279329 and parameters: {'n_estimators': 919, 'max_depth': 14, 'min_samples_split': 4, 'min_samples_leaf': 10, 'max_features': 'sqrt', 'bootstrap': False}. Best is trial 1 with value: 0.7877094972067039.\n",
      "[I 2024-03-12 18:46:11,755] Trial 70 finished with value: 0.7877094972067039 and parameters: {'n_estimators': 875, 'max_depth': 29, 'min_samples_split': 5, 'min_samples_leaf': 9, 'max_features': 'sqrt', 'bootstrap': True}. Best is trial 1 with value: 0.7877094972067039.\n",
      "[I 2024-03-12 18:46:14,260] Trial 71 finished with value: 0.7877094972067039 and parameters: {'n_estimators': 952, 'max_depth': 31, 'min_samples_split': 4, 'min_samples_leaf': 8, 'max_features': 'sqrt', 'bootstrap': True}. Best is trial 1 with value: 0.7877094972067039.\n",
      "[I 2024-03-12 18:46:16,733] Trial 72 finished with value: 0.7877094972067039 and parameters: {'n_estimators': 979, 'max_depth': 27, 'min_samples_split': 3, 'min_samples_leaf': 9, 'max_features': 'sqrt', 'bootstrap': True}. Best is trial 1 with value: 0.7877094972067039.\n",
      "[I 2024-03-12 18:46:18,901] Trial 73 finished with value: 0.7877094972067039 and parameters: {'n_estimators': 826, 'max_depth': 29, 'min_samples_split': 4, 'min_samples_leaf': 10, 'max_features': 'sqrt', 'bootstrap': True}. Best is trial 1 with value: 0.7877094972067039.\n",
      "[I 2024-03-12 18:46:21,392] Trial 74 finished with value: 0.7877094972067039 and parameters: {'n_estimators': 903, 'max_depth': 30, 'min_samples_split': 3, 'min_samples_leaf': 8, 'max_features': 'log2', 'bootstrap': True}. Best is trial 1 with value: 0.7877094972067039.\n",
      "[I 2024-03-12 18:46:25,161] Trial 75 finished with value: 0.7541899441340782 and parameters: {'n_estimators': 798, 'max_depth': 25, 'min_samples_split': 5, 'min_samples_leaf': 9, 'max_features': None, 'bootstrap': True}. Best is trial 1 with value: 0.7877094972067039.\n",
      "[I 2024-03-12 18:46:26,261] Trial 76 finished with value: 0.7877094972067039 and parameters: {'n_estimators': 416, 'max_depth': 31, 'min_samples_split': 5, 'min_samples_leaf': 8, 'max_features': 'sqrt', 'bootstrap': True}. Best is trial 1 with value: 0.7877094972067039.\n",
      "[I 2024-03-12 18:46:28,222] Trial 77 finished with value: 0.7877094972067039 and parameters: {'n_estimators': 749, 'max_depth': 28, 'min_samples_split': 4, 'min_samples_leaf': 9, 'max_features': 'sqrt', 'bootstrap': True}. Best is trial 1 with value: 0.7877094972067039.\n",
      "[I 2024-03-12 18:46:29,961] Trial 78 finished with value: 0.7653631284916201 and parameters: {'n_estimators': 602, 'max_depth': 26, 'min_samples_split': 7, 'min_samples_leaf': 6, 'max_features': 'log2', 'bootstrap': False}. Best is trial 1 with value: 0.7877094972067039.\n",
      "[I 2024-03-12 18:46:30,406] Trial 79 finished with value: 0.776536312849162 and parameters: {'n_estimators': 155, 'max_depth': 19, 'min_samples_split': 6, 'min_samples_leaf': 7, 'max_features': 'sqrt', 'bootstrap': True}. Best is trial 1 with value: 0.7877094972067039.\n",
      "[I 2024-03-12 18:46:32,782] Trial 80 finished with value: 0.7877094972067039 and parameters: {'n_estimators': 952, 'max_depth': 27, 'min_samples_split': 4, 'min_samples_leaf': 10, 'max_features': 'log2', 'bootstrap': True}. Best is trial 1 with value: 0.7877094972067039.\n",
      "[I 2024-03-12 18:46:35,471] Trial 81 finished with value: 0.7877094972067039 and parameters: {'n_estimators': 999, 'max_depth': 24, 'min_samples_split': 6, 'min_samples_leaf': 8, 'max_features': 'sqrt', 'bootstrap': True}. Best is trial 1 with value: 0.7877094972067039.\n",
      "[I 2024-03-12 18:46:38,518] Trial 82 finished with value: 0.776536312849162 and parameters: {'n_estimators': 923, 'max_depth': 25, 'min_samples_split': 7, 'min_samples_leaf': 1, 'max_features': 'sqrt', 'bootstrap': True}. Best is trial 1 with value: 0.7877094972067039.\n",
      "[I 2024-03-12 18:46:40,860] Trial 83 finished with value: 0.7877094972067039 and parameters: {'n_estimators': 876, 'max_depth': 22, 'min_samples_split': 5, 'min_samples_leaf': 8, 'max_features': 'sqrt', 'bootstrap': True}. Best is trial 1 with value: 0.7877094972067039.\n",
      "[I 2024-03-12 18:46:43,321] Trial 84 finished with value: 0.7877094972067039 and parameters: {'n_estimators': 943, 'max_depth': 26, 'min_samples_split': 3, 'min_samples_leaf': 9, 'max_features': 'sqrt', 'bootstrap': True}. Best is trial 1 with value: 0.7877094972067039.\n",
      "[I 2024-03-12 18:46:45,889] Trial 85 finished with value: 0.7877094972067039 and parameters: {'n_estimators': 847, 'max_depth': 28, 'min_samples_split': 6, 'min_samples_leaf': 8, 'max_features': 'sqrt', 'bootstrap': True}. Best is trial 1 with value: 0.7877094972067039.\n",
      "[I 2024-03-12 18:46:48,378] Trial 86 finished with value: 0.7821229050279329 and parameters: {'n_estimators': 896, 'max_depth': 23, 'min_samples_split': 4, 'min_samples_leaf': 10, 'max_features': 'sqrt', 'bootstrap': False}. Best is trial 1 with value: 0.7877094972067039.\n",
      "[I 2024-03-12 18:46:49,883] Trial 87 finished with value: 0.7821229050279329 and parameters: {'n_estimators': 487, 'max_depth': 24, 'min_samples_split': 8, 'min_samples_leaf': 7, 'max_features': 'log2', 'bootstrap': True}. Best is trial 1 with value: 0.7877094972067039.\n",
      "[I 2024-03-12 18:46:54,243] Trial 88 finished with value: 0.7541899441340782 and parameters: {'n_estimators': 971, 'max_depth': 6, 'min_samples_split': 5, 'min_samples_leaf': 9, 'max_features': None, 'bootstrap': True}. Best is trial 1 with value: 0.7877094972067039.\n",
      "[I 2024-03-12 18:46:55,376] Trial 89 finished with value: 0.7821229050279329 and parameters: {'n_estimators': 366, 'max_depth': 25, 'min_samples_split': 4, 'min_samples_leaf': 8, 'max_features': 'sqrt', 'bootstrap': True}. Best is trial 1 with value: 0.7877094972067039.\n",
      "[I 2024-03-12 18:46:56,256] Trial 90 finished with value: 0.770949720670391 and parameters: {'n_estimators': 298, 'max_depth': 30, 'min_samples_split': 6, 'min_samples_leaf': 5, 'max_features': 'sqrt', 'bootstrap': False}. Best is trial 1 with value: 0.7877094972067039.\n",
      "[I 2024-03-12 18:46:58,931] Trial 91 finished with value: 0.7877094972067039 and parameters: {'n_estimators': 951, 'max_depth': 21, 'min_samples_split': 4, 'min_samples_leaf': 8, 'max_features': 'sqrt', 'bootstrap': True}. Best is trial 1 with value: 0.7877094972067039.\n",
      "[I 2024-03-12 18:47:01,698] Trial 92 finished with value: 0.7821229050279329 and parameters: {'n_estimators': 913, 'max_depth': 27, 'min_samples_split': 4, 'min_samples_leaf': 7, 'max_features': 'sqrt', 'bootstrap': True}. Best is trial 1 with value: 0.7877094972067039.\n",
      "[I 2024-03-12 18:47:04,601] Trial 93 finished with value: 0.7877094972067039 and parameters: {'n_estimators': 979, 'max_depth': 23, 'min_samples_split': 3, 'min_samples_leaf': 9, 'max_features': 'sqrt', 'bootstrap': True}. Best is trial 1 with value: 0.7877094972067039.\n",
      "[I 2024-03-12 18:47:07,413] Trial 94 finished with value: 0.7877094972067039 and parameters: {'n_estimators': 940, 'max_depth': 25, 'min_samples_split': 5, 'min_samples_leaf': 8, 'max_features': 'sqrt', 'bootstrap': True}. Best is trial 1 with value: 0.7877094972067039.\n",
      "[I 2024-03-12 18:47:10,131] Trial 95 finished with value: 0.7877094972067039 and parameters: {'n_estimators': 971, 'max_depth': 22, 'min_samples_split': 4, 'min_samples_leaf': 9, 'max_features': 'log2', 'bootstrap': True}. Best is trial 1 with value: 0.7877094972067039.\n",
      "[I 2024-03-12 18:47:10,851] Trial 96 finished with value: 0.7821229050279329 and parameters: {'n_estimators': 234, 'max_depth': 26, 'min_samples_split': 5, 'min_samples_leaf': 7, 'max_features': 'sqrt', 'bootstrap': True}. Best is trial 1 with value: 0.7877094972067039.\n",
      "[I 2024-03-12 18:47:13,407] Trial 97 finished with value: 0.7877094972067039 and parameters: {'n_estimators': 868, 'max_depth': 24, 'min_samples_split': 4, 'min_samples_leaf': 8, 'max_features': 'sqrt', 'bootstrap': True}. Best is trial 1 with value: 0.7877094972067039.\n",
      "[I 2024-03-12 18:47:15,656] Trial 98 finished with value: 0.7877094972067039 and parameters: {'n_estimators': 888, 'max_depth': 28, 'min_samples_split': 4, 'min_samples_leaf': 10, 'max_features': 'sqrt', 'bootstrap': True}. Best is trial 1 with value: 0.7877094972067039.\n",
      "[I 2024-03-12 18:47:17,967] Trial 99 finished with value: 0.7821229050279329 and parameters: {'n_estimators': 921, 'max_depth': 17, 'min_samples_split': 5, 'min_samples_leaf': 9, 'max_features': 'log2', 'bootstrap': False}. Best is trial 1 with value: 0.7877094972067039.\n"
     ]
    },
    {
     "name": "stdout",
     "output_type": "stream",
     "text": [
      "Number of finished trials: 100\n",
      "Best trial: {'n_estimators': 186, 'max_depth': 23, 'min_samples_split': 4, 'min_samples_leaf': 10, 'max_features': 'sqrt', 'bootstrap': False}\n",
      "Best trial accuracy: 0.7877094972067039\n"
     ]
    }
   ],
   "source": [
    "study = opt.create_study(direction='maximize')\n",
    "study.optimize(objective, n_trials=100)\n",
    "\n",
    "print('Number of finished trials:', len(study.trials))\n",
    "print('Best trial:', study.best_trial.params)\n",
    "print(f\"Best trial accuracy: {study.best_trial.value}\")"
   ],
   "metadata": {
    "collapsed": false,
    "ExecuteTime": {
     "end_time": "2024-03-12T17:47:17.982207Z",
     "start_time": "2024-03-12T17:43:44.670460Z"
    }
   },
   "id": "fccad4eff8bb9ae0",
   "execution_count": 58
  },
  {
   "cell_type": "code",
   "outputs": [
    {
     "name": "stdout",
     "output_type": "stream",
     "text": [
      "Accuracy: 0.78\n"
     ]
    }
   ],
   "source": [
    "randomForest_classifier = RandomForestClassifier()\n",
    "randomForest_classifier.set_params(**study.best_trial.params)\n",
    "randomForest_classifier.fit(X_train, y_train)\n",
    "y_pred = randomForest_classifier.predict(X_test)\n",
    "accuracy = accuracy_score(y_test, y_pred)\n",
    "print(f\"Accuracy: {accuracy:.2f}\")"
   ],
   "metadata": {
    "collapsed": false,
    "ExecuteTime": {
     "end_time": "2024-03-12T17:47:18.485960Z",
     "start_time": "2024-03-12T17:47:17.984424Z"
    }
   },
   "id": "84b77e0028fc4bb6",
   "execution_count": 59
  },
  {
   "cell_type": "markdown",
   "source": [
    "### Compare accuracy to supposed real data"
   ],
   "metadata": {
    "collapsed": false
   },
   "id": "d4d68d989c272924"
  },
  {
   "cell_type": "code",
   "outputs": [
    {
     "name": "stdout",
     "output_type": "stream",
     "text": [
      "Accuracy Score: 0.7562814070351759\n"
     ]
    }
   ],
   "source": [
    "submission_test = randomForest_classifier.predict(to_test)\n",
    "submission_test = pd.Series(submission_test, to_test.index, name='Survived')\n",
    "actual_data = pd.read_csv(\"test_results.csv\",index_col=\"PassengerId\")\n",
    "merged_df = pd.merge(actual_data, submission_test, on='PassengerId', suffixes=('_df1', '_df2'))\n",
    "# Step 3: Calculate accuracy score\n",
    "accuracy = accuracy_score(merged_df['survived'], merged_df['Survived'])\n",
    "\n",
    "print(f\"Accuracy Score: {accuracy}\")\n"
   ],
   "metadata": {
    "collapsed": false,
    "ExecuteTime": {
     "end_time": "2024-03-12T17:47:18.542413Z",
     "start_time": "2024-03-12T17:47:18.488065Z"
    }
   },
   "id": "badeaa27c8fc319",
   "execution_count": 60
  },
  {
   "cell_type": "code",
   "outputs": [
    {
     "data": {
      "text/plain": "Index(['Name', 'Embarked', 'Deck', 'Sex', 'Fam_type', 'Ticket_Frequency',\n       'Age*Class', 'Fare_Per_Person', 'Fare_Bin', 'Embarked_Survival_Rate'],\n      dtype='object')"
     },
     "execution_count": 61,
     "metadata": {},
     "output_type": "execute_result"
    }
   ],
   "source": [
    "to_test.columns"
   ],
   "metadata": {
    "collapsed": false,
    "ExecuteTime": {
     "end_time": "2024-03-12T17:47:18.550107Z",
     "start_time": "2024-03-12T17:47:18.543476Z"
    }
   },
   "id": "e8981de8b11c6fa0",
   "execution_count": 61
  },
  {
   "cell_type": "markdown",
   "source": [
    "### Try out ensemble of different models"
   ],
   "metadata": {
    "collapsed": false
   },
   "id": "ffe8585aed01223e"
  },
  {
   "cell_type": "code",
   "outputs": [
    {
     "data": {
      "text/plain": "StackingClassifier(cv=10,\n                   estimators=[('rf',\n                                RandomForestClassifier(bootstrap=False,\n                                                       max_depth=23,\n                                                       min_samples_leaf=10,\n                                                       min_samples_split=4,\n                                                       n_estimators=186)),\n                               ('xgb',\n                                XGBClassifier(base_score=None, booster=None,\n                                              callbacks=None,\n                                              colsample_bylevel=None,\n                                              colsample_bynode=None,\n                                              colsample_bytree=0.5852534505966063,\n                                              early_stopping_rounds=None,\n                                              enable_categorical=Fals...\n                                              interaction_constraints=None,\n                                              learning_rate=0.14726907732045363,\n                                              max_bin=None,\n                                              max_cat_threshold=None,\n                                              max_cat_to_onehot=None,\n                                              max_delta_step=None, max_depth=6,\n                                              max_leaves=None,\n                                              min_child_weight=3, missing=nan,\n                                              monotone_constraints=None,\n                                              n_estimators=448, n_jobs=None,\n                                              num_parallel_tree=None,\n                                              predictor=None, random_state=None, ...))],\n                   final_estimator=LogisticRegression())",
      "text/html": "<style>#sk-container-id-2 {color: black;}#sk-container-id-2 pre{padding: 0;}#sk-container-id-2 div.sk-toggleable {background-color: white;}#sk-container-id-2 label.sk-toggleable__label {cursor: pointer;display: block;width: 100%;margin-bottom: 0;padding: 0.3em;box-sizing: border-box;text-align: center;}#sk-container-id-2 label.sk-toggleable__label-arrow:before {content: \"▸\";float: left;margin-right: 0.25em;color: #696969;}#sk-container-id-2 label.sk-toggleable__label-arrow:hover:before {color: black;}#sk-container-id-2 div.sk-estimator:hover label.sk-toggleable__label-arrow:before {color: black;}#sk-container-id-2 div.sk-toggleable__content {max-height: 0;max-width: 0;overflow: hidden;text-align: left;background-color: #f0f8ff;}#sk-container-id-2 div.sk-toggleable__content pre {margin: 0.2em;color: black;border-radius: 0.25em;background-color: #f0f8ff;}#sk-container-id-2 input.sk-toggleable__control:checked~div.sk-toggleable__content {max-height: 200px;max-width: 100%;overflow: auto;}#sk-container-id-2 input.sk-toggleable__control:checked~label.sk-toggleable__label-arrow:before {content: \"▾\";}#sk-container-id-2 div.sk-estimator input.sk-toggleable__control:checked~label.sk-toggleable__label {background-color: #d4ebff;}#sk-container-id-2 div.sk-label input.sk-toggleable__control:checked~label.sk-toggleable__label {background-color: #d4ebff;}#sk-container-id-2 input.sk-hidden--visually {border: 0;clip: rect(1px 1px 1px 1px);clip: rect(1px, 1px, 1px, 1px);height: 1px;margin: -1px;overflow: hidden;padding: 0;position: absolute;width: 1px;}#sk-container-id-2 div.sk-estimator {font-family: monospace;background-color: #f0f8ff;border: 1px dotted black;border-radius: 0.25em;box-sizing: border-box;margin-bottom: 0.5em;}#sk-container-id-2 div.sk-estimator:hover {background-color: #d4ebff;}#sk-container-id-2 div.sk-parallel-item::after {content: \"\";width: 100%;border-bottom: 1px solid gray;flex-grow: 1;}#sk-container-id-2 div.sk-label:hover label.sk-toggleable__label {background-color: #d4ebff;}#sk-container-id-2 div.sk-serial::before {content: \"\";position: absolute;border-left: 1px solid gray;box-sizing: border-box;top: 0;bottom: 0;left: 50%;z-index: 0;}#sk-container-id-2 div.sk-serial {display: flex;flex-direction: column;align-items: center;background-color: white;padding-right: 0.2em;padding-left: 0.2em;position: relative;}#sk-container-id-2 div.sk-item {position: relative;z-index: 1;}#sk-container-id-2 div.sk-parallel {display: flex;align-items: stretch;justify-content: center;background-color: white;position: relative;}#sk-container-id-2 div.sk-item::before, #sk-container-id-2 div.sk-parallel-item::before {content: \"\";position: absolute;border-left: 1px solid gray;box-sizing: border-box;top: 0;bottom: 0;left: 50%;z-index: -1;}#sk-container-id-2 div.sk-parallel-item {display: flex;flex-direction: column;z-index: 1;position: relative;background-color: white;}#sk-container-id-2 div.sk-parallel-item:first-child::after {align-self: flex-end;width: 50%;}#sk-container-id-2 div.sk-parallel-item:last-child::after {align-self: flex-start;width: 50%;}#sk-container-id-2 div.sk-parallel-item:only-child::after {width: 0;}#sk-container-id-2 div.sk-dashed-wrapped {border: 1px dashed gray;margin: 0 0.4em 0.5em 0.4em;box-sizing: border-box;padding-bottom: 0.4em;background-color: white;}#sk-container-id-2 div.sk-label label {font-family: monospace;font-weight: bold;display: inline-block;line-height: 1.2em;}#sk-container-id-2 div.sk-label-container {text-align: center;}#sk-container-id-2 div.sk-container {/* jupyter's `normalize.less` sets `[hidden] { display: none; }` but bootstrap.min.css set `[hidden] { display: none !important; }` so we also need the `!important` here to be able to override the default hidden behavior on the sphinx rendered scikit-learn.org. See: https://github.com/scikit-learn/scikit-learn/issues/21755 */display: inline-block !important;position: relative;}#sk-container-id-2 div.sk-text-repr-fallback {display: none;}</style><div id=\"sk-container-id-2\" class=\"sk-top-container\"><div class=\"sk-text-repr-fallback\"><pre>StackingClassifier(cv=10,\n                   estimators=[(&#x27;rf&#x27;,\n                                RandomForestClassifier(bootstrap=False,\n                                                       max_depth=23,\n                                                       min_samples_leaf=10,\n                                                       min_samples_split=4,\n                                                       n_estimators=186)),\n                               (&#x27;xgb&#x27;,\n                                XGBClassifier(base_score=None, booster=None,\n                                              callbacks=None,\n                                              colsample_bylevel=None,\n                                              colsample_bynode=None,\n                                              colsample_bytree=0.5852534505966063,\n                                              early_stopping_rounds=None,\n                                              enable_categorical=Fals...\n                                              interaction_constraints=None,\n                                              learning_rate=0.14726907732045363,\n                                              max_bin=None,\n                                              max_cat_threshold=None,\n                                              max_cat_to_onehot=None,\n                                              max_delta_step=None, max_depth=6,\n                                              max_leaves=None,\n                                              min_child_weight=3, missing=nan,\n                                              monotone_constraints=None,\n                                              n_estimators=448, n_jobs=None,\n                                              num_parallel_tree=None,\n                                              predictor=None, random_state=None, ...))],\n                   final_estimator=LogisticRegression())</pre><b>In a Jupyter environment, please rerun this cell to show the HTML representation or trust the notebook. <br />On GitHub, the HTML representation is unable to render, please try loading this page with nbviewer.org.</b></div><div class=\"sk-container\" hidden><div class=\"sk-item sk-dashed-wrapped\"><div class=\"sk-label-container\"><div class=\"sk-label sk-toggleable\"><input class=\"sk-toggleable__control sk-hidden--visually\" id=\"sk-estimator-id-2\" type=\"checkbox\" ><label for=\"sk-estimator-id-2\" class=\"sk-toggleable__label sk-toggleable__label-arrow\">StackingClassifier</label><div class=\"sk-toggleable__content\"><pre>StackingClassifier(cv=10,\n                   estimators=[(&#x27;rf&#x27;,\n                                RandomForestClassifier(bootstrap=False,\n                                                       max_depth=23,\n                                                       min_samples_leaf=10,\n                                                       min_samples_split=4,\n                                                       n_estimators=186)),\n                               (&#x27;xgb&#x27;,\n                                XGBClassifier(base_score=None, booster=None,\n                                              callbacks=None,\n                                              colsample_bylevel=None,\n                                              colsample_bynode=None,\n                                              colsample_bytree=0.5852534505966063,\n                                              early_stopping_rounds=None,\n                                              enable_categorical=Fals...\n                                              interaction_constraints=None,\n                                              learning_rate=0.14726907732045363,\n                                              max_bin=None,\n                                              max_cat_threshold=None,\n                                              max_cat_to_onehot=None,\n                                              max_delta_step=None, max_depth=6,\n                                              max_leaves=None,\n                                              min_child_weight=3, missing=nan,\n                                              monotone_constraints=None,\n                                              n_estimators=448, n_jobs=None,\n                                              num_parallel_tree=None,\n                                              predictor=None, random_state=None, ...))],\n                   final_estimator=LogisticRegression())</pre></div></div></div><div class=\"sk-serial\"><div class=\"sk-item\"><div class=\"sk-parallel\"><div class=\"sk-parallel-item\"><div class=\"sk-item\"><div class=\"sk-label-container\"><div class=\"sk-label sk-toggleable\"><label>rf</label></div></div><div class=\"sk-serial\"><div class=\"sk-item\"><div class=\"sk-estimator sk-toggleable\"><input class=\"sk-toggleable__control sk-hidden--visually\" id=\"sk-estimator-id-3\" type=\"checkbox\" ><label for=\"sk-estimator-id-3\" class=\"sk-toggleable__label sk-toggleable__label-arrow\">RandomForestClassifier</label><div class=\"sk-toggleable__content\"><pre>RandomForestClassifier(bootstrap=False, max_depth=23, min_samples_leaf=10,\n                       min_samples_split=4, n_estimators=186)</pre></div></div></div></div></div></div><div class=\"sk-parallel-item\"><div class=\"sk-item\"><div class=\"sk-label-container\"><div class=\"sk-label sk-toggleable\"><label>xgb</label></div></div><div class=\"sk-serial\"><div class=\"sk-item\"><div class=\"sk-estimator sk-toggleable\"><input class=\"sk-toggleable__control sk-hidden--visually\" id=\"sk-estimator-id-4\" type=\"checkbox\" ><label for=\"sk-estimator-id-4\" class=\"sk-toggleable__label sk-toggleable__label-arrow\">XGBClassifier</label><div class=\"sk-toggleable__content\"><pre>XGBClassifier(base_score=None, booster=None, callbacks=None,\n              colsample_bylevel=None, colsample_bynode=None,\n              colsample_bytree=0.5852534505966063, early_stopping_rounds=None,\n              enable_categorical=False, eval_metric=None, feature_types=None,\n              gamma=None, gpu_id=None, grow_policy=None, importance_type=None,\n              interaction_constraints=None, learning_rate=0.14726907732045363,\n              max_bin=None, max_cat_threshold=None, max_cat_to_onehot=None,\n              max_delta_step=None, max_depth=6, max_leaves=None,\n              min_child_weight=3, missing=nan, monotone_constraints=None,\n              n_estimators=448, n_jobs=None, num_parallel_tree=None,\n              predictor=None, random_state=None, ...)</pre></div></div></div></div></div></div></div></div><div class=\"sk-item\"><div class=\"sk-parallel\"><div class=\"sk-parallel-item\"><div class=\"sk-item\"><div class=\"sk-label-container\"><div class=\"sk-label sk-toggleable\"><label>final_estimator</label></div></div><div class=\"sk-serial\"><div class=\"sk-item\"><div class=\"sk-estimator sk-toggleable\"><input class=\"sk-toggleable__control sk-hidden--visually\" id=\"sk-estimator-id-5\" type=\"checkbox\" ><label for=\"sk-estimator-id-5\" class=\"sk-toggleable__label sk-toggleable__label-arrow\">LogisticRegression</label><div class=\"sk-toggleable__content\"><pre>LogisticRegression()</pre></div></div></div></div></div></div></div></div></div></div></div></div>"
     },
     "execution_count": 62,
     "metadata": {},
     "output_type": "execute_result"
    }
   ],
   "source": [
    "stacking_clf = StackingClassifier(\n",
    "    estimators=[('rf', randomForest_classifier), ('xgb', xgb_classifier)],\n",
    "    final_estimator=LogisticRegression(),\n",
    "    stack_method='auto',\n",
    "    cv=10\n",
    ")\n",
    "stacking_clf.fit(X_train, y_train)"
   ],
   "metadata": {
    "collapsed": false,
    "ExecuteTime": {
     "end_time": "2024-03-12T17:47:27.195147Z",
     "start_time": "2024-03-12T17:47:18.552377Z"
    }
   },
   "id": "b332eaaf2aca8bdf",
   "execution_count": 62
  },
  {
   "cell_type": "code",
   "outputs": [
    {
     "name": "stdout",
     "output_type": "stream",
     "text": [
      "Accuracy: 0.7932960893854749\n"
     ]
    }
   ],
   "source": [
    "accuracy = stacking_clf.score(X_test, y_test)\n",
    "print(f\"Accuracy: {accuracy}\")"
   ],
   "metadata": {
    "collapsed": false,
    "ExecuteTime": {
     "end_time": "2024-03-12T17:47:27.226420Z",
     "start_time": "2024-03-12T17:47:27.196702Z"
    }
   },
   "id": "cedc6f3b2896f431",
   "execution_count": 63
  },
  {
   "cell_type": "code",
   "outputs": [
    {
     "name": "stdout",
     "output_type": "stream",
     "text": [
      "Accuracy Score: 0.7562814070351759\n"
     ]
    }
   ],
   "source": [
    "submission_test = stacking_clf.predict(to_test)\n",
    "submission_test = pd.Series(submission_test, to_test.index, name='Survived')\n",
    "actual_data = pd.read_csv(\"test_results.csv\",index_col=\"PassengerId\")\n",
    "merged_df = pd.merge(actual_data, submission_test, on='PassengerId')\n",
    "# Step 3: Calculate accuracy score\n",
    "accuracy = accuracy_score(merged_df['survived'], merged_df['Survived'])\n",
    "\n",
    "print(f\"Accuracy Score: {accuracy}\")"
   ],
   "metadata": {
    "collapsed": false,
    "ExecuteTime": {
     "end_time": "2024-03-12T17:47:27.284554Z",
     "start_time": "2024-03-12T17:47:27.227506Z"
    }
   },
   "id": "559b8bf7ff1638fa",
   "execution_count": 64
  },
  {
   "cell_type": "code",
   "outputs": [],
   "source": [
    "submission_test.to_csv(\"submission_test2.csv\")"
   ],
   "metadata": {
    "collapsed": false,
    "ExecuteTime": {
     "end_time": "2024-03-12T17:47:27.296871Z",
     "start_time": "2024-03-12T17:47:27.285614Z"
    }
   },
   "id": "8a4e9481e3a6d088",
   "execution_count": 65
  },
  {
   "cell_type": "code",
   "outputs": [
    {
     "data": {
      "text/plain": "['Name',\n 'Embarked',\n 'Deck',\n 'Sex',\n 'Fam_type',\n 'Ticket_Frequency',\n 'Age*Class',\n 'Fare_Per_Person',\n 'Fare_Bin',\n 'Embarked_Survival_Rate']"
     },
     "execution_count": 66,
     "metadata": {},
     "output_type": "execute_result"
    }
   ],
   "source": [
    "X_train.columns.to_list()"
   ],
   "metadata": {
    "collapsed": false,
    "ExecuteTime": {
     "end_time": "2024-03-12T17:47:27.305584Z",
     "start_time": "2024-03-12T17:47:27.297999Z"
    }
   },
   "id": "5f04c7bf43c6a782",
   "execution_count": 66
  }
 ],
 "metadata": {
  "kernelspec": {
   "display_name": "Python 3",
   "language": "python",
   "name": "python3"
  },
  "language_info": {
   "codemirror_mode": {
    "name": "ipython",
    "version": 2
   },
   "file_extension": ".py",
   "mimetype": "text/x-python",
   "name": "python",
   "nbconvert_exporter": "python",
   "pygments_lexer": "ipython2",
   "version": "2.7.6"
  }
 },
 "nbformat": 4,
 "nbformat_minor": 5
}
