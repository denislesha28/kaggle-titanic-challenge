{
 "cells": [
  {
   "cell_type": "code",
   "execution_count": 182,
   "id": "initial_id",
   "metadata": {
    "collapsed": true,
    "ExecuteTime": {
     "end_time": "2024-03-02T18:48:39.177075Z",
     "start_time": "2024-03-02T18:48:39.173357Z"
    }
   },
   "outputs": [],
   "source": [
    "from sklearn.model_selection import train_test_split\n",
    "from sklearn.preprocessing import LabelEncoder\n",
    "from sklearn.metrics import accuracy_score\n",
    "from sklearn.model_selection import StratifiedKFold\n",
    "from sklearn.model_selection import GridSearchCV\n",
    "from sklearn.model_selection import RandomizedSearchCV\n",
    "from scipy.stats import randint, uniform\n",
    "from xgboost import XGBClassifier\n",
    "import pandas as pd\n",
    "import numpy as np\n",
    "import optuna as opt\n",
    "import xgboost as xgb \n",
    "import re"
   ]
  },
  {
   "cell_type": "code",
   "outputs": [
    {
     "data": {
      "text/plain": "             Survived  Pclass  \\\nPassengerId                     \n1                   0       3   \n2                   1       1   \n3                   1       3   \n4                   1       1   \n5                   0       3   \n...               ...     ...   \n887                 0       2   \n888                 1       1   \n889                 0       3   \n890                 1       1   \n891                 0       3   \n\n                                                          Name   Age  SibSp  \\\nPassengerId                                                                   \n1                                      Braund, Mr. Owen Harris  22.0      1   \n2            Cumings, Mrs. John Bradley (Florence Briggs Th...  38.0      1   \n3                                       Heikkinen, Miss. Laina  26.0      0   \n4                 Futrelle, Mrs. Jacques Heath (Lily May Peel)  35.0      1   \n5                                     Allen, Mr. William Henry  35.0      0   \n...                                                        ...   ...    ...   \n887                                      Montvila, Rev. Juozas  27.0      0   \n888                               Graham, Miss. Margaret Edith  19.0      0   \n889                   Johnston, Miss. Catherine Helen \"Carrie\"   NaN      1   \n890                                      Behr, Mr. Karl Howell  26.0      0   \n891                                        Dooley, Mr. Patrick  32.0      0   \n\n             Parch            Ticket     Fare Cabin Embarked  \nPassengerId                                                   \n1                0         A/5 21171   7.2500   NaN        S  \n2                0          PC 17599  71.2833   C85        C  \n3                0  STON/O2. 3101282   7.9250   NaN        S  \n4                0            113803  53.1000  C123        S  \n5                0            373450   8.0500   NaN        S  \n...            ...               ...      ...   ...      ...  \n887              0            211536  13.0000   NaN        S  \n888              0            112053  30.0000   B42        S  \n889              2        W./C. 6607  23.4500   NaN        S  \n890              0            111369  30.0000  C148        C  \n891              0            370376   7.7500   NaN        Q  \n\n[891 rows x 10 columns]",
      "text/html": "<div>\n<style scoped>\n    .dataframe tbody tr th:only-of-type {\n        vertical-align: middle;\n    }\n\n    .dataframe tbody tr th {\n        vertical-align: top;\n    }\n\n    .dataframe thead th {\n        text-align: right;\n    }\n</style>\n<table border=\"1\" class=\"dataframe\">\n  <thead>\n    <tr style=\"text-align: right;\">\n      <th></th>\n      <th>Survived</th>\n      <th>Pclass</th>\n      <th>Name</th>\n      <th>Age</th>\n      <th>SibSp</th>\n      <th>Parch</th>\n      <th>Ticket</th>\n      <th>Fare</th>\n      <th>Cabin</th>\n      <th>Embarked</th>\n    </tr>\n    <tr>\n      <th>PassengerId</th>\n      <th></th>\n      <th></th>\n      <th></th>\n      <th></th>\n      <th></th>\n      <th></th>\n      <th></th>\n      <th></th>\n      <th></th>\n      <th></th>\n    </tr>\n  </thead>\n  <tbody>\n    <tr>\n      <th>1</th>\n      <td>0</td>\n      <td>3</td>\n      <td>Braund, Mr. Owen Harris</td>\n      <td>22.0</td>\n      <td>1</td>\n      <td>0</td>\n      <td>A/5 21171</td>\n      <td>7.2500</td>\n      <td>NaN</td>\n      <td>S</td>\n    </tr>\n    <tr>\n      <th>2</th>\n      <td>1</td>\n      <td>1</td>\n      <td>Cumings, Mrs. John Bradley (Florence Briggs Th...</td>\n      <td>38.0</td>\n      <td>1</td>\n      <td>0</td>\n      <td>PC 17599</td>\n      <td>71.2833</td>\n      <td>C85</td>\n      <td>C</td>\n    </tr>\n    <tr>\n      <th>3</th>\n      <td>1</td>\n      <td>3</td>\n      <td>Heikkinen, Miss. Laina</td>\n      <td>26.0</td>\n      <td>0</td>\n      <td>0</td>\n      <td>STON/O2. 3101282</td>\n      <td>7.9250</td>\n      <td>NaN</td>\n      <td>S</td>\n    </tr>\n    <tr>\n      <th>4</th>\n      <td>1</td>\n      <td>1</td>\n      <td>Futrelle, Mrs. Jacques Heath (Lily May Peel)</td>\n      <td>35.0</td>\n      <td>1</td>\n      <td>0</td>\n      <td>113803</td>\n      <td>53.1000</td>\n      <td>C123</td>\n      <td>S</td>\n    </tr>\n    <tr>\n      <th>5</th>\n      <td>0</td>\n      <td>3</td>\n      <td>Allen, Mr. William Henry</td>\n      <td>35.0</td>\n      <td>0</td>\n      <td>0</td>\n      <td>373450</td>\n      <td>8.0500</td>\n      <td>NaN</td>\n      <td>S</td>\n    </tr>\n    <tr>\n      <th>...</th>\n      <td>...</td>\n      <td>...</td>\n      <td>...</td>\n      <td>...</td>\n      <td>...</td>\n      <td>...</td>\n      <td>...</td>\n      <td>...</td>\n      <td>...</td>\n      <td>...</td>\n    </tr>\n    <tr>\n      <th>887</th>\n      <td>0</td>\n      <td>2</td>\n      <td>Montvila, Rev. Juozas</td>\n      <td>27.0</td>\n      <td>0</td>\n      <td>0</td>\n      <td>211536</td>\n      <td>13.0000</td>\n      <td>NaN</td>\n      <td>S</td>\n    </tr>\n    <tr>\n      <th>888</th>\n      <td>1</td>\n      <td>1</td>\n      <td>Graham, Miss. Margaret Edith</td>\n      <td>19.0</td>\n      <td>0</td>\n      <td>0</td>\n      <td>112053</td>\n      <td>30.0000</td>\n      <td>B42</td>\n      <td>S</td>\n    </tr>\n    <tr>\n      <th>889</th>\n      <td>0</td>\n      <td>3</td>\n      <td>Johnston, Miss. Catherine Helen \"Carrie\"</td>\n      <td>NaN</td>\n      <td>1</td>\n      <td>2</td>\n      <td>W./C. 6607</td>\n      <td>23.4500</td>\n      <td>NaN</td>\n      <td>S</td>\n    </tr>\n    <tr>\n      <th>890</th>\n      <td>1</td>\n      <td>1</td>\n      <td>Behr, Mr. Karl Howell</td>\n      <td>26.0</td>\n      <td>0</td>\n      <td>0</td>\n      <td>111369</td>\n      <td>30.0000</td>\n      <td>C148</td>\n      <td>C</td>\n    </tr>\n    <tr>\n      <th>891</th>\n      <td>0</td>\n      <td>3</td>\n      <td>Dooley, Mr. Patrick</td>\n      <td>32.0</td>\n      <td>0</td>\n      <td>0</td>\n      <td>370376</td>\n      <td>7.7500</td>\n      <td>NaN</td>\n      <td>Q</td>\n    </tr>\n  </tbody>\n</table>\n<p>891 rows × 10 columns</p>\n</div>"
     },
     "execution_count": 183,
     "metadata": {},
     "output_type": "execute_result"
    }
   ],
   "source": [
    "to_test = pd.read_csv(\"test.csv\", index_col=\"PassengerId\")\n",
    "df = pd.read_csv(\"train.csv\", index_col=\"PassengerId\")\n",
    "df"
   ],
   "metadata": {
    "collapsed": false,
    "ExecuteTime": {
     "end_time": "2024-03-02T18:48:39.328960Z",
     "start_time": "2024-03-02T18:48:39.313416Z"
    }
   },
   "id": "7437cf88e2628702",
   "execution_count": 183
  },
  {
   "cell_type": "code",
   "outputs": [
    {
     "data": {
      "text/plain": "Survived             Int64\nPclass               Int64\nName        string[python]\nAge                Float64\nSibSp                Int64\nParch                Int64\nTicket      string[python]\nFare               Float64\nCabin       string[python]\nEmbarked          category\ndtype: object"
     },
     "execution_count": 184,
     "metadata": {},
     "output_type": "execute_result"
    }
   ],
   "source": [
    "df = df.convert_dtypes()\n",
    "df[\"Embarked\"] = df[\"Embarked\"].astype(\"category\")\n",
    "df.dtypes"
   ],
   "metadata": {
    "collapsed": false,
    "ExecuteTime": {
     "end_time": "2024-03-02T18:48:39.337591Z",
     "start_time": "2024-03-02T18:48:39.330249Z"
    }
   },
   "id": "bc7c0dd7b79336e6",
   "execution_count": 184
  },
  {
   "cell_type": "code",
   "outputs": [
    {
     "name": "stdout",
     "output_type": "stream",
     "text": [
      "['Age', 'Cabin', 'Embarked']\n"
     ]
    }
   ],
   "source": [
    "X_train,X_test,y_train,y_test = train_test_split(df.drop(\"Survived\", axis=1), df[\"Survived\"], test_size=0.2, random_state=42)\n",
    "print(df.columns[df.isna().any(axis=0)].tolist())"
   ],
   "metadata": {
    "collapsed": false,
    "ExecuteTime": {
     "end_time": "2024-03-02T18:48:39.348990Z",
     "start_time": "2024-03-02T18:48:39.341130Z"
    }
   },
   "id": "311deef3a7079778",
   "execution_count": 185
  },
  {
   "cell_type": "markdown",
   "source": [
    "### Data Pre-Processing after splitting the data to prevent data - leakage"
   ],
   "metadata": {
    "collapsed": false
   },
   "id": "81f55df3da10ac26"
  },
  {
   "cell_type": "code",
   "outputs": [],
   "source": [
    "#Data Imputation for the Age column\n",
    "data = [X_train, X_test, to_test]\n",
    "for dataset in data:\n",
    "    mean = X_train[\"Age\"].mean()\n",
    "    std = X_test[\"Age\"].std()\n",
    "    is_null = dataset[\"Age\"].isna().sum()\n",
    "    rand_age = np.random.randint(mean - std, mean + std, size = is_null)\n",
    "    rand_age_series = pd.Series(rand_age, index=dataset[dataset[\"Age\"].isnull()].index)\n",
    "    dataset[\"Age\"].fillna(rand_age_series, inplace=True)\n",
    "    dataset[\"Age\"] = dataset[\"Age\"].astype(int)"
   ],
   "metadata": {
    "collapsed": false,
    "ExecuteTime": {
     "end_time": "2024-03-02T18:48:39.375029Z",
     "start_time": "2024-03-02T18:48:39.366530Z"
    }
   },
   "id": "382104a86596fa97",
   "execution_count": 186
  },
  {
   "cell_type": "code",
   "outputs": [],
   "source": [
    "#Feature Engineering the Deck Column \n",
    "#Cabins are mapped to a numerical Deck feature\n",
    "deck = {\"A\": 1, \"B\": 2, \"C\": 3, \"D\": 4, \"E\": 5, \"F\": 6, \"G\": 7, \"U\": 8}\n",
    "data = [X_train, X_test, to_test]\n",
    "\n",
    "for dataset in data:\n",
    "    dataset['Cabin'] = dataset['Cabin'].fillna(\"U0\")\n",
    "    dataset['Deck'] = dataset['Cabin'].map(lambda x: re.compile(\"([a-zA-Z]+)\").search(x).group())\n",
    "    dataset['Deck'] = dataset['Deck'].map(deck)\n",
    "    dataset['Deck'] = dataset['Deck'].fillna(0)\n",
    "    dataset['Deck'] = dataset['Deck'].astype(int)\n",
    "X_train = X_train.drop(['Cabin'], axis=1)\n",
    "X_test = X_test.drop(['Cabin'], axis=1)\n",
    "to_test = to_test.drop(['Cabin'], axis=1)"
   ],
   "metadata": {
    "collapsed": false,
    "ExecuteTime": {
     "end_time": "2024-03-02T18:48:39.394060Z",
     "start_time": "2024-03-02T18:48:39.383550Z"
    }
   },
   "id": "e8ca56c07025d74e",
   "execution_count": 187
  },
  {
   "cell_type": "code",
   "outputs": [],
   "source": [
    "X_train[\"Embarked\"].describe()\n",
    "for dataset in [X_train, X_test, to_test]:\n",
    "    dataset[\"Embarked\"].fillna(\"S\", inplace=True)"
   ],
   "metadata": {
    "collapsed": false,
    "ExecuteTime": {
     "end_time": "2024-03-02T18:48:39.411593Z",
     "start_time": "2024-03-02T18:48:39.406587Z"
    }
   },
   "id": "46c7b88f0da0a969",
   "execution_count": 188
  },
  {
   "cell_type": "code",
   "outputs": [
    {
     "data": {
      "text/plain": "Pclass      False\nName        False\nAge         False\nSibSp       False\nParch       False\nTicket      False\nFare        False\nEmbarked    False\nDeck        False\ndtype: bool"
     },
     "execution_count": 189,
     "metadata": {},
     "output_type": "execute_result"
    }
   ],
   "source": [
    "X_train.isna().any()"
   ],
   "metadata": {
    "collapsed": false,
    "ExecuteTime": {
     "end_time": "2024-03-02T18:48:39.544653Z",
     "start_time": "2024-03-02T18:48:39.539411Z"
    }
   },
   "id": "32c820fc22b56a5d",
   "execution_count": 189
  },
  {
   "cell_type": "code",
   "outputs": [
    {
     "data": {
      "text/plain": "             Pclass                                Name  Age  SibSp  Parch  \\\nPassengerId                                                                  \n332               1                 Partner, Mr. Austen   45      0      0   \n734               2          Berriman, Mr. William John   23      0      0   \n383               3                  Tikkanen, Mr. Juho   32      0      0   \n705               3             Hansen, Mr. Henrik Juul   26      1      0   \n814               3  Andersson, Miss. Ebba Iris Alfrida    6      4      2   \n...             ...                                 ...  ...    ...    ...   \n107               3    Salkjelsvik, Miss. Anna Kristine   21      0      0   \n271               1               Cairns, Mr. Alexander   21      0      0   \n861               3             Hansen, Mr. Claus Peter   41      2      0   \n436               1           Carter, Miss. Lucile Polk   14      1      2   \n103               1           White, Mr. Richard Frasar   21      0      1   \n\n                        Ticket     Fare Embarked  Deck  \nPassengerId                                             \n332                     113043     28.5        S     3  \n734                      28425     13.0        S     8  \n383          STON/O 2. 3101293    7.925        S     8  \n705                     350025   7.8542        S     8  \n814                     347082   31.275        S     8  \n...                        ...      ...      ...   ...  \n107                     343120     7.65        S     8  \n271                     113798     31.0        S     8  \n861                     350026  14.1083        S     8  \n436                     113760    120.0        S     2  \n103                      35281  77.2875        S     4  \n\n[712 rows x 9 columns]",
      "text/html": "<div>\n<style scoped>\n    .dataframe tbody tr th:only-of-type {\n        vertical-align: middle;\n    }\n\n    .dataframe tbody tr th {\n        vertical-align: top;\n    }\n\n    .dataframe thead th {\n        text-align: right;\n    }\n</style>\n<table border=\"1\" class=\"dataframe\">\n  <thead>\n    <tr style=\"text-align: right;\">\n      <th></th>\n      <th>Pclass</th>\n      <th>Name</th>\n      <th>Age</th>\n      <th>SibSp</th>\n      <th>Parch</th>\n      <th>Ticket</th>\n      <th>Fare</th>\n      <th>Embarked</th>\n      <th>Deck</th>\n    </tr>\n    <tr>\n      <th>PassengerId</th>\n      <th></th>\n      <th></th>\n      <th></th>\n      <th></th>\n      <th></th>\n      <th></th>\n      <th></th>\n      <th></th>\n      <th></th>\n    </tr>\n  </thead>\n  <tbody>\n    <tr>\n      <th>332</th>\n      <td>1</td>\n      <td>Partner, Mr. Austen</td>\n      <td>45</td>\n      <td>0</td>\n      <td>0</td>\n      <td>113043</td>\n      <td>28.5</td>\n      <td>S</td>\n      <td>3</td>\n    </tr>\n    <tr>\n      <th>734</th>\n      <td>2</td>\n      <td>Berriman, Mr. William John</td>\n      <td>23</td>\n      <td>0</td>\n      <td>0</td>\n      <td>28425</td>\n      <td>13.0</td>\n      <td>S</td>\n      <td>8</td>\n    </tr>\n    <tr>\n      <th>383</th>\n      <td>3</td>\n      <td>Tikkanen, Mr. Juho</td>\n      <td>32</td>\n      <td>0</td>\n      <td>0</td>\n      <td>STON/O 2. 3101293</td>\n      <td>7.925</td>\n      <td>S</td>\n      <td>8</td>\n    </tr>\n    <tr>\n      <th>705</th>\n      <td>3</td>\n      <td>Hansen, Mr. Henrik Juul</td>\n      <td>26</td>\n      <td>1</td>\n      <td>0</td>\n      <td>350025</td>\n      <td>7.8542</td>\n      <td>S</td>\n      <td>8</td>\n    </tr>\n    <tr>\n      <th>814</th>\n      <td>3</td>\n      <td>Andersson, Miss. Ebba Iris Alfrida</td>\n      <td>6</td>\n      <td>4</td>\n      <td>2</td>\n      <td>347082</td>\n      <td>31.275</td>\n      <td>S</td>\n      <td>8</td>\n    </tr>\n    <tr>\n      <th>...</th>\n      <td>...</td>\n      <td>...</td>\n      <td>...</td>\n      <td>...</td>\n      <td>...</td>\n      <td>...</td>\n      <td>...</td>\n      <td>...</td>\n      <td>...</td>\n    </tr>\n    <tr>\n      <th>107</th>\n      <td>3</td>\n      <td>Salkjelsvik, Miss. Anna Kristine</td>\n      <td>21</td>\n      <td>0</td>\n      <td>0</td>\n      <td>343120</td>\n      <td>7.65</td>\n      <td>S</td>\n      <td>8</td>\n    </tr>\n    <tr>\n      <th>271</th>\n      <td>1</td>\n      <td>Cairns, Mr. Alexander</td>\n      <td>21</td>\n      <td>0</td>\n      <td>0</td>\n      <td>113798</td>\n      <td>31.0</td>\n      <td>S</td>\n      <td>8</td>\n    </tr>\n    <tr>\n      <th>861</th>\n      <td>3</td>\n      <td>Hansen, Mr. Claus Peter</td>\n      <td>41</td>\n      <td>2</td>\n      <td>0</td>\n      <td>350026</td>\n      <td>14.1083</td>\n      <td>S</td>\n      <td>8</td>\n    </tr>\n    <tr>\n      <th>436</th>\n      <td>1</td>\n      <td>Carter, Miss. Lucile Polk</td>\n      <td>14</td>\n      <td>1</td>\n      <td>2</td>\n      <td>113760</td>\n      <td>120.0</td>\n      <td>S</td>\n      <td>2</td>\n    </tr>\n    <tr>\n      <th>103</th>\n      <td>1</td>\n      <td>White, Mr. Richard Frasar</td>\n      <td>21</td>\n      <td>0</td>\n      <td>1</td>\n      <td>35281</td>\n      <td>77.2875</td>\n      <td>S</td>\n      <td>4</td>\n    </tr>\n  </tbody>\n</table>\n<p>712 rows × 9 columns</p>\n</div>"
     },
     "execution_count": 190,
     "metadata": {},
     "output_type": "execute_result"
    }
   ],
   "source": [
    "X_train"
   ],
   "metadata": {
    "collapsed": false,
    "ExecuteTime": {
     "end_time": "2024-03-02T18:48:39.560415Z",
     "start_time": "2024-03-02T18:48:39.545660Z"
    }
   },
   "id": "815c21881eb895c2",
   "execution_count": 190
  },
  {
   "cell_type": "code",
   "outputs": [],
   "source": [
    "#Feature Engineering Title Column\n",
    "#X_train[\"Title\"] = X_train[\"Name\"].apply(lambda x: x.split(\",\")[1].split(\".\")[0].strip())\n",
    "#X_test[\"Title\"] = X_test[\"Name\"].apply(lambda x: x.split(\",\")[1].split(\".\")[0].strip())"
   ],
   "metadata": {
    "collapsed": false,
    "ExecuteTime": {
     "end_time": "2024-03-02T18:48:39.601849Z",
     "start_time": "2024-03-02T18:48:39.598790Z"
    }
   },
   "id": "f6cd938e3addfb44",
   "execution_count": 191
  },
  {
   "cell_type": "code",
   "outputs": [],
   "source": [
    "#Feature Engineering Family Size Column\n",
    "X_train[\"Fam_size\"] = X_train[\"SibSp\"] + X_train[\"Parch\"] + 1\n",
    "X_test[\"Fam_size\"] = X_test[\"SibSp\"] + X_test[\"Parch\"] + 1\n",
    "\n",
    "X_train[\"Fam_type\"] = pd.cut(X_train.Fam_size, [0,1,4,7,11], labels=[\"Solo\", \"Small\", \"Big\", \"Very big\"])\n",
    "X_test[\"Fam_type\"] = pd.cut(X_test.Fam_size, [0,1,4,7,11], labels=[\"Solo\", \"Small\", \"Big\", \"Very big\"])\n",
    "X_train.drop([\"SibSp\",\"Parch\",\"Fam_size\"], axis=1, inplace=True)\n",
    "X_test.drop([\"SibSp\",\"Parch\",\"Fam_size\"], axis=1, inplace=True)"
   ],
   "metadata": {
    "collapsed": false,
    "ExecuteTime": {
     "end_time": "2024-03-02T18:48:39.669986Z",
     "start_time": "2024-03-02T18:48:39.660625Z"
    }
   },
   "id": "7611fdcd2568120a",
   "execution_count": 192
  },
  {
   "cell_type": "code",
   "outputs": [
    {
     "data": {
      "text/plain": "             Pclass                                Name  Age  \\\nPassengerId                                                    \n332               1                 Partner, Mr. Austen   45   \n734               2          Berriman, Mr. William John   23   \n383               3                  Tikkanen, Mr. Juho   32   \n705               3             Hansen, Mr. Henrik Juul   26   \n814               3  Andersson, Miss. Ebba Iris Alfrida    6   \n...             ...                                 ...  ...   \n107               3    Salkjelsvik, Miss. Anna Kristine   21   \n271               1               Cairns, Mr. Alexander   21   \n861               3             Hansen, Mr. Claus Peter   41   \n436               1           Carter, Miss. Lucile Polk   14   \n103               1           White, Mr. Richard Frasar   21   \n\n                        Ticket     Fare Embarked  Deck Fam_type  \nPassengerId                                                      \n332                     113043     28.5        S     3     Solo  \n734                      28425     13.0        S     8     Solo  \n383          STON/O 2. 3101293    7.925        S     8     Solo  \n705                     350025   7.8542        S     8    Small  \n814                     347082   31.275        S     8      Big  \n...                        ...      ...      ...   ...      ...  \n107                     343120     7.65        S     8     Solo  \n271                     113798     31.0        S     8     Solo  \n861                     350026  14.1083        S     8    Small  \n436                     113760    120.0        S     2    Small  \n103                      35281  77.2875        S     4    Small  \n\n[712 rows x 8 columns]",
      "text/html": "<div>\n<style scoped>\n    .dataframe tbody tr th:only-of-type {\n        vertical-align: middle;\n    }\n\n    .dataframe tbody tr th {\n        vertical-align: top;\n    }\n\n    .dataframe thead th {\n        text-align: right;\n    }\n</style>\n<table border=\"1\" class=\"dataframe\">\n  <thead>\n    <tr style=\"text-align: right;\">\n      <th></th>\n      <th>Pclass</th>\n      <th>Name</th>\n      <th>Age</th>\n      <th>Ticket</th>\n      <th>Fare</th>\n      <th>Embarked</th>\n      <th>Deck</th>\n      <th>Fam_type</th>\n    </tr>\n    <tr>\n      <th>PassengerId</th>\n      <th></th>\n      <th></th>\n      <th></th>\n      <th></th>\n      <th></th>\n      <th></th>\n      <th></th>\n      <th></th>\n    </tr>\n  </thead>\n  <tbody>\n    <tr>\n      <th>332</th>\n      <td>1</td>\n      <td>Partner, Mr. Austen</td>\n      <td>45</td>\n      <td>113043</td>\n      <td>28.5</td>\n      <td>S</td>\n      <td>3</td>\n      <td>Solo</td>\n    </tr>\n    <tr>\n      <th>734</th>\n      <td>2</td>\n      <td>Berriman, Mr. William John</td>\n      <td>23</td>\n      <td>28425</td>\n      <td>13.0</td>\n      <td>S</td>\n      <td>8</td>\n      <td>Solo</td>\n    </tr>\n    <tr>\n      <th>383</th>\n      <td>3</td>\n      <td>Tikkanen, Mr. Juho</td>\n      <td>32</td>\n      <td>STON/O 2. 3101293</td>\n      <td>7.925</td>\n      <td>S</td>\n      <td>8</td>\n      <td>Solo</td>\n    </tr>\n    <tr>\n      <th>705</th>\n      <td>3</td>\n      <td>Hansen, Mr. Henrik Juul</td>\n      <td>26</td>\n      <td>350025</td>\n      <td>7.8542</td>\n      <td>S</td>\n      <td>8</td>\n      <td>Small</td>\n    </tr>\n    <tr>\n      <th>814</th>\n      <td>3</td>\n      <td>Andersson, Miss. Ebba Iris Alfrida</td>\n      <td>6</td>\n      <td>347082</td>\n      <td>31.275</td>\n      <td>S</td>\n      <td>8</td>\n      <td>Big</td>\n    </tr>\n    <tr>\n      <th>...</th>\n      <td>...</td>\n      <td>...</td>\n      <td>...</td>\n      <td>...</td>\n      <td>...</td>\n      <td>...</td>\n      <td>...</td>\n      <td>...</td>\n    </tr>\n    <tr>\n      <th>107</th>\n      <td>3</td>\n      <td>Salkjelsvik, Miss. Anna Kristine</td>\n      <td>21</td>\n      <td>343120</td>\n      <td>7.65</td>\n      <td>S</td>\n      <td>8</td>\n      <td>Solo</td>\n    </tr>\n    <tr>\n      <th>271</th>\n      <td>1</td>\n      <td>Cairns, Mr. Alexander</td>\n      <td>21</td>\n      <td>113798</td>\n      <td>31.0</td>\n      <td>S</td>\n      <td>8</td>\n      <td>Solo</td>\n    </tr>\n    <tr>\n      <th>861</th>\n      <td>3</td>\n      <td>Hansen, Mr. Claus Peter</td>\n      <td>41</td>\n      <td>350026</td>\n      <td>14.1083</td>\n      <td>S</td>\n      <td>8</td>\n      <td>Small</td>\n    </tr>\n    <tr>\n      <th>436</th>\n      <td>1</td>\n      <td>Carter, Miss. Lucile Polk</td>\n      <td>14</td>\n      <td>113760</td>\n      <td>120.0</td>\n      <td>S</td>\n      <td>2</td>\n      <td>Small</td>\n    </tr>\n    <tr>\n      <th>103</th>\n      <td>1</td>\n      <td>White, Mr. Richard Frasar</td>\n      <td>21</td>\n      <td>35281</td>\n      <td>77.2875</td>\n      <td>S</td>\n      <td>4</td>\n      <td>Small</td>\n    </tr>\n  </tbody>\n</table>\n<p>712 rows × 8 columns</p>\n</div>"
     },
     "execution_count": 193,
     "metadata": {},
     "output_type": "execute_result"
    }
   ],
   "source": [
    "X_train"
   ],
   "metadata": {
    "collapsed": false,
    "ExecuteTime": {
     "end_time": "2024-03-02T18:48:39.697485Z",
     "start_time": "2024-03-02T18:48:39.686477Z"
    }
   },
   "id": "440341c693d677f8",
   "execution_count": 193
  },
  {
   "cell_type": "markdown",
   "source": [
    "### Encode all Labels to String in order to pass through the GBM model"
   ],
   "metadata": {
    "collapsed": false
   },
   "id": "d79ef93bb1e9aec8"
  },
  {
   "cell_type": "code",
   "outputs": [
    {
     "data": {
      "text/plain": "             Pclass  Name  Age  Ticket  Fare  Embarked  Deck  Fam_type\nPassengerId                                                           \n332               0   499   45      15   133         2     3         2\n734               1    63   23     188    74         2     8         2\n383               2   642   32     543    37         2     8         2\n705               2   250   26     332    33         2     8         1\n814               2    19    6     277   141         2     8         0\n...             ...   ...  ...     ...   ...       ...   ...       ...\n107               2   574   21     245    23         2     8         2\n271               0    96   21      39   140         2     8         2\n861               2   249   41     333    81         2     8         1\n436               0   108   14      27   205         2     2         1\n103               0   684   21     348   185         2     4         1\n\n[712 rows x 8 columns]",
      "text/html": "<div>\n<style scoped>\n    .dataframe tbody tr th:only-of-type {\n        vertical-align: middle;\n    }\n\n    .dataframe tbody tr th {\n        vertical-align: top;\n    }\n\n    .dataframe thead th {\n        text-align: right;\n    }\n</style>\n<table border=\"1\" class=\"dataframe\">\n  <thead>\n    <tr style=\"text-align: right;\">\n      <th></th>\n      <th>Pclass</th>\n      <th>Name</th>\n      <th>Age</th>\n      <th>Ticket</th>\n      <th>Fare</th>\n      <th>Embarked</th>\n      <th>Deck</th>\n      <th>Fam_type</th>\n    </tr>\n    <tr>\n      <th>PassengerId</th>\n      <th></th>\n      <th></th>\n      <th></th>\n      <th></th>\n      <th></th>\n      <th></th>\n      <th></th>\n      <th></th>\n    </tr>\n  </thead>\n  <tbody>\n    <tr>\n      <th>332</th>\n      <td>0</td>\n      <td>499</td>\n      <td>45</td>\n      <td>15</td>\n      <td>133</td>\n      <td>2</td>\n      <td>3</td>\n      <td>2</td>\n    </tr>\n    <tr>\n      <th>734</th>\n      <td>1</td>\n      <td>63</td>\n      <td>23</td>\n      <td>188</td>\n      <td>74</td>\n      <td>2</td>\n      <td>8</td>\n      <td>2</td>\n    </tr>\n    <tr>\n      <th>383</th>\n      <td>2</td>\n      <td>642</td>\n      <td>32</td>\n      <td>543</td>\n      <td>37</td>\n      <td>2</td>\n      <td>8</td>\n      <td>2</td>\n    </tr>\n    <tr>\n      <th>705</th>\n      <td>2</td>\n      <td>250</td>\n      <td>26</td>\n      <td>332</td>\n      <td>33</td>\n      <td>2</td>\n      <td>8</td>\n      <td>1</td>\n    </tr>\n    <tr>\n      <th>814</th>\n      <td>2</td>\n      <td>19</td>\n      <td>6</td>\n      <td>277</td>\n      <td>141</td>\n      <td>2</td>\n      <td>8</td>\n      <td>0</td>\n    </tr>\n    <tr>\n      <th>...</th>\n      <td>...</td>\n      <td>...</td>\n      <td>...</td>\n      <td>...</td>\n      <td>...</td>\n      <td>...</td>\n      <td>...</td>\n      <td>...</td>\n    </tr>\n    <tr>\n      <th>107</th>\n      <td>2</td>\n      <td>574</td>\n      <td>21</td>\n      <td>245</td>\n      <td>23</td>\n      <td>2</td>\n      <td>8</td>\n      <td>2</td>\n    </tr>\n    <tr>\n      <th>271</th>\n      <td>0</td>\n      <td>96</td>\n      <td>21</td>\n      <td>39</td>\n      <td>140</td>\n      <td>2</td>\n      <td>8</td>\n      <td>2</td>\n    </tr>\n    <tr>\n      <th>861</th>\n      <td>2</td>\n      <td>249</td>\n      <td>41</td>\n      <td>333</td>\n      <td>81</td>\n      <td>2</td>\n      <td>8</td>\n      <td>1</td>\n    </tr>\n    <tr>\n      <th>436</th>\n      <td>0</td>\n      <td>108</td>\n      <td>14</td>\n      <td>27</td>\n      <td>205</td>\n      <td>2</td>\n      <td>2</td>\n      <td>1</td>\n    </tr>\n    <tr>\n      <th>103</th>\n      <td>0</td>\n      <td>684</td>\n      <td>21</td>\n      <td>348</td>\n      <td>185</td>\n      <td>2</td>\n      <td>4</td>\n      <td>1</td>\n    </tr>\n  </tbody>\n</table>\n<p>712 rows × 8 columns</p>\n</div>"
     },
     "execution_count": 194,
     "metadata": {},
     "output_type": "execute_result"
    }
   ],
   "source": [
    "X_train = X_train.apply(LabelEncoder().fit_transform)\n",
    "X_test = X_test.apply(LabelEncoder().fit_transform)\n",
    "to_test = to_test.apply(LabelEncoder().fit_transform)\n",
    "X_train"
   ],
   "metadata": {
    "collapsed": false,
    "ExecuteTime": {
     "end_time": "2024-03-02T18:48:39.727612Z",
     "start_time": "2024-03-02T18:48:39.711350Z"
    }
   },
   "id": "ea4249e0dc9aa4f2",
   "execution_count": 194
  },
  {
   "cell_type": "markdown",
   "source": [
    "### Cross-Fold Validation"
   ],
   "metadata": {
    "collapsed": false
   },
   "id": "e264278da47f49c2"
  },
  {
   "cell_type": "code",
   "outputs": [
    {
     "name": "stdout",
     "output_type": "stream",
     "text": [
      "Best: 0.727484 using {'learning_rate': 0.01, 'max_depth': 4, 'n_estimators': 300, 'subsample': 1.0}\n"
     ]
    }
   ],
   "source": [
    "model = XGBClassifier() # classifier used to tune hyperparameters\n",
    "param_grid = {\n",
    "    'max_depth': [3, 4, 5],\n",
    "    'learning_rate': [0.01, 0.1, 0.2],\n",
    "    'n_estimators': [100, 200, 300],\n",
    "    'subsample': [0.8, 0.9, 1.0]\n",
    "}\n",
    "\n",
    "k_fold = StratifiedKFold(n_splits=10, shuffle=True, random_state=42)\n",
    "grid_search = GridSearchCV(model, param_grid, scoring='accuracy', n_jobs=-1, cv=k_fold)\n",
    "grid_result = grid_search.fit(X_train, y_train)\n",
    "print(\"Best: %f using %s\" % (grid_result.best_score_, grid_result.best_params_))"
   ],
   "metadata": {
    "collapsed": false,
    "ExecuteTime": {
     "end_time": "2024-03-02T18:48:51.263454Z",
     "start_time": "2024-03-02T18:48:39.733737Z"
    }
   },
   "id": "d84d0e3eb04fb1a4",
   "execution_count": 195
  },
  {
   "cell_type": "code",
   "outputs": [
    {
     "name": "stdout",
     "output_type": "stream",
     "text": [
      "Best: 0.720520 using {'colsample_bytree': 0.6983570284160233, 'gamma': 0.3175591479500067, 'learning_rate': 0.012009738423161422, 'max_depth': 9, 'min_child_weight': 0, 'n_estimators': 454, 'reg_alpha': 0.056375496650927115, 'reg_lambda': 8.64722511532677, 'scale_pos_weight': 1, 'subsample': 0.7671731375147315}\n"
     ]
    }
   ],
   "source": [
    "param_distributions = {\n",
    "    'max_depth': randint(3, 10),  \n",
    "    'learning_rate': uniform(0.001, 0.299),  \n",
    "    'n_estimators': randint(50, 1000),\n",
    "    'subsample': uniform(0.5, 0.5),  \n",
    "    'colsample_bytree': uniform(0.3, 0.7),  \n",
    "    'min_child_weight': randint(0, 10),\n",
    "    'gamma': uniform(0, 5),\n",
    "    'reg_lambda': uniform(1e-5, 10 - 1e-5),  \n",
    "    'reg_alpha': uniform(0, 1),\n",
    "    'scale_pos_weight': [1, 10, 25, 50, 75, 100]\n",
    "}\n",
    "\n",
    "kfold = StratifiedKFold(n_splits=10, shuffle=True, random_state=42)\n",
    "random_search = RandomizedSearchCV(model, param_distributions, n_iter=100, scoring='accuracy', n_jobs=-1, cv=kfold, random_state=42)\n",
    "random_search.fit(X_train, y_train)\n",
    "\n",
    "print(\"Best: %f using %s\" % (random_search.best_score_, random_search.best_params_))"
   ],
   "metadata": {
    "collapsed": false,
    "ExecuteTime": {
     "end_time": "2024-03-02T18:49:14.267150Z",
     "start_time": "2024-03-02T18:48:51.265462Z"
    }
   },
   "id": "7bb830f204215c5c",
   "execution_count": 196
  },
  {
   "cell_type": "code",
   "outputs": [],
   "source": [
    "def objective(trial):\n",
    "    param = {\n",
    "        'verbosity': 0,\n",
    "        'objective': 'binary:logistic',  # or 'multi:softprob' for multiclass and set 'num_class'\n",
    "        'eval_metric': 'logloss',  # or another suitable metric\n",
    "        'learning_rate': trial.suggest_float('learning_rate', 0.01, 0.3),\n",
    "        'n_estimators': trial.suggest_int('n_estimators', 100, 1000),\n",
    "        'max_depth': trial.suggest_int('max_depth', 3, 9),\n",
    "        'min_child_weight': trial.suggest_int('min_child_weight', 1, 10),\n",
    "        'subsample': trial.suggest_float('subsample', 0.5, 1.0),\n",
    "        'colsample_bytree': trial.suggest_float('colsample_bytree', 0.5, 1.0),\n",
    "        'reg_alpha': trial.suggest_float('reg_alpha', 0.0, 1.0),\n",
    "        'reg_lambda': trial.suggest_float('reg_lambda', 1e-5, 100.0),\n",
    "    }\n",
    "\n",
    "    model = xgb.XGBClassifier(**param)\n",
    "    model.fit(X_train, y_train, eval_set=[(X_test, y_test)], verbose=False)\n",
    "    model.set_params(early_stopping_rounds=100)\n",
    "\n",
    "    preds = model.predict(X_test)\n",
    "    accuracy = accuracy_score(y_test, preds)\n",
    "    \n",
    "    return accuracy"
   ],
   "metadata": {
    "collapsed": false,
    "ExecuteTime": {
     "end_time": "2024-03-02T18:49:14.274774Z",
     "start_time": "2024-03-02T18:49:14.268155Z"
    }
   },
   "id": "eb7c96151e8b9c70",
   "execution_count": 197
  },
  {
   "cell_type": "code",
   "outputs": [
    {
     "name": "stderr",
     "output_type": "stream",
     "text": [
      "[I 2024-03-02 19:49:14,281] A new study created in memory with name: no-name-48b1d503-eec7-4a2b-82b9-4ab020baa5ee\n",
      "[I 2024-03-02 19:49:14,829] Trial 0 finished with value: 0.7094972067039106 and parameters: {'learning_rate': 0.035170417243975, 'n_estimators': 625, 'max_depth': 8, 'min_child_weight': 1, 'subsample': 0.8384941928080936, 'colsample_bytree': 0.5388103559391851, 'reg_alpha': 0.5131911100564954, 'reg_lambda': 58.064482735308616}. Best is trial 0 with value: 0.7094972067039106.\n",
      "[I 2024-03-02 19:49:15,195] Trial 1 finished with value: 0.7094972067039106 and parameters: {'learning_rate': 0.04955162092049209, 'n_estimators': 694, 'max_depth': 3, 'min_child_weight': 1, 'subsample': 0.86111415047129, 'colsample_bytree': 0.5100220641236789, 'reg_alpha': 0.27025897191251524, 'reg_lambda': 76.48971790489543}. Best is trial 0 with value: 0.7094972067039106.\n",
      "[I 2024-03-02 19:49:15,346] Trial 2 finished with value: 0.6983240223463687 and parameters: {'learning_rate': 0.2776587306633664, 'n_estimators': 215, 'max_depth': 8, 'min_child_weight': 6, 'subsample': 0.5230976584034325, 'colsample_bytree': 0.750618692545681, 'reg_alpha': 0.7952118797031045, 'reg_lambda': 32.89758598382634}. Best is trial 0 with value: 0.7094972067039106.\n",
      "[I 2024-03-02 19:49:15,612] Trial 3 finished with value: 0.6815642458100558 and parameters: {'learning_rate': 0.20499082811228073, 'n_estimators': 451, 'max_depth': 3, 'min_child_weight': 2, 'subsample': 0.6089808860888013, 'colsample_bytree': 0.8121898092836548, 'reg_alpha': 0.0351702254539239, 'reg_lambda': 81.84570186231583}. Best is trial 0 with value: 0.7094972067039106.\n",
      "[I 2024-03-02 19:49:15,944] Trial 4 finished with value: 0.6759776536312849 and parameters: {'learning_rate': 0.2381864100111324, 'n_estimators': 461, 'max_depth': 6, 'min_child_weight': 3, 'subsample': 0.7943005038379485, 'colsample_bytree': 0.8575758223180502, 'reg_alpha': 0.4458151701511629, 'reg_lambda': 21.077192345619203}. Best is trial 0 with value: 0.7094972067039106.\n",
      "[I 2024-03-02 19:49:16,433] Trial 5 finished with value: 0.6424581005586593 and parameters: {'learning_rate': 0.27722472007124693, 'n_estimators': 667, 'max_depth': 6, 'min_child_weight': 2, 'subsample': 0.9089941177770928, 'colsample_bytree': 0.8863014595207137, 'reg_alpha': 0.26978600817724485, 'reg_lambda': 17.34699536498522}. Best is trial 0 with value: 0.7094972067039106.\n",
      "[I 2024-03-02 19:49:16,850] Trial 6 finished with value: 0.6983240223463687 and parameters: {'learning_rate': 0.0813387599075638, 'n_estimators': 751, 'max_depth': 4, 'min_child_weight': 3, 'subsample': 0.6728911666359629, 'colsample_bytree': 0.9455159218151614, 'reg_alpha': 0.3697246235928524, 'reg_lambda': 24.964990874202094}. Best is trial 0 with value: 0.7094972067039106.\n",
      "[I 2024-03-02 19:49:17,237] Trial 7 finished with value: 0.664804469273743 and parameters: {'learning_rate': 0.2300002390990408, 'n_estimators': 519, 'max_depth': 8, 'min_child_weight': 3, 'subsample': 0.9388948611549994, 'colsample_bytree': 0.7682688411553233, 'reg_alpha': 0.2087697020349758, 'reg_lambda': 13.546479766102102}. Best is trial 0 with value: 0.7094972067039106.\n",
      "[I 2024-03-02 19:49:17,507] Trial 8 finished with value: 0.7094972067039106 and parameters: {'learning_rate': 0.11057779097480687, 'n_estimators': 406, 'max_depth': 6, 'min_child_weight': 4, 'subsample': 0.7672288631091607, 'colsample_bytree': 0.5240195913598871, 'reg_alpha': 0.1563689079709819, 'reg_lambda': 72.41756821751416}. Best is trial 0 with value: 0.7094972067039106.\n",
      "[I 2024-03-02 19:49:18,110] Trial 9 finished with value: 0.6815642458100558 and parameters: {'learning_rate': 0.11171530648942372, 'n_estimators': 847, 'max_depth': 7, 'min_child_weight': 1, 'subsample': 0.5758067775611488, 'colsample_bytree': 0.8837187677676286, 'reg_alpha': 0.2619726135640901, 'reg_lambda': 61.834848524566326}. Best is trial 0 with value: 0.7094972067039106.\n",
      "[I 2024-03-02 19:49:18,708] Trial 10 finished with value: 0.7150837988826816 and parameters: {'learning_rate': 0.020056168885058373, 'n_estimators': 948, 'max_depth': 9, 'min_child_weight': 9, 'subsample': 0.9783499938474718, 'colsample_bytree': 0.6465560583092488, 'reg_alpha': 0.7242407350090891, 'reg_lambda': 47.59966647830836}. Best is trial 10 with value: 0.7150837988826816.\n",
      "[I 2024-03-02 19:49:19,312] Trial 11 finished with value: 0.7318435754189944 and parameters: {'learning_rate': 0.015593611091829902, 'n_estimators': 952, 'max_depth': 9, 'min_child_weight': 10, 'subsample': 0.9832010270684799, 'colsample_bytree': 0.6067291657275848, 'reg_alpha': 0.6854449687883762, 'reg_lambda': 47.79473245862286}. Best is trial 11 with value: 0.7318435754189944.\n",
      "[I 2024-03-02 19:49:19,935] Trial 12 finished with value: 0.7150837988826816 and parameters: {'learning_rate': 0.023792743757130745, 'n_estimators': 987, 'max_depth': 9, 'min_child_weight': 10, 'subsample': 0.9578437630491423, 'colsample_bytree': 0.6389143265520227, 'reg_alpha': 0.7668060517668656, 'reg_lambda': 45.013989730342544}. Best is trial 11 with value: 0.7318435754189944.\n",
      "[I 2024-03-02 19:49:20,541] Trial 13 finished with value: 0.7150837988826816 and parameters: {'learning_rate': 0.010409975977377396, 'n_estimators': 1000, 'max_depth': 9, 'min_child_weight': 10, 'subsample': 0.9785995113134756, 'colsample_bytree': 0.6455915186513088, 'reg_alpha': 0.9920708881554529, 'reg_lambda': 44.369406111916994}. Best is trial 11 with value: 0.7318435754189944.\n",
      "[I 2024-03-02 19:49:21,009] Trial 14 finished with value: 0.6871508379888268 and parameters: {'learning_rate': 0.16286422618583873, 'n_estimators': 839, 'max_depth': 9, 'min_child_weight': 8, 'subsample': 0.6920089335911178, 'colsample_bytree': 0.6406036252563787, 'reg_alpha': 0.6359618287105333, 'reg_lambda': 97.2542298604232}. Best is trial 11 with value: 0.7318435754189944.\n",
      "[I 2024-03-02 19:49:21,593] Trial 15 finished with value: 0.6815642458100558 and parameters: {'learning_rate': 0.06918022226203036, 'n_estimators': 876, 'max_depth': 7, 'min_child_weight': 7, 'subsample': 0.8848119267343838, 'colsample_bytree': 0.6860113282203603, 'reg_alpha': 0.6733899330990358, 'reg_lambda': 3.3237050816644427}. Best is trial 11 with value: 0.7318435754189944.\n",
      "[I 2024-03-02 19:49:21,724] Trial 16 finished with value: 0.7094972067039106 and parameters: {'learning_rate': 0.14236904372744036, 'n_estimators': 140, 'max_depth': 5, 'min_child_weight': 9, 'subsample': 0.9734579964948012, 'colsample_bytree': 0.5758185557615638, 'reg_alpha': 0.9523156041909787, 'reg_lambda': 34.557140216761255}. Best is trial 11 with value: 0.7318435754189944.\n",
      "[I 2024-03-02 19:49:22,281] Trial 17 finished with value: 0.6871508379888268 and parameters: {'learning_rate': 0.07574493463395474, 'n_estimators': 922, 'max_depth': 7, 'min_child_weight': 8, 'subsample': 0.8342896655647338, 'colsample_bytree': 0.7075197954974912, 'reg_alpha': 0.8595216242932981, 'reg_lambda': 53.60520378420597}. Best is trial 11 with value: 0.7318435754189944.\n",
      "[I 2024-03-02 19:49:22,744] Trial 18 finished with value: 0.7039106145251397 and parameters: {'learning_rate': 0.10961140762464763, 'n_estimators': 738, 'max_depth': 9, 'min_child_weight': 9, 'subsample': 0.997960021989888, 'colsample_bytree': 0.588497837896399, 'reg_alpha': 0.5997150166442392, 'reg_lambda': 67.42774875394534}. Best is trial 11 with value: 0.7318435754189944.\n",
      "[I 2024-03-02 19:49:22,990] Trial 19 finished with value: 0.6983240223463687 and parameters: {'learning_rate': 0.04881458096213925, 'n_estimators': 338, 'max_depth': 8, 'min_child_weight': 6, 'subsample': 0.7096069147907327, 'colsample_bytree': 0.6901509174740632, 'reg_alpha': 0.7079048887107313, 'reg_lambda': 36.523334854612955}. Best is trial 11 with value: 0.7318435754189944.\n",
      "[I 2024-03-02 19:49:23,445] Trial 20 finished with value: 0.6927374301675978 and parameters: {'learning_rate': 0.16212654248146793, 'n_estimators': 794, 'max_depth': 5, 'min_child_weight': 9, 'subsample': 0.9214017511401313, 'colsample_bytree': 0.5883241215546521, 'reg_alpha': 0.5330596441316093, 'reg_lambda': 91.89162841589734}. Best is trial 11 with value: 0.7318435754189944.\n",
      "[I 2024-03-02 19:49:24,077] Trial 21 finished with value: 0.7318435754189944 and parameters: {'learning_rate': 0.01441558696803183, 'n_estimators': 992, 'max_depth': 9, 'min_child_weight': 10, 'subsample': 0.9427423726308269, 'colsample_bytree': 0.6435142905465275, 'reg_alpha': 0.7859821712207294, 'reg_lambda': 46.12118480153625}. Best is trial 11 with value: 0.7318435754189944.\n",
      "[I 2024-03-02 19:49:24,637] Trial 22 finished with value: 0.7206703910614525 and parameters: {'learning_rate': 0.015219850486563168, 'n_estimators': 924, 'max_depth': 9, 'min_child_weight': 10, 'subsample': 0.9222870938647213, 'colsample_bytree': 0.621423385513096, 'reg_alpha': 0.8713355506780351, 'reg_lambda': 48.33599097105641}. Best is trial 11 with value: 0.7318435754189944.\n",
      "[I 2024-03-02 19:49:25,200] Trial 23 finished with value: 0.7039106145251397 and parameters: {'learning_rate': 0.04868723721068775, 'n_estimators': 897, 'max_depth': 8, 'min_child_weight': 10, 'subsample': 0.8890695815231007, 'colsample_bytree': 0.5687031512535755, 'reg_alpha': 0.8821313900606118, 'reg_lambda': 40.829727682931235}. Best is trial 11 with value: 0.7318435754189944.\n",
      "[I 2024-03-02 19:49:25,696] Trial 24 finished with value: 0.7206703910614525 and parameters: {'learning_rate': 0.010384066934562968, 'n_estimators': 802, 'max_depth': 9, 'min_child_weight': 8, 'subsample': 0.8122050133573018, 'colsample_bytree': 0.617123741522501, 'reg_alpha': 0.885994213959758, 'reg_lambda': 52.12191910774672}. Best is trial 11 with value: 0.7318435754189944.\n",
      "[I 2024-03-02 19:49:26,262] Trial 25 finished with value: 0.6815642458100558 and parameters: {'learning_rate': 0.08778573995211689, 'n_estimators': 918, 'max_depth': 7, 'min_child_weight': 10, 'subsample': 0.9253939532442598, 'colsample_bytree': 0.717814280801627, 'reg_alpha': 0.8009034191025206, 'reg_lambda': 29.59220275753355}. Best is trial 11 with value: 0.7318435754189944.\n",
      "[I 2024-03-02 19:49:26,963] Trial 26 finished with value: 0.7150837988826816 and parameters: {'learning_rate': 0.038835199551442726, 'n_estimators': 991, 'max_depth': 8, 'min_child_weight': 7, 'subsample': 0.9994009027287182, 'colsample_bytree': 0.9957441498294148, 'reg_alpha': 0.5882182127938035, 'reg_lambda': 64.91448578530205}. Best is trial 11 with value: 0.7318435754189944.\n",
      "[I 2024-03-02 19:49:27,384] Trial 27 finished with value: 0.6983240223463687 and parameters: {'learning_rate': 0.06299798261742381, 'n_estimators': 586, 'max_depth': 9, 'min_child_weight': 5, 'subsample': 0.863081740221145, 'colsample_bytree': 0.7963877263197422, 'reg_alpha': 0.9311706202786068, 'reg_lambda': 53.85950168523091}. Best is trial 11 with value: 0.7318435754189944.\n",
      "[I 2024-03-02 19:49:27,922] Trial 28 finished with value: 0.7206703910614525 and parameters: {'learning_rate': 0.030516711889500045, 'n_estimators': 794, 'max_depth': 8, 'min_child_weight': 7, 'subsample': 0.940104723179691, 'colsample_bytree': 0.6730508946251843, 'reg_alpha': 0.8302047314883714, 'reg_lambda': 41.18071279998658}. Best is trial 11 with value: 0.7318435754189944.\n",
      "[I 2024-03-02 19:49:28,281] Trial 29 finished with value: 0.6927374301675978 and parameters: {'learning_rate': 0.13007367017638505, 'n_estimators': 627, 'max_depth': 8, 'min_child_weight': 10, 'subsample': 0.7357369948163447, 'colsample_bytree': 0.5459955201568811, 'reg_alpha': 0.5314754730896181, 'reg_lambda': 60.287860675367014}. Best is trial 11 with value: 0.7318435754189944.\n",
      "[I 2024-03-02 19:49:28,822] Trial 30 finished with value: 0.6815642458100558 and parameters: {'learning_rate': 0.18942694124809362, 'n_estimators': 940, 'max_depth': 9, 'min_child_weight': 9, 'subsample': 0.8405878716360325, 'colsample_bytree': 0.6143615816269821, 'reg_alpha': 0.45631590863217175, 'reg_lambda': 54.539954844706756}. Best is trial 11 with value: 0.7318435754189944.\n",
      "[I 2024-03-02 19:49:29,333] Trial 31 finished with value: 0.7318435754189944 and parameters: {'learning_rate': 0.010919728010442178, 'n_estimators': 829, 'max_depth': 9, 'min_child_weight': 8, 'subsample': 0.8025017386183385, 'colsample_bytree': 0.5488228818437576, 'reg_alpha': 0.9144942156480644, 'reg_lambda': 52.19407904244847}. Best is trial 11 with value: 0.7318435754189944.\n",
      "[I 2024-03-02 19:49:29,872] Trial 32 finished with value: 0.7262569832402235 and parameters: {'learning_rate': 0.036601671944359995, 'n_estimators': 868, 'max_depth': 9, 'min_child_weight': 8, 'subsample': 0.8940587146672997, 'colsample_bytree': 0.5437299501923605, 'reg_alpha': 0.7470064359377271, 'reg_lambda': 47.302225551216424}. Best is trial 11 with value: 0.7318435754189944.\n",
      "[I 2024-03-02 19:49:30,330] Trial 33 finished with value: 0.7150837988826816 and parameters: {'learning_rate': 0.03654194965900304, 'n_estimators': 703, 'max_depth': 9, 'min_child_weight': 8, 'subsample': 0.8849406207873619, 'colsample_bytree': 0.5031384147834108, 'reg_alpha': 0.7502652636409474, 'reg_lambda': 38.64416669754052}. Best is trial 11 with value: 0.7318435754189944.\n",
      "[I 2024-03-02 19:49:30,836] Trial 34 finished with value: 0.7150837988826816 and parameters: {'learning_rate': 0.05985933332351119, 'n_estimators': 855, 'max_depth': 8, 'min_child_weight': 7, 'subsample': 0.7663875365328354, 'colsample_bytree': 0.5450438787795929, 'reg_alpha': 0.6579061298502932, 'reg_lambda': 69.9686670494955}. Best is trial 11 with value: 0.7318435754189944.\n",
      "[I 2024-03-02 19:49:31,333] Trial 35 finished with value: 0.7206703910614525 and parameters: {'learning_rate': 0.03988811680405761, 'n_estimators': 759, 'max_depth': 9, 'min_child_weight': 5, 'subsample': 0.8504083882492567, 'colsample_bytree': 0.5537307437207114, 'reg_alpha': 0.7811225708267114, 'reg_lambda': 82.33732086853283}. Best is trial 11 with value: 0.7318435754189944.\n",
      "[I 2024-03-02 19:49:31,856] Trial 36 finished with value: 0.7039106145251397 and parameters: {'learning_rate': 0.0908760219071491, 'n_estimators': 830, 'max_depth': 7, 'min_child_weight': 6, 'subsample': 0.8141489704595332, 'colsample_bytree': 0.5203155403835646, 'reg_alpha': 0.7063579724084802, 'reg_lambda': 57.27328716676342}. Best is trial 11 with value: 0.7318435754189944.\n",
      "[I 2024-03-02 19:49:32,371] Trial 37 finished with value: 0.6201117318435754 and parameters: {'learning_rate': 0.29979467761536926, 'n_estimators': 959, 'max_depth': 8, 'min_child_weight': 8, 'subsample': 0.6430024266670071, 'colsample_bytree': 0.5023391813887438, 'reg_alpha': 0.9648099102605812, 'reg_lambda': 26.63765115360609}. Best is trial 11 with value: 0.7318435754189944.\n",
      "[I 2024-03-02 19:49:32,827] Trial 38 finished with value: 0.7150837988826816 and parameters: {'learning_rate': 0.030696299168058928, 'n_estimators': 688, 'max_depth': 8, 'min_child_weight': 9, 'subsample': 0.8924390487766337, 'colsample_bytree': 0.5956675595117166, 'reg_alpha': 0.8110585809831771, 'reg_lambda': 33.25505716086107}. Best is trial 11 with value: 0.7318435754189944.\n",
      "[I 2024-03-02 19:49:33,057] Trial 39 finished with value: 0.7150837988826816 and parameters: {'learning_rate': 0.05375000406460115, 'n_estimators': 304, 'max_depth': 9, 'min_child_weight': 9, 'subsample': 0.7922219325921145, 'colsample_bytree': 0.7307129847103283, 'reg_alpha': 0.9167671842208968, 'reg_lambda': 60.27495523417994}. Best is trial 11 with value: 0.7318435754189944.\n",
      "[I 2024-03-02 19:49:33,520] Trial 40 finished with value: 0.7150837988826816 and parameters: {'learning_rate': 0.028371644421901904, 'n_estimators': 893, 'max_depth': 3, 'min_child_weight': 8, 'subsample': 0.8672797736742113, 'colsample_bytree': 0.5609586979216141, 'reg_alpha': 0.3472719838901452, 'reg_lambda': 75.34671559225126}. Best is trial 11 with value: 0.7318435754189944.\n",
      "[I 2024-03-02 19:49:34,054] Trial 41 finished with value: 0.7318435754189944 and parameters: {'learning_rate': 0.014859810231387542, 'n_estimators': 891, 'max_depth': 9, 'min_child_weight': 10, 'subsample': 0.958497240358331, 'colsample_bytree': 0.6049262968970035, 'reg_alpha': 0.8551444326891355, 'reg_lambda': 49.53679681365303}. Best is trial 11 with value: 0.7318435754189944.\n",
      "[I 2024-03-02 19:49:34,570] Trial 42 finished with value: 0.7318435754189944 and parameters: {'learning_rate': 0.01159597108367838, 'n_estimators': 877, 'max_depth': 9, 'min_child_weight': 10, 'subsample': 0.9520926477674999, 'colsample_bytree': 0.5355446969776916, 'reg_alpha': 0.8285822545924673, 'reg_lambda': 49.550933996279994}. Best is trial 11 with value: 0.7318435754189944.\n",
      "[I 2024-03-02 19:49:35,238] Trial 43 finished with value: 0.7318435754189944 and parameters: {'learning_rate': 0.01924934874362957, 'n_estimators': 958, 'max_depth': 8, 'min_child_weight': 10, 'subsample': 0.9536410744830088, 'colsample_bytree': 0.6677421067563125, 'reg_alpha': 0.8160612359133333, 'reg_lambda': 43.21078054788166}. Best is trial 11 with value: 0.7318435754189944.\n",
      "[I 2024-03-02 19:49:35,767] Trial 44 finished with value: 0.7262569832402235 and parameters: {'learning_rate': 0.011387172180263104, 'n_estimators': 817, 'max_depth': 4, 'min_child_weight': 10, 'subsample': 0.9575003069767888, 'colsample_bytree': 0.6038309575248951, 'reg_alpha': 0.9246798309969597, 'reg_lambda': 51.045025964448406}. Best is trial 11 with value: 0.7318435754189944.\n",
      "[I 2024-03-02 19:49:36,232] Trial 45 finished with value: 0.6927374301675978 and parameters: {'learning_rate': 0.050644535111915565, 'n_estimators': 742, 'max_depth': 9, 'min_child_weight': 9, 'subsample': 0.5621066778831642, 'colsample_bytree': 0.578560616548816, 'reg_alpha': 0.8405577481591352, 'reg_lambda': 56.860087419392194}. Best is trial 11 with value: 0.7318435754189944.\n",
      "[I 2024-03-02 19:49:36,850] Trial 46 finished with value: 0.6536312849162011 and parameters: {'learning_rate': 0.2400265363700121, 'n_estimators': 998, 'max_depth': 9, 'min_child_weight': 10, 'subsample': 0.9417053574470652, 'colsample_bytree': 0.5215859331575333, 'reg_alpha': 0.047544114378285984, 'reg_lambda': 64.12268375241294}. Best is trial 11 with value: 0.7318435754189944.\n",
      "[I 2024-03-02 19:49:37,416] Trial 47 finished with value: 0.7262569832402235 and parameters: {'learning_rate': 0.02574545276680837, 'n_estimators': 885, 'max_depth': 9, 'min_child_weight': 10, 'subsample': 0.9763261023062171, 'colsample_bytree': 0.6599622638029856, 'reg_alpha': 0.9785840376158061, 'reg_lambda': 48.90730134463892}. Best is trial 11 with value: 0.7318435754189944.\n",
      "[I 2024-03-02 19:49:38,024] Trial 48 finished with value: 0.7039106145251397 and parameters: {'learning_rate': 0.0996473216075941, 'n_estimators': 959, 'max_depth': 8, 'min_child_weight': 9, 'subsample': 0.9710256510300082, 'colsample_bytree': 0.6172500316668946, 'reg_alpha': 0.9026463776911858, 'reg_lambda': 36.659871013796966}. Best is trial 11 with value: 0.7318435754189944.\n",
      "[I 2024-03-02 19:49:38,392] Trial 49 finished with value: 0.7094972067039106 and parameters: {'learning_rate': 0.07093962114108378, 'n_estimators': 645, 'max_depth': 9, 'min_child_weight': 10, 'subsample': 0.5049513856730166, 'colsample_bytree': 0.759043504844052, 'reg_alpha': 0.6888802792065483, 'reg_lambda': 17.594757505659388}. Best is trial 11 with value: 0.7318435754189944.\n",
      "[I 2024-03-02 19:49:38,754] Trial 50 finished with value: 0.7206703910614525 and parameters: {'learning_rate': 0.04432409257902599, 'n_estimators': 552, 'max_depth': 6, 'min_child_weight': 9, 'subsample': 0.9046753302040446, 'colsample_bytree': 0.5372530223255756, 'reg_alpha': 0.615841446135017, 'reg_lambda': 43.44114966661857}. Best is trial 11 with value: 0.7318435754189944.\n",
      "[I 2024-03-02 19:49:39,399] Trial 51 finished with value: 0.7374301675977654 and parameters: {'learning_rate': 0.017620125163183186, 'n_estimators': 953, 'max_depth': 8, 'min_child_weight': 10, 'subsample': 0.9509984957416191, 'colsample_bytree': 0.6358230957636279, 'reg_alpha': 0.8263766431412558, 'reg_lambda': 45.60824557768336}. Best is trial 51 with value: 0.7374301675977654.\n",
      "[I 2024-03-02 19:49:40,033] Trial 52 finished with value: 0.7262569832402235 and parameters: {'learning_rate': 0.023136271704989938, 'n_estimators': 901, 'max_depth': 9, 'min_child_weight': 10, 'subsample': 0.9947902687686965, 'colsample_bytree': 0.630561215680808, 'reg_alpha': 0.7671040419765099, 'reg_lambda': 30.461209230557213}. Best is trial 51 with value: 0.7374301675977654.\n",
      "[I 2024-03-02 19:49:40,652] Trial 53 finished with value: 0.7318435754189944 and parameters: {'learning_rate': 0.010585261884996654, 'n_estimators': 960, 'max_depth': 8, 'min_child_weight': 9, 'subsample': 0.918055198173029, 'colsample_bytree': 0.5746142328289445, 'reg_alpha': 0.8560745406240112, 'reg_lambda': 46.02034076737736}. Best is trial 51 with value: 0.7374301675977654.\n",
      "[I 2024-03-02 19:49:41,196] Trial 54 finished with value: 0.7318435754189944 and parameters: {'learning_rate': 0.021139427715876208, 'n_estimators': 853, 'max_depth': 9, 'min_child_weight': 10, 'subsample': 0.9576668855677203, 'colsample_bytree': 0.6500947717309982, 'reg_alpha': 0.7314594701880829, 'reg_lambda': 39.39390643620068}. Best is trial 51 with value: 0.7374301675977654.\n",
      "[I 2024-03-02 19:49:41,748] Trial 55 finished with value: 0.7206703910614525 and parameters: {'learning_rate': 0.03129393642855488, 'n_estimators': 777, 'max_depth': 9, 'min_child_weight': 9, 'subsample': 0.9375431216475225, 'colsample_bytree': 0.5968983625074634, 'reg_alpha': 0.7814806203906017, 'reg_lambda': 50.526087280776515}. Best is trial 51 with value: 0.7374301675977654.\n",
      "[I 2024-03-02 19:49:42,336] Trial 56 finished with value: 0.6983240223463687 and parameters: {'learning_rate': 0.06032194138503068, 'n_estimators': 922, 'max_depth': 8, 'min_child_weight': 10, 'subsample': 0.988615412733267, 'colsample_bytree': 0.6894352136192996, 'reg_alpha': 0.9933223280870654, 'reg_lambda': 56.08799077461688}. Best is trial 51 with value: 0.7374301675977654.\n",
      "[I 2024-03-02 19:49:42,676] Trial 57 finished with value: 0.7318435754189944 and parameters: {'learning_rate': 0.021770769236705755, 'n_estimators': 451, 'max_depth': 9, 'min_child_weight': 4, 'subsample': 0.968929300640472, 'colsample_bytree': 0.5306453085211993, 'reg_alpha': 0.8460792923802404, 'reg_lambda': 44.52399829377779}. Best is trial 51 with value: 0.7374301675977654.\n",
      "[I 2024-03-02 19:49:43,279] Trial 58 finished with value: 0.6927374301675978 and parameters: {'learning_rate': 0.04645925338392471, 'n_estimators': 978, 'max_depth': 7, 'min_child_weight': 10, 'subsample': 0.9071009344881862, 'colsample_bytree': 0.8555575669351361, 'reg_alpha': 0.9460771466126212, 'reg_lambda': 61.245121245778826}. Best is trial 51 with value: 0.7374301675977654.\n",
      "[I 2024-03-02 19:49:43,841] Trial 59 finished with value: 0.7150837988826816 and parameters: {'learning_rate': 0.010522787899201417, 'n_estimators': 872, 'max_depth': 9, 'min_child_weight': 9, 'subsample': 0.9390411476030167, 'colsample_bytree': 0.6320892597503882, 'reg_alpha': 0.8082467968360904, 'reg_lambda': 50.02052752644329}. Best is trial 51 with value: 0.7374301675977654.\n",
      "[I 2024-03-02 19:49:44,306] Trial 60 finished with value: 0.6536312849162011 and parameters: {'learning_rate': 0.1981556439901517, 'n_estimators': 826, 'max_depth': 8, 'min_child_weight': 10, 'subsample': 0.7218272781298911, 'colsample_bytree': 0.5595443240381994, 'reg_alpha': 0.568548919760898, 'reg_lambda': 0.8821341296401428}. Best is trial 51 with value: 0.7374301675977654.\n",
      "[I 2024-03-02 19:49:44,904] Trial 61 finished with value: 0.7374301675977654 and parameters: {'learning_rate': 0.01813100004144475, 'n_estimators': 943, 'max_depth': 8, 'min_child_weight': 10, 'subsample': 0.9521218055499248, 'colsample_bytree': 0.675234877397583, 'reg_alpha': 0.8820959247034321, 'reg_lambda': 42.536238527672666}. Best is trial 51 with value: 0.7374301675977654.\n",
      "[I 2024-03-02 19:49:45,510] Trial 62 finished with value: 0.7039106145251397 and parameters: {'learning_rate': 0.021936272853814914, 'n_estimators': 931, 'max_depth': 6, 'min_child_weight': 10, 'subsample': 0.9281738102406162, 'colsample_bytree': 0.6992241687562143, 'reg_alpha': 0.8741334991123255, 'reg_lambda': 41.633820046999475}. Best is trial 51 with value: 0.7374301675977654.\n",
      "[I 2024-03-02 19:49:46,209] Trial 63 finished with value: 0.7039106145251397 and parameters: {'learning_rate': 0.03727643200592311, 'n_estimators': 902, 'max_depth': 7, 'min_child_weight': 9, 'subsample': 0.9505052110121985, 'colsample_bytree': 0.7381312785777605, 'reg_alpha': 0.9002047121142551, 'reg_lambda': 36.823494631931744}. Best is trial 51 with value: 0.7374301675977654.\n",
      "[I 2024-03-02 19:49:46,939] Trial 64 finished with value: 0.6927374301675978 and parameters: {'learning_rate': 0.019307583915898683, 'n_estimators': 996, 'max_depth': 5, 'min_child_weight': 1, 'subsample': 0.9827223171628248, 'colsample_bytree': 0.6576394259215488, 'reg_alpha': 0.6555534344091485, 'reg_lambda': 53.552942830382975}. Best is trial 51 with value: 0.7374301675977654.\n",
      "[I 2024-03-02 19:49:47,498] Trial 65 finished with value: 0.7094972067039106 and parameters: {'learning_rate': 0.040863083117002666, 'n_estimators': 937, 'max_depth': 9, 'min_child_weight': 10, 'subsample': 0.6684104486700505, 'colsample_bytree': 0.6756136380988965, 'reg_alpha': 0.8420325265353618, 'reg_lambda': 46.2998387992237}. Best is trial 51 with value: 0.7374301675977654.\n",
      "[I 2024-03-02 19:49:47,620] Trial 66 finished with value: 0.7318435754189944 and parameters: {'learning_rate': 0.0779953155697361, 'n_estimators': 110, 'max_depth': 8, 'min_child_weight': 9, 'subsample': 0.87521775639936, 'colsample_bytree': 0.6065507943570452, 'reg_alpha': 0.9403548996217107, 'reg_lambda': 30.157543650708924}. Best is trial 51 with value: 0.7374301675977654.\n",
      "[I 2024-03-02 19:49:48,198] Trial 67 finished with value: 0.7039106145251397 and parameters: {'learning_rate': 0.05848040141610232, 'n_estimators': 970, 'max_depth': 9, 'min_child_weight': 10, 'subsample': 0.9081060862138437, 'colsample_bytree': 0.5839334427928381, 'reg_alpha': 0.7206219983982363, 'reg_lambda': 58.39275965560195}. Best is trial 51 with value: 0.7374301675977654.\n",
      "[I 2024-03-02 19:49:48,643] Trial 68 finished with value: 0.7150837988826816 and parameters: {'learning_rate': 0.029115926087964934, 'n_estimators': 489, 'max_depth': 8, 'min_child_weight': 2, 'subsample': 0.9751405157907537, 'colsample_bytree': 0.634005569406889, 'reg_alpha': 0.8893434534942946, 'reg_lambda': 48.00225240500515}. Best is trial 51 with value: 0.7374301675977654.\n",
      "[I 2024-03-02 19:49:49,215] Trial 69 finished with value: 0.6983240223463687 and parameters: {'learning_rate': 0.1260682452361979, 'n_estimators': 851, 'max_depth': 9, 'min_child_weight': 8, 'subsample': 0.9622523195441284, 'colsample_bytree': 0.5681623036127194, 'reg_alpha': 0.7893724859892207, 'reg_lambda': 39.155560933967834}. Best is trial 51 with value: 0.7374301675977654.\n",
      "[I 2024-03-02 19:49:49,512] Trial 70 finished with value: 0.7094972067039106 and parameters: {'learning_rate': 0.017019532969443564, 'n_estimators': 407, 'max_depth': 9, 'min_child_weight': 10, 'subsample': 0.9977892800185157, 'colsample_bytree': 0.7839109042320928, 'reg_alpha': 0.7620173142803608, 'reg_lambda': 65.48011418501318}. Best is trial 51 with value: 0.7374301675977654.\n",
      "[I 2024-03-02 19:49:50,142] Trial 71 finished with value: 0.7374301675977654 and parameters: {'learning_rate': 0.017840514277320224, 'n_estimators': 957, 'max_depth': 8, 'min_child_weight': 10, 'subsample': 0.9562992946766797, 'colsample_bytree': 0.6652112112793359, 'reg_alpha': 0.8011539661602676, 'reg_lambda': 42.83914688715498}. Best is trial 51 with value: 0.7374301675977654.\n",
      "[I 2024-03-02 19:49:50,743] Trial 72 finished with value: 0.7150837988826816 and parameters: {'learning_rate': 0.010461631495406147, 'n_estimators': 920, 'max_depth': 7, 'min_child_weight': 9, 'subsample': 0.932169730170756, 'colsample_bytree': 0.6459786259002303, 'reg_alpha': 0.821896710276046, 'reg_lambda': 52.20315877512984}. Best is trial 51 with value: 0.7374301675977654.\n",
      "[I 2024-03-02 19:49:51,334] Trial 73 finished with value: 0.7039106145251397 and parameters: {'learning_rate': 0.03284699203524133, 'n_estimators': 887, 'max_depth': 8, 'min_child_weight': 10, 'subsample': 0.9476072779063069, 'colsample_bytree': 0.6803638905954018, 'reg_alpha': 0.8505554501547157, 'reg_lambda': 33.99351280745784}. Best is trial 51 with value: 0.7374301675977654.\n",
      "[I 2024-03-02 19:49:51,929] Trial 74 finished with value: 0.7039106145251397 and parameters: {'learning_rate': 0.04533806455910748, 'n_estimators': 946, 'max_depth': 9, 'min_child_weight': 10, 'subsample': 0.9182948537563709, 'colsample_bytree': 0.708387899398332, 'reg_alpha': 0.8754678223875098, 'reg_lambda': 42.22032100363811}. Best is trial 51 with value: 0.7374301675977654.\n",
      "[I 2024-03-02 19:49:52,626] Trial 75 finished with value: 0.7262569832402235 and parameters: {'learning_rate': 0.03038898068318338, 'n_estimators': 976, 'max_depth': 8, 'min_child_weight': 9, 'subsample': 0.9859837351950427, 'colsample_bytree': 0.6148310853343883, 'reg_alpha': 0.6896055822419337, 'reg_lambda': 47.07812002064464}. Best is trial 51 with value: 0.7374301675977654.\n",
      "[I 2024-03-02 19:49:53,286] Trial 76 finished with value: 0.7039106145251397 and parameters: {'learning_rate': 0.01661724935154332, 'n_estimators': 908, 'max_depth': 8, 'min_child_weight': 10, 'subsample': 0.9616493363472499, 'colsample_bytree': 0.6261672174950237, 'reg_alpha': 0.7409729603212696, 'reg_lambda': 8.610483064407987}. Best is trial 51 with value: 0.7374301675977654.\n",
      "[I 2024-03-02 19:49:53,826] Trial 77 finished with value: 0.6927374301675978 and parameters: {'learning_rate': 0.06689896844687826, 'n_estimators': 871, 'max_depth': 7, 'min_child_weight': 10, 'subsample': 0.9005624110303014, 'colsample_bytree': 0.5927301978286443, 'reg_alpha': 0.91168994600738, 'reg_lambda': 24.975381791945072}. Best is trial 51 with value: 0.7374301675977654.\n",
      "[I 2024-03-02 19:49:54,456] Trial 78 finished with value: 0.7094972067039106 and parameters: {'learning_rate': 0.039785698043879075, 'n_estimators': 943, 'max_depth': 9, 'min_child_weight': 8, 'subsample': 0.9235318146490267, 'colsample_bytree': 0.6635800880827113, 'reg_alpha': 0.7934813144609038, 'reg_lambda': 44.65605029930363}. Best is trial 51 with value: 0.7374301675977654.\n",
      "[I 2024-03-02 19:49:54,985] Trial 79 finished with value: 0.7094972067039106 and parameters: {'learning_rate': 0.024743074980346426, 'n_estimators': 795, 'max_depth': 9, 'min_child_weight': 9, 'subsample': 0.8190865620335738, 'colsample_bytree': 0.7211588527782917, 'reg_alpha': 0.9489735125537644, 'reg_lambda': 51.075207260729044}. Best is trial 51 with value: 0.7374301675977654.\n",
      "[I 2024-03-02 19:49:55,602] Trial 80 finished with value: 0.7094972067039106 and parameters: {'learning_rate': 0.05498943184946068, 'n_estimators': 1000, 'max_depth': 8, 'min_child_weight': 10, 'subsample': 0.7644300746383662, 'colsample_bytree': 0.606844368498766, 'reg_alpha': 0.8242725682099185, 'reg_lambda': 36.447160702601494}. Best is trial 51 with value: 0.7374301675977654.\n",
      "[I 2024-03-02 19:49:56,242] Trial 81 finished with value: 0.7262569832402235 and parameters: {'learning_rate': 0.0168363025519988, 'n_estimators': 967, 'max_depth': 8, 'min_child_weight': 10, 'subsample': 0.9493118231680703, 'colsample_bytree': 0.6705271348540602, 'reg_alpha': 0.8079499637953489, 'reg_lambda': 54.92715402526635}. Best is trial 51 with value: 0.7374301675977654.\n",
      "[I 2024-03-02 19:49:56,866] Trial 82 finished with value: 0.7318435754189944 and parameters: {'learning_rate': 0.0171210819136165, 'n_estimators': 941, 'max_depth': 8, 'min_child_weight': 10, 'subsample': 0.9664778937177889, 'colsample_bytree': 0.6412074520071949, 'reg_alpha': 0.864327679369143, 'reg_lambda': 42.90188902228504}. Best is trial 51 with value: 0.7374301675977654.\n",
      "[I 2024-03-02 19:49:57,518] Trial 83 finished with value: 0.7206703910614525 and parameters: {'learning_rate': 0.026740219091147495, 'n_estimators': 906, 'max_depth': 9, 'min_child_weight': 7, 'subsample': 0.9522040756115914, 'colsample_bytree': 0.7008411892214874, 'reg_alpha': 0.753128320280513, 'reg_lambda': 49.31838228969374}. Best is trial 51 with value: 0.7374301675977654.\n",
      "[I 2024-03-02 19:49:58,071] Trial 84 finished with value: 0.6983240223463687 and parameters: {'learning_rate': 0.17947116919532796, 'n_estimators': 832, 'max_depth': 8, 'min_child_weight': 9, 'subsample': 0.9829925008692924, 'colsample_bytree': 0.6577562531776854, 'reg_alpha': 0.8267292065826041, 'reg_lambda': 40.70814029157998}. Best is trial 51 with value: 0.7374301675977654.\n",
      "[I 2024-03-02 19:49:58,723] Trial 85 finished with value: 0.6815642458100558 and parameters: {'learning_rate': 0.23545626934220915, 'n_estimators': 975, 'max_depth': 9, 'min_child_weight': 6, 'subsample': 0.9356315751484586, 'colsample_bytree': 0.5487026889008765, 'reg_alpha': 0.47526042724529927, 'reg_lambda': 58.92649020173048}. Best is trial 51 with value: 0.7374301675977654.\n",
      "[I 2024-03-02 19:49:59,274] Trial 86 finished with value: 0.7150837988826816 and parameters: {'learning_rate': 0.04980664496207539, 'n_estimators': 860, 'max_depth': 9, 'min_child_weight': 10, 'subsample': 0.8789991445809868, 'colsample_bytree': 0.5213446756552472, 'reg_alpha': 0.7735369132178882, 'reg_lambda': 45.22034994246041}. Best is trial 51 with value: 0.7374301675977654.\n",
      "[I 2024-03-02 19:49:59,821] Trial 87 finished with value: 0.664804469273743 and parameters: {'learning_rate': 0.21759745483313125, 'n_estimators': 884, 'max_depth': 7, 'min_child_weight': 10, 'subsample': 0.915402802202838, 'colsample_bytree': 0.6448488507494207, 'reg_alpha': 0.9677475525322052, 'reg_lambda': 53.25360442255063}. Best is trial 51 with value: 0.7374301675977654.\n",
      "[I 2024-03-02 19:50:00,404] Trial 88 finished with value: 0.664804469273743 and parameters: {'learning_rate': 0.25918723260241616, 'n_estimators': 921, 'max_depth': 4, 'min_child_weight': 9, 'subsample': 0.8559025009088694, 'colsample_bytree': 0.5123081633303742, 'reg_alpha': 0.9116858887505732, 'reg_lambda': 38.76813267679491}. Best is trial 51 with value: 0.7374301675977654.\n",
      "[I 2024-03-02 19:50:01,012] Trial 89 finished with value: 0.6983240223463687 and parameters: {'learning_rate': 0.034821373547958515, 'n_estimators': 954, 'max_depth': 8, 'min_child_weight': 10, 'subsample': 0.9717447653456137, 'colsample_bytree': 0.6879452171184802, 'reg_alpha': 0.33829256345008035, 'reg_lambda': 48.79784627473576}. Best is trial 51 with value: 0.7374301675977654.\n",
      "[I 2024-03-02 19:50:01,190] Trial 90 finished with value: 0.7262569832402235 and parameters: {'learning_rate': 0.0246845182117713, 'n_estimators': 205, 'max_depth': 9, 'min_child_weight': 9, 'subsample': 0.9998767448098953, 'colsample_bytree': 0.6224884231646207, 'reg_alpha': 0.8875610378329599, 'reg_lambda': 32.48934433234548}. Best is trial 51 with value: 0.7374301675977654.\n",
      "[I 2024-03-02 19:50:01,770] Trial 91 finished with value: 0.7318435754189944 and parameters: {'learning_rate': 0.013268944148279109, 'n_estimators': 955, 'max_depth': 8, 'min_child_weight': 10, 'subsample': 0.9445932825696174, 'colsample_bytree': 0.568782518784339, 'reg_alpha': 0.8568962838757368, 'reg_lambda': 46.79688946522325}. Best is trial 51 with value: 0.7374301675977654.\n",
      "[I 2024-03-02 19:50:02,350] Trial 92 finished with value: 0.7318435754189944 and parameters: {'learning_rate': 0.010469848379663844, 'n_estimators': 980, 'max_depth': 8, 'min_child_weight': 9, 'subsample': 0.7845143134831712, 'colsample_bytree': 0.5773195897140513, 'reg_alpha': 0.8058298194234236, 'reg_lambda': 44.65824804078724}. Best is trial 51 with value: 0.7374301675977654.\n",
      "[I 2024-03-02 19:50:02,931] Trial 93 finished with value: 0.7206703910614525 and parameters: {'learning_rate': 0.019061166819004823, 'n_estimators': 932, 'max_depth': 7, 'min_child_weight': 10, 'subsample': 0.9273129511541662, 'colsample_bytree': 0.6014638471947419, 'reg_alpha': 0.8598260824162628, 'reg_lambda': 42.47343535831449}. Best is trial 51 with value: 0.7374301675977654.\n",
      "[I 2024-03-02 19:50:03,580] Trial 94 finished with value: 0.7262569832402235 and parameters: {'learning_rate': 0.034044173323653726, 'n_estimators': 1000, 'max_depth': 8, 'min_child_weight': 9, 'subsample': 0.9557836951801831, 'colsample_bytree': 0.5342574406304156, 'reg_alpha': 0.9313779126816435, 'reg_lambda': 55.8635167316641}. Best is trial 51 with value: 0.7374301675977654.\n",
      "[I 2024-03-02 19:50:04,155] Trial 95 finished with value: 0.7206703910614525 and parameters: {'learning_rate': 0.025005710389926394, 'n_estimators': 956, 'max_depth': 9, 'min_child_weight': 10, 'subsample': 0.9148507745003822, 'colsample_bytree': 0.5594774543040344, 'reg_alpha': 0.7122279391359865, 'reg_lambda': 52.29222142241282}. Best is trial 51 with value: 0.7374301675977654.\n",
      "[I 2024-03-02 19:50:04,697] Trial 96 finished with value: 0.7094972067039106 and parameters: {'learning_rate': 0.04161513730410912, 'n_estimators': 908, 'max_depth': 6, 'min_child_weight': 10, 'subsample': 0.8958063745230322, 'colsample_bytree': 0.5882302658293723, 'reg_alpha': 0.8434711390283094, 'reg_lambda': 46.34722496148292}. Best is trial 51 with value: 0.7374301675977654.\n",
      "[I 2024-03-02 19:50:05,283] Trial 97 finished with value: 0.6983240223463687 and parameters: {'learning_rate': 0.01673687634232357, 'n_estimators': 884, 'max_depth': 9, 'min_child_weight': 9, 'subsample': 0.6100695988319793, 'colsample_bytree': 0.6673876040137395, 'reg_alpha': 0.8920446764914118, 'reg_lambda': 36.7636238113744}. Best is trial 51 with value: 0.7374301675977654.\n",
      "[I 2024-03-02 19:50:05,813] Trial 98 finished with value: 0.7150837988826816 and parameters: {'learning_rate': 0.010455065236459796, 'n_estimators': 724, 'max_depth': 8, 'min_child_weight': 10, 'subsample': 0.9873259275814292, 'colsample_bytree': 0.6524248861346668, 'reg_alpha': 0.4214503326994868, 'reg_lambda': 41.09192557319576}. Best is trial 51 with value: 0.7374301675977654.\n",
      "[I 2024-03-02 19:50:06,409] Trial 99 finished with value: 0.7150837988826816 and parameters: {'learning_rate': 0.029795679373181217, 'n_estimators': 817, 'max_depth': 9, 'min_child_weight': 9, 'subsample': 0.9662404583292604, 'colsample_bytree': 0.5716875232495147, 'reg_alpha': 0.8297134079859169, 'reg_lambda': 50.53655054579871}. Best is trial 51 with value: 0.7374301675977654.\n"
     ]
    },
    {
     "name": "stdout",
     "output_type": "stream",
     "text": [
      "Number of finished trials: 100\n",
      "Best trial: {'learning_rate': 0.017620125163183186, 'n_estimators': 953, 'max_depth': 8, 'min_child_weight': 10, 'subsample': 0.9509984957416191, 'colsample_bytree': 0.6358230957636279, 'reg_alpha': 0.8263766431412558, 'reg_lambda': 45.60824557768336}\n"
     ]
    }
   ],
   "source": [
    "study = opt.create_study(direction='maximize')\n",
    "study.optimize(objective, n_trials=100)\n",
    "\n",
    "print('Number of finished trials:', len(study.trials))\n",
    "print('Best trial:', study.best_trial.params)\n"
   ],
   "metadata": {
    "collapsed": false,
    "ExecuteTime": {
     "end_time": "2024-03-02T18:50:06.426901Z",
     "start_time": "2024-03-02T18:49:14.276779Z"
    }
   },
   "id": "95e1458faa254e3f",
   "execution_count": 198
  },
  {
   "cell_type": "code",
   "outputs": [
    {
     "name": "stdout",
     "output_type": "stream",
     "text": [
      "Best trial accuracy: 0.7374301675977654\n"
     ]
    }
   ],
   "source": [
    "best_trial = study.best_trial\n",
    "print(f\"Best trial accuracy: {best_trial.value}\")"
   ],
   "metadata": {
    "collapsed": false,
    "ExecuteTime": {
     "end_time": "2024-03-02T18:50:06.432759Z",
     "start_time": "2024-03-02T18:50:06.427915Z"
    }
   },
   "id": "e34bcdb79ff39629",
   "execution_count": 199
  },
  {
   "cell_type": "markdown",
   "source": [
    "### Generate Results"
   ],
   "metadata": {
    "collapsed": false
   },
   "id": "51110c2bfd963af1"
  },
  {
   "cell_type": "code",
   "outputs": [
    {
     "data": {
      "text/plain": "XGBClassifier(base_score=None, booster=None, callbacks=None,\n              colsample_bylevel=None, colsample_bynode=None,\n              colsample_bytree=0.6358230957636279, early_stopping_rounds=None,\n              enable_categorical=False, eval_metric=None, feature_types=None,\n              gamma=None, gpu_id=None, grow_policy=None, importance_type=None,\n              interaction_constraints=None, learning_rate=0.017620125163183186,\n              max_bin=None, max_cat_threshold=None, max_cat_to_onehot=None,\n              max_delta_step=None, max_depth=8, max_leaves=None,\n              min_child_weight=10, missing=nan, monotone_constraints=None,\n              n_estimators=953, n_jobs=None, num_parallel_tree=None,\n              predictor=None, random_state=None, ...)",
      "text/html": "<style>#sk-container-id-8 {color: black;}#sk-container-id-8 pre{padding: 0;}#sk-container-id-8 div.sk-toggleable {background-color: white;}#sk-container-id-8 label.sk-toggleable__label {cursor: pointer;display: block;width: 100%;margin-bottom: 0;padding: 0.3em;box-sizing: border-box;text-align: center;}#sk-container-id-8 label.sk-toggleable__label-arrow:before {content: \"▸\";float: left;margin-right: 0.25em;color: #696969;}#sk-container-id-8 label.sk-toggleable__label-arrow:hover:before {color: black;}#sk-container-id-8 div.sk-estimator:hover label.sk-toggleable__label-arrow:before {color: black;}#sk-container-id-8 div.sk-toggleable__content {max-height: 0;max-width: 0;overflow: hidden;text-align: left;background-color: #f0f8ff;}#sk-container-id-8 div.sk-toggleable__content pre {margin: 0.2em;color: black;border-radius: 0.25em;background-color: #f0f8ff;}#sk-container-id-8 input.sk-toggleable__control:checked~div.sk-toggleable__content {max-height: 200px;max-width: 100%;overflow: auto;}#sk-container-id-8 input.sk-toggleable__control:checked~label.sk-toggleable__label-arrow:before {content: \"▾\";}#sk-container-id-8 div.sk-estimator input.sk-toggleable__control:checked~label.sk-toggleable__label {background-color: #d4ebff;}#sk-container-id-8 div.sk-label input.sk-toggleable__control:checked~label.sk-toggleable__label {background-color: #d4ebff;}#sk-container-id-8 input.sk-hidden--visually {border: 0;clip: rect(1px 1px 1px 1px);clip: rect(1px, 1px, 1px, 1px);height: 1px;margin: -1px;overflow: hidden;padding: 0;position: absolute;width: 1px;}#sk-container-id-8 div.sk-estimator {font-family: monospace;background-color: #f0f8ff;border: 1px dotted black;border-radius: 0.25em;box-sizing: border-box;margin-bottom: 0.5em;}#sk-container-id-8 div.sk-estimator:hover {background-color: #d4ebff;}#sk-container-id-8 div.sk-parallel-item::after {content: \"\";width: 100%;border-bottom: 1px solid gray;flex-grow: 1;}#sk-container-id-8 div.sk-label:hover label.sk-toggleable__label {background-color: #d4ebff;}#sk-container-id-8 div.sk-serial::before {content: \"\";position: absolute;border-left: 1px solid gray;box-sizing: border-box;top: 0;bottom: 0;left: 50%;z-index: 0;}#sk-container-id-8 div.sk-serial {display: flex;flex-direction: column;align-items: center;background-color: white;padding-right: 0.2em;padding-left: 0.2em;position: relative;}#sk-container-id-8 div.sk-item {position: relative;z-index: 1;}#sk-container-id-8 div.sk-parallel {display: flex;align-items: stretch;justify-content: center;background-color: white;position: relative;}#sk-container-id-8 div.sk-item::before, #sk-container-id-8 div.sk-parallel-item::before {content: \"\";position: absolute;border-left: 1px solid gray;box-sizing: border-box;top: 0;bottom: 0;left: 50%;z-index: -1;}#sk-container-id-8 div.sk-parallel-item {display: flex;flex-direction: column;z-index: 1;position: relative;background-color: white;}#sk-container-id-8 div.sk-parallel-item:first-child::after {align-self: flex-end;width: 50%;}#sk-container-id-8 div.sk-parallel-item:last-child::after {align-self: flex-start;width: 50%;}#sk-container-id-8 div.sk-parallel-item:only-child::after {width: 0;}#sk-container-id-8 div.sk-dashed-wrapped {border: 1px dashed gray;margin: 0 0.4em 0.5em 0.4em;box-sizing: border-box;padding-bottom: 0.4em;background-color: white;}#sk-container-id-8 div.sk-label label {font-family: monospace;font-weight: bold;display: inline-block;line-height: 1.2em;}#sk-container-id-8 div.sk-label-container {text-align: center;}#sk-container-id-8 div.sk-container {/* jupyter's `normalize.less` sets `[hidden] { display: none; }` but bootstrap.min.css set `[hidden] { display: none !important; }` so we also need the `!important` here to be able to override the default hidden behavior on the sphinx rendered scikit-learn.org. See: https://github.com/scikit-learn/scikit-learn/issues/21755 */display: inline-block !important;position: relative;}#sk-container-id-8 div.sk-text-repr-fallback {display: none;}</style><div id=\"sk-container-id-8\" class=\"sk-top-container\"><div class=\"sk-text-repr-fallback\"><pre>XGBClassifier(base_score=None, booster=None, callbacks=None,\n              colsample_bylevel=None, colsample_bynode=None,\n              colsample_bytree=0.6358230957636279, early_stopping_rounds=None,\n              enable_categorical=False, eval_metric=None, feature_types=None,\n              gamma=None, gpu_id=None, grow_policy=None, importance_type=None,\n              interaction_constraints=None, learning_rate=0.017620125163183186,\n              max_bin=None, max_cat_threshold=None, max_cat_to_onehot=None,\n              max_delta_step=None, max_depth=8, max_leaves=None,\n              min_child_weight=10, missing=nan, monotone_constraints=None,\n              n_estimators=953, n_jobs=None, num_parallel_tree=None,\n              predictor=None, random_state=None, ...)</pre><b>In a Jupyter environment, please rerun this cell to show the HTML representation or trust the notebook. <br />On GitHub, the HTML representation is unable to render, please try loading this page with nbviewer.org.</b></div><div class=\"sk-container\" hidden><div class=\"sk-item\"><div class=\"sk-estimator sk-toggleable\"><input class=\"sk-toggleable__control sk-hidden--visually\" id=\"sk-estimator-id-8\" type=\"checkbox\" checked><label for=\"sk-estimator-id-8\" class=\"sk-toggleable__label sk-toggleable__label-arrow\">XGBClassifier</label><div class=\"sk-toggleable__content\"><pre>XGBClassifier(base_score=None, booster=None, callbacks=None,\n              colsample_bylevel=None, colsample_bynode=None,\n              colsample_bytree=0.6358230957636279, early_stopping_rounds=None,\n              enable_categorical=False, eval_metric=None, feature_types=None,\n              gamma=None, gpu_id=None, grow_policy=None, importance_type=None,\n              interaction_constraints=None, learning_rate=0.017620125163183186,\n              max_bin=None, max_cat_threshold=None, max_cat_to_onehot=None,\n              max_delta_step=None, max_depth=8, max_leaves=None,\n              min_child_weight=10, missing=nan, monotone_constraints=None,\n              n_estimators=953, n_jobs=None, num_parallel_tree=None,\n              predictor=None, random_state=None, ...)</pre></div></div></div></div></div>"
     },
     "execution_count": 200,
     "metadata": {},
     "output_type": "execute_result"
    }
   ],
   "source": [
    "model.set_params(**best_trial.params)\n",
    "model.fit(X_train, y_train)"
   ],
   "metadata": {
    "collapsed": false,
    "ExecuteTime": {
     "end_time": "2024-03-02T18:50:06.945863Z",
     "start_time": "2024-03-02T18:50:06.434269Z"
    }
   },
   "id": "b226ecb6aedbb097",
   "execution_count": 200
  },
  {
   "cell_type": "code",
   "outputs": [],
   "source": [
    "y_pred = model.predict(X_test)"
   ],
   "metadata": {
    "collapsed": false,
    "ExecuteTime": {
     "end_time": "2024-03-02T18:50:06.954647Z",
     "start_time": "2024-03-02T18:50:06.946868Z"
    }
   },
   "id": "f6fdd55ef8d83270",
   "execution_count": 201
  },
  {
   "cell_type": "code",
   "outputs": [
    {
     "name": "stdout",
     "output_type": "stream",
     "text": [
      "Accuracy: 0.74\n"
     ]
    }
   ],
   "source": [
    "accuracy = accuracy_score(y_test, y_pred)\n",
    "print(f\"Accuracy: {accuracy:.2f}\")"
   ],
   "metadata": {
    "collapsed": false,
    "ExecuteTime": {
     "end_time": "2024-03-02T18:50:06.971717Z",
     "start_time": "2024-03-02T18:50:06.955653Z"
    }
   },
   "id": "b9bd22a2528c3470",
   "execution_count": 202
  },
  {
   "cell_type": "code",
   "outputs": [
    {
     "ename": "ValueError",
     "evalue": "Feature shape mismatch, expected: 8, got 9",
     "output_type": "error",
     "traceback": [
      "\u001B[1;31m---------------------------------------------------------------------------\u001B[0m",
      "\u001B[1;31mValueError\u001B[0m                                Traceback (most recent call last)",
      "Cell \u001B[1;32mIn[203], line 1\u001B[0m\n\u001B[1;32m----> 1\u001B[0m submission_test \u001B[38;5;241m=\u001B[39m model\u001B[38;5;241m.\u001B[39mpredict(to_test)\n\u001B[0;32m      2\u001B[0m submission_test \u001B[38;5;241m=\u001B[39m pd\u001B[38;5;241m.\u001B[39mSeries(submission_test, to_test\u001B[38;5;241m.\u001B[39mindex, name\u001B[38;5;241m=\u001B[39m\u001B[38;5;124m'\u001B[39m\u001B[38;5;124mSurvived\u001B[39m\u001B[38;5;124m'\u001B[39m)\n\u001B[0;32m      3\u001B[0m \u001B[38;5;66;03m# save submission\u001B[39;00m\n",
      "File \u001B[1;32m~\\anaconda3\\envs\\env_de\\Lib\\site-packages\\xgboost\\sklearn.py:1525\u001B[0m, in \u001B[0;36mXGBClassifier.predict\u001B[1;34m(self, X, output_margin, ntree_limit, validate_features, base_margin, iteration_range)\u001B[0m\n\u001B[0;32m   1515\u001B[0m \u001B[38;5;28;01mdef\u001B[39;00m \u001B[38;5;21mpredict\u001B[39m(\n\u001B[0;32m   1516\u001B[0m     \u001B[38;5;28mself\u001B[39m,\n\u001B[0;32m   1517\u001B[0m     X: ArrayLike,\n\u001B[1;32m   (...)\u001B[0m\n\u001B[0;32m   1522\u001B[0m     iteration_range: Optional[Tuple[\u001B[38;5;28mint\u001B[39m, \u001B[38;5;28mint\u001B[39m]] \u001B[38;5;241m=\u001B[39m \u001B[38;5;28;01mNone\u001B[39;00m,\n\u001B[0;32m   1523\u001B[0m ) \u001B[38;5;241m-\u001B[39m\u001B[38;5;241m>\u001B[39m np\u001B[38;5;241m.\u001B[39mndarray:\n\u001B[0;32m   1524\u001B[0m     \u001B[38;5;28;01mwith\u001B[39;00m config_context(verbosity\u001B[38;5;241m=\u001B[39m\u001B[38;5;28mself\u001B[39m\u001B[38;5;241m.\u001B[39mverbosity):\n\u001B[1;32m-> 1525\u001B[0m         class_probs \u001B[38;5;241m=\u001B[39m \u001B[38;5;28msuper\u001B[39m()\u001B[38;5;241m.\u001B[39mpredict(\n\u001B[0;32m   1526\u001B[0m             X\u001B[38;5;241m=\u001B[39mX,\n\u001B[0;32m   1527\u001B[0m             output_margin\u001B[38;5;241m=\u001B[39moutput_margin,\n\u001B[0;32m   1528\u001B[0m             ntree_limit\u001B[38;5;241m=\u001B[39mntree_limit,\n\u001B[0;32m   1529\u001B[0m             validate_features\u001B[38;5;241m=\u001B[39mvalidate_features,\n\u001B[0;32m   1530\u001B[0m             base_margin\u001B[38;5;241m=\u001B[39mbase_margin,\n\u001B[0;32m   1531\u001B[0m             iteration_range\u001B[38;5;241m=\u001B[39miteration_range,\n\u001B[0;32m   1532\u001B[0m         )\n\u001B[0;32m   1533\u001B[0m         \u001B[38;5;28;01mif\u001B[39;00m output_margin:\n\u001B[0;32m   1534\u001B[0m             \u001B[38;5;66;03m# If output_margin is active, simply return the scores\u001B[39;00m\n\u001B[0;32m   1535\u001B[0m             \u001B[38;5;28;01mreturn\u001B[39;00m class_probs\n",
      "File \u001B[1;32m~\\anaconda3\\envs\\env_de\\Lib\\site-packages\\xgboost\\sklearn.py:1114\u001B[0m, in \u001B[0;36mXGBModel.predict\u001B[1;34m(self, X, output_margin, ntree_limit, validate_features, base_margin, iteration_range)\u001B[0m\n\u001B[0;32m   1112\u001B[0m \u001B[38;5;28;01mif\u001B[39;00m \u001B[38;5;28mself\u001B[39m\u001B[38;5;241m.\u001B[39m_can_use_inplace_predict():\n\u001B[0;32m   1113\u001B[0m     \u001B[38;5;28;01mtry\u001B[39;00m:\n\u001B[1;32m-> 1114\u001B[0m         predts \u001B[38;5;241m=\u001B[39m \u001B[38;5;28mself\u001B[39m\u001B[38;5;241m.\u001B[39mget_booster()\u001B[38;5;241m.\u001B[39minplace_predict(\n\u001B[0;32m   1115\u001B[0m             data\u001B[38;5;241m=\u001B[39mX,\n\u001B[0;32m   1116\u001B[0m             iteration_range\u001B[38;5;241m=\u001B[39miteration_range,\n\u001B[0;32m   1117\u001B[0m             predict_type\u001B[38;5;241m=\u001B[39m\u001B[38;5;124m\"\u001B[39m\u001B[38;5;124mmargin\u001B[39m\u001B[38;5;124m\"\u001B[39m \u001B[38;5;28;01mif\u001B[39;00m output_margin \u001B[38;5;28;01melse\u001B[39;00m \u001B[38;5;124m\"\u001B[39m\u001B[38;5;124mvalue\u001B[39m\u001B[38;5;124m\"\u001B[39m,\n\u001B[0;32m   1118\u001B[0m             missing\u001B[38;5;241m=\u001B[39m\u001B[38;5;28mself\u001B[39m\u001B[38;5;241m.\u001B[39mmissing,\n\u001B[0;32m   1119\u001B[0m             base_margin\u001B[38;5;241m=\u001B[39mbase_margin,\n\u001B[0;32m   1120\u001B[0m             validate_features\u001B[38;5;241m=\u001B[39mvalidate_features,\n\u001B[0;32m   1121\u001B[0m         )\n\u001B[0;32m   1122\u001B[0m         \u001B[38;5;28;01mif\u001B[39;00m _is_cupy_array(predts):\n\u001B[0;32m   1123\u001B[0m             \u001B[38;5;28;01mimport\u001B[39;00m \u001B[38;5;21;01mcupy\u001B[39;00m  \u001B[38;5;66;03m# pylint: disable=import-error\u001B[39;00m\n",
      "File \u001B[1;32m~\\anaconda3\\envs\\env_de\\Lib\\site-packages\\xgboost\\core.py:2268\u001B[0m, in \u001B[0;36mBooster.inplace_predict\u001B[1;34m(self, data, iteration_range, predict_type, missing, validate_features, base_margin, strict_shape)\u001B[0m\n\u001B[0;32m   2264\u001B[0m         \u001B[38;5;28;01mraise\u001B[39;00m \u001B[38;5;167;01mTypeError\u001B[39;00m(\n\u001B[0;32m   2265\u001B[0m             \u001B[38;5;124m\"\u001B[39m\u001B[38;5;124m`shape` attribute is required when `validate_features` is True.\u001B[39m\u001B[38;5;124m\"\u001B[39m\n\u001B[0;32m   2266\u001B[0m         )\n\u001B[0;32m   2267\u001B[0m     \u001B[38;5;28;01mif\u001B[39;00m \u001B[38;5;28mlen\u001B[39m(data\u001B[38;5;241m.\u001B[39mshape) \u001B[38;5;241m!=\u001B[39m \u001B[38;5;241m1\u001B[39m \u001B[38;5;129;01mand\u001B[39;00m \u001B[38;5;28mself\u001B[39m\u001B[38;5;241m.\u001B[39mnum_features() \u001B[38;5;241m!=\u001B[39m data\u001B[38;5;241m.\u001B[39mshape[\u001B[38;5;241m1\u001B[39m]:\n\u001B[1;32m-> 2268\u001B[0m         \u001B[38;5;28;01mraise\u001B[39;00m \u001B[38;5;167;01mValueError\u001B[39;00m(\n\u001B[0;32m   2269\u001B[0m             \u001B[38;5;124mf\u001B[39m\u001B[38;5;124m\"\u001B[39m\u001B[38;5;124mFeature shape mismatch, expected: \u001B[39m\u001B[38;5;132;01m{\u001B[39;00m\u001B[38;5;28mself\u001B[39m\u001B[38;5;241m.\u001B[39mnum_features()\u001B[38;5;132;01m}\u001B[39;00m\u001B[38;5;124m, \u001B[39m\u001B[38;5;124m\"\u001B[39m\n\u001B[0;32m   2270\u001B[0m             \u001B[38;5;124mf\u001B[39m\u001B[38;5;124m\"\u001B[39m\u001B[38;5;124mgot \u001B[39m\u001B[38;5;132;01m{\u001B[39;00mdata\u001B[38;5;241m.\u001B[39mshape[\u001B[38;5;241m1\u001B[39m]\u001B[38;5;132;01m}\u001B[39;00m\u001B[38;5;124m\"\u001B[39m\n\u001B[0;32m   2271\u001B[0m         )\n\u001B[0;32m   2273\u001B[0m \u001B[38;5;28;01mfrom\u001B[39;00m \u001B[38;5;21;01m.\u001B[39;00m\u001B[38;5;21;01mdata\u001B[39;00m \u001B[38;5;28;01mimport\u001B[39;00m (\n\u001B[0;32m   2274\u001B[0m     _array_interface,\n\u001B[0;32m   2275\u001B[0m     _is_cudf_df,\n\u001B[1;32m   (...)\u001B[0m\n\u001B[0;32m   2278\u001B[0m     _transform_pandas_df,\n\u001B[0;32m   2279\u001B[0m )\n\u001B[0;32m   2281\u001B[0m enable_categorical \u001B[38;5;241m=\u001B[39m _has_categorical(\u001B[38;5;28mself\u001B[39m, data)\n",
      "\u001B[1;31mValueError\u001B[0m: Feature shape mismatch, expected: 8, got 9"
     ]
    }
   ],
   "source": [
    "submission_test = model.predict(to_test)\n",
    "submission_test = pd.Series(submission_test, to_test.index, name='Survived')\n",
    "# save submission\n",
    "submission_test.to_csv('submission_test.csv') "
   ],
   "metadata": {
    "collapsed": false,
    "ExecuteTime": {
     "end_time": "2024-03-02T18:50:07.038077Z",
     "start_time": "2024-03-02T18:50:06.973724Z"
    }
   },
   "id": "badeaa27c8fc319",
   "execution_count": 203
  }
 ],
 "metadata": {
  "kernelspec": {
   "display_name": "Python 3",
   "language": "python",
   "name": "python3"
  },
  "language_info": {
   "codemirror_mode": {
    "name": "ipython",
    "version": 2
   },
   "file_extension": ".py",
   "mimetype": "text/x-python",
   "name": "python",
   "nbconvert_exporter": "python",
   "pygments_lexer": "ipython2",
   "version": "2.7.6"
  }
 },
 "nbformat": 4,
 "nbformat_minor": 5
}
