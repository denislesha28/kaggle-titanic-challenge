{
 "cells": [
  {
   "cell_type": "code",
   "execution_count": 38,
   "id": "initial_id",
   "metadata": {
    "collapsed": true,
    "ExecuteTime": {
     "end_time": "2024-03-03T02:36:59.928801Z",
     "start_time": "2024-03-03T02:36:59.924510Z"
    }
   },
   "outputs": [],
   "source": [
    "from sklearn.model_selection import train_test_split\n",
    "from sklearn.preprocessing import LabelEncoder\n",
    "from sklearn.metrics import accuracy_score\n",
    "from sklearn.model_selection import StratifiedKFold\n",
    "from sklearn.model_selection import GridSearchCV\n",
    "from sklearn.model_selection import RandomizedSearchCV\n",
    "from scipy.stats import randint, uniform\n",
    "from xgboost import XGBClassifier\n",
    "import pandas as pd\n",
    "import numpy as np\n",
    "import optuna as opt\n",
    "import xgboost as xgb \n",
    "import re"
   ]
  },
  {
   "cell_type": "code",
   "outputs": [
    {
     "data": {
      "text/plain": "             Survived  Pclass  \\\nPassengerId                     \n1                   0       3   \n2                   1       1   \n3                   1       3   \n4                   1       1   \n5                   0       3   \n...               ...     ...   \n887                 0       2   \n888                 1       1   \n889                 0       3   \n890                 1       1   \n891                 0       3   \n\n                                                          Name   Age  SibSp  \\\nPassengerId                                                                   \n1                                      Braund, Mr. Owen Harris  22.0      1   \n2            Cumings, Mrs. John Bradley (Florence Briggs Th...  38.0      1   \n3                                       Heikkinen, Miss. Laina  26.0      0   \n4                 Futrelle, Mrs. Jacques Heath (Lily May Peel)  35.0      1   \n5                                     Allen, Mr. William Henry  35.0      0   \n...                                                        ...   ...    ...   \n887                                      Montvila, Rev. Juozas  27.0      0   \n888                               Graham, Miss. Margaret Edith  19.0      0   \n889                   Johnston, Miss. Catherine Helen \"Carrie\"   NaN      1   \n890                                      Behr, Mr. Karl Howell  26.0      0   \n891                                        Dooley, Mr. Patrick  32.0      0   \n\n             Parch            Ticket     Fare Cabin Embarked  \nPassengerId                                                   \n1                0         A/5 21171   7.2500   NaN        S  \n2                0          PC 17599  71.2833   C85        C  \n3                0  STON/O2. 3101282   7.9250   NaN        S  \n4                0            113803  53.1000  C123        S  \n5                0            373450   8.0500   NaN        S  \n...            ...               ...      ...   ...      ...  \n887              0            211536  13.0000   NaN        S  \n888              0            112053  30.0000   B42        S  \n889              2        W./C. 6607  23.4500   NaN        S  \n890              0            111369  30.0000  C148        C  \n891              0            370376   7.7500   NaN        Q  \n\n[891 rows x 10 columns]",
      "text/html": "<div>\n<style scoped>\n    .dataframe tbody tr th:only-of-type {\n        vertical-align: middle;\n    }\n\n    .dataframe tbody tr th {\n        vertical-align: top;\n    }\n\n    .dataframe thead th {\n        text-align: right;\n    }\n</style>\n<table border=\"1\" class=\"dataframe\">\n  <thead>\n    <tr style=\"text-align: right;\">\n      <th></th>\n      <th>Survived</th>\n      <th>Pclass</th>\n      <th>Name</th>\n      <th>Age</th>\n      <th>SibSp</th>\n      <th>Parch</th>\n      <th>Ticket</th>\n      <th>Fare</th>\n      <th>Cabin</th>\n      <th>Embarked</th>\n    </tr>\n    <tr>\n      <th>PassengerId</th>\n      <th></th>\n      <th></th>\n      <th></th>\n      <th></th>\n      <th></th>\n      <th></th>\n      <th></th>\n      <th></th>\n      <th></th>\n      <th></th>\n    </tr>\n  </thead>\n  <tbody>\n    <tr>\n      <th>1</th>\n      <td>0</td>\n      <td>3</td>\n      <td>Braund, Mr. Owen Harris</td>\n      <td>22.0</td>\n      <td>1</td>\n      <td>0</td>\n      <td>A/5 21171</td>\n      <td>7.2500</td>\n      <td>NaN</td>\n      <td>S</td>\n    </tr>\n    <tr>\n      <th>2</th>\n      <td>1</td>\n      <td>1</td>\n      <td>Cumings, Mrs. John Bradley (Florence Briggs Th...</td>\n      <td>38.0</td>\n      <td>1</td>\n      <td>0</td>\n      <td>PC 17599</td>\n      <td>71.2833</td>\n      <td>C85</td>\n      <td>C</td>\n    </tr>\n    <tr>\n      <th>3</th>\n      <td>1</td>\n      <td>3</td>\n      <td>Heikkinen, Miss. Laina</td>\n      <td>26.0</td>\n      <td>0</td>\n      <td>0</td>\n      <td>STON/O2. 3101282</td>\n      <td>7.9250</td>\n      <td>NaN</td>\n      <td>S</td>\n    </tr>\n    <tr>\n      <th>4</th>\n      <td>1</td>\n      <td>1</td>\n      <td>Futrelle, Mrs. Jacques Heath (Lily May Peel)</td>\n      <td>35.0</td>\n      <td>1</td>\n      <td>0</td>\n      <td>113803</td>\n      <td>53.1000</td>\n      <td>C123</td>\n      <td>S</td>\n    </tr>\n    <tr>\n      <th>5</th>\n      <td>0</td>\n      <td>3</td>\n      <td>Allen, Mr. William Henry</td>\n      <td>35.0</td>\n      <td>0</td>\n      <td>0</td>\n      <td>373450</td>\n      <td>8.0500</td>\n      <td>NaN</td>\n      <td>S</td>\n    </tr>\n    <tr>\n      <th>...</th>\n      <td>...</td>\n      <td>...</td>\n      <td>...</td>\n      <td>...</td>\n      <td>...</td>\n      <td>...</td>\n      <td>...</td>\n      <td>...</td>\n      <td>...</td>\n      <td>...</td>\n    </tr>\n    <tr>\n      <th>887</th>\n      <td>0</td>\n      <td>2</td>\n      <td>Montvila, Rev. Juozas</td>\n      <td>27.0</td>\n      <td>0</td>\n      <td>0</td>\n      <td>211536</td>\n      <td>13.0000</td>\n      <td>NaN</td>\n      <td>S</td>\n    </tr>\n    <tr>\n      <th>888</th>\n      <td>1</td>\n      <td>1</td>\n      <td>Graham, Miss. Margaret Edith</td>\n      <td>19.0</td>\n      <td>0</td>\n      <td>0</td>\n      <td>112053</td>\n      <td>30.0000</td>\n      <td>B42</td>\n      <td>S</td>\n    </tr>\n    <tr>\n      <th>889</th>\n      <td>0</td>\n      <td>3</td>\n      <td>Johnston, Miss. Catherine Helen \"Carrie\"</td>\n      <td>NaN</td>\n      <td>1</td>\n      <td>2</td>\n      <td>W./C. 6607</td>\n      <td>23.4500</td>\n      <td>NaN</td>\n      <td>S</td>\n    </tr>\n    <tr>\n      <th>890</th>\n      <td>1</td>\n      <td>1</td>\n      <td>Behr, Mr. Karl Howell</td>\n      <td>26.0</td>\n      <td>0</td>\n      <td>0</td>\n      <td>111369</td>\n      <td>30.0000</td>\n      <td>C148</td>\n      <td>C</td>\n    </tr>\n    <tr>\n      <th>891</th>\n      <td>0</td>\n      <td>3</td>\n      <td>Dooley, Mr. Patrick</td>\n      <td>32.0</td>\n      <td>0</td>\n      <td>0</td>\n      <td>370376</td>\n      <td>7.7500</td>\n      <td>NaN</td>\n      <td>Q</td>\n    </tr>\n  </tbody>\n</table>\n<p>891 rows × 10 columns</p>\n</div>"
     },
     "execution_count": 39,
     "metadata": {},
     "output_type": "execute_result"
    }
   ],
   "source": [
    "to_test = pd.read_csv(\"test.csv\", index_col=\"PassengerId\")\n",
    "df = pd.read_csv(\"train.csv\", index_col=\"PassengerId\")\n",
    "df"
   ],
   "metadata": {
    "collapsed": false,
    "ExecuteTime": {
     "end_time": "2024-03-03T02:37:00.074350Z",
     "start_time": "2024-03-03T02:37:00.056741Z"
    }
   },
   "id": "7437cf88e2628702",
   "execution_count": 39
  },
  {
   "cell_type": "code",
   "outputs": [
    {
     "data": {
      "text/plain": "Survived             Int64\nPclass               Int64\nName        string[python]\nAge                Float64\nSibSp                Int64\nParch                Int64\nTicket      string[python]\nFare               Float64\nCabin       string[python]\nEmbarked          category\ndtype: object"
     },
     "execution_count": 40,
     "metadata": {},
     "output_type": "execute_result"
    }
   ],
   "source": [
    "df = df.convert_dtypes()\n",
    "df[\"Embarked\"] = df[\"Embarked\"].astype(\"category\")\n",
    "df.dtypes"
   ],
   "metadata": {
    "collapsed": false,
    "ExecuteTime": {
     "end_time": "2024-03-03T02:37:00.083830Z",
     "start_time": "2024-03-03T02:37:00.075354Z"
    }
   },
   "id": "bc7c0dd7b79336e6",
   "execution_count": 40
  },
  {
   "cell_type": "code",
   "outputs": [
    {
     "name": "stdout",
     "output_type": "stream",
     "text": [
      "['Age', 'Cabin', 'Embarked']\n"
     ]
    }
   ],
   "source": [
    "X_train,X_test,y_train,y_test = train_test_split(df.drop(\"Survived\", axis=1), df[\"Survived\"], test_size=0.2, random_state=42)\n",
    "print(df.columns[df.isna().any(axis=0)].tolist())"
   ],
   "metadata": {
    "collapsed": false,
    "ExecuteTime": {
     "end_time": "2024-03-03T02:37:00.095348Z",
     "start_time": "2024-03-03T02:37:00.087345Z"
    }
   },
   "id": "311deef3a7079778",
   "execution_count": 41
  },
  {
   "cell_type": "markdown",
   "source": [
    "### Data Pre-Processing after splitting the data to prevent data - leakage"
   ],
   "metadata": {
    "collapsed": false
   },
   "id": "81f55df3da10ac26"
  },
  {
   "cell_type": "code",
   "outputs": [],
   "source": [
    "#Data Imputation for the Age column\n",
    "data = [X_train, X_test, to_test]\n",
    "for dataset in data:\n",
    "    mean = X_train[\"Age\"].mean()\n",
    "    std = X_test[\"Age\"].std()\n",
    "    is_null = dataset[\"Age\"].isna().sum()\n",
    "    rand_age = np.random.randint(mean - std, mean + std, size = is_null)\n",
    "    rand_age_series = pd.Series(rand_age, index=dataset[dataset[\"Age\"].isnull()].index)\n",
    "    dataset[\"Age\"].fillna(rand_age_series, inplace=True)\n",
    "    dataset[\"Age\"] = dataset[\"Age\"].astype(int)"
   ],
   "metadata": {
    "collapsed": false,
    "ExecuteTime": {
     "end_time": "2024-03-03T02:37:00.122388Z",
     "start_time": "2024-03-03T02:37:00.114724Z"
    }
   },
   "id": "382104a86596fa97",
   "execution_count": 42
  },
  {
   "cell_type": "code",
   "outputs": [],
   "source": [
    "#Feature Engineering the Deck Column \n",
    "#Cabins are mapped to a numerical Deck feature\n",
    "deck = {\"A\": 1, \"B\": 2, \"C\": 3, \"D\": 4, \"E\": 5, \"F\": 6, \"G\": 7, \"U\": 8}\n",
    "\n",
    "for dataset in data:\n",
    "    dataset['Cabin'] = dataset['Cabin'].fillna(\"U0\")\n",
    "    dataset['Deck'] = dataset['Cabin'].map(lambda x: re.compile(\"([a-zA-Z]+)\").search(x).group())\n",
    "    dataset['Deck'] = dataset['Deck'].map(deck)\n",
    "    dataset['Deck'] = dataset['Deck'].fillna(0)\n",
    "    dataset['Deck'] = dataset['Deck'].astype(int)\n",
    "X_train = X_train.drop(['Cabin'], axis=1)\n",
    "X_test = X_test.drop(['Cabin'], axis=1)\n",
    "to_test = to_test.drop(['Cabin'], axis=1)"
   ],
   "metadata": {
    "collapsed": false,
    "ExecuteTime": {
     "end_time": "2024-03-03T02:37:00.152999Z",
     "start_time": "2024-03-03T02:37:00.141538Z"
    }
   },
   "id": "e8ca56c07025d74e",
   "execution_count": 43
  },
  {
   "cell_type": "code",
   "outputs": [],
   "source": [
    "X_train[\"Embarked\"].describe()\n",
    "for dataset in [X_train, X_test, to_test]:\n",
    "    dataset[\"Embarked\"].fillna(\"S\", inplace=True)"
   ],
   "metadata": {
    "collapsed": false,
    "ExecuteTime": {
     "end_time": "2024-03-03T02:37:00.241921Z",
     "start_time": "2024-03-03T02:37:00.237365Z"
    }
   },
   "id": "46c7b88f0da0a969",
   "execution_count": 44
  },
  {
   "cell_type": "code",
   "outputs": [
    {
     "data": {
      "text/plain": "Pclass      False\nName        False\nAge         False\nSibSp       False\nParch       False\nTicket      False\nFare        False\nEmbarked    False\nDeck        False\ndtype: bool"
     },
     "execution_count": 45,
     "metadata": {},
     "output_type": "execute_result"
    }
   ],
   "source": [
    "X_train.isna().any()"
   ],
   "metadata": {
    "collapsed": false,
    "ExecuteTime": {
     "end_time": "2024-03-03T02:37:00.286774Z",
     "start_time": "2024-03-03T02:37:00.280736Z"
    }
   },
   "id": "32c820fc22b56a5d",
   "execution_count": 45
  },
  {
   "cell_type": "code",
   "outputs": [
    {
     "data": {
      "text/plain": "             Pclass                                Name  Age  SibSp  Parch  \\\nPassengerId                                                                  \n332               1                 Partner, Mr. Austen   45      0      0   \n734               2          Berriman, Mr. William John   23      0      0   \n383               3                  Tikkanen, Mr. Juho   32      0      0   \n705               3             Hansen, Mr. Henrik Juul   26      1      0   \n814               3  Andersson, Miss. Ebba Iris Alfrida    6      4      2   \n...             ...                                 ...  ...    ...    ...   \n107               3    Salkjelsvik, Miss. Anna Kristine   21      0      0   \n271               1               Cairns, Mr. Alexander   14      0      0   \n861               3             Hansen, Mr. Claus Peter   41      2      0   \n436               1           Carter, Miss. Lucile Polk   14      1      2   \n103               1           White, Mr. Richard Frasar   21      0      1   \n\n                        Ticket     Fare Embarked  Deck  \nPassengerId                                             \n332                     113043     28.5        S     3  \n734                      28425     13.0        S     8  \n383          STON/O 2. 3101293    7.925        S     8  \n705                     350025   7.8542        S     8  \n814                     347082   31.275        S     8  \n...                        ...      ...      ...   ...  \n107                     343120     7.65        S     8  \n271                     113798     31.0        S     8  \n861                     350026  14.1083        S     8  \n436                     113760    120.0        S     2  \n103                      35281  77.2875        S     4  \n\n[712 rows x 9 columns]",
      "text/html": "<div>\n<style scoped>\n    .dataframe tbody tr th:only-of-type {\n        vertical-align: middle;\n    }\n\n    .dataframe tbody tr th {\n        vertical-align: top;\n    }\n\n    .dataframe thead th {\n        text-align: right;\n    }\n</style>\n<table border=\"1\" class=\"dataframe\">\n  <thead>\n    <tr style=\"text-align: right;\">\n      <th></th>\n      <th>Pclass</th>\n      <th>Name</th>\n      <th>Age</th>\n      <th>SibSp</th>\n      <th>Parch</th>\n      <th>Ticket</th>\n      <th>Fare</th>\n      <th>Embarked</th>\n      <th>Deck</th>\n    </tr>\n    <tr>\n      <th>PassengerId</th>\n      <th></th>\n      <th></th>\n      <th></th>\n      <th></th>\n      <th></th>\n      <th></th>\n      <th></th>\n      <th></th>\n      <th></th>\n    </tr>\n  </thead>\n  <tbody>\n    <tr>\n      <th>332</th>\n      <td>1</td>\n      <td>Partner, Mr. Austen</td>\n      <td>45</td>\n      <td>0</td>\n      <td>0</td>\n      <td>113043</td>\n      <td>28.5</td>\n      <td>S</td>\n      <td>3</td>\n    </tr>\n    <tr>\n      <th>734</th>\n      <td>2</td>\n      <td>Berriman, Mr. William John</td>\n      <td>23</td>\n      <td>0</td>\n      <td>0</td>\n      <td>28425</td>\n      <td>13.0</td>\n      <td>S</td>\n      <td>8</td>\n    </tr>\n    <tr>\n      <th>383</th>\n      <td>3</td>\n      <td>Tikkanen, Mr. Juho</td>\n      <td>32</td>\n      <td>0</td>\n      <td>0</td>\n      <td>STON/O 2. 3101293</td>\n      <td>7.925</td>\n      <td>S</td>\n      <td>8</td>\n    </tr>\n    <tr>\n      <th>705</th>\n      <td>3</td>\n      <td>Hansen, Mr. Henrik Juul</td>\n      <td>26</td>\n      <td>1</td>\n      <td>0</td>\n      <td>350025</td>\n      <td>7.8542</td>\n      <td>S</td>\n      <td>8</td>\n    </tr>\n    <tr>\n      <th>814</th>\n      <td>3</td>\n      <td>Andersson, Miss. Ebba Iris Alfrida</td>\n      <td>6</td>\n      <td>4</td>\n      <td>2</td>\n      <td>347082</td>\n      <td>31.275</td>\n      <td>S</td>\n      <td>8</td>\n    </tr>\n    <tr>\n      <th>...</th>\n      <td>...</td>\n      <td>...</td>\n      <td>...</td>\n      <td>...</td>\n      <td>...</td>\n      <td>...</td>\n      <td>...</td>\n      <td>...</td>\n      <td>...</td>\n    </tr>\n    <tr>\n      <th>107</th>\n      <td>3</td>\n      <td>Salkjelsvik, Miss. Anna Kristine</td>\n      <td>21</td>\n      <td>0</td>\n      <td>0</td>\n      <td>343120</td>\n      <td>7.65</td>\n      <td>S</td>\n      <td>8</td>\n    </tr>\n    <tr>\n      <th>271</th>\n      <td>1</td>\n      <td>Cairns, Mr. Alexander</td>\n      <td>14</td>\n      <td>0</td>\n      <td>0</td>\n      <td>113798</td>\n      <td>31.0</td>\n      <td>S</td>\n      <td>8</td>\n    </tr>\n    <tr>\n      <th>861</th>\n      <td>3</td>\n      <td>Hansen, Mr. Claus Peter</td>\n      <td>41</td>\n      <td>2</td>\n      <td>0</td>\n      <td>350026</td>\n      <td>14.1083</td>\n      <td>S</td>\n      <td>8</td>\n    </tr>\n    <tr>\n      <th>436</th>\n      <td>1</td>\n      <td>Carter, Miss. Lucile Polk</td>\n      <td>14</td>\n      <td>1</td>\n      <td>2</td>\n      <td>113760</td>\n      <td>120.0</td>\n      <td>S</td>\n      <td>2</td>\n    </tr>\n    <tr>\n      <th>103</th>\n      <td>1</td>\n      <td>White, Mr. Richard Frasar</td>\n      <td>21</td>\n      <td>0</td>\n      <td>1</td>\n      <td>35281</td>\n      <td>77.2875</td>\n      <td>S</td>\n      <td>4</td>\n    </tr>\n  </tbody>\n</table>\n<p>712 rows × 9 columns</p>\n</div>"
     },
     "execution_count": 46,
     "metadata": {},
     "output_type": "execute_result"
    }
   ],
   "source": [
    "X_train"
   ],
   "metadata": {
    "collapsed": false,
    "ExecuteTime": {
     "end_time": "2024-03-03T02:37:00.354732Z",
     "start_time": "2024-03-03T02:37:00.342305Z"
    }
   },
   "id": "815c21881eb895c2",
   "execution_count": 46
  },
  {
   "cell_type": "code",
   "outputs": [],
   "source": [
    "#Feature Engineering Title Column\n",
    "for dataset in data:\n",
    "    dataset[\"Title\"] = dataset[\"Name\"].apply(lambda x: x.split(\",\")[1].split(\".\")[0].strip())"
   ],
   "metadata": {
    "collapsed": false,
    "ExecuteTime": {
     "end_time": "2024-03-03T02:37:00.378525Z",
     "start_time": "2024-03-03T02:37:00.373569Z"
    }
   },
   "id": "f6cd938e3addfb44",
   "execution_count": 47
  },
  {
   "cell_type": "code",
   "outputs": [],
   "source": [
    "#Feature Engineering Sex Column \n",
    "def map_to_sex(value):\n",
    "    if value in [\"Miss\",\"Mrs\"]:\n",
    "        return \"female\"\n",
    "    else:\n",
    "        return \"male\"\n",
    "\n",
    "for dataset in data:\n",
    "    dataset[\"Sex\"] = dataset[\"Title\"].apply(map_to_sex)\n",
    "    dataset.drop(\"Title\", axis=1, inplace=True)"
   ],
   "metadata": {
    "collapsed": false,
    "ExecuteTime": {
     "end_time": "2024-03-03T02:37:00.398564Z",
     "start_time": "2024-03-03T02:37:00.391047Z"
    }
   },
   "id": "502afae6ac628fa2",
   "execution_count": 48
  },
  {
   "cell_type": "code",
   "outputs": [],
   "source": [
    "#Feature Engineering Family Size Column\n",
    "for dataset in data:\n",
    "    dataset[\"Fam_size\"] = dataset[\"SibSp\"] + dataset[\"Parch\"] + 1\n",
    "    dataset[\"Fam_type\"] = pd.cut(dataset.Fam_size, [0,1,4,7,11], labels=[\"Solo\", \"Small\", \"Big\", \"Very big\"])\n",
    "    dataset.drop([\"SibSp\",\"Parch\",\"Fam_size\"], axis=1, inplace=True)\n"
   ],
   "metadata": {
    "collapsed": false,
    "ExecuteTime": {
     "end_time": "2024-03-03T02:37:00.418198Z",
     "start_time": "2024-03-03T02:37:00.409087Z"
    }
   },
   "id": "7611fdcd2568120a",
   "execution_count": 49
  },
  {
   "cell_type": "code",
   "outputs": [
    {
     "data": {
      "text/plain": "             Pclass                                Name  Age  SibSp  Parch  \\\nPassengerId                                                                  \n332               1                 Partner, Mr. Austen   45      0      0   \n734               2          Berriman, Mr. William John   23      0      0   \n383               3                  Tikkanen, Mr. Juho   32      0      0   \n705               3             Hansen, Mr. Henrik Juul   26      1      0   \n814               3  Andersson, Miss. Ebba Iris Alfrida    6      4      2   \n...             ...                                 ...  ...    ...    ...   \n107               3    Salkjelsvik, Miss. Anna Kristine   21      0      0   \n271               1               Cairns, Mr. Alexander   14      0      0   \n861               3             Hansen, Mr. Claus Peter   41      2      0   \n436               1           Carter, Miss. Lucile Polk   14      1      2   \n103               1           White, Mr. Richard Frasar   21      0      1   \n\n                        Ticket     Fare Embarked  Deck  \nPassengerId                                             \n332                     113043     28.5        S     3  \n734                      28425     13.0        S     8  \n383          STON/O 2. 3101293    7.925        S     8  \n705                     350025   7.8542        S     8  \n814                     347082   31.275        S     8  \n...                        ...      ...      ...   ...  \n107                     343120     7.65        S     8  \n271                     113798     31.0        S     8  \n861                     350026  14.1083        S     8  \n436                     113760    120.0        S     2  \n103                      35281  77.2875        S     4  \n\n[712 rows x 9 columns]",
      "text/html": "<div>\n<style scoped>\n    .dataframe tbody tr th:only-of-type {\n        vertical-align: middle;\n    }\n\n    .dataframe tbody tr th {\n        vertical-align: top;\n    }\n\n    .dataframe thead th {\n        text-align: right;\n    }\n</style>\n<table border=\"1\" class=\"dataframe\">\n  <thead>\n    <tr style=\"text-align: right;\">\n      <th></th>\n      <th>Pclass</th>\n      <th>Name</th>\n      <th>Age</th>\n      <th>SibSp</th>\n      <th>Parch</th>\n      <th>Ticket</th>\n      <th>Fare</th>\n      <th>Embarked</th>\n      <th>Deck</th>\n    </tr>\n    <tr>\n      <th>PassengerId</th>\n      <th></th>\n      <th></th>\n      <th></th>\n      <th></th>\n      <th></th>\n      <th></th>\n      <th></th>\n      <th></th>\n      <th></th>\n    </tr>\n  </thead>\n  <tbody>\n    <tr>\n      <th>332</th>\n      <td>1</td>\n      <td>Partner, Mr. Austen</td>\n      <td>45</td>\n      <td>0</td>\n      <td>0</td>\n      <td>113043</td>\n      <td>28.5</td>\n      <td>S</td>\n      <td>3</td>\n    </tr>\n    <tr>\n      <th>734</th>\n      <td>2</td>\n      <td>Berriman, Mr. William John</td>\n      <td>23</td>\n      <td>0</td>\n      <td>0</td>\n      <td>28425</td>\n      <td>13.0</td>\n      <td>S</td>\n      <td>8</td>\n    </tr>\n    <tr>\n      <th>383</th>\n      <td>3</td>\n      <td>Tikkanen, Mr. Juho</td>\n      <td>32</td>\n      <td>0</td>\n      <td>0</td>\n      <td>STON/O 2. 3101293</td>\n      <td>7.925</td>\n      <td>S</td>\n      <td>8</td>\n    </tr>\n    <tr>\n      <th>705</th>\n      <td>3</td>\n      <td>Hansen, Mr. Henrik Juul</td>\n      <td>26</td>\n      <td>1</td>\n      <td>0</td>\n      <td>350025</td>\n      <td>7.8542</td>\n      <td>S</td>\n      <td>8</td>\n    </tr>\n    <tr>\n      <th>814</th>\n      <td>3</td>\n      <td>Andersson, Miss. Ebba Iris Alfrida</td>\n      <td>6</td>\n      <td>4</td>\n      <td>2</td>\n      <td>347082</td>\n      <td>31.275</td>\n      <td>S</td>\n      <td>8</td>\n    </tr>\n    <tr>\n      <th>...</th>\n      <td>...</td>\n      <td>...</td>\n      <td>...</td>\n      <td>...</td>\n      <td>...</td>\n      <td>...</td>\n      <td>...</td>\n      <td>...</td>\n      <td>...</td>\n    </tr>\n    <tr>\n      <th>107</th>\n      <td>3</td>\n      <td>Salkjelsvik, Miss. Anna Kristine</td>\n      <td>21</td>\n      <td>0</td>\n      <td>0</td>\n      <td>343120</td>\n      <td>7.65</td>\n      <td>S</td>\n      <td>8</td>\n    </tr>\n    <tr>\n      <th>271</th>\n      <td>1</td>\n      <td>Cairns, Mr. Alexander</td>\n      <td>14</td>\n      <td>0</td>\n      <td>0</td>\n      <td>113798</td>\n      <td>31.0</td>\n      <td>S</td>\n      <td>8</td>\n    </tr>\n    <tr>\n      <th>861</th>\n      <td>3</td>\n      <td>Hansen, Mr. Claus Peter</td>\n      <td>41</td>\n      <td>2</td>\n      <td>0</td>\n      <td>350026</td>\n      <td>14.1083</td>\n      <td>S</td>\n      <td>8</td>\n    </tr>\n    <tr>\n      <th>436</th>\n      <td>1</td>\n      <td>Carter, Miss. Lucile Polk</td>\n      <td>14</td>\n      <td>1</td>\n      <td>2</td>\n      <td>113760</td>\n      <td>120.0</td>\n      <td>S</td>\n      <td>2</td>\n    </tr>\n    <tr>\n      <th>103</th>\n      <td>1</td>\n      <td>White, Mr. Richard Frasar</td>\n      <td>21</td>\n      <td>0</td>\n      <td>1</td>\n      <td>35281</td>\n      <td>77.2875</td>\n      <td>S</td>\n      <td>4</td>\n    </tr>\n  </tbody>\n</table>\n<p>712 rows × 9 columns</p>\n</div>"
     },
     "execution_count": 50,
     "metadata": {},
     "output_type": "execute_result"
    }
   ],
   "source": [
    "X_train"
   ],
   "metadata": {
    "collapsed": false,
    "ExecuteTime": {
     "end_time": "2024-03-03T02:37:00.443423Z",
     "start_time": "2024-03-03T02:37:00.432223Z"
    }
   },
   "id": "440341c693d677f8",
   "execution_count": 50
  },
  {
   "cell_type": "markdown",
   "source": [
    "### Encode all Labels to String in order to pass through the GBM model"
   ],
   "metadata": {
    "collapsed": false
   },
   "id": "d79ef93bb1e9aec8"
  },
  {
   "cell_type": "code",
   "outputs": [
    {
     "data": {
      "text/plain": "             Pclass  Name  Age  SibSp  Parch  Ticket  Fare  Embarked  Deck\nPassengerId                                                               \n332               0   499   45      0      0      15   133         2     3\n734               1    63   23      0      0     188    74         2     8\n383               2   642   32      0      0     543    37         2     8\n705               2   250   26      1      0     332    33         2     8\n814               2    19    6      4      2     277   141         2     8\n...             ...   ...  ...    ...    ...     ...   ...       ...   ...\n107               2   574   21      0      0     245    23         2     8\n271               0    96   14      0      0      39   140         2     8\n861               2   249   41      2      0     333    81         2     8\n436               0   108   14      1      2      27   205         2     2\n103               0   684   21      0      1     348   185         2     4\n\n[712 rows x 9 columns]",
      "text/html": "<div>\n<style scoped>\n    .dataframe tbody tr th:only-of-type {\n        vertical-align: middle;\n    }\n\n    .dataframe tbody tr th {\n        vertical-align: top;\n    }\n\n    .dataframe thead th {\n        text-align: right;\n    }\n</style>\n<table border=\"1\" class=\"dataframe\">\n  <thead>\n    <tr style=\"text-align: right;\">\n      <th></th>\n      <th>Pclass</th>\n      <th>Name</th>\n      <th>Age</th>\n      <th>SibSp</th>\n      <th>Parch</th>\n      <th>Ticket</th>\n      <th>Fare</th>\n      <th>Embarked</th>\n      <th>Deck</th>\n    </tr>\n    <tr>\n      <th>PassengerId</th>\n      <th></th>\n      <th></th>\n      <th></th>\n      <th></th>\n      <th></th>\n      <th></th>\n      <th></th>\n      <th></th>\n      <th></th>\n    </tr>\n  </thead>\n  <tbody>\n    <tr>\n      <th>332</th>\n      <td>0</td>\n      <td>499</td>\n      <td>45</td>\n      <td>0</td>\n      <td>0</td>\n      <td>15</td>\n      <td>133</td>\n      <td>2</td>\n      <td>3</td>\n    </tr>\n    <tr>\n      <th>734</th>\n      <td>1</td>\n      <td>63</td>\n      <td>23</td>\n      <td>0</td>\n      <td>0</td>\n      <td>188</td>\n      <td>74</td>\n      <td>2</td>\n      <td>8</td>\n    </tr>\n    <tr>\n      <th>383</th>\n      <td>2</td>\n      <td>642</td>\n      <td>32</td>\n      <td>0</td>\n      <td>0</td>\n      <td>543</td>\n      <td>37</td>\n      <td>2</td>\n      <td>8</td>\n    </tr>\n    <tr>\n      <th>705</th>\n      <td>2</td>\n      <td>250</td>\n      <td>26</td>\n      <td>1</td>\n      <td>0</td>\n      <td>332</td>\n      <td>33</td>\n      <td>2</td>\n      <td>8</td>\n    </tr>\n    <tr>\n      <th>814</th>\n      <td>2</td>\n      <td>19</td>\n      <td>6</td>\n      <td>4</td>\n      <td>2</td>\n      <td>277</td>\n      <td>141</td>\n      <td>2</td>\n      <td>8</td>\n    </tr>\n    <tr>\n      <th>...</th>\n      <td>...</td>\n      <td>...</td>\n      <td>...</td>\n      <td>...</td>\n      <td>...</td>\n      <td>...</td>\n      <td>...</td>\n      <td>...</td>\n      <td>...</td>\n    </tr>\n    <tr>\n      <th>107</th>\n      <td>2</td>\n      <td>574</td>\n      <td>21</td>\n      <td>0</td>\n      <td>0</td>\n      <td>245</td>\n      <td>23</td>\n      <td>2</td>\n      <td>8</td>\n    </tr>\n    <tr>\n      <th>271</th>\n      <td>0</td>\n      <td>96</td>\n      <td>14</td>\n      <td>0</td>\n      <td>0</td>\n      <td>39</td>\n      <td>140</td>\n      <td>2</td>\n      <td>8</td>\n    </tr>\n    <tr>\n      <th>861</th>\n      <td>2</td>\n      <td>249</td>\n      <td>41</td>\n      <td>2</td>\n      <td>0</td>\n      <td>333</td>\n      <td>81</td>\n      <td>2</td>\n      <td>8</td>\n    </tr>\n    <tr>\n      <th>436</th>\n      <td>0</td>\n      <td>108</td>\n      <td>14</td>\n      <td>1</td>\n      <td>2</td>\n      <td>27</td>\n      <td>205</td>\n      <td>2</td>\n      <td>2</td>\n    </tr>\n    <tr>\n      <th>103</th>\n      <td>0</td>\n      <td>684</td>\n      <td>21</td>\n      <td>0</td>\n      <td>1</td>\n      <td>348</td>\n      <td>185</td>\n      <td>2</td>\n      <td>4</td>\n    </tr>\n  </tbody>\n</table>\n<p>712 rows × 9 columns</p>\n</div>"
     },
     "execution_count": 51,
     "metadata": {},
     "output_type": "execute_result"
    }
   ],
   "source": [
    "X_train = X_train.apply(LabelEncoder().fit_transform)\n",
    "X_test = X_test.apply(LabelEncoder().fit_transform)\n",
    "to_test = to_test.apply(LabelEncoder().fit_transform)\n",
    "X_train"
   ],
   "metadata": {
    "collapsed": false,
    "ExecuteTime": {
     "end_time": "2024-03-03T02:37:00.476715Z",
     "start_time": "2024-03-03T02:37:00.458772Z"
    }
   },
   "id": "ea4249e0dc9aa4f2",
   "execution_count": 51
  },
  {
   "cell_type": "markdown",
   "source": [
    "### Cross-Fold Validation"
   ],
   "metadata": {
    "collapsed": false
   },
   "id": "e264278da47f49c2"
  },
  {
   "cell_type": "code",
   "outputs": [
    {
     "data": {
      "text/plain": "'\\nparam_grid = {\\n    \\'max_depth\\': [3, 4, 5],\\n    \\'learning_rate\\': [0.01, 0.1, 0.2],\\n    \\'n_estimators\\': [100, 200, 300],\\n    \\'subsample\\': [0.8, 0.9, 1.0]\\n}\\n\\nk_fold = StratifiedKFold(n_splits=10, shuffle=True, random_state=42)\\ngrid_search = GridSearchCV(model, param_grid, scoring=\\'accuracy\\', n_jobs=-1, cv=k_fold)\\ngrid_result = grid_search.fit(X_train, y_train)\\nprint(\"Best: %f using %s\" % (grid_result.best_score_, grid_result.best_params_))\\n'"
     },
     "execution_count": 52,
     "metadata": {},
     "output_type": "execute_result"
    }
   ],
   "source": [
    "model = XGBClassifier() # classifier used to tune hyperparameters\n",
    "'''\n",
    "param_grid = {\n",
    "    'max_depth': [3, 4, 5],\n",
    "    'learning_rate': [0.01, 0.1, 0.2],\n",
    "    'n_estimators': [100, 200, 300],\n",
    "    'subsample': [0.8, 0.9, 1.0]\n",
    "}\n",
    "\n",
    "k_fold = StratifiedKFold(n_splits=10, shuffle=True, random_state=42)\n",
    "grid_search = GridSearchCV(model, param_grid, scoring='accuracy', n_jobs=-1, cv=k_fold)\n",
    "grid_result = grid_search.fit(X_train, y_train)\n",
    "print(\"Best: %f using %s\" % (grid_result.best_score_, grid_result.best_params_))\n",
    "'''"
   ],
   "metadata": {
    "collapsed": false,
    "ExecuteTime": {
     "end_time": "2024-03-03T02:37:00.612828Z",
     "start_time": "2024-03-03T02:37:00.608430Z"
    }
   },
   "id": "d84d0e3eb04fb1a4",
   "execution_count": 52
  },
  {
   "cell_type": "code",
   "outputs": [
    {
     "data": {
      "text/plain": "'\\nparam_distributions = {\\n    \\'max_depth\\': randint(3, 10),  \\n    \\'learning_rate\\': uniform(0.001, 0.299),  \\n    \\'n_estimators\\': randint(50, 1000),\\n    \\'subsample\\': uniform(0.5, 0.5),  \\n    \\'colsample_bytree\\': uniform(0.3, 0.7),  \\n    \\'min_child_weight\\': randint(0, 10),\\n    \\'gamma\\': uniform(0, 5),\\n    \\'reg_lambda\\': uniform(1e-5, 10 - 1e-5),  \\n    \\'reg_alpha\\': uniform(0, 1),\\n    \\'scale_pos_weight\\': [1, 10, 25, 50, 75, 100]\\n}\\n\\nkfold = StratifiedKFold(n_splits=10, shuffle=True, random_state=42)\\nrandom_search = RandomizedSearchCV(model, param_distributions, n_iter=100, scoring=\\'accuracy\\', n_jobs=-1, cv=kfold, random_state=42)\\nrandom_search.fit(X_train, y_train)\\n\\nprint(\"Best: %f using %s\" % (random_search.best_score_, random_search.best_params_))\\n'"
     },
     "execution_count": 53,
     "metadata": {},
     "output_type": "execute_result"
    }
   ],
   "source": [
    "'''\n",
    "param_distributions = {\n",
    "    'max_depth': randint(3, 10),  \n",
    "    'learning_rate': uniform(0.001, 0.299),  \n",
    "    'n_estimators': randint(50, 1000),\n",
    "    'subsample': uniform(0.5, 0.5),  \n",
    "    'colsample_bytree': uniform(0.3, 0.7),  \n",
    "    'min_child_weight': randint(0, 10),\n",
    "    'gamma': uniform(0, 5),\n",
    "    'reg_lambda': uniform(1e-5, 10 - 1e-5),  \n",
    "    'reg_alpha': uniform(0, 1),\n",
    "    'scale_pos_weight': [1, 10, 25, 50, 75, 100]\n",
    "}\n",
    "\n",
    "kfold = StratifiedKFold(n_splits=10, shuffle=True, random_state=42)\n",
    "random_search = RandomizedSearchCV(model, param_distributions, n_iter=100, scoring='accuracy', n_jobs=-1, cv=kfold, random_state=42)\n",
    "random_search.fit(X_train, y_train)\n",
    "\n",
    "print(\"Best: %f using %s\" % (random_search.best_score_, random_search.best_params_))\n",
    "'''"
   ],
   "metadata": {
    "collapsed": false,
    "ExecuteTime": {
     "end_time": "2024-03-03T02:37:00.689397Z",
     "start_time": "2024-03-03T02:37:00.685445Z"
    }
   },
   "id": "7bb830f204215c5c",
   "execution_count": 53
  },
  {
   "cell_type": "code",
   "outputs": [],
   "source": [
    "def objective(trial):\n",
    "    param = {\n",
    "        'verbosity': 0,\n",
    "        'objective': 'binary:logistic',  # or 'multi:softprob' for multiclass and set 'num_class'\n",
    "        'eval_metric': 'logloss',  # or another suitable metric\n",
    "        'learning_rate': trial.suggest_float('learning_rate', 0.01, 0.3),\n",
    "        'n_estimators': trial.suggest_int('n_estimators', 100, 1000),\n",
    "        'max_depth': trial.suggest_int('max_depth', 3, 9),\n",
    "        'min_child_weight': trial.suggest_int('min_child_weight', 1, 10),\n",
    "        'subsample': trial.suggest_float('subsample', 0.5, 1.0),\n",
    "        'colsample_bytree': trial.suggest_float('colsample_bytree', 0.5, 1.0),\n",
    "        'reg_alpha': trial.suggest_float('reg_alpha', 0.0, 1.0),\n",
    "        'reg_lambda': trial.suggest_float('reg_lambda', 1e-5, 100.0),\n",
    "    }\n",
    "\n",
    "    model = xgb.XGBClassifier(**param)\n",
    "    model.fit(X_train, y_train, eval_set=[(X_test, y_test)], verbose=False)\n",
    "    model.set_params(early_stopping_rounds=100) # TODO random state\n",
    "\n",
    "    preds = model.predict(X_test)\n",
    "    accuracy = accuracy_score(y_test, preds)\n",
    "    \n",
    "    return accuracy"
   ],
   "metadata": {
    "collapsed": false,
    "ExecuteTime": {
     "end_time": "2024-03-03T02:37:00.815753Z",
     "start_time": "2024-03-03T02:37:00.810751Z"
    }
   },
   "id": "eb7c96151e8b9c70",
   "execution_count": 54
  },
  {
   "cell_type": "code",
   "outputs": [
    {
     "name": "stderr",
     "output_type": "stream",
     "text": [
      "[I 2024-03-03 03:37:00,893] A new study created in memory with name: no-name-40563f73-3819-490e-b6eb-251b9a664867\n",
      "[I 2024-03-03 03:37:01,052] Trial 0 finished with value: 0.7430167597765364 and parameters: {'learning_rate': 0.2547176404318095, 'n_estimators': 257, 'max_depth': 3, 'min_child_weight': 3, 'subsample': 0.5180084588909906, 'colsample_bytree': 0.5390232957567229, 'reg_alpha': 0.5112193578632769, 'reg_lambda': 69.41313193637252}. Best is trial 0 with value: 0.7430167597765364.\n",
      "[I 2024-03-03 03:37:01,438] Trial 1 finished with value: 0.664804469273743 and parameters: {'learning_rate': 0.2429784070078606, 'n_estimators': 399, 'max_depth': 9, 'min_child_weight': 2, 'subsample': 0.7983004863924932, 'colsample_bytree': 0.9391394323978935, 'reg_alpha': 0.4816348166832888, 'reg_lambda': 20.069205786342835}. Best is trial 0 with value: 0.7430167597765364.\n",
      "[I 2024-03-03 03:37:01,928] Trial 2 finished with value: 0.6983240223463687 and parameters: {'learning_rate': 0.23040980821077983, 'n_estimators': 732, 'max_depth': 4, 'min_child_weight': 2, 'subsample': 0.6151403476522272, 'colsample_bytree': 0.6748091768709961, 'reg_alpha': 0.6542597013377486, 'reg_lambda': 67.26562377205299}. Best is trial 0 with value: 0.7430167597765364.\n",
      "[I 2024-03-03 03:37:02,048] Trial 3 finished with value: 0.7206703910614525 and parameters: {'learning_rate': 0.017455846736814617, 'n_estimators': 188, 'max_depth': 6, 'min_child_weight': 7, 'subsample': 0.6070073492441357, 'colsample_bytree': 0.5573351810159248, 'reg_alpha': 0.6393941901298088, 'reg_lambda': 50.817557417822194}. Best is trial 0 with value: 0.7430167597765364.\n",
      "[I 2024-03-03 03:37:02,283] Trial 4 finished with value: 0.7039106145251397 and parameters: {'learning_rate': 0.034725977409685554, 'n_estimators': 396, 'max_depth': 8, 'min_child_weight': 10, 'subsample': 0.6970722758324459, 'colsample_bytree': 0.7086450092146447, 'reg_alpha': 0.4887009675828182, 'reg_lambda': 58.88742429921427}. Best is trial 0 with value: 0.7430167597765364.\n",
      "[I 2024-03-03 03:37:02,510] Trial 5 finished with value: 0.6815642458100558 and parameters: {'learning_rate': 0.2973350311020732, 'n_estimators': 378, 'max_depth': 4, 'min_child_weight': 4, 'subsample': 0.5772771647485557, 'colsample_bytree': 0.5973523906348123, 'reg_alpha': 0.2025707184387332, 'reg_lambda': 60.26845943618267}. Best is trial 0 with value: 0.7430167597765364.\n",
      "[I 2024-03-03 03:37:02,762] Trial 6 finished with value: 0.7150837988826816 and parameters: {'learning_rate': 0.08768819403886512, 'n_estimators': 427, 'max_depth': 4, 'min_child_weight': 10, 'subsample': 0.8766203767096883, 'colsample_bytree': 0.7294143515390761, 'reg_alpha': 0.7734639903445555, 'reg_lambda': 54.895452874096925}. Best is trial 0 with value: 0.7430167597765364.\n",
      "[I 2024-03-03 03:37:03,674] Trial 7 finished with value: 0.7318435754189944 and parameters: {'learning_rate': 0.043691885157528774, 'n_estimators': 924, 'max_depth': 6, 'min_child_weight': 4, 'subsample': 0.557642441695254, 'colsample_bytree': 0.8856852183323867, 'reg_alpha': 0.07798456192403369, 'reg_lambda': 81.9817226148166}. Best is trial 0 with value: 0.7430167597765364.\n",
      "[I 2024-03-03 03:37:03,932] Trial 8 finished with value: 0.6759776536312849 and parameters: {'learning_rate': 0.229577823343409, 'n_estimators': 386, 'max_depth': 3, 'min_child_weight': 3, 'subsample': 0.719116472176731, 'colsample_bytree': 0.5301654875888493, 'reg_alpha': 0.5231110772080789, 'reg_lambda': 3.7555234441718732}. Best is trial 0 with value: 0.7430167597765364.\n",
      "[I 2024-03-03 03:37:04,566] Trial 9 finished with value: 0.6536312849162011 and parameters: {'learning_rate': 0.26609807199901303, 'n_estimators': 957, 'max_depth': 5, 'min_child_weight': 8, 'subsample': 0.8075651271763873, 'colsample_bytree': 0.9926760089030616, 'reg_alpha': 0.8745377748852342, 'reg_lambda': 48.23445825669333}. Best is trial 0 with value: 0.7430167597765364.\n",
      "[I 2024-03-03 03:37:04,684] Trial 10 finished with value: 0.7318435754189944 and parameters: {'learning_rate': 0.15984418277191048, 'n_estimators': 110, 'max_depth': 3, 'min_child_weight': 1, 'subsample': 0.9255905138742466, 'colsample_bytree': 0.8304535303944028, 'reg_alpha': 0.29618358065815065, 'reg_lambda': 97.30649850551963}. Best is trial 0 with value: 0.7430167597765364.\n",
      "[I 2024-03-03 03:37:05,176] Trial 11 finished with value: 0.7039106145251397 and parameters: {'learning_rate': 0.15975614356462017, 'n_estimators': 750, 'max_depth': 7, 'min_child_weight': 5, 'subsample': 0.5056599531553073, 'colsample_bytree': 0.8460984590989846, 'reg_alpha': 0.04901989662415229, 'reg_lambda': 87.94959895528666}. Best is trial 0 with value: 0.7430167597765364.\n",
      "[I 2024-03-03 03:37:05,782] Trial 12 finished with value: 0.7094972067039106 and parameters: {'learning_rate': 0.10048393153113744, 'n_estimators': 947, 'max_depth': 6, 'min_child_weight': 5, 'subsample': 0.5000097021168535, 'colsample_bytree': 0.9012641083647809, 'reg_alpha': 0.341131685116656, 'reg_lambda': 78.48966510322693}. Best is trial 0 with value: 0.7430167597765364.\n",
      "[I 2024-03-03 03:37:06,251] Trial 13 finished with value: 0.7150837988826816 and parameters: {'learning_rate': 0.11298388509577562, 'n_estimators': 627, 'max_depth': 7, 'min_child_weight': 4, 'subsample': 0.655006769786513, 'colsample_bytree': 0.7860012754307508, 'reg_alpha': 0.09681668888322578, 'reg_lambda': 77.80390989040029}. Best is trial 0 with value: 0.7430167597765364.\n",
      "[I 2024-03-03 03:37:06,445] Trial 14 finished with value: 0.7486033519553073 and parameters: {'learning_rate': 0.18856784360346598, 'n_estimators': 245, 'max_depth': 5, 'min_child_weight': 7, 'subsample': 0.5542993967899025, 'colsample_bytree': 0.6216682491902822, 'reg_alpha': 0.33512722087747177, 'reg_lambda': 36.674941943051174}. Best is trial 14 with value: 0.7486033519553073.\n",
      "[I 2024-03-03 03:37:06,614] Trial 15 finished with value: 0.7597765363128491 and parameters: {'learning_rate': 0.19181931534740987, 'n_estimators': 202, 'max_depth': 5, 'min_child_weight': 7, 'subsample': 0.5457152627055919, 'colsample_bytree': 0.6266327862490967, 'reg_alpha': 0.3926240983010504, 'reg_lambda': 31.65438669384804}. Best is trial 15 with value: 0.7597765363128491.\n",
      "[I 2024-03-03 03:37:06,825] Trial 16 finished with value: 0.6927374301675978 and parameters: {'learning_rate': 0.2066130429071214, 'n_estimators': 254, 'max_depth': 5, 'min_child_weight': 7, 'subsample': 0.9877876471310248, 'colsample_bytree': 0.6379832587016473, 'reg_alpha': 0.29906924456712813, 'reg_lambda': 25.207964314894852}. Best is trial 15 with value: 0.7597765363128491.\n",
      "[I 2024-03-03 03:37:06,944] Trial 17 finished with value: 0.7318435754189944 and parameters: {'learning_rate': 0.19272326002705617, 'n_estimators': 120, 'max_depth': 5, 'min_child_weight': 8, 'subsample': 0.6421418139059589, 'colsample_bytree': 0.6248585253080255, 'reg_alpha': 0.9936681081737131, 'reg_lambda': 35.773315282240226}. Best is trial 15 with value: 0.7597765363128491.\n",
      "[I 2024-03-03 03:37:07,333] Trial 18 finished with value: 0.7094972067039106 and parameters: {'learning_rate': 0.18766039882443455, 'n_estimators': 542, 'max_depth': 7, 'min_child_weight': 7, 'subsample': 0.760424659912647, 'colsample_bytree': 0.6844686716234174, 'reg_alpha': 0.19987412747677424, 'reg_lambda': 37.062759162576555}. Best is trial 15 with value: 0.7597765363128491.\n",
      "[I 2024-03-03 03:37:07,532] Trial 19 finished with value: 0.6759776536312849 and parameters: {'learning_rate': 0.13437239993352307, 'n_estimators': 269, 'max_depth': 5, 'min_child_weight': 9, 'subsample': 0.5655592002346636, 'colsample_bytree': 0.7717218935862835, 'reg_alpha': 0.4233927014186447, 'reg_lambda': 5.55114399012848}. Best is trial 15 with value: 0.7597765363128491.\n",
      "[I 2024-03-03 03:37:07,877] Trial 20 finished with value: 0.6536312849162011 and parameters: {'learning_rate': 0.17925288509739085, 'n_estimators': 515, 'max_depth': 4, 'min_child_weight': 6, 'subsample': 0.6869340484820549, 'colsample_bytree': 0.5977646278117196, 'reg_alpha': 0.6336818061197191, 'reg_lambda': 18.318317877415375}. Best is trial 15 with value: 0.7597765363128491.\n",
      "[I 2024-03-03 03:37:08,069] Trial 21 finished with value: 0.7262569832402235 and parameters: {'learning_rate': 0.2663993458062644, 'n_estimators': 273, 'max_depth': 3, 'min_child_weight': 6, 'subsample': 0.5381812088746869, 'colsample_bytree': 0.5204093034503549, 'reg_alpha': 0.37389286361257046, 'reg_lambda': 37.66185949409756}. Best is trial 15 with value: 0.7597765363128491.\n",
      "[I 2024-03-03 03:37:08,237] Trial 22 finished with value: 0.7430167597765364 and parameters: {'learning_rate': 0.21426198061674664, 'n_estimators': 198, 'max_depth': 5, 'min_child_weight': 8, 'subsample': 0.5325628322918463, 'colsample_bytree': 0.5775870992802444, 'reg_alpha': 0.22050922827507424, 'reg_lambda': 68.12061870185332}. Best is trial 15 with value: 0.7597765363128491.\n",
      "[I 2024-03-03 03:37:08,463] Trial 23 finished with value: 0.7206703910614525 and parameters: {'learning_rate': 0.26192289035263283, 'n_estimators': 321, 'max_depth': 4, 'min_child_weight': 6, 'subsample': 0.6153918096624446, 'colsample_bytree': 0.6573589282820808, 'reg_alpha': 0.579605010267534, 'reg_lambda': 28.71305889533221}. Best is trial 15 with value: 0.7597765363128491.\n",
      "[I 2024-03-03 03:37:08,596] Trial 24 finished with value: 0.7486033519553073 and parameters: {'learning_rate': 0.1397960293386975, 'n_estimators': 171, 'max_depth': 3, 'min_child_weight': 9, 'subsample': 0.5861830284542457, 'colsample_bytree': 0.5040272560397107, 'reg_alpha': 0.7332594280207984, 'reg_lambda': 39.727433648588686}. Best is trial 15 with value: 0.7597765363128491.\n",
      "[I 2024-03-03 03:37:08,740] Trial 25 finished with value: 0.7150837988826816 and parameters: {'learning_rate': 0.12876066243892004, 'n_estimators': 155, 'max_depth': 6, 'min_child_weight': 9, 'subsample': 0.5927818461622818, 'colsample_bytree': 0.6175691661952167, 'reg_alpha': 0.7457644457343888, 'reg_lambda': 44.414342562950736}. Best is trial 15 with value: 0.7597765363128491.\n",
      "[I 2024-03-03 03:37:09,069] Trial 26 finished with value: 0.6983240223463687 and parameters: {'learning_rate': 0.1411137489767664, 'n_estimators': 474, 'max_depth': 5, 'min_child_weight': 9, 'subsample': 0.6479739627081986, 'colsample_bytree': 0.5046244484106566, 'reg_alpha': 0.7532576369505449, 'reg_lambda': 12.999362374258745}. Best is trial 15 with value: 0.7597765363128491.\n",
      "[I 2024-03-03 03:37:09,304] Trial 27 finished with value: 0.7430167597765364 and parameters: {'learning_rate': 0.17161437443468697, 'n_estimators': 325, 'max_depth': 4, 'min_child_weight': 8, 'subsample': 0.5619859091546012, 'colsample_bytree': 0.5751313275346708, 'reg_alpha': 0.4232726230118698, 'reg_lambda': 29.627128862500317}. Best is trial 15 with value: 0.7597765363128491.\n",
      "[I 2024-03-03 03:37:09,484] Trial 28 finished with value: 0.7094972067039106 and parameters: {'learning_rate': 0.07265859535740805, 'n_estimators': 192, 'max_depth': 8, 'min_child_weight': 7, 'subsample': 0.6773658311858815, 'colsample_bytree': 0.7046604123645159, 'reg_alpha': 0.9818782126999704, 'reg_lambda': 40.23592946808109}. Best is trial 15 with value: 0.7597765363128491.\n",
      "[I 2024-03-03 03:37:09,658] Trial 29 finished with value: 0.6983240223463687 and parameters: {'learning_rate': 0.20002748065756373, 'n_estimators': 233, 'max_depth': 3, 'min_child_weight': 9, 'subsample': 0.7478530184509963, 'colsample_bytree': 0.5438721187144185, 'reg_alpha': 0.8437941897454196, 'reg_lambda': 10.72018736466849}. Best is trial 15 with value: 0.7597765363128491.\n",
      "[I 2024-03-03 03:37:09,891] Trial 30 finished with value: 0.7039106145251397 and parameters: {'learning_rate': 0.15613404149676907, 'n_estimators': 316, 'max_depth': 6, 'min_child_weight': 10, 'subsample': 0.592435644589031, 'colsample_bytree': 0.5043016270324234, 'reg_alpha': 0.14113979909218874, 'reg_lambda': 31.44882256421021}. Best is trial 15 with value: 0.7597765363128491.\n",
      "[I 2024-03-03 03:37:10,001] Trial 31 finished with value: 0.6983240223463687 and parameters: {'learning_rate': 0.24060680767329984, 'n_estimators': 107, 'max_depth': 3, 'min_child_weight': 1, 'subsample': 0.5280634223438395, 'colsample_bytree': 0.5493048842464362, 'reg_alpha': 0.5505379341891203, 'reg_lambda': 22.035383254053833}. Best is trial 15 with value: 0.7597765363128491.\n",
      "[I 2024-03-03 03:37:10,143] Trial 32 finished with value: 0.7150837988826816 and parameters: {'learning_rate': 0.299886217026367, 'n_estimators': 167, 'max_depth': 3, 'min_child_weight': 2, 'subsample': 0.5016202923101769, 'colsample_bytree': 0.6496471008931609, 'reg_alpha': 0.45654307112590214, 'reg_lambda': 67.62321978203826}. Best is trial 15 with value: 0.7597765363128491.\n",
      "[I 2024-03-03 03:37:10,331] Trial 33 finished with value: 0.7318435754189944 and parameters: {'learning_rate': 0.21975338137103334, 'n_estimators': 231, 'max_depth': 4, 'min_child_weight': 5, 'subsample': 0.6257323276838477, 'colsample_bytree': 0.5637099755726512, 'reg_alpha': 0.3584369668551959, 'reg_lambda': 47.10809430855358}. Best is trial 15 with value: 0.7597765363128491.\n",
      "[I 2024-03-03 03:37:10,575] Trial 34 finished with value: 0.7206703910614525 and parameters: {'learning_rate': 0.2537094326624655, 'n_estimators': 330, 'max_depth': 9, 'min_child_weight': 3, 'subsample': 0.538704128655997, 'colsample_bytree': 0.5981263357011835, 'reg_alpha': 0.6071673114015268, 'reg_lambda': 55.72522987446621}. Best is trial 15 with value: 0.7597765363128491.\n",
      "[I 2024-03-03 03:37:10,878] Trial 35 finished with value: 0.7486033519553073 and parameters: {'learning_rate': 0.11839434142803609, 'n_estimators': 463, 'max_depth': 4, 'min_child_weight': 7, 'subsample': 0.5935465670148339, 'colsample_bytree': 0.5343775880944733, 'reg_alpha': 0.6704186836227554, 'reg_lambda': 41.80739753179562}. Best is trial 15 with value: 0.7597765363128491.\n",
      "[I 2024-03-03 03:37:11,283] Trial 36 finished with value: 0.7430167597765364 and parameters: {'learning_rate': 0.11698612520901341, 'n_estimators': 619, 'max_depth': 5, 'min_child_weight': 7, 'subsample': 0.6118372171457013, 'colsample_bytree': 0.5349996747490672, 'reg_alpha': 0.7218052809727059, 'reg_lambda': 42.67195578181211}. Best is trial 15 with value: 0.7597765363128491.\n",
      "[I 2024-03-03 03:37:11,629] Trial 37 finished with value: 0.7262569832402235 and parameters: {'learning_rate': 0.07343908368370633, 'n_estimators': 476, 'max_depth': 4, 'min_child_weight': 6, 'subsample': 0.5761401797884653, 'colsample_bytree': 0.6710258675751937, 'reg_alpha': 0.6970343199863447, 'reg_lambda': 52.510023023347934}. Best is trial 15 with value: 0.7597765363128491.\n",
      "[I 2024-03-03 03:37:12,092] Trial 38 finished with value: 0.7039106145251397 and parameters: {'learning_rate': 0.14056791031648178, 'n_estimators': 767, 'max_depth': 4, 'min_child_weight': 8, 'subsample': 0.6667848251895073, 'colsample_bytree': 0.5852713457042764, 'reg_alpha': 0.8491308831003719, 'reg_lambda': 62.16052503232896}. Best is trial 15 with value: 0.7597765363128491.\n",
      "[I 2024-03-03 03:37:12,413] Trial 39 finished with value: 0.7206703910614525 and parameters: {'learning_rate': 0.16937396503934962, 'n_estimators': 419, 'max_depth': 5, 'min_child_weight': 7, 'subsample': 0.7152854521406633, 'colsample_bytree': 0.6204033138207986, 'reg_alpha': 0.6588006792700398, 'reg_lambda': 34.486170780160336}. Best is trial 15 with value: 0.7597765363128491.\n",
      "[I 2024-03-03 03:37:12,795] Trial 40 finished with value: 0.6703910614525139 and parameters: {'learning_rate': 0.09737044822156223, 'n_estimators': 609, 'max_depth': 4, 'min_child_weight': 10, 'subsample': 0.5923179478967023, 'colsample_bytree': 0.7222472066018244, 'reg_alpha': 0.5004741603829901, 'reg_lambda': 16.954745842527068}. Best is trial 15 with value: 0.7597765363128491.\n",
      "[I 2024-03-03 03:37:13,038] Trial 41 finished with value: 0.6871508379888268 and parameters: {'learning_rate': 0.22982888894393705, 'n_estimators': 359, 'max_depth': 3, 'min_child_weight': 3, 'subsample': 0.5518126901475691, 'colsample_bytree': 0.5571081521665235, 'reg_alpha': 0.8031672278414475, 'reg_lambda': 24.677955063512215}. Best is trial 15 with value: 0.7597765363128491.\n",
      "[I 2024-03-03 03:37:13,193] Trial 42 finished with value: 0.7486033519553073 and parameters: {'learning_rate': 0.28335418025320563, 'n_estimators': 204, 'max_depth': 3, 'min_child_weight': 6, 'subsample': 0.5240614732872391, 'colsample_bytree': 0.5187375520578914, 'reg_alpha': 0.5467560307132573, 'reg_lambda': 48.89600634039577}. Best is trial 15 with value: 0.7597765363128491.\n",
      "[I 2024-03-03 03:37:13,324] Trial 43 finished with value: 0.7262569832402235 and parameters: {'learning_rate': 0.28479250886639196, 'n_estimators': 154, 'max_depth': 3, 'min_child_weight': 6, 'subsample': 0.5802097361467988, 'colsample_bytree': 0.517732996153163, 'reg_alpha': 0.6828096332644947, 'reg_lambda': 49.65789007290168}. Best is trial 15 with value: 0.7597765363128491.\n",
      "[I 2024-03-03 03:37:13,505] Trial 44 finished with value: 0.7206703910614525 and parameters: {'learning_rate': 0.11544919387095466, 'n_estimators': 207, 'max_depth': 4, 'min_child_weight': 5, 'subsample': 0.8363757336728237, 'colsample_bytree': 0.5021364950194435, 'reg_alpha': 0.5381821161314205, 'reg_lambda': 43.84801428783904}. Best is trial 15 with value: 0.7597765363128491.\n",
      "[I 2024-03-03 03:37:13,696] Trial 45 finished with value: 0.7206703910614525 and parameters: {'learning_rate': 0.14710255111143117, 'n_estimators': 261, 'max_depth': 3, 'min_child_weight': 7, 'subsample': 0.5301039355585354, 'colsample_bytree': 0.5360482778988752, 'reg_alpha': 0.45436736143628687, 'reg_lambda': 62.58064741631871}. Best is trial 15 with value: 0.7597765363128491.\n",
      "[I 2024-03-03 03:37:14,185] Trial 46 finished with value: 0.7150837988826816 and parameters: {'learning_rate': 0.05066181588956045, 'n_estimators': 702, 'max_depth': 6, 'min_child_weight': 8, 'subsample': 0.6258259563369024, 'colsample_bytree': 0.604924157820462, 'reg_alpha': 0.25769252710655055, 'reg_lambda': 32.91926039587067}. Best is trial 15 with value: 0.7597765363128491.\n",
      "[I 2024-03-03 03:37:14,399] Trial 47 finished with value: 0.7486033519553073 and parameters: {'learning_rate': 0.12649758536127262, 'n_estimators': 295, 'max_depth': 3, 'min_child_weight': 4, 'subsample': 0.5138101256398387, 'colsample_bytree': 0.7512054737859717, 'reg_alpha': 0.5668162245762451, 'reg_lambda': 53.54670363140138}. Best is trial 15 with value: 0.7597765363128491.\n",
      "[I 2024-03-03 03:37:14,910] Trial 48 finished with value: 0.7094972067039106 and parameters: {'learning_rate': 0.1834556875581998, 'n_estimators': 856, 'max_depth': 4, 'min_child_weight': 7, 'subsample': 0.5546482969599893, 'colsample_bytree': 0.5636801824712914, 'reg_alpha': 0.39997031535256816, 'reg_lambda': 39.1712120793664}. Best is trial 15 with value: 0.7597765363128491.\n",
      "[I 2024-03-03 03:37:15,058] Trial 49 finished with value: 0.7374301675977654 and parameters: {'learning_rate': 0.08416911274353045, 'n_estimators': 137, 'max_depth': 5, 'min_child_weight': 6, 'subsample': 0.5969746345455204, 'colsample_bytree': 0.6911931688519919, 'reg_alpha': 0.3108414511017004, 'reg_lambda': 45.22576565744177}. Best is trial 15 with value: 0.7597765363128491.\n",
      "[I 2024-03-03 03:37:15,314] Trial 50 finished with value: 0.664804469273743 and parameters: {'learning_rate': 0.28229440759050767, 'n_estimators': 366, 'max_depth': 4, 'min_child_weight': 5, 'subsample': 0.6394953542079485, 'colsample_bytree': 0.5233453891636065, 'reg_alpha': 0.9088954431966714, 'reg_lambda': 26.42515434817613}. Best is trial 15 with value: 0.7597765363128491.\n",
      "[I 2024-03-03 03:37:15,512] Trial 51 finished with value: 0.7374301675977654 and parameters: {'learning_rate': 0.1260943985054151, 'n_estimators': 280, 'max_depth': 3, 'min_child_weight': 5, 'subsample': 0.5180977179326468, 'colsample_bytree': 0.7937289390357035, 'reg_alpha': 0.5845923659765317, 'reg_lambda': 56.5915517659834}. Best is trial 15 with value: 0.7597765363128491.\n",
      "[I 2024-03-03 03:37:15,710] Trial 52 finished with value: 0.7653631284916201 and parameters: {'learning_rate': 0.10113054673646724, 'n_estimators': 232, 'max_depth': 3, 'min_child_weight': 4, 'subsample': 0.5192636656831211, 'colsample_bytree': 0.7432883542239561, 'reg_alpha': 0.6317175027573756, 'reg_lambda': 48.924007322695985}. Best is trial 52 with value: 0.7653631284916201.\n",
      "[I 2024-03-03 03:37:15,895] Trial 53 finished with value: 0.6983240223463687 and parameters: {'learning_rate': 0.10524299961617424, 'n_estimators': 224, 'max_depth': 3, 'min_child_weight': 8, 'subsample': 0.5491639432683595, 'colsample_bytree': 0.9562552327281266, 'reg_alpha': 0.6473762589821415, 'reg_lambda': 39.85334637410453}. Best is trial 52 with value: 0.7653631284916201.\n",
      "[I 2024-03-03 03:37:16,058] Trial 54 finished with value: 0.7094972067039106 and parameters: {'learning_rate': 0.058858561780882356, 'n_estimators': 182, 'max_depth': 3, 'min_child_weight': 4, 'subsample': 0.5761000256264058, 'colsample_bytree': 0.8238658064062331, 'reg_alpha': 0.5064698906542778, 'reg_lambda': 34.39120904115041}. Best is trial 52 with value: 0.7653631284916201.\n",
      "[I 2024-03-03 03:37:16,247] Trial 55 finished with value: 0.7318435754189944 and parameters: {'learning_rate': 0.17110442359544997, 'n_estimators': 240, 'max_depth': 4, 'min_child_weight': 6, 'subsample': 0.5213973135737553, 'colsample_bytree': 0.7421652456491064, 'reg_alpha': 0.7874520873219182, 'reg_lambda': 48.512194472941516}. Best is trial 52 with value: 0.7653631284916201.\n",
      "[I 2024-03-03 03:37:16,378] Trial 56 finished with value: 0.7374301675977654 and parameters: {'learning_rate': 0.15059886818718768, 'n_estimators': 133, 'max_depth': 3, 'min_child_weight': 7, 'subsample': 0.5690364418958719, 'colsample_bytree': 0.6486298176598384, 'reg_alpha': 0.6109395518419349, 'reg_lambda': 40.67553599357938}. Best is trial 52 with value: 0.7653631284916201.\n",
      "[I 2024-03-03 03:37:16,536] Trial 57 finished with value: 0.7039106145251397 and parameters: {'learning_rate': 0.0101351440468464, 'n_estimators': 178, 'max_depth': 5, 'min_child_weight': 9, 'subsample': 0.5418677835001271, 'colsample_bytree': 0.5795131008434624, 'reg_alpha': 0.6958871995309638, 'reg_lambda': 58.86411535157933}. Best is trial 52 with value: 0.7653631284916201.\n",
      "[I 2024-03-03 03:37:16,660] Trial 58 finished with value: 0.7262569832402235 and parameters: {'learning_rate': 0.2010635500587296, 'n_estimators': 104, 'max_depth': 5, 'min_child_weight': 7, 'subsample': 0.9173454080849901, 'colsample_bytree': 0.8593546479878629, 'reg_alpha': 0.4561689100317359, 'reg_lambda': 49.95770359155729}. Best is trial 52 with value: 0.7653631284916201.\n",
      "[I 2024-03-03 03:37:16,951] Trial 59 finished with value: 0.7262569832402235 and parameters: {'learning_rate': 0.08940892547518525, 'n_estimators': 436, 'max_depth': 4, 'min_child_weight': 2, 'subsample': 0.502100123278552, 'colsample_bytree': 0.624710346741078, 'reg_alpha': 0.39880032275642785, 'reg_lambda': 28.76088479413394}. Best is trial 52 with value: 0.7653631284916201.\n",
      "[I 2024-03-03 03:37:17,174] Trial 60 finished with value: 0.7430167597765364 and parameters: {'learning_rate': 0.10941451054698478, 'n_estimators': 297, 'max_depth': 6, 'min_child_weight': 6, 'subsample': 0.6047780248749377, 'colsample_bytree': 0.5196481842838097, 'reg_alpha': 0.26612187202914483, 'reg_lambda': 73.42938147948686}. Best is trial 52 with value: 0.7653631284916201.\n",
      "[I 2024-03-03 03:37:17,340] Trial 61 finished with value: 0.7430167597765364 and parameters: {'learning_rate': 0.12782449531793771, 'n_estimators': 204, 'max_depth': 3, 'min_child_weight': 3, 'subsample': 0.5175048419455568, 'colsample_bytree': 0.7794454257609864, 'reg_alpha': 0.5670027937188793, 'reg_lambda': 52.00424034947381}. Best is trial 52 with value: 0.7653631284916201.\n",
      "[I 2024-03-03 03:37:17,547] Trial 62 finished with value: 0.7430167597765364 and parameters: {'learning_rate': 0.12223111770659448, 'n_estimators': 294, 'max_depth': 3, 'min_child_weight': 4, 'subsample': 0.5553616265385825, 'colsample_bytree': 0.8070870652461789, 'reg_alpha': 0.6183183957843615, 'reg_lambda': 54.12189026381848}. Best is trial 52 with value: 0.7653631284916201.\n",
      "[I 2024-03-03 03:37:17,789] Trial 63 finished with value: 0.7318435754189944 and parameters: {'learning_rate': 0.14001905095003597, 'n_estimators': 356, 'max_depth': 3, 'min_child_weight': 4, 'subsample': 0.5169093803313115, 'colsample_bytree': 0.7610880378755499, 'reg_alpha': 0.33469754899446874, 'reg_lambda': 46.210722345022766}. Best is trial 52 with value: 0.7653631284916201.\n",
      "[I 2024-03-03 03:37:17,994] Trial 64 finished with value: 0.7318435754189944 and parameters: {'learning_rate': 0.0949194987513752, 'n_estimators': 260, 'max_depth': 4, 'min_child_weight': 4, 'subsample': 0.5409457957452376, 'colsample_bytree': 0.738737058378989, 'reg_alpha': 0.524872311256512, 'reg_lambda': 35.606718409312506}. Best is trial 52 with value: 0.7653631284916201.\n",
      "[I 2024-03-03 03:37:18,139] Trial 65 finished with value: 0.7430167597765364 and parameters: {'learning_rate': 0.16274126739768027, 'n_estimators': 153, 'max_depth': 7, 'min_child_weight': 5, 'subsample': 0.5787785011843313, 'colsample_bytree': 0.7613158944537401, 'reg_alpha': 0.728586361432093, 'reg_lambda': 64.5526504040912}. Best is trial 52 with value: 0.7653631284916201.\n",
      "[I 2024-03-03 03:37:18,300] Trial 66 finished with value: 0.7318435754189944 and parameters: {'learning_rate': 0.21721213775101114, 'n_estimators': 212, 'max_depth': 3, 'min_child_weight': 8, 'subsample': 0.511831618129485, 'colsample_bytree': 0.7158703523596551, 'reg_alpha': 0.4807992513679166, 'reg_lambda': 58.32371989534555}. Best is trial 52 with value: 0.7653631284916201.\n",
      "[I 2024-03-03 03:37:18,516] Trial 67 finished with value: 0.7430167597765364 and parameters: {'learning_rate': 0.08057406462870119, 'n_estimators': 298, 'max_depth': 3, 'min_child_weight': 4, 'subsample': 0.5657332236968347, 'colsample_bytree': 0.6890308761963527, 'reg_alpha': 0.6760524494573449, 'reg_lambda': 42.43256506586427}. Best is trial 52 with value: 0.7653631284916201.\n",
      "[I 2024-03-03 03:37:18,867] Trial 68 finished with value: 0.7374301675977654 and parameters: {'learning_rate': 0.240029293101228, 'n_estimators': 578, 'max_depth': 4, 'min_child_weight': 6, 'subsample': 0.5328183307459045, 'colsample_bytree': 0.6698805814170947, 'reg_alpha': 0.002606822999468794, 'reg_lambda': 37.49305658783453}. Best is trial 52 with value: 0.7653631284916201.\n",
      "[I 2024-03-03 03:37:19,107] Trial 69 finished with value: 0.7262569832402235 and parameters: {'learning_rate': 0.19044501379124829, 'n_estimators': 336, 'max_depth': 3, 'min_child_weight': 5, 'subsample': 0.500403370615581, 'colsample_bytree': 0.5400712169919862, 'reg_alpha': 0.8126942928443388, 'reg_lambda': 98.60618048835398}. Best is trial 52 with value: 0.7653631284916201.\n",
      "[I 2024-03-03 03:37:19,298] Trial 70 finished with value: 0.7150837988826816 and parameters: {'learning_rate': 0.13725139419781934, 'n_estimators': 245, 'max_depth': 6, 'min_child_weight': 7, 'subsample': 0.5886898200889328, 'colsample_bytree': 0.7003774429343137, 'reg_alpha': 0.5909178954097976, 'reg_lambda': 47.056884652555134}. Best is trial 52 with value: 0.7653631284916201.\n",
      "[I 2024-03-03 03:37:19,560] Trial 71 finished with value: 0.7318435754189944 and parameters: {'learning_rate': 0.28248293959487447, 'n_estimators': 392, 'max_depth': 3, 'min_child_weight': 3, 'subsample': 0.5268804706601032, 'colsample_bytree': 0.5512368677093361, 'reg_alpha': 0.5632472991651667, 'reg_lambda': 84.70133377399314}. Best is trial 52 with value: 0.7653631284916201.\n",
      "[I 2024-03-03 03:37:19,711] Trial 72 finished with value: 0.7374301675977654 and parameters: {'learning_rate': 0.27165483886944425, 'n_estimators': 182, 'max_depth': 3, 'min_child_weight': 3, 'subsample': 0.5562055579972526, 'colsample_bytree': 0.500483546248657, 'reg_alpha': 0.6359443924709863, 'reg_lambda': 70.82741227611113}. Best is trial 52 with value: 0.7653631284916201.\n",
      "[I 2024-03-03 03:37:19,887] Trial 73 finished with value: 0.7486033519553073 and parameters: {'learning_rate': 0.25644562297008866, 'n_estimators': 221, 'max_depth': 4, 'min_child_weight': 2, 'subsample': 0.5394940317188529, 'colsample_bytree': 0.5160649358156203, 'reg_alpha': 0.47644731403881013, 'reg_lambda': 92.02662882225698}. Best is trial 52 with value: 0.7653631284916201.\n",
      "[I 2024-03-03 03:37:20,074] Trial 74 finished with value: 0.6424581005586593 and parameters: {'learning_rate': 0.25087825481980913, 'n_estimators': 221, 'max_depth': 4, 'min_child_weight': 1, 'subsample': 0.542039245446016, 'colsample_bytree': 0.5179732997586188, 'reg_alpha': 0.4229724572546994, 'reg_lambda': 23.352291553621775}. Best is trial 52 with value: 0.7653631284916201.\n",
      "[I 2024-03-03 03:37:20,219] Trial 75 finished with value: 0.7374301675977654 and parameters: {'learning_rate': 0.10450328992981066, 'n_estimators': 127, 'max_depth': 8, 'min_child_weight': 2, 'subsample': 0.7824844230246595, 'colsample_bytree': 0.5726787128986347, 'reg_alpha': 0.4802859267645372, 'reg_lambda': 90.58329914372345}. Best is trial 52 with value: 0.7653631284916201.\n",
      "[I 2024-03-03 03:37:20,580] Trial 76 finished with value: 0.6759776536312849 and parameters: {'learning_rate': 0.27229006004640044, 'n_estimators': 496, 'max_depth': 5, 'min_child_weight': 2, 'subsample': 0.6133811101059549, 'colsample_bytree': 0.5882805257983398, 'reg_alpha': 0.5390948223997516, 'reg_lambda': 31.863141441249347}. Best is trial 52 with value: 0.7653631284916201.\n",
      "[I 2024-03-03 03:37:20,786] Trial 77 finished with value: 0.7094972067039106 and parameters: {'learning_rate': 0.17841590722877393, 'n_estimators': 275, 'max_depth': 4, 'min_child_weight': 6, 'subsample': 0.5662217628507028, 'colsample_bytree': 0.5280703925738596, 'reg_alpha': 0.38820881931398804, 'reg_lambda': 19.952617243121605}. Best is trial 52 with value: 0.7653631284916201.\n",
      "[I 2024-03-03 03:37:20,953] Trial 78 finished with value: 0.7262569832402235 and parameters: {'learning_rate': 0.29005859461771943, 'n_estimators': 159, 'max_depth': 5, 'min_child_weight': 1, 'subsample': 0.9800955622732535, 'colsample_bytree': 0.60565789067515, 'reg_alpha': 0.7081610597073018, 'reg_lambda': 78.85989663553907}. Best is trial 52 with value: 0.7653631284916201.\n",
      "[I 2024-03-03 03:37:21,149] Trial 79 finished with value: 0.7374301675977654 and parameters: {'learning_rate': 0.20820809047025457, 'n_estimators': 246, 'max_depth': 4, 'min_child_weight': 7, 'subsample': 0.5121438584213545, 'colsample_bytree': 0.6343676007680885, 'reg_alpha': 0.3605652471134828, 'reg_lambda': 92.92474559695891}. Best is trial 52 with value: 0.7653631284916201.\n",
      "[I 2024-03-03 03:37:21,320] Trial 80 finished with value: 0.7374301675977654 and parameters: {'learning_rate': 0.11925214175472035, 'n_estimators': 195, 'max_depth': 3, 'min_child_weight': 9, 'subsample': 0.5437841578144154, 'colsample_bytree': 0.5446470730001203, 'reg_alpha': 0.32667536192464014, 'reg_lambda': 1.5044222560530542}. Best is trial 52 with value: 0.7653631284916201.\n",
      "[I 2024-03-03 03:37:21,527] Trial 81 finished with value: 0.7262569832402235 and parameters: {'learning_rate': 0.2576746848343535, 'n_estimators': 302, 'max_depth': 3, 'min_child_weight': 3, 'subsample': 0.5218979745148051, 'colsample_bytree': 0.5094937750869091, 'reg_alpha': 0.5136159734930256, 'reg_lambda': 42.329441603254494}. Best is trial 52 with value: 0.7653631284916201.\n",
      "[I 2024-03-03 03:37:21,714] Trial 82 finished with value: 0.7262569832402235 and parameters: {'learning_rate': 0.24711218055520948, 'n_estimators': 226, 'max_depth': 3, 'min_child_weight': 4, 'subsample': 0.5306413427928687, 'colsample_bytree': 0.5585694527036328, 'reg_alpha': 0.4396600158384195, 'reg_lambda': 52.830306135399674}. Best is trial 52 with value: 0.7653631284916201.\n",
      "[I 2024-03-03 03:37:22,004] Trial 83 finished with value: 0.7206703910614525 and parameters: {'learning_rate': 0.22394314763207437, 'n_estimators': 440, 'max_depth': 3, 'min_child_weight': 2, 'subsample': 0.5585900533873163, 'colsample_bytree': 0.5298965126905082, 'reg_alpha': 0.6627718030732208, 'reg_lambda': 75.15539164993302}. Best is trial 52 with value: 0.7653631284916201.\n",
      "[I 2024-03-03 03:37:22,411] Trial 84 finished with value: 0.6759776536312849 and parameters: {'learning_rate': 0.23806115339473988, 'n_estimators': 661, 'max_depth': 4, 'min_child_weight': 3, 'subsample': 0.6300912368293786, 'colsample_bytree': 0.5623075731211222, 'reg_alpha': 0.48532239368696406, 'reg_lambda': 82.87591510971174}. Best is trial 52 with value: 0.7653631284916201.\n",
      "[I 2024-03-03 03:37:22,597] Trial 85 finished with value: 0.6983240223463687 and parameters: {'learning_rate': 0.16331862371421285, 'n_estimators': 258, 'max_depth': 3, 'min_child_weight': 10, 'subsample': 0.5853388736087248, 'colsample_bytree': 0.5367710047869462, 'reg_alpha': 0.7711326552651575, 'reg_lambda': 94.38169437998471}. Best is trial 52 with value: 0.7653631284916201.\n",
      "[I 2024-03-03 03:37:22,752] Trial 86 finished with value: 0.6983240223463687 and parameters: {'learning_rate': 0.14946907993201167, 'n_estimators': 168, 'max_depth': 4, 'min_child_weight': 8, 'subsample': 0.5095346281605321, 'colsample_bytree': 0.9045064881871031, 'reg_alpha': 0.6013617647784246, 'reg_lambda': 26.42607903306489}. Best is trial 52 with value: 0.7653631284916201.\n",
      "[I 2024-03-03 03:37:22,882] Trial 87 finished with value: 0.7541899441340782 and parameters: {'learning_rate': 0.1302262019588247, 'n_estimators': 137, 'max_depth': 3, 'min_child_weight': 4, 'subsample': 0.6026800673181069, 'colsample_bytree': 0.5104471753949612, 'reg_alpha': 0.5407268940245284, 'reg_lambda': 65.17124598687268}. Best is trial 52 with value: 0.7653631284916201.\n",
      "[I 2024-03-03 03:37:23,016] Trial 88 finished with value: 0.7541899441340782 and parameters: {'learning_rate': 0.13334760510706173, 'n_estimators': 135, 'max_depth': 3, 'min_child_weight': 5, 'subsample': 0.6013525185904205, 'colsample_bytree': 0.5117897922532927, 'reg_alpha': 0.5610438671801795, 'reg_lambda': 38.97391682920563}. Best is trial 52 with value: 0.7653631284916201.\n",
      "[I 2024-03-03 03:37:23,141] Trial 89 finished with value: 0.7430167597765364 and parameters: {'learning_rate': 0.1343141275327242, 'n_estimators': 121, 'max_depth': 3, 'min_child_weight': 5, 'subsample': 0.6018411550419253, 'colsample_bytree': 0.5089569909633394, 'reg_alpha': 0.6275098944443971, 'reg_lambda': 37.79862340729318}. Best is trial 52 with value: 0.7653631284916201.\n",
      "[I 2024-03-03 03:37:23,275] Trial 90 finished with value: 0.7150837988826816 and parameters: {'learning_rate': 0.12873449689347227, 'n_estimators': 144, 'max_depth': 3, 'min_child_weight': 5, 'subsample': 0.691747281998354, 'colsample_bytree': 0.5696691717870451, 'reg_alpha': 0.556101758127182, 'reg_lambda': 44.737627124359186}. Best is trial 52 with value: 0.7653631284916201.\n",
      "[I 2024-03-03 03:37:23,436] Trial 91 finished with value: 0.7150837988826816 and parameters: {'learning_rate': 0.14440412490822013, 'n_estimators': 202, 'max_depth': 3, 'min_child_weight': 4, 'subsample': 0.6524722015231821, 'colsample_bytree': 0.519819199328669, 'reg_alpha': 0.5796690083312454, 'reg_lambda': 50.68068566863689}. Best is trial 52 with value: 0.7653631284916201.\n",
      "[I 2024-03-03 03:37:23,590] Trial 92 finished with value: 0.7374301675977654 and parameters: {'learning_rate': 0.0985959237701, 'n_estimators': 177, 'max_depth': 3, 'min_child_weight': 6, 'subsample': 0.5723943170874827, 'colsample_bytree': 0.5006252472082812, 'reg_alpha': 0.5273342895082458, 'reg_lambda': 40.70660419757436}. Best is trial 52 with value: 0.7653631284916201.\n",
      "[I 2024-03-03 03:37:23,737] Trial 93 finished with value: 0.7430167597765364 and parameters: {'learning_rate': 0.1090125880219141, 'n_estimators': 128, 'max_depth': 6, 'min_child_weight': 4, 'subsample': 0.6245515537957089, 'colsample_bytree': 0.5479720491104187, 'reg_alpha': 0.748383933956402, 'reg_lambda': 29.882727013560533}. Best is trial 52 with value: 0.7653631284916201.\n",
      "[I 2024-03-03 03:37:23,857] Trial 94 finished with value: 0.7318435754189944 and parameters: {'learning_rate': 0.15523085313149568, 'n_estimators': 111, 'max_depth': 3, 'min_child_weight': 5, 'subsample': 0.5987876404292058, 'colsample_bytree': 0.5127774087097662, 'reg_alpha': 0.6571451198717515, 'reg_lambda': 32.98463330229957}. Best is trial 52 with value: 0.7653631284916201.\n",
      "[I 2024-03-03 03:37:24,415] Trial 95 finished with value: 0.7262569832402235 and parameters: {'learning_rate': 0.1336419234990357, 'n_estimators': 993, 'max_depth': 5, 'min_child_weight': 7, 'subsample': 0.5498861886437962, 'colsample_bytree': 0.5283917517818787, 'reg_alpha': 0.27787530452262266, 'reg_lambda': 36.12068892049554}. Best is trial 52 with value: 0.7653631284916201.\n",
      "[I 2024-03-03 03:37:24,581] Trial 96 finished with value: 0.7039106145251397 and parameters: {'learning_rate': 0.11383547604411112, 'n_estimators': 145, 'max_depth': 4, 'min_child_weight': 6, 'subsample': 0.5832274821094118, 'colsample_bytree': 0.753628490909407, 'reg_alpha': 0.2195332147324906, 'reg_lambda': 48.384542270696436}. Best is trial 52 with value: 0.7653631284916201.\n",
      "[I 2024-03-03 03:37:24,774] Trial 97 finished with value: 0.7430167597765364 and parameters: {'learning_rate': 0.12148410261306539, 'n_estimators': 216, 'max_depth': 7, 'min_child_weight': 7, 'subsample': 0.6130867730609615, 'colsample_bytree': 0.7331727067000156, 'reg_alpha': 0.49717355853634326, 'reg_lambda': 55.49511746701384}. Best is trial 52 with value: 0.7653631284916201.\n",
      "[I 2024-03-03 03:37:24,931] Trial 98 finished with value: 0.7262569832402235 and parameters: {'learning_rate': 0.29069993256928217, 'n_estimators': 190, 'max_depth': 3, 'min_child_weight': 4, 'subsample': 0.5678102179442766, 'colsample_bytree': 0.5900334597583675, 'reg_alpha': 0.41901185452163947, 'reg_lambda': 43.452415054042525}. Best is trial 52 with value: 0.7653631284916201.\n",
      "[I 2024-03-03 03:37:25,277] Trial 99 finished with value: 0.7262569832402235 and parameters: {'learning_rate': 0.08951632334491078, 'n_estimators': 539, 'max_depth': 4, 'min_child_weight': 8, 'subsample': 0.5325266743383282, 'colsample_bytree': 0.6122492603829851, 'reg_alpha': 0.47055193307854815, 'reg_lambda': 63.14463091736908}. Best is trial 52 with value: 0.7653631284916201.\n"
     ]
    },
    {
     "name": "stdout",
     "output_type": "stream",
     "text": [
      "Number of finished trials: 100\n",
      "Best trial: {'learning_rate': 0.10113054673646724, 'n_estimators': 232, 'max_depth': 3, 'min_child_weight': 4, 'subsample': 0.5192636656831211, 'colsample_bytree': 0.7432883542239561, 'reg_alpha': 0.6317175027573756, 'reg_lambda': 48.924007322695985}\n"
     ]
    }
   ],
   "source": [
    "study = opt.create_study(direction='maximize')\n",
    "study.optimize(objective, n_trials=100)\n",
    "\n",
    "print('Number of finished trials:', len(study.trials))\n",
    "print('Best trial:', study.best_trial.params)\n"
   ],
   "metadata": {
    "collapsed": false,
    "ExecuteTime": {
     "end_time": "2024-03-03T02:37:25.293091Z",
     "start_time": "2024-03-03T02:37:00.892193Z"
    }
   },
   "id": "95e1458faa254e3f",
   "execution_count": 55
  },
  {
   "cell_type": "code",
   "outputs": [
    {
     "name": "stdout",
     "output_type": "stream",
     "text": [
      "Best trial accuracy: 0.7653631284916201\n"
     ]
    }
   ],
   "source": [
    "best_trial = study.best_trial\n",
    "print(f\"Best trial accuracy: {best_trial.value}\")"
   ],
   "metadata": {
    "collapsed": false,
    "ExecuteTime": {
     "end_time": "2024-03-03T02:37:25.299601Z",
     "start_time": "2024-03-03T02:37:25.295170Z"
    }
   },
   "id": "e34bcdb79ff39629",
   "execution_count": 56
  },
  {
   "cell_type": "markdown",
   "source": [
    "### Generate Results"
   ],
   "metadata": {
    "collapsed": false
   },
   "id": "51110c2bfd963af1"
  },
  {
   "cell_type": "code",
   "outputs": [
    {
     "data": {
      "text/plain": "XGBClassifier(base_score=None, booster=None, callbacks=None,\n              colsample_bylevel=None, colsample_bynode=None,\n              colsample_bytree=0.7432883542239561, early_stopping_rounds=None,\n              enable_categorical=False, eval_metric=None, feature_types=None,\n              gamma=None, gpu_id=None, grow_policy=None, importance_type=None,\n              interaction_constraints=None, learning_rate=0.10113054673646724,\n              max_bin=None, max_cat_threshold=None, max_cat_to_onehot=None,\n              max_delta_step=None, max_depth=3, max_leaves=None,\n              min_child_weight=4, missing=nan, monotone_constraints=None,\n              n_estimators=232, n_jobs=None, num_parallel_tree=None,\n              predictor=None, random_state=None, ...)",
      "text/html": "<style>#sk-container-id-2 {color: black;}#sk-container-id-2 pre{padding: 0;}#sk-container-id-2 div.sk-toggleable {background-color: white;}#sk-container-id-2 label.sk-toggleable__label {cursor: pointer;display: block;width: 100%;margin-bottom: 0;padding: 0.3em;box-sizing: border-box;text-align: center;}#sk-container-id-2 label.sk-toggleable__label-arrow:before {content: \"▸\";float: left;margin-right: 0.25em;color: #696969;}#sk-container-id-2 label.sk-toggleable__label-arrow:hover:before {color: black;}#sk-container-id-2 div.sk-estimator:hover label.sk-toggleable__label-arrow:before {color: black;}#sk-container-id-2 div.sk-toggleable__content {max-height: 0;max-width: 0;overflow: hidden;text-align: left;background-color: #f0f8ff;}#sk-container-id-2 div.sk-toggleable__content pre {margin: 0.2em;color: black;border-radius: 0.25em;background-color: #f0f8ff;}#sk-container-id-2 input.sk-toggleable__control:checked~div.sk-toggleable__content {max-height: 200px;max-width: 100%;overflow: auto;}#sk-container-id-2 input.sk-toggleable__control:checked~label.sk-toggleable__label-arrow:before {content: \"▾\";}#sk-container-id-2 div.sk-estimator input.sk-toggleable__control:checked~label.sk-toggleable__label {background-color: #d4ebff;}#sk-container-id-2 div.sk-label input.sk-toggleable__control:checked~label.sk-toggleable__label {background-color: #d4ebff;}#sk-container-id-2 input.sk-hidden--visually {border: 0;clip: rect(1px 1px 1px 1px);clip: rect(1px, 1px, 1px, 1px);height: 1px;margin: -1px;overflow: hidden;padding: 0;position: absolute;width: 1px;}#sk-container-id-2 div.sk-estimator {font-family: monospace;background-color: #f0f8ff;border: 1px dotted black;border-radius: 0.25em;box-sizing: border-box;margin-bottom: 0.5em;}#sk-container-id-2 div.sk-estimator:hover {background-color: #d4ebff;}#sk-container-id-2 div.sk-parallel-item::after {content: \"\";width: 100%;border-bottom: 1px solid gray;flex-grow: 1;}#sk-container-id-2 div.sk-label:hover label.sk-toggleable__label {background-color: #d4ebff;}#sk-container-id-2 div.sk-serial::before {content: \"\";position: absolute;border-left: 1px solid gray;box-sizing: border-box;top: 0;bottom: 0;left: 50%;z-index: 0;}#sk-container-id-2 div.sk-serial {display: flex;flex-direction: column;align-items: center;background-color: white;padding-right: 0.2em;padding-left: 0.2em;position: relative;}#sk-container-id-2 div.sk-item {position: relative;z-index: 1;}#sk-container-id-2 div.sk-parallel {display: flex;align-items: stretch;justify-content: center;background-color: white;position: relative;}#sk-container-id-2 div.sk-item::before, #sk-container-id-2 div.sk-parallel-item::before {content: \"\";position: absolute;border-left: 1px solid gray;box-sizing: border-box;top: 0;bottom: 0;left: 50%;z-index: -1;}#sk-container-id-2 div.sk-parallel-item {display: flex;flex-direction: column;z-index: 1;position: relative;background-color: white;}#sk-container-id-2 div.sk-parallel-item:first-child::after {align-self: flex-end;width: 50%;}#sk-container-id-2 div.sk-parallel-item:last-child::after {align-self: flex-start;width: 50%;}#sk-container-id-2 div.sk-parallel-item:only-child::after {width: 0;}#sk-container-id-2 div.sk-dashed-wrapped {border: 1px dashed gray;margin: 0 0.4em 0.5em 0.4em;box-sizing: border-box;padding-bottom: 0.4em;background-color: white;}#sk-container-id-2 div.sk-label label {font-family: monospace;font-weight: bold;display: inline-block;line-height: 1.2em;}#sk-container-id-2 div.sk-label-container {text-align: center;}#sk-container-id-2 div.sk-container {/* jupyter's `normalize.less` sets `[hidden] { display: none; }` but bootstrap.min.css set `[hidden] { display: none !important; }` so we also need the `!important` here to be able to override the default hidden behavior on the sphinx rendered scikit-learn.org. See: https://github.com/scikit-learn/scikit-learn/issues/21755 */display: inline-block !important;position: relative;}#sk-container-id-2 div.sk-text-repr-fallback {display: none;}</style><div id=\"sk-container-id-2\" class=\"sk-top-container\"><div class=\"sk-text-repr-fallback\"><pre>XGBClassifier(base_score=None, booster=None, callbacks=None,\n              colsample_bylevel=None, colsample_bynode=None,\n              colsample_bytree=0.7432883542239561, early_stopping_rounds=None,\n              enable_categorical=False, eval_metric=None, feature_types=None,\n              gamma=None, gpu_id=None, grow_policy=None, importance_type=None,\n              interaction_constraints=None, learning_rate=0.10113054673646724,\n              max_bin=None, max_cat_threshold=None, max_cat_to_onehot=None,\n              max_delta_step=None, max_depth=3, max_leaves=None,\n              min_child_weight=4, missing=nan, monotone_constraints=None,\n              n_estimators=232, n_jobs=None, num_parallel_tree=None,\n              predictor=None, random_state=None, ...)</pre><b>In a Jupyter environment, please rerun this cell to show the HTML representation or trust the notebook. <br />On GitHub, the HTML representation is unable to render, please try loading this page with nbviewer.org.</b></div><div class=\"sk-container\" hidden><div class=\"sk-item\"><div class=\"sk-estimator sk-toggleable\"><input class=\"sk-toggleable__control sk-hidden--visually\" id=\"sk-estimator-id-2\" type=\"checkbox\" checked><label for=\"sk-estimator-id-2\" class=\"sk-toggleable__label sk-toggleable__label-arrow\">XGBClassifier</label><div class=\"sk-toggleable__content\"><pre>XGBClassifier(base_score=None, booster=None, callbacks=None,\n              colsample_bylevel=None, colsample_bynode=None,\n              colsample_bytree=0.7432883542239561, early_stopping_rounds=None,\n              enable_categorical=False, eval_metric=None, feature_types=None,\n              gamma=None, gpu_id=None, grow_policy=None, importance_type=None,\n              interaction_constraints=None, learning_rate=0.10113054673646724,\n              max_bin=None, max_cat_threshold=None, max_cat_to_onehot=None,\n              max_delta_step=None, max_depth=3, max_leaves=None,\n              min_child_weight=4, missing=nan, monotone_constraints=None,\n              n_estimators=232, n_jobs=None, num_parallel_tree=None,\n              predictor=None, random_state=None, ...)</pre></div></div></div></div></div>"
     },
     "execution_count": 57,
     "metadata": {},
     "output_type": "execute_result"
    }
   ],
   "source": [
    "model.set_params(**best_trial.params)\n",
    "model.fit(X_train, y_train)"
   ],
   "metadata": {
    "collapsed": false,
    "ExecuteTime": {
     "end_time": "2024-03-03T02:37:25.427434Z",
     "start_time": "2024-03-03T02:37:25.300605Z"
    }
   },
   "id": "b226ecb6aedbb097",
   "execution_count": 57
  },
  {
   "cell_type": "code",
   "outputs": [],
   "source": [
    "y_pred = model.predict(X_test)"
   ],
   "metadata": {
    "collapsed": false,
    "ExecuteTime": {
     "end_time": "2024-03-03T02:37:25.435944Z",
     "start_time": "2024-03-03T02:37:25.429439Z"
    }
   },
   "id": "f6fdd55ef8d83270",
   "execution_count": 58
  },
  {
   "cell_type": "code",
   "outputs": [
    {
     "name": "stdout",
     "output_type": "stream",
     "text": [
      "Accuracy: 0.77\n"
     ]
    }
   ],
   "source": [
    "accuracy = accuracy_score(y_test, y_pred)\n",
    "print(f\"Accuracy: {accuracy:.2f}\")"
   ],
   "metadata": {
    "collapsed": false,
    "ExecuteTime": {
     "end_time": "2024-03-03T02:37:25.444317Z",
     "start_time": "2024-03-03T02:37:25.436949Z"
    }
   },
   "id": "b9bd22a2528c3470",
   "execution_count": 59
  },
  {
   "cell_type": "code",
   "outputs": [],
   "source": [
    "submission_test = model.predict(to_test)\n",
    "submission_test = pd.Series(submission_test, to_test.index, name='Survived')\n",
    "# save submission\n",
    "submission_test.to_csv('submission_test.csv') "
   ],
   "metadata": {
    "collapsed": false,
    "ExecuteTime": {
     "end_time": "2024-03-03T02:37:25.454563Z",
     "start_time": "2024-03-03T02:37:25.445826Z"
    }
   },
   "id": "d03f1dc12d6486a8",
   "execution_count": 60
  },
  {
   "cell_type": "markdown",
   "source": [
    "## RandomForestClassifier"
   ],
   "metadata": {
    "collapsed": false
   },
   "id": "ab53aa8a3a177d5b"
  },
  {
   "cell_type": "code",
   "outputs": [],
   "source": [
    "from sklearn.ensemble import RandomForestClassifier\n",
    "\n",
    "\n",
    "def objective(trial):\n",
    "    param = {\n",
    "        'n_estimators': trial.suggest_int('n_estimators', 100, 1000),\n",
    "        'max_depth': trial.suggest_int('max_depth', 2, 32),\n",
    "        'min_samples_split': trial.suggest_int('min_samples_split', 2, 10),\n",
    "        'min_samples_leaf': trial.suggest_int('min_samples_leaf', 1, 10),\n",
    "        'max_features': trial.suggest_categorical('max_features', ['sqrt', 'log2', None]),\n",
    "        'bootstrap': trial.suggest_categorical('bootstrap', [True, False]),\n",
    "    }\n",
    "\n",
    "    model = RandomForestClassifier(**param, random_state=42)\n",
    "    model.fit(X_train, y_train)\n",
    "    preds = model.predict(X_test)\n",
    "    accuracy = accuracy_score(y_test, preds)\n",
    "    \n",
    "    return accuracy"
   ],
   "metadata": {
    "collapsed": false,
    "ExecuteTime": {
     "end_time": "2024-03-03T02:37:25.461650Z",
     "start_time": "2024-03-03T02:37:25.455567Z"
    }
   },
   "id": "d02c3644b61de1a1",
   "execution_count": 61
  },
  {
   "cell_type": "code",
   "outputs": [
    {
     "name": "stderr",
     "output_type": "stream",
     "text": [
      "[I 2024-03-03 03:37:25,468] A new study created in memory with name: no-name-33bfe8fc-3f68-4a4e-bbef-4fde57370c64\n",
      "[I 2024-03-03 03:37:26,810] Trial 0 finished with value: 0.6927374301675978 and parameters: {'n_estimators': 771, 'max_depth': 20, 'min_samples_split': 2, 'min_samples_leaf': 6, 'max_features': 'log2', 'bootstrap': False}. Best is trial 0 with value: 0.6927374301675978.\n",
      "[I 2024-03-03 03:37:30,340] Trial 1 finished with value: 0.6815642458100558 and parameters: {'n_estimators': 921, 'max_depth': 11, 'min_samples_split': 10, 'min_samples_leaf': 5, 'max_features': None, 'bootstrap': False}. Best is trial 0 with value: 0.6927374301675978.\n",
      "[I 2024-03-03 03:37:30,942] Trial 2 finished with value: 0.6927374301675978 and parameters: {'n_estimators': 405, 'max_depth': 26, 'min_samples_split': 8, 'min_samples_leaf': 10, 'max_features': 'sqrt', 'bootstrap': True}. Best is trial 0 with value: 0.6927374301675978.\n",
      "[I 2024-03-03 03:37:32,564] Trial 3 finished with value: 0.6703910614525139 and parameters: {'n_estimators': 719, 'max_depth': 26, 'min_samples_split': 5, 'min_samples_leaf': 2, 'max_features': 'log2', 'bootstrap': False}. Best is trial 0 with value: 0.6927374301675978.\n",
      "[I 2024-03-03 03:37:34,029] Trial 4 finished with value: 0.6871508379888268 and parameters: {'n_estimators': 913, 'max_depth': 21, 'min_samples_split': 4, 'min_samples_leaf': 10, 'max_features': 'sqrt', 'bootstrap': True}. Best is trial 0 with value: 0.6927374301675978.\n",
      "[I 2024-03-03 03:37:35,777] Trial 5 finished with value: 0.6983240223463687 and parameters: {'n_estimators': 982, 'max_depth': 16, 'min_samples_split': 10, 'min_samples_leaf': 5, 'max_features': 'sqrt', 'bootstrap': False}. Best is trial 5 with value: 0.6983240223463687.\n",
      "[I 2024-03-03 03:37:36,087] Trial 6 finished with value: 0.7262569832402235 and parameters: {'n_estimators': 168, 'max_depth': 3, 'min_samples_split': 6, 'min_samples_leaf': 4, 'max_features': None, 'bootstrap': True}. Best is trial 6 with value: 0.7262569832402235.\n",
      "[I 2024-03-03 03:37:36,499] Trial 7 finished with value: 0.6759776536312849 and parameters: {'n_estimators': 252, 'max_depth': 21, 'min_samples_split': 4, 'min_samples_leaf': 9, 'max_features': 'sqrt', 'bootstrap': False}. Best is trial 6 with value: 0.7262569832402235.\n",
      "[I 2024-03-03 03:37:37,635] Trial 8 finished with value: 0.6759776536312849 and parameters: {'n_estimators': 595, 'max_depth': 17, 'min_samples_split': 7, 'min_samples_leaf': 4, 'max_features': 'sqrt', 'bootstrap': False}. Best is trial 6 with value: 0.7262569832402235.\n",
      "[I 2024-03-03 03:37:37,989] Trial 9 finished with value: 0.659217877094972 and parameters: {'n_estimators': 179, 'max_depth': 13, 'min_samples_split': 10, 'min_samples_leaf': 1, 'max_features': 'sqrt', 'bootstrap': False}. Best is trial 6 with value: 0.7262569832402235.\n",
      "[I 2024-03-03 03:37:38,153] Trial 10 finished with value: 0.6815642458100558 and parameters: {'n_estimators': 106, 'max_depth': 2, 'min_samples_split': 7, 'min_samples_leaf': 7, 'max_features': None, 'bootstrap': True}. Best is trial 6 with value: 0.7262569832402235.\n",
      "[I 2024-03-03 03:37:38,739] Trial 11 finished with value: 0.6759776536312849 and parameters: {'n_estimators': 409, 'max_depth': 2, 'min_samples_split': 8, 'min_samples_leaf': 3, 'max_features': None, 'bootstrap': True}. Best is trial 6 with value: 0.7262569832402235.\n",
      "[I 2024-03-03 03:37:39,857] Trial 12 finished with value: 0.6815642458100558 and parameters: {'n_estimators': 375, 'max_depth': 7, 'min_samples_split': 6, 'min_samples_leaf': 7, 'max_features': None, 'bootstrap': True}. Best is trial 6 with value: 0.7262569832402235.\n",
      "[I 2024-03-03 03:37:41,980] Trial 13 finished with value: 0.6927374301675978 and parameters: {'n_estimators': 583, 'max_depth': 31, 'min_samples_split': 8, 'min_samples_leaf': 4, 'max_features': None, 'bootstrap': True}. Best is trial 6 with value: 0.7262569832402235.\n",
      "[I 2024-03-03 03:37:43,164] Trial 14 finished with value: 0.6927374301675978 and parameters: {'n_estimators': 751, 'max_depth': 8, 'min_samples_split': 2, 'min_samples_leaf': 5, 'max_features': 'log2', 'bootstrap': False}. Best is trial 6 with value: 0.7262569832402235.\n",
      "[I 2024-03-03 03:37:44,889] Trial 15 finished with value: 0.6983240223463687 and parameters: {'n_estimators': 984, 'max_depth': 16, 'min_samples_split': 9, 'min_samples_leaf': 3, 'max_features': 'sqrt', 'bootstrap': True}. Best is trial 6 with value: 0.7262569832402235.\n",
      "[I 2024-03-03 03:37:45,735] Trial 16 finished with value: 0.6815642458100558 and parameters: {'n_estimators': 287, 'max_depth': 8, 'min_samples_split': 5, 'min_samples_leaf': 7, 'max_features': None, 'bootstrap': True}. Best is trial 6 with value: 0.7262569832402235.\n",
      "[I 2024-03-03 03:37:46,365] Trial 17 finished with value: 0.7094972067039106 and parameters: {'n_estimators': 495, 'max_depth': 5, 'min_samples_split': 6, 'min_samples_leaf': 6, 'max_features': 'sqrt', 'bootstrap': False}. Best is trial 6 with value: 0.7262569832402235.\n",
      "[I 2024-03-03 03:37:47,399] Trial 18 finished with value: 0.6927374301675978 and parameters: {'n_estimators': 495, 'max_depth': 4, 'min_samples_split': 6, 'min_samples_leaf': 8, 'max_features': None, 'bootstrap': True}. Best is trial 6 with value: 0.7262569832402235.\n",
      "[I 2024-03-03 03:37:48,172] Trial 19 finished with value: 0.7094972067039106 and parameters: {'n_estimators': 515, 'max_depth': 5, 'min_samples_split': 4, 'min_samples_leaf': 6, 'max_features': 'log2', 'bootstrap': False}. Best is trial 6 with value: 0.7262569832402235.\n",
      "[I 2024-03-03 03:37:49,185] Trial 20 finished with value: 0.6759776536312849 and parameters: {'n_estimators': 270, 'max_depth': 11, 'min_samples_split': 5, 'min_samples_leaf': 3, 'max_features': None, 'bootstrap': True}. Best is trial 6 with value: 0.7262569832402235.\n",
      "[I 2024-03-03 03:37:49,947] Trial 21 finished with value: 0.6983240223463687 and parameters: {'n_estimators': 533, 'max_depth': 6, 'min_samples_split': 3, 'min_samples_leaf': 6, 'max_features': 'log2', 'bootstrap': False}. Best is trial 6 with value: 0.7262569832402235.\n",
      "[I 2024-03-03 03:37:50,762] Trial 22 finished with value: 0.7150837988826816 and parameters: {'n_estimators': 623, 'max_depth': 5, 'min_samples_split': 4, 'min_samples_leaf': 4, 'max_features': 'log2', 'bootstrap': False}. Best is trial 6 with value: 0.7262569832402235.\n",
      "[I 2024-03-03 03:37:51,849] Trial 23 finished with value: 0.6815642458100558 and parameters: {'n_estimators': 647, 'max_depth': 10, 'min_samples_split': 7, 'min_samples_leaf': 4, 'max_features': 'log2', 'bootstrap': False}. Best is trial 6 with value: 0.7262569832402235.\n",
      "[I 2024-03-03 03:37:52,528] Trial 24 finished with value: 0.7318435754189944 and parameters: {'n_estimators': 675, 'max_depth': 3, 'min_samples_split': 3, 'min_samples_leaf': 2, 'max_features': 'log2', 'bootstrap': False}. Best is trial 24 with value: 0.7318435754189944.\n",
      "[I 2024-03-03 03:37:53,101] Trial 25 finished with value: 0.7206703910614525 and parameters: {'n_estimators': 667, 'max_depth': 2, 'min_samples_split': 3, 'min_samples_leaf': 1, 'max_features': 'log2', 'bootstrap': False}. Best is trial 24 with value: 0.7318435754189944.\n",
      "[I 2024-03-03 03:37:53,667] Trial 26 finished with value: 0.7206703910614525 and parameters: {'n_estimators': 680, 'max_depth': 2, 'min_samples_split': 3, 'min_samples_leaf': 1, 'max_features': 'log2', 'bootstrap': False}. Best is trial 24 with value: 0.7318435754189944.\n",
      "[I 2024-03-03 03:37:54,458] Trial 27 finished with value: 0.7206703910614525 and parameters: {'n_estimators': 815, 'max_depth': 3, 'min_samples_split': 3, 'min_samples_leaf': 2, 'max_features': 'log2', 'bootstrap': False}. Best is trial 24 with value: 0.7318435754189944.\n",
      "[I 2024-03-03 03:37:56,067] Trial 28 finished with value: 0.6871508379888268 and parameters: {'n_estimators': 830, 'max_depth': 14, 'min_samples_split': 2, 'min_samples_leaf': 2, 'max_features': 'log2', 'bootstrap': True}. Best is trial 24 with value: 0.7318435754189944.\n",
      "[I 2024-03-03 03:37:57,563] Trial 29 finished with value: 0.6759776536312849 and parameters: {'n_estimators': 803, 'max_depth': 10, 'min_samples_split': 2, 'min_samples_leaf': 1, 'max_features': 'log2', 'bootstrap': False}. Best is trial 24 with value: 0.7318435754189944.\n",
      "[I 2024-03-03 03:37:58,681] Trial 30 finished with value: 0.6703910614525139 and parameters: {'n_estimators': 694, 'max_depth': 8, 'min_samples_split': 3, 'min_samples_leaf': 2, 'max_features': 'log2', 'bootstrap': False}. Best is trial 24 with value: 0.7318435754189944.\n",
      "[I 2024-03-03 03:37:59,247] Trial 31 finished with value: 0.7206703910614525 and parameters: {'n_estimators': 674, 'max_depth': 2, 'min_samples_split': 3, 'min_samples_leaf': 1, 'max_features': 'log2', 'bootstrap': False}. Best is trial 24 with value: 0.7318435754189944.\n",
      "[I 2024-03-03 03:38:00,083] Trial 32 finished with value: 0.7039106145251397 and parameters: {'n_estimators': 755, 'max_depth': 4, 'min_samples_split': 3, 'min_samples_leaf': 1, 'max_features': 'log2', 'bootstrap': False}. Best is trial 24 with value: 0.7318435754189944.\n",
      "[I 2024-03-03 03:38:00,830] Trial 33 finished with value: 0.7150837988826816 and parameters: {'n_estimators': 899, 'max_depth': 2, 'min_samples_split': 2, 'min_samples_leaf': 2, 'max_features': 'log2', 'bootstrap': False}. Best is trial 24 with value: 0.7318435754189944.\n",
      "[I 2024-03-03 03:38:01,840] Trial 34 finished with value: 0.6927374301675978 and parameters: {'n_estimators': 708, 'max_depth': 6, 'min_samples_split': 5, 'min_samples_leaf': 3, 'max_features': 'log2', 'bootstrap': False}. Best is trial 24 with value: 0.7318435754189944.\n",
      "[I 2024-03-03 03:38:02,349] Trial 35 finished with value: 0.7094972067039106 and parameters: {'n_estimators': 436, 'max_depth': 4, 'min_samples_split': 4, 'min_samples_leaf': 1, 'max_features': 'log2', 'bootstrap': False}. Best is trial 24 with value: 0.7318435754189944.\n",
      "[I 2024-03-03 03:38:04,971] Trial 36 finished with value: 0.5977653631284916 and parameters: {'n_estimators': 856, 'max_depth': 7, 'min_samples_split': 3, 'min_samples_leaf': 2, 'max_features': None, 'bootstrap': False}. Best is trial 24 with value: 0.7318435754189944.\n",
      "[I 2024-03-03 03:38:06,286] Trial 37 finished with value: 0.6871508379888268 and parameters: {'n_estimators': 645, 'max_depth': 26, 'min_samples_split': 4, 'min_samples_leaf': 1, 'max_features': 'log2', 'bootstrap': True}. Best is trial 24 with value: 0.7318435754189944.\n",
      "[I 2024-03-03 03:38:07,250] Trial 38 finished with value: 0.6871508379888268 and parameters: {'n_estimators': 570, 'max_depth': 9, 'min_samples_split': 5, 'min_samples_leaf': 3, 'max_features': 'log2', 'bootstrap': False}. Best is trial 24 with value: 0.7318435754189944.\n",
      "[I 2024-03-03 03:38:08,996] Trial 39 finished with value: 0.6536312849162011 and parameters: {'n_estimators': 357, 'max_depth': 24, 'min_samples_split': 2, 'min_samples_leaf': 2, 'max_features': None, 'bootstrap': False}. Best is trial 24 with value: 0.7318435754189944.\n",
      "[I 2024-03-03 03:38:09,748] Trial 40 finished with value: 0.7094972067039106 and parameters: {'n_estimators': 455, 'max_depth': 12, 'min_samples_split': 9, 'min_samples_leaf': 5, 'max_features': 'log2', 'bootstrap': True}. Best is trial 24 with value: 0.7318435754189944.\n",
      "[I 2024-03-03 03:38:10,485] Trial 41 finished with value: 0.7150837988826816 and parameters: {'n_estimators': 768, 'max_depth': 3, 'min_samples_split': 3, 'min_samples_leaf': 2, 'max_features': 'log2', 'bootstrap': False}. Best is trial 24 with value: 0.7318435754189944.\n",
      "[I 2024-03-03 03:38:11,342] Trial 42 finished with value: 0.7374301675977654 and parameters: {'n_estimators': 886, 'max_depth': 3, 'min_samples_split': 3, 'min_samples_leaf': 1, 'max_features': 'log2', 'bootstrap': False}. Best is trial 42 with value: 0.7374301675977654.\n",
      "[I 2024-03-03 03:38:12,251] Trial 43 finished with value: 0.7374301675977654 and parameters: {'n_estimators': 942, 'max_depth': 3, 'min_samples_split': 4, 'min_samples_leaf': 1, 'max_features': 'log2', 'bootstrap': False}. Best is trial 42 with value: 0.7374301675977654.\n",
      "[I 2024-03-03 03:38:13,539] Trial 44 finished with value: 0.6759776536312849 and parameters: {'n_estimators': 922, 'max_depth': 6, 'min_samples_split': 4, 'min_samples_leaf': 1, 'max_features': 'log2', 'bootstrap': False}. Best is trial 42 with value: 0.7374301675977654.\n",
      "[I 2024-03-03 03:38:17,637] Trial 45 finished with value: 0.6815642458100558 and parameters: {'n_estimators': 921, 'max_depth': 18, 'min_samples_split': 5, 'min_samples_leaf': 3, 'max_features': None, 'bootstrap': False}. Best is trial 42 with value: 0.7374301675977654.\n",
      "[I 2024-03-03 03:38:19,561] Trial 46 finished with value: 0.6815642458100558 and parameters: {'n_estimators': 877, 'max_depth': 31, 'min_samples_split': 4, 'min_samples_leaf': 1, 'max_features': 'sqrt', 'bootstrap': False}. Best is trial 42 with value: 0.7374301675977654.\n",
      "[I 2024-03-03 03:38:20,703] Trial 47 finished with value: 0.7206703910614525 and parameters: {'n_estimators': 939, 'max_depth': 4, 'min_samples_split': 2, 'min_samples_leaf': 2, 'max_features': 'log2', 'bootstrap': True}. Best is trial 42 with value: 0.7374301675977654.\n",
      "[I 2024-03-03 03:38:20,908] Trial 48 finished with value: 0.5977653631284916 and parameters: {'n_estimators': 113, 'max_depth': 3, 'min_samples_split': 7, 'min_samples_leaf': 4, 'max_features': None, 'bootstrap': False}. Best is trial 42 with value: 0.7374301675977654.\n",
      "[I 2024-03-03 03:38:22,445] Trial 49 finished with value: 0.7039106145251397 and parameters: {'n_estimators': 992, 'max_depth': 7, 'min_samples_split': 4, 'min_samples_leaf': 1, 'max_features': 'log2', 'bootstrap': True}. Best is trial 42 with value: 0.7374301675977654.\n",
      "[I 2024-03-03 03:38:23,623] Trial 50 finished with value: 0.7094972067039106 and parameters: {'n_estimators': 954, 'max_depth': 5, 'min_samples_split': 6, 'min_samples_leaf': 2, 'max_features': 'sqrt', 'bootstrap': False}. Best is trial 42 with value: 0.7374301675977654.\n",
      "[I 2024-03-03 03:38:24,256] Trial 51 finished with value: 0.7318435754189944 and parameters: {'n_estimators': 727, 'max_depth': 2, 'min_samples_split': 3, 'min_samples_leaf': 1, 'max_features': 'log2', 'bootstrap': False}. Best is trial 42 with value: 0.7374301675977654.\n",
      "[I 2024-03-03 03:38:25,011] Trial 52 finished with value: 0.7374301675977654 and parameters: {'n_estimators': 739, 'max_depth': 3, 'min_samples_split': 3, 'min_samples_leaf': 1, 'max_features': 'log2', 'bootstrap': False}. Best is trial 42 with value: 0.7374301675977654.\n",
      "[I 2024-03-03 03:38:25,737] Trial 53 finished with value: 0.7374301675977654 and parameters: {'n_estimators': 733, 'max_depth': 3, 'min_samples_split': 3, 'min_samples_leaf': 1, 'max_features': 'log2', 'bootstrap': False}. Best is trial 42 with value: 0.7374301675977654.\n",
      "[I 2024-03-03 03:38:26,565] Trial 54 finished with value: 0.7094972067039106 and parameters: {'n_estimators': 719, 'max_depth': 4, 'min_samples_split': 3, 'min_samples_leaf': 1, 'max_features': 'log2', 'bootstrap': False}. Best is trial 42 with value: 0.7374301675977654.\n",
      "[I 2024-03-03 03:38:27,627] Trial 55 finished with value: 0.664804469273743 and parameters: {'n_estimators': 789, 'max_depth': 6, 'min_samples_split': 2, 'min_samples_leaf': 10, 'max_features': 'log2', 'bootstrap': False}. Best is trial 42 with value: 0.7374301675977654.\n",
      "[I 2024-03-03 03:38:28,501] Trial 56 finished with value: 0.7374301675977654 and parameters: {'n_estimators': 838, 'max_depth': 3, 'min_samples_split': 4, 'min_samples_leaf': 1, 'max_features': 'log2', 'bootstrap': False}. Best is trial 42 with value: 0.7374301675977654.\n",
      "[I 2024-03-03 03:38:29,839] Trial 57 finished with value: 0.664804469273743 and parameters: {'n_estimators': 851, 'max_depth': 7, 'min_samples_split': 4, 'min_samples_leaf': 2, 'max_features': 'log2', 'bootstrap': False}. Best is trial 42 with value: 0.7374301675977654.\n",
      "[I 2024-03-03 03:38:31,049] Trial 58 finished with value: 0.7039106145251397 and parameters: {'n_estimators': 894, 'max_depth': 5, 'min_samples_split': 4, 'min_samples_leaf': 1, 'max_features': 'log2', 'bootstrap': False}. Best is trial 42 with value: 0.7374301675977654.\n",
      "[I 2024-03-03 03:38:32,023] Trial 59 finished with value: 0.7262569832402235 and parameters: {'n_estimators': 958, 'max_depth': 3, 'min_samples_split': 2, 'min_samples_leaf': 3, 'max_features': 'log2', 'bootstrap': False}. Best is trial 42 with value: 0.7374301675977654.\n",
      "[I 2024-03-03 03:38:33,119] Trial 60 finished with value: 0.664804469273743 and parameters: {'n_estimators': 615, 'max_depth': 9, 'min_samples_split': 5, 'min_samples_leaf': 2, 'max_features': 'log2', 'bootstrap': False}. Best is trial 42 with value: 0.7374301675977654.\n",
      "[I 2024-03-03 03:38:33,877] Trial 61 finished with value: 0.7374301675977654 and parameters: {'n_estimators': 723, 'max_depth': 3, 'min_samples_split': 3, 'min_samples_leaf': 1, 'max_features': 'log2', 'bootstrap': False}. Best is trial 42 with value: 0.7374301675977654.\n",
      "[I 2024-03-03 03:38:34,635] Trial 62 finished with value: 0.7318435754189944 and parameters: {'n_estimators': 782, 'max_depth': 3, 'min_samples_split': 3, 'min_samples_leaf': 1, 'max_features': 'log2', 'bootstrap': False}. Best is trial 42 with value: 0.7374301675977654.\n",
      "[I 2024-03-03 03:38:35,543] Trial 63 finished with value: 0.7039106145251397 and parameters: {'n_estimators': 736, 'max_depth': 5, 'min_samples_split': 3, 'min_samples_leaf': 1, 'max_features': 'log2', 'bootstrap': False}. Best is trial 42 with value: 0.7374301675977654.\n",
      "[I 2024-03-03 03:38:36,373] Trial 64 finished with value: 0.7206703910614525 and parameters: {'n_estimators': 853, 'max_depth': 3, 'min_samples_split': 3, 'min_samples_leaf': 2, 'max_features': 'log2', 'bootstrap': False}. Best is trial 42 with value: 0.7374301675977654.\n",
      "[I 2024-03-03 03:38:37,293] Trial 65 finished with value: 0.7039106145251397 and parameters: {'n_estimators': 828, 'max_depth': 4, 'min_samples_split': 4, 'min_samples_leaf': 1, 'max_features': 'log2', 'bootstrap': False}. Best is trial 42 with value: 0.7374301675977654.\n",
      "[I 2024-03-03 03:38:38,038] Trial 66 finished with value: 0.7150837988826816 and parameters: {'n_estimators': 877, 'max_depth': 2, 'min_samples_split': 2, 'min_samples_leaf': 1, 'max_features': 'log2', 'bootstrap': False}. Best is trial 42 with value: 0.7374301675977654.\n",
      "[I 2024-03-03 03:38:39,070] Trial 67 finished with value: 0.6815642458100558 and parameters: {'n_estimators': 752, 'max_depth': 6, 'min_samples_split': 3, 'min_samples_leaf': 2, 'max_features': 'sqrt', 'bootstrap': False}. Best is trial 42 with value: 0.7374301675977654.\n",
      "[I 2024-03-03 03:38:40,388] Trial 68 finished with value: 0.6759776536312849 and parameters: {'n_estimators': 809, 'max_depth': 8, 'min_samples_split': 4, 'min_samples_leaf': 1, 'max_features': 'log2', 'bootstrap': False}. Best is trial 42 with value: 0.7374301675977654.\n",
      "[I 2024-03-03 03:38:41,244] Trial 69 finished with value: 0.7150837988826816 and parameters: {'n_estimators': 650, 'max_depth': 5, 'min_samples_split': 2, 'min_samples_leaf': 2, 'max_features': 'log2', 'bootstrap': False}. Best is trial 42 with value: 0.7374301675977654.\n",
      "[I 2024-03-03 03:38:42,975] Trial 70 finished with value: 0.6815642458100558 and parameters: {'n_estimators': 703, 'max_depth': 29, 'min_samples_split': 3, 'min_samples_leaf': 1, 'max_features': 'log2', 'bootstrap': False}. Best is trial 42 with value: 0.7374301675977654.\n",
      "[I 2024-03-03 03:38:43,597] Trial 71 finished with value: 0.7262569832402235 and parameters: {'n_estimators': 730, 'max_depth': 2, 'min_samples_split': 3, 'min_samples_leaf': 8, 'max_features': 'log2', 'bootstrap': False}. Best is trial 42 with value: 0.7374301675977654.\n",
      "[I 2024-03-03 03:38:44,457] Trial 72 finished with value: 0.7039106145251397 and parameters: {'n_estimators': 784, 'max_depth': 4, 'min_samples_split': 3, 'min_samples_leaf': 1, 'max_features': 'log2', 'bootstrap': False}. Best is trial 42 with value: 0.7374301675977654.\n",
      "[I 2024-03-03 03:38:44,987] Trial 73 finished with value: 0.7150837988826816 and parameters: {'n_estimators': 618, 'max_depth': 2, 'min_samples_split': 4, 'min_samples_leaf': 1, 'max_features': 'log2', 'bootstrap': False}. Best is trial 42 with value: 0.7374301675977654.\n",
      "[I 2024-03-03 03:38:45,757] Trial 74 finished with value: 0.7374301675977654 and parameters: {'n_estimators': 733, 'max_depth': 3, 'min_samples_split': 3, 'min_samples_leaf': 1, 'max_features': 'log2', 'bootstrap': False}. Best is trial 42 with value: 0.7374301675977654.\n",
      "[I 2024-03-03 03:38:46,620] Trial 75 finished with value: 0.7206703910614525 and parameters: {'n_estimators': 833, 'max_depth': 3, 'min_samples_split': 2, 'min_samples_leaf': 2, 'max_features': 'log2', 'bootstrap': False}. Best is trial 42 with value: 0.7374301675977654.\n",
      "[I 2024-03-03 03:38:47,415] Trial 76 finished with value: 0.7039106145251397 and parameters: {'n_estimators': 694, 'max_depth': 4, 'min_samples_split': 3, 'min_samples_leaf': 1, 'max_features': 'log2', 'bootstrap': False}. Best is trial 42 with value: 0.7374301675977654.\n",
      "[I 2024-03-03 03:38:48,566] Trial 77 finished with value: 0.664804469273743 and parameters: {'n_estimators': 752, 'max_depth': 7, 'min_samples_split': 4, 'min_samples_leaf': 2, 'max_features': 'log2', 'bootstrap': False}. Best is trial 42 with value: 0.7374301675977654.\n",
      "[I 2024-03-03 03:38:49,424] Trial 78 finished with value: 0.7094972067039106 and parameters: {'n_estimators': 663, 'max_depth': 5, 'min_samples_split': 5, 'min_samples_leaf': 1, 'max_features': 'log2', 'bootstrap': False}. Best is trial 42 with value: 0.7374301675977654.\n",
      "[I 2024-03-03 03:38:50,198] Trial 79 finished with value: 0.6815642458100558 and parameters: {'n_estimators': 586, 'max_depth': 6, 'min_samples_split': 2, 'min_samples_leaf': 9, 'max_features': 'log2', 'bootstrap': False}. Best is trial 42 with value: 0.7374301675977654.\n",
      "[I 2024-03-03 03:38:51,977] Trial 80 finished with value: 0.6815642458100558 and parameters: {'n_estimators': 868, 'max_depth': 20, 'min_samples_split': 3, 'min_samples_leaf': 2, 'max_features': 'sqrt', 'bootstrap': False}. Best is trial 42 with value: 0.7374301675977654.\n",
      "[I 2024-03-03 03:38:52,684] Trial 81 finished with value: 0.7374301675977654 and parameters: {'n_estimators': 730, 'max_depth': 3, 'min_samples_split': 3, 'min_samples_leaf': 1, 'max_features': 'log2', 'bootstrap': False}. Best is trial 42 with value: 0.7374301675977654.\n",
      "[I 2024-03-03 03:38:53,467] Trial 82 finished with value: 0.7374301675977654 and parameters: {'n_estimators': 802, 'max_depth': 3, 'min_samples_split': 3, 'min_samples_leaf': 1, 'max_features': 'log2', 'bootstrap': False}. Best is trial 42 with value: 0.7374301675977654.\n",
      "[I 2024-03-03 03:38:54,380] Trial 83 finished with value: 0.7039106145251397 and parameters: {'n_estimators': 797, 'max_depth': 4, 'min_samples_split': 3, 'min_samples_leaf': 1, 'max_features': 'log2', 'bootstrap': False}. Best is trial 42 with value: 0.7374301675977654.\n",
      "[I 2024-03-03 03:38:55,246] Trial 84 finished with value: 0.7374301675977654 and parameters: {'n_estimators': 896, 'max_depth': 3, 'min_samples_split': 3, 'min_samples_leaf': 1, 'max_features': 'log2', 'bootstrap': False}. Best is trial 42 with value: 0.7374301675977654.\n",
      "[I 2024-03-03 03:38:55,913] Trial 85 finished with value: 0.7150837988826816 and parameters: {'n_estimators': 767, 'max_depth': 2, 'min_samples_split': 4, 'min_samples_leaf': 1, 'max_features': 'log2', 'bootstrap': False}. Best is trial 42 with value: 0.7374301675977654.\n",
      "[I 2024-03-03 03:38:57,666] Trial 86 finished with value: 0.6703910614525139 and parameters: {'n_estimators': 829, 'max_depth': 15, 'min_samples_split': 4, 'min_samples_leaf': 1, 'max_features': 'log2', 'bootstrap': False}. Best is trial 42 with value: 0.7374301675977654.\n",
      "[I 2024-03-03 03:38:58,950] Trial 87 finished with value: 0.7039106145251397 and parameters: {'n_estimators': 938, 'max_depth': 5, 'min_samples_split': 2, 'min_samples_leaf': 1, 'max_features': 'log2', 'bootstrap': False}. Best is trial 42 with value: 0.7374301675977654.\n",
      "[I 2024-03-03 03:38:59,913] Trial 88 finished with value: 0.7318435754189944 and parameters: {'n_estimators': 971, 'max_depth': 3, 'min_samples_split': 3, 'min_samples_leaf': 2, 'max_features': 'log2', 'bootstrap': False}. Best is trial 42 with value: 0.7374301675977654.\n",
      "[I 2024-03-03 03:39:00,772] Trial 89 finished with value: 0.7150837988826816 and parameters: {'n_estimators': 813, 'max_depth': 2, 'min_samples_split': 3, 'min_samples_leaf': 1, 'max_features': 'log2', 'bootstrap': False}. Best is trial 42 with value: 0.7374301675977654.\n",
      "[I 2024-03-03 03:39:01,671] Trial 90 finished with value: 0.7039106145251397 and parameters: {'n_estimators': 746, 'max_depth': 4, 'min_samples_split': 2, 'min_samples_leaf': 2, 'max_features': 'log2', 'bootstrap': False}. Best is trial 42 with value: 0.7374301675977654.\n",
      "[I 2024-03-03 03:39:02,583] Trial 91 finished with value: 0.7374301675977654 and parameters: {'n_estimators': 893, 'max_depth': 3, 'min_samples_split': 3, 'min_samples_leaf': 1, 'max_features': 'log2', 'bootstrap': False}. Best is trial 42 with value: 0.7374301675977654.\n",
      "[I 2024-03-03 03:39:03,465] Trial 92 finished with value: 0.7374301675977654 and parameters: {'n_estimators': 903, 'max_depth': 3, 'min_samples_split': 3, 'min_samples_leaf': 1, 'max_features': 'log2', 'bootstrap': False}. Best is trial 42 with value: 0.7374301675977654.\n",
      "[I 2024-03-03 03:39:04,791] Trial 93 finished with value: 0.6759776536312849 and parameters: {'n_estimators': 929, 'max_depth': 6, 'min_samples_split': 4, 'min_samples_leaf': 1, 'max_features': 'log2', 'bootstrap': False}. Best is trial 42 with value: 0.7374301675977654.\n",
      "[I 2024-03-03 03:39:05,734] Trial 94 finished with value: 0.7039106145251397 and parameters: {'n_estimators': 846, 'max_depth': 4, 'min_samples_split': 3, 'min_samples_leaf': 1, 'max_features': 'log2', 'bootstrap': False}. Best is trial 42 with value: 0.7374301675977654.\n",
      "[I 2024-03-03 03:39:06,423] Trial 95 finished with value: 0.7374301675977654 and parameters: {'n_estimators': 710, 'max_depth': 3, 'min_samples_split': 3, 'min_samples_leaf': 1, 'max_features': 'log2', 'bootstrap': False}. Best is trial 42 with value: 0.7374301675977654.\n",
      "[I 2024-03-03 03:39:07,290] Trial 96 finished with value: 0.7150837988826816 and parameters: {'n_estimators': 875, 'max_depth': 2, 'min_samples_split': 4, 'min_samples_leaf': 2, 'max_features': 'log2', 'bootstrap': True}. Best is trial 42 with value: 0.7374301675977654.\n",
      "[I 2024-03-03 03:39:08,244] Trial 97 finished with value: 0.7150837988826816 and parameters: {'n_estimators': 774, 'max_depth': 5, 'min_samples_split': 3, 'min_samples_leaf': 1, 'max_features': 'log2', 'bootstrap': False}. Best is trial 42 with value: 0.7374301675977654.\n",
      "[I 2024-03-03 03:39:10,239] Trial 98 finished with value: 0.40782122905027934 and parameters: {'n_estimators': 996, 'max_depth': 4, 'min_samples_split': 2, 'min_samples_leaf': 1, 'max_features': None, 'bootstrap': False}. Best is trial 42 with value: 0.7374301675977654.\n",
      "[I 2024-03-03 03:39:12,137] Trial 99 finished with value: 0.664804469273743 and parameters: {'n_estimators': 951, 'max_depth': 22, 'min_samples_split': 6, 'min_samples_leaf': 2, 'max_features': 'sqrt', 'bootstrap': False}. Best is trial 42 with value: 0.7374301675977654.\n"
     ]
    },
    {
     "name": "stdout",
     "output_type": "stream",
     "text": [
      "Number of finished trials: 100\n",
      "Best trial: {'n_estimators': 886, 'max_depth': 3, 'min_samples_split': 3, 'min_samples_leaf': 1, 'max_features': 'log2', 'bootstrap': False}\n",
      "Best trial accuracy: 0.7374301675977654\n"
     ]
    }
   ],
   "source": [
    "study = opt.create_study(direction='maximize')\n",
    "study.optimize(objective, n_trials=100)\n",
    "\n",
    "print('Number of finished trials:', len(study.trials))\n",
    "print('Best trial:', study.best_trial.params)\n",
    "print(f\"Best trial accuracy: {study.best_trial.value}\")"
   ],
   "metadata": {
    "collapsed": false,
    "ExecuteTime": {
     "end_time": "2024-03-03T02:39:12.145594Z",
     "start_time": "2024-03-03T02:37:25.462655Z"
    }
   },
   "id": "fccad4eff8bb9ae0",
   "execution_count": 62
  },
  {
   "cell_type": "code",
   "outputs": [
    {
     "name": "stdout",
     "output_type": "stream",
     "text": [
      "Accuracy: 0.73\n"
     ]
    }
   ],
   "source": [
    "model = RandomForestClassifier(random_state=0, n_estimators=500, max_depth=5)\n",
    "model.set_params(**study.best_trial.params)\n",
    "model.fit(X_train, y_train)\n",
    "y_pred = model.predict(X_test)\n",
    "accuracy = accuracy_score(y_test, y_pred)\n",
    "print(f\"Accuracy: {accuracy:.2f}\")"
   ],
   "metadata": {
    "collapsed": false,
    "ExecuteTime": {
     "end_time": "2024-03-03T02:39:12.983436Z",
     "start_time": "2024-03-03T02:39:12.146717Z"
    }
   },
   "id": "84b77e0028fc4bb6",
   "execution_count": 63
  },
  {
   "cell_type": "markdown",
   "source": [
    "### Compare accuracy to supposed real data"
   ],
   "metadata": {
    "collapsed": false
   },
   "id": "d4d68d989c272924"
  },
  {
   "cell_type": "code",
   "outputs": [
    {
     "data": {
      "text/plain": "0.6565656565656566"
     },
     "execution_count": 64,
     "metadata": {},
     "output_type": "execute_result"
    }
   ],
   "source": [
    "actual_data = pd.read_csv(\"corrected_passenger_survived.csv\", index_col=\"PassengerId\")\n",
    "predicted_data = pd.read_csv(\"submission_test.csv\", index_col=\"PassengerId\")\n",
    "to_drop = actual_data[actual_data['survived'].isna()].index.tolist()\n",
    "\n",
    "data = [actual_data, predicted_data]\n",
    "for dataset in data:\n",
    "    dataset.drop(to_drop, axis=\"index\", inplace=True)\n",
    "accuracy_score(actual_data, predicted_data)"
   ],
   "metadata": {
    "collapsed": false,
    "ExecuteTime": {
     "end_time": "2024-03-03T02:39:12.998263Z",
     "start_time": "2024-03-03T02:39:12.985048Z"
    }
   },
   "id": "badeaa27c8fc319",
   "execution_count": 64
  },
  {
   "cell_type": "code",
   "outputs": [],
   "source": [],
   "metadata": {
    "collapsed": false,
    "ExecuteTime": {
     "end_time": "2024-03-03T02:39:13.001688Z",
     "start_time": "2024-03-03T02:39:12.999441Z"
    }
   },
   "id": "e81e43b9760a26c8",
   "execution_count": 64
  }
 ],
 "metadata": {
  "kernelspec": {
   "display_name": "Python 3",
   "language": "python",
   "name": "python3"
  },
  "language_info": {
   "codemirror_mode": {
    "name": "ipython",
    "version": 2
   },
   "file_extension": ".py",
   "mimetype": "text/x-python",
   "name": "python",
   "nbconvert_exporter": "python",
   "pygments_lexer": "ipython2",
   "version": "2.7.6"
  }
 },
 "nbformat": 4,
 "nbformat_minor": 5
}
