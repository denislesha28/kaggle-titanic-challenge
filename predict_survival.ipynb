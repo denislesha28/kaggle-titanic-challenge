{
 "cells": [
  {
   "cell_type": "code",
   "execution_count": 1,
   "id": "initial_id",
   "metadata": {
    "collapsed": true,
    "ExecuteTime": {
     "end_time": "2024-03-18T00:07:57.250036Z",
     "start_time": "2024-03-18T00:07:56.625649Z"
    }
   },
   "outputs": [],
   "source": [
    "import re\n",
    "\n",
    "import numpy as np\n",
    "import optuna as opt\n",
    "import pandas as pd\n",
    "import xgboost as xgb\n",
    "from matplotlib import pyplot as plt\n",
    "from sklearn.inspection import permutation_importance\n",
    "from sklearn.metrics import accuracy_score\n",
    "from sklearn.model_selection import train_test_split, StratifiedKFold, cross_val_score\n",
    "from sklearn.preprocessing import LabelEncoder\n",
    "from sklearn.linear_model import LogisticRegression\n",
    "from sklearn.ensemble import StackingClassifier\n",
    "from xgboost import XGBClassifier"
   ]
  },
  {
   "cell_type": "code",
   "outputs": [],
   "source": [
    "random_id = 17 #ai23m017 - 17 is the id\n",
    "random_state = np.random.RandomState(random_id)"
   ],
   "metadata": {
    "collapsed": false,
    "ExecuteTime": {
     "end_time": "2024-03-18T00:07:57.254258Z",
     "start_time": "2024-03-18T00:07:57.251040Z"
    }
   },
   "id": "cfc9bf5391961962",
   "execution_count": 2
  },
  {
   "cell_type": "code",
   "outputs": [
    {
     "data": {
      "text/plain": "             Survived  Pclass  \\\nPassengerId                     \n1                   0       3   \n2                   1       1   \n3                   1       3   \n4                   1       1   \n5                   0       3   \n...               ...     ...   \n887                 0       2   \n888                 1       1   \n889                 0       3   \n890                 1       1   \n891                 0       3   \n\n                                                          Name   Age  SibSp  \\\nPassengerId                                                                   \n1                                      Braund, Mr. Owen Harris  22.0      1   \n2            Cumings, Mrs. John Bradley (Florence Briggs Th...  38.0      1   \n3                                       Heikkinen, Miss. Laina  26.0      0   \n4                 Futrelle, Mrs. Jacques Heath (Lily May Peel)  35.0      1   \n5                                     Allen, Mr. William Henry  35.0      0   \n...                                                        ...   ...    ...   \n887                                      Montvila, Rev. Juozas  27.0      0   \n888                               Graham, Miss. Margaret Edith  19.0      0   \n889                   Johnston, Miss. Catherine Helen \"Carrie\"   NaN      1   \n890                                      Behr, Mr. Karl Howell  26.0      0   \n891                                        Dooley, Mr. Patrick  32.0      0   \n\n             Parch            Ticket     Fare Cabin Embarked  \nPassengerId                                                   \n1                0         A/5 21171   7.2500   NaN        S  \n2                0          PC 17599  71.2833   C85        C  \n3                0  STON/O2. 3101282   7.9250   NaN        S  \n4                0            113803  53.1000  C123        S  \n5                0            373450   8.0500   NaN        S  \n...            ...               ...      ...   ...      ...  \n887              0            211536  13.0000   NaN        S  \n888              0            112053  30.0000   B42        S  \n889              2        W./C. 6607  23.4500   NaN        S  \n890              0            111369  30.0000  C148        C  \n891              0            370376   7.7500   NaN        Q  \n\n[891 rows x 10 columns]",
      "text/html": "<div>\n<style scoped>\n    .dataframe tbody tr th:only-of-type {\n        vertical-align: middle;\n    }\n\n    .dataframe tbody tr th {\n        vertical-align: top;\n    }\n\n    .dataframe thead th {\n        text-align: right;\n    }\n</style>\n<table border=\"1\" class=\"dataframe\">\n  <thead>\n    <tr style=\"text-align: right;\">\n      <th></th>\n      <th>Survived</th>\n      <th>Pclass</th>\n      <th>Name</th>\n      <th>Age</th>\n      <th>SibSp</th>\n      <th>Parch</th>\n      <th>Ticket</th>\n      <th>Fare</th>\n      <th>Cabin</th>\n      <th>Embarked</th>\n    </tr>\n    <tr>\n      <th>PassengerId</th>\n      <th></th>\n      <th></th>\n      <th></th>\n      <th></th>\n      <th></th>\n      <th></th>\n      <th></th>\n      <th></th>\n      <th></th>\n      <th></th>\n    </tr>\n  </thead>\n  <tbody>\n    <tr>\n      <th>1</th>\n      <td>0</td>\n      <td>3</td>\n      <td>Braund, Mr. Owen Harris</td>\n      <td>22.0</td>\n      <td>1</td>\n      <td>0</td>\n      <td>A/5 21171</td>\n      <td>7.2500</td>\n      <td>NaN</td>\n      <td>S</td>\n    </tr>\n    <tr>\n      <th>2</th>\n      <td>1</td>\n      <td>1</td>\n      <td>Cumings, Mrs. John Bradley (Florence Briggs Th...</td>\n      <td>38.0</td>\n      <td>1</td>\n      <td>0</td>\n      <td>PC 17599</td>\n      <td>71.2833</td>\n      <td>C85</td>\n      <td>C</td>\n    </tr>\n    <tr>\n      <th>3</th>\n      <td>1</td>\n      <td>3</td>\n      <td>Heikkinen, Miss. Laina</td>\n      <td>26.0</td>\n      <td>0</td>\n      <td>0</td>\n      <td>STON/O2. 3101282</td>\n      <td>7.9250</td>\n      <td>NaN</td>\n      <td>S</td>\n    </tr>\n    <tr>\n      <th>4</th>\n      <td>1</td>\n      <td>1</td>\n      <td>Futrelle, Mrs. Jacques Heath (Lily May Peel)</td>\n      <td>35.0</td>\n      <td>1</td>\n      <td>0</td>\n      <td>113803</td>\n      <td>53.1000</td>\n      <td>C123</td>\n      <td>S</td>\n    </tr>\n    <tr>\n      <th>5</th>\n      <td>0</td>\n      <td>3</td>\n      <td>Allen, Mr. William Henry</td>\n      <td>35.0</td>\n      <td>0</td>\n      <td>0</td>\n      <td>373450</td>\n      <td>8.0500</td>\n      <td>NaN</td>\n      <td>S</td>\n    </tr>\n    <tr>\n      <th>...</th>\n      <td>...</td>\n      <td>...</td>\n      <td>...</td>\n      <td>...</td>\n      <td>...</td>\n      <td>...</td>\n      <td>...</td>\n      <td>...</td>\n      <td>...</td>\n      <td>...</td>\n    </tr>\n    <tr>\n      <th>887</th>\n      <td>0</td>\n      <td>2</td>\n      <td>Montvila, Rev. Juozas</td>\n      <td>27.0</td>\n      <td>0</td>\n      <td>0</td>\n      <td>211536</td>\n      <td>13.0000</td>\n      <td>NaN</td>\n      <td>S</td>\n    </tr>\n    <tr>\n      <th>888</th>\n      <td>1</td>\n      <td>1</td>\n      <td>Graham, Miss. Margaret Edith</td>\n      <td>19.0</td>\n      <td>0</td>\n      <td>0</td>\n      <td>112053</td>\n      <td>30.0000</td>\n      <td>B42</td>\n      <td>S</td>\n    </tr>\n    <tr>\n      <th>889</th>\n      <td>0</td>\n      <td>3</td>\n      <td>Johnston, Miss. Catherine Helen \"Carrie\"</td>\n      <td>NaN</td>\n      <td>1</td>\n      <td>2</td>\n      <td>W./C. 6607</td>\n      <td>23.4500</td>\n      <td>NaN</td>\n      <td>S</td>\n    </tr>\n    <tr>\n      <th>890</th>\n      <td>1</td>\n      <td>1</td>\n      <td>Behr, Mr. Karl Howell</td>\n      <td>26.0</td>\n      <td>0</td>\n      <td>0</td>\n      <td>111369</td>\n      <td>30.0000</td>\n      <td>C148</td>\n      <td>C</td>\n    </tr>\n    <tr>\n      <th>891</th>\n      <td>0</td>\n      <td>3</td>\n      <td>Dooley, Mr. Patrick</td>\n      <td>32.0</td>\n      <td>0</td>\n      <td>0</td>\n      <td>370376</td>\n      <td>7.7500</td>\n      <td>NaN</td>\n      <td>Q</td>\n    </tr>\n  </tbody>\n</table>\n<p>891 rows × 10 columns</p>\n</div>"
     },
     "execution_count": 3,
     "metadata": {},
     "output_type": "execute_result"
    }
   ],
   "source": [
    "to_test = pd.read_csv(\"test.csv\", index_col=\"PassengerId\")\n",
    "df = pd.read_csv(\"train.csv\", index_col=\"PassengerId\")\n",
    "df"
   ],
   "metadata": {
    "collapsed": false,
    "ExecuteTime": {
     "end_time": "2024-03-18T00:07:57.291110Z",
     "start_time": "2024-03-18T00:07:57.254496Z"
    }
   },
   "id": "7437cf88e2628702",
   "execution_count": 3
  },
  {
   "cell_type": "code",
   "outputs": [
    {
     "data": {
      "text/plain": "Survived             Int64\nPclass               Int64\nName        string[python]\nAge                Float64\nSibSp                Int64\nParch                Int64\nTicket      string[python]\nFare               Float64\nCabin       string[python]\nEmbarked          category\ndtype: object"
     },
     "execution_count": 4,
     "metadata": {},
     "output_type": "execute_result"
    }
   ],
   "source": [
    "df = df.convert_dtypes()\n",
    "df[\"Embarked\"] = df[\"Embarked\"].astype(\"category\")\n",
    "df.dtypes"
   ],
   "metadata": {
    "collapsed": false,
    "ExecuteTime": {
     "end_time": "2024-03-18T00:07:57.301605Z",
     "start_time": "2024-03-18T00:07:57.292115Z"
    }
   },
   "id": "bc7c0dd7b79336e6",
   "execution_count": 4
  },
  {
   "cell_type": "code",
   "outputs": [
    {
     "data": {
      "text/plain": "'\\nrandom_id = 17 #ai23m017 - 17 is the id\\n# a RandomState object or the id may be used, choose a variant\\nrandom_state = np.random.RandomState(random_id)\\nrandom_state = random_id\\n'"
     },
     "execution_count": 5,
     "metadata": {},
     "output_type": "execute_result"
    }
   ],
   "source": [
    "'''\n",
    "random_id = 17 #ai23m017 - 17 is the id\n",
    "# a RandomState object or the id may be used, choose a variant\n",
    "random_state = np.random.RandomState(random_id)\n",
    "random_state = random_id\n",
    "'''\n",
    "#TODO implement this for all random states"
   ],
   "metadata": {
    "collapsed": false,
    "ExecuteTime": {
     "end_time": "2024-03-18T00:07:57.306691Z",
     "start_time": "2024-03-18T00:07:57.302613Z"
    }
   },
   "id": "9a422a05e1ee9e2d",
   "execution_count": 5
  },
  {
   "cell_type": "code",
   "outputs": [
    {
     "name": "stdout",
     "output_type": "stream",
     "text": [
      "['Age', 'Cabin', 'Embarked']\n"
     ]
    }
   ],
   "source": [
    "X_train,X_test,y_train,y_test = train_test_split(df.drop(\"Survived\", axis=1), df[\"Survived\"], test_size=0.3, random_state=random_id)\n",
    "print(df.columns[df.isna().any(axis=0)].tolist())"
   ],
   "metadata": {
    "collapsed": false,
    "ExecuteTime": {
     "end_time": "2024-03-18T00:07:57.319779Z",
     "start_time": "2024-03-18T00:07:57.307696Z"
    }
   },
   "id": "311deef3a7079778",
   "execution_count": 6
  },
  {
   "cell_type": "markdown",
   "source": [
    "### Data Pre-Processing after splitting the data to prevent data - leakage"
   ],
   "metadata": {
    "collapsed": false
   },
   "id": "81f55df3da10ac26"
  },
  {
   "cell_type": "code",
   "outputs": [],
   "source": [
    "#Data Imputation for the Age column\n",
    "data = [X_train, X_test, to_test]\n",
    "for dataset in data:\n",
    "    mean = X_train[\"Age\"].mean()\n",
    "    std = X_test[\"Age\"].std()\n",
    "    is_null = dataset[\"Age\"].isna().sum()\n",
    "    rand_age = np.random.randint(mean - std, mean + std, size = is_null)\n",
    "    rand_age_series = pd.Series(rand_age, index=dataset[dataset[\"Age\"].isnull()].index)\n",
    "    dataset[\"Age\"].fillna(rand_age_series, inplace=True)\n",
    "    dataset[\"Age\"] = dataset[\"Age\"].astype(int)\n",
    "    "
   ],
   "metadata": {
    "collapsed": false,
    "ExecuteTime": {
     "end_time": "2024-03-18T00:07:57.334200Z",
     "start_time": "2024-03-18T00:07:57.321723Z"
    }
   },
   "id": "382104a86596fa97",
   "execution_count": 7
  },
  {
   "cell_type": "code",
   "outputs": [],
   "source": [
    "#Feature Engineering the Deck Column \n",
    "#Cabins are mapped to a numerical Deck feature\n",
    "\n",
    "deck = {\"A\": 1, \"B\": 2, \"C\": 3, \"D\": 4, \"E\": 5, \"F\": 6, \"G\": 7, \"U\": 8}\n",
    "\n",
    "for dataset in data:\n",
    "    \n",
    "    dataset['Cabin'] = dataset['Cabin'].fillna(\"U0\")\n",
    "    dataset['Deck'] = dataset['Cabin'].map(lambda x: re.compile(\"([a-zA-Z]+)\").search(x).group())\n",
    "    dataset['Deck'] = dataset['Deck'].map(deck)\n",
    "    dataset['Deck'] = dataset['Deck'].fillna(0)\n",
    "    dataset['Deck'] = dataset['Deck'].astype(int)\n",
    "    \n",
    "    dataset.drop([\"Cabin\"], axis=1, inplace=True)"
   ],
   "metadata": {
    "collapsed": false,
    "ExecuteTime": {
     "end_time": "2024-03-18T00:08:05.415714Z",
     "start_time": "2024-03-18T00:08:05.404489Z"
    }
   },
   "id": "e8ca56c07025d74e",
   "execution_count": 8
  },
  {
   "cell_type": "code",
   "outputs": [],
   "source": [
    "X_train[\"Embarked\"].describe()\n",
    "for dataset in [X_train, X_test, to_test]:\n",
    "    dataset['Embarked'].fillna(dataset['Embarked'].mode()[0], inplace=True)\n"
   ],
   "metadata": {
    "collapsed": false,
    "ExecuteTime": {
     "end_time": "2024-03-18T00:08:05.974698Z",
     "start_time": "2024-03-18T00:08:05.968694Z"
    }
   },
   "id": "46c7b88f0da0a969",
   "execution_count": 9
  },
  {
   "cell_type": "code",
   "outputs": [
    {
     "data": {
      "text/plain": "Pclass      False\nName        False\nAge         False\nSibSp       False\nParch       False\nTicket      False\nFare        False\nEmbarked    False\nDeck        False\ndtype: bool"
     },
     "execution_count": 10,
     "metadata": {},
     "output_type": "execute_result"
    }
   ],
   "source": [
    "X_train.isna().any()"
   ],
   "metadata": {
    "collapsed": false,
    "ExecuteTime": {
     "end_time": "2024-03-18T00:08:06.507301Z",
     "start_time": "2024-03-18T00:08:06.501714Z"
    }
   },
   "id": "32c820fc22b56a5d",
   "execution_count": 10
  },
  {
   "cell_type": "code",
   "outputs": [
    {
     "name": "stdout",
     "output_type": "stream",
     "text": [
      "['Mrs' 'Miss' 'Mr' 'Master' 'Rev' 'Dr' 'Jonkheer' 'Mlle' 'Sir' 'Ms' 'Capt'\n",
      " 'Major' 'Don']\n",
      "['Mrs' 'Miss' 'Mr' 'Master' 'Rare']\n",
      "['Mrs' 'Miss' 'Mr' 'Master' 'Rare']\n"
     ]
    }
   ],
   "source": [
    "#Feature Engineering Title Column\n",
    "status_map={'Capt':'Military',\n",
    "            'Col':'Military',\n",
    "            'Don':'Noble',\n",
    "            'Dona':'Noble',\n",
    "            'Dr':'Dr',\n",
    "            'Jonkheer':'Noble',\n",
    "            'Lady':'Noble',\n",
    "            'Major':'Military',\n",
    "            'Master':'Common',\n",
    "            'Miss':'Common',\n",
    "            'Mlle':'Common',\n",
    "            'Mme':'Common',\n",
    "            'Mr':'Common',\n",
    "            'Mrs':'Common',\n",
    "            'Ms':'Common',\n",
    "            'Rev':'Clergy',\n",
    "            'Sir':'Noble',\n",
    "            'the Countess':'Noble',\n",
    "            }\n",
    "\n",
    "for dataset in data:\n",
    "    dataset[\"Title\"] = dataset[\"Name\"].apply(lambda x: x.split(\",\")[1].split(\".\")[0].strip())\n",
    "    print(pd.unique(X_train[\"Title\"]))\n",
    "    #dataset['Social_Status'] = dataset['Title'].map(status_map)\n",
    "    dataset['Title'] = dataset['Title'].replace(['Lady', 'Countess','Capt', 'Col',\\\n",
    " \t'Don', 'Dr', 'Major', 'Rev', 'Sir', 'Jonkheer', 'Dona'], 'Rare')\n",
    "\n",
    "    dataset['Title'] = dataset['Title'].replace('Mlle', 'Miss')\n",
    "    dataset['Title'] = dataset['Title'].replace('Ms', 'Miss')\n",
    "    dataset['Title'] = dataset['Title'].replace('Mme', 'Mrs')\n"
   ],
   "metadata": {
    "collapsed": false,
    "ExecuteTime": {
     "end_time": "2024-03-18T00:08:07.327519Z",
     "start_time": "2024-03-18T00:08:07.312208Z"
    }
   },
   "id": "f6cd938e3addfb44",
   "execution_count": 11
  },
  {
   "cell_type": "code",
   "outputs": [],
   "source": [
    "#Feature Engineering Sex Column \n",
    "def map_to_sex(value):\n",
    "    if value in [\"Miss\",\"Mrs\"]:\n",
    "        return \"female\"\n",
    "    else:\n",
    "        return \"male\"\n",
    "\n",
    "for dataset in data:\n",
    "    dataset[\"Sex\"] = dataset[\"Title\"].apply(map_to_sex)\n",
    "    dataset['Sex'] = dataset['Sex'].map( {'female': 1, 'male': 0} ).astype(int)\n",
    "    #dataset.drop(\"Title\", axis=1, inplace=True)"
   ],
   "metadata": {
    "collapsed": false,
    "ExecuteTime": {
     "end_time": "2024-03-18T00:08:07.887512Z",
     "start_time": "2024-03-18T00:08:07.878858Z"
    }
   },
   "id": "502afae6ac628fa2",
   "execution_count": 12
  },
  {
   "cell_type": "code",
   "outputs": [],
   "source": [
    "#Feature Engineering Family Size Column\n",
    "for dataset in data:\n",
    "    dataset[\"Fam_size\"] = dataset[\"SibSp\"] + dataset[\"Parch\"] + 1\n",
    "    dataset[\"Fam_type\"] = pd.cut(dataset.Fam_size, [0,1,4,7,11], labels=[\"Solo\", \"Small\", \"Big\", \"Very big\"])\n",
    "    dataset['IsAlone'] = 0\n",
    "    dataset.loc[dataset['Fam_size'] == 1, 'IsAlone'] = 1\n",
    "    dataset.drop([\"SibSp\",\"Parch\"], axis=1, inplace=True)\n"
   ],
   "metadata": {
    "collapsed": false,
    "ExecuteTime": {
     "end_time": "2024-03-18T00:08:08.561140Z",
     "start_time": "2024-03-18T00:08:08.547621Z"
    }
   },
   "id": "7611fdcd2568120a",
   "execution_count": 13
  },
  {
   "cell_type": "code",
   "outputs": [
    {
     "data": {
      "text/plain": "             Pclass                              Name  Age      Ticket  \\\nPassengerId                                                              \n67                2      Nye, Mrs. (Elizabeth Ramell)   29  C.A. 29395   \n382               3       Nakid, Miss. Maria (\"Mary\")    1        2653   \n224               3              Nenkoff, Mr. Christo   18      349234   \n630               3          O'Connell, Mr. Patrick D   28      334912   \n338               1   Burns, Miss. Elizabeth Margaret   41       16966   \n...             ...                               ...  ...         ...   \n407               3  Widegren, Mr. Carl/Charles Peter   51      347064   \n391               1        Carter, Mr. William Ernest   36      113760   \n144               3               Burke, Mr. Jeremiah   19      365222   \n242               3    Murphy, Miss. Katherine \"Kate\"   18      367230   \n624               3       Hansen, Mr. Henry Damsgaard   21      350029   \n\n                Fare Embarked  Deck Title  Sex  Fam_size Fam_type  IsAlone  \nPassengerId                                                                 \n67              10.5        S     6   Mrs    1         1     Solo        1  \n382          15.7417        C     8  Miss    1         3    Small        0  \n224           7.8958        S     8    Mr    0         1     Solo        1  \n630           7.7333        Q     8    Mr    0         1     Solo        1  \n338            134.5        C     5  Miss    1         1     Solo        1  \n...              ...      ...   ...   ...  ...       ...      ...      ...  \n407             7.75        S     8    Mr    0         1     Solo        1  \n391            120.0        S     2    Mr    0         4    Small        0  \n144             6.75        Q     8    Mr    0         1     Solo        1  \n242             15.5        Q     8  Miss    1         2    Small        0  \n624           7.8542        S     8    Mr    0         1     Solo        1  \n\n[623 rows x 12 columns]",
      "text/html": "<div>\n<style scoped>\n    .dataframe tbody tr th:only-of-type {\n        vertical-align: middle;\n    }\n\n    .dataframe tbody tr th {\n        vertical-align: top;\n    }\n\n    .dataframe thead th {\n        text-align: right;\n    }\n</style>\n<table border=\"1\" class=\"dataframe\">\n  <thead>\n    <tr style=\"text-align: right;\">\n      <th></th>\n      <th>Pclass</th>\n      <th>Name</th>\n      <th>Age</th>\n      <th>Ticket</th>\n      <th>Fare</th>\n      <th>Embarked</th>\n      <th>Deck</th>\n      <th>Title</th>\n      <th>Sex</th>\n      <th>Fam_size</th>\n      <th>Fam_type</th>\n      <th>IsAlone</th>\n    </tr>\n    <tr>\n      <th>PassengerId</th>\n      <th></th>\n      <th></th>\n      <th></th>\n      <th></th>\n      <th></th>\n      <th></th>\n      <th></th>\n      <th></th>\n      <th></th>\n      <th></th>\n      <th></th>\n      <th></th>\n    </tr>\n  </thead>\n  <tbody>\n    <tr>\n      <th>67</th>\n      <td>2</td>\n      <td>Nye, Mrs. (Elizabeth Ramell)</td>\n      <td>29</td>\n      <td>C.A. 29395</td>\n      <td>10.5</td>\n      <td>S</td>\n      <td>6</td>\n      <td>Mrs</td>\n      <td>1</td>\n      <td>1</td>\n      <td>Solo</td>\n      <td>1</td>\n    </tr>\n    <tr>\n      <th>382</th>\n      <td>3</td>\n      <td>Nakid, Miss. Maria (\"Mary\")</td>\n      <td>1</td>\n      <td>2653</td>\n      <td>15.7417</td>\n      <td>C</td>\n      <td>8</td>\n      <td>Miss</td>\n      <td>1</td>\n      <td>3</td>\n      <td>Small</td>\n      <td>0</td>\n    </tr>\n    <tr>\n      <th>224</th>\n      <td>3</td>\n      <td>Nenkoff, Mr. Christo</td>\n      <td>18</td>\n      <td>349234</td>\n      <td>7.8958</td>\n      <td>S</td>\n      <td>8</td>\n      <td>Mr</td>\n      <td>0</td>\n      <td>1</td>\n      <td>Solo</td>\n      <td>1</td>\n    </tr>\n    <tr>\n      <th>630</th>\n      <td>3</td>\n      <td>O'Connell, Mr. Patrick D</td>\n      <td>28</td>\n      <td>334912</td>\n      <td>7.7333</td>\n      <td>Q</td>\n      <td>8</td>\n      <td>Mr</td>\n      <td>0</td>\n      <td>1</td>\n      <td>Solo</td>\n      <td>1</td>\n    </tr>\n    <tr>\n      <th>338</th>\n      <td>1</td>\n      <td>Burns, Miss. Elizabeth Margaret</td>\n      <td>41</td>\n      <td>16966</td>\n      <td>134.5</td>\n      <td>C</td>\n      <td>5</td>\n      <td>Miss</td>\n      <td>1</td>\n      <td>1</td>\n      <td>Solo</td>\n      <td>1</td>\n    </tr>\n    <tr>\n      <th>...</th>\n      <td>...</td>\n      <td>...</td>\n      <td>...</td>\n      <td>...</td>\n      <td>...</td>\n      <td>...</td>\n      <td>...</td>\n      <td>...</td>\n      <td>...</td>\n      <td>...</td>\n      <td>...</td>\n      <td>...</td>\n    </tr>\n    <tr>\n      <th>407</th>\n      <td>3</td>\n      <td>Widegren, Mr. Carl/Charles Peter</td>\n      <td>51</td>\n      <td>347064</td>\n      <td>7.75</td>\n      <td>S</td>\n      <td>8</td>\n      <td>Mr</td>\n      <td>0</td>\n      <td>1</td>\n      <td>Solo</td>\n      <td>1</td>\n    </tr>\n    <tr>\n      <th>391</th>\n      <td>1</td>\n      <td>Carter, Mr. William Ernest</td>\n      <td>36</td>\n      <td>113760</td>\n      <td>120.0</td>\n      <td>S</td>\n      <td>2</td>\n      <td>Mr</td>\n      <td>0</td>\n      <td>4</td>\n      <td>Small</td>\n      <td>0</td>\n    </tr>\n    <tr>\n      <th>144</th>\n      <td>3</td>\n      <td>Burke, Mr. Jeremiah</td>\n      <td>19</td>\n      <td>365222</td>\n      <td>6.75</td>\n      <td>Q</td>\n      <td>8</td>\n      <td>Mr</td>\n      <td>0</td>\n      <td>1</td>\n      <td>Solo</td>\n      <td>1</td>\n    </tr>\n    <tr>\n      <th>242</th>\n      <td>3</td>\n      <td>Murphy, Miss. Katherine \"Kate\"</td>\n      <td>18</td>\n      <td>367230</td>\n      <td>15.5</td>\n      <td>Q</td>\n      <td>8</td>\n      <td>Miss</td>\n      <td>1</td>\n      <td>2</td>\n      <td>Small</td>\n      <td>0</td>\n    </tr>\n    <tr>\n      <th>624</th>\n      <td>3</td>\n      <td>Hansen, Mr. Henry Damsgaard</td>\n      <td>21</td>\n      <td>350029</td>\n      <td>7.8542</td>\n      <td>S</td>\n      <td>8</td>\n      <td>Mr</td>\n      <td>0</td>\n      <td>1</td>\n      <td>Solo</td>\n      <td>1</td>\n    </tr>\n  </tbody>\n</table>\n<p>623 rows × 12 columns</p>\n</div>"
     },
     "execution_count": 14,
     "metadata": {},
     "output_type": "execute_result"
    }
   ],
   "source": [
    "X_train"
   ],
   "metadata": {
    "collapsed": false,
    "ExecuteTime": {
     "end_time": "2024-03-18T00:08:09.200884Z",
     "start_time": "2024-03-18T00:08:09.187159Z"
    }
   },
   "id": "5a1d56f373115d6d",
   "execution_count": 14
  },
  {
   "cell_type": "code",
   "outputs": [],
   "source": [
    "for dataset in data:\n",
    "    ticket_frequency = dataset.groupby('Ticket')['Name'].transform('count')\n",
    "    #dataset['Ticket_Frequency'] = ticket_frequency"
   ],
   "metadata": {
    "collapsed": false,
    "ExecuteTime": {
     "end_time": "2024-03-18T00:08:16.938952Z",
     "start_time": "2024-03-18T00:08:16.933039Z"
    }
   },
   "id": "bdc7d2c896c57bf0",
   "execution_count": 15
  },
  {
   "cell_type": "code",
   "outputs": [],
   "source": [
    "\n",
    "for dataset in data:\n",
    "    dataset['Age*Class'] = dataset['Age'] * dataset['Pclass']\n",
    "    dataset.drop(columns=[\"Age\",\"Pclass\"], inplace=True)\n",
    "    "
   ],
   "metadata": {
    "collapsed": false,
    "ExecuteTime": {
     "end_time": "2024-03-18T00:08:17.288447Z",
     "start_time": "2024-03-18T00:08:17.281984Z"
    }
   },
   "id": "86319017430b8d13",
   "execution_count": 16
  },
  {
   "cell_type": "markdown",
   "source": [],
   "metadata": {
    "collapsed": false
   },
   "id": "f1181ce179efe6fe"
  },
  {
   "cell_type": "code",
   "outputs": [],
   "source": [
    "for dataset in data:\n",
    "    dataset['Fare'] = np.log1p(dataset['Fare'])\n",
    "    dataset['Fare_Per_Person'] = dataset['Fare'] / (dataset['Fam_size'])\n",
    "    #dataset['Fare_Bin'] = pd.qcut(dataset['Fare'], 4, labels=False)\n",
    "    \n",
    "    dataset.drop(columns=[\"Fare\",\"Name\",\"Fam_size\",\"Ticket\"], axis=1, inplace=True)"
   ],
   "metadata": {
    "collapsed": false,
    "ExecuteTime": {
     "end_time": "2024-03-18T00:08:18.057067Z",
     "start_time": "2024-03-18T00:08:18.048522Z"
    }
   },
   "id": "bbea7c958369cb64",
   "execution_count": 17
  },
  {
   "cell_type": "code",
   "outputs": [
    {
     "data": {
      "text/plain": "            Embarked  Deck Title  Sex Fam_type  IsAlone  Age*Class  \\\nPassengerId                                                          \n67                 S     6   Mrs    1     Solo        1         58   \n382                C     8  Miss    1    Small        0          3   \n224                S     8    Mr    0     Solo        1         54   \n630                Q     8    Mr    0     Solo        1         84   \n338                C     5  Miss    1     Solo        1         41   \n...              ...   ...   ...  ...      ...      ...        ...   \n407                S     8    Mr    0     Solo        1        153   \n391                S     2    Mr    0    Small        0         36   \n144                Q     8    Mr    0     Solo        1         57   \n242                Q     8  Miss    1    Small        0         54   \n624                S     8    Mr    0     Solo        1         63   \n\n             Fare_Per_Person  \nPassengerId                   \n67                  2.442347  \n382                 0.939301  \n224                 2.185579  \n630                 2.167143  \n338                 4.908972  \n...                      ...  \n407                 2.169054  \n391                 1.198948  \n144                 2.047693  \n242                  1.40168  \n624                 2.180892  \n\n[623 rows x 8 columns]",
      "text/html": "<div>\n<style scoped>\n    .dataframe tbody tr th:only-of-type {\n        vertical-align: middle;\n    }\n\n    .dataframe tbody tr th {\n        vertical-align: top;\n    }\n\n    .dataframe thead th {\n        text-align: right;\n    }\n</style>\n<table border=\"1\" class=\"dataframe\">\n  <thead>\n    <tr style=\"text-align: right;\">\n      <th></th>\n      <th>Embarked</th>\n      <th>Deck</th>\n      <th>Title</th>\n      <th>Sex</th>\n      <th>Fam_type</th>\n      <th>IsAlone</th>\n      <th>Age*Class</th>\n      <th>Fare_Per_Person</th>\n    </tr>\n    <tr>\n      <th>PassengerId</th>\n      <th></th>\n      <th></th>\n      <th></th>\n      <th></th>\n      <th></th>\n      <th></th>\n      <th></th>\n      <th></th>\n    </tr>\n  </thead>\n  <tbody>\n    <tr>\n      <th>67</th>\n      <td>S</td>\n      <td>6</td>\n      <td>Mrs</td>\n      <td>1</td>\n      <td>Solo</td>\n      <td>1</td>\n      <td>58</td>\n      <td>2.442347</td>\n    </tr>\n    <tr>\n      <th>382</th>\n      <td>C</td>\n      <td>8</td>\n      <td>Miss</td>\n      <td>1</td>\n      <td>Small</td>\n      <td>0</td>\n      <td>3</td>\n      <td>0.939301</td>\n    </tr>\n    <tr>\n      <th>224</th>\n      <td>S</td>\n      <td>8</td>\n      <td>Mr</td>\n      <td>0</td>\n      <td>Solo</td>\n      <td>1</td>\n      <td>54</td>\n      <td>2.185579</td>\n    </tr>\n    <tr>\n      <th>630</th>\n      <td>Q</td>\n      <td>8</td>\n      <td>Mr</td>\n      <td>0</td>\n      <td>Solo</td>\n      <td>1</td>\n      <td>84</td>\n      <td>2.167143</td>\n    </tr>\n    <tr>\n      <th>338</th>\n      <td>C</td>\n      <td>5</td>\n      <td>Miss</td>\n      <td>1</td>\n      <td>Solo</td>\n      <td>1</td>\n      <td>41</td>\n      <td>4.908972</td>\n    </tr>\n    <tr>\n      <th>...</th>\n      <td>...</td>\n      <td>...</td>\n      <td>...</td>\n      <td>...</td>\n      <td>...</td>\n      <td>...</td>\n      <td>...</td>\n      <td>...</td>\n    </tr>\n    <tr>\n      <th>407</th>\n      <td>S</td>\n      <td>8</td>\n      <td>Mr</td>\n      <td>0</td>\n      <td>Solo</td>\n      <td>1</td>\n      <td>153</td>\n      <td>2.169054</td>\n    </tr>\n    <tr>\n      <th>391</th>\n      <td>S</td>\n      <td>2</td>\n      <td>Mr</td>\n      <td>0</td>\n      <td>Small</td>\n      <td>0</td>\n      <td>36</td>\n      <td>1.198948</td>\n    </tr>\n    <tr>\n      <th>144</th>\n      <td>Q</td>\n      <td>8</td>\n      <td>Mr</td>\n      <td>0</td>\n      <td>Solo</td>\n      <td>1</td>\n      <td>57</td>\n      <td>2.047693</td>\n    </tr>\n    <tr>\n      <th>242</th>\n      <td>Q</td>\n      <td>8</td>\n      <td>Miss</td>\n      <td>1</td>\n      <td>Small</td>\n      <td>0</td>\n      <td>54</td>\n      <td>1.40168</td>\n    </tr>\n    <tr>\n      <th>624</th>\n      <td>S</td>\n      <td>8</td>\n      <td>Mr</td>\n      <td>0</td>\n      <td>Solo</td>\n      <td>1</td>\n      <td>63</td>\n      <td>2.180892</td>\n    </tr>\n  </tbody>\n</table>\n<p>623 rows × 8 columns</p>\n</div>"
     },
     "execution_count": 18,
     "metadata": {},
     "output_type": "execute_result"
    }
   ],
   "source": [
    "X_train"
   ],
   "metadata": {
    "collapsed": false,
    "ExecuteTime": {
     "end_time": "2024-03-18T00:08:18.964770Z",
     "start_time": "2024-03-18T00:08:18.954441Z"
    }
   },
   "id": "440341c693d677f8",
   "execution_count": 18
  },
  {
   "cell_type": "markdown",
   "source": [
    "### Encode all Labels to String in order to pass through the GBM model"
   ],
   "metadata": {
    "collapsed": false
   },
   "id": "d79ef93bb1e9aec8"
  },
  {
   "cell_type": "code",
   "outputs": [
    {
     "data": {
      "text/plain": "             Embarked  Deck  Title  Sex  Fam_type  IsAlone  Age*Class  \\\nPassengerId                                                             \n67                  2     5      3    1         2        1         52   \n382                 0     7      1    1         1        0          2   \n224                 2     7      2    0         2        1         48   \n630                 1     7      2    0         2        1         70   \n338                 0     4      1    1         2        1         35   \n...               ...   ...    ...  ...       ...      ...        ...   \n407                 2     7      2    0         2        1         97   \n391                 2     1      2    0         1        0         30   \n144                 1     7      2    0         2        1         51   \n242                 1     7      1    1         1        0         48   \n624                 2     7      2    0         2        1         56   \n\n             Fare_Per_Person  \nPassengerId                   \n67                       179  \n382                       31  \n224                      148  \n630                      135  \n338                      247  \n...                      ...  \n407                      137  \n391                       61  \n144                      112  \n242                       73  \n624                      144  \n\n[623 rows x 8 columns]",
      "text/html": "<div>\n<style scoped>\n    .dataframe tbody tr th:only-of-type {\n        vertical-align: middle;\n    }\n\n    .dataframe tbody tr th {\n        vertical-align: top;\n    }\n\n    .dataframe thead th {\n        text-align: right;\n    }\n</style>\n<table border=\"1\" class=\"dataframe\">\n  <thead>\n    <tr style=\"text-align: right;\">\n      <th></th>\n      <th>Embarked</th>\n      <th>Deck</th>\n      <th>Title</th>\n      <th>Sex</th>\n      <th>Fam_type</th>\n      <th>IsAlone</th>\n      <th>Age*Class</th>\n      <th>Fare_Per_Person</th>\n    </tr>\n    <tr>\n      <th>PassengerId</th>\n      <th></th>\n      <th></th>\n      <th></th>\n      <th></th>\n      <th></th>\n      <th></th>\n      <th></th>\n      <th></th>\n    </tr>\n  </thead>\n  <tbody>\n    <tr>\n      <th>67</th>\n      <td>2</td>\n      <td>5</td>\n      <td>3</td>\n      <td>1</td>\n      <td>2</td>\n      <td>1</td>\n      <td>52</td>\n      <td>179</td>\n    </tr>\n    <tr>\n      <th>382</th>\n      <td>0</td>\n      <td>7</td>\n      <td>1</td>\n      <td>1</td>\n      <td>1</td>\n      <td>0</td>\n      <td>2</td>\n      <td>31</td>\n    </tr>\n    <tr>\n      <th>224</th>\n      <td>2</td>\n      <td>7</td>\n      <td>2</td>\n      <td>0</td>\n      <td>2</td>\n      <td>1</td>\n      <td>48</td>\n      <td>148</td>\n    </tr>\n    <tr>\n      <th>630</th>\n      <td>1</td>\n      <td>7</td>\n      <td>2</td>\n      <td>0</td>\n      <td>2</td>\n      <td>1</td>\n      <td>70</td>\n      <td>135</td>\n    </tr>\n    <tr>\n      <th>338</th>\n      <td>0</td>\n      <td>4</td>\n      <td>1</td>\n      <td>1</td>\n      <td>2</td>\n      <td>1</td>\n      <td>35</td>\n      <td>247</td>\n    </tr>\n    <tr>\n      <th>...</th>\n      <td>...</td>\n      <td>...</td>\n      <td>...</td>\n      <td>...</td>\n      <td>...</td>\n      <td>...</td>\n      <td>...</td>\n      <td>...</td>\n    </tr>\n    <tr>\n      <th>407</th>\n      <td>2</td>\n      <td>7</td>\n      <td>2</td>\n      <td>0</td>\n      <td>2</td>\n      <td>1</td>\n      <td>97</td>\n      <td>137</td>\n    </tr>\n    <tr>\n      <th>391</th>\n      <td>2</td>\n      <td>1</td>\n      <td>2</td>\n      <td>0</td>\n      <td>1</td>\n      <td>0</td>\n      <td>30</td>\n      <td>61</td>\n    </tr>\n    <tr>\n      <th>144</th>\n      <td>1</td>\n      <td>7</td>\n      <td>2</td>\n      <td>0</td>\n      <td>2</td>\n      <td>1</td>\n      <td>51</td>\n      <td>112</td>\n    </tr>\n    <tr>\n      <th>242</th>\n      <td>1</td>\n      <td>7</td>\n      <td>1</td>\n      <td>1</td>\n      <td>1</td>\n      <td>0</td>\n      <td>48</td>\n      <td>73</td>\n    </tr>\n    <tr>\n      <th>624</th>\n      <td>2</td>\n      <td>7</td>\n      <td>2</td>\n      <td>0</td>\n      <td>2</td>\n      <td>1</td>\n      <td>56</td>\n      <td>144</td>\n    </tr>\n  </tbody>\n</table>\n<p>623 rows × 8 columns</p>\n</div>"
     },
     "execution_count": 19,
     "metadata": {},
     "output_type": "execute_result"
    }
   ],
   "source": [
    "X_train = X_train.apply(LabelEncoder().fit_transform)\n",
    "X_test = X_test.apply(LabelEncoder().fit_transform)\n",
    "to_test = to_test.apply(LabelEncoder().fit_transform)\n",
    "X_train"
   ],
   "metadata": {
    "collapsed": false,
    "ExecuteTime": {
     "end_time": "2024-03-18T00:08:24.567084Z",
     "start_time": "2024-03-18T00:08:24.553945Z"
    }
   },
   "id": "ea4249e0dc9aa4f2",
   "execution_count": 19
  },
  {
   "cell_type": "markdown",
   "source": [
    "### Cross-Fold Validation"
   ],
   "metadata": {
    "collapsed": false
   },
   "id": "e264278da47f49c2"
  },
  {
   "cell_type": "code",
   "outputs": [],
   "source": [
    "xgb_classifier = XGBClassifier() # classifier used to tune hyperparameters\n",
    "\n",
    "def objective(trial):\n",
    "    param = {\n",
    "        'verbosity': 0,\n",
    "        'objective': 'binary:logistic',\n",
    "        'eval_metric': 'logloss',\n",
    "        'learning_rate': trial.suggest_float('learning_rate', 0.01, 0.2),  # More conservative learning rate\n",
    "        'n_estimators': trial.suggest_int('n_estimators', 100, 600),  # Fewer estimators\n",
    "        'max_depth': trial.suggest_int('max_depth', 3, 7),  # Shallower trees\n",
    "        'min_child_weight': trial.suggest_int('min_child_weight', 1, 10),\n",
    "        'subsample': trial.suggest_float('subsample', 0.5, 0.9),  # Less aggressive subsampling\n",
    "        'colsample_bytree': trial.suggest_float('colsample_bytree', 0.5, 0.9),  # Feature subsampling\n",
    "        'gamma': trial.suggest_float('gamma', 0.0, 5.0),  # Additional regularization\n",
    "        'reg_alpha': trial.suggest_loguniform('reg_alpha', 1e-5, 10.0),  # More range for L1 regularization\n",
    "        'reg_lambda': trial.suggest_loguniform('reg_lambda', 1e-5, 10.0),  # More range for L2 regularization\n",
    "    }\n",
    "\n",
    "    model = xgb.XGBClassifier(**param)\n",
    "    \n",
    "    cv = StratifiedKFold(n_splits=5, shuffle=True, random_state=42)  # Ensuring reproducibility\n",
    "    scores = cross_val_score(model, X_train, y_train, cv=cv, scoring='accuracy', n_jobs=-1)\n",
    "    \n",
    "    return scores.mean()\n"
   ],
   "metadata": {
    "collapsed": false,
    "ExecuteTime": {
     "end_time": "2024-03-18T00:08:26.574347Z",
     "start_time": "2024-03-18T00:08:26.568980Z"
    }
   },
   "id": "eb7c96151e8b9c70",
   "execution_count": 20
  },
  {
   "cell_type": "code",
   "outputs": [
    {
     "name": "stderr",
     "output_type": "stream",
     "text": [
      "[I 2024-03-18 01:08:27,206] A new study created in memory with name: no-name-9b226244-f26c-4b22-bfcd-0a0ae7a99ab2\n",
      "C:\\Users\\dlesha\\AppData\\Local\\Temp\\ipykernel_13400\\2903819095.py:15: FutureWarning: suggest_loguniform has been deprecated in v3.0.0. This feature will be removed in v6.0.0. See https://github.com/optuna/optuna/releases/tag/v3.0.0. Use suggest_float(..., log=True) instead.\n",
      "  'reg_alpha': trial.suggest_loguniform('reg_alpha', 1e-5, 10.0),  # More range for L1 regularization\n",
      "C:\\Users\\dlesha\\AppData\\Local\\Temp\\ipykernel_13400\\2903819095.py:16: FutureWarning: suggest_loguniform has been deprecated in v3.0.0. This feature will be removed in v6.0.0. See https://github.com/optuna/optuna/releases/tag/v3.0.0. Use suggest_float(..., log=True) instead.\n",
      "  'reg_lambda': trial.suggest_loguniform('reg_lambda', 1e-5, 10.0),  # More range for L2 regularization\n",
      "[I 2024-03-18 01:08:29,777] Trial 0 finished with value: 0.8089806451612903 and parameters: {'learning_rate': 0.15140206800105233, 'n_estimators': 409, 'max_depth': 6, 'min_child_weight': 7, 'subsample': 0.7984579902622153, 'colsample_bytree': 0.619660811856102, 'gamma': 4.791201494717587, 'reg_alpha': 6.232040389204554, 'reg_lambda': 1.2023131065242782e-05}. Best is trial 0 with value: 0.8089806451612903.\n",
      "C:\\Users\\dlesha\\AppData\\Local\\Temp\\ipykernel_13400\\2903819095.py:15: FutureWarning: suggest_loguniform has been deprecated in v3.0.0. This feature will be removed in v6.0.0. See https://github.com/optuna/optuna/releases/tag/v3.0.0. Use suggest_float(..., log=True) instead.\n",
      "  'reg_alpha': trial.suggest_loguniform('reg_alpha', 1e-5, 10.0),  # More range for L1 regularization\n",
      "C:\\Users\\dlesha\\AppData\\Local\\Temp\\ipykernel_13400\\2903819095.py:16: FutureWarning: suggest_loguniform has been deprecated in v3.0.0. This feature will be removed in v6.0.0. See https://github.com/optuna/optuna/releases/tag/v3.0.0. Use suggest_float(..., log=True) instead.\n",
      "  'reg_lambda': trial.suggest_loguniform('reg_lambda', 1e-5, 10.0),  # More range for L2 regularization\n",
      "[I 2024-03-18 01:08:30,888] Trial 1 finished with value: 0.8009161290322581 and parameters: {'learning_rate': 0.045917167788515977, 'n_estimators': 435, 'max_depth': 6, 'min_child_weight': 9, 'subsample': 0.5146530210033089, 'colsample_bytree': 0.5019242377885653, 'gamma': 3.705382579245719, 'reg_alpha': 9.753066203808917e-05, 'reg_lambda': 0.11687443013406157}. Best is trial 0 with value: 0.8089806451612903.\n",
      "C:\\Users\\dlesha\\AppData\\Local\\Temp\\ipykernel_13400\\2903819095.py:15: FutureWarning: suggest_loguniform has been deprecated in v3.0.0. This feature will be removed in v6.0.0. See https://github.com/optuna/optuna/releases/tag/v3.0.0. Use suggest_float(..., log=True) instead.\n",
      "  'reg_alpha': trial.suggest_loguniform('reg_alpha', 1e-5, 10.0),  # More range for L1 regularization\n",
      "C:\\Users\\dlesha\\AppData\\Local\\Temp\\ipykernel_13400\\2903819095.py:16: FutureWarning: suggest_loguniform has been deprecated in v3.0.0. This feature will be removed in v6.0.0. See https://github.com/optuna/optuna/releases/tag/v3.0.0. Use suggest_float(..., log=True) instead.\n",
      "  'reg_lambda': trial.suggest_loguniform('reg_lambda', 1e-5, 10.0),  # More range for L2 regularization\n",
      "[I 2024-03-18 01:08:32,012] Trial 2 finished with value: 0.8058064516129033 and parameters: {'learning_rate': 0.12364803056603582, 'n_estimators': 273, 'max_depth': 7, 'min_child_weight': 1, 'subsample': 0.5614560258839104, 'colsample_bytree': 0.6617661861458787, 'gamma': 2.8945776513780093, 'reg_alpha': 0.05127352232921537, 'reg_lambda': 0.00022324884934627587}. Best is trial 0 with value: 0.8089806451612903.\n",
      "C:\\Users\\dlesha\\AppData\\Local\\Temp\\ipykernel_13400\\2903819095.py:15: FutureWarning: suggest_loguniform has been deprecated in v3.0.0. This feature will be removed in v6.0.0. See https://github.com/optuna/optuna/releases/tag/v3.0.0. Use suggest_float(..., log=True) instead.\n",
      "  'reg_alpha': trial.suggest_loguniform('reg_alpha', 1e-5, 10.0),  # More range for L1 regularization\n",
      "C:\\Users\\dlesha\\AppData\\Local\\Temp\\ipykernel_13400\\2903819095.py:16: FutureWarning: suggest_loguniform has been deprecated in v3.0.0. This feature will be removed in v6.0.0. See https://github.com/optuna/optuna/releases/tag/v3.0.0. Use suggest_float(..., log=True) instead.\n",
      "  'reg_lambda': trial.suggest_loguniform('reg_lambda', 1e-5, 10.0),  # More range for L2 regularization\n",
      "[I 2024-03-18 01:08:33,210] Trial 3 finished with value: 0.8137806451612903 and parameters: {'learning_rate': 0.10849875573395198, 'n_estimators': 287, 'max_depth': 6, 'min_child_weight': 4, 'subsample': 0.7701922111965465, 'colsample_bytree': 0.6408318786875871, 'gamma': 3.1994852755100607, 'reg_alpha': 0.02979958319396392, 'reg_lambda': 0.0002806297663124155}. Best is trial 3 with value: 0.8137806451612903.\n",
      "C:\\Users\\dlesha\\AppData\\Local\\Temp\\ipykernel_13400\\2903819095.py:15: FutureWarning: suggest_loguniform has been deprecated in v3.0.0. This feature will be removed in v6.0.0. See https://github.com/optuna/optuna/releases/tag/v3.0.0. Use suggest_float(..., log=True) instead.\n",
      "  'reg_alpha': trial.suggest_loguniform('reg_alpha', 1e-5, 10.0),  # More range for L1 regularization\n",
      "C:\\Users\\dlesha\\AppData\\Local\\Temp\\ipykernel_13400\\2903819095.py:16: FutureWarning: suggest_loguniform has been deprecated in v3.0.0. This feature will be removed in v6.0.0. See https://github.com/optuna/optuna/releases/tag/v3.0.0. Use suggest_float(..., log=True) instead.\n",
      "  'reg_lambda': trial.suggest_loguniform('reg_lambda', 1e-5, 10.0),  # More range for L2 regularization\n",
      "[I 2024-03-18 01:08:33,334] Trial 4 finished with value: 0.8282967741935485 and parameters: {'learning_rate': 0.05509062471144924, 'n_estimators': 365, 'max_depth': 5, 'min_child_weight': 1, 'subsample': 0.5067133440343655, 'colsample_bytree': 0.5213008053202756, 'gamma': 1.109820112777446, 'reg_alpha': 2.913800675554484, 'reg_lambda': 0.005844932516788149}. Best is trial 4 with value: 0.8282967741935485.\n",
      "C:\\Users\\dlesha\\AppData\\Local\\Temp\\ipykernel_13400\\2903819095.py:15: FutureWarning: suggest_loguniform has been deprecated in v3.0.0. This feature will be removed in v6.0.0. See https://github.com/optuna/optuna/releases/tag/v3.0.0. Use suggest_float(..., log=True) instead.\n",
      "  'reg_alpha': trial.suggest_loguniform('reg_alpha', 1e-5, 10.0),  # More range for L1 regularization\n",
      "C:\\Users\\dlesha\\AppData\\Local\\Temp\\ipykernel_13400\\2903819095.py:16: FutureWarning: suggest_loguniform has been deprecated in v3.0.0. This feature will be removed in v6.0.0. See https://github.com/optuna/optuna/releases/tag/v3.0.0. Use suggest_float(..., log=True) instead.\n",
      "  'reg_lambda': trial.suggest_loguniform('reg_lambda', 1e-5, 10.0),  # More range for L2 regularization\n",
      "[I 2024-03-18 01:08:33,394] Trial 5 finished with value: 0.8266709677419355 and parameters: {'learning_rate': 0.18767894771036658, 'n_estimators': 137, 'max_depth': 7, 'min_child_weight': 8, 'subsample': 0.8194792778958375, 'colsample_bytree': 0.6428497936030441, 'gamma': 3.0659531707214494, 'reg_alpha': 0.0011239256773824756, 'reg_lambda': 0.012813607348575324}. Best is trial 4 with value: 0.8282967741935485.\n",
      "C:\\Users\\dlesha\\AppData\\Local\\Temp\\ipykernel_13400\\2903819095.py:15: FutureWarning: suggest_loguniform has been deprecated in v3.0.0. This feature will be removed in v6.0.0. See https://github.com/optuna/optuna/releases/tag/v3.0.0. Use suggest_float(..., log=True) instead.\n",
      "  'reg_alpha': trial.suggest_loguniform('reg_alpha', 1e-5, 10.0),  # More range for L1 regularization\n",
      "C:\\Users\\dlesha\\AppData\\Local\\Temp\\ipykernel_13400\\2903819095.py:16: FutureWarning: suggest_loguniform has been deprecated in v3.0.0. This feature will be removed in v6.0.0. See https://github.com/optuna/optuna/releases/tag/v3.0.0. Use suggest_float(..., log=True) instead.\n",
      "  'reg_lambda': trial.suggest_loguniform('reg_lambda', 1e-5, 10.0),  # More range for L2 regularization\n",
      "[I 2024-03-18 01:08:33,542] Trial 6 finished with value: 0.8186193548387097 and parameters: {'learning_rate': 0.0374995215105844, 'n_estimators': 409, 'max_depth': 3, 'min_child_weight': 10, 'subsample': 0.8951750240730061, 'colsample_bytree': 0.8759618958045017, 'gamma': 0.2321491694998501, 'reg_alpha': 0.00011106875750264748, 'reg_lambda': 0.04068851839106144}. Best is trial 4 with value: 0.8282967741935485.\n",
      "C:\\Users\\dlesha\\AppData\\Local\\Temp\\ipykernel_13400\\2903819095.py:15: FutureWarning: suggest_loguniform has been deprecated in v3.0.0. This feature will be removed in v6.0.0. See https://github.com/optuna/optuna/releases/tag/v3.0.0. Use suggest_float(..., log=True) instead.\n",
      "  'reg_alpha': trial.suggest_loguniform('reg_alpha', 1e-5, 10.0),  # More range for L1 regularization\n",
      "C:\\Users\\dlesha\\AppData\\Local\\Temp\\ipykernel_13400\\2903819095.py:16: FutureWarning: suggest_loguniform has been deprecated in v3.0.0. This feature will be removed in v6.0.0. See https://github.com/optuna/optuna/releases/tag/v3.0.0. Use suggest_float(..., log=True) instead.\n",
      "  'reg_lambda': trial.suggest_loguniform('reg_lambda', 1e-5, 10.0),  # More range for L2 regularization\n",
      "[I 2024-03-18 01:08:33,617] Trial 7 finished with value: 0.8041935483870969 and parameters: {'learning_rate': 0.014948234551166707, 'n_estimators': 111, 'max_depth': 4, 'min_child_weight': 6, 'subsample': 0.6432094136905482, 'colsample_bytree': 0.8623705011159413, 'gamma': 4.557909987527972, 'reg_alpha': 0.0032971791879906702, 'reg_lambda': 2.5216495202245987e-05}. Best is trial 4 with value: 0.8282967741935485.\n",
      "C:\\Users\\dlesha\\AppData\\Local\\Temp\\ipykernel_13400\\2903819095.py:15: FutureWarning: suggest_loguniform has been deprecated in v3.0.0. This feature will be removed in v6.0.0. See https://github.com/optuna/optuna/releases/tag/v3.0.0. Use suggest_float(..., log=True) instead.\n",
      "  'reg_alpha': trial.suggest_loguniform('reg_alpha', 1e-5, 10.0),  # More range for L1 regularization\n",
      "C:\\Users\\dlesha\\AppData\\Local\\Temp\\ipykernel_13400\\2903819095.py:16: FutureWarning: suggest_loguniform has been deprecated in v3.0.0. This feature will be removed in v6.0.0. See https://github.com/optuna/optuna/releases/tag/v3.0.0. Use suggest_float(..., log=True) instead.\n",
      "  'reg_lambda': trial.suggest_loguniform('reg_lambda', 1e-5, 10.0),  # More range for L2 regularization\n",
      "[I 2024-03-18 01:08:33,703] Trial 8 finished with value: 0.8138064516129031 and parameters: {'learning_rate': 0.03845447599548535, 'n_estimators': 176, 'max_depth': 7, 'min_child_weight': 7, 'subsample': 0.7989277530224952, 'colsample_bytree': 0.5279311768444107, 'gamma': 2.6312002409345077, 'reg_alpha': 2.129724597392449, 'reg_lambda': 5.889782975689311}. Best is trial 4 with value: 0.8282967741935485.\n",
      "C:\\Users\\dlesha\\AppData\\Local\\Temp\\ipykernel_13400\\2903819095.py:15: FutureWarning: suggest_loguniform has been deprecated in v3.0.0. This feature will be removed in v6.0.0. See https://github.com/optuna/optuna/releases/tag/v3.0.0. Use suggest_float(..., log=True) instead.\n",
      "  'reg_alpha': trial.suggest_loguniform('reg_alpha', 1e-5, 10.0),  # More range for L1 regularization\n",
      "C:\\Users\\dlesha\\AppData\\Local\\Temp\\ipykernel_13400\\2903819095.py:16: FutureWarning: suggest_loguniform has been deprecated in v3.0.0. This feature will be removed in v6.0.0. See https://github.com/optuna/optuna/releases/tag/v3.0.0. Use suggest_float(..., log=True) instead.\n",
      "  'reg_lambda': trial.suggest_loguniform('reg_lambda', 1e-5, 10.0),  # More range for L2 regularization\n",
      "[I 2024-03-18 01:08:33,845] Trial 9 finished with value: 0.8042064516129033 and parameters: {'learning_rate': 0.16797819500784603, 'n_estimators': 463, 'max_depth': 3, 'min_child_weight': 3, 'subsample': 0.8507928029295456, 'colsample_bytree': 0.5339835581497892, 'gamma': 1.0720367774417898, 'reg_alpha': 0.3596075388965418, 'reg_lambda': 0.16956507105628868}. Best is trial 4 with value: 0.8282967741935485.\n",
      "C:\\Users\\dlesha\\AppData\\Local\\Temp\\ipykernel_13400\\2903819095.py:15: FutureWarning: suggest_loguniform has been deprecated in v3.0.0. This feature will be removed in v6.0.0. See https://github.com/optuna/optuna/releases/tag/v3.0.0. Use suggest_float(..., log=True) instead.\n",
      "  'reg_alpha': trial.suggest_loguniform('reg_alpha', 1e-5, 10.0),  # More range for L1 regularization\n",
      "C:\\Users\\dlesha\\AppData\\Local\\Temp\\ipykernel_13400\\2903819095.py:16: FutureWarning: suggest_loguniform has been deprecated in v3.0.0. This feature will be removed in v6.0.0. See https://github.com/optuna/optuna/releases/tag/v3.0.0. Use suggest_float(..., log=True) instead.\n",
      "  'reg_lambda': trial.suggest_loguniform('reg_lambda', 1e-5, 10.0),  # More range for L2 regularization\n",
      "[I 2024-03-18 01:08:34,133] Trial 10 finished with value: 0.812258064516129 and parameters: {'learning_rate': 0.0815522637164025, 'n_estimators': 542, 'max_depth': 5, 'min_child_weight': 1, 'subsample': 0.6538046017453021, 'colsample_bytree': 0.7599431159722149, 'gamma': 1.4187500755273026, 'reg_alpha': 0.4994837493223786, 'reg_lambda': 0.0014982229623592067}. Best is trial 4 with value: 0.8282967741935485.\n",
      "C:\\Users\\dlesha\\AppData\\Local\\Temp\\ipykernel_13400\\2903819095.py:15: FutureWarning: suggest_loguniform has been deprecated in v3.0.0. This feature will be removed in v6.0.0. See https://github.com/optuna/optuna/releases/tag/v3.0.0. Use suggest_float(..., log=True) instead.\n",
      "  'reg_alpha': trial.suggest_loguniform('reg_alpha', 1e-5, 10.0),  # More range for L1 regularization\n",
      "C:\\Users\\dlesha\\AppData\\Local\\Temp\\ipykernel_13400\\2903819095.py:16: FutureWarning: suggest_loguniform has been deprecated in v3.0.0. This feature will be removed in v6.0.0. See https://github.com/optuna/optuna/releases/tag/v3.0.0. Use suggest_float(..., log=True) instead.\n",
      "  'reg_lambda': trial.suggest_loguniform('reg_lambda', 1e-5, 10.0),  # More range for L2 regularization\n",
      "[I 2024-03-18 01:08:34,275] Trial 11 finished with value: 0.8073677419354839 and parameters: {'learning_rate': 0.19871360572472999, 'n_estimators': 267, 'max_depth': 5, 'min_child_weight': 8, 'subsample': 0.7140369482550669, 'colsample_bytree': 0.7337021638741129, 'gamma': 1.9530223280634789, 'reg_alpha': 0.001239599132736361, 'reg_lambda': 0.0050204208919599185}. Best is trial 4 with value: 0.8282967741935485.\n",
      "C:\\Users\\dlesha\\AppData\\Local\\Temp\\ipykernel_13400\\2903819095.py:15: FutureWarning: suggest_loguniform has been deprecated in v3.0.0. This feature will be removed in v6.0.0. See https://github.com/optuna/optuna/releases/tag/v3.0.0. Use suggest_float(..., log=True) instead.\n",
      "  'reg_alpha': trial.suggest_loguniform('reg_alpha', 1e-5, 10.0),  # More range for L1 regularization\n",
      "C:\\Users\\dlesha\\AppData\\Local\\Temp\\ipykernel_13400\\2903819095.py:16: FutureWarning: suggest_loguniform has been deprecated in v3.0.0. This feature will be removed in v6.0.0. See https://github.com/optuna/optuna/releases/tag/v3.0.0. Use suggest_float(..., log=True) instead.\n",
      "  'reg_lambda': trial.suggest_loguniform('reg_lambda', 1e-5, 10.0),  # More range for L2 regularization\n",
      "[I 2024-03-18 01:08:34,451] Trial 12 finished with value: 0.7961806451612904 and parameters: {'learning_rate': 0.07661106034276616, 'n_estimators': 334, 'max_depth': 4, 'min_child_weight': 4, 'subsample': 0.5954248965635487, 'colsample_bytree': 0.5823082267977081, 'gamma': 0.24021572706670824, 'reg_alpha': 0.0007003768546454933, 'reg_lambda': 0.9608548093499574}. Best is trial 4 with value: 0.8282967741935485.\n",
      "C:\\Users\\dlesha\\AppData\\Local\\Temp\\ipykernel_13400\\2903819095.py:15: FutureWarning: suggest_loguniform has been deprecated in v3.0.0. This feature will be removed in v6.0.0. See https://github.com/optuna/optuna/releases/tag/v3.0.0. Use suggest_float(..., log=True) instead.\n",
      "  'reg_alpha': trial.suggest_loguniform('reg_alpha', 1e-5, 10.0),  # More range for L1 regularization\n",
      "C:\\Users\\dlesha\\AppData\\Local\\Temp\\ipykernel_13400\\2903819095.py:16: FutureWarning: suggest_loguniform has been deprecated in v3.0.0. This feature will be removed in v6.0.0. See https://github.com/optuna/optuna/releases/tag/v3.0.0. Use suggest_float(..., log=True) instead.\n",
      "  'reg_lambda': trial.suggest_loguniform('reg_lambda', 1e-5, 10.0),  # More range for L2 regularization\n",
      "[I 2024-03-18 01:08:34,588] Trial 13 finished with value: 0.792941935483871 and parameters: {'learning_rate': 0.19792957414023804, 'n_estimators': 198, 'max_depth': 4, 'min_child_weight': 5, 'subsample': 0.7437898221068867, 'colsample_bytree': 0.8057891366764678, 'gamma': 2.0484133476739643, 'reg_alpha': 1.3021393158339138e-05, 'reg_lambda': 0.009526879759796299}. Best is trial 4 with value: 0.8282967741935485.\n",
      "C:\\Users\\dlesha\\AppData\\Local\\Temp\\ipykernel_13400\\2903819095.py:15: FutureWarning: suggest_loguniform has been deprecated in v3.0.0. This feature will be removed in v6.0.0. See https://github.com/optuna/optuna/releases/tag/v3.0.0. Use suggest_float(..., log=True) instead.\n",
      "  'reg_alpha': trial.suggest_loguniform('reg_alpha', 1e-5, 10.0),  # More range for L1 regularization\n",
      "C:\\Users\\dlesha\\AppData\\Local\\Temp\\ipykernel_13400\\2903819095.py:16: FutureWarning: suggest_loguniform has been deprecated in v3.0.0. This feature will be removed in v6.0.0. See https://github.com/optuna/optuna/releases/tag/v3.0.0. Use suggest_float(..., log=True) instead.\n",
      "  'reg_lambda': trial.suggest_loguniform('reg_lambda', 1e-5, 10.0),  # More range for L2 regularization\n",
      "[I 2024-03-18 01:08:34,859] Trial 14 finished with value: 0.8266451612903225 and parameters: {'learning_rate': 0.0752413041430985, 'n_estimators': 530, 'max_depth': 6, 'min_child_weight': 2, 'subsample': 0.6643137396652775, 'colsample_bytree': 0.5789340471995112, 'gamma': 3.8121139451499735, 'reg_alpha': 0.014457554675023389, 'reg_lambda': 0.0007081803109659793}. Best is trial 4 with value: 0.8282967741935485.\n",
      "C:\\Users\\dlesha\\AppData\\Local\\Temp\\ipykernel_13400\\2903819095.py:15: FutureWarning: suggest_loguniform has been deprecated in v3.0.0. This feature will be removed in v6.0.0. See https://github.com/optuna/optuna/releases/tag/v3.0.0. Use suggest_float(..., log=True) instead.\n",
      "  'reg_alpha': trial.suggest_loguniform('reg_alpha', 1e-5, 10.0),  # More range for L1 regularization\n",
      "C:\\Users\\dlesha\\AppData\\Local\\Temp\\ipykernel_13400\\2903819095.py:16: FutureWarning: suggest_loguniform has been deprecated in v3.0.0. This feature will be removed in v6.0.0. See https://github.com/optuna/optuna/releases/tag/v3.0.0. Use suggest_float(..., log=True) instead.\n",
      "  'reg_lambda': trial.suggest_loguniform('reg_lambda', 1e-5, 10.0),  # More range for L2 regularization\n",
      "[I 2024-03-18 01:08:35,024] Trial 15 finished with value: 0.8041935483870969 and parameters: {'learning_rate': 0.13902973702659593, 'n_estimators': 337, 'max_depth': 7, 'min_child_weight': 10, 'subsample': 0.8378209042880369, 'colsample_bytree': 0.704215458548254, 'gamma': 1.0312688311760163, 'reg_alpha': 0.10793299108649503, 'reg_lambda': 0.03079847651232759}. Best is trial 4 with value: 0.8282967741935485.\n",
      "C:\\Users\\dlesha\\AppData\\Local\\Temp\\ipykernel_13400\\2903819095.py:15: FutureWarning: suggest_loguniform has been deprecated in v3.0.0. This feature will be removed in v6.0.0. See https://github.com/optuna/optuna/releases/tag/v3.0.0. Use suggest_float(..., log=True) instead.\n",
      "  'reg_alpha': trial.suggest_loguniform('reg_alpha', 1e-5, 10.0),  # More range for L1 regularization\n",
      "C:\\Users\\dlesha\\AppData\\Local\\Temp\\ipykernel_13400\\2903819095.py:16: FutureWarning: suggest_loguniform has been deprecated in v3.0.0. This feature will be removed in v6.0.0. See https://github.com/optuna/optuna/releases/tag/v3.0.0. Use suggest_float(..., log=True) instead.\n",
      "  'reg_lambda': trial.suggest_loguniform('reg_lambda', 1e-5, 10.0),  # More range for L2 regularization\n",
      "[I 2024-03-18 01:08:35,148] Trial 16 finished with value: 0.799367741935484 and parameters: {'learning_rate': 0.17201711811072562, 'n_estimators': 204, 'max_depth': 5, 'min_child_weight': 8, 'subsample': 0.5363687508296137, 'colsample_bytree': 0.5803365231258152, 'gamma': 1.8033911606496091, 'reg_alpha': 0.00469834652837487, 'reg_lambda': 0.003123105826712694}. Best is trial 4 with value: 0.8282967741935485.\n",
      "C:\\Users\\dlesha\\AppData\\Local\\Temp\\ipykernel_13400\\2903819095.py:15: FutureWarning: suggest_loguniform has been deprecated in v3.0.0. This feature will be removed in v6.0.0. See https://github.com/optuna/optuna/releases/tag/v3.0.0. Use suggest_float(..., log=True) instead.\n",
      "  'reg_alpha': trial.suggest_loguniform('reg_alpha', 1e-5, 10.0),  # More range for L1 regularization\n",
      "C:\\Users\\dlesha\\AppData\\Local\\Temp\\ipykernel_13400\\2903819095.py:16: FutureWarning: suggest_loguniform has been deprecated in v3.0.0. This feature will be removed in v6.0.0. See https://github.com/optuna/optuna/releases/tag/v3.0.0. Use suggest_float(..., log=True) instead.\n",
      "  'reg_lambda': trial.suggest_loguniform('reg_lambda', 1e-5, 10.0),  # More range for L2 regularization\n",
      "[I 2024-03-18 01:08:35,258] Trial 17 finished with value: 0.8201935483870967 and parameters: {'learning_rate': 0.09425957043229079, 'n_estimators': 132, 'max_depth': 4, 'min_child_weight': 6, 'subsample': 0.5856424040609514, 'colsample_bytree': 0.668946346618196, 'gamma': 3.4606019020133756, 'reg_alpha': 0.00021716831656197035, 'reg_lambda': 0.49010011689467203}. Best is trial 4 with value: 0.8282967741935485.\n",
      "C:\\Users\\dlesha\\AppData\\Local\\Temp\\ipykernel_13400\\2903819095.py:15: FutureWarning: suggest_loguniform has been deprecated in v3.0.0. This feature will be removed in v6.0.0. See https://github.com/optuna/optuna/releases/tag/v3.0.0. Use suggest_float(..., log=True) instead.\n",
      "  'reg_alpha': trial.suggest_loguniform('reg_alpha', 1e-5, 10.0),  # More range for L1 regularization\n",
      "C:\\Users\\dlesha\\AppData\\Local\\Temp\\ipykernel_13400\\2903819095.py:16: FutureWarning: suggest_loguniform has been deprecated in v3.0.0. This feature will be removed in v6.0.0. See https://github.com/optuna/optuna/releases/tag/v3.0.0. Use suggest_float(..., log=True) instead.\n",
      "  'reg_lambda': trial.suggest_loguniform('reg_lambda', 1e-5, 10.0),  # More range for L2 regularization\n",
      "[I 2024-03-18 01:08:35,458] Trial 18 finished with value: 0.820232258064516 and parameters: {'learning_rate': 0.05836721312064027, 'n_estimators': 368, 'max_depth': 6, 'min_child_weight': 3, 'subsample': 0.6936245733999289, 'colsample_bytree': 0.6050546531026388, 'gamma': 2.381124492777097, 'reg_alpha': 0.3366326360207885, 'reg_lambda': 0.024565459995990118}. Best is trial 4 with value: 0.8282967741935485.\n",
      "C:\\Users\\dlesha\\AppData\\Local\\Temp\\ipykernel_13400\\2903819095.py:15: FutureWarning: suggest_loguniform has been deprecated in v3.0.0. This feature will be removed in v6.0.0. See https://github.com/optuna/optuna/releases/tag/v3.0.0. Use suggest_float(..., log=True) instead.\n",
      "  'reg_alpha': trial.suggest_loguniform('reg_alpha', 1e-5, 10.0),  # More range for L1 regularization\n",
      "C:\\Users\\dlesha\\AppData\\Local\\Temp\\ipykernel_13400\\2903819095.py:16: FutureWarning: suggest_loguniform has been deprecated in v3.0.0. This feature will be removed in v6.0.0. See https://github.com/optuna/optuna/releases/tag/v3.0.0. Use suggest_float(..., log=True) instead.\n",
      "  'reg_lambda': trial.suggest_loguniform('reg_lambda', 1e-5, 10.0),  # More range for L2 regularization\n",
      "[I 2024-03-18 01:08:35,668] Trial 19 finished with value: 0.8186580645161291 and parameters: {'learning_rate': 0.1143753800633704, 'n_estimators': 482, 'max_depth': 5, 'min_child_weight': 8, 'subsample': 0.8926525942454931, 'colsample_bytree': 0.7955499728581407, 'gamma': 4.074028464359014, 'reg_alpha': 1.9223613654882153e-05, 'reg_lambda': 8.033257526972421e-05}. Best is trial 4 with value: 0.8282967741935485.\n",
      "C:\\Users\\dlesha\\AppData\\Local\\Temp\\ipykernel_13400\\2903819095.py:15: FutureWarning: suggest_loguniform has been deprecated in v3.0.0. This feature will be removed in v6.0.0. See https://github.com/optuna/optuna/releases/tag/v3.0.0. Use suggest_float(..., log=True) instead.\n",
      "  'reg_alpha': trial.suggest_loguniform('reg_alpha', 1e-5, 10.0),  # More range for L1 regularization\n",
      "C:\\Users\\dlesha\\AppData\\Local\\Temp\\ipykernel_13400\\2903819095.py:16: FutureWarning: suggest_loguniform has been deprecated in v3.0.0. This feature will be removed in v6.0.0. See https://github.com/optuna/optuna/releases/tag/v3.0.0. Use suggest_float(..., log=True) instead.\n",
      "  'reg_lambda': trial.suggest_loguniform('reg_lambda', 1e-5, 10.0),  # More range for L2 regularization\n",
      "[I 2024-03-18 01:08:35,792] Trial 20 finished with value: 0.796116129032258 and parameters: {'learning_rate': 0.011197438729958778, 'n_estimators': 232, 'max_depth': 7, 'min_child_weight': 5, 'subsample': 0.7414282817072233, 'colsample_bytree': 0.5449600538878098, 'gamma': 0.8209626033448282, 'reg_alpha': 9.438204971258012, 'reg_lambda': 0.0009943764422877855}. Best is trial 4 with value: 0.8282967741935485.\n",
      "C:\\Users\\dlesha\\AppData\\Local\\Temp\\ipykernel_13400\\2903819095.py:15: FutureWarning: suggest_loguniform has been deprecated in v3.0.0. This feature will be removed in v6.0.0. See https://github.com/optuna/optuna/releases/tag/v3.0.0. Use suggest_float(..., log=True) instead.\n",
      "  'reg_alpha': trial.suggest_loguniform('reg_alpha', 1e-5, 10.0),  # More range for L1 regularization\n",
      "C:\\Users\\dlesha\\AppData\\Local\\Temp\\ipykernel_13400\\2903819095.py:16: FutureWarning: suggest_loguniform has been deprecated in v3.0.0. This feature will be removed in v6.0.0. See https://github.com/optuna/optuna/releases/tag/v3.0.0. Use suggest_float(..., log=True) instead.\n",
      "  'reg_lambda': trial.suggest_loguniform('reg_lambda', 1e-5, 10.0),  # More range for L2 regularization\n",
      "[I 2024-03-18 01:08:36,092] Trial 21 finished with value: 0.8250838709677419 and parameters: {'learning_rate': 0.06800689996356883, 'n_estimators': 589, 'max_depth': 6, 'min_child_weight': 2, 'subsample': 0.6417900599203442, 'colsample_bytree': 0.5808767678687305, 'gamma': 4.106383152522822, 'reg_alpha': 0.013721750787390777, 'reg_lambda': 0.0006184150044016581}. Best is trial 4 with value: 0.8282967741935485.\n",
      "C:\\Users\\dlesha\\AppData\\Local\\Temp\\ipykernel_13400\\2903819095.py:15: FutureWarning: suggest_loguniform has been deprecated in v3.0.0. This feature will be removed in v6.0.0. See https://github.com/optuna/optuna/releases/tag/v3.0.0. Use suggest_float(..., log=True) instead.\n",
      "  'reg_alpha': trial.suggest_loguniform('reg_alpha', 1e-5, 10.0),  # More range for L1 regularization\n",
      "C:\\Users\\dlesha\\AppData\\Local\\Temp\\ipykernel_13400\\2903819095.py:16: FutureWarning: suggest_loguniform has been deprecated in v3.0.0. This feature will be removed in v6.0.0. See https://github.com/optuna/optuna/releases/tag/v3.0.0. Use suggest_float(..., log=True) instead.\n",
      "  'reg_lambda': trial.suggest_loguniform('reg_lambda', 1e-5, 10.0),  # More range for L2 regularization\n",
      "[I 2024-03-18 01:08:36,339] Trial 22 finished with value: 0.8009935483870969 and parameters: {'learning_rate': 0.09018427387546046, 'n_estimators': 524, 'max_depth': 6, 'min_child_weight': 2, 'subsample': 0.5019125146999284, 'colsample_bytree': 0.5006592036821118, 'gamma': 3.0637227421214654, 'reg_alpha': 0.0005463304948110729, 'reg_lambda': 0.004364657853891793}. Best is trial 4 with value: 0.8282967741935485.\n",
      "C:\\Users\\dlesha\\AppData\\Local\\Temp\\ipykernel_13400\\2903819095.py:15: FutureWarning: suggest_loguniform has been deprecated in v3.0.0. This feature will be removed in v6.0.0. See https://github.com/optuna/optuna/releases/tag/v3.0.0. Use suggest_float(..., log=True) instead.\n",
      "  'reg_alpha': trial.suggest_loguniform('reg_alpha', 1e-5, 10.0),  # More range for L1 regularization\n",
      "C:\\Users\\dlesha\\AppData\\Local\\Temp\\ipykernel_13400\\2903819095.py:16: FutureWarning: suggest_loguniform has been deprecated in v3.0.0. This feature will be removed in v6.0.0. See https://github.com/optuna/optuna/releases/tag/v3.0.0. Use suggest_float(..., log=True) instead.\n",
      "  'reg_lambda': trial.suggest_loguniform('reg_lambda', 1e-5, 10.0),  # More range for L2 regularization\n",
      "[I 2024-03-18 01:08:36,659] Trial 23 finished with value: 0.8282709677419355 and parameters: {'learning_rate': 0.059342542847081375, 'n_estimators': 573, 'max_depth': 7, 'min_child_weight': 2, 'subsample': 0.6810477599148491, 'colsample_bytree': 0.5559548941519648, 'gamma': 3.9583633662139093, 'reg_alpha': 0.004082460890518898, 'reg_lambda': 0.012580230471471393}. Best is trial 4 with value: 0.8282967741935485.\n",
      "C:\\Users\\dlesha\\AppData\\Local\\Temp\\ipykernel_13400\\2903819095.py:15: FutureWarning: suggest_loguniform has been deprecated in v3.0.0. This feature will be removed in v6.0.0. See https://github.com/optuna/optuna/releases/tag/v3.0.0. Use suggest_float(..., log=True) instead.\n",
      "  'reg_alpha': trial.suggest_loguniform('reg_alpha', 1e-5, 10.0),  # More range for L1 regularization\n",
      "C:\\Users\\dlesha\\AppData\\Local\\Temp\\ipykernel_13400\\2903819095.py:16: FutureWarning: suggest_loguniform has been deprecated in v3.0.0. This feature will be removed in v6.0.0. See https://github.com/optuna/optuna/releases/tag/v3.0.0. Use suggest_float(..., log=True) instead.\n",
      "  'reg_lambda': trial.suggest_loguniform('reg_lambda', 1e-5, 10.0),  # More range for L2 regularization\n",
      "[I 2024-03-18 01:08:36,958] Trial 24 finished with value: 0.8298967741935483 and parameters: {'learning_rate': 0.05600317159548829, 'n_estimators': 571, 'max_depth': 7, 'min_child_weight': 1, 'subsample': 0.5871694349147091, 'colsample_bytree': 0.5551104314205094, 'gamma': 4.407430714189467, 'reg_alpha': 0.0031548737215937417, 'reg_lambda': 0.014771260919610162}. Best is trial 24 with value: 0.8298967741935483.\n",
      "C:\\Users\\dlesha\\AppData\\Local\\Temp\\ipykernel_13400\\2903819095.py:15: FutureWarning: suggest_loguniform has been deprecated in v3.0.0. This feature will be removed in v6.0.0. See https://github.com/optuna/optuna/releases/tag/v3.0.0. Use suggest_float(..., log=True) instead.\n",
      "  'reg_alpha': trial.suggest_loguniform('reg_alpha', 1e-5, 10.0),  # More range for L1 regularization\n",
      "C:\\Users\\dlesha\\AppData\\Local\\Temp\\ipykernel_13400\\2903819095.py:16: FutureWarning: suggest_loguniform has been deprecated in v3.0.0. This feature will be removed in v6.0.0. See https://github.com/optuna/optuna/releases/tag/v3.0.0. Use suggest_float(..., log=True) instead.\n",
      "  'reg_lambda': trial.suggest_loguniform('reg_lambda', 1e-5, 10.0),  # More range for L2 regularization\n",
      "[I 2024-03-18 01:08:37,271] Trial 25 finished with value: 0.8298709677419355 and parameters: {'learning_rate': 0.05669263904619866, 'n_estimators': 580, 'max_depth': 7, 'min_child_weight': 1, 'subsample': 0.6077179234718636, 'colsample_bytree': 0.5507688647900321, 'gamma': 4.47464298248594, 'reg_alpha': 0.0028130430144173496, 'reg_lambda': 0.13722011522871994}. Best is trial 24 with value: 0.8298967741935483.\n",
      "C:\\Users\\dlesha\\AppData\\Local\\Temp\\ipykernel_13400\\2903819095.py:15: FutureWarning: suggest_loguniform has been deprecated in v3.0.0. This feature will be removed in v6.0.0. See https://github.com/optuna/optuna/releases/tag/v3.0.0. Use suggest_float(..., log=True) instead.\n",
      "  'reg_alpha': trial.suggest_loguniform('reg_alpha', 1e-5, 10.0),  # More range for L1 regularization\n",
      "C:\\Users\\dlesha\\AppData\\Local\\Temp\\ipykernel_13400\\2903819095.py:16: FutureWarning: suggest_loguniform has been deprecated in v3.0.0. This feature will be removed in v6.0.0. See https://github.com/optuna/optuna/releases/tag/v3.0.0. Use suggest_float(..., log=True) instead.\n",
      "  'reg_lambda': trial.suggest_loguniform('reg_lambda', 1e-5, 10.0),  # More range for L2 regularization\n",
      "[I 2024-03-18 01:08:37,476] Trial 26 finished with value: 0.8250451612903225 and parameters: {'learning_rate': 0.02933202444566091, 'n_estimators': 494, 'max_depth': 5, 'min_child_weight': 1, 'subsample': 0.6126386972808333, 'colsample_bytree': 0.5232055710882583, 'gamma': 4.9372103388182, 'reg_alpha': 1.2678889015838986, 'reg_lambda': 0.08913671733224818}. Best is trial 24 with value: 0.8298967741935483.\n",
      "C:\\Users\\dlesha\\AppData\\Local\\Temp\\ipykernel_13400\\2903819095.py:15: FutureWarning: suggest_loguniform has been deprecated in v3.0.0. This feature will be removed in v6.0.0. See https://github.com/optuna/optuna/releases/tag/v3.0.0. Use suggest_float(..., log=True) instead.\n",
      "  'reg_alpha': trial.suggest_loguniform('reg_alpha', 1e-5, 10.0),  # More range for L1 regularization\n",
      "C:\\Users\\dlesha\\AppData\\Local\\Temp\\ipykernel_13400\\2903819095.py:16: FutureWarning: suggest_loguniform has been deprecated in v3.0.0. This feature will be removed in v6.0.0. See https://github.com/optuna/optuna/releases/tag/v3.0.0. Use suggest_float(..., log=True) instead.\n",
      "  'reg_lambda': trial.suggest_loguniform('reg_lambda', 1e-5, 10.0),  # More range for L2 regularization\n",
      "[I 2024-03-18 01:08:37,767] Trial 27 finished with value: 0.8395225806451613 and parameters: {'learning_rate': 0.051135824507311564, 'n_estimators': 599, 'max_depth': 7, 'min_child_weight': 1, 'subsample': 0.5508118241804579, 'colsample_bytree': 0.6118443799740958, 'gamma': 4.533873626510567, 'reg_alpha': 0.06060906459420002, 'reg_lambda': 0.6809976304140697}. Best is trial 27 with value: 0.8395225806451613.\n",
      "C:\\Users\\dlesha\\AppData\\Local\\Temp\\ipykernel_13400\\2903819095.py:15: FutureWarning: suggest_loguniform has been deprecated in v3.0.0. This feature will be removed in v6.0.0. See https://github.com/optuna/optuna/releases/tag/v3.0.0. Use suggest_float(..., log=True) instead.\n",
      "  'reg_alpha': trial.suggest_loguniform('reg_alpha', 1e-5, 10.0),  # More range for L1 regularization\n",
      "C:\\Users\\dlesha\\AppData\\Local\\Temp\\ipykernel_13400\\2903819095.py:16: FutureWarning: suggest_loguniform has been deprecated in v3.0.0. This feature will be removed in v6.0.0. See https://github.com/optuna/optuna/releases/tag/v3.0.0. Use suggest_float(..., log=True) instead.\n",
      "  'reg_lambda': trial.suggest_loguniform('reg_lambda', 1e-5, 10.0),  # More range for L2 regularization\n",
      "[I 2024-03-18 01:08:37,990] Trial 28 finished with value: 0.8266451612903225 and parameters: {'learning_rate': 0.0936788689731903, 'n_estimators': 562, 'max_depth': 7, 'min_child_weight': 3, 'subsample': 0.5548492362087493, 'colsample_bytree': 0.611299042441031, 'gamma': 4.394381668017483, 'reg_alpha': 0.07101912798381452, 'reg_lambda': 3.1663629468145946}. Best is trial 27 with value: 0.8395225806451613.\n",
      "C:\\Users\\dlesha\\AppData\\Local\\Temp\\ipykernel_13400\\2903819095.py:15: FutureWarning: suggest_loguniform has been deprecated in v3.0.0. This feature will be removed in v6.0.0. See https://github.com/optuna/optuna/releases/tag/v3.0.0. Use suggest_float(..., log=True) instead.\n",
      "  'reg_alpha': trial.suggest_loguniform('reg_alpha', 1e-5, 10.0),  # More range for L1 regularization\n",
      "C:\\Users\\dlesha\\AppData\\Local\\Temp\\ipykernel_13400\\2903819095.py:16: FutureWarning: suggest_loguniform has been deprecated in v3.0.0. This feature will be removed in v6.0.0. See https://github.com/optuna/optuna/releases/tag/v3.0.0. Use suggest_float(..., log=True) instead.\n",
      "  'reg_lambda': trial.suggest_loguniform('reg_lambda', 1e-5, 10.0),  # More range for L2 regularization\n",
      "[I 2024-03-18 01:08:38,244] Trial 29 finished with value: 0.820232258064516 and parameters: {'learning_rate': 0.024200031241294925, 'n_estimators': 594, 'max_depth': 7, 'min_child_weight': 4, 'subsample': 0.6184279842406154, 'colsample_bytree': 0.6904444237629889, 'gamma': 4.517354322372949, 'reg_alpha': 0.14345921052573748, 'reg_lambda': 1.1256355011309296}. Best is trial 27 with value: 0.8395225806451613.\n",
      "C:\\Users\\dlesha\\AppData\\Local\\Temp\\ipykernel_13400\\2903819095.py:15: FutureWarning: suggest_loguniform has been deprecated in v3.0.0. This feature will be removed in v6.0.0. See https://github.com/optuna/optuna/releases/tag/v3.0.0. Use suggest_float(..., log=True) instead.\n",
      "  'reg_alpha': trial.suggest_loguniform('reg_alpha', 1e-5, 10.0),  # More range for L1 regularization\n",
      "C:\\Users\\dlesha\\AppData\\Local\\Temp\\ipykernel_13400\\2903819095.py:16: FutureWarning: suggest_loguniform has been deprecated in v3.0.0. This feature will be removed in v6.0.0. See https://github.com/optuna/optuna/releases/tag/v3.0.0. Use suggest_float(..., log=True) instead.\n",
      "  'reg_lambda': trial.suggest_loguniform('reg_lambda', 1e-5, 10.0),  # More range for L2 regularization\n",
      "[I 2024-03-18 01:08:38,513] Trial 30 finished with value: 0.8347096774193549 and parameters: {'learning_rate': 0.04178426899795283, 'n_estimators': 518, 'max_depth': 7, 'min_child_weight': 1, 'subsample': 0.570813652475145, 'colsample_bytree': 0.6220067817855408, 'gamma': 4.949700418346582, 'reg_alpha': 0.02282230179857744, 'reg_lambda': 0.4061557025579459}. Best is trial 27 with value: 0.8395225806451613.\n",
      "C:\\Users\\dlesha\\AppData\\Local\\Temp\\ipykernel_13400\\2903819095.py:15: FutureWarning: suggest_loguniform has been deprecated in v3.0.0. This feature will be removed in v6.0.0. See https://github.com/optuna/optuna/releases/tag/v3.0.0. Use suggest_float(..., log=True) instead.\n",
      "  'reg_alpha': trial.suggest_loguniform('reg_alpha', 1e-5, 10.0),  # More range for L1 regularization\n",
      "C:\\Users\\dlesha\\AppData\\Local\\Temp\\ipykernel_13400\\2903819095.py:16: FutureWarning: suggest_loguniform has been deprecated in v3.0.0. This feature will be removed in v6.0.0. See https://github.com/optuna/optuna/releases/tag/v3.0.0. Use suggest_float(..., log=True) instead.\n",
      "  'reg_lambda': trial.suggest_loguniform('reg_lambda', 1e-5, 10.0),  # More range for L2 regularization\n",
      "[I 2024-03-18 01:08:38,757] Trial 31 finished with value: 0.8315096774193549 and parameters: {'learning_rate': 0.04562391450360979, 'n_estimators': 519, 'max_depth': 7, 'min_child_weight': 1, 'subsample': 0.5659243185322023, 'colsample_bytree': 0.6232615658043877, 'gamma': 4.939543134087754, 'reg_alpha': 0.019603503985838457, 'reg_lambda': 0.3684148618733836}. Best is trial 27 with value: 0.8395225806451613.\n",
      "C:\\Users\\dlesha\\AppData\\Local\\Temp\\ipykernel_13400\\2903819095.py:15: FutureWarning: suggest_loguniform has been deprecated in v3.0.0. This feature will be removed in v6.0.0. See https://github.com/optuna/optuna/releases/tag/v3.0.0. Use suggest_float(..., log=True) instead.\n",
      "  'reg_alpha': trial.suggest_loguniform('reg_alpha', 1e-5, 10.0),  # More range for L1 regularization\n",
      "C:\\Users\\dlesha\\AppData\\Local\\Temp\\ipykernel_13400\\2903819095.py:16: FutureWarning: suggest_loguniform has been deprecated in v3.0.0. This feature will be removed in v6.0.0. See https://github.com/optuna/optuna/releases/tag/v3.0.0. Use suggest_float(..., log=True) instead.\n",
      "  'reg_lambda': trial.suggest_loguniform('reg_lambda', 1e-5, 10.0),  # More range for L2 regularization\n",
      "[I 2024-03-18 01:08:38,990] Trial 32 finished with value: 0.8298709677419355 and parameters: {'learning_rate': 0.047244505872395114, 'n_estimators': 507, 'max_depth': 6, 'min_child_weight': 2, 'subsample': 0.53562101024259, 'colsample_bytree': 0.6250871680201492, 'gamma': 4.770439465102311, 'reg_alpha': 0.024634982242766904, 'reg_lambda': 0.39880174346582775}. Best is trial 27 with value: 0.8395225806451613.\n",
      "C:\\Users\\dlesha\\AppData\\Local\\Temp\\ipykernel_13400\\2903819095.py:15: FutureWarning: suggest_loguniform has been deprecated in v3.0.0. This feature will be removed in v6.0.0. See https://github.com/optuna/optuna/releases/tag/v3.0.0. Use suggest_float(..., log=True) instead.\n",
      "  'reg_alpha': trial.suggest_loguniform('reg_alpha', 1e-5, 10.0),  # More range for L1 regularization\n",
      "C:\\Users\\dlesha\\AppData\\Local\\Temp\\ipykernel_13400\\2903819095.py:16: FutureWarning: suggest_loguniform has been deprecated in v3.0.0. This feature will be removed in v6.0.0. See https://github.com/optuna/optuna/releases/tag/v3.0.0. Use suggest_float(..., log=True) instead.\n",
      "  'reg_lambda': trial.suggest_loguniform('reg_lambda', 1e-5, 10.0),  # More range for L2 regularization\n",
      "[I 2024-03-18 01:08:39,255] Trial 33 finished with value: 0.8218322580645161 and parameters: {'learning_rate': 0.025459123754026407, 'n_estimators': 547, 'max_depth': 7, 'min_child_weight': 1, 'subsample': 0.5670295129322224, 'colsample_bytree': 0.6077228900983627, 'gamma': 4.944651393589402, 'reg_alpha': 0.007807775450103305, 'reg_lambda': 2.3754798013264624}. Best is trial 27 with value: 0.8395225806451613.\n",
      "C:\\Users\\dlesha\\AppData\\Local\\Temp\\ipykernel_13400\\2903819095.py:15: FutureWarning: suggest_loguniform has been deprecated in v3.0.0. This feature will be removed in v6.0.0. See https://github.com/optuna/optuna/releases/tag/v3.0.0. Use suggest_float(..., log=True) instead.\n",
      "  'reg_alpha': trial.suggest_loguniform('reg_alpha', 1e-5, 10.0),  # More range for L1 regularization\n",
      "C:\\Users\\dlesha\\AppData\\Local\\Temp\\ipykernel_13400\\2903819095.py:16: FutureWarning: suggest_loguniform has been deprecated in v3.0.0. This feature will be removed in v6.0.0. See https://github.com/optuna/optuna/releases/tag/v3.0.0. Use suggest_float(..., log=True) instead.\n",
      "  'reg_lambda': trial.suggest_loguniform('reg_lambda', 1e-5, 10.0),  # More range for L2 regularization\n",
      "[I 2024-03-18 01:08:39,469] Trial 34 finished with value: 0.8250451612903225 and parameters: {'learning_rate': 0.04044215251739043, 'n_estimators': 459, 'max_depth': 7, 'min_child_weight': 3, 'subsample': 0.575573496568158, 'colsample_bytree': 0.6640284763951679, 'gamma': 3.578474028931394, 'reg_alpha': 0.025335531710501458, 'reg_lambda': 0.2603314668261724}. Best is trial 27 with value: 0.8395225806451613.\n",
      "C:\\Users\\dlesha\\AppData\\Local\\Temp\\ipykernel_13400\\2903819095.py:15: FutureWarning: suggest_loguniform has been deprecated in v3.0.0. This feature will be removed in v6.0.0. See https://github.com/optuna/optuna/releases/tag/v3.0.0. Use suggest_float(..., log=True) instead.\n",
      "  'reg_alpha': trial.suggest_loguniform('reg_alpha', 1e-5, 10.0),  # More range for L1 regularization\n",
      "C:\\Users\\dlesha\\AppData\\Local\\Temp\\ipykernel_13400\\2903819095.py:16: FutureWarning: suggest_loguniform has been deprecated in v3.0.0. This feature will be removed in v6.0.0. See https://github.com/optuna/optuna/releases/tag/v3.0.0. Use suggest_float(..., log=True) instead.\n",
      "  'reg_lambda': trial.suggest_loguniform('reg_lambda', 1e-5, 10.0),  # More range for L2 regularization\n",
      "[I 2024-03-18 01:08:39,691] Trial 35 finished with value: 0.8218709677419355 and parameters: {'learning_rate': 0.0659031507732562, 'n_estimators': 444, 'max_depth': 6, 'min_child_weight': 1, 'subsample': 0.5402955861974146, 'colsample_bytree': 0.6374771198893191, 'gamma': 4.235438857150363, 'reg_alpha': 0.043776941525752545, 'reg_lambda': 0.06689116718082876}. Best is trial 27 with value: 0.8395225806451613.\n",
      "C:\\Users\\dlesha\\AppData\\Local\\Temp\\ipykernel_13400\\2903819095.py:15: FutureWarning: suggest_loguniform has been deprecated in v3.0.0. This feature will be removed in v6.0.0. See https://github.com/optuna/optuna/releases/tag/v3.0.0. Use suggest_float(..., log=True) instead.\n",
      "  'reg_alpha': trial.suggest_loguniform('reg_alpha', 1e-5, 10.0),  # More range for L1 regularization\n",
      "C:\\Users\\dlesha\\AppData\\Local\\Temp\\ipykernel_13400\\2903819095.py:16: FutureWarning: suggest_loguniform has been deprecated in v3.0.0. This feature will be removed in v6.0.0. See https://github.com/optuna/optuna/releases/tag/v3.0.0. Use suggest_float(..., log=True) instead.\n",
      "  'reg_lambda': trial.suggest_loguniform('reg_lambda', 1e-5, 10.0),  # More range for L2 regularization\n",
      "[I 2024-03-18 01:08:39,897] Trial 36 finished with value: 0.8298838709677419 and parameters: {'learning_rate': 0.052053512805783415, 'n_estimators': 413, 'max_depth': 7, 'min_child_weight': 2, 'subsample': 0.525011585083004, 'colsample_bytree': 0.6925744651928136, 'gamma': 4.694555222934869, 'reg_alpha': 0.0089560787782787, 'reg_lambda': 1.132512743268586}. Best is trial 27 with value: 0.8395225806451613.\n",
      "C:\\Users\\dlesha\\AppData\\Local\\Temp\\ipykernel_13400\\2903819095.py:15: FutureWarning: suggest_loguniform has been deprecated in v3.0.0. This feature will be removed in v6.0.0. See https://github.com/optuna/optuna/releases/tag/v3.0.0. Use suggest_float(..., log=True) instead.\n",
      "  'reg_alpha': trial.suggest_loguniform('reg_alpha', 1e-5, 10.0),  # More range for L1 regularization\n",
      "C:\\Users\\dlesha\\AppData\\Local\\Temp\\ipykernel_13400\\2903819095.py:16: FutureWarning: suggest_loguniform has been deprecated in v3.0.0. This feature will be removed in v6.0.0. See https://github.com/optuna/optuna/releases/tag/v3.0.0. Use suggest_float(..., log=True) instead.\n",
      "  'reg_lambda': trial.suggest_loguniform('reg_lambda', 1e-5, 10.0),  # More range for L2 regularization\n",
      "[I 2024-03-18 01:08:40,112] Trial 37 finished with value: 0.8169935483870967 and parameters: {'learning_rate': 0.03517329222209762, 'n_estimators': 510, 'max_depth': 6, 'min_child_weight': 1, 'subsample': 0.5551624551487045, 'colsample_bytree': 0.5637842839907117, 'gamma': 4.2569182762089195, 'reg_alpha': 0.13221630120701572, 'reg_lambda': 7.918014267130806}. Best is trial 27 with value: 0.8395225806451613.\n",
      "C:\\Users\\dlesha\\AppData\\Local\\Temp\\ipykernel_13400\\2903819095.py:15: FutureWarning: suggest_loguniform has been deprecated in v3.0.0. This feature will be removed in v6.0.0. See https://github.com/optuna/optuna/releases/tag/v3.0.0. Use suggest_float(..., log=True) instead.\n",
      "  'reg_alpha': trial.suggest_loguniform('reg_alpha', 1e-5, 10.0),  # More range for L1 regularization\n",
      "C:\\Users\\dlesha\\AppData\\Local\\Temp\\ipykernel_13400\\2903819095.py:16: FutureWarning: suggest_loguniform has been deprecated in v3.0.0. This feature will be removed in v6.0.0. See https://github.com/optuna/optuna/releases/tag/v3.0.0. Use suggest_float(..., log=True) instead.\n",
      "  'reg_lambda': trial.suggest_loguniform('reg_lambda', 1e-5, 10.0),  # More range for L2 regularization\n",
      "[I 2024-03-18 01:08:40,344] Trial 38 finished with value: 0.8250580645161291 and parameters: {'learning_rate': 0.022318715352524776, 'n_estimators': 555, 'max_depth': 7, 'min_child_weight': 3, 'subsample': 0.5902246671179233, 'colsample_bytree': 0.5996843077388493, 'gamma': 4.993916569787131, 'reg_alpha': 0.0019848218613994586, 'reg_lambda': 0.5225736774092631}. Best is trial 27 with value: 0.8395225806451613.\n",
      "C:\\Users\\dlesha\\AppData\\Local\\Temp\\ipykernel_13400\\2903819095.py:15: FutureWarning: suggest_loguniform has been deprecated in v3.0.0. This feature will be removed in v6.0.0. See https://github.com/optuna/optuna/releases/tag/v3.0.0. Use suggest_float(..., log=True) instead.\n",
      "  'reg_alpha': trial.suggest_loguniform('reg_alpha', 1e-5, 10.0),  # More range for L1 regularization\n",
      "C:\\Users\\dlesha\\AppData\\Local\\Temp\\ipykernel_13400\\2903819095.py:16: FutureWarning: suggest_loguniform has been deprecated in v3.0.0. This feature will be removed in v6.0.0. See https://github.com/optuna/optuna/releases/tag/v3.0.0. Use suggest_float(..., log=True) instead.\n",
      "  'reg_lambda': trial.suggest_loguniform('reg_lambda', 1e-5, 10.0),  # More range for L2 regularization\n",
      "[I 2024-03-18 01:08:40,633] Trial 39 finished with value: 0.8346967741935483 and parameters: {'learning_rate': 0.04626730998317583, 'n_estimators': 594, 'max_depth': 7, 'min_child_weight': 2, 'subsample': 0.6238372463516343, 'colsample_bytree': 0.6475133426056139, 'gamma': 3.4532930553043784, 'reg_alpha': 0.06349752412129651, 'reg_lambda': 2.3027293059228002}. Best is trial 27 with value: 0.8395225806451613.\n",
      "C:\\Users\\dlesha\\AppData\\Local\\Temp\\ipykernel_13400\\2903819095.py:15: FutureWarning: suggest_loguniform has been deprecated in v3.0.0. This feature will be removed in v6.0.0. See https://github.com/optuna/optuna/releases/tag/v3.0.0. Use suggest_float(..., log=True) instead.\n",
      "  'reg_alpha': trial.suggest_loguniform('reg_alpha', 1e-5, 10.0),  # More range for L1 regularization\n",
      "C:\\Users\\dlesha\\AppData\\Local\\Temp\\ipykernel_13400\\2903819095.py:16: FutureWarning: suggest_loguniform has been deprecated in v3.0.0. This feature will be removed in v6.0.0. See https://github.com/optuna/optuna/releases/tag/v3.0.0. Use suggest_float(..., log=True) instead.\n",
      "  'reg_lambda': trial.suggest_loguniform('reg_lambda', 1e-5, 10.0),  # More range for L2 regularization\n",
      "[I 2024-03-18 01:08:40,841] Trial 40 finished with value: 0.8218451612903225 and parameters: {'learning_rate': 0.04507916459493477, 'n_estimators': 481, 'max_depth': 6, 'min_child_weight': 4, 'subsample': 0.6204597289355046, 'colsample_bytree': 0.6475962381179184, 'gamma': 3.449158616470149, 'reg_alpha': 0.22065193173970266, 'reg_lambda': 2.9614454491532918}. Best is trial 27 with value: 0.8395225806451613.\n",
      "C:\\Users\\dlesha\\AppData\\Local\\Temp\\ipykernel_13400\\2903819095.py:15: FutureWarning: suggest_loguniform has been deprecated in v3.0.0. This feature will be removed in v6.0.0. See https://github.com/optuna/optuna/releases/tag/v3.0.0. Use suggest_float(..., log=True) instead.\n",
      "  'reg_alpha': trial.suggest_loguniform('reg_alpha', 1e-5, 10.0),  # More range for L1 regularization\n",
      "C:\\Users\\dlesha\\AppData\\Local\\Temp\\ipykernel_13400\\2903819095.py:16: FutureWarning: suggest_loguniform has been deprecated in v3.0.0. This feature will be removed in v6.0.0. See https://github.com/optuna/optuna/releases/tag/v3.0.0. Use suggest_float(..., log=True) instead.\n",
      "  'reg_lambda': trial.suggest_loguniform('reg_lambda', 1e-5, 10.0),  # More range for L2 regularization\n",
      "[I 2024-03-18 01:08:41,119] Trial 41 finished with value: 0.8298838709677419 and parameters: {'learning_rate': 0.06849378814554552, 'n_estimators': 600, 'max_depth': 7, 'min_child_weight': 1, 'subsample': 0.569492516172504, 'colsample_bytree': 0.6244592719330672, 'gamma': 4.691645804637937, 'reg_alpha': 0.043970624918687896, 'reg_lambda': 1.7903853121297497}. Best is trial 27 with value: 0.8395225806451613.\n",
      "C:\\Users\\dlesha\\AppData\\Local\\Temp\\ipykernel_13400\\2903819095.py:15: FutureWarning: suggest_loguniform has been deprecated in v3.0.0. This feature will be removed in v6.0.0. See https://github.com/optuna/optuna/releases/tag/v3.0.0. Use suggest_float(..., log=True) instead.\n",
      "  'reg_alpha': trial.suggest_loguniform('reg_alpha', 1e-5, 10.0),  # More range for L1 regularization\n",
      "C:\\Users\\dlesha\\AppData\\Local\\Temp\\ipykernel_13400\\2903819095.py:16: FutureWarning: suggest_loguniform has been deprecated in v3.0.0. This feature will be removed in v6.0.0. See https://github.com/optuna/optuna/releases/tag/v3.0.0. Use suggest_float(..., log=True) instead.\n",
      "  'reg_lambda': trial.suggest_loguniform('reg_lambda', 1e-5, 10.0),  # More range for L2 regularization\n",
      "[I 2024-03-18 01:08:41,394] Trial 42 finished with value: 0.8266451612903225 and parameters: {'learning_rate': 0.0330071191158434, 'n_estimators': 563, 'max_depth': 7, 'min_child_weight': 2, 'subsample': 0.5214714373853553, 'colsample_bytree': 0.6620963089677642, 'gamma': 3.89697540213963, 'reg_alpha': 0.015665029934771122, 'reg_lambda': 0.22155627945568715}. Best is trial 27 with value: 0.8395225806451613.\n",
      "C:\\Users\\dlesha\\AppData\\Local\\Temp\\ipykernel_13400\\2903819095.py:15: FutureWarning: suggest_loguniform has been deprecated in v3.0.0. This feature will be removed in v6.0.0. See https://github.com/optuna/optuna/releases/tag/v3.0.0. Use suggest_float(..., log=True) instead.\n",
      "  'reg_alpha': trial.suggest_loguniform('reg_alpha', 1e-5, 10.0),  # More range for L1 regularization\n",
      "C:\\Users\\dlesha\\AppData\\Local\\Temp\\ipykernel_13400\\2903819095.py:16: FutureWarning: suggest_loguniform has been deprecated in v3.0.0. This feature will be removed in v6.0.0. See https://github.com/optuna/optuna/releases/tag/v3.0.0. Use suggest_float(..., log=True) instead.\n",
      "  'reg_lambda': trial.suggest_loguniform('reg_lambda', 1e-5, 10.0),  # More range for L2 regularization\n",
      "[I 2024-03-18 01:08:41,688] Trial 43 finished with value: 0.8282709677419355 and parameters: {'learning_rate': 0.047618685554871525, 'n_estimators': 527, 'max_depth': 7, 'min_child_weight': 1, 'subsample': 0.6338938491986523, 'colsample_bytree': 0.7155483044456702, 'gamma': 4.393943595753108, 'reg_alpha': 0.0060320194297142455, 'reg_lambda': 0.6298190544604974}. Best is trial 27 with value: 0.8395225806451613.\n",
      "C:\\Users\\dlesha\\AppData\\Local\\Temp\\ipykernel_13400\\2903819095.py:15: FutureWarning: suggest_loguniform has been deprecated in v3.0.0. This feature will be removed in v6.0.0. See https://github.com/optuna/optuna/releases/tag/v3.0.0. Use suggest_float(..., log=True) instead.\n",
      "  'reg_alpha': trial.suggest_loguniform('reg_alpha', 1e-5, 10.0),  # More range for L1 regularization\n",
      "C:\\Users\\dlesha\\AppData\\Local\\Temp\\ipykernel_13400\\2903819095.py:16: FutureWarning: suggest_loguniform has been deprecated in v3.0.0. This feature will be removed in v6.0.0. See https://github.com/optuna/optuna/releases/tag/v3.0.0. Use suggest_float(..., log=True) instead.\n",
      "  'reg_lambda': trial.suggest_loguniform('reg_lambda', 1e-5, 10.0),  # More range for L2 regularization\n",
      "[I 2024-03-18 01:08:41,939] Trial 44 finished with value: 0.8121806451612903 and parameters: {'learning_rate': 0.08462726205205856, 'n_estimators': 572, 'max_depth': 7, 'min_child_weight': 2, 'subsample': 0.5529522910380669, 'colsample_bytree': 0.6450714820843307, 'gamma': 4.685593241376348, 'reg_alpha': 0.9694070657164306, 'reg_lambda': 4.720883161202482}. Best is trial 27 with value: 0.8395225806451613.\n",
      "C:\\Users\\dlesha\\AppData\\Local\\Temp\\ipykernel_13400\\2903819095.py:15: FutureWarning: suggest_loguniform has been deprecated in v3.0.0. This feature will be removed in v6.0.0. See https://github.com/optuna/optuna/releases/tag/v3.0.0. Use suggest_float(..., log=True) instead.\n",
      "  'reg_alpha': trial.suggest_loguniform('reg_alpha', 1e-5, 10.0),  # More range for L1 regularization\n",
      "C:\\Users\\dlesha\\AppData\\Local\\Temp\\ipykernel_13400\\2903819095.py:16: FutureWarning: suggest_loguniform has been deprecated in v3.0.0. This feature will be removed in v6.0.0. See https://github.com/optuna/optuna/releases/tag/v3.0.0. Use suggest_float(..., log=True) instead.\n",
      "  'reg_lambda': trial.suggest_loguniform('reg_lambda', 1e-5, 10.0),  # More range for L2 regularization\n",
      "[I 2024-03-18 01:08:42,228] Trial 45 finished with value: 0.8363225806451613 and parameters: {'learning_rate': 0.015623655147666601, 'n_estimators': 507, 'max_depth': 7, 'min_child_weight': 1, 'subsample': 0.6037384442654301, 'colsample_bytree': 0.6787368113828773, 'gamma': 4.312603890660016, 'reg_alpha': 0.05059387376162727, 'reg_lambda': 0.055508438352654}. Best is trial 27 with value: 0.8395225806451613.\n",
      "C:\\Users\\dlesha\\AppData\\Local\\Temp\\ipykernel_13400\\2903819095.py:15: FutureWarning: suggest_loguniform has been deprecated in v3.0.0. This feature will be removed in v6.0.0. See https://github.com/optuna/optuna/releases/tag/v3.0.0. Use suggest_float(..., log=True) instead.\n",
      "  'reg_alpha': trial.suggest_loguniform('reg_alpha', 1e-5, 10.0),  # More range for L1 regularization\n",
      "C:\\Users\\dlesha\\AppData\\Local\\Temp\\ipykernel_13400\\2903819095.py:16: FutureWarning: suggest_loguniform has been deprecated in v3.0.0. This feature will be removed in v6.0.0. See https://github.com/optuna/optuna/releases/tag/v3.0.0. Use suggest_float(..., log=True) instead.\n",
      "  'reg_lambda': trial.suggest_loguniform('reg_lambda', 1e-5, 10.0),  # More range for L2 regularization\n",
      "[I 2024-03-18 01:08:42,434] Trial 46 finished with value: 0.8363225806451613 and parameters: {'learning_rate': 0.01744564644802269, 'n_estimators': 389, 'max_depth': 6, 'min_child_weight': 1, 'subsample': 0.6675183433917052, 'colsample_bytree': 0.732150978573286, 'gamma': 2.759107120410783, 'reg_alpha': 0.06925379660275391, 'reg_lambda': 0.059456645537122814}. Best is trial 27 with value: 0.8395225806451613.\n",
      "C:\\Users\\dlesha\\AppData\\Local\\Temp\\ipykernel_13400\\2903819095.py:15: FutureWarning: suggest_loguniform has been deprecated in v3.0.0. This feature will be removed in v6.0.0. See https://github.com/optuna/optuna/releases/tag/v3.0.0. Use suggest_float(..., log=True) instead.\n",
      "  'reg_alpha': trial.suggest_loguniform('reg_alpha', 1e-5, 10.0),  # More range for L1 regularization\n",
      "C:\\Users\\dlesha\\AppData\\Local\\Temp\\ipykernel_13400\\2903819095.py:16: FutureWarning: suggest_loguniform has been deprecated in v3.0.0. This feature will be removed in v6.0.0. See https://github.com/optuna/optuna/releases/tag/v3.0.0. Use suggest_float(..., log=True) instead.\n",
      "  'reg_lambda': trial.suggest_loguniform('reg_lambda', 1e-5, 10.0),  # More range for L2 regularization\n",
      "[I 2024-03-18 01:08:42,634] Trial 47 finished with value: 0.8250709677419354 and parameters: {'learning_rate': 0.013840130412292564, 'n_estimators': 385, 'max_depth': 6, 'min_child_weight': 2, 'subsample': 0.6846051589275832, 'colsample_bytree': 0.7331200085223473, 'gamma': 2.56762112908262, 'reg_alpha': 0.07806728890173606, 'reg_lambda': 0.05495390758569021}. Best is trial 27 with value: 0.8395225806451613.\n",
      "C:\\Users\\dlesha\\AppData\\Local\\Temp\\ipykernel_13400\\2903819095.py:15: FutureWarning: suggest_loguniform has been deprecated in v3.0.0. This feature will be removed in v6.0.0. See https://github.com/optuna/optuna/releases/tag/v3.0.0. Use suggest_float(..., log=True) instead.\n",
      "  'reg_alpha': trial.suggest_loguniform('reg_alpha', 1e-5, 10.0),  # More range for L1 regularization\n",
      "C:\\Users\\dlesha\\AppData\\Local\\Temp\\ipykernel_13400\\2903819095.py:16: FutureWarning: suggest_loguniform has been deprecated in v3.0.0. This feature will be removed in v6.0.0. See https://github.com/optuna/optuna/releases/tag/v3.0.0. Use suggest_float(..., log=True) instead.\n",
      "  'reg_lambda': trial.suggest_loguniform('reg_lambda', 1e-5, 10.0),  # More range for L2 regularization\n",
      "[I 2024-03-18 01:08:42,836] Trial 48 finished with value: 0.8314838709677419 and parameters: {'learning_rate': 0.017569892542937244, 'n_estimators': 421, 'max_depth': 6, 'min_child_weight': 3, 'subsample': 0.6604859114348195, 'colsample_bytree': 0.6772410942109509, 'gamma': 3.089690786695491, 'reg_alpha': 0.2546786885244947, 'reg_lambda': 0.10265017765114696}. Best is trial 27 with value: 0.8395225806451613.\n",
      "C:\\Users\\dlesha\\AppData\\Local\\Temp\\ipykernel_13400\\2903819095.py:15: FutureWarning: suggest_loguniform has been deprecated in v3.0.0. This feature will be removed in v6.0.0. See https://github.com/optuna/optuna/releases/tag/v3.0.0. Use suggest_float(..., log=True) instead.\n",
      "  'reg_alpha': trial.suggest_loguniform('reg_alpha', 1e-5, 10.0),  # More range for L1 regularization\n",
      "C:\\Users\\dlesha\\AppData\\Local\\Temp\\ipykernel_13400\\2903819095.py:16: FutureWarning: suggest_loguniform has been deprecated in v3.0.0. This feature will be removed in v6.0.0. See https://github.com/optuna/optuna/releases/tag/v3.0.0. Use suggest_float(..., log=True) instead.\n",
      "  'reg_lambda': trial.suggest_loguniform('reg_lambda', 1e-5, 10.0),  # More range for L2 regularization\n",
      "[I 2024-03-18 01:08:43,019] Trial 49 finished with value: 0.8315096774193549 and parameters: {'learning_rate': 0.019371591472303842, 'n_estimators': 302, 'max_depth': 6, 'min_child_weight': 1, 'subsample': 0.6320053940209968, 'colsample_bytree': 0.7584473476112125, 'gamma': 2.8195816362852657, 'reg_alpha': 0.04032343473367223, 'reg_lambda': 0.19634937248186485}. Best is trial 27 with value: 0.8395225806451613.\n"
     ]
    },
    {
     "name": "stdout",
     "output_type": "stream",
     "text": [
      "Number of finished trials: 50\n",
      "Best trial: {'learning_rate': 0.051135824507311564, 'n_estimators': 599, 'max_depth': 7, 'min_child_weight': 1, 'subsample': 0.5508118241804579, 'colsample_bytree': 0.6118443799740958, 'gamma': 4.533873626510567, 'reg_alpha': 0.06060906459420002, 'reg_lambda': 0.6809976304140697}\n"
     ]
    }
   ],
   "source": [
    "study = opt.create_study(direction='maximize')\n",
    "study.optimize(objective, n_trials=50)\n",
    "\n",
    "print('Number of finished trials:', len(study.trials))\n",
    "print('Best trial:', study.best_trial.params)\n"
   ],
   "metadata": {
    "collapsed": false,
    "ExecuteTime": {
     "end_time": "2024-03-18T00:08:43.026438Z",
     "start_time": "2024-03-18T00:08:27.204458Z"
    }
   },
   "id": "95e1458faa254e3f",
   "execution_count": 21
  },
  {
   "cell_type": "code",
   "outputs": [
    {
     "name": "stdout",
     "output_type": "stream",
     "text": [
      "Best trial accuracy: 0.8395225806451613\n"
     ]
    }
   ],
   "source": [
    "best_trial = study.best_trial\n",
    "print(f\"Best trial accuracy: {best_trial.value}\")"
   ],
   "metadata": {
    "collapsed": false,
    "ExecuteTime": {
     "end_time": "2024-03-18T00:09:35.792463Z",
     "start_time": "2024-03-18T00:09:35.788956Z"
    }
   },
   "id": "e34bcdb79ff39629",
   "execution_count": 23
  },
  {
   "cell_type": "markdown",
   "source": [
    "### Generate Results"
   ],
   "metadata": {
    "collapsed": false
   },
   "id": "51110c2bfd963af1"
  },
  {
   "cell_type": "code",
   "outputs": [
    {
     "data": {
      "text/plain": "XGBClassifier(base_score=None, booster=None, callbacks=None,\n              colsample_bylevel=None, colsample_bynode=None,\n              colsample_bytree=0.6118443799740958, early_stopping_rounds=None,\n              enable_categorical=False, eval_metric=None, feature_types=None,\n              gamma=4.533873626510567, gpu_id=None, grow_policy=None,\n              importance_type=None, interaction_constraints=None,\n              learning_rate=0.051135824507311564, max_bin=None,\n              max_cat_threshold=None, max_cat_to_onehot=None,\n              max_delta_step=None, max_depth=7, max_leaves=None,\n              min_child_weight=1, missing=nan, monotone_constraints=None,\n              n_estimators=599, n_jobs=None, num_parallel_tree=None,\n              predictor=None, random_state=None, ...)",
      "text/html": "<style>#sk-container-id-1 {color: black;}#sk-container-id-1 pre{padding: 0;}#sk-container-id-1 div.sk-toggleable {background-color: white;}#sk-container-id-1 label.sk-toggleable__label {cursor: pointer;display: block;width: 100%;margin-bottom: 0;padding: 0.3em;box-sizing: border-box;text-align: center;}#sk-container-id-1 label.sk-toggleable__label-arrow:before {content: \"▸\";float: left;margin-right: 0.25em;color: #696969;}#sk-container-id-1 label.sk-toggleable__label-arrow:hover:before {color: black;}#sk-container-id-1 div.sk-estimator:hover label.sk-toggleable__label-arrow:before {color: black;}#sk-container-id-1 div.sk-toggleable__content {max-height: 0;max-width: 0;overflow: hidden;text-align: left;background-color: #f0f8ff;}#sk-container-id-1 div.sk-toggleable__content pre {margin: 0.2em;color: black;border-radius: 0.25em;background-color: #f0f8ff;}#sk-container-id-1 input.sk-toggleable__control:checked~div.sk-toggleable__content {max-height: 200px;max-width: 100%;overflow: auto;}#sk-container-id-1 input.sk-toggleable__control:checked~label.sk-toggleable__label-arrow:before {content: \"▾\";}#sk-container-id-1 div.sk-estimator input.sk-toggleable__control:checked~label.sk-toggleable__label {background-color: #d4ebff;}#sk-container-id-1 div.sk-label input.sk-toggleable__control:checked~label.sk-toggleable__label {background-color: #d4ebff;}#sk-container-id-1 input.sk-hidden--visually {border: 0;clip: rect(1px 1px 1px 1px);clip: rect(1px, 1px, 1px, 1px);height: 1px;margin: -1px;overflow: hidden;padding: 0;position: absolute;width: 1px;}#sk-container-id-1 div.sk-estimator {font-family: monospace;background-color: #f0f8ff;border: 1px dotted black;border-radius: 0.25em;box-sizing: border-box;margin-bottom: 0.5em;}#sk-container-id-1 div.sk-estimator:hover {background-color: #d4ebff;}#sk-container-id-1 div.sk-parallel-item::after {content: \"\";width: 100%;border-bottom: 1px solid gray;flex-grow: 1;}#sk-container-id-1 div.sk-label:hover label.sk-toggleable__label {background-color: #d4ebff;}#sk-container-id-1 div.sk-serial::before {content: \"\";position: absolute;border-left: 1px solid gray;box-sizing: border-box;top: 0;bottom: 0;left: 50%;z-index: 0;}#sk-container-id-1 div.sk-serial {display: flex;flex-direction: column;align-items: center;background-color: white;padding-right: 0.2em;padding-left: 0.2em;position: relative;}#sk-container-id-1 div.sk-item {position: relative;z-index: 1;}#sk-container-id-1 div.sk-parallel {display: flex;align-items: stretch;justify-content: center;background-color: white;position: relative;}#sk-container-id-1 div.sk-item::before, #sk-container-id-1 div.sk-parallel-item::before {content: \"\";position: absolute;border-left: 1px solid gray;box-sizing: border-box;top: 0;bottom: 0;left: 50%;z-index: -1;}#sk-container-id-1 div.sk-parallel-item {display: flex;flex-direction: column;z-index: 1;position: relative;background-color: white;}#sk-container-id-1 div.sk-parallel-item:first-child::after {align-self: flex-end;width: 50%;}#sk-container-id-1 div.sk-parallel-item:last-child::after {align-self: flex-start;width: 50%;}#sk-container-id-1 div.sk-parallel-item:only-child::after {width: 0;}#sk-container-id-1 div.sk-dashed-wrapped {border: 1px dashed gray;margin: 0 0.4em 0.5em 0.4em;box-sizing: border-box;padding-bottom: 0.4em;background-color: white;}#sk-container-id-1 div.sk-label label {font-family: monospace;font-weight: bold;display: inline-block;line-height: 1.2em;}#sk-container-id-1 div.sk-label-container {text-align: center;}#sk-container-id-1 div.sk-container {/* jupyter's `normalize.less` sets `[hidden] { display: none; }` but bootstrap.min.css set `[hidden] { display: none !important; }` so we also need the `!important` here to be able to override the default hidden behavior on the sphinx rendered scikit-learn.org. See: https://github.com/scikit-learn/scikit-learn/issues/21755 */display: inline-block !important;position: relative;}#sk-container-id-1 div.sk-text-repr-fallback {display: none;}</style><div id=\"sk-container-id-1\" class=\"sk-top-container\"><div class=\"sk-text-repr-fallback\"><pre>XGBClassifier(base_score=None, booster=None, callbacks=None,\n              colsample_bylevel=None, colsample_bynode=None,\n              colsample_bytree=0.6118443799740958, early_stopping_rounds=None,\n              enable_categorical=False, eval_metric=None, feature_types=None,\n              gamma=4.533873626510567, gpu_id=None, grow_policy=None,\n              importance_type=None, interaction_constraints=None,\n              learning_rate=0.051135824507311564, max_bin=None,\n              max_cat_threshold=None, max_cat_to_onehot=None,\n              max_delta_step=None, max_depth=7, max_leaves=None,\n              min_child_weight=1, missing=nan, monotone_constraints=None,\n              n_estimators=599, n_jobs=None, num_parallel_tree=None,\n              predictor=None, random_state=None, ...)</pre><b>In a Jupyter environment, please rerun this cell to show the HTML representation or trust the notebook. <br />On GitHub, the HTML representation is unable to render, please try loading this page with nbviewer.org.</b></div><div class=\"sk-container\" hidden><div class=\"sk-item\"><div class=\"sk-estimator sk-toggleable\"><input class=\"sk-toggleable__control sk-hidden--visually\" id=\"sk-estimator-id-1\" type=\"checkbox\" checked><label for=\"sk-estimator-id-1\" class=\"sk-toggleable__label sk-toggleable__label-arrow\">XGBClassifier</label><div class=\"sk-toggleable__content\"><pre>XGBClassifier(base_score=None, booster=None, callbacks=None,\n              colsample_bylevel=None, colsample_bynode=None,\n              colsample_bytree=0.6118443799740958, early_stopping_rounds=None,\n              enable_categorical=False, eval_metric=None, feature_types=None,\n              gamma=4.533873626510567, gpu_id=None, grow_policy=None,\n              importance_type=None, interaction_constraints=None,\n              learning_rate=0.051135824507311564, max_bin=None,\n              max_cat_threshold=None, max_cat_to_onehot=None,\n              max_delta_step=None, max_depth=7, max_leaves=None,\n              min_child_weight=1, missing=nan, monotone_constraints=None,\n              n_estimators=599, n_jobs=None, num_parallel_tree=None,\n              predictor=None, random_state=None, ...)</pre></div></div></div></div></div>"
     },
     "execution_count": 24,
     "metadata": {},
     "output_type": "execute_result"
    }
   ],
   "source": [
    "xgb_classifier.set_params(**best_trial.params)\n",
    "xgb_classifier.fit(X_train, y_train)"
   ],
   "metadata": {
    "collapsed": false,
    "ExecuteTime": {
     "end_time": "2024-03-18T00:09:37.551173Z",
     "start_time": "2024-03-18T00:09:36.977682Z"
    }
   },
   "id": "b226ecb6aedbb097",
   "execution_count": 24
  },
  {
   "cell_type": "code",
   "outputs": [],
   "source": [
    "y_pred = xgb_classifier.predict(X_test)"
   ],
   "metadata": {
    "collapsed": false,
    "ExecuteTime": {
     "end_time": "2024-03-18T01:21:02.939047Z",
     "start_time": "2024-03-18T01:21:02.933712Z"
    }
   },
   "id": "f6fdd55ef8d83270",
   "execution_count": 64
  },
  {
   "cell_type": "code",
   "outputs": [
    {
     "name": "stdout",
     "output_type": "stream",
     "text": [
      "Accuracy: 0.81\n"
     ]
    }
   ],
   "source": [
    "accuracy = accuracy_score(y_test, y_pred)\n",
    "print(f\"Accuracy: {accuracy:.2f}\")"
   ],
   "metadata": {
    "collapsed": false,
    "ExecuteTime": {
     "end_time": "2024-03-18T01:21:03.236807Z",
     "start_time": "2024-03-18T01:21:03.232348Z"
    }
   },
   "id": "b9bd22a2528c3470",
   "execution_count": 65
  },
  {
   "cell_type": "code",
   "outputs": [],
   "source": [
    "submission_test = xgb_classifier.predict(to_test)\n",
    "submission_test = pd.Series(submission_test, to_test.index, name='Survived')\n",
    "# save submission\n",
    "submission_test.to_csv('submission_test_xgb.csv') "
   ],
   "metadata": {
    "collapsed": false,
    "ExecuteTime": {
     "end_time": "2024-03-18T01:21:03.758080Z",
     "start_time": "2024-03-18T01:21:03.751076Z"
    }
   },
   "id": "d03f1dc12d6486a8",
   "execution_count": 66
  },
  {
   "cell_type": "code",
   "outputs": [
    {
     "name": "stdout",
     "output_type": "stream",
     "text": [
      "Accuracy Score: 0.7763819095477387\n"
     ]
    }
   ],
   "source": [
    "actual_data = pd.read_csv(\"test_results.csv\",index_col=\"PassengerId\")\n",
    "merged_df = pd.merge(actual_data, submission_test, on='PassengerId', suffixes=('_df1', '_df2'))\n",
    "# Step 3: Calculate accuracy score\n",
    "accuracy = accuracy_score(merged_df['survived'], merged_df['Survived'])\n",
    "\n",
    "print(f\"Accuracy Score: {accuracy}\")"
   ],
   "metadata": {
    "collapsed": false,
    "ExecuteTime": {
     "end_time": "2024-03-18T01:21:04.860737Z",
     "start_time": "2024-03-18T01:21:04.852582Z"
    }
   },
   "id": "1be59c9316f19d8e",
   "execution_count": 67
  },
  {
   "cell_type": "code",
   "outputs": [
    {
     "data": {
      "text/plain": "             survived  Survived\nPassengerId                    \n892               0.0         0\n892               0.0         0\n893               1.0         0\n894               0.0         0\n895               0.0         0\n...               ...       ...\n1305              0.0         0\n1306              1.0         1\n1307              0.0         0\n1308              0.0         0\n1309              1.0         0\n\n[398 rows x 2 columns]",
      "text/html": "<div>\n<style scoped>\n    .dataframe tbody tr th:only-of-type {\n        vertical-align: middle;\n    }\n\n    .dataframe tbody tr th {\n        vertical-align: top;\n    }\n\n    .dataframe thead th {\n        text-align: right;\n    }\n</style>\n<table border=\"1\" class=\"dataframe\">\n  <thead>\n    <tr style=\"text-align: right;\">\n      <th></th>\n      <th>survived</th>\n      <th>Survived</th>\n    </tr>\n    <tr>\n      <th>PassengerId</th>\n      <th></th>\n      <th></th>\n    </tr>\n  </thead>\n  <tbody>\n    <tr>\n      <th>892</th>\n      <td>0.0</td>\n      <td>0</td>\n    </tr>\n    <tr>\n      <th>892</th>\n      <td>0.0</td>\n      <td>0</td>\n    </tr>\n    <tr>\n      <th>893</th>\n      <td>1.0</td>\n      <td>0</td>\n    </tr>\n    <tr>\n      <th>894</th>\n      <td>0.0</td>\n      <td>0</td>\n    </tr>\n    <tr>\n      <th>895</th>\n      <td>0.0</td>\n      <td>0</td>\n    </tr>\n    <tr>\n      <th>...</th>\n      <td>...</td>\n      <td>...</td>\n    </tr>\n    <tr>\n      <th>1305</th>\n      <td>0.0</td>\n      <td>0</td>\n    </tr>\n    <tr>\n      <th>1306</th>\n      <td>1.0</td>\n      <td>1</td>\n    </tr>\n    <tr>\n      <th>1307</th>\n      <td>0.0</td>\n      <td>0</td>\n    </tr>\n    <tr>\n      <th>1308</th>\n      <td>0.0</td>\n      <td>0</td>\n    </tr>\n    <tr>\n      <th>1309</th>\n      <td>1.0</td>\n      <td>0</td>\n    </tr>\n  </tbody>\n</table>\n<p>398 rows × 2 columns</p>\n</div>"
     },
     "execution_count": 38,
     "metadata": {},
     "output_type": "execute_result"
    }
   ],
   "source": [
    "merged_df"
   ],
   "metadata": {
    "collapsed": false,
    "ExecuteTime": {
     "end_time": "2024-03-18T00:10:12.901903Z",
     "start_time": "2024-03-18T00:10:12.894078Z"
    }
   },
   "id": "aab968d9c72c9b24",
   "execution_count": 38
  },
  {
   "cell_type": "code",
   "outputs": [
    {
     "data": {
      "text/plain": "{'importances_mean': array([0.0119403 , 0.01268657, 0.04029851, 0.10074627, 0.00820896,\n        0.        , 0.03656716, 0.03208955]),\n 'importances_std': array([0.00435146, 0.00506144, 0.00597015, 0.00973015, 0.00279228,\n        0.        , 0.00279228, 0.00768331]),\n 'importances': array([[0.01119403, 0.00373134, 0.01492537, 0.01492537, 0.01492537],\n        [0.01119403, 0.02238806, 0.01119403, 0.01119403, 0.00746269],\n        [0.03731343, 0.04477612, 0.02985075, 0.04477612, 0.04477612],\n        [0.11567164, 0.10074627, 0.10447761, 0.0858209 , 0.09701493],\n        [0.01119403, 0.00746269, 0.00746269, 0.00373134, 0.01119403],\n        [0.        , 0.        , 0.        , 0.        , 0.        ],\n        [0.03731343, 0.03358209, 0.03358209, 0.04104478, 0.03731343],\n        [0.03731343, 0.03358209, 0.04104478, 0.02985075, 0.01865672]])}"
     },
     "execution_count": 39,
     "metadata": {},
     "output_type": "execute_result"
    }
   ],
   "source": [
    "results = permutation_importance(xgb_classifier, X_test, y_test, scoring='accuracy')\n",
    "results"
   ],
   "metadata": {
    "collapsed": false,
    "ExecuteTime": {
     "end_time": "2024-03-18T00:10:14.593231Z",
     "start_time": "2024-03-18T00:10:14.463482Z"
    }
   },
   "id": "8fbb228cd5973432",
   "execution_count": 39
  },
  {
   "cell_type": "code",
   "outputs": [
    {
     "data": {
      "text/plain": "<Figure size 640x480 with 1 Axes>",
      "image/png": "[encoded data removed]"
     },
     "metadata": {},
     "output_type": "display_data"
    }
   ],
   "source": [
    "importance = results.importances_mean\n",
    "std = results.importances_std\n",
    "\n",
    "features = X_train.columns\n",
    "sorted_idx = importance.argsort()\n",
    "\n",
    "plt.barh(range(len(sorted_idx)), importance[sorted_idx], xerr=std[sorted_idx], align='center')\n",
    "plt.yticks(range(len(sorted_idx)), [features[i] for i in sorted_idx])\n",
    "plt.xlabel(\"Permutation Importance\")\n",
    "plt.show()"
   ],
   "metadata": {
    "collapsed": false,
    "ExecuteTime": {
     "end_time": "2024-03-18T00:59:36.388105Z",
     "start_time": "2024-03-18T00:59:36.267993Z"
    }
   },
   "id": "8b2a03f876091fe5",
   "execution_count": 41
  },
  {
   "cell_type": "markdown",
   "source": [
    "## DecisionTree"
   ],
   "metadata": {
    "collapsed": false
   },
   "id": "1073fd48ce5903ed"
  },
  {
   "cell_type": "markdown",
   "source": [
    "## RandomForestClassifier"
   ],
   "metadata": {
    "collapsed": false
   },
   "id": "ab53aa8a3a177d5b"
  },
  {
   "cell_type": "code",
   "outputs": [],
   "source": [
    "from sklearn.ensemble import RandomForestClassifier\n",
    "\n",
    "\n",
    "def objective(trial):\n",
    "    param = {\n",
    "        'n_estimators': trial.suggest_int('n_estimators', 100, 1000),\n",
    "        'max_depth': trial.suggest_int('max_depth', 2, 32),\n",
    "        'min_samples_split': trial.suggest_int('min_samples_split', 2, 10),\n",
    "        'min_samples_leaf': trial.suggest_int('min_samples_leaf', 1, 10),\n",
    "        'max_features': trial.suggest_categorical('max_features', ['sqrt', 'log2', None]),\n",
    "        'bootstrap': trial.suggest_categorical('bootstrap', [True, False]),\n",
    "    }\n",
    "\n",
    "    model = RandomForestClassifier(**param, random_state=random_id)\n",
    "    \n",
    "    cv = StratifiedKFold(n_splits=5)\n",
    "    scores = cross_val_score(model, X_train, y_train, cv=cv, scoring='accuracy')\n",
    "    \n",
    "    return scores.mean()"
   ],
   "metadata": {
    "collapsed": false,
    "ExecuteTime": {
     "end_time": "2024-03-18T00:59:40.808678Z",
     "start_time": "2024-03-18T00:59:40.802846Z"
    }
   },
   "id": "d02c3644b61de1a1",
   "execution_count": 42
  },
  {
   "cell_type": "code",
   "outputs": [
    {
     "name": "stderr",
     "output_type": "stream",
     "text": [
      "[I 2024-03-18 01:59:45,300] A new study created in memory with name: no-name-4170b7ec-6925-47f0-a25a-0851612faf66\n",
      "[I 2024-03-18 01:59:50,922] Trial 0 finished with value: 0.8378322580645161 and parameters: {'n_estimators': 883, 'max_depth': 20, 'min_samples_split': 4, 'min_samples_leaf': 2, 'max_features': 'log2', 'bootstrap': True}. Best is trial 0 with value: 0.8378322580645161.\n",
      "[I 2024-03-18 01:59:55,099] Trial 1 finished with value: 0.7752516129032259 and parameters: {'n_estimators': 489, 'max_depth': 20, 'min_samples_split': 5, 'min_samples_leaf': 3, 'max_features': None, 'bootstrap': False}. Best is trial 0 with value: 0.8378322580645161.\n",
      "[I 2024-03-18 01:59:58,933] Trial 2 finished with value: 0.8234064516129033 and parameters: {'n_estimators': 940, 'max_depth': 2, 'min_samples_split': 5, 'min_samples_leaf': 3, 'max_features': 'log2', 'bootstrap': True}. Best is trial 0 with value: 0.8378322580645161.\n",
      "[I 2024-03-18 01:59:59,922] Trial 3 finished with value: 0.8442451612903227 and parameters: {'n_estimators': 211, 'max_depth': 10, 'min_samples_split': 6, 'min_samples_leaf': 3, 'max_features': 'sqrt', 'bootstrap': False}. Best is trial 3 with value: 0.8442451612903227.\n",
      "[I 2024-03-18 02:00:00,753] Trial 4 finished with value: 0.8410322580645161 and parameters: {'n_estimators': 188, 'max_depth': 18, 'min_samples_split': 8, 'min_samples_leaf': 8, 'max_features': 'sqrt', 'bootstrap': False}. Best is trial 3 with value: 0.8442451612903227.\n",
      "[I 2024-03-18 02:00:07,471] Trial 5 finished with value: 0.8234451612903225 and parameters: {'n_estimators': 961, 'max_depth': 17, 'min_samples_split': 3, 'min_samples_leaf': 6, 'max_features': None, 'bootstrap': True}. Best is trial 3 with value: 0.8442451612903227.\n",
      "[I 2024-03-18 02:00:11,477] Trial 6 finished with value: 0.8169806451612903 and parameters: {'n_estimators': 592, 'max_depth': 13, 'min_samples_split': 8, 'min_samples_leaf': 10, 'max_features': None, 'bootstrap': True}. Best is trial 3 with value: 0.8442451612903227.\n",
      "[I 2024-03-18 02:00:14,940] Trial 7 finished with value: 0.8394451612903225 and parameters: {'n_estimators': 651, 'max_depth': 21, 'min_samples_split': 10, 'min_samples_leaf': 4, 'max_features': 'log2', 'bootstrap': True}. Best is trial 3 with value: 0.8442451612903227.\n",
      "[I 2024-03-18 02:00:18,736] Trial 8 finished with value: 0.8218838709677418 and parameters: {'n_estimators': 576, 'max_depth': 10, 'min_samples_split': 6, 'min_samples_leaf': 8, 'max_features': None, 'bootstrap': False}. Best is trial 3 with value: 0.8442451612903227.\n",
      "[I 2024-03-18 02:00:21,132] Trial 9 finished with value: 0.8378451612903227 and parameters: {'n_estimators': 442, 'max_depth': 15, 'min_samples_split': 2, 'min_samples_leaf': 5, 'max_features': 'log2', 'bootstrap': True}. Best is trial 3 with value: 0.8442451612903227.\n",
      "[I 2024-03-18 02:00:21,617] Trial 10 finished with value: 0.844258064516129 and parameters: {'n_estimators': 120, 'max_depth': 4, 'min_samples_split': 8, 'min_samples_leaf': 1, 'max_features': 'sqrt', 'bootstrap': False}. Best is trial 10 with value: 0.844258064516129.\n",
      "[I 2024-03-18 02:00:22,352] Trial 11 finished with value: 0.8218193548387097 and parameters: {'n_estimators': 135, 'max_depth': 32, 'min_samples_split': 8, 'min_samples_leaf': 1, 'max_features': 'sqrt', 'bootstrap': False}. Best is trial 10 with value: 0.844258064516129.\n",
      "[I 2024-03-18 02:00:23,462] Trial 12 finished with value: 0.8426451612903225 and parameters: {'n_estimators': 304, 'max_depth': 4, 'min_samples_split': 10, 'min_samples_leaf': 1, 'max_features': 'sqrt', 'bootstrap': False}. Best is trial 10 with value: 0.844258064516129.\n",
      "[I 2024-03-18 02:00:24,659] Trial 13 finished with value: 0.8458451612903225 and parameters: {'n_estimators': 291, 'max_depth': 7, 'min_samples_split': 7, 'min_samples_leaf': 2, 'max_features': 'sqrt', 'bootstrap': False}. Best is trial 13 with value: 0.8458451612903225.\n",
      "[I 2024-03-18 02:00:25,964] Trial 14 finished with value: 0.8474580645161292 and parameters: {'n_estimators': 336, 'max_depth': 6, 'min_samples_split': 7, 'min_samples_leaf': 1, 'max_features': 'sqrt', 'bootstrap': False}. Best is trial 14 with value: 0.8474580645161292.\n",
      "[I 2024-03-18 02:00:27,382] Trial 15 finished with value: 0.844258064516129 and parameters: {'n_estimators': 349, 'max_depth': 8, 'min_samples_split': 7, 'min_samples_leaf': 5, 'max_features': 'sqrt', 'bootstrap': False}. Best is trial 14 with value: 0.8474580645161292.\n",
      "[I 2024-03-18 02:00:28,999] Trial 16 finished with value: 0.8313935483870967 and parameters: {'n_estimators': 339, 'max_depth': 25, 'min_samples_split': 7, 'min_samples_leaf': 2, 'max_features': 'sqrt', 'bootstrap': False}. Best is trial 14 with value: 0.8474580645161292.\n",
      "[I 2024-03-18 02:00:32,053] Trial 17 finished with value: 0.8442451612903227 and parameters: {'n_estimators': 771, 'max_depth': 6, 'min_samples_split': 9, 'min_samples_leaf': 7, 'max_features': 'sqrt', 'bootstrap': False}. Best is trial 14 with value: 0.8474580645161292.\n",
      "[I 2024-03-18 02:00:34,128] Trial 18 finished with value: 0.8378064516129033 and parameters: {'n_estimators': 434, 'max_depth': 12, 'min_samples_split': 7, 'min_samples_leaf': 2, 'max_features': 'sqrt', 'bootstrap': False}. Best is trial 14 with value: 0.8474580645161292.\n",
      "[I 2024-03-18 02:00:35,094] Trial 19 finished with value: 0.8458451612903225 and parameters: {'n_estimators': 242, 'max_depth': 7, 'min_samples_split': 5, 'min_samples_leaf': 4, 'max_features': 'sqrt', 'bootstrap': False}. Best is trial 14 with value: 0.8474580645161292.\n",
      "[I 2024-03-18 02:00:36,283] Trial 20 finished with value: 0.8106064516129031 and parameters: {'n_estimators': 388, 'max_depth': 2, 'min_samples_split': 9, 'min_samples_leaf': 4, 'max_features': 'sqrt', 'bootstrap': False}. Best is trial 14 with value: 0.8474580645161292.\n",
      "[I 2024-03-18 02:00:37,327] Trial 21 finished with value: 0.8442451612903227 and parameters: {'n_estimators': 259, 'max_depth': 7, 'min_samples_split': 5, 'min_samples_leaf': 4, 'max_features': 'sqrt', 'bootstrap': False}. Best is trial 14 with value: 0.8474580645161292.\n",
      "[I 2024-03-18 02:00:38,464] Trial 22 finished with value: 0.8394193548387097 and parameters: {'n_estimators': 256, 'max_depth': 9, 'min_samples_split': 4, 'min_samples_leaf': 2, 'max_features': 'sqrt', 'bootstrap': False}. Best is trial 14 with value: 0.8474580645161292.\n",
      "[I 2024-03-18 02:00:40,402] Trial 23 finished with value: 0.8410322580645161 and parameters: {'n_estimators': 498, 'max_depth': 5, 'min_samples_split': 6, 'min_samples_leaf': 3, 'max_features': 'sqrt', 'bootstrap': False}. Best is trial 14 with value: 0.8474580645161292.\n",
      "[I 2024-03-18 02:00:41,452] Trial 24 finished with value: 0.8218064516129033 and parameters: {'n_estimators': 197, 'max_depth': 12, 'min_samples_split': 6, 'min_samples_leaf': 1, 'max_features': 'sqrt', 'bootstrap': False}. Best is trial 14 with value: 0.8474580645161292.\n",
      "[I 2024-03-18 02:00:42,727] Trial 25 finished with value: 0.8410193548387097 and parameters: {'n_estimators': 293, 'max_depth': 8, 'min_samples_split': 4, 'min_samples_leaf': 4, 'max_features': 'sqrt', 'bootstrap': False}. Best is trial 14 with value: 0.8474580645161292.\n",
      "[I 2024-03-18 02:00:44,578] Trial 26 finished with value: 0.8361935483870967 and parameters: {'n_estimators': 388, 'max_depth': 14, 'min_samples_split': 7, 'min_samples_leaf': 2, 'max_features': 'sqrt', 'bootstrap': False}. Best is trial 14 with value: 0.8474580645161292.\n",
      "[I 2024-03-18 02:00:45,541] Trial 27 finished with value: 0.8410451612903227 and parameters: {'n_estimators': 236, 'max_depth': 25, 'min_samples_split': 5, 'min_samples_leaf': 6, 'max_features': 'sqrt', 'bootstrap': False}. Best is trial 14 with value: 0.8474580645161292.\n",
      "[I 2024-03-18 02:00:48,736] Trial 28 finished with value: 0.8378451612903227 and parameters: {'n_estimators': 658, 'max_depth': 11, 'min_samples_split': 9, 'min_samples_leaf': 3, 'max_features': 'log2', 'bootstrap': False}. Best is trial 14 with value: 0.8474580645161292.\n",
      "[I 2024-03-18 02:00:49,648] Trial 29 finished with value: 0.8378709677419355 and parameters: {'n_estimators': 116, 'max_depth': 6, 'min_samples_split': 3, 'min_samples_leaf': 1, 'max_features': None, 'bootstrap': True}. Best is trial 14 with value: 0.8474580645161292.\n"
     ]
    },
    {
     "name": "stdout",
     "output_type": "stream",
     "text": [
      "Number of finished trials: 30\n",
      "Best trial: {'n_estimators': 336, 'max_depth': 6, 'min_samples_split': 7, 'min_samples_leaf': 1, 'max_features': 'sqrt', 'bootstrap': False}\n",
      "Best trial accuracy: 0.8474580645161292\n"
     ]
    }
   ],
   "source": [
    "study = opt.create_study(direction='maximize')\n",
    "study.optimize(objective, n_trials=30)\n",
    "\n",
    "print('Number of finished trials:', len(study.trials))\n",
    "print('Best trial:', study.best_trial.params)\n",
    "print(f\"Best trial accuracy: {study.best_trial.value}\")"
   ],
   "metadata": {
    "collapsed": false,
    "ExecuteTime": {
     "end_time": "2024-03-18T01:00:49.653299Z",
     "start_time": "2024-03-18T00:59:45.298460Z"
    }
   },
   "id": "fccad4eff8bb9ae0",
   "execution_count": 43
  },
  {
   "cell_type": "code",
   "outputs": [
    {
     "name": "stdout",
     "output_type": "stream",
     "text": [
      "Accuracy: 0.78\n"
     ]
    }
   ],
   "source": [
    "randomForest_classifier = RandomForestClassifier()\n",
    "randomForest_classifier.set_params(**study.best_trial.params)\n",
    "randomForest_classifier.fit(X_train, y_train)\n",
    "y_pred = randomForest_classifier.predict(X_test)\n",
    "accuracy = accuracy_score(y_test, y_pred)\n",
    "print(f\"Accuracy: {accuracy:.2f}\")"
   ],
   "metadata": {
    "collapsed": false,
    "ExecuteTime": {
     "end_time": "2024-03-18T01:02:22.367565Z",
     "start_time": "2024-03-18T01:02:22.052494Z"
    }
   },
   "id": "84b77e0028fc4bb6",
   "execution_count": 44
  },
  {
   "cell_type": "markdown",
   "source": [
    "### Compare accuracy to supposed real data"
   ],
   "metadata": {
    "collapsed": false
   },
   "id": "d4d68d989c272924"
  },
  {
   "cell_type": "code",
   "outputs": [
    {
     "name": "stdout",
     "output_type": "stream",
     "text": [
      "Accuracy Score: 0.7788944723618091\n"
     ]
    }
   ],
   "source": [
    "submission_test = randomForest_classifier.predict(to_test)\n",
    "submission_test = pd.Series(submission_test, to_test.index, name='Survived')\n",
    "actual_data = pd.read_csv(\"test_results.csv\",index_col=\"PassengerId\")\n",
    "merged_df = pd.merge(actual_data, submission_test, on='PassengerId', suffixes=('_df1', '_df2'))\n",
    "# Step 3: Calculate accuracy score\n",
    "accuracy = accuracy_score(merged_df['survived'], merged_df['Survived'])\n",
    "\n",
    "print(f\"Accuracy Score: {accuracy}\")\n"
   ],
   "metadata": {
    "collapsed": false,
    "ExecuteTime": {
     "end_time": "2024-03-18T01:02:23.806110Z",
     "start_time": "2024-03-18T01:02:23.766165Z"
    }
   },
   "id": "badeaa27c8fc319",
   "execution_count": 45
  },
  {
   "cell_type": "code",
   "outputs": [],
   "source": [
    "#submission_test.to_csv(\"submission_test_randomForest_3.csv\")"
   ],
   "metadata": {
    "collapsed": false,
    "ExecuteTime": {
     "end_time": "2024-03-18T01:02:24.796574Z",
     "start_time": "2024-03-18T01:02:24.794155Z"
    }
   },
   "id": "e74ba0a6e6158ca1",
   "execution_count": 46
  },
  {
   "cell_type": "code",
   "outputs": [
    {
     "data": {
      "text/plain": "Index(['Embarked', 'Deck', 'Title', 'Sex', 'Fam_type', 'IsAlone', 'Age*Class',\n       'Fare_Per_Person'],\n      dtype='object')"
     },
     "execution_count": 47,
     "metadata": {},
     "output_type": "execute_result"
    }
   ],
   "source": [
    "to_test.columns"
   ],
   "metadata": {
    "collapsed": false,
    "ExecuteTime": {
     "end_time": "2024-03-18T01:02:35.210305Z",
     "start_time": "2024-03-18T01:02:35.205658Z"
    }
   },
   "id": "e8981de8b11c6fa0",
   "execution_count": 47
  },
  {
   "cell_type": "markdown",
   "source": [
    "### Try out ensemble of different models"
   ],
   "metadata": {
    "collapsed": false
   },
   "id": "ffe8585aed01223e"
  },
  {
   "cell_type": "code",
   "outputs": [
    {
     "data": {
      "text/plain": "StackingClassifier(cv=10,\n                   estimators=[('rf',\n                                RandomForestClassifier(bootstrap=False,\n                                                       max_depth=6,\n                                                       min_samples_split=7,\n                                                       n_estimators=336)),\n                               ('xgb',\n                                XGBClassifier(base_score=None, booster=None,\n                                              callbacks=None,\n                                              colsample_bylevel=None,\n                                              colsample_bynode=None,\n                                              colsample_bytree=0.6118443799740958,\n                                              early_stopping_rounds=None,\n                                              enable_categorical=False,\n                                              eval_metric=None,\n                                              fe...\n                                              interaction_constraints=None,\n                                              learning_rate=0.051135824507311564,\n                                              max_bin=None,\n                                              max_cat_threshold=None,\n                                              max_cat_to_onehot=None,\n                                              max_delta_step=None, max_depth=7,\n                                              max_leaves=None,\n                                              min_child_weight=1, missing=nan,\n                                              monotone_constraints=None,\n                                              n_estimators=599, n_jobs=None,\n                                              num_parallel_tree=None,\n                                              predictor=None, random_state=None, ...))],\n                   final_estimator=LogisticRegression())",
      "text/html": "<style>#sk-container-id-4 {color: black;}#sk-container-id-4 pre{padding: 0;}#sk-container-id-4 div.sk-toggleable {background-color: white;}#sk-container-id-4 label.sk-toggleable__label {cursor: pointer;display: block;width: 100%;margin-bottom: 0;padding: 0.3em;box-sizing: border-box;text-align: center;}#sk-container-id-4 label.sk-toggleable__label-arrow:before {content: \"▸\";float: left;margin-right: 0.25em;color: #696969;}#sk-container-id-4 label.sk-toggleable__label-arrow:hover:before {color: black;}#sk-container-id-4 div.sk-estimator:hover label.sk-toggleable__label-arrow:before {color: black;}#sk-container-id-4 div.sk-toggleable__content {max-height: 0;max-width: 0;overflow: hidden;text-align: left;background-color: #f0f8ff;}#sk-container-id-4 div.sk-toggleable__content pre {margin: 0.2em;color: black;border-radius: 0.25em;background-color: #f0f8ff;}#sk-container-id-4 input.sk-toggleable__control:checked~div.sk-toggleable__content {max-height: 200px;max-width: 100%;overflow: auto;}#sk-container-id-4 input.sk-toggleable__control:checked~label.sk-toggleable__label-arrow:before {content: \"▾\";}#sk-container-id-4 div.sk-estimator input.sk-toggleable__control:checked~label.sk-toggleable__label {background-color: #d4ebff;}#sk-container-id-4 div.sk-label input.sk-toggleable__control:checked~label.sk-toggleable__label {background-color: #d4ebff;}#sk-container-id-4 input.sk-hidden--visually {border: 0;clip: rect(1px 1px 1px 1px);clip: rect(1px, 1px, 1px, 1px);height: 1px;margin: -1px;overflow: hidden;padding: 0;position: absolute;width: 1px;}#sk-container-id-4 div.sk-estimator {font-family: monospace;background-color: #f0f8ff;border: 1px dotted black;border-radius: 0.25em;box-sizing: border-box;margin-bottom: 0.5em;}#sk-container-id-4 div.sk-estimator:hover {background-color: #d4ebff;}#sk-container-id-4 div.sk-parallel-item::after {content: \"\";width: 100%;border-bottom: 1px solid gray;flex-grow: 1;}#sk-container-id-4 div.sk-label:hover label.sk-toggleable__label {background-color: #d4ebff;}#sk-container-id-4 div.sk-serial::before {content: \"\";position: absolute;border-left: 1px solid gray;box-sizing: border-box;top: 0;bottom: 0;left: 50%;z-index: 0;}#sk-container-id-4 div.sk-serial {display: flex;flex-direction: column;align-items: center;background-color: white;padding-right: 0.2em;padding-left: 0.2em;position: relative;}#sk-container-id-4 div.sk-item {position: relative;z-index: 1;}#sk-container-id-4 div.sk-parallel {display: flex;align-items: stretch;justify-content: center;background-color: white;position: relative;}#sk-container-id-4 div.sk-item::before, #sk-container-id-4 div.sk-parallel-item::before {content: \"\";position: absolute;border-left: 1px solid gray;box-sizing: border-box;top: 0;bottom: 0;left: 50%;z-index: -1;}#sk-container-id-4 div.sk-parallel-item {display: flex;flex-direction: column;z-index: 1;position: relative;background-color: white;}#sk-container-id-4 div.sk-parallel-item:first-child::after {align-self: flex-end;width: 50%;}#sk-container-id-4 div.sk-parallel-item:last-child::after {align-self: flex-start;width: 50%;}#sk-container-id-4 div.sk-parallel-item:only-child::after {width: 0;}#sk-container-id-4 div.sk-dashed-wrapped {border: 1px dashed gray;margin: 0 0.4em 0.5em 0.4em;box-sizing: border-box;padding-bottom: 0.4em;background-color: white;}#sk-container-id-4 div.sk-label label {font-family: monospace;font-weight: bold;display: inline-block;line-height: 1.2em;}#sk-container-id-4 div.sk-label-container {text-align: center;}#sk-container-id-4 div.sk-container {/* jupyter's `normalize.less` sets `[hidden] { display: none; }` but bootstrap.min.css set `[hidden] { display: none !important; }` so we also need the `!important` here to be able to override the default hidden behavior on the sphinx rendered scikit-learn.org. See: https://github.com/scikit-learn/scikit-learn/issues/21755 */display: inline-block !important;position: relative;}#sk-container-id-4 div.sk-text-repr-fallback {display: none;}</style><div id=\"sk-container-id-4\" class=\"sk-top-container\"><div class=\"sk-text-repr-fallback\"><pre>StackingClassifier(cv=10,\n                   estimators=[(&#x27;rf&#x27;,\n                                RandomForestClassifier(bootstrap=False,\n                                                       max_depth=6,\n                                                       min_samples_split=7,\n                                                       n_estimators=336)),\n                               (&#x27;xgb&#x27;,\n                                XGBClassifier(base_score=None, booster=None,\n                                              callbacks=None,\n                                              colsample_bylevel=None,\n                                              colsample_bynode=None,\n                                              colsample_bytree=0.6118443799740958,\n                                              early_stopping_rounds=None,\n                                              enable_categorical=False,\n                                              eval_metric=None,\n                                              fe...\n                                              interaction_constraints=None,\n                                              learning_rate=0.051135824507311564,\n                                              max_bin=None,\n                                              max_cat_threshold=None,\n                                              max_cat_to_onehot=None,\n                                              max_delta_step=None, max_depth=7,\n                                              max_leaves=None,\n                                              min_child_weight=1, missing=nan,\n                                              monotone_constraints=None,\n                                              n_estimators=599, n_jobs=None,\n                                              num_parallel_tree=None,\n                                              predictor=None, random_state=None, ...))],\n                   final_estimator=LogisticRegression())</pre><b>In a Jupyter environment, please rerun this cell to show the HTML representation or trust the notebook. <br />On GitHub, the HTML representation is unable to render, please try loading this page with nbviewer.org.</b></div><div class=\"sk-container\" hidden><div class=\"sk-item sk-dashed-wrapped\"><div class=\"sk-label-container\"><div class=\"sk-label sk-toggleable\"><input class=\"sk-toggleable__control sk-hidden--visually\" id=\"sk-estimator-id-10\" type=\"checkbox\" ><label for=\"sk-estimator-id-10\" class=\"sk-toggleable__label sk-toggleable__label-arrow\">StackingClassifier</label><div class=\"sk-toggleable__content\"><pre>StackingClassifier(cv=10,\n                   estimators=[(&#x27;rf&#x27;,\n                                RandomForestClassifier(bootstrap=False,\n                                                       max_depth=6,\n                                                       min_samples_split=7,\n                                                       n_estimators=336)),\n                               (&#x27;xgb&#x27;,\n                                XGBClassifier(base_score=None, booster=None,\n                                              callbacks=None,\n                                              colsample_bylevel=None,\n                                              colsample_bynode=None,\n                                              colsample_bytree=0.6118443799740958,\n                                              early_stopping_rounds=None,\n                                              enable_categorical=False,\n                                              eval_metric=None,\n                                              fe...\n                                              interaction_constraints=None,\n                                              learning_rate=0.051135824507311564,\n                                              max_bin=None,\n                                              max_cat_threshold=None,\n                                              max_cat_to_onehot=None,\n                                              max_delta_step=None, max_depth=7,\n                                              max_leaves=None,\n                                              min_child_weight=1, missing=nan,\n                                              monotone_constraints=None,\n                                              n_estimators=599, n_jobs=None,\n                                              num_parallel_tree=None,\n                                              predictor=None, random_state=None, ...))],\n                   final_estimator=LogisticRegression())</pre></div></div></div><div class=\"sk-serial\"><div class=\"sk-item\"><div class=\"sk-parallel\"><div class=\"sk-parallel-item\"><div class=\"sk-item\"><div class=\"sk-label-container\"><div class=\"sk-label sk-toggleable\"><label>rf</label></div></div><div class=\"sk-serial\"><div class=\"sk-item\"><div class=\"sk-estimator sk-toggleable\"><input class=\"sk-toggleable__control sk-hidden--visually\" id=\"sk-estimator-id-11\" type=\"checkbox\" ><label for=\"sk-estimator-id-11\" class=\"sk-toggleable__label sk-toggleable__label-arrow\">RandomForestClassifier</label><div class=\"sk-toggleable__content\"><pre>RandomForestClassifier(bootstrap=False, max_depth=6, min_samples_split=7,\n                       n_estimators=336)</pre></div></div></div></div></div></div><div class=\"sk-parallel-item\"><div class=\"sk-item\"><div class=\"sk-label-container\"><div class=\"sk-label sk-toggleable\"><label>xgb</label></div></div><div class=\"sk-serial\"><div class=\"sk-item\"><div class=\"sk-estimator sk-toggleable\"><input class=\"sk-toggleable__control sk-hidden--visually\" id=\"sk-estimator-id-12\" type=\"checkbox\" ><label for=\"sk-estimator-id-12\" class=\"sk-toggleable__label sk-toggleable__label-arrow\">XGBClassifier</label><div class=\"sk-toggleable__content\"><pre>XGBClassifier(base_score=None, booster=None, callbacks=None,\n              colsample_bylevel=None, colsample_bynode=None,\n              colsample_bytree=0.6118443799740958, early_stopping_rounds=None,\n              enable_categorical=False, eval_metric=None, feature_types=None,\n              gamma=4.533873626510567, gpu_id=None, grow_policy=None,\n              importance_type=None, interaction_constraints=None,\n              learning_rate=0.051135824507311564, max_bin=None,\n              max_cat_threshold=None, max_cat_to_onehot=None,\n              max_delta_step=None, max_depth=7, max_leaves=None,\n              min_child_weight=1, missing=nan, monotone_constraints=None,\n              n_estimators=599, n_jobs=None, num_parallel_tree=None,\n              predictor=None, random_state=None, ...)</pre></div></div></div></div></div></div></div></div><div class=\"sk-item\"><div class=\"sk-parallel\"><div class=\"sk-parallel-item\"><div class=\"sk-item\"><div class=\"sk-label-container\"><div class=\"sk-label sk-toggleable\"><label>final_estimator</label></div></div><div class=\"sk-serial\"><div class=\"sk-item\"><div class=\"sk-estimator sk-toggleable\"><input class=\"sk-toggleable__control sk-hidden--visually\" id=\"sk-estimator-id-13\" type=\"checkbox\" ><label for=\"sk-estimator-id-13\" class=\"sk-toggleable__label sk-toggleable__label-arrow\">LogisticRegression</label><div class=\"sk-toggleable__content\"><pre>LogisticRegression()</pre></div></div></div></div></div></div></div></div></div></div></div></div>"
     },
     "execution_count": 60,
     "metadata": {},
     "output_type": "execute_result"
    }
   ],
   "source": [
    "stacking_clf = StackingClassifier(\n",
    "    estimators=[('rf', randomForest_classifier), ('xgb', xgb_classifier)],\n",
    "    final_estimator=LogisticRegression(),\n",
    "    stack_method='auto',\n",
    "    cv=10\n",
    ")\n",
    "stacking_clf.fit(X_train, y_train)"
   ],
   "metadata": {
    "collapsed": false,
    "ExecuteTime": {
     "end_time": "2024-03-18T01:07:20.046121Z",
     "start_time": "2024-03-18T01:07:12.399852Z"
    }
   },
   "id": "b332eaaf2aca8bdf",
   "execution_count": 60
  },
  {
   "cell_type": "code",
   "outputs": [
    {
     "name": "stdout",
     "output_type": "stream",
     "text": [
      "Accuracy: 0.7947761194029851\n"
     ]
    }
   ],
   "source": [
    "accuracy = stacking_clf.score(X_test, y_test)\n",
    "print(f\"Accuracy: {accuracy}\")"
   ],
   "metadata": {
    "collapsed": false,
    "ExecuteTime": {
     "end_time": "2024-03-18T01:07:21.632479Z",
     "start_time": "2024-03-18T01:07:21.594276Z"
    }
   },
   "id": "cedc6f3b2896f431",
   "execution_count": 61
  },
  {
   "cell_type": "code",
   "outputs": [
    {
     "name": "stdout",
     "output_type": "stream",
     "text": [
      "Accuracy Score: 0.7814070351758794\n"
     ]
    }
   ],
   "source": [
    "submission_test = stacking_clf.predict(to_test)\n",
    "submission_test = pd.Series(submission_test, to_test.index, name='Survived')\n",
    "actual_data = pd.read_csv(\"test_results.csv\",index_col=\"PassengerId\")\n",
    "merged_df = pd.merge(actual_data, submission_test, on='PassengerId')\n",
    "# Step 3: Calculate accuracy score\n",
    "accuracy = accuracy_score(merged_df['survived'], merged_df['Survived'])\n",
    "\n",
    "print(f\"Accuracy Score: {accuracy}\")"
   ],
   "metadata": {
    "collapsed": false,
    "ExecuteTime": {
     "end_time": "2024-03-18T01:07:22.442217Z",
     "start_time": "2024-03-18T01:07:22.399545Z"
    }
   },
   "id": "559b8bf7ff1638fa",
   "execution_count": 62
  },
  {
   "cell_type": "code",
   "outputs": [],
   "source": [
    "submission_test.to_csv(\"submission_test_ensemble.csv\")"
   ],
   "metadata": {
    "collapsed": false,
    "ExecuteTime": {
     "end_time": "2024-03-18T01:07:48.057133Z",
     "start_time": "2024-03-18T01:07:48.051993Z"
    }
   },
   "id": "8a4e9481e3a6d088",
   "execution_count": 63
  },
  {
   "cell_type": "code",
   "outputs": [
    {
     "data": {
      "text/plain": "['Embarked',\n 'Deck',\n 'Title',\n 'Sex',\n 'Fam_type',\n 'IsAlone',\n 'Age*Class',\n 'Fare_Per_Person']"
     },
     "execution_count": 52,
     "metadata": {},
     "output_type": "execute_result"
    }
   ],
   "source": [
    "X_train.columns.to_list()"
   ],
   "metadata": {
    "collapsed": false,
    "ExecuteTime": {
     "end_time": "2024-03-18T01:03:03.813543Z",
     "start_time": "2024-03-18T01:03:03.807266Z"
    }
   },
   "id": "5f04c7bf43c6a782",
   "execution_count": 52
  },
  {
   "cell_type": "code",
   "outputs": [],
   "source": [],
   "metadata": {
    "collapsed": false,
    "ExecuteTime": {
     "end_time": "2024-03-14T19:38:17.960285Z",
     "start_time": "2024-03-14T19:38:17.956769Z"
    }
   },
   "id": "2d669c9d64942554",
   "execution_count": 432
  }
 ],
 "metadata": {
  "kernelspec": {
   "display_name": "Python 3",
   "language": "python",
   "name": "python3"
  },
  "language_info": {
   "codemirror_mode": {
    "name": "ipython",
    "version": 2
   },
   "file_extension": ".py",
   "mimetype": "text/x-python",
   "name": "python",
   "nbconvert_exporter": "python",
   "pygments_lexer": "ipython2",
   "version": "2.7.6"
  }
 },
 "nbformat": 4,
 "nbformat_minor": 5
}
