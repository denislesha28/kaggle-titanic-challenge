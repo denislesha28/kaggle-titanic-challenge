{
 "cells": [
  {
   "cell_type": "code",
   "execution_count": 135,
   "id": "initial_id",
   "metadata": {
    "collapsed": true,
    "ExecuteTime": {
     "end_time": "2024-03-29T16:46:56.224672Z",
     "start_time": "2024-03-29T16:46:56.220008Z"
    }
   },
   "outputs": [],
   "source": [
    "import re\n",
    "\n",
    "import numpy as np\n",
    "import optuna as opt\n",
    "import pandas as pd\n",
    "import xgboost as xgb\n",
    "from matplotlib import pyplot as plt\n",
    "from sklearn.inspection import permutation_importance\n",
    "from sklearn.metrics import accuracy_score\n",
    "from sklearn.model_selection import train_test_split, StratifiedKFold, cross_val_score\n",
    "from sklearn.pipeline import make_pipeline\n",
    "from sklearn.preprocessing import LabelEncoder, StandardScaler\n",
    "from sklearn.linear_model import LogisticRegression\n",
    "from sklearn.ensemble import StackingClassifier\n",
    "from sklearn.svm import SVC\n",
    "from sklearn.linear_model import ElasticNet\n",
    "from xgboost import XGBClassifier"
   ]
  },
  {
   "cell_type": "code",
   "outputs": [],
   "source": [
    "random_id = 17 #ai23m017 - 17 is the id\n",
    "random_state = np.random.RandomState(random_id)"
   ],
   "metadata": {
    "collapsed": false,
    "ExecuteTime": {
     "end_time": "2024-03-29T16:46:56.605348Z",
     "start_time": "2024-03-29T16:46:56.600861Z"
    }
   },
   "id": "cfc9bf5391961962",
   "execution_count": 136
  },
  {
   "cell_type": "code",
   "outputs": [
    {
     "data": {
      "text/plain": "             Survived  Pclass  \\\nPassengerId                     \n1                   0       3   \n2                   1       1   \n3                   1       3   \n4                   1       1   \n5                   0       3   \n...               ...     ...   \n887                 0       2   \n888                 1       1   \n889                 0       3   \n890                 1       1   \n891                 0       3   \n\n                                                          Name   Age  SibSp  \\\nPassengerId                                                                   \n1                                      Braund, Mr. Owen Harris  22.0      1   \n2            Cumings, Mrs. John Bradley (Florence Briggs Th...  38.0      1   \n3                                       Heikkinen, Miss. Laina  26.0      0   \n4                 Futrelle, Mrs. Jacques Heath (Lily May Peel)  35.0      1   \n5                                     Allen, Mr. William Henry  35.0      0   \n...                                                        ...   ...    ...   \n887                                      Montvila, Rev. Juozas  27.0      0   \n888                               Graham, Miss. Margaret Edith  19.0      0   \n889                   Johnston, Miss. Catherine Helen \"Carrie\"   NaN      1   \n890                                      Behr, Mr. Karl Howell  26.0      0   \n891                                        Dooley, Mr. Patrick  32.0      0   \n\n             Parch            Ticket     Fare Cabin Embarked  \nPassengerId                                                   \n1                0         A/5 21171   7.2500   NaN        S  \n2                0          PC 17599  71.2833   C85        C  \n3                0  STON/O2. 3101282   7.9250   NaN        S  \n4                0            113803  53.1000  C123        S  \n5                0            373450   8.0500   NaN        S  \n...            ...               ...      ...   ...      ...  \n887              0            211536  13.0000   NaN        S  \n888              0            112053  30.0000   B42        S  \n889              2        W./C. 6607  23.4500   NaN        S  \n890              0            111369  30.0000  C148        C  \n891              0            370376   7.7500   NaN        Q  \n\n[891 rows x 10 columns]",
      "text/html": "<div>\n<style scoped>\n    .dataframe tbody tr th:only-of-type {\n        vertical-align: middle;\n    }\n\n    .dataframe tbody tr th {\n        vertical-align: top;\n    }\n\n    .dataframe thead th {\n        text-align: right;\n    }\n</style>\n<table border=\"1\" class=\"dataframe\">\n  <thead>\n    <tr style=\"text-align: right;\">\n      <th></th>\n      <th>Survived</th>\n      <th>Pclass</th>\n      <th>Name</th>\n      <th>Age</th>\n      <th>SibSp</th>\n      <th>Parch</th>\n      <th>Ticket</th>\n      <th>Fare</th>\n      <th>Cabin</th>\n      <th>Embarked</th>\n    </tr>\n    <tr>\n      <th>PassengerId</th>\n      <th></th>\n      <th></th>\n      <th></th>\n      <th></th>\n      <th></th>\n      <th></th>\n      <th></th>\n      <th></th>\n      <th></th>\n      <th></th>\n    </tr>\n  </thead>\n  <tbody>\n    <tr>\n      <th>1</th>\n      <td>0</td>\n      <td>3</td>\n      <td>Braund, Mr. Owen Harris</td>\n      <td>22.0</td>\n      <td>1</td>\n      <td>0</td>\n      <td>A/5 21171</td>\n      <td>7.2500</td>\n      <td>NaN</td>\n      <td>S</td>\n    </tr>\n    <tr>\n      <th>2</th>\n      <td>1</td>\n      <td>1</td>\n      <td>Cumings, Mrs. John Bradley (Florence Briggs Th...</td>\n      <td>38.0</td>\n      <td>1</td>\n      <td>0</td>\n      <td>PC 17599</td>\n      <td>71.2833</td>\n      <td>C85</td>\n      <td>C</td>\n    </tr>\n    <tr>\n      <th>3</th>\n      <td>1</td>\n      <td>3</td>\n      <td>Heikkinen, Miss. Laina</td>\n      <td>26.0</td>\n      <td>0</td>\n      <td>0</td>\n      <td>STON/O2. 3101282</td>\n      <td>7.9250</td>\n      <td>NaN</td>\n      <td>S</td>\n    </tr>\n    <tr>\n      <th>4</th>\n      <td>1</td>\n      <td>1</td>\n      <td>Futrelle, Mrs. Jacques Heath (Lily May Peel)</td>\n      <td>35.0</td>\n      <td>1</td>\n      <td>0</td>\n      <td>113803</td>\n      <td>53.1000</td>\n      <td>C123</td>\n      <td>S</td>\n    </tr>\n    <tr>\n      <th>5</th>\n      <td>0</td>\n      <td>3</td>\n      <td>Allen, Mr. William Henry</td>\n      <td>35.0</td>\n      <td>0</td>\n      <td>0</td>\n      <td>373450</td>\n      <td>8.0500</td>\n      <td>NaN</td>\n      <td>S</td>\n    </tr>\n    <tr>\n      <th>...</th>\n      <td>...</td>\n      <td>...</td>\n      <td>...</td>\n      <td>...</td>\n      <td>...</td>\n      <td>...</td>\n      <td>...</td>\n      <td>...</td>\n      <td>...</td>\n      <td>...</td>\n    </tr>\n    <tr>\n      <th>887</th>\n      <td>0</td>\n      <td>2</td>\n      <td>Montvila, Rev. Juozas</td>\n      <td>27.0</td>\n      <td>0</td>\n      <td>0</td>\n      <td>211536</td>\n      <td>13.0000</td>\n      <td>NaN</td>\n      <td>S</td>\n    </tr>\n    <tr>\n      <th>888</th>\n      <td>1</td>\n      <td>1</td>\n      <td>Graham, Miss. Margaret Edith</td>\n      <td>19.0</td>\n      <td>0</td>\n      <td>0</td>\n      <td>112053</td>\n      <td>30.0000</td>\n      <td>B42</td>\n      <td>S</td>\n    </tr>\n    <tr>\n      <th>889</th>\n      <td>0</td>\n      <td>3</td>\n      <td>Johnston, Miss. Catherine Helen \"Carrie\"</td>\n      <td>NaN</td>\n      <td>1</td>\n      <td>2</td>\n      <td>W./C. 6607</td>\n      <td>23.4500</td>\n      <td>NaN</td>\n      <td>S</td>\n    </tr>\n    <tr>\n      <th>890</th>\n      <td>1</td>\n      <td>1</td>\n      <td>Behr, Mr. Karl Howell</td>\n      <td>26.0</td>\n      <td>0</td>\n      <td>0</td>\n      <td>111369</td>\n      <td>30.0000</td>\n      <td>C148</td>\n      <td>C</td>\n    </tr>\n    <tr>\n      <th>891</th>\n      <td>0</td>\n      <td>3</td>\n      <td>Dooley, Mr. Patrick</td>\n      <td>32.0</td>\n      <td>0</td>\n      <td>0</td>\n      <td>370376</td>\n      <td>7.7500</td>\n      <td>NaN</td>\n      <td>Q</td>\n    </tr>\n  </tbody>\n</table>\n<p>891 rows × 10 columns</p>\n</div>"
     },
     "execution_count": 137,
     "metadata": {},
     "output_type": "execute_result"
    }
   ],
   "source": [
    "to_test = pd.read_csv(\"test.csv\", index_col=\"PassengerId\")\n",
    "df = pd.read_csv(\"train.csv\", index_col=\"PassengerId\")\n",
    "df"
   ],
   "metadata": {
    "collapsed": false,
    "ExecuteTime": {
     "end_time": "2024-03-29T16:46:56.624500Z",
     "start_time": "2024-03-29T16:46:56.607411Z"
    }
   },
   "id": "7437cf88e2628702",
   "execution_count": 137
  },
  {
   "cell_type": "code",
   "outputs": [
    {
     "data": {
      "text/plain": "Survived             Int64\nPclass               Int64\nName        string[python]\nAge                Float64\nSibSp                Int64\nParch                Int64\nTicket      string[python]\nFare               Float64\nCabin       string[python]\nEmbarked          category\ndtype: object"
     },
     "execution_count": 138,
     "metadata": {},
     "output_type": "execute_result"
    }
   ],
   "source": [
    "df = df.convert_dtypes()\n",
    "df[\"Embarked\"] = df[\"Embarked\"].astype(\"category\")\n",
    "df.dtypes"
   ],
   "metadata": {
    "collapsed": false,
    "ExecuteTime": {
     "end_time": "2024-03-29T16:46:56.665165Z",
     "start_time": "2024-03-29T16:46:56.656541Z"
    }
   },
   "id": "bc7c0dd7b79336e6",
   "execution_count": 138
  },
  {
   "cell_type": "code",
   "outputs": [
    {
     "name": "stdout",
     "output_type": "stream",
     "text": [
      "['Age', 'Cabin', 'Embarked']\n"
     ]
    }
   ],
   "source": [
    "X_train,X_test,y_train,y_test = train_test_split(df.drop(\"Survived\", axis=1), df[\"Survived\"], test_size=0.2, random_state=random_id)# stratify=df[\"Survived\"])\n",
    "print(df.columns[df.isna().any(axis=0)].tolist())"
   ],
   "metadata": {
    "collapsed": false,
    "ExecuteTime": {
     "end_time": "2024-03-29T16:46:56.711982Z",
     "start_time": "2024-03-29T16:46:56.704629Z"
    }
   },
   "id": "311deef3a7079778",
   "execution_count": 139
  },
  {
   "cell_type": "markdown",
   "source": [
    "### Data Pre-Processing after splitting the data to prevent data - leakage"
   ],
   "metadata": {
    "collapsed": false
   },
   "id": "81f55df3da10ac26"
  },
  {
   "cell_type": "markdown",
   "source": [
    "##### Data Imputation for the Age column by utilizing the mean of other values"
   ],
   "metadata": {
    "collapsed": false
   },
   "id": "60171126b50771b0"
  },
  {
   "cell_type": "code",
   "outputs": [],
   "source": [
    "#Data Imputation for the Age column\n",
    "data = [X_train, X_test, to_test]\n",
    "for dataset in data:\n",
    "    mean = X_train[\"Age\"].mean()\n",
    "    std = X_test[\"Age\"].std()\n",
    "    is_null = dataset[\"Age\"].isna().sum()\n",
    "    rand_age = np.random.randint(mean - std, mean + std, size = is_null)\n",
    "    rand_age_series = pd.Series(rand_age, index=dataset[dataset[\"Age\"].isnull()].index)\n",
    "    dataset[\"Age\"].fillna(rand_age_series, inplace=True)\n",
    "    dataset[\"Age\"] = dataset[\"Age\"].astype(int)\n",
    "    "
   ],
   "metadata": {
    "collapsed": false,
    "ExecuteTime": {
     "end_time": "2024-03-29T16:46:56.760524Z",
     "start_time": "2024-03-29T16:46:56.752332Z"
    }
   },
   "id": "382104a86596fa97",
   "execution_count": 140
  },
  {
   "cell_type": "markdown",
   "source": [
    "##### Feature Engineering"
   ],
   "metadata": {
    "collapsed": false
   },
   "id": "a8339020fd3f3ded"
  },
  {
   "cell_type": "code",
   "outputs": [],
   "source": [
    "#Feature Engineering the Deck Column \n",
    "#Cabins are mapped to a numerical Deck feature\n",
    "\n",
    "deck = {\"A\": 1, \"B\": 2, \"C\": 3, \"D\": 4, \"E\": 5, \"F\": 6, \"G\": 7, \"U\": 8}\n",
    "\n",
    "for dataset in data:\n",
    "    \n",
    "    dataset['Cabin'] = dataset['Cabin'].fillna(\"U0\")\n",
    "    dataset['Deck'] = dataset['Cabin'].map(lambda x: re.compile(\"([a-zA-Z]+)\").search(x).group())\n",
    "    dataset['Deck'] = dataset['Deck'].map(deck)\n",
    "    dataset['Deck'] = dataset['Deck'].fillna(0)\n",
    "    dataset['Deck'] = dataset['Deck'].astype(int)\n",
    "    \n",
    "    dataset[\"Family_Name\"] = dataset['Name'].str.split(',', n = 1, expand=True)[0]\n",
    "    #dataset.drop([\"Cabin\"], axis=1, inplace=True)"
   ],
   "metadata": {
    "collapsed": false,
    "ExecuteTime": {
     "end_time": "2024-03-29T16:46:56.824476Z",
     "start_time": "2024-03-29T16:46:56.814060Z"
    }
   },
   "id": "e8ca56c07025d74e",
   "execution_count": 141
  },
  {
   "cell_type": "code",
   "outputs": [],
   "source": [
    "X_train[\"Embarked\"].describe()\n",
    "for dataset in [X_train, X_test, to_test]:\n",
    "    dataset['Embarked'].fillna(dataset['Embarked'].mode()[0], inplace=True)\n"
   ],
   "metadata": {
    "collapsed": false,
    "ExecuteTime": {
     "end_time": "2024-03-29T16:46:56.897162Z",
     "start_time": "2024-03-29T16:46:56.891686Z"
    }
   },
   "id": "46c7b88f0da0a969",
   "execution_count": 142
  },
  {
   "cell_type": "code",
   "outputs": [
    {
     "data": {
      "text/plain": "Pclass         False\nName           False\nAge            False\nSibSp          False\nParch          False\nTicket         False\nFare           False\nCabin          False\nEmbarked       False\nDeck           False\nFamily_Name    False\ndtype: bool"
     },
     "execution_count": 143,
     "metadata": {},
     "output_type": "execute_result"
    }
   ],
   "source": [
    "X_train.isna().any()"
   ],
   "metadata": {
    "collapsed": false,
    "ExecuteTime": {
     "end_time": "2024-03-29T16:46:56.986853Z",
     "start_time": "2024-03-29T16:46:56.981138Z"
    }
   },
   "id": "32c820fc22b56a5d",
   "execution_count": 143
  },
  {
   "cell_type": "code",
   "outputs": [
    {
     "name": "stdout",
     "output_type": "stream",
     "text": [
      "['Mr' 'Mrs' 'Miss' 'Master' 'Dr' 'Col' 'Rev' 'Jonkheer' 'Mlle' 'Sir' 'Ms'\n",
      " 'Capt' 'Major' 'Don']\n",
      "['Mr' 'Mrs' 'Miss' 'Master' 'Rare']\n",
      "['Mr' 'Mrs' 'Miss' 'Master' 'Rare']\n"
     ]
    }
   ],
   "source": [
    "#Feature Engineering Title Column\n",
    "status_map={'Capt':'Military',\n",
    "            'Col':'Military',\n",
    "            'Don':'Noble',\n",
    "            'Dona':'Noble',\n",
    "            'Dr':'Dr',\n",
    "            'Jonkheer':'Noble',\n",
    "            'Lady':'Noble',\n",
    "            'Major':'Military',\n",
    "            'Master':'Common',\n",
    "            'Miss':'Common',\n",
    "            'Mlle':'Common',\n",
    "            'Mme':'Common',\n",
    "            'Mr':'Common',\n",
    "            'Mrs':'Common',\n",
    "            'Ms':'Common',\n",
    "            'Rev':'Clergy',\n",
    "            'Sir':'Noble',\n",
    "            'the Countess':'Noble',\n",
    "            }\n",
    "\n",
    "for dataset in data:\n",
    "    dataset[\"Title\"] = dataset[\"Name\"].apply(lambda x: x.split(\",\")[1].split(\".\")[0].strip())\n",
    "    print(pd.unique(X_train[\"Title\"]))\n",
    "    #dataset['Social_Status'] = dataset['Title'].map(status_map)\n",
    "    dataset['Title'] = dataset['Title'].replace(['Lady', 'Countess','Capt', 'Col',\\\n",
    " \t'Don', 'Dr', 'Major', 'Rev', 'Sir', 'Jonkheer', 'Dona'], 'Rare')\n",
    "\n",
    "    dataset['Title'] = dataset['Title'].replace('Mlle', 'Miss')\n",
    "    dataset['Title'] = dataset['Title'].replace('Ms', 'Miss')\n",
    "    dataset['Title'] = dataset['Title'].replace('Mme', 'Mrs')\n"
   ],
   "metadata": {
    "collapsed": false,
    "ExecuteTime": {
     "end_time": "2024-03-29T16:46:57.039306Z",
     "start_time": "2024-03-29T16:46:57.029120Z"
    }
   },
   "id": "f6cd938e3addfb44",
   "execution_count": 144
  },
  {
   "cell_type": "code",
   "outputs": [],
   "source": [
    "#Feature Engineering Sex Column \n",
    "def map_to_sex(value):\n",
    "    if value in [\"Miss\",\"Mrs\"]:\n",
    "        return \"female\"\n",
    "    else:\n",
    "        return \"male\"\n",
    "\n",
    "for dataset in data:\n",
    "    dataset[\"Sex\"] = dataset[\"Title\"].apply(map_to_sex)\n",
    "    dataset['Sex'] = dataset['Sex'].map( {'female': 1, 'male': 0} ).astype(int)\n",
    "    #dataset.drop(\"Title\", axis=1, inplace=True)"
   ],
   "metadata": {
    "collapsed": false,
    "ExecuteTime": {
     "end_time": "2024-03-29T16:46:57.055958Z",
     "start_time": "2024-03-29T16:46:57.049403Z"
    }
   },
   "id": "502afae6ac628fa2",
   "execution_count": 145
  },
  {
   "cell_type": "code",
   "outputs": [
    {
     "data": {
      "text/plain": "             Pclass                                             Name  Age  \\\nPassengerId                                                                 \n874               3                      Vander Cruyssen, Mr. Victor   47   \n829               3                     McCormack, Mr. Thomas Joseph   18   \n100               2                                Kantor, Mr. Sinai   34   \n524               1  Hippach, Mrs. Louis Albert (Ida Sophia Fischer)   44   \n133               3   Robins, Mrs. Alexander A (Grace Charity Laury)   47   \n...             ...                                              ...  ...   \n407               3                 Widegren, Mr. Carl/Charles Peter   51   \n391               1                       Carter, Mr. William Ernest   36   \n144               3                              Burke, Mr. Jeremiah   19   \n242               3                   Murphy, Miss. Katherine \"Kate\"   28   \n624               3                      Hansen, Mr. Henry Damsgaard   21   \n\n             SibSp  Parch     Ticket     Fare    Cabin Embarked  Deck  \\\nPassengerId                                                             \n874              0      0     345765      9.0       U0        S     8   \n829              0      0     367228     7.75       U0        Q     8   \n100              1      0     244367     26.0       U0        S     8   \n524              0      1     111361  57.9792      B18        C     2   \n133              1      0  A/5. 3337     14.5       U0        S     8   \n...            ...    ...        ...      ...      ...      ...   ...   \n407              0      0     347064     7.75       U0        S     8   \n391              1      2     113760    120.0  B96 B98        S     2   \n144              0      0     365222     6.75       U0        Q     8   \n242              1      0     367230     15.5       U0        Q     8   \n624              0      0     350029   7.8542       U0        S     8   \n\n                 Family_Name Title  Sex  \nPassengerId                              \n874          Vander Cruyssen    Mr    0  \n829                McCormack    Mr    0  \n100                   Kantor    Mr    0  \n524                  Hippach   Mrs    1  \n133                   Robins   Mrs    1  \n...                      ...   ...  ...  \n407                 Widegren    Mr    0  \n391                   Carter    Mr    0  \n144                    Burke    Mr    0  \n242                   Murphy  Miss    1  \n624                   Hansen    Mr    0  \n\n[712 rows x 13 columns]",
      "text/html": "<div>\n<style scoped>\n    .dataframe tbody tr th:only-of-type {\n        vertical-align: middle;\n    }\n\n    .dataframe tbody tr th {\n        vertical-align: top;\n    }\n\n    .dataframe thead th {\n        text-align: right;\n    }\n</style>\n<table border=\"1\" class=\"dataframe\">\n  <thead>\n    <tr style=\"text-align: right;\">\n      <th></th>\n      <th>Pclass</th>\n      <th>Name</th>\n      <th>Age</th>\n      <th>SibSp</th>\n      <th>Parch</th>\n      <th>Ticket</th>\n      <th>Fare</th>\n      <th>Cabin</th>\n      <th>Embarked</th>\n      <th>Deck</th>\n      <th>Family_Name</th>\n      <th>Title</th>\n      <th>Sex</th>\n    </tr>\n    <tr>\n      <th>PassengerId</th>\n      <th></th>\n      <th></th>\n      <th></th>\n      <th></th>\n      <th></th>\n      <th></th>\n      <th></th>\n      <th></th>\n      <th></th>\n      <th></th>\n      <th></th>\n      <th></th>\n      <th></th>\n    </tr>\n  </thead>\n  <tbody>\n    <tr>\n      <th>874</th>\n      <td>3</td>\n      <td>Vander Cruyssen, Mr. Victor</td>\n      <td>47</td>\n      <td>0</td>\n      <td>0</td>\n      <td>345765</td>\n      <td>9.0</td>\n      <td>U0</td>\n      <td>S</td>\n      <td>8</td>\n      <td>Vander Cruyssen</td>\n      <td>Mr</td>\n      <td>0</td>\n    </tr>\n    <tr>\n      <th>829</th>\n      <td>3</td>\n      <td>McCormack, Mr. Thomas Joseph</td>\n      <td>18</td>\n      <td>0</td>\n      <td>0</td>\n      <td>367228</td>\n      <td>7.75</td>\n      <td>U0</td>\n      <td>Q</td>\n      <td>8</td>\n      <td>McCormack</td>\n      <td>Mr</td>\n      <td>0</td>\n    </tr>\n    <tr>\n      <th>100</th>\n      <td>2</td>\n      <td>Kantor, Mr. Sinai</td>\n      <td>34</td>\n      <td>1</td>\n      <td>0</td>\n      <td>244367</td>\n      <td>26.0</td>\n      <td>U0</td>\n      <td>S</td>\n      <td>8</td>\n      <td>Kantor</td>\n      <td>Mr</td>\n      <td>0</td>\n    </tr>\n    <tr>\n      <th>524</th>\n      <td>1</td>\n      <td>Hippach, Mrs. Louis Albert (Ida Sophia Fischer)</td>\n      <td>44</td>\n      <td>0</td>\n      <td>1</td>\n      <td>111361</td>\n      <td>57.9792</td>\n      <td>B18</td>\n      <td>C</td>\n      <td>2</td>\n      <td>Hippach</td>\n      <td>Mrs</td>\n      <td>1</td>\n    </tr>\n    <tr>\n      <th>133</th>\n      <td>3</td>\n      <td>Robins, Mrs. Alexander A (Grace Charity Laury)</td>\n      <td>47</td>\n      <td>1</td>\n      <td>0</td>\n      <td>A/5. 3337</td>\n      <td>14.5</td>\n      <td>U0</td>\n      <td>S</td>\n      <td>8</td>\n      <td>Robins</td>\n      <td>Mrs</td>\n      <td>1</td>\n    </tr>\n    <tr>\n      <th>...</th>\n      <td>...</td>\n      <td>...</td>\n      <td>...</td>\n      <td>...</td>\n      <td>...</td>\n      <td>...</td>\n      <td>...</td>\n      <td>...</td>\n      <td>...</td>\n      <td>...</td>\n      <td>...</td>\n      <td>...</td>\n      <td>...</td>\n    </tr>\n    <tr>\n      <th>407</th>\n      <td>3</td>\n      <td>Widegren, Mr. Carl/Charles Peter</td>\n      <td>51</td>\n      <td>0</td>\n      <td>0</td>\n      <td>347064</td>\n      <td>7.75</td>\n      <td>U0</td>\n      <td>S</td>\n      <td>8</td>\n      <td>Widegren</td>\n      <td>Mr</td>\n      <td>0</td>\n    </tr>\n    <tr>\n      <th>391</th>\n      <td>1</td>\n      <td>Carter, Mr. William Ernest</td>\n      <td>36</td>\n      <td>1</td>\n      <td>2</td>\n      <td>113760</td>\n      <td>120.0</td>\n      <td>B96 B98</td>\n      <td>S</td>\n      <td>2</td>\n      <td>Carter</td>\n      <td>Mr</td>\n      <td>0</td>\n    </tr>\n    <tr>\n      <th>144</th>\n      <td>3</td>\n      <td>Burke, Mr. Jeremiah</td>\n      <td>19</td>\n      <td>0</td>\n      <td>0</td>\n      <td>365222</td>\n      <td>6.75</td>\n      <td>U0</td>\n      <td>Q</td>\n      <td>8</td>\n      <td>Burke</td>\n      <td>Mr</td>\n      <td>0</td>\n    </tr>\n    <tr>\n      <th>242</th>\n      <td>3</td>\n      <td>Murphy, Miss. Katherine \"Kate\"</td>\n      <td>28</td>\n      <td>1</td>\n      <td>0</td>\n      <td>367230</td>\n      <td>15.5</td>\n      <td>U0</td>\n      <td>Q</td>\n      <td>8</td>\n      <td>Murphy</td>\n      <td>Miss</td>\n      <td>1</td>\n    </tr>\n    <tr>\n      <th>624</th>\n      <td>3</td>\n      <td>Hansen, Mr. Henry Damsgaard</td>\n      <td>21</td>\n      <td>0</td>\n      <td>0</td>\n      <td>350029</td>\n      <td>7.8542</td>\n      <td>U0</td>\n      <td>S</td>\n      <td>8</td>\n      <td>Hansen</td>\n      <td>Mr</td>\n      <td>0</td>\n    </tr>\n  </tbody>\n</table>\n<p>712 rows × 13 columns</p>\n</div>"
     },
     "execution_count": 146,
     "metadata": {},
     "output_type": "execute_result"
    }
   ],
   "source": [
    "X_train"
   ],
   "metadata": {
    "collapsed": false,
    "ExecuteTime": {
     "end_time": "2024-03-29T16:46:57.083789Z",
     "start_time": "2024-03-29T16:46:57.069338Z"
    }
   },
   "id": "c5037514f31d96f3",
   "execution_count": 146
  },
  {
   "cell_type": "code",
   "outputs": [],
   "source": [
    "#Feature Engineering Family Size Column\n",
    "for dataset in data:\n",
    "    dataset[\"Fam_size\"] = dataset[\"SibSp\"] + dataset[\"Parch\"] + 1\n",
    "    #dataset[\"Fam_type\"] = pd.cut(dataset.Fam_size, [0,1,4,7,11], labels=[\"Solo\", \"Small\", \"Big\", \"Very big\"])\n",
    "    dataset['IsAlone'] = 0\n",
    "    dataset.loc[dataset['Fam_size'] == 1, 'IsAlone'] = 1\n",
    "    dataset.drop([\"SibSp\",\"Parch\"], axis=1, inplace=True)"
   ],
   "metadata": {
    "collapsed": false,
    "ExecuteTime": {
     "end_time": "2024-03-29T16:46:57.128555Z",
     "start_time": "2024-03-29T16:46:57.120219Z"
    }
   },
   "id": "7611fdcd2568120a",
   "execution_count": 147
  },
  {
   "cell_type": "code",
   "outputs": [
    {
     "data": {
      "text/plain": "145"
     },
     "execution_count": 148,
     "metadata": {},
     "output_type": "execute_result"
    }
   ],
   "source": [
    "X_train[\"Ticket\"].duplicated().sum()\n"
   ],
   "metadata": {
    "collapsed": false,
    "ExecuteTime": {
     "end_time": "2024-03-29T16:46:57.175721Z",
     "start_time": "2024-03-29T16:46:57.171299Z"
    }
   },
   "id": "3c726e1e72f3104c",
   "execution_count": 148
  },
  {
   "cell_type": "code",
   "outputs": [
    {
     "data": {
      "text/plain": "712"
     },
     "execution_count": 149,
     "metadata": {},
     "output_type": "execute_result"
    }
   ],
   "source": [
    "len(X_train)"
   ],
   "metadata": {
    "collapsed": false,
    "ExecuteTime": {
     "end_time": "2024-03-29T16:46:57.220766Z",
     "start_time": "2024-03-29T16:46:57.216670Z"
    }
   },
   "id": "84e9354197ef3ff7",
   "execution_count": 149
  },
  {
   "cell_type": "code",
   "outputs": [
    {
     "data": {
      "text/plain": "             Pclass                                             Name  Age  \\\nPassengerId                                                                 \n874               3                      Vander Cruyssen, Mr. Victor   47   \n829               3                     McCormack, Mr. Thomas Joseph   18   \n100               2                                Kantor, Mr. Sinai   34   \n524               1  Hippach, Mrs. Louis Albert (Ida Sophia Fischer)   44   \n133               3   Robins, Mrs. Alexander A (Grace Charity Laury)   47   \n...             ...                                              ...  ...   \n407               3                 Widegren, Mr. Carl/Charles Peter   51   \n391               1                       Carter, Mr. William Ernest   36   \n144               3                              Burke, Mr. Jeremiah   19   \n242               3                   Murphy, Miss. Katherine \"Kate\"   28   \n624               3                      Hansen, Mr. Henry Damsgaard   21   \n\n                Ticket     Fare    Cabin Embarked  Deck      Family_Name  \\\nPassengerId                                                                \n874             345765      9.0       U0        S     8  Vander Cruyssen   \n829             367228     7.75       U0        Q     8        McCormack   \n100             244367     26.0       U0        S     8           Kantor   \n524             111361  57.9792      B18        C     2          Hippach   \n133          A/5. 3337     14.5       U0        S     8           Robins   \n...                ...      ...      ...      ...   ...              ...   \n407             347064     7.75       U0        S     8         Widegren   \n391             113760    120.0  B96 B98        S     2           Carter   \n144             365222     6.75       U0        Q     8            Burke   \n242             367230     15.5       U0        Q     8           Murphy   \n624             350029   7.8542       U0        S     8           Hansen   \n\n            Title  Sex  Fam_size  IsAlone  \nPassengerId                                \n874            Mr    0         1        1  \n829            Mr    0         1        1  \n100            Mr    0         2        0  \n524           Mrs    1         2        0  \n133           Mrs    1         2        0  \n...           ...  ...       ...      ...  \n407            Mr    0         1        1  \n391            Mr    0         4        0  \n144            Mr    0         1        1  \n242          Miss    1         2        0  \n624            Mr    0         1        1  \n\n[712 rows x 13 columns]",
      "text/html": "<div>\n<style scoped>\n    .dataframe tbody tr th:only-of-type {\n        vertical-align: middle;\n    }\n\n    .dataframe tbody tr th {\n        vertical-align: top;\n    }\n\n    .dataframe thead th {\n        text-align: right;\n    }\n</style>\n<table border=\"1\" class=\"dataframe\">\n  <thead>\n    <tr style=\"text-align: right;\">\n      <th></th>\n      <th>Pclass</th>\n      <th>Name</th>\n      <th>Age</th>\n      <th>Ticket</th>\n      <th>Fare</th>\n      <th>Cabin</th>\n      <th>Embarked</th>\n      <th>Deck</th>\n      <th>Family_Name</th>\n      <th>Title</th>\n      <th>Sex</th>\n      <th>Fam_size</th>\n      <th>IsAlone</th>\n    </tr>\n    <tr>\n      <th>PassengerId</th>\n      <th></th>\n      <th></th>\n      <th></th>\n      <th></th>\n      <th></th>\n      <th></th>\n      <th></th>\n      <th></th>\n      <th></th>\n      <th></th>\n      <th></th>\n      <th></th>\n      <th></th>\n    </tr>\n  </thead>\n  <tbody>\n    <tr>\n      <th>874</th>\n      <td>3</td>\n      <td>Vander Cruyssen, Mr. Victor</td>\n      <td>47</td>\n      <td>345765</td>\n      <td>9.0</td>\n      <td>U0</td>\n      <td>S</td>\n      <td>8</td>\n      <td>Vander Cruyssen</td>\n      <td>Mr</td>\n      <td>0</td>\n      <td>1</td>\n      <td>1</td>\n    </tr>\n    <tr>\n      <th>829</th>\n      <td>3</td>\n      <td>McCormack, Mr. Thomas Joseph</td>\n      <td>18</td>\n      <td>367228</td>\n      <td>7.75</td>\n      <td>U0</td>\n      <td>Q</td>\n      <td>8</td>\n      <td>McCormack</td>\n      <td>Mr</td>\n      <td>0</td>\n      <td>1</td>\n      <td>1</td>\n    </tr>\n    <tr>\n      <th>100</th>\n      <td>2</td>\n      <td>Kantor, Mr. Sinai</td>\n      <td>34</td>\n      <td>244367</td>\n      <td>26.0</td>\n      <td>U0</td>\n      <td>S</td>\n      <td>8</td>\n      <td>Kantor</td>\n      <td>Mr</td>\n      <td>0</td>\n      <td>2</td>\n      <td>0</td>\n    </tr>\n    <tr>\n      <th>524</th>\n      <td>1</td>\n      <td>Hippach, Mrs. Louis Albert (Ida Sophia Fischer)</td>\n      <td>44</td>\n      <td>111361</td>\n      <td>57.9792</td>\n      <td>B18</td>\n      <td>C</td>\n      <td>2</td>\n      <td>Hippach</td>\n      <td>Mrs</td>\n      <td>1</td>\n      <td>2</td>\n      <td>0</td>\n    </tr>\n    <tr>\n      <th>133</th>\n      <td>3</td>\n      <td>Robins, Mrs. Alexander A (Grace Charity Laury)</td>\n      <td>47</td>\n      <td>A/5. 3337</td>\n      <td>14.5</td>\n      <td>U0</td>\n      <td>S</td>\n      <td>8</td>\n      <td>Robins</td>\n      <td>Mrs</td>\n      <td>1</td>\n      <td>2</td>\n      <td>0</td>\n    </tr>\n    <tr>\n      <th>...</th>\n      <td>...</td>\n      <td>...</td>\n      <td>...</td>\n      <td>...</td>\n      <td>...</td>\n      <td>...</td>\n      <td>...</td>\n      <td>...</td>\n      <td>...</td>\n      <td>...</td>\n      <td>...</td>\n      <td>...</td>\n      <td>...</td>\n    </tr>\n    <tr>\n      <th>407</th>\n      <td>3</td>\n      <td>Widegren, Mr. Carl/Charles Peter</td>\n      <td>51</td>\n      <td>347064</td>\n      <td>7.75</td>\n      <td>U0</td>\n      <td>S</td>\n      <td>8</td>\n      <td>Widegren</td>\n      <td>Mr</td>\n      <td>0</td>\n      <td>1</td>\n      <td>1</td>\n    </tr>\n    <tr>\n      <th>391</th>\n      <td>1</td>\n      <td>Carter, Mr. William Ernest</td>\n      <td>36</td>\n      <td>113760</td>\n      <td>120.0</td>\n      <td>B96 B98</td>\n      <td>S</td>\n      <td>2</td>\n      <td>Carter</td>\n      <td>Mr</td>\n      <td>0</td>\n      <td>4</td>\n      <td>0</td>\n    </tr>\n    <tr>\n      <th>144</th>\n      <td>3</td>\n      <td>Burke, Mr. Jeremiah</td>\n      <td>19</td>\n      <td>365222</td>\n      <td>6.75</td>\n      <td>U0</td>\n      <td>Q</td>\n      <td>8</td>\n      <td>Burke</td>\n      <td>Mr</td>\n      <td>0</td>\n      <td>1</td>\n      <td>1</td>\n    </tr>\n    <tr>\n      <th>242</th>\n      <td>3</td>\n      <td>Murphy, Miss. Katherine \"Kate\"</td>\n      <td>28</td>\n      <td>367230</td>\n      <td>15.5</td>\n      <td>U0</td>\n      <td>Q</td>\n      <td>8</td>\n      <td>Murphy</td>\n      <td>Miss</td>\n      <td>1</td>\n      <td>2</td>\n      <td>0</td>\n    </tr>\n    <tr>\n      <th>624</th>\n      <td>3</td>\n      <td>Hansen, Mr. Henry Damsgaard</td>\n      <td>21</td>\n      <td>350029</td>\n      <td>7.8542</td>\n      <td>U0</td>\n      <td>S</td>\n      <td>8</td>\n      <td>Hansen</td>\n      <td>Mr</td>\n      <td>0</td>\n      <td>1</td>\n      <td>1</td>\n    </tr>\n  </tbody>\n</table>\n<p>712 rows × 13 columns</p>\n</div>"
     },
     "execution_count": 150,
     "metadata": {},
     "output_type": "execute_result"
    }
   ],
   "source": [
    "X_train"
   ],
   "metadata": {
    "collapsed": false,
    "ExecuteTime": {
     "end_time": "2024-03-29T16:46:57.270934Z",
     "start_time": "2024-03-29T16:46:57.258922Z"
    }
   },
   "id": "96eb3d148ad819dd",
   "execution_count": 150
  },
  {
   "cell_type": "code",
   "outputs": [
    {
     "data": {
      "text/plain": "\"\\nfor dataset in data:\\n    for i, row in dataset.iterrows():\\n        group_survival_estimate = 0.5\\n        \\n        # Identifiable family aboard\\n        if row['SibSp'] > 0 or row['Parch'] > 0:\\n            similar_passengers = dataset[\\n                (dataset['Pclass'] == row['Pclass']) &\\n                (dataset['Embarked'] == row['Embarked']) &\\n                (dataset['Fam_size'] == row['Fam_size']) &\\n                (dataset.index != i)\\n            ]\\n            \\n            \\n            if not similar_passengers.empty:\\n                survived_count = similar_passengers['Survived'].sum()\\n                total_count = similar_passengers['Survived'].count()\\n                group_survival_estimate = survived_count / total_count if total_count > 0 else 0.5\\n        \\n        \\n        dataset.at[i, 'GroupSurvivabilityEstimate'] = group_survival_estimate\\n\""
     },
     "execution_count": 151,
     "metadata": {},
     "output_type": "execute_result"
    }
   ],
   "source": [
    "'''\n",
    "for dataset in data:\n",
    "    for i, row in dataset.iterrows():\n",
    "        group_survival_estimate = 0.5\n",
    "        \n",
    "        # Identifiable family aboard\n",
    "        if row['SibSp'] > 0 or row['Parch'] > 0:\n",
    "            similar_passengers = dataset[\n",
    "                (dataset['Pclass'] == row['Pclass']) &\n",
    "                (dataset['Embarked'] == row['Embarked']) &\n",
    "                (dataset['Fam_size'] == row['Fam_size']) &\n",
    "                (dataset.index != i)\n",
    "            ]\n",
    "            \n",
    "            \n",
    "            if not similar_passengers.empty:\n",
    "                survived_count = similar_passengers['Survived'].sum()\n",
    "                total_count = similar_passengers['Survived'].count()\n",
    "                group_survival_estimate = survived_count / total_count if total_count > 0 else 0.5\n",
    "        \n",
    "        \n",
    "        dataset.at[i, 'GroupSurvivabilityEstimate'] = group_survival_estimate\n",
    "'''"
   ],
   "metadata": {
    "collapsed": false,
    "ExecuteTime": {
     "end_time": "2024-03-29T16:46:57.394398Z",
     "start_time": "2024-03-29T16:46:57.389490Z"
    }
   },
   "id": "16ad6f243f7a2be0",
   "execution_count": 151
  },
  {
   "cell_type": "code",
   "outputs": [
    {
     "data": {
      "text/plain": "             Pclass                                             Name  Age  \\\nPassengerId                                                                 \n874               3                      Vander Cruyssen, Mr. Victor   47   \n829               3                     McCormack, Mr. Thomas Joseph   18   \n100               2                                Kantor, Mr. Sinai   34   \n524               1  Hippach, Mrs. Louis Albert (Ida Sophia Fischer)   44   \n133               3   Robins, Mrs. Alexander A (Grace Charity Laury)   47   \n...             ...                                              ...  ...   \n407               3                 Widegren, Mr. Carl/Charles Peter   51   \n391               1                       Carter, Mr. William Ernest   36   \n144               3                              Burke, Mr. Jeremiah   19   \n242               3                   Murphy, Miss. Katherine \"Kate\"   28   \n624               3                      Hansen, Mr. Henry Damsgaard   21   \n\n                Ticket     Fare    Cabin Embarked  Deck      Family_Name  \\\nPassengerId                                                                \n874             345765      9.0       U0        S     8  Vander Cruyssen   \n829             367228     7.75       U0        Q     8        McCormack   \n100             244367     26.0       U0        S     8           Kantor   \n524             111361  57.9792      B18        C     2          Hippach   \n133          A/5. 3337     14.5       U0        S     8           Robins   \n...                ...      ...      ...      ...   ...              ...   \n407             347064     7.75       U0        S     8         Widegren   \n391             113760    120.0  B96 B98        S     2           Carter   \n144             365222     6.75       U0        Q     8            Burke   \n242             367230     15.5       U0        Q     8           Murphy   \n624             350029   7.8542       U0        S     8           Hansen   \n\n            Title  Sex  Fam_size  IsAlone  \nPassengerId                                \n874            Mr    0         1        1  \n829            Mr    0         1        1  \n100            Mr    0         2        0  \n524           Mrs    1         2        0  \n133           Mrs    1         2        0  \n...           ...  ...       ...      ...  \n407            Mr    0         1        1  \n391            Mr    0         4        0  \n144            Mr    0         1        1  \n242          Miss    1         2        0  \n624            Mr    0         1        1  \n\n[712 rows x 13 columns]",
      "text/html": "<div>\n<style scoped>\n    .dataframe tbody tr th:only-of-type {\n        vertical-align: middle;\n    }\n\n    .dataframe tbody tr th {\n        vertical-align: top;\n    }\n\n    .dataframe thead th {\n        text-align: right;\n    }\n</style>\n<table border=\"1\" class=\"dataframe\">\n  <thead>\n    <tr style=\"text-align: right;\">\n      <th></th>\n      <th>Pclass</th>\n      <th>Name</th>\n      <th>Age</th>\n      <th>Ticket</th>\n      <th>Fare</th>\n      <th>Cabin</th>\n      <th>Embarked</th>\n      <th>Deck</th>\n      <th>Family_Name</th>\n      <th>Title</th>\n      <th>Sex</th>\n      <th>Fam_size</th>\n      <th>IsAlone</th>\n    </tr>\n    <tr>\n      <th>PassengerId</th>\n      <th></th>\n      <th></th>\n      <th></th>\n      <th></th>\n      <th></th>\n      <th></th>\n      <th></th>\n      <th></th>\n      <th></th>\n      <th></th>\n      <th></th>\n      <th></th>\n      <th></th>\n    </tr>\n  </thead>\n  <tbody>\n    <tr>\n      <th>874</th>\n      <td>3</td>\n      <td>Vander Cruyssen, Mr. Victor</td>\n      <td>47</td>\n      <td>345765</td>\n      <td>9.0</td>\n      <td>U0</td>\n      <td>S</td>\n      <td>8</td>\n      <td>Vander Cruyssen</td>\n      <td>Mr</td>\n      <td>0</td>\n      <td>1</td>\n      <td>1</td>\n    </tr>\n    <tr>\n      <th>829</th>\n      <td>3</td>\n      <td>McCormack, Mr. Thomas Joseph</td>\n      <td>18</td>\n      <td>367228</td>\n      <td>7.75</td>\n      <td>U0</td>\n      <td>Q</td>\n      <td>8</td>\n      <td>McCormack</td>\n      <td>Mr</td>\n      <td>0</td>\n      <td>1</td>\n      <td>1</td>\n    </tr>\n    <tr>\n      <th>100</th>\n      <td>2</td>\n      <td>Kantor, Mr. Sinai</td>\n      <td>34</td>\n      <td>244367</td>\n      <td>26.0</td>\n      <td>U0</td>\n      <td>S</td>\n      <td>8</td>\n      <td>Kantor</td>\n      <td>Mr</td>\n      <td>0</td>\n      <td>2</td>\n      <td>0</td>\n    </tr>\n    <tr>\n      <th>524</th>\n      <td>1</td>\n      <td>Hippach, Mrs. Louis Albert (Ida Sophia Fischer)</td>\n      <td>44</td>\n      <td>111361</td>\n      <td>57.9792</td>\n      <td>B18</td>\n      <td>C</td>\n      <td>2</td>\n      <td>Hippach</td>\n      <td>Mrs</td>\n      <td>1</td>\n      <td>2</td>\n      <td>0</td>\n    </tr>\n    <tr>\n      <th>133</th>\n      <td>3</td>\n      <td>Robins, Mrs. Alexander A (Grace Charity Laury)</td>\n      <td>47</td>\n      <td>A/5. 3337</td>\n      <td>14.5</td>\n      <td>U0</td>\n      <td>S</td>\n      <td>8</td>\n      <td>Robins</td>\n      <td>Mrs</td>\n      <td>1</td>\n      <td>2</td>\n      <td>0</td>\n    </tr>\n    <tr>\n      <th>...</th>\n      <td>...</td>\n      <td>...</td>\n      <td>...</td>\n      <td>...</td>\n      <td>...</td>\n      <td>...</td>\n      <td>...</td>\n      <td>...</td>\n      <td>...</td>\n      <td>...</td>\n      <td>...</td>\n      <td>...</td>\n      <td>...</td>\n    </tr>\n    <tr>\n      <th>407</th>\n      <td>3</td>\n      <td>Widegren, Mr. Carl/Charles Peter</td>\n      <td>51</td>\n      <td>347064</td>\n      <td>7.75</td>\n      <td>U0</td>\n      <td>S</td>\n      <td>8</td>\n      <td>Widegren</td>\n      <td>Mr</td>\n      <td>0</td>\n      <td>1</td>\n      <td>1</td>\n    </tr>\n    <tr>\n      <th>391</th>\n      <td>1</td>\n      <td>Carter, Mr. William Ernest</td>\n      <td>36</td>\n      <td>113760</td>\n      <td>120.0</td>\n      <td>B96 B98</td>\n      <td>S</td>\n      <td>2</td>\n      <td>Carter</td>\n      <td>Mr</td>\n      <td>0</td>\n      <td>4</td>\n      <td>0</td>\n    </tr>\n    <tr>\n      <th>144</th>\n      <td>3</td>\n      <td>Burke, Mr. Jeremiah</td>\n      <td>19</td>\n      <td>365222</td>\n      <td>6.75</td>\n      <td>U0</td>\n      <td>Q</td>\n      <td>8</td>\n      <td>Burke</td>\n      <td>Mr</td>\n      <td>0</td>\n      <td>1</td>\n      <td>1</td>\n    </tr>\n    <tr>\n      <th>242</th>\n      <td>3</td>\n      <td>Murphy, Miss. Katherine \"Kate\"</td>\n      <td>28</td>\n      <td>367230</td>\n      <td>15.5</td>\n      <td>U0</td>\n      <td>Q</td>\n      <td>8</td>\n      <td>Murphy</td>\n      <td>Miss</td>\n      <td>1</td>\n      <td>2</td>\n      <td>0</td>\n    </tr>\n    <tr>\n      <th>624</th>\n      <td>3</td>\n      <td>Hansen, Mr. Henry Damsgaard</td>\n      <td>21</td>\n      <td>350029</td>\n      <td>7.8542</td>\n      <td>U0</td>\n      <td>S</td>\n      <td>8</td>\n      <td>Hansen</td>\n      <td>Mr</td>\n      <td>0</td>\n      <td>1</td>\n      <td>1</td>\n    </tr>\n  </tbody>\n</table>\n<p>712 rows × 13 columns</p>\n</div>"
     },
     "execution_count": 152,
     "metadata": {},
     "output_type": "execute_result"
    }
   ],
   "source": [
    "X_train"
   ],
   "metadata": {
    "collapsed": false,
    "ExecuteTime": {
     "end_time": "2024-03-29T16:46:57.465735Z",
     "start_time": "2024-03-29T16:46:57.453524Z"
    }
   },
   "id": "5a1d56f373115d6d",
   "execution_count": 152
  },
  {
   "cell_type": "code",
   "outputs": [],
   "source": [
    "#for dataset in data:\n",
    "    #dataset[\"Ticket_Group_Size\"] = dataset.groupby('Ticket')['Ticket'].transform('count')\n",
    "    #dataset.drop(\"Ticket\", axis=1, inplace = True)"
   ],
   "metadata": {
    "collapsed": false,
    "ExecuteTime": {
     "end_time": "2024-03-29T16:46:57.492860Z",
     "start_time": "2024-03-29T16:46:57.489875Z"
    }
   },
   "id": "bdc7d2c896c57bf0",
   "execution_count": 153
  },
  {
   "cell_type": "code",
   "outputs": [],
   "source": [
    "\n",
    "for dataset in data:\n",
    "    dataset['Age*Class'] = dataset['Age'] * dataset['Pclass']\n",
    "    #dataset[\"Age_Bins\"] = pd.qcut(dataset[\"Age\"], 16)\n",
    "    dataset.drop(columns=[\"Age\",\"Pclass\"], inplace=True)\n",
    "    "
   ],
   "metadata": {
    "collapsed": false,
    "ExecuteTime": {
     "end_time": "2024-03-29T16:46:57.537463Z",
     "start_time": "2024-03-29T16:46:57.530664Z"
    }
   },
   "id": "86319017430b8d13",
   "execution_count": 154
  },
  {
   "cell_type": "code",
   "outputs": [],
   "source": [
    "for dataset in data:\n",
    "    dataset['Fare'] = np.log1p(dataset['Fare'])\n",
    "    dataset['Fare_Per_Person'] = dataset['Fare'] / (dataset['Fam_size'])\n",
    "    #dataset[\"Fare_Bins\"] = pd.qcut(dataset[\"Fare\"], 16)\n",
    "    #dataset['Fare_Bin'] = pd.qcut(dataset['Fare'], 4, labels=False)\n",
    "    \n",
    "    dataset.drop(columns=[\"Fare\",\"Name\",\"Fam_size\"], axis=1, inplace=True)"
   ],
   "metadata": {
    "collapsed": false,
    "ExecuteTime": {
     "end_time": "2024-03-29T16:46:57.680224Z",
     "start_time": "2024-03-29T16:46:57.673589Z"
    }
   },
   "id": "bbea7c958369cb64",
   "execution_count": 155
  },
  {
   "cell_type": "code",
   "outputs": [],
   "source": [
    "X_train[\"Survived\"] = y_train\n",
    "X_test[\"Survived\"] = y_train"
   ],
   "metadata": {
    "collapsed": false,
    "ExecuteTime": {
     "end_time": "2024-03-29T16:46:57.773687Z",
     "start_time": "2024-03-29T16:46:57.768590Z"
    }
   },
   "id": "dd64dc1b6cbc43ac",
   "execution_count": 156
  },
  {
   "cell_type": "code",
   "outputs": [
    {
     "data": {
      "text/plain": "                Ticket    Cabin Embarked  Deck      Family_Name Title  Sex  \\\nPassengerId                                                                  \n874             345765       U0        S     8  Vander Cruyssen    Mr    0   \n829             367228       U0        Q     8        McCormack    Mr    0   \n100             244367       U0        S     8           Kantor    Mr    0   \n524             111361      B18        C     2          Hippach   Mrs    1   \n133          A/5. 3337       U0        S     8           Robins   Mrs    1   \n...                ...      ...      ...   ...              ...   ...  ...   \n407             347064       U0        S     8         Widegren    Mr    0   \n391             113760  B96 B98        S     2           Carter    Mr    0   \n144             365222       U0        Q     8            Burke    Mr    0   \n242             367230       U0        Q     8           Murphy  Miss    1   \n624             350029       U0        S     8           Hansen    Mr    0   \n\n             IsAlone  Age*Class  Fare_Per_Person  Survived  \nPassengerId                                                 \n874                1        141         2.302585         0  \n829                1         54         2.169054         1  \n100                0         68         1.647918         0  \n524                0         44         2.038592         1  \n133                0        141          1.37042         0  \n...              ...        ...              ...       ...  \n407                1        153         2.169054         0  \n391                0         36         1.198948         1  \n144                1         57         2.047693         0  \n242                0         84          1.40168         1  \n624                1         63         2.180892         0  \n\n[712 rows x 11 columns]",
      "text/html": "<div>\n<style scoped>\n    .dataframe tbody tr th:only-of-type {\n        vertical-align: middle;\n    }\n\n    .dataframe tbody tr th {\n        vertical-align: top;\n    }\n\n    .dataframe thead th {\n        text-align: right;\n    }\n</style>\n<table border=\"1\" class=\"dataframe\">\n  <thead>\n    <tr style=\"text-align: right;\">\n      <th></th>\n      <th>Ticket</th>\n      <th>Cabin</th>\n      <th>Embarked</th>\n      <th>Deck</th>\n      <th>Family_Name</th>\n      <th>Title</th>\n      <th>Sex</th>\n      <th>IsAlone</th>\n      <th>Age*Class</th>\n      <th>Fare_Per_Person</th>\n      <th>Survived</th>\n    </tr>\n    <tr>\n      <th>PassengerId</th>\n      <th></th>\n      <th></th>\n      <th></th>\n      <th></th>\n      <th></th>\n      <th></th>\n      <th></th>\n      <th></th>\n      <th></th>\n      <th></th>\n      <th></th>\n    </tr>\n  </thead>\n  <tbody>\n    <tr>\n      <th>874</th>\n      <td>345765</td>\n      <td>U0</td>\n      <td>S</td>\n      <td>8</td>\n      <td>Vander Cruyssen</td>\n      <td>Mr</td>\n      <td>0</td>\n      <td>1</td>\n      <td>141</td>\n      <td>2.302585</td>\n      <td>0</td>\n    </tr>\n    <tr>\n      <th>829</th>\n      <td>367228</td>\n      <td>U0</td>\n      <td>Q</td>\n      <td>8</td>\n      <td>McCormack</td>\n      <td>Mr</td>\n      <td>0</td>\n      <td>1</td>\n      <td>54</td>\n      <td>2.169054</td>\n      <td>1</td>\n    </tr>\n    <tr>\n      <th>100</th>\n      <td>244367</td>\n      <td>U0</td>\n      <td>S</td>\n      <td>8</td>\n      <td>Kantor</td>\n      <td>Mr</td>\n      <td>0</td>\n      <td>0</td>\n      <td>68</td>\n      <td>1.647918</td>\n      <td>0</td>\n    </tr>\n    <tr>\n      <th>524</th>\n      <td>111361</td>\n      <td>B18</td>\n      <td>C</td>\n      <td>2</td>\n      <td>Hippach</td>\n      <td>Mrs</td>\n      <td>1</td>\n      <td>0</td>\n      <td>44</td>\n      <td>2.038592</td>\n      <td>1</td>\n    </tr>\n    <tr>\n      <th>133</th>\n      <td>A/5. 3337</td>\n      <td>U0</td>\n      <td>S</td>\n      <td>8</td>\n      <td>Robins</td>\n      <td>Mrs</td>\n      <td>1</td>\n      <td>0</td>\n      <td>141</td>\n      <td>1.37042</td>\n      <td>0</td>\n    </tr>\n    <tr>\n      <th>...</th>\n      <td>...</td>\n      <td>...</td>\n      <td>...</td>\n      <td>...</td>\n      <td>...</td>\n      <td>...</td>\n      <td>...</td>\n      <td>...</td>\n      <td>...</td>\n      <td>...</td>\n      <td>...</td>\n    </tr>\n    <tr>\n      <th>407</th>\n      <td>347064</td>\n      <td>U0</td>\n      <td>S</td>\n      <td>8</td>\n      <td>Widegren</td>\n      <td>Mr</td>\n      <td>0</td>\n      <td>1</td>\n      <td>153</td>\n      <td>2.169054</td>\n      <td>0</td>\n    </tr>\n    <tr>\n      <th>391</th>\n      <td>113760</td>\n      <td>B96 B98</td>\n      <td>S</td>\n      <td>2</td>\n      <td>Carter</td>\n      <td>Mr</td>\n      <td>0</td>\n      <td>0</td>\n      <td>36</td>\n      <td>1.198948</td>\n      <td>1</td>\n    </tr>\n    <tr>\n      <th>144</th>\n      <td>365222</td>\n      <td>U0</td>\n      <td>Q</td>\n      <td>8</td>\n      <td>Burke</td>\n      <td>Mr</td>\n      <td>0</td>\n      <td>1</td>\n      <td>57</td>\n      <td>2.047693</td>\n      <td>0</td>\n    </tr>\n    <tr>\n      <th>242</th>\n      <td>367230</td>\n      <td>U0</td>\n      <td>Q</td>\n      <td>8</td>\n      <td>Murphy</td>\n      <td>Miss</td>\n      <td>1</td>\n      <td>0</td>\n      <td>84</td>\n      <td>1.40168</td>\n      <td>1</td>\n    </tr>\n    <tr>\n      <th>624</th>\n      <td>350029</td>\n      <td>U0</td>\n      <td>S</td>\n      <td>8</td>\n      <td>Hansen</td>\n      <td>Mr</td>\n      <td>0</td>\n      <td>1</td>\n      <td>63</td>\n      <td>2.180892</td>\n      <td>0</td>\n    </tr>\n  </tbody>\n</table>\n<p>712 rows × 11 columns</p>\n</div>"
     },
     "execution_count": 157,
     "metadata": {},
     "output_type": "execute_result"
    }
   ],
   "source": [
    "X_train"
   ],
   "metadata": {
    "collapsed": false,
    "ExecuteTime": {
     "end_time": "2024-03-29T16:46:57.911823Z",
     "start_time": "2024-03-29T16:46:57.900239Z"
    }
   },
   "id": "f0fc2557f7f6ba78",
   "execution_count": 157
  },
  {
   "cell_type": "code",
   "outputs": [
    {
     "data": {
      "text/plain": "\"\\ndef add_single_survival_rates(x, survival_rate_df, feature_name, new_feature):\\n    feature_val = x[feature_name]\\n    # For Test Data to see if same Ticket is present in Train data\\n    # For Training Data update survival rate only if this ticket is present in Test Data\\n    if feature_val in list(survival_rate_df[feature_name]):\\n        matched_row = survival_rate_df[survival_rate_df[feature_name] == feature_val]['Survived'].iloc[0]\\n        x[new_feature] = float(matched_row)\\n    return x\\n\\ndef add_survival_rates(x_train, x_test):\\n    \\n    # Get Mean Survival Rate by Ticket, Cabin and Family Name\\n    ticket_survival_rate_df = pd.DataFrame(x_train.groupby(['Ticket'])[['Survived']].mean().reset_index())\\n    #cabin_survival_rate_df = pd.DataFrame(x_train.groupby(['Cabin'])['Survived'].mean().reset_index())\\n    #name_survival_rate_df = pd.DataFrame(x_train.groupby(['Family_Name'])['Survived'].mean().reset_index())\\n    \\n    # Get List of Ticket, Family name & Cabins in Test Data\\n    test_ticket_list = list(x_test['Ticket'])\\n    #test_name_list = list(x_test['Family_Name'])\\n    #test_cabin_list = list(x_test['Cabin'])\\n    \\n    #feature_name = ['Ticket', 'Cabin', 'Family_Name']\\n    feature_name = ['Ticket']\\n    #survival_feature_names = ['Ticket_Survival_Rate', 'Cabin_Survival_Rate', 'Name_Survival_Rate']\\n    survival_feature_names = ['Ticket_Survival_Rate']\\n    #test_lists = [test_ticket_list, test_cabin_list, test_name_list]\\n    test_lists = [test_ticket_list]\\n    #grouped_dfs = [ticket_survival_rate_df, cabin_survival_rate_df, name_survival_rate_df]\\n    grouped_dfs = [ticket_survival_rate_df]\\n    \\n    for i, j, k, l in zip(feature_name, survival_feature_names, test_lists, grouped_dfs):\\n        x_test[[i, j]] = x_test[[i, j]].apply(lambda x: add_single_survival_rates(x, l, i, j), axis = 1)\\n        # Update Survival Rate only if Ticket/Cabin/Family Name is present in test data\\n        x_train[[i, j]] = x_train[[i,j]].apply(lambda x: add_single_survival_rates(x, l, i, j) if x[i] in k else x, axis = 1)\\n    \\n    return x_train, x_test\\n\\n\\nX_train['Ticket_Survival_Rate'] = np.mean(y_train)\\n#X_train['Cabin_Survival_Rate'] = np.mean(y_train)\\n#X_train['Name_Survival_Rate'] = np.mean(y_train)\\n\\n#X_test['Ticket_Survival_Rate'] = np.mean(y_train)\\n#X_test['Cabin_Survival_Rate'] = np.mean(y_train)\\nX_test['Ticket_Survival_Rate'] = np.mean(y_train)\\n\\n# Update Survival Rates\\nadd_survival_rates(X_train, X_test)\\n\""
     },
     "execution_count": 158,
     "metadata": {},
     "output_type": "execute_result"
    }
   ],
   "source": [
    "'''\n",
    "def add_single_survival_rates(x, survival_rate_df, feature_name, new_feature):\n",
    "    feature_val = x[feature_name]\n",
    "    # For Test Data to see if same Ticket is present in Train data\n",
    "    # For Training Data update survival rate only if this ticket is present in Test Data\n",
    "    if feature_val in list(survival_rate_df[feature_name]):\n",
    "        matched_row = survival_rate_df[survival_rate_df[feature_name] == feature_val]['Survived'].iloc[0]\n",
    "        x[new_feature] = float(matched_row)\n",
    "    return x\n",
    "\n",
    "def add_survival_rates(x_train, x_test):\n",
    "    \n",
    "    # Get Mean Survival Rate by Ticket, Cabin and Family Name\n",
    "    ticket_survival_rate_df = pd.DataFrame(x_train.groupby(['Ticket'])[['Survived']].mean().reset_index())\n",
    "    #cabin_survival_rate_df = pd.DataFrame(x_train.groupby(['Cabin'])['Survived'].mean().reset_index())\n",
    "    #name_survival_rate_df = pd.DataFrame(x_train.groupby(['Family_Name'])['Survived'].mean().reset_index())\n",
    "    \n",
    "    # Get List of Ticket, Family name & Cabins in Test Data\n",
    "    test_ticket_list = list(x_test['Ticket'])\n",
    "    #test_name_list = list(x_test['Family_Name'])\n",
    "    #test_cabin_list = list(x_test['Cabin'])\n",
    "    \n",
    "    #feature_name = ['Ticket', 'Cabin', 'Family_Name']\n",
    "    feature_name = ['Ticket']\n",
    "    #survival_feature_names = ['Ticket_Survival_Rate', 'Cabin_Survival_Rate', 'Name_Survival_Rate']\n",
    "    survival_feature_names = ['Ticket_Survival_Rate']\n",
    "    #test_lists = [test_ticket_list, test_cabin_list, test_name_list]\n",
    "    test_lists = [test_ticket_list]\n",
    "    #grouped_dfs = [ticket_survival_rate_df, cabin_survival_rate_df, name_survival_rate_df]\n",
    "    grouped_dfs = [ticket_survival_rate_df]\n",
    "    \n",
    "    for i, j, k, l in zip(feature_name, survival_feature_names, test_lists, grouped_dfs):\n",
    "        x_test[[i, j]] = x_test[[i, j]].apply(lambda x: add_single_survival_rates(x, l, i, j), axis = 1)\n",
    "        # Update Survival Rate only if Ticket/Cabin/Family Name is present in test data\n",
    "        x_train[[i, j]] = x_train[[i,j]].apply(lambda x: add_single_survival_rates(x, l, i, j) if x[i] in k else x, axis = 1)\n",
    "    \n",
    "    return x_train, x_test\n",
    "\n",
    "\n",
    "X_train['Ticket_Survival_Rate'] = np.mean(y_train)\n",
    "#X_train['Cabin_Survival_Rate'] = np.mean(y_train)\n",
    "#X_train['Name_Survival_Rate'] = np.mean(y_train)\n",
    "\n",
    "#X_test['Ticket_Survival_Rate'] = np.mean(y_train)\n",
    "#X_test['Cabin_Survival_Rate'] = np.mean(y_train)\n",
    "X_test['Ticket_Survival_Rate'] = np.mean(y_train)\n",
    "\n",
    "# Update Survival Rates\n",
    "add_survival_rates(X_train, X_test)\n",
    "'''"
   ],
   "metadata": {
    "collapsed": false,
    "ExecuteTime": {
     "end_time": "2024-03-29T16:46:57.924534Z",
     "start_time": "2024-03-29T16:46:57.919827Z"
    }
   },
   "id": "f314f152f29ca9bc",
   "execution_count": 158
  },
  {
   "cell_type": "code",
   "outputs": [
    {
     "data": {
      "text/plain": "                Ticket    Cabin Embarked  Deck      Family_Name Title  Sex  \\\nPassengerId                                                                  \n874             345765       U0        S     8  Vander Cruyssen    Mr    0   \n829             367228       U0        Q     8        McCormack    Mr    0   \n100             244367       U0        S     8           Kantor    Mr    0   \n524             111361      B18        C     2          Hippach   Mrs    1   \n133          A/5. 3337       U0        S     8           Robins   Mrs    1   \n...                ...      ...      ...   ...              ...   ...  ...   \n407             347064       U0        S     8         Widegren    Mr    0   \n391             113760  B96 B98        S     2           Carter    Mr    0   \n144             365222       U0        Q     8            Burke    Mr    0   \n242             367230       U0        Q     8           Murphy  Miss    1   \n624             350029       U0        S     8           Hansen    Mr    0   \n\n             IsAlone  Age*Class  Fare_Per_Person  Survived  \nPassengerId                                                 \n874                1        141         2.302585         0  \n829                1         54         2.169054         1  \n100                0         68         1.647918         0  \n524                0         44         2.038592         1  \n133                0        141          1.37042         0  \n...              ...        ...              ...       ...  \n407                1        153         2.169054         0  \n391                0         36         1.198948         1  \n144                1         57         2.047693         0  \n242                0         84          1.40168         1  \n624                1         63         2.180892         0  \n\n[712 rows x 11 columns]",
      "text/html": "<div>\n<style scoped>\n    .dataframe tbody tr th:only-of-type {\n        vertical-align: middle;\n    }\n\n    .dataframe tbody tr th {\n        vertical-align: top;\n    }\n\n    .dataframe thead th {\n        text-align: right;\n    }\n</style>\n<table border=\"1\" class=\"dataframe\">\n  <thead>\n    <tr style=\"text-align: right;\">\n      <th></th>\n      <th>Ticket</th>\n      <th>Cabin</th>\n      <th>Embarked</th>\n      <th>Deck</th>\n      <th>Family_Name</th>\n      <th>Title</th>\n      <th>Sex</th>\n      <th>IsAlone</th>\n      <th>Age*Class</th>\n      <th>Fare_Per_Person</th>\n      <th>Survived</th>\n    </tr>\n    <tr>\n      <th>PassengerId</th>\n      <th></th>\n      <th></th>\n      <th></th>\n      <th></th>\n      <th></th>\n      <th></th>\n      <th></th>\n      <th></th>\n      <th></th>\n      <th></th>\n      <th></th>\n    </tr>\n  </thead>\n  <tbody>\n    <tr>\n      <th>874</th>\n      <td>345765</td>\n      <td>U0</td>\n      <td>S</td>\n      <td>8</td>\n      <td>Vander Cruyssen</td>\n      <td>Mr</td>\n      <td>0</td>\n      <td>1</td>\n      <td>141</td>\n      <td>2.302585</td>\n      <td>0</td>\n    </tr>\n    <tr>\n      <th>829</th>\n      <td>367228</td>\n      <td>U0</td>\n      <td>Q</td>\n      <td>8</td>\n      <td>McCormack</td>\n      <td>Mr</td>\n      <td>0</td>\n      <td>1</td>\n      <td>54</td>\n      <td>2.169054</td>\n      <td>1</td>\n    </tr>\n    <tr>\n      <th>100</th>\n      <td>244367</td>\n      <td>U0</td>\n      <td>S</td>\n      <td>8</td>\n      <td>Kantor</td>\n      <td>Mr</td>\n      <td>0</td>\n      <td>0</td>\n      <td>68</td>\n      <td>1.647918</td>\n      <td>0</td>\n    </tr>\n    <tr>\n      <th>524</th>\n      <td>111361</td>\n      <td>B18</td>\n      <td>C</td>\n      <td>2</td>\n      <td>Hippach</td>\n      <td>Mrs</td>\n      <td>1</td>\n      <td>0</td>\n      <td>44</td>\n      <td>2.038592</td>\n      <td>1</td>\n    </tr>\n    <tr>\n      <th>133</th>\n      <td>A/5. 3337</td>\n      <td>U0</td>\n      <td>S</td>\n      <td>8</td>\n      <td>Robins</td>\n      <td>Mrs</td>\n      <td>1</td>\n      <td>0</td>\n      <td>141</td>\n      <td>1.37042</td>\n      <td>0</td>\n    </tr>\n    <tr>\n      <th>...</th>\n      <td>...</td>\n      <td>...</td>\n      <td>...</td>\n      <td>...</td>\n      <td>...</td>\n      <td>...</td>\n      <td>...</td>\n      <td>...</td>\n      <td>...</td>\n      <td>...</td>\n      <td>...</td>\n    </tr>\n    <tr>\n      <th>407</th>\n      <td>347064</td>\n      <td>U0</td>\n      <td>S</td>\n      <td>8</td>\n      <td>Widegren</td>\n      <td>Mr</td>\n      <td>0</td>\n      <td>1</td>\n      <td>153</td>\n      <td>2.169054</td>\n      <td>0</td>\n    </tr>\n    <tr>\n      <th>391</th>\n      <td>113760</td>\n      <td>B96 B98</td>\n      <td>S</td>\n      <td>2</td>\n      <td>Carter</td>\n      <td>Mr</td>\n      <td>0</td>\n      <td>0</td>\n      <td>36</td>\n      <td>1.198948</td>\n      <td>1</td>\n    </tr>\n    <tr>\n      <th>144</th>\n      <td>365222</td>\n      <td>U0</td>\n      <td>Q</td>\n      <td>8</td>\n      <td>Burke</td>\n      <td>Mr</td>\n      <td>0</td>\n      <td>1</td>\n      <td>57</td>\n      <td>2.047693</td>\n      <td>0</td>\n    </tr>\n    <tr>\n      <th>242</th>\n      <td>367230</td>\n      <td>U0</td>\n      <td>Q</td>\n      <td>8</td>\n      <td>Murphy</td>\n      <td>Miss</td>\n      <td>1</td>\n      <td>0</td>\n      <td>84</td>\n      <td>1.40168</td>\n      <td>1</td>\n    </tr>\n    <tr>\n      <th>624</th>\n      <td>350029</td>\n      <td>U0</td>\n      <td>S</td>\n      <td>8</td>\n      <td>Hansen</td>\n      <td>Mr</td>\n      <td>0</td>\n      <td>1</td>\n      <td>63</td>\n      <td>2.180892</td>\n      <td>0</td>\n    </tr>\n  </tbody>\n</table>\n<p>712 rows × 11 columns</p>\n</div>"
     },
     "execution_count": 159,
     "metadata": {},
     "output_type": "execute_result"
    }
   ],
   "source": [
    "X_train"
   ],
   "metadata": {
    "collapsed": false,
    "ExecuteTime": {
     "end_time": "2024-03-29T16:46:57.990966Z",
     "start_time": "2024-03-29T16:46:57.980932Z"
    }
   },
   "id": "156250f5df987d87",
   "execution_count": 159
  },
  {
   "cell_type": "code",
   "outputs": [],
   "source": [
    "survival_data = pd.concat([y_train, y_test])\n",
    "\n",
    "def calculate_test_survival_rates(X_train, to_test):\n",
    "    #features = ['Ticket_Survival_Rate', 'Cabin_Survival_Rate', 'Name_Survival_Rate']\n",
    "    #keys = ['Ticket', 'Cabin', 'Family_Name']\n",
    "    features = ['Ticket_Survival_Rate']\n",
    "    keys = [\"Ticket\"]\n",
    "    \n",
    "    for feature, key in zip(features, keys):\n",
    "\n",
    "        to_test[feature] = np.mean(survival_data)\n",
    "        X_train_no_dups = X_train.drop_duplicates(subset=[key])\n",
    "\n",
    "        temp_test = to_test.merge(X_train_no_dups[[key, feature]], on=key, how=\"left\", suffixes=('', '_from_X_train'))\n",
    "        temp_test.loc[temp_test[feature + '_from_X_train'].notnull(), feature] = temp_test[feature + '_from_X_train']\n",
    "        to_test[feature] = temp_test[feature].values\n",
    "\n",
    "    return to_test"
   ],
   "metadata": {
    "collapsed": false,
    "ExecuteTime": {
     "end_time": "2024-03-29T16:46:58.038878Z",
     "start_time": "2024-03-29T16:46:58.033669Z"
    }
   },
   "id": "36b432e8542aedf0",
   "execution_count": 160
  },
  {
   "cell_type": "code",
   "outputs": [],
   "source": [
    "#to_test = calculate_test_survival_rates(X_train, to_test)"
   ],
   "metadata": {
    "collapsed": false,
    "ExecuteTime": {
     "end_time": "2024-03-29T16:46:58.172628Z",
     "start_time": "2024-03-29T16:46:58.169462Z"
    }
   },
   "id": "fbe6a3ea9ba50872",
   "execution_count": 161
  },
  {
   "cell_type": "code",
   "outputs": [
    {
     "data": {
      "text/plain": "'\\nCross compare ticket family name and cabin to get the survival rate based on the existing test data, if not just add normal mean of survival\\n'"
     },
     "execution_count": 162,
     "metadata": {},
     "output_type": "execute_result"
    }
   ],
   "source": [
    "'''\n",
    "Cross compare ticket family name and cabin to get the survival rate based on the existing test data, if not just add normal mean of survival\n",
    "'''"
   ],
   "metadata": {
    "collapsed": false,
    "ExecuteTime": {
     "end_time": "2024-03-29T16:46:58.235319Z",
     "start_time": "2024-03-29T16:46:58.230990Z"
    }
   },
   "id": "a7e8d4f6691950ec",
   "execution_count": 162
  },
  {
   "cell_type": "code",
   "outputs": [],
   "source": [
    "X_train.drop(\"Survived\", axis = 1, inplace = True)\n",
    "X_test.drop(\"Survived\", axis = 1, inplace = True)"
   ],
   "metadata": {
    "collapsed": false,
    "ExecuteTime": {
     "end_time": "2024-03-29T16:46:58.356874Z",
     "start_time": "2024-03-29T16:46:58.351855Z"
    }
   },
   "id": "a64432ff813875d4",
   "execution_count": 163
  },
  {
   "cell_type": "code",
   "outputs": [],
   "source": [
    "for dataset in data:\n",
    "    dataset.drop([\"Cabin\",\"Ticket\",\"Family_Name\"], axis=1, inplace=True)"
   ],
   "metadata": {
    "collapsed": false,
    "ExecuteTime": {
     "end_time": "2024-03-29T16:46:58.417541Z",
     "start_time": "2024-03-29T16:46:58.412900Z"
    }
   },
   "id": "3255659e431d64a9",
   "execution_count": 164
  },
  {
   "cell_type": "code",
   "outputs": [
    {
     "data": {
      "text/plain": "            Embarked  Deck Title  Sex  IsAlone  Age*Class  Fare_Per_Person\nPassengerId                                                               \n874                S     8    Mr    0        1        141         2.302585\n829                Q     8    Mr    0        1         54         2.169054\n100                S     8    Mr    0        0         68         1.647918\n524                C     2   Mrs    1        0         44         2.038592\n133                S     8   Mrs    1        0        141          1.37042\n...              ...   ...   ...  ...      ...        ...              ...\n407                S     8    Mr    0        1        153         2.169054\n391                S     2    Mr    0        0         36         1.198948\n144                Q     8    Mr    0        1         57         2.047693\n242                Q     8  Miss    1        0         84          1.40168\n624                S     8    Mr    0        1         63         2.180892\n\n[712 rows x 7 columns]",
      "text/html": "<div>\n<style scoped>\n    .dataframe tbody tr th:only-of-type {\n        vertical-align: middle;\n    }\n\n    .dataframe tbody tr th {\n        vertical-align: top;\n    }\n\n    .dataframe thead th {\n        text-align: right;\n    }\n</style>\n<table border=\"1\" class=\"dataframe\">\n  <thead>\n    <tr style=\"text-align: right;\">\n      <th></th>\n      <th>Embarked</th>\n      <th>Deck</th>\n      <th>Title</th>\n      <th>Sex</th>\n      <th>IsAlone</th>\n      <th>Age*Class</th>\n      <th>Fare_Per_Person</th>\n    </tr>\n    <tr>\n      <th>PassengerId</th>\n      <th></th>\n      <th></th>\n      <th></th>\n      <th></th>\n      <th></th>\n      <th></th>\n      <th></th>\n    </tr>\n  </thead>\n  <tbody>\n    <tr>\n      <th>874</th>\n      <td>S</td>\n      <td>8</td>\n      <td>Mr</td>\n      <td>0</td>\n      <td>1</td>\n      <td>141</td>\n      <td>2.302585</td>\n    </tr>\n    <tr>\n      <th>829</th>\n      <td>Q</td>\n      <td>8</td>\n      <td>Mr</td>\n      <td>0</td>\n      <td>1</td>\n      <td>54</td>\n      <td>2.169054</td>\n    </tr>\n    <tr>\n      <th>100</th>\n      <td>S</td>\n      <td>8</td>\n      <td>Mr</td>\n      <td>0</td>\n      <td>0</td>\n      <td>68</td>\n      <td>1.647918</td>\n    </tr>\n    <tr>\n      <th>524</th>\n      <td>C</td>\n      <td>2</td>\n      <td>Mrs</td>\n      <td>1</td>\n      <td>0</td>\n      <td>44</td>\n      <td>2.038592</td>\n    </tr>\n    <tr>\n      <th>133</th>\n      <td>S</td>\n      <td>8</td>\n      <td>Mrs</td>\n      <td>1</td>\n      <td>0</td>\n      <td>141</td>\n      <td>1.37042</td>\n    </tr>\n    <tr>\n      <th>...</th>\n      <td>...</td>\n      <td>...</td>\n      <td>...</td>\n      <td>...</td>\n      <td>...</td>\n      <td>...</td>\n      <td>...</td>\n    </tr>\n    <tr>\n      <th>407</th>\n      <td>S</td>\n      <td>8</td>\n      <td>Mr</td>\n      <td>0</td>\n      <td>1</td>\n      <td>153</td>\n      <td>2.169054</td>\n    </tr>\n    <tr>\n      <th>391</th>\n      <td>S</td>\n      <td>2</td>\n      <td>Mr</td>\n      <td>0</td>\n      <td>0</td>\n      <td>36</td>\n      <td>1.198948</td>\n    </tr>\n    <tr>\n      <th>144</th>\n      <td>Q</td>\n      <td>8</td>\n      <td>Mr</td>\n      <td>0</td>\n      <td>1</td>\n      <td>57</td>\n      <td>2.047693</td>\n    </tr>\n    <tr>\n      <th>242</th>\n      <td>Q</td>\n      <td>8</td>\n      <td>Miss</td>\n      <td>1</td>\n      <td>0</td>\n      <td>84</td>\n      <td>1.40168</td>\n    </tr>\n    <tr>\n      <th>624</th>\n      <td>S</td>\n      <td>8</td>\n      <td>Mr</td>\n      <td>0</td>\n      <td>1</td>\n      <td>63</td>\n      <td>2.180892</td>\n    </tr>\n  </tbody>\n</table>\n<p>712 rows × 7 columns</p>\n</div>"
     },
     "execution_count": 165,
     "metadata": {},
     "output_type": "execute_result"
    }
   ],
   "source": [
    "X_train"
   ],
   "metadata": {
    "collapsed": false,
    "ExecuteTime": {
     "end_time": "2024-03-29T16:46:58.468332Z",
     "start_time": "2024-03-29T16:46:58.458545Z"
    }
   },
   "id": "4ac9be5779fc4cca",
   "execution_count": 165
  },
  {
   "cell_type": "code",
   "outputs": [],
   "source": [
    "#for dataset in data:\n",
    "    #dataset.drop(['Fare_Bins','Age_Bins'], axis=1, inplace=True)"
   ],
   "metadata": {
    "collapsed": false,
    "ExecuteTime": {
     "end_time": "2024-03-29T16:46:58.489584Z",
     "start_time": "2024-03-29T16:46:58.486337Z"
    }
   },
   "id": "6f5e61dc66779942",
   "execution_count": 166
  },
  {
   "cell_type": "markdown",
   "source": [
    "### Encode all Labels to String in order to pass through the GBM model"
   ],
   "metadata": {
    "collapsed": false
   },
   "id": "d79ef93bb1e9aec8"
  },
  {
   "cell_type": "code",
   "outputs": [
    {
     "data": {
      "text/plain": "             Embarked  Deck  Title  Sex  IsAlone  Age*Class  Fare_Per_Person\nPassengerId                                                                 \n874                 2     7      2    0        1         94              186\n829                 1     7      2    0        1         48              156\n100                 2     7      2    0        0         60              109\n524                 0     1      3    1        0         38              127\n133                 2     7      3    1        0         94               83\n...               ...   ...    ...  ...      ...        ...              ...\n407                 2     7      2    0        1         98              156\n391                 2     1      2    0        0         30               68\n144                 1     7      2    0        1         51              128\n242                 1     7      1    1        0         70               84\n624                 2     7      2    0        1         56              163\n\n[712 rows x 7 columns]",
      "text/html": "<div>\n<style scoped>\n    .dataframe tbody tr th:only-of-type {\n        vertical-align: middle;\n    }\n\n    .dataframe tbody tr th {\n        vertical-align: top;\n    }\n\n    .dataframe thead th {\n        text-align: right;\n    }\n</style>\n<table border=\"1\" class=\"dataframe\">\n  <thead>\n    <tr style=\"text-align: right;\">\n      <th></th>\n      <th>Embarked</th>\n      <th>Deck</th>\n      <th>Title</th>\n      <th>Sex</th>\n      <th>IsAlone</th>\n      <th>Age*Class</th>\n      <th>Fare_Per_Person</th>\n    </tr>\n    <tr>\n      <th>PassengerId</th>\n      <th></th>\n      <th></th>\n      <th></th>\n      <th></th>\n      <th></th>\n      <th></th>\n      <th></th>\n    </tr>\n  </thead>\n  <tbody>\n    <tr>\n      <th>874</th>\n      <td>2</td>\n      <td>7</td>\n      <td>2</td>\n      <td>0</td>\n      <td>1</td>\n      <td>94</td>\n      <td>186</td>\n    </tr>\n    <tr>\n      <th>829</th>\n      <td>1</td>\n      <td>7</td>\n      <td>2</td>\n      <td>0</td>\n      <td>1</td>\n      <td>48</td>\n      <td>156</td>\n    </tr>\n    <tr>\n      <th>100</th>\n      <td>2</td>\n      <td>7</td>\n      <td>2</td>\n      <td>0</td>\n      <td>0</td>\n      <td>60</td>\n      <td>109</td>\n    </tr>\n    <tr>\n      <th>524</th>\n      <td>0</td>\n      <td>1</td>\n      <td>3</td>\n      <td>1</td>\n      <td>0</td>\n      <td>38</td>\n      <td>127</td>\n    </tr>\n    <tr>\n      <th>133</th>\n      <td>2</td>\n      <td>7</td>\n      <td>3</td>\n      <td>1</td>\n      <td>0</td>\n      <td>94</td>\n      <td>83</td>\n    </tr>\n    <tr>\n      <th>...</th>\n      <td>...</td>\n      <td>...</td>\n      <td>...</td>\n      <td>...</td>\n      <td>...</td>\n      <td>...</td>\n      <td>...</td>\n    </tr>\n    <tr>\n      <th>407</th>\n      <td>2</td>\n      <td>7</td>\n      <td>2</td>\n      <td>0</td>\n      <td>1</td>\n      <td>98</td>\n      <td>156</td>\n    </tr>\n    <tr>\n      <th>391</th>\n      <td>2</td>\n      <td>1</td>\n      <td>2</td>\n      <td>0</td>\n      <td>0</td>\n      <td>30</td>\n      <td>68</td>\n    </tr>\n    <tr>\n      <th>144</th>\n      <td>1</td>\n      <td>7</td>\n      <td>2</td>\n      <td>0</td>\n      <td>1</td>\n      <td>51</td>\n      <td>128</td>\n    </tr>\n    <tr>\n      <th>242</th>\n      <td>1</td>\n      <td>7</td>\n      <td>1</td>\n      <td>1</td>\n      <td>0</td>\n      <td>70</td>\n      <td>84</td>\n    </tr>\n    <tr>\n      <th>624</th>\n      <td>2</td>\n      <td>7</td>\n      <td>2</td>\n      <td>0</td>\n      <td>1</td>\n      <td>56</td>\n      <td>163</td>\n    </tr>\n  </tbody>\n</table>\n<p>712 rows × 7 columns</p>\n</div>"
     },
     "execution_count": 167,
     "metadata": {},
     "output_type": "execute_result"
    }
   ],
   "source": [
    "X_train = X_train.apply(LabelEncoder().fit_transform)\n",
    "X_test = X_test.apply(LabelEncoder().fit_transform)\n",
    "to_test = to_test.apply(LabelEncoder().fit_transform)\n",
    "X_train"
   ],
   "metadata": {
    "collapsed": false,
    "ExecuteTime": {
     "end_time": "2024-03-29T16:46:58.550971Z",
     "start_time": "2024-03-29T16:46:58.537107Z"
    }
   },
   "id": "ea4249e0dc9aa4f2",
   "execution_count": 167
  },
  {
   "cell_type": "markdown",
   "source": [
    "### Cross-Fold Validation"
   ],
   "metadata": {
    "collapsed": false
   },
   "id": "e264278da47f49c2"
  },
  {
   "cell_type": "code",
   "outputs": [],
   "source": [
    "xgb_classifier = XGBClassifier() # classifier used to tune hyperparameters\n",
    "\n",
    "def objective(trial):\n",
    "    param = {\n",
    "        'verbosity': 0,\n",
    "        'objective': 'binary:logistic',\n",
    "        'eval_metric': 'logloss',\n",
    "        'learning_rate': trial.suggest_float('learning_rate', 0.01, 0.2),  # More conservative learning rate\n",
    "        'n_estimators': trial.suggest_int('n_estimators', 100, 600),  # Fewer estimators\n",
    "        'max_depth': trial.suggest_int('max_depth', 3, 7),  # Shallower trees\n",
    "        'min_child_weight': trial.suggest_int('min_child_weight', 1, 10),\n",
    "        'subsample': trial.suggest_float('subsample', 0.5, 0.9),  # Less aggressive subsampling\n",
    "        'colsample_bytree': trial.suggest_float('colsample_bytree', 0.5, 0.9),  # Feature subsampling\n",
    "        'gamma': trial.suggest_float('gamma', 0.0, 5.0),  # Additional regularization\n",
    "        'reg_alpha': trial.suggest_loguniform('reg_alpha', 1e-5, 10.0),  # More range for L1 regularization\n",
    "        'reg_lambda': trial.suggest_loguniform('reg_lambda', 1e-5, 10.0),  # More range for L2 regularization\n",
    "    }\n",
    "\n",
    "    model = xgb.XGBClassifier(**param)\n",
    "    \n",
    "    cv = StratifiedKFold(n_splits=5, shuffle=True, random_state=42)  # Ensuring reproducibility\n",
    "    scores = cross_val_score(model, X_train, y_train, cv=cv, scoring='accuracy', n_jobs=-1)\n",
    "    \n",
    "    return scores.mean()\n"
   ],
   "metadata": {
    "collapsed": false,
    "ExecuteTime": {
     "end_time": "2024-03-29T16:46:58.703402Z",
     "start_time": "2024-03-29T16:46:58.697486Z"
    }
   },
   "id": "eb7c96151e8b9c70",
   "execution_count": 169
  },
  {
   "cell_type": "code",
   "outputs": [
    {
     "name": "stderr",
     "output_type": "stream",
     "text": [
      "[I 2024-03-29 17:46:58,772] A new study created in memory with name: no-name-52eeeecf-29bc-4133-a01e-30fafd8683cb\n",
      "C:\\Users\\dlesha\\AppData\\Local\\Temp\\ipykernel_35692\\2903819095.py:15: FutureWarning: suggest_loguniform has been deprecated in v3.0.0. This feature will be removed in v6.0.0. See https://github.com/optuna/optuna/releases/tag/v3.0.0. Use suggest_float(..., log=True) instead.\n",
      "  'reg_alpha': trial.suggest_loguniform('reg_alpha', 1e-5, 10.0),  # More range for L1 regularization\n",
      "C:\\Users\\dlesha\\AppData\\Local\\Temp\\ipykernel_35692\\2903819095.py:16: FutureWarning: suggest_loguniform has been deprecated in v3.0.0. This feature will be removed in v6.0.0. See https://github.com/optuna/optuna/releases/tag/v3.0.0. Use suggest_float(..., log=True) instead.\n",
      "  'reg_lambda': trial.suggest_loguniform('reg_lambda', 1e-5, 10.0),  # More range for L2 regularization\n",
      "[I 2024-03-29 17:46:58,846] Trial 0 finished with value: 0.8314783807741554 and parameters: {'learning_rate': 0.011933618722871723, 'n_estimators': 177, 'max_depth': 5, 'min_child_weight': 1, 'subsample': 0.7006193910326984, 'colsample_bytree': 0.5325053462026179, 'gamma': 4.151397730008982, 'reg_alpha': 9.594308637021716e-05, 'reg_lambda': 0.00010377866523982638}. Best is trial 0 with value: 0.8314783807741554.\n",
      "C:\\Users\\dlesha\\AppData\\Local\\Temp\\ipykernel_35692\\2903819095.py:15: FutureWarning: suggest_loguniform has been deprecated in v3.0.0. This feature will be removed in v6.0.0. See https://github.com/optuna/optuna/releases/tag/v3.0.0. Use suggest_float(..., log=True) instead.\n",
      "  'reg_alpha': trial.suggest_loguniform('reg_alpha', 1e-5, 10.0),  # More range for L1 regularization\n",
      "C:\\Users\\dlesha\\AppData\\Local\\Temp\\ipykernel_35692\\2903819095.py:16: FutureWarning: suggest_loguniform has been deprecated in v3.0.0. This feature will be removed in v6.0.0. See https://github.com/optuna/optuna/releases/tag/v3.0.0. Use suggest_float(..., log=True) instead.\n",
      "  'reg_lambda': trial.suggest_loguniform('reg_lambda', 1e-5, 10.0),  # More range for L2 regularization\n",
      "[I 2024-03-29 17:46:59,038] Trial 1 finished with value: 0.8146557667684429 and parameters: {'learning_rate': 0.03444129077528129, 'n_estimators': 497, 'max_depth': 5, 'min_child_weight': 7, 'subsample': 0.7038583617978347, 'colsample_bytree': 0.8122008427109537, 'gamma': 4.687559149157041, 'reg_alpha': 0.19364574157625858, 'reg_lambda': 0.01968613431172587}. Best is trial 0 with value: 0.8314783807741554.\n",
      "C:\\Users\\dlesha\\AppData\\Local\\Temp\\ipykernel_35692\\2903819095.py:15: FutureWarning: suggest_loguniform has been deprecated in v3.0.0. This feature will be removed in v6.0.0. See https://github.com/optuna/optuna/releases/tag/v3.0.0. Use suggest_float(..., log=True) instead.\n",
      "  'reg_alpha': trial.suggest_loguniform('reg_alpha', 1e-5, 10.0),  # More range for L1 regularization\n",
      "C:\\Users\\dlesha\\AppData\\Local\\Temp\\ipykernel_35692\\2903819095.py:16: FutureWarning: suggest_loguniform has been deprecated in v3.0.0. This feature will be removed in v6.0.0. See https://github.com/optuna/optuna/releases/tag/v3.0.0. Use suggest_float(..., log=True) instead.\n",
      "  'reg_lambda': trial.suggest_loguniform('reg_lambda', 1e-5, 10.0),  # More range for L2 regularization\n",
      "[I 2024-03-29 17:46:59,188] Trial 2 finished with value: 0.8258642765685019 and parameters: {'learning_rate': 0.08884320758003078, 'n_estimators': 490, 'max_depth': 3, 'min_child_weight': 9, 'subsample': 0.837747914213836, 'colsample_bytree': 0.8330169680377497, 'gamma': 1.5524044706209943, 'reg_alpha': 0.0032720167346474596, 'reg_lambda': 0.00020115310987599635}. Best is trial 0 with value: 0.8314783807741554.\n",
      "C:\\Users\\dlesha\\AppData\\Local\\Temp\\ipykernel_35692\\2903819095.py:15: FutureWarning: suggest_loguniform has been deprecated in v3.0.0. This feature will be removed in v6.0.0. See https://github.com/optuna/optuna/releases/tag/v3.0.0. Use suggest_float(..., log=True) instead.\n",
      "  'reg_alpha': trial.suggest_loguniform('reg_alpha', 1e-5, 10.0),  # More range for L1 regularization\n",
      "C:\\Users\\dlesha\\AppData\\Local\\Temp\\ipykernel_35692\\2903819095.py:16: FutureWarning: suggest_loguniform has been deprecated in v3.0.0. This feature will be removed in v6.0.0. See https://github.com/optuna/optuna/releases/tag/v3.0.0. Use suggest_float(..., log=True) instead.\n",
      "  'reg_lambda': trial.suggest_loguniform('reg_lambda', 1e-5, 10.0),  # More range for L2 regularization\n",
      "[I 2024-03-29 17:46:59,254] Trial 3 finished with value: 0.8202600216684723 and parameters: {'learning_rate': 0.0694608624701768, 'n_estimators': 118, 'max_depth': 6, 'min_child_weight': 5, 'subsample': 0.6678754181640495, 'colsample_bytree': 0.7837302842245182, 'gamma': 4.169762949588568, 'reg_alpha': 0.002484954524030078, 'reg_lambda': 0.00017285728103041297}. Best is trial 0 with value: 0.8314783807741554.\n",
      "C:\\Users\\dlesha\\AppData\\Local\\Temp\\ipykernel_35692\\2903819095.py:15: FutureWarning: suggest_loguniform has been deprecated in v3.0.0. This feature will be removed in v6.0.0. See https://github.com/optuna/optuna/releases/tag/v3.0.0. Use suggest_float(..., log=True) instead.\n",
      "  'reg_alpha': trial.suggest_loguniform('reg_alpha', 1e-5, 10.0),  # More range for L1 regularization\n",
      "C:\\Users\\dlesha\\AppData\\Local\\Temp\\ipykernel_35692\\2903819095.py:16: FutureWarning: suggest_loguniform has been deprecated in v3.0.0. This feature will be removed in v6.0.0. See https://github.com/optuna/optuna/releases/tag/v3.0.0. Use suggest_float(..., log=True) instead.\n",
      "  'reg_lambda': trial.suggest_loguniform('reg_lambda', 1e-5, 10.0),  # More range for L2 regularization\n",
      "[I 2024-03-29 17:46:59,336] Trial 4 finished with value: 0.8286811779769525 and parameters: {'learning_rate': 0.013124650965705512, 'n_estimators': 206, 'max_depth': 4, 'min_child_weight': 1, 'subsample': 0.543446475416379, 'colsample_bytree': 0.6368659492052912, 'gamma': 2.6684264041430645, 'reg_alpha': 0.13890105534040798, 'reg_lambda': 0.8817057862679374}. Best is trial 0 with value: 0.8314783807741554.\n",
      "C:\\Users\\dlesha\\AppData\\Local\\Temp\\ipykernel_35692\\2903819095.py:15: FutureWarning: suggest_loguniform has been deprecated in v3.0.0. This feature will be removed in v6.0.0. See https://github.com/optuna/optuna/releases/tag/v3.0.0. Use suggest_float(..., log=True) instead.\n",
      "  'reg_alpha': trial.suggest_loguniform('reg_alpha', 1e-5, 10.0),  # More range for L1 regularization\n",
      "C:\\Users\\dlesha\\AppData\\Local\\Temp\\ipykernel_35692\\2903819095.py:16: FutureWarning: suggest_loguniform has been deprecated in v3.0.0. This feature will be removed in v6.0.0. See https://github.com/optuna/optuna/releases/tag/v3.0.0. Use suggest_float(..., log=True) instead.\n",
      "  'reg_lambda': trial.suggest_loguniform('reg_lambda', 1e-5, 10.0),  # More range for L2 regularization\n",
      "[I 2024-03-29 17:46:59,538] Trial 5 finished with value: 0.8089825667290456 and parameters: {'learning_rate': 0.09181452290863674, 'n_estimators': 594, 'max_depth': 6, 'min_child_weight': 7, 'subsample': 0.5731847053227217, 'colsample_bytree': 0.8238265508563294, 'gamma': 3.357488946596444, 'reg_alpha': 0.8282560412030812, 'reg_lambda': 3.7314207447439354}. Best is trial 0 with value: 0.8314783807741554.\n",
      "C:\\Users\\dlesha\\AppData\\Local\\Temp\\ipykernel_35692\\2903819095.py:15: FutureWarning: suggest_loguniform has been deprecated in v3.0.0. This feature will be removed in v6.0.0. See https://github.com/optuna/optuna/releases/tag/v3.0.0. Use suggest_float(..., log=True) instead.\n",
      "  'reg_alpha': trial.suggest_loguniform('reg_alpha', 1e-5, 10.0),  # More range for L1 regularization\n",
      "C:\\Users\\dlesha\\AppData\\Local\\Temp\\ipykernel_35692\\2903819095.py:16: FutureWarning: suggest_loguniform has been deprecated in v3.0.0. This feature will be removed in v6.0.0. See https://github.com/optuna/optuna/releases/tag/v3.0.0. Use suggest_float(..., log=True) instead.\n",
      "  'reg_lambda': trial.suggest_loguniform('reg_lambda', 1e-5, 10.0),  # More range for L2 regularization\n",
      "[I 2024-03-29 17:46:59,705] Trial 6 finished with value: 0.8301093272924259 and parameters: {'learning_rate': 0.048454009072328566, 'n_estimators': 553, 'max_depth': 6, 'min_child_weight': 3, 'subsample': 0.5554886584584, 'colsample_bytree': 0.638877855391139, 'gamma': 0.013113373176238396, 'reg_alpha': 4.3806688441233295, 'reg_lambda': 0.08156696328238308}. Best is trial 0 with value: 0.8314783807741554.\n",
      "C:\\Users\\dlesha\\AppData\\Local\\Temp\\ipykernel_35692\\2903819095.py:15: FutureWarning: suggest_loguniform has been deprecated in v3.0.0. This feature will be removed in v6.0.0. See https://github.com/optuna/optuna/releases/tag/v3.0.0. Use suggest_float(..., log=True) instead.\n",
      "  'reg_alpha': trial.suggest_loguniform('reg_alpha', 1e-5, 10.0),  # More range for L1 regularization\n",
      "C:\\Users\\dlesha\\AppData\\Local\\Temp\\ipykernel_35692\\2903819095.py:16: FutureWarning: suggest_loguniform has been deprecated in v3.0.0. This feature will be removed in v6.0.0. See https://github.com/optuna/optuna/releases/tag/v3.0.0. Use suggest_float(..., log=True) instead.\n",
      "  'reg_lambda': trial.suggest_loguniform('reg_lambda', 1e-5, 10.0),  # More range for L2 regularization\n",
      "[I 2024-03-29 17:46:59,900] Trial 7 finished with value: 0.8272530286614794 and parameters: {'learning_rate': 0.1768441150232435, 'n_estimators': 581, 'max_depth': 4, 'min_child_weight': 6, 'subsample': 0.7428712171671767, 'colsample_bytree': 0.6914284010783651, 'gamma': 3.147313330510669, 'reg_alpha': 0.21213405487428708, 'reg_lambda': 0.00011334926426847962}. Best is trial 0 with value: 0.8314783807741554.\n",
      "C:\\Users\\dlesha\\AppData\\Local\\Temp\\ipykernel_35692\\2903819095.py:15: FutureWarning: suggest_loguniform has been deprecated in v3.0.0. This feature will be removed in v6.0.0. See https://github.com/optuna/optuna/releases/tag/v3.0.0. Use suggest_float(..., log=True) instead.\n",
      "  'reg_alpha': trial.suggest_loguniform('reg_alpha', 1e-5, 10.0),  # More range for L1 regularization\n",
      "C:\\Users\\dlesha\\AppData\\Local\\Temp\\ipykernel_35692\\2903819095.py:16: FutureWarning: suggest_loguniform has been deprecated in v3.0.0. This feature will be removed in v6.0.0. See https://github.com/optuna/optuna/releases/tag/v3.0.0. Use suggest_float(..., log=True) instead.\n",
      "  'reg_lambda': trial.suggest_loguniform('reg_lambda', 1e-5, 10.0),  # More range for L2 regularization\n",
      "[I 2024-03-29 17:47:00,133] Trial 8 finished with value: 0.8132177681473456 and parameters: {'learning_rate': 0.12619975652934076, 'n_estimators': 583, 'max_depth': 5, 'min_child_weight': 4, 'subsample': 0.5998843658259383, 'colsample_bytree': 0.8950819989166057, 'gamma': 4.535888793194241, 'reg_alpha': 4.6858134909094724e-05, 'reg_lambda': 9.34154705733752}. Best is trial 0 with value: 0.8314783807741554.\n",
      "C:\\Users\\dlesha\\AppData\\Local\\Temp\\ipykernel_35692\\2903819095.py:15: FutureWarning: suggest_loguniform has been deprecated in v3.0.0. This feature will be removed in v6.0.0. See https://github.com/optuna/optuna/releases/tag/v3.0.0. Use suggest_float(..., log=True) instead.\n",
      "  'reg_alpha': trial.suggest_loguniform('reg_alpha', 1e-5, 10.0),  # More range for L1 regularization\n",
      "C:\\Users\\dlesha\\AppData\\Local\\Temp\\ipykernel_35692\\2903819095.py:16: FutureWarning: suggest_loguniform has been deprecated in v3.0.0. This feature will be removed in v6.0.0. See https://github.com/optuna/optuna/releases/tag/v3.0.0. Use suggest_float(..., log=True) instead.\n",
      "  'reg_lambda': trial.suggest_loguniform('reg_lambda', 1e-5, 10.0),  # More range for L2 regularization\n",
      "[I 2024-03-29 17:47:00,230] Trial 9 finished with value: 0.8160543681670444 and parameters: {'learning_rate': 0.10238688387678639, 'n_estimators': 263, 'max_depth': 7, 'min_child_weight': 6, 'subsample': 0.5193720800201664, 'colsample_bytree': 0.6431368906809362, 'gamma': 1.3578139185169809, 'reg_alpha': 2.8462761206431133e-05, 'reg_lambda': 0.1024065233489713}. Best is trial 0 with value: 0.8314783807741554.\n",
      "C:\\Users\\dlesha\\AppData\\Local\\Temp\\ipykernel_35692\\2903819095.py:15: FutureWarning: suggest_loguniform has been deprecated in v3.0.0. This feature will be removed in v6.0.0. See https://github.com/optuna/optuna/releases/tag/v3.0.0. Use suggest_float(..., log=True) instead.\n",
      "  'reg_alpha': trial.suggest_loguniform('reg_alpha', 1e-5, 10.0),  # More range for L1 regularization\n",
      "C:\\Users\\dlesha\\AppData\\Local\\Temp\\ipykernel_35692\\2903819095.py:16: FutureWarning: suggest_loguniform has been deprecated in v3.0.0. This feature will be removed in v6.0.0. See https://github.com/optuna/optuna/releases/tag/v3.0.0. Use suggest_float(..., log=True) instead.\n",
      "  'reg_lambda': trial.suggest_loguniform('reg_lambda', 1e-5, 10.0),  # More range for L2 regularization\n",
      "[I 2024-03-29 17:47:00,354] Trial 10 finished with value: 0.8342854328769821 and parameters: {'learning_rate': 0.15853489497109957, 'n_estimators': 354, 'max_depth': 3, 'min_child_weight': 1, 'subsample': 0.8105079169966957, 'colsample_bytree': 0.5024711132612205, 'gamma': 3.8981392431381345, 'reg_alpha': 0.00028522738156144334, 'reg_lambda': 1.3553378815402997e-05}. Best is trial 10 with value: 0.8342854328769821.\n",
      "C:\\Users\\dlesha\\AppData\\Local\\Temp\\ipykernel_35692\\2903819095.py:15: FutureWarning: suggest_loguniform has been deprecated in v3.0.0. This feature will be removed in v6.0.0. See https://github.com/optuna/optuna/releases/tag/v3.0.0. Use suggest_float(..., log=True) instead.\n",
      "  'reg_alpha': trial.suggest_loguniform('reg_alpha', 1e-5, 10.0),  # More range for L1 regularization\n",
      "C:\\Users\\dlesha\\AppData\\Local\\Temp\\ipykernel_35692\\2903819095.py:16: FutureWarning: suggest_loguniform has been deprecated in v3.0.0. This feature will be removed in v6.0.0. See https://github.com/optuna/optuna/releases/tag/v3.0.0. Use suggest_float(..., log=True) instead.\n",
      "  'reg_lambda': trial.suggest_loguniform('reg_lambda', 1e-5, 10.0),  # More range for L2 regularization\n",
      "[I 2024-03-29 17:47:00,478] Trial 11 finished with value: 0.8329065300896288 and parameters: {'learning_rate': 0.1595497265372728, 'n_estimators': 366, 'max_depth': 3, 'min_child_weight': 1, 'subsample': 0.8861047304587952, 'colsample_bytree': 0.5158590929784952, 'gamma': 3.814993865195684, 'reg_alpha': 0.0002931934867354946, 'reg_lambda': 1.2254879103954867e-05}. Best is trial 10 with value: 0.8342854328769821.\n",
      "C:\\Users\\dlesha\\AppData\\Local\\Temp\\ipykernel_35692\\2903819095.py:15: FutureWarning: suggest_loguniform has been deprecated in v3.0.0. This feature will be removed in v6.0.0. See https://github.com/optuna/optuna/releases/tag/v3.0.0. Use suggest_float(..., log=True) instead.\n",
      "  'reg_alpha': trial.suggest_loguniform('reg_alpha', 1e-5, 10.0),  # More range for L1 regularization\n",
      "C:\\Users\\dlesha\\AppData\\Local\\Temp\\ipykernel_35692\\2903819095.py:16: FutureWarning: suggest_loguniform has been deprecated in v3.0.0. This feature will be removed in v6.0.0. See https://github.com/optuna/optuna/releases/tag/v3.0.0. Use suggest_float(..., log=True) instead.\n",
      "  'reg_lambda': trial.suggest_loguniform('reg_lambda', 1e-5, 10.0),  # More range for L2 regularization\n",
      "[I 2024-03-29 17:47:00,593] Trial 12 finished with value: 0.8287107258938246 and parameters: {'learning_rate': 0.1702369775194263, 'n_estimators': 356, 'max_depth': 3, 'min_child_weight': 2, 'subsample': 0.8936458613272077, 'colsample_bytree': 0.5106961037995242, 'gamma': 3.600929625095359, 'reg_alpha': 0.0005316851960357576, 'reg_lambda': 2.3095410369124646e-05}. Best is trial 10 with value: 0.8342854328769821.\n",
      "C:\\Users\\dlesha\\AppData\\Local\\Temp\\ipykernel_35692\\2903819095.py:15: FutureWarning: suggest_loguniform has been deprecated in v3.0.0. This feature will be removed in v6.0.0. See https://github.com/optuna/optuna/releases/tag/v3.0.0. Use suggest_float(..., log=True) instead.\n",
      "  'reg_alpha': trial.suggest_loguniform('reg_alpha', 1e-5, 10.0),  # More range for L1 regularization\n",
      "C:\\Users\\dlesha\\AppData\\Local\\Temp\\ipykernel_35692\\2903819095.py:16: FutureWarning: suggest_loguniform has been deprecated in v3.0.0. This feature will be removed in v6.0.0. See https://github.com/optuna/optuna/releases/tag/v3.0.0. Use suggest_float(..., log=True) instead.\n",
      "  'reg_lambda': trial.suggest_loguniform('reg_lambda', 1e-5, 10.0),  # More range for L2 regularization\n",
      "[I 2024-03-29 17:47:00,712] Trial 13 finished with value: 0.8286811779769525 and parameters: {'learning_rate': 0.14071055769473417, 'n_estimators': 364, 'max_depth': 3, 'min_child_weight': 3, 'subsample': 0.8160807197416972, 'colsample_bytree': 0.5661164341525652, 'gamma': 2.0247299162329915, 'reg_alpha': 0.0003055437915356785, 'reg_lambda': 0.0018619801043022201}. Best is trial 10 with value: 0.8342854328769821.\n",
      "C:\\Users\\dlesha\\AppData\\Local\\Temp\\ipykernel_35692\\2903819095.py:15: FutureWarning: suggest_loguniform has been deprecated in v3.0.0. This feature will be removed in v6.0.0. See https://github.com/optuna/optuna/releases/tag/v3.0.0. Use suggest_float(..., log=True) instead.\n",
      "  'reg_alpha': trial.suggest_loguniform('reg_alpha', 1e-5, 10.0),  # More range for L1 regularization\n",
      "C:\\Users\\dlesha\\AppData\\Local\\Temp\\ipykernel_35692\\2903819095.py:16: FutureWarning: suggest_loguniform has been deprecated in v3.0.0. This feature will be removed in v6.0.0. See https://github.com/optuna/optuna/releases/tag/v3.0.0. Use suggest_float(..., log=True) instead.\n",
      "  'reg_lambda': trial.suggest_loguniform('reg_lambda', 1e-5, 10.0),  # More range for L2 regularization\n",
      "[I 2024-03-29 17:47:00,873] Trial 14 finished with value: 0.8272825765783512 and parameters: {'learning_rate': 0.1974134868580122, 'n_estimators': 419, 'max_depth': 4, 'min_child_weight': 1, 'subsample': 0.7935458017366355, 'colsample_bytree': 0.5763205798455505, 'gamma': 3.577533989516199, 'reg_alpha': 0.007565294940811635, 'reg_lambda': 1.0362969286027435e-05}. Best is trial 10 with value: 0.8342854328769821.\n",
      "C:\\Users\\dlesha\\AppData\\Local\\Temp\\ipykernel_35692\\2903819095.py:15: FutureWarning: suggest_loguniform has been deprecated in v3.0.0. This feature will be removed in v6.0.0. See https://github.com/optuna/optuna/releases/tag/v3.0.0. Use suggest_float(..., log=True) instead.\n",
      "  'reg_alpha': trial.suggest_loguniform('reg_alpha', 1e-5, 10.0),  # More range for L1 regularization\n",
      "C:\\Users\\dlesha\\AppData\\Local\\Temp\\ipykernel_35692\\2903819095.py:16: FutureWarning: suggest_loguniform has been deprecated in v3.0.0. This feature will be removed in v6.0.0. See https://github.com/optuna/optuna/releases/tag/v3.0.0. Use suggest_float(..., log=True) instead.\n",
      "  'reg_lambda': trial.suggest_loguniform('reg_lambda', 1e-5, 10.0),  # More range for L2 regularization\n",
      "[I 2024-03-29 17:47:00,982] Trial 15 finished with value: 0.807593814636068 and parameters: {'learning_rate': 0.1413569936053111, 'n_estimators': 270, 'max_depth': 3, 'min_child_weight': 10, 'subsample': 0.8930084682715671, 'colsample_bytree': 0.5853018594373549, 'gamma': 2.7146975371309225, 'reg_alpha': 0.0009629261781839833, 'reg_lambda': 0.0018596598969063667}. Best is trial 10 with value: 0.8342854328769821.\n",
      "C:\\Users\\dlesha\\AppData\\Local\\Temp\\ipykernel_35692\\2903819095.py:15: FutureWarning: suggest_loguniform has been deprecated in v3.0.0. This feature will be removed in v6.0.0. See https://github.com/optuna/optuna/releases/tag/v3.0.0. Use suggest_float(..., log=True) instead.\n",
      "  'reg_alpha': trial.suggest_loguniform('reg_alpha', 1e-5, 10.0),  # More range for L1 regularization\n",
      "C:\\Users\\dlesha\\AppData\\Local\\Temp\\ipykernel_35692\\2903819095.py:16: FutureWarning: suggest_loguniform has been deprecated in v3.0.0. This feature will be removed in v6.0.0. See https://github.com/optuna/optuna/releases/tag/v3.0.0. Use suggest_float(..., log=True) instead.\n",
      "  'reg_lambda': trial.suggest_loguniform('reg_lambda', 1e-5, 10.0),  # More range for L2 regularization\n",
      "[I 2024-03-29 17:47:01,146] Trial 16 finished with value: 0.8329065300896288 and parameters: {'learning_rate': 0.16263786002100095, 'n_estimators': 436, 'max_depth': 4, 'min_child_weight': 3, 'subsample': 0.7707534999720486, 'colsample_bytree': 0.5058427202735511, 'gamma': 4.893053382648096, 'reg_alpha': 1.0820072265040402e-05, 'reg_lambda': 0.0009098690737894003}. Best is trial 10 with value: 0.8342854328769821.\n",
      "C:\\Users\\dlesha\\AppData\\Local\\Temp\\ipykernel_35692\\2903819095.py:15: FutureWarning: suggest_loguniform has been deprecated in v3.0.0. This feature will be removed in v6.0.0. See https://github.com/optuna/optuna/releases/tag/v3.0.0. Use suggest_float(..., log=True) instead.\n",
      "  'reg_alpha': trial.suggest_loguniform('reg_alpha', 1e-5, 10.0),  # More range for L1 regularization\n",
      "C:\\Users\\dlesha\\AppData\\Local\\Temp\\ipykernel_35692\\2903819095.py:16: FutureWarning: suggest_loguniform has been deprecated in v3.0.0. This feature will be removed in v6.0.0. See https://github.com/optuna/optuna/releases/tag/v3.0.0. Use suggest_float(..., log=True) instead.\n",
      "  'reg_lambda': trial.suggest_loguniform('reg_lambda', 1e-5, 10.0),  # More range for L2 regularization\n",
      "[I 2024-03-29 17:47:01,256] Trial 17 finished with value: 0.8385107849896583 and parameters: {'learning_rate': 0.1983050104758195, 'n_estimators': 292, 'max_depth': 3, 'min_child_weight': 2, 'subsample': 0.8565138398834662, 'colsample_bytree': 0.7116935407016859, 'gamma': 3.9729685900258724, 'reg_alpha': 0.03146498335881505, 'reg_lambda': 2.9982425496119775e-05}. Best is trial 17 with value: 0.8385107849896583.\n",
      "C:\\Users\\dlesha\\AppData\\Local\\Temp\\ipykernel_35692\\2903819095.py:15: FutureWarning: suggest_loguniform has been deprecated in v3.0.0. This feature will be removed in v6.0.0. See https://github.com/optuna/optuna/releases/tag/v3.0.0. Use suggest_float(..., log=True) instead.\n",
      "  'reg_alpha': trial.suggest_loguniform('reg_alpha', 1e-5, 10.0),  # More range for L1 regularization\n",
      "C:\\Users\\dlesha\\AppData\\Local\\Temp\\ipykernel_35692\\2903819095.py:16: FutureWarning: suggest_loguniform has been deprecated in v3.0.0. This feature will be removed in v6.0.0. See https://github.com/optuna/optuna/releases/tag/v3.0.0. Use suggest_float(..., log=True) instead.\n",
      "  'reg_lambda': trial.suggest_loguniform('reg_lambda', 1e-5, 10.0),  # More range for L2 regularization\n",
      "[I 2024-03-29 17:47:01,377] Trial 18 finished with value: 0.830089628681178 and parameters: {'learning_rate': 0.19970829936660256, 'n_estimators': 276, 'max_depth': 4, 'min_child_weight': 2, 'subsample': 0.8473025436789999, 'colsample_bytree': 0.7513113913474053, 'gamma': 2.974612697792452, 'reg_alpha': 0.0201088358248175, 'reg_lambda': 4.406086892082579e-05}. Best is trial 17 with value: 0.8385107849896583.\n",
      "C:\\Users\\dlesha\\AppData\\Local\\Temp\\ipykernel_35692\\2903819095.py:15: FutureWarning: suggest_loguniform has been deprecated in v3.0.0. This feature will be removed in v6.0.0. See https://github.com/optuna/optuna/releases/tag/v3.0.0. Use suggest_float(..., log=True) instead.\n",
      "  'reg_alpha': trial.suggest_loguniform('reg_alpha', 1e-5, 10.0),  # More range for L1 regularization\n",
      "C:\\Users\\dlesha\\AppData\\Local\\Temp\\ipykernel_35692\\2903819095.py:16: FutureWarning: suggest_loguniform has been deprecated in v3.0.0. This feature will be removed in v6.0.0. See https://github.com/optuna/optuna/releases/tag/v3.0.0. Use suggest_float(..., log=True) instead.\n",
      "  'reg_lambda': trial.suggest_loguniform('reg_lambda', 1e-5, 10.0),  # More range for L2 regularization\n",
      "[I 2024-03-29 17:47:01,490] Trial 19 finished with value: 0.8244656751699007 and parameters: {'learning_rate': 0.12542433414501286, 'n_estimators': 315, 'max_depth': 3, 'min_child_weight': 4, 'subsample': 0.7524482519776223, 'colsample_bytree': 0.7121826485931977, 'gamma': 4.091934393622862, 'reg_alpha': 0.025289068828839644, 'reg_lambda': 0.0008358406584148174}. Best is trial 17 with value: 0.8385107849896583.\n",
      "C:\\Users\\dlesha\\AppData\\Local\\Temp\\ipykernel_35692\\2903819095.py:15: FutureWarning: suggest_loguniform has been deprecated in v3.0.0. This feature will be removed in v6.0.0. See https://github.com/optuna/optuna/releases/tag/v3.0.0. Use suggest_float(..., log=True) instead.\n",
      "  'reg_alpha': trial.suggest_loguniform('reg_alpha', 1e-5, 10.0),  # More range for L1 regularization\n",
      "C:\\Users\\dlesha\\AppData\\Local\\Temp\\ipykernel_35692\\2903819095.py:16: FutureWarning: suggest_loguniform has been deprecated in v3.0.0. This feature will be removed in v6.0.0. See https://github.com/optuna/optuna/releases/tag/v3.0.0. Use suggest_float(..., log=True) instead.\n",
      "  'reg_lambda': trial.suggest_loguniform('reg_lambda', 1e-5, 10.0),  # More range for L2 regularization\n",
      "[I 2024-03-29 17:47:01,606] Trial 20 finished with value: 0.8342558849601103 and parameters: {'learning_rate': 0.18261717853346132, 'n_estimators': 206, 'max_depth': 5, 'min_child_weight': 2, 'subsample': 0.652660532254966, 'colsample_bytree': 0.6926668989396385, 'gamma': 2.071374040998332, 'reg_alpha': 0.027127154830779283, 'reg_lambda': 0.007107058949479122}. Best is trial 17 with value: 0.8385107849896583.\n",
      "C:\\Users\\dlesha\\AppData\\Local\\Temp\\ipykernel_35692\\2903819095.py:15: FutureWarning: suggest_loguniform has been deprecated in v3.0.0. This feature will be removed in v6.0.0. See https://github.com/optuna/optuna/releases/tag/v3.0.0. Use suggest_float(..., log=True) instead.\n",
      "  'reg_alpha': trial.suggest_loguniform('reg_alpha', 1e-5, 10.0),  # More range for L1 regularization\n",
      "C:\\Users\\dlesha\\AppData\\Local\\Temp\\ipykernel_35692\\2903819095.py:16: FutureWarning: suggest_loguniform has been deprecated in v3.0.0. This feature will be removed in v6.0.0. See https://github.com/optuna/optuna/releases/tag/v3.0.0. Use suggest_float(..., log=True) instead.\n",
      "  'reg_lambda': trial.suggest_loguniform('reg_lambda', 1e-5, 10.0),  # More range for L2 regularization\n",
      "[I 2024-03-29 17:47:01,737] Trial 21 finished with value: 0.8342854328769821 and parameters: {'learning_rate': 0.18320241908818277, 'n_estimators': 216, 'max_depth': 7, 'min_child_weight': 2, 'subsample': 0.6420096527607427, 'colsample_bytree': 0.6944370334146008, 'gamma': 2.07936418610388, 'reg_alpha': 0.07734503958452611, 'reg_lambda': 0.009640002493028325}. Best is trial 17 with value: 0.8385107849896583.\n",
      "C:\\Users\\dlesha\\AppData\\Local\\Temp\\ipykernel_35692\\2903819095.py:15: FutureWarning: suggest_loguniform has been deprecated in v3.0.0. This feature will be removed in v6.0.0. See https://github.com/optuna/optuna/releases/tag/v3.0.0. Use suggest_float(..., log=True) instead.\n",
      "  'reg_alpha': trial.suggest_loguniform('reg_alpha', 1e-5, 10.0),  # More range for L1 regularization\n",
      "C:\\Users\\dlesha\\AppData\\Local\\Temp\\ipykernel_35692\\2903819095.py:16: FutureWarning: suggest_loguniform has been deprecated in v3.0.0. This feature will be removed in v6.0.0. See https://github.com/optuna/optuna/releases/tag/v3.0.0. Use suggest_float(..., log=True) instead.\n",
      "  'reg_lambda': trial.suggest_loguniform('reg_lambda', 1e-5, 10.0),  # More range for L2 regularization\n",
      "[I 2024-03-29 17:47:01,884] Trial 22 finished with value: 0.8286516300600809 and parameters: {'learning_rate': 0.18238894330414357, 'n_estimators': 309, 'max_depth': 7, 'min_child_weight': 4, 'subsample': 0.6212563162864138, 'colsample_bytree': 0.7360184912102662, 'gamma': 0.8438535317128508, 'reg_alpha': 0.0553245406334221, 'reg_lambda': 0.5558347362479982}. Best is trial 17 with value: 0.8385107849896583.\n",
      "C:\\Users\\dlesha\\AppData\\Local\\Temp\\ipykernel_35692\\2903819095.py:15: FutureWarning: suggest_loguniform has been deprecated in v3.0.0. This feature will be removed in v6.0.0. See https://github.com/optuna/optuna/releases/tag/v3.0.0. Use suggest_float(..., log=True) instead.\n",
      "  'reg_alpha': trial.suggest_loguniform('reg_alpha', 1e-5, 10.0),  # More range for L1 regularization\n",
      "C:\\Users\\dlesha\\AppData\\Local\\Temp\\ipykernel_35692\\2903819095.py:16: FutureWarning: suggest_loguniform has been deprecated in v3.0.0. This feature will be removed in v6.0.0. See https://github.com/optuna/optuna/releases/tag/v3.0.0. Use suggest_float(..., log=True) instead.\n",
      "  'reg_lambda': trial.suggest_loguniform('reg_lambda', 1e-5, 10.0),  # More range for L2 regularization\n",
      "[I 2024-03-29 17:47:01,984] Trial 23 finished with value: 0.8356938835812076 and parameters: {'learning_rate': 0.15029946320641283, 'n_estimators': 149, 'max_depth': 7, 'min_child_weight': 2, 'subsample': 0.7277354959013277, 'colsample_bytree': 0.6666475014406461, 'gamma': 2.2082753357492693, 'reg_alpha': 0.7330973187427657, 'reg_lambda': 0.008710950889010385}. Best is trial 17 with value: 0.8385107849896583.\n",
      "C:\\Users\\dlesha\\AppData\\Local\\Temp\\ipykernel_35692\\2903819095.py:15: FutureWarning: suggest_loguniform has been deprecated in v3.0.0. This feature will be removed in v6.0.0. See https://github.com/optuna/optuna/releases/tag/v3.0.0. Use suggest_float(..., log=True) instead.\n",
      "  'reg_alpha': trial.suggest_loguniform('reg_alpha', 1e-5, 10.0),  # More range for L1 regularization\n",
      "C:\\Users\\dlesha\\AppData\\Local\\Temp\\ipykernel_35692\\2903819095.py:16: FutureWarning: suggest_loguniform has been deprecated in v3.0.0. This feature will be removed in v6.0.0. See https://github.com/optuna/optuna/releases/tag/v3.0.0. Use suggest_float(..., log=True) instead.\n",
      "  'reg_lambda': trial.suggest_loguniform('reg_lambda', 1e-5, 10.0),  # More range for L2 regularization\n",
      "[I 2024-03-29 17:47:02,058] Trial 24 finished with value: 0.810371318822023 and parameters: {'learning_rate': 0.15225728059231783, 'n_estimators': 115, 'max_depth': 6, 'min_child_weight': 3, 'subsample': 0.8509024194692036, 'colsample_bytree': 0.6549042979991162, 'gamma': 2.407208573059724, 'reg_alpha': 9.126930004399517, 'reg_lambda': 4.042399079325247e-05}. Best is trial 17 with value: 0.8385107849896583.\n",
      "C:\\Users\\dlesha\\AppData\\Local\\Temp\\ipykernel_35692\\2903819095.py:15: FutureWarning: suggest_loguniform has been deprecated in v3.0.0. This feature will be removed in v6.0.0. See https://github.com/optuna/optuna/releases/tag/v3.0.0. Use suggest_float(..., log=True) instead.\n",
      "  'reg_alpha': trial.suggest_loguniform('reg_alpha', 1e-5, 10.0),  # More range for L1 regularization\n",
      "C:\\Users\\dlesha\\AppData\\Local\\Temp\\ipykernel_35692\\2903819095.py:16: FutureWarning: suggest_loguniform has been deprecated in v3.0.0. This feature will be removed in v6.0.0. See https://github.com/optuna/optuna/releases/tag/v3.0.0. Use suggest_float(..., log=True) instead.\n",
      "  'reg_lambda': trial.suggest_loguniform('reg_lambda', 1e-5, 10.0),  # More range for L2 regularization\n",
      "[I 2024-03-29 17:47:02,144] Trial 25 finished with value: 0.823086772382547 and parameters: {'learning_rate': 0.12090282883064146, 'n_estimators': 156, 'max_depth': 4, 'min_child_weight': 2, 'subsample': 0.7264456894174085, 'colsample_bytree': 0.6064196911330851, 'gamma': 4.427566443320592, 'reg_alpha': 0.9271143728722528, 'reg_lambda': 0.00039549553786955905}. Best is trial 17 with value: 0.8385107849896583.\n",
      "C:\\Users\\dlesha\\AppData\\Local\\Temp\\ipykernel_35692\\2903819095.py:15: FutureWarning: suggest_loguniform has been deprecated in v3.0.0. This feature will be removed in v6.0.0. See https://github.com/optuna/optuna/releases/tag/v3.0.0. Use suggest_float(..., log=True) instead.\n",
      "  'reg_alpha': trial.suggest_loguniform('reg_alpha', 1e-5, 10.0),  # More range for L1 regularization\n",
      "C:\\Users\\dlesha\\AppData\\Local\\Temp\\ipykernel_35692\\2903819095.py:16: FutureWarning: suggest_loguniform has been deprecated in v3.0.0. This feature will be removed in v6.0.0. See https://github.com/optuna/optuna/releases/tag/v3.0.0. Use suggest_float(..., log=True) instead.\n",
      "  'reg_lambda': trial.suggest_loguniform('reg_lambda', 1e-5, 10.0),  # More range for L2 regularization\n",
      "[I 2024-03-29 17:47:02,285] Trial 26 finished with value: 0.8272727272727274 and parameters: {'learning_rate': 0.1442785983004835, 'n_estimators': 409, 'max_depth': 3, 'min_child_weight': 5, 'subsample': 0.7889876768009911, 'colsample_bytree': 0.7651976378771451, 'gamma': 1.3823916175631772, 'reg_alpha': 0.8279320946659136, 'reg_lambda': 0.04025483909706353}. Best is trial 17 with value: 0.8385107849896583.\n",
      "C:\\Users\\dlesha\\AppData\\Local\\Temp\\ipykernel_35692\\2903819095.py:15: FutureWarning: suggest_loguniform has been deprecated in v3.0.0. This feature will be removed in v6.0.0. See https://github.com/optuna/optuna/releases/tag/v3.0.0. Use suggest_float(..., log=True) instead.\n",
      "  'reg_alpha': trial.suggest_loguniform('reg_alpha', 1e-5, 10.0),  # More range for L1 regularization\n",
      "C:\\Users\\dlesha\\AppData\\Local\\Temp\\ipykernel_35692\\2903819095.py:16: FutureWarning: suggest_loguniform has been deprecated in v3.0.0. This feature will be removed in v6.0.0. See https://github.com/optuna/optuna/releases/tag/v3.0.0. Use suggest_float(..., log=True) instead.\n",
      "  'reg_lambda': trial.suggest_loguniform('reg_lambda', 1e-5, 10.0),  # More range for L2 regularization\n",
      "[I 2024-03-29 17:47:02,488] Trial 27 finished with value: 0.8258642765685018 and parameters: {'learning_rate': 0.11481933795257428, 'n_estimators': 311, 'max_depth': 7, 'min_child_weight': 1, 'subsample': 0.814383731253446, 'colsample_bytree': 0.8692511120650311, 'gamma': 3.0388888012567756, 'reg_alpha': 0.006640334161330589, 'reg_lambda': 0.0037609365503958794}. Best is trial 17 with value: 0.8385107849896583.\n",
      "C:\\Users\\dlesha\\AppData\\Local\\Temp\\ipykernel_35692\\2903819095.py:15: FutureWarning: suggest_loguniform has been deprecated in v3.0.0. This feature will be removed in v6.0.0. See https://github.com/optuna/optuna/releases/tag/v3.0.0. Use suggest_float(..., log=True) instead.\n",
      "  'reg_alpha': trial.suggest_loguniform('reg_alpha', 1e-5, 10.0),  # More range for L1 regularization\n",
      "C:\\Users\\dlesha\\AppData\\Local\\Temp\\ipykernel_35692\\2903819095.py:16: FutureWarning: suggest_loguniform has been deprecated in v3.0.0. This feature will be removed in v6.0.0. See https://github.com/optuna/optuna/releases/tag/v3.0.0. Use suggest_float(..., log=True) instead.\n",
      "  'reg_lambda': trial.suggest_loguniform('reg_lambda', 1e-5, 10.0),  # More range for L2 regularization\n",
      "[I 2024-03-29 17:47:02,586] Trial 28 finished with value: 0.8258642765685019 and parameters: {'learning_rate': 0.1933512901742588, 'n_estimators': 247, 'max_depth': 4, 'min_child_weight': 3, 'subsample': 0.8641709828097516, 'colsample_bytree': 0.6698103639517468, 'gamma': 3.884723829208738, 'reg_alpha': 0.001363267975315373, 'reg_lambda': 3.9150141298722596e-05}. Best is trial 17 with value: 0.8385107849896583.\n",
      "C:\\Users\\dlesha\\AppData\\Local\\Temp\\ipykernel_35692\\2903819095.py:15: FutureWarning: suggest_loguniform has been deprecated in v3.0.0. This feature will be removed in v6.0.0. See https://github.com/optuna/optuna/releases/tag/v3.0.0. Use suggest_float(..., log=True) instead.\n",
      "  'reg_alpha': trial.suggest_loguniform('reg_alpha', 1e-5, 10.0),  # More range for L1 regularization\n",
      "C:\\Users\\dlesha\\AppData\\Local\\Temp\\ipykernel_35692\\2903819095.py:16: FutureWarning: suggest_loguniform has been deprecated in v3.0.0. This feature will be removed in v6.0.0. See https://github.com/optuna/optuna/releases/tag/v3.0.0. Use suggest_float(..., log=True) instead.\n",
      "  'reg_lambda': trial.suggest_loguniform('reg_lambda', 1e-5, 10.0),  # More range for L2 regularization\n",
      "[I 2024-03-29 17:47:02,682] Trial 29 finished with value: 0.8258642765685019 and parameters: {'learning_rate': 0.16497891845861187, 'n_estimators': 165, 'max_depth': 5, 'min_child_weight': 1, 'subsample': 0.698267959301329, 'colsample_bytree': 0.5388396738271171, 'gamma': 0.6595630094511078, 'reg_alpha': 0.47973558328044036, 'reg_lambda': 0.3404599616980533}. Best is trial 17 with value: 0.8385107849896583.\n",
      "C:\\Users\\dlesha\\AppData\\Local\\Temp\\ipykernel_35692\\2903819095.py:15: FutureWarning: suggest_loguniform has been deprecated in v3.0.0. This feature will be removed in v6.0.0. See https://github.com/optuna/optuna/releases/tag/v3.0.0. Use suggest_float(..., log=True) instead.\n",
      "  'reg_alpha': trial.suggest_loguniform('reg_alpha', 1e-5, 10.0),  # More range for L1 regularization\n",
      "C:\\Users\\dlesha\\AppData\\Local\\Temp\\ipykernel_35692\\2903819095.py:16: FutureWarning: suggest_loguniform has been deprecated in v3.0.0. This feature will be removed in v6.0.0. See https://github.com/optuna/optuna/releases/tag/v3.0.0. Use suggest_float(..., log=True) instead.\n",
      "  'reg_lambda': trial.suggest_loguniform('reg_lambda', 1e-5, 10.0),  # More range for L2 regularization\n",
      "[I 2024-03-29 17:47:02,865] Trial 30 finished with value: 0.8244656751699007 and parameters: {'learning_rate': 0.1507746289204722, 'n_estimators': 391, 'max_depth': 6, 'min_child_weight': 4, 'subsample': 0.822344341427598, 'colsample_bytree': 0.7257150525263156, 'gamma': 4.2627946937018155, 'reg_alpha': 2.741116603756155, 'reg_lambda': 0.0003613180381460907}. Best is trial 17 with value: 0.8385107849896583.\n",
      "C:\\Users\\dlesha\\AppData\\Local\\Temp\\ipykernel_35692\\2903819095.py:15: FutureWarning: suggest_loguniform has been deprecated in v3.0.0. This feature will be removed in v6.0.0. See https://github.com/optuna/optuna/releases/tag/v3.0.0. Use suggest_float(..., log=True) instead.\n",
      "  'reg_alpha': trial.suggest_loguniform('reg_alpha', 1e-5, 10.0),  # More range for L1 regularization\n",
      "C:\\Users\\dlesha\\AppData\\Local\\Temp\\ipykernel_35692\\2903819095.py:16: FutureWarning: suggest_loguniform has been deprecated in v3.0.0. This feature will be removed in v6.0.0. See https://github.com/optuna/optuna/releases/tag/v3.0.0. Use suggest_float(..., log=True) instead.\n",
      "  'reg_lambda': trial.suggest_loguniform('reg_lambda', 1e-5, 10.0),  # More range for L2 regularization\n",
      "[I 2024-03-29 17:47:03,002] Trial 31 finished with value: 0.8244459765586527 and parameters: {'learning_rate': 0.1883008767359298, 'n_estimators': 223, 'max_depth': 7, 'min_child_weight': 2, 'subsample': 0.6850297107982276, 'colsample_bytree': 0.6142750672709348, 'gamma': 2.198914012180874, 'reg_alpha': 0.06831424648012767, 'reg_lambda': 0.01251816626982116}. Best is trial 17 with value: 0.8385107849896583.\n",
      "C:\\Users\\dlesha\\AppData\\Local\\Temp\\ipykernel_35692\\2903819095.py:15: FutureWarning: suggest_loguniform has been deprecated in v3.0.0. This feature will be removed in v6.0.0. See https://github.com/optuna/optuna/releases/tag/v3.0.0. Use suggest_float(..., log=True) instead.\n",
      "  'reg_alpha': trial.suggest_loguniform('reg_alpha', 1e-5, 10.0),  # More range for L1 regularization\n",
      "C:\\Users\\dlesha\\AppData\\Local\\Temp\\ipykernel_35692\\2903819095.py:16: FutureWarning: suggest_loguniform has been deprecated in v3.0.0. This feature will be removed in v6.0.0. See https://github.com/optuna/optuna/releases/tag/v3.0.0. Use suggest_float(..., log=True) instead.\n",
      "  'reg_lambda': trial.suggest_loguniform('reg_lambda', 1e-5, 10.0),  # More range for L2 regularization\n",
      "[I 2024-03-29 17:47:03,104] Trial 32 finished with value: 0.8314586821629074 and parameters: {'learning_rate': 0.17413611211429864, 'n_estimators': 156, 'max_depth': 7, 'min_child_weight': 2, 'subsample': 0.6397941667501801, 'colsample_bytree': 0.6780815528835198, 'gamma': 1.8049313370275737, 'reg_alpha': 0.07564569302103541, 'reg_lambda': 0.021629240705008684}. Best is trial 17 with value: 0.8385107849896583.\n",
      "C:\\Users\\dlesha\\AppData\\Local\\Temp\\ipykernel_35692\\2903819095.py:15: FutureWarning: suggest_loguniform has been deprecated in v3.0.0. This feature will be removed in v6.0.0. See https://github.com/optuna/optuna/releases/tag/v3.0.0. Use suggest_float(..., log=True) instead.\n",
      "  'reg_alpha': trial.suggest_loguniform('reg_alpha', 1e-5, 10.0),  # More range for L1 regularization\n",
      "C:\\Users\\dlesha\\AppData\\Local\\Temp\\ipykernel_35692\\2903819095.py:16: FutureWarning: suggest_loguniform has been deprecated in v3.0.0. This feature will be removed in v6.0.0. See https://github.com/optuna/optuna/releases/tag/v3.0.0. Use suggest_float(..., log=True) instead.\n",
      "  'reg_lambda': trial.suggest_loguniform('reg_lambda', 1e-5, 10.0),  # More range for L2 regularization\n",
      "[I 2024-03-29 17:47:03,221] Trial 33 finished with value: 0.8188220230473752 and parameters: {'learning_rate': 0.1856043535347684, 'n_estimators': 193, 'max_depth': 7, 'min_child_weight': 1, 'subsample': 0.7389037182773995, 'colsample_bytree': 0.5470296435482122, 'gamma': 2.4283235691698835, 'reg_alpha': 0.2549809697370428, 'reg_lambda': 0.0040071946380482735}. Best is trial 17 with value: 0.8385107849896583.\n",
      "C:\\Users\\dlesha\\AppData\\Local\\Temp\\ipykernel_35692\\2903819095.py:15: FutureWarning: suggest_loguniform has been deprecated in v3.0.0. This feature will be removed in v6.0.0. See https://github.com/optuna/optuna/releases/tag/v3.0.0. Use suggest_float(..., log=True) instead.\n",
      "  'reg_alpha': trial.suggest_loguniform('reg_alpha', 1e-5, 10.0),  # More range for L1 regularization\n",
      "C:\\Users\\dlesha\\AppData\\Local\\Temp\\ipykernel_35692\\2903819095.py:16: FutureWarning: suggest_loguniform has been deprecated in v3.0.0. This feature will be removed in v6.0.0. See https://github.com/optuna/optuna/releases/tag/v3.0.0. Use suggest_float(..., log=True) instead.\n",
      "  'reg_lambda': trial.suggest_loguniform('reg_lambda', 1e-5, 10.0),  # More range for L2 regularization\n",
      "[I 2024-03-29 17:47:03,297] Trial 34 finished with value: 0.8033684625233921 and parameters: {'learning_rate': 0.17168439779040479, 'n_estimators': 101, 'max_depth': 6, 'min_child_weight': 8, 'subsample': 0.7168751673346562, 'colsample_bytree': 0.7140524099873053, 'gamma': 4.939365840637272, 'reg_alpha': 0.011365213526451532, 'reg_lambda': 8.642337998971283e-05}. Best is trial 17 with value: 0.8385107849896583.\n",
      "C:\\Users\\dlesha\\AppData\\Local\\Temp\\ipykernel_35692\\2903819095.py:15: FutureWarning: suggest_loguniform has been deprecated in v3.0.0. This feature will be removed in v6.0.0. See https://github.com/optuna/optuna/releases/tag/v3.0.0. Use suggest_float(..., log=True) instead.\n",
      "  'reg_alpha': trial.suggest_loguniform('reg_alpha', 1e-5, 10.0),  # More range for L1 regularization\n",
      "C:\\Users\\dlesha\\AppData\\Local\\Temp\\ipykernel_35692\\2903819095.py:16: FutureWarning: suggest_loguniform has been deprecated in v3.0.0. This feature will be removed in v6.0.0. See https://github.com/optuna/optuna/releases/tag/v3.0.0. Use suggest_float(..., log=True) instead.\n",
      "  'reg_lambda': trial.suggest_loguniform('reg_lambda', 1e-5, 10.0),  # More range for L2 regularization\n",
      "[I 2024-03-29 17:47:03,444] Trial 35 finished with value: 0.8357234314980794 and parameters: {'learning_rate': 0.1341922021190973, 'n_estimators': 237, 'max_depth': 7, 'min_child_weight': 2, 'subsample': 0.6783540416288254, 'colsample_bytree': 0.7711023672740595, 'gamma': 1.7055926964232153, 'reg_alpha': 1.9233430927560693, 'reg_lambda': 0.06872811632055917}. Best is trial 17 with value: 0.8385107849896583.\n",
      "C:\\Users\\dlesha\\AppData\\Local\\Temp\\ipykernel_35692\\2903819095.py:15: FutureWarning: suggest_loguniform has been deprecated in v3.0.0. This feature will be removed in v6.0.0. See https://github.com/optuna/optuna/releases/tag/v3.0.0. Use suggest_float(..., log=True) instead.\n",
      "  'reg_alpha': trial.suggest_loguniform('reg_alpha', 1e-5, 10.0),  # More range for L1 regularization\n",
      "C:\\Users\\dlesha\\AppData\\Local\\Temp\\ipykernel_35692\\2903819095.py:16: FutureWarning: suggest_loguniform has been deprecated in v3.0.0. This feature will be removed in v6.0.0. See https://github.com/optuna/optuna/releases/tag/v3.0.0. Use suggest_float(..., log=True) instead.\n",
      "  'reg_lambda': trial.suggest_loguniform('reg_lambda', 1e-5, 10.0),  # More range for L2 regularization\n",
      "[I 2024-03-29 17:47:03,628] Trial 36 finished with value: 0.834344528710726 and parameters: {'learning_rate': 0.1324430369974681, 'n_estimators': 321, 'max_depth': 6, 'min_child_weight': 1, 'subsample': 0.7710610036811114, 'colsample_bytree': 0.7958489730006827, 'gamma': 1.6442761760265123, 'reg_alpha': 1.8393864284059676, 'reg_lambda': 0.13037778213138457}. Best is trial 17 with value: 0.8385107849896583.\n",
      "C:\\Users\\dlesha\\AppData\\Local\\Temp\\ipykernel_35692\\2903819095.py:15: FutureWarning: suggest_loguniform has been deprecated in v3.0.0. This feature will be removed in v6.0.0. See https://github.com/optuna/optuna/releases/tag/v3.0.0. Use suggest_float(..., log=True) instead.\n",
      "  'reg_alpha': trial.suggest_loguniform('reg_alpha', 1e-5, 10.0),  # More range for L1 regularization\n",
      "C:\\Users\\dlesha\\AppData\\Local\\Temp\\ipykernel_35692\\2903819095.py:16: FutureWarning: suggest_loguniform has been deprecated in v3.0.0. This feature will be removed in v6.0.0. See https://github.com/optuna/optuna/releases/tag/v3.0.0. Use suggest_float(..., log=True) instead.\n",
      "  'reg_lambda': trial.suggest_loguniform('reg_lambda', 1e-5, 10.0),  # More range for L2 regularization\n",
      "[I 2024-03-29 17:47:03,754] Trial 37 finished with value: 0.8287008765882005 and parameters: {'learning_rate': 0.07863368813190155, 'n_estimators': 238, 'max_depth': 6, 'min_child_weight': 5, 'subsample': 0.6855115490519005, 'colsample_bytree': 0.7982857742629361, 'gamma': 1.0426622837944004, 'reg_alpha': 1.9881970823544939, 'reg_lambda': 0.17799098699637755}. Best is trial 17 with value: 0.8385107849896583.\n",
      "C:\\Users\\dlesha\\AppData\\Local\\Temp\\ipykernel_35692\\2903819095.py:15: FutureWarning: suggest_loguniform has been deprecated in v3.0.0. This feature will be removed in v6.0.0. See https://github.com/optuna/optuna/releases/tag/v3.0.0. Use suggest_float(..., log=True) instead.\n",
      "  'reg_alpha': trial.suggest_loguniform('reg_alpha', 1e-5, 10.0),  # More range for L1 regularization\n",
      "C:\\Users\\dlesha\\AppData\\Local\\Temp\\ipykernel_35692\\2903819095.py:16: FutureWarning: suggest_loguniform has been deprecated in v3.0.0. This feature will be removed in v6.0.0. See https://github.com/optuna/optuna/releases/tag/v3.0.0. Use suggest_float(..., log=True) instead.\n",
      "  'reg_lambda': trial.suggest_loguniform('reg_lambda', 1e-5, 10.0),  # More range for L2 regularization\n",
      "[I 2024-03-29 17:47:03,886] Trial 38 finished with value: 0.8075741160248203 and parameters: {'learning_rate': 0.13330164388142304, 'n_estimators': 289, 'max_depth': 6, 'min_child_weight': 3, 'subsample': 0.7642874961606587, 'colsample_bytree': 0.7860820273366029, 'gamma': 1.70058763988879, 'reg_alpha': 7.590435272708196, 'reg_lambda': 1.7310594296027018}. Best is trial 17 with value: 0.8385107849896583.\n",
      "C:\\Users\\dlesha\\AppData\\Local\\Temp\\ipykernel_35692\\2903819095.py:15: FutureWarning: suggest_loguniform has been deprecated in v3.0.0. This feature will be removed in v6.0.0. See https://github.com/optuna/optuna/releases/tag/v3.0.0. Use suggest_float(..., log=True) instead.\n",
      "  'reg_alpha': trial.suggest_loguniform('reg_alpha', 1e-5, 10.0),  # More range for L1 regularization\n",
      "C:\\Users\\dlesha\\AppData\\Local\\Temp\\ipykernel_35692\\2903819095.py:16: FutureWarning: suggest_loguniform has been deprecated in v3.0.0. This feature will be removed in v6.0.0. See https://github.com/optuna/optuna/releases/tag/v3.0.0. Use suggest_float(..., log=True) instead.\n",
      "  'reg_lambda': trial.suggest_loguniform('reg_lambda', 1e-5, 10.0),  # More range for L2 regularization\n",
      "[I 2024-03-29 17:47:04,118] Trial 39 finished with value: 0.8357037328868314 and parameters: {'learning_rate': 0.1113600754486508, 'n_estimators': 456, 'max_depth': 7, 'min_child_weight': 2, 'subsample': 0.7137654409701586, 'colsample_bytree': 0.8487482787344135, 'gamma': 0.5380732080914241, 'reg_alpha': 1.4579491735341261, 'reg_lambda': 0.03787100541665052}. Best is trial 17 with value: 0.8385107849896583.\n",
      "C:\\Users\\dlesha\\AppData\\Local\\Temp\\ipykernel_35692\\2903819095.py:15: FutureWarning: suggest_loguniform has been deprecated in v3.0.0. This feature will be removed in v6.0.0. See https://github.com/optuna/optuna/releases/tag/v3.0.0. Use suggest_float(..., log=True) instead.\n",
      "  'reg_alpha': trial.suggest_loguniform('reg_alpha', 1e-5, 10.0),  # More range for L1 regularization\n",
      "C:\\Users\\dlesha\\AppData\\Local\\Temp\\ipykernel_35692\\2903819095.py:16: FutureWarning: suggest_loguniform has been deprecated in v3.0.0. This feature will be removed in v6.0.0. See https://github.com/optuna/optuna/releases/tag/v3.0.0. Use suggest_float(..., log=True) instead.\n",
      "  'reg_lambda': trial.suggest_loguniform('reg_lambda', 1e-5, 10.0),  # More range for L2 regularization\n",
      "[I 2024-03-29 17:47:04,341] Trial 40 finished with value: 0.821638924455826 and parameters: {'learning_rate': 0.10652702420575744, 'n_estimators': 492, 'max_depth': 7, 'min_child_weight': 4, 'subsample': 0.601014929124774, 'colsample_bytree': 0.8271258742241444, 'gamma': 0.2302379021334311, 'reg_alpha': 0.33959733410165494, 'reg_lambda': 0.03797529602792282}. Best is trial 17 with value: 0.8385107849896583.\n",
      "C:\\Users\\dlesha\\AppData\\Local\\Temp\\ipykernel_35692\\2903819095.py:15: FutureWarning: suggest_loguniform has been deprecated in v3.0.0. This feature will be removed in v6.0.0. See https://github.com/optuna/optuna/releases/tag/v3.0.0. Use suggest_float(..., log=True) instead.\n",
      "  'reg_alpha': trial.suggest_loguniform('reg_alpha', 1e-5, 10.0),  # More range for L1 regularization\n",
      "C:\\Users\\dlesha\\AppData\\Local\\Temp\\ipykernel_35692\\2903819095.py:16: FutureWarning: suggest_loguniform has been deprecated in v3.0.0. This feature will be removed in v6.0.0. See https://github.com/optuna/optuna/releases/tag/v3.0.0. Use suggest_float(..., log=True) instead.\n",
      "  'reg_lambda': trial.suggest_loguniform('reg_lambda', 1e-5, 10.0),  # More range for L2 regularization\n",
      "[I 2024-03-29 17:47:04,507] Trial 41 finished with value: 0.8315177779966513 and parameters: {'learning_rate': 0.09698381621143141, 'n_estimators': 319, 'max_depth': 7, 'min_child_weight': 2, 'subsample': 0.7098988564401226, 'colsample_bytree': 0.8568590063501884, 'gamma': 1.1061742244685635, 'reg_alpha': 1.8478585165912456, 'reg_lambda': 0.19737714132733916}. Best is trial 17 with value: 0.8385107849896583.\n",
      "C:\\Users\\dlesha\\AppData\\Local\\Temp\\ipykernel_35692\\2903819095.py:15: FutureWarning: suggest_loguniform has been deprecated in v3.0.0. This feature will be removed in v6.0.0. See https://github.com/optuna/optuna/releases/tag/v3.0.0. Use suggest_float(..., log=True) instead.\n",
      "  'reg_alpha': trial.suggest_loguniform('reg_alpha', 1e-5, 10.0),  # More range for L1 regularization\n",
      "C:\\Users\\dlesha\\AppData\\Local\\Temp\\ipykernel_35692\\2903819095.py:16: FutureWarning: suggest_loguniform has been deprecated in v3.0.0. This feature will be removed in v6.0.0. See https://github.com/optuna/optuna/releases/tag/v3.0.0. Use suggest_float(..., log=True) instead.\n",
      "  'reg_lambda': trial.suggest_loguniform('reg_lambda', 1e-5, 10.0),  # More range for L2 regularization\n",
      "[I 2024-03-29 17:47:04,737] Trial 42 finished with value: 0.8301093272924259 and parameters: {'learning_rate': 0.06682463313342202, 'n_estimators': 530, 'max_depth': 6, 'min_child_weight': 1, 'subsample': 0.6764850412874331, 'colsample_bytree': 0.8062778759545749, 'gamma': 0.5104731401999628, 'reg_alpha': 3.448295469075059, 'reg_lambda': 0.06656921003828165}. Best is trial 17 with value: 0.8385107849896583.\n",
      "C:\\Users\\dlesha\\AppData\\Local\\Temp\\ipykernel_35692\\2903819095.py:15: FutureWarning: suggest_loguniform has been deprecated in v3.0.0. This feature will be removed in v6.0.0. See https://github.com/optuna/optuna/releases/tag/v3.0.0. Use suggest_float(..., log=True) instead.\n",
      "  'reg_alpha': trial.suggest_loguniform('reg_alpha', 1e-5, 10.0),  # More range for L1 regularization\n",
      "C:\\Users\\dlesha\\AppData\\Local\\Temp\\ipykernel_35692\\2903819095.py:16: FutureWarning: suggest_loguniform has been deprecated in v3.0.0. This feature will be removed in v6.0.0. See https://github.com/optuna/optuna/releases/tag/v3.0.0. Use suggest_float(..., log=True) instead.\n",
      "  'reg_lambda': trial.suggest_loguniform('reg_lambda', 1e-5, 10.0),  # More range for L2 regularization\n",
      "[I 2024-03-29 17:47:04,962] Trial 43 finished with value: 0.8286811779769525 and parameters: {'learning_rate': 0.11419955594061801, 'n_estimators': 466, 'max_depth': 7, 'min_child_weight': 3, 'subsample': 0.7287119190287121, 'colsample_bytree': 0.8455413928625024, 'gamma': 1.5561444613696267, 'reg_alpha': 1.1354508302577933, 'reg_lambda': 0.8971814992986001}. Best is trial 17 with value: 0.8385107849896583.\n",
      "C:\\Users\\dlesha\\AppData\\Local\\Temp\\ipykernel_35692\\2903819095.py:15: FutureWarning: suggest_loguniform has been deprecated in v3.0.0. This feature will be removed in v6.0.0. See https://github.com/optuna/optuna/releases/tag/v3.0.0. Use suggest_float(..., log=True) instead.\n",
      "  'reg_alpha': trial.suggest_loguniform('reg_alpha', 1e-5, 10.0),  # More range for L1 regularization\n",
      "C:\\Users\\dlesha\\AppData\\Local\\Temp\\ipykernel_35692\\2903819095.py:16: FutureWarning: suggest_loguniform has been deprecated in v3.0.0. This feature will be removed in v6.0.0. See https://github.com/optuna/optuna/releases/tag/v3.0.0. Use suggest_float(..., log=True) instead.\n",
      "  'reg_lambda': trial.suggest_loguniform('reg_lambda', 1e-5, 10.0),  # More range for L2 regularization\n",
      "[I 2024-03-29 17:47:05,183] Trial 44 finished with value: 0.8399586329163794 and parameters: {'learning_rate': 0.13254605068607073, 'n_estimators': 453, 'max_depth': 6, 'min_child_weight': 2, 'subsample': 0.7788915738677062, 'colsample_bytree': 0.7607500096031349, 'gamma': 2.8011214600518834, 'reg_alpha': 0.537295718718965, 'reg_lambda': 0.02133495061674125}. Best is trial 44 with value: 0.8399586329163794.\n",
      "C:\\Users\\dlesha\\AppData\\Local\\Temp\\ipykernel_35692\\2903819095.py:15: FutureWarning: suggest_loguniform has been deprecated in v3.0.0. This feature will be removed in v6.0.0. See https://github.com/optuna/optuna/releases/tag/v3.0.0. Use suggest_float(..., log=True) instead.\n",
      "  'reg_alpha': trial.suggest_loguniform('reg_alpha', 1e-5, 10.0),  # More range for L1 regularization\n",
      "C:\\Users\\dlesha\\AppData\\Local\\Temp\\ipykernel_35692\\2903819095.py:16: FutureWarning: suggest_loguniform has been deprecated in v3.0.0. This feature will be removed in v6.0.0. See https://github.com/optuna/optuna/releases/tag/v3.0.0. Use suggest_float(..., log=True) instead.\n",
      "  'reg_lambda': trial.suggest_loguniform('reg_lambda', 1e-5, 10.0),  # More range for L2 regularization\n",
      "[I 2024-03-29 17:47:05,429] Trial 45 finished with value: 0.8244952230867725 and parameters: {'learning_rate': 0.08677379115088163, 'n_estimators': 462, 'max_depth': 7, 'min_child_weight': 2, 'subsample': 0.7515501524451902, 'colsample_bytree': 0.7687444718715453, 'gamma': 2.6998609901189927, 'reg_alpha': 0.13761021348739125, 'reg_lambda': 0.030417147824386717}. Best is trial 44 with value: 0.8399586329163794.\n",
      "C:\\Users\\dlesha\\AppData\\Local\\Temp\\ipykernel_35692\\2903819095.py:15: FutureWarning: suggest_loguniform has been deprecated in v3.0.0. This feature will be removed in v6.0.0. See https://github.com/optuna/optuna/releases/tag/v3.0.0. Use suggest_float(..., log=True) instead.\n",
      "  'reg_alpha': trial.suggest_loguniform('reg_alpha', 1e-5, 10.0),  # More range for L1 regularization\n",
      "C:\\Users\\dlesha\\AppData\\Local\\Temp\\ipykernel_35692\\2903819095.py:16: FutureWarning: suggest_loguniform has been deprecated in v3.0.0. This feature will be removed in v6.0.0. See https://github.com/optuna/optuna/releases/tag/v3.0.0. Use suggest_float(..., log=True) instead.\n",
      "  'reg_lambda': trial.suggest_loguniform('reg_lambda', 1e-5, 10.0),  # More range for L2 regularization\n",
      "[I 2024-03-29 17:47:05,690] Trial 46 finished with value: 0.8273121244952231 and parameters: {'learning_rate': 0.10667514698772382, 'n_estimators': 532, 'max_depth': 6, 'min_child_weight': 3, 'subsample': 0.6632537770038629, 'colsample_bytree': 0.8992715421383393, 'gamma': 3.181649294186065, 'reg_alpha': 0.43714063911365897, 'reg_lambda': 0.06489527552608232}. Best is trial 44 with value: 0.8399586329163794.\n",
      "C:\\Users\\dlesha\\AppData\\Local\\Temp\\ipykernel_35692\\2903819095.py:15: FutureWarning: suggest_loguniform has been deprecated in v3.0.0. This feature will be removed in v6.0.0. See https://github.com/optuna/optuna/releases/tag/v3.0.0. Use suggest_float(..., log=True) instead.\n",
      "  'reg_alpha': trial.suggest_loguniform('reg_alpha', 1e-5, 10.0),  # More range for L1 regularization\n",
      "C:\\Users\\dlesha\\AppData\\Local\\Temp\\ipykernel_35692\\2903819095.py:16: FutureWarning: suggest_loguniform has been deprecated in v3.0.0. This feature will be removed in v6.0.0. See https://github.com/optuna/optuna/releases/tag/v3.0.0. Use suggest_float(..., log=True) instead.\n",
      "  'reg_lambda': trial.suggest_loguniform('reg_lambda', 1e-5, 10.0),  # More range for L2 regularization\n",
      "[I 2024-03-29 17:47:05,798] Trial 47 finished with value: 0.8244656751699004 and parameters: {'learning_rate': 0.13007204523939733, 'n_estimators': 184, 'max_depth': 7, 'min_child_weight': 7, 'subsample': 0.7876121801034451, 'colsample_bytree': 0.7532478537349707, 'gamma': 2.838513295709604, 'reg_alpha': 0.5445831459642643, 'reg_lambda': 0.005475229470184396}. Best is trial 44 with value: 0.8399586329163794.\n",
      "C:\\Users\\dlesha\\AppData\\Local\\Temp\\ipykernel_35692\\2903819095.py:15: FutureWarning: suggest_loguniform has been deprecated in v3.0.0. This feature will be removed in v6.0.0. See https://github.com/optuna/optuna/releases/tag/v3.0.0. Use suggest_float(..., log=True) instead.\n",
      "  'reg_alpha': trial.suggest_loguniform('reg_alpha', 1e-5, 10.0),  # More range for L1 regularization\n",
      "C:\\Users\\dlesha\\AppData\\Local\\Temp\\ipykernel_35692\\2903819095.py:16: FutureWarning: suggest_loguniform has been deprecated in v3.0.0. This feature will be removed in v6.0.0. See https://github.com/optuna/optuna/releases/tag/v3.0.0. Use suggest_float(..., log=True) instead.\n",
      "  'reg_lambda': trial.suggest_loguniform('reg_lambda', 1e-5, 10.0),  # More range for L2 regularization\n",
      "[I 2024-03-29 17:47:05,971] Trial 48 finished with value: 0.8160445188614203 and parameters: {'learning_rate': 0.01951635983716453, 'n_estimators': 383, 'max_depth': 5, 'min_child_weight': 2, 'subsample': 0.871419293035446, 'colsample_bytree': 0.7407821948618333, 'gamma': 3.3688289666906006, 'reg_alpha': 4.374133071622468, 'reg_lambda': 0.018697801771216493}. Best is trial 44 with value: 0.8399586329163794.\n",
      "C:\\Users\\dlesha\\AppData\\Local\\Temp\\ipykernel_35692\\2903819095.py:15: FutureWarning: suggest_loguniform has been deprecated in v3.0.0. This feature will be removed in v6.0.0. See https://github.com/optuna/optuna/releases/tag/v3.0.0. Use suggest_float(..., log=True) instead.\n",
      "  'reg_alpha': trial.suggest_loguniform('reg_alpha', 1e-5, 10.0),  # More range for L1 regularization\n",
      "C:\\Users\\dlesha\\AppData\\Local\\Temp\\ipykernel_35692\\2903819095.py:16: FutureWarning: suggest_loguniform has been deprecated in v3.0.0. This feature will be removed in v6.0.0. See https://github.com/optuna/optuna/releases/tag/v3.0.0. Use suggest_float(..., log=True) instead.\n",
      "  'reg_lambda': trial.suggest_loguniform('reg_lambda', 1e-5, 10.0),  # More range for L2 regularization\n",
      "[I 2024-03-29 17:47:06,217] Trial 49 finished with value: 0.8328966807840047 and parameters: {'learning_rate': 0.15050319275834606, 'n_estimators': 451, 'max_depth': 7, 'min_child_weight': 3, 'subsample': 0.6992643168300471, 'colsample_bytree': 0.8737114103859899, 'gamma': 2.286836567536634, 'reg_alpha': 0.15370850099015068, 'reg_lambda': 0.001965135846437064}. Best is trial 44 with value: 0.8399586329163794.\n",
      "C:\\Users\\dlesha\\AppData\\Local\\Temp\\ipykernel_35692\\2903819095.py:15: FutureWarning: suggest_loguniform has been deprecated in v3.0.0. This feature will be removed in v6.0.0. See https://github.com/optuna/optuna/releases/tag/v3.0.0. Use suggest_float(..., log=True) instead.\n",
      "  'reg_alpha': trial.suggest_loguniform('reg_alpha', 1e-5, 10.0),  # More range for L1 regularization\n",
      "C:\\Users\\dlesha\\AppData\\Local\\Temp\\ipykernel_35692\\2903819095.py:16: FutureWarning: suggest_loguniform has been deprecated in v3.0.0. This feature will be removed in v6.0.0. See https://github.com/optuna/optuna/releases/tag/v3.0.0. Use suggest_float(..., log=True) instead.\n",
      "  'reg_lambda': trial.suggest_loguniform('reg_lambda', 1e-5, 10.0),  # More range for L2 regularization\n",
      "[I 2024-03-29 17:47:06,462] Trial 50 finished with value: 0.8357332808037032 and parameters: {'learning_rate': 0.11855145594077923, 'n_estimators': 526, 'max_depth': 7, 'min_child_weight': 4, 'subsample': 0.8314628718154304, 'colsample_bytree': 0.7743800345150696, 'gamma': 1.8830421219366853, 'reg_alpha': 0.003227912130627324, 'reg_lambda': 6.616867585001177}. Best is trial 44 with value: 0.8399586329163794.\n",
      "C:\\Users\\dlesha\\AppData\\Local\\Temp\\ipykernel_35692\\2903819095.py:15: FutureWarning: suggest_loguniform has been deprecated in v3.0.0. This feature will be removed in v6.0.0. See https://github.com/optuna/optuna/releases/tag/v3.0.0. Use suggest_float(..., log=True) instead.\n",
      "  'reg_alpha': trial.suggest_loguniform('reg_alpha', 1e-5, 10.0),  # More range for L1 regularization\n",
      "C:\\Users\\dlesha\\AppData\\Local\\Temp\\ipykernel_35692\\2903819095.py:16: FutureWarning: suggest_loguniform has been deprecated in v3.0.0. This feature will be removed in v6.0.0. See https://github.com/optuna/optuna/releases/tag/v3.0.0. Use suggest_float(..., log=True) instead.\n",
      "  'reg_lambda': trial.suggest_loguniform('reg_lambda', 1e-5, 10.0),  # More range for L2 regularization\n",
      "[I 2024-03-29 17:47:06,699] Trial 51 finished with value: 0.8258839751797499 and parameters: {'learning_rate': 0.11790955187662067, 'n_estimators': 510, 'max_depth': 7, 'min_child_weight': 4, 'subsample': 0.8319621155300639, 'colsample_bytree': 0.7761246625517267, 'gamma': 1.906131115943656, 'reg_alpha': 0.002511326976790738, 'reg_lambda': 7.94596784335646}. Best is trial 44 with value: 0.8399586329163794.\n",
      "C:\\Users\\dlesha\\AppData\\Local\\Temp\\ipykernel_35692\\2903819095.py:15: FutureWarning: suggest_loguniform has been deprecated in v3.0.0. This feature will be removed in v6.0.0. See https://github.com/optuna/optuna/releases/tag/v3.0.0. Use suggest_float(..., log=True) instead.\n",
      "  'reg_alpha': trial.suggest_loguniform('reg_alpha', 1e-5, 10.0),  # More range for L1 regularization\n",
      "C:\\Users\\dlesha\\AppData\\Local\\Temp\\ipykernel_35692\\2903819095.py:16: FutureWarning: suggest_loguniform has been deprecated in v3.0.0. This feature will be removed in v6.0.0. See https://github.com/optuna/optuna/releases/tag/v3.0.0. Use suggest_float(..., log=True) instead.\n",
      "  'reg_lambda': trial.suggest_loguniform('reg_lambda', 1e-5, 10.0),  # More range for L2 regularization\n",
      "[I 2024-03-29 17:47:06,941] Trial 52 finished with value: 0.8300994779868021 and parameters: {'learning_rate': 0.13729642493802957, 'n_estimators': 560, 'max_depth': 7, 'min_child_weight': 2, 'subsample': 0.8019111735179211, 'colsample_bytree': 0.7111121834360242, 'gamma': 1.2733673408409063, 'reg_alpha': 1.4592229613470227, 'reg_lambda': 1.918087756664254}. Best is trial 44 with value: 0.8399586329163794.\n",
      "C:\\Users\\dlesha\\AppData\\Local\\Temp\\ipykernel_35692\\2903819095.py:15: FutureWarning: suggest_loguniform has been deprecated in v3.0.0. This feature will be removed in v6.0.0. See https://github.com/optuna/optuna/releases/tag/v3.0.0. Use suggest_float(..., log=True) instead.\n",
      "  'reg_alpha': trial.suggest_loguniform('reg_alpha', 1e-5, 10.0),  # More range for L1 regularization\n",
      "C:\\Users\\dlesha\\AppData\\Local\\Temp\\ipykernel_35692\\2903819095.py:16: FutureWarning: suggest_loguniform has been deprecated in v3.0.0. This feature will be removed in v6.0.0. See https://github.com/optuna/optuna/releases/tag/v3.0.0. Use suggest_float(..., log=True) instead.\n",
      "  'reg_lambda': trial.suggest_loguniform('reg_lambda', 1e-5, 10.0),  # More range for L2 regularization\n",
      "[I 2024-03-29 17:47:07,151] Trial 53 finished with value: 0.821619225844578 and parameters: {'learning_rate': 0.12314766297362122, 'n_estimators': 505, 'max_depth': 6, 'min_child_weight': 6, 'subsample': 0.8380542780830826, 'colsample_bytree': 0.8119435133101198, 'gamma': 0.12405660398527613, 'reg_alpha': 0.004423168825642793, 'reg_lambda': 4.60273321152164}. Best is trial 44 with value: 0.8399586329163794.\n",
      "C:\\Users\\dlesha\\AppData\\Local\\Temp\\ipykernel_35692\\2903819095.py:15: FutureWarning: suggest_loguniform has been deprecated in v3.0.0. This feature will be removed in v6.0.0. See https://github.com/optuna/optuna/releases/tag/v3.0.0. Use suggest_float(..., log=True) instead.\n",
      "  'reg_alpha': trial.suggest_loguniform('reg_alpha', 1e-5, 10.0),  # More range for L1 regularization\n",
      "C:\\Users\\dlesha\\AppData\\Local\\Temp\\ipykernel_35692\\2903819095.py:16: FutureWarning: suggest_loguniform has been deprecated in v3.0.0. This feature will be removed in v6.0.0. See https://github.com/optuna/optuna/releases/tag/v3.0.0. Use suggest_float(..., log=True) instead.\n",
      "  'reg_lambda': trial.suggest_loguniform('reg_lambda', 1e-5, 10.0),  # More range for L2 regularization\n",
      "[I 2024-03-29 17:47:07,385] Trial 54 finished with value: 0.8300797793755541 and parameters: {'learning_rate': 0.09959788206048736, 'n_estimators': 561, 'max_depth': 7, 'min_child_weight': 5, 'subsample': 0.8665113245370121, 'colsample_bytree': 0.6766361678401374, 'gamma': 2.556039676672408, 'reg_alpha': 0.00011207536226571711, 'reg_lambda': 0.4147133185533362}. Best is trial 44 with value: 0.8399586329163794.\n",
      "C:\\Users\\dlesha\\AppData\\Local\\Temp\\ipykernel_35692\\2903819095.py:15: FutureWarning: suggest_loguniform has been deprecated in v3.0.0. This feature will be removed in v6.0.0. See https://github.com/optuna/optuna/releases/tag/v3.0.0. Use suggest_float(..., log=True) instead.\n",
      "  'reg_alpha': trial.suggest_loguniform('reg_alpha', 1e-5, 10.0),  # More range for L1 regularization\n",
      "C:\\Users\\dlesha\\AppData\\Local\\Temp\\ipykernel_35692\\2903819095.py:16: FutureWarning: suggest_loguniform has been deprecated in v3.0.0. This feature will be removed in v6.0.0. See https://github.com/optuna/optuna/releases/tag/v3.0.0. Use suggest_float(..., log=True) instead.\n",
      "  'reg_lambda': trial.suggest_loguniform('reg_lambda', 1e-5, 10.0),  # More range for L2 regularization\n",
      "[I 2024-03-29 17:47:07,477] Trial 55 finished with value: 0.8202304737516005 and parameters: {'learning_rate': 0.11024639637027202, 'n_estimators': 134, 'max_depth': 7, 'min_child_weight': 3, 'subsample': 0.7769928022701871, 'colsample_bytree': 0.7502941857328249, 'gamma': 1.910113038988679, 'reg_alpha': 5.700899106352328, 'reg_lambda': 0.014338571926867338}. Best is trial 44 with value: 0.8399586329163794.\n",
      "C:\\Users\\dlesha\\AppData\\Local\\Temp\\ipykernel_35692\\2903819095.py:15: FutureWarning: suggest_loguniform has been deprecated in v3.0.0. This feature will be removed in v6.0.0. See https://github.com/optuna/optuna/releases/tag/v3.0.0. Use suggest_float(..., log=True) instead.\n",
      "  'reg_alpha': trial.suggest_loguniform('reg_alpha', 1e-5, 10.0),  # More range for L1 regularization\n",
      "C:\\Users\\dlesha\\AppData\\Local\\Temp\\ipykernel_35692\\2903819095.py:16: FutureWarning: suggest_loguniform has been deprecated in v3.0.0. This feature will be removed in v6.0.0. See https://github.com/optuna/optuna/releases/tag/v3.0.0. Use suggest_float(..., log=True) instead.\n",
      "  'reg_lambda': trial.suggest_loguniform('reg_lambda', 1e-5, 10.0),  # More range for L2 regularization\n",
      "[I 2024-03-29 17:47:07,728] Trial 56 finished with value: 0.8314882300797795 and parameters: {'learning_rate': 0.08787218161558395, 'n_estimators': 482, 'max_depth': 6, 'min_child_weight': 1, 'subsample': 0.7565487297831449, 'colsample_bytree': 0.7332673989607863, 'gamma': 3.604980674609547, 'reg_alpha': 0.03815219069806418, 'reg_lambda': 0.24179441530443116}. Best is trial 44 with value: 0.8399586329163794.\n",
      "C:\\Users\\dlesha\\AppData\\Local\\Temp\\ipykernel_35692\\2903819095.py:15: FutureWarning: suggest_loguniform has been deprecated in v3.0.0. This feature will be removed in v6.0.0. See https://github.com/optuna/optuna/releases/tag/v3.0.0. Use suggest_float(..., log=True) instead.\n",
      "  'reg_alpha': trial.suggest_loguniform('reg_alpha', 1e-5, 10.0),  # More range for L1 regularization\n",
      "C:\\Users\\dlesha\\AppData\\Local\\Temp\\ipykernel_35692\\2903819095.py:16: FutureWarning: suggest_loguniform has been deprecated in v3.0.0. This feature will be removed in v6.0.0. See https://github.com/optuna/optuna/releases/tag/v3.0.0. Use suggest_float(..., log=True) instead.\n",
      "  'reg_lambda': trial.suggest_loguniform('reg_lambda', 1e-5, 10.0),  # More range for L2 regularization\n",
      "[I 2024-03-29 17:47:07,919] Trial 57 finished with value: 0.823076923076923 and parameters: {'learning_rate': 0.1440438281256436, 'n_estimators': 334, 'max_depth': 7, 'min_child_weight': 2, 'subsample': 0.737577300077892, 'colsample_bytree': 0.787085913377993, 'gamma': 1.4070382013761604, 'reg_alpha': 0.013598502792955325, 'reg_lambda': 0.06251637432703808}. Best is trial 44 with value: 0.8399586329163794.\n",
      "C:\\Users\\dlesha\\AppData\\Local\\Temp\\ipykernel_35692\\2903819095.py:15: FutureWarning: suggest_loguniform has been deprecated in v3.0.0. This feature will be removed in v6.0.0. See https://github.com/optuna/optuna/releases/tag/v3.0.0. Use suggest_float(..., log=True) instead.\n",
      "  'reg_alpha': trial.suggest_loguniform('reg_alpha', 1e-5, 10.0),  # More range for L1 regularization\n",
      "C:\\Users\\dlesha\\AppData\\Local\\Temp\\ipykernel_35692\\2903819095.py:16: FutureWarning: suggest_loguniform has been deprecated in v3.0.0. This feature will be removed in v6.0.0. See https://github.com/optuna/optuna/releases/tag/v3.0.0. Use suggest_float(..., log=True) instead.\n",
      "  'reg_lambda': trial.suggest_loguniform('reg_lambda', 1e-5, 10.0),  # More range for L2 regularization\n",
      "[I 2024-03-29 17:47:08,090] Trial 58 finished with value: 0.8005811090318133 and parameters: {'learning_rate': 0.15570036846913782, 'n_estimators': 436, 'max_depth': 7, 'min_child_weight': 10, 'subsample': 0.8798778808068077, 'colsample_bytree': 0.8278411859169289, 'gamma': 2.2450301730058095, 'reg_alpha': 0.7950517665158181, 'reg_lambda': 0.0010250241735113128}. Best is trial 44 with value: 0.8399586329163794.\n",
      "C:\\Users\\dlesha\\AppData\\Local\\Temp\\ipykernel_35692\\2903819095.py:15: FutureWarning: suggest_loguniform has been deprecated in v3.0.0. This feature will be removed in v6.0.0. See https://github.com/optuna/optuna/releases/tag/v3.0.0. Use suggest_float(..., log=True) instead.\n",
      "  'reg_alpha': trial.suggest_loguniform('reg_alpha', 1e-5, 10.0),  # More range for L1 regularization\n",
      "C:\\Users\\dlesha\\AppData\\Local\\Temp\\ipykernel_35692\\2903819095.py:16: FutureWarning: suggest_loguniform has been deprecated in v3.0.0. This feature will be removed in v6.0.0. See https://github.com/optuna/optuna/releases/tag/v3.0.0. Use suggest_float(..., log=True) instead.\n",
      "  'reg_lambda': trial.suggest_loguniform('reg_lambda', 1e-5, 10.0),  # More range for L2 regularization\n",
      "[I 2024-03-29 17:47:08,240] Trial 59 finished with value: 0.8328868314783808 and parameters: {'learning_rate': 0.0602550511974686, 'n_estimators': 289, 'max_depth': 5, 'min_child_weight': 1, 'subsample': 0.851764007372886, 'colsample_bytree': 0.621889315640632, 'gamma': 0.8329555633591768, 'reg_alpha': 0.11410477643131926, 'reg_lambda': 0.7970784523694558}. Best is trial 44 with value: 0.8399586329163794.\n",
      "C:\\Users\\dlesha\\AppData\\Local\\Temp\\ipykernel_35692\\2903819095.py:15: FutureWarning: suggest_loguniform has been deprecated in v3.0.0. This feature will be removed in v6.0.0. See https://github.com/optuna/optuna/releases/tag/v3.0.0. Use suggest_float(..., log=True) instead.\n",
      "  'reg_alpha': trial.suggest_loguniform('reg_alpha', 1e-5, 10.0),  # More range for L1 regularization\n",
      "C:\\Users\\dlesha\\AppData\\Local\\Temp\\ipykernel_35692\\2903819095.py:16: FutureWarning: suggest_loguniform has been deprecated in v3.0.0. This feature will be removed in v6.0.0. See https://github.com/optuna/optuna/releases/tag/v3.0.0. Use suggest_float(..., log=True) instead.\n",
      "  'reg_lambda': trial.suggest_loguniform('reg_lambda', 1e-5, 10.0),  # More range for L2 regularization\n",
      "[I 2024-03-29 17:47:08,492] Trial 60 finished with value: 0.8314882300797795 and parameters: {'learning_rate': 0.13700278007117356, 'n_estimators': 588, 'max_depth': 6, 'min_child_weight': 3, 'subsample': 0.7989741070365586, 'colsample_bytree': 0.6658961226681608, 'gamma': 4.681687635144943, 'reg_alpha': 0.0010868496143318167, 'reg_lambda': 0.00023069567057338127}. Best is trial 44 with value: 0.8399586329163794.\n",
      "C:\\Users\\dlesha\\AppData\\Local\\Temp\\ipykernel_35692\\2903819095.py:15: FutureWarning: suggest_loguniform has been deprecated in v3.0.0. This feature will be removed in v6.0.0. See https://github.com/optuna/optuna/releases/tag/v3.0.0. Use suggest_float(..., log=True) instead.\n",
      "  'reg_alpha': trial.suggest_loguniform('reg_alpha', 1e-5, 10.0),  # More range for L1 regularization\n",
      "C:\\Users\\dlesha\\AppData\\Local\\Temp\\ipykernel_35692\\2903819095.py:16: FutureWarning: suggest_loguniform has been deprecated in v3.0.0. This feature will be removed in v6.0.0. See https://github.com/optuna/optuna/releases/tag/v3.0.0. Use suggest_float(..., log=True) instead.\n",
      "  'reg_lambda': trial.suggest_loguniform('reg_lambda', 1e-5, 10.0),  # More range for L2 regularization\n",
      "[I 2024-03-29 17:47:08,653] Trial 61 finished with value: 0.8314882300797795 and parameters: {'learning_rate': 0.12785198144864127, 'n_estimators': 337, 'max_depth': 5, 'min_child_weight': 1, 'subsample': 0.7798558096948253, 'colsample_bytree': 0.7616469988258611, 'gamma': 1.6757350220220655, 'reg_alpha': 0.27696584137469116, 'reg_lambda': 0.08935836193884639}. Best is trial 44 with value: 0.8399586329163794.\n",
      "C:\\Users\\dlesha\\AppData\\Local\\Temp\\ipykernel_35692\\2903819095.py:15: FutureWarning: suggest_loguniform has been deprecated in v3.0.0. This feature will be removed in v6.0.0. See https://github.com/optuna/optuna/releases/tag/v3.0.0. Use suggest_float(..., log=True) instead.\n",
      "  'reg_alpha': trial.suggest_loguniform('reg_alpha', 1e-5, 10.0),  # More range for L1 regularization\n",
      "C:\\Users\\dlesha\\AppData\\Local\\Temp\\ipykernel_35692\\2903819095.py:16: FutureWarning: suggest_loguniform has been deprecated in v3.0.0. This feature will be removed in v6.0.0. See https://github.com/optuna/optuna/releases/tag/v3.0.0. Use suggest_float(..., log=True) instead.\n",
      "  'reg_lambda': trial.suggest_loguniform('reg_lambda', 1e-5, 10.0),  # More range for L2 regularization\n",
      "[I 2024-03-29 17:47:08,842] Trial 62 finished with value: 0.8315177779966513 and parameters: {'learning_rate': 0.1313840540824032, 'n_estimators': 375, 'max_depth': 5, 'min_child_weight': 2, 'subsample': 0.7274097367823139, 'colsample_bytree': 0.7981280765771424, 'gamma': 1.220946346881763, 'reg_alpha': 2.4255404409401686, 'reg_lambda': 0.02734715380870065}. Best is trial 44 with value: 0.8399586329163794.\n",
      "C:\\Users\\dlesha\\AppData\\Local\\Temp\\ipykernel_35692\\2903819095.py:15: FutureWarning: suggest_loguniform has been deprecated in v3.0.0. This feature will be removed in v6.0.0. See https://github.com/optuna/optuna/releases/tag/v3.0.0. Use suggest_float(..., log=True) instead.\n",
      "  'reg_alpha': trial.suggest_loguniform('reg_alpha', 1e-5, 10.0),  # More range for L1 regularization\n",
      "C:\\Users\\dlesha\\AppData\\Local\\Temp\\ipykernel_35692\\2903819095.py:16: FutureWarning: suggest_loguniform has been deprecated in v3.0.0. This feature will be removed in v6.0.0. See https://github.com/optuna/optuna/releases/tag/v3.0.0. Use suggest_float(..., log=True) instead.\n",
      "  'reg_lambda': trial.suggest_loguniform('reg_lambda', 1e-5, 10.0),  # More range for L2 regularization\n",
      "[I 2024-03-29 17:47:08,997] Trial 63 finished with value: 0.8385403329065302 and parameters: {'learning_rate': 0.14561721063433686, 'n_estimators': 259, 'max_depth': 6, 'min_child_weight': 1, 'subsample': 0.7658424112419853, 'colsample_bytree': 0.7246743210337022, 'gamma': 1.5388996516408149, 'reg_alpha': 1.429490447906163, 'reg_lambda': 0.17028782754090915}. Best is trial 44 with value: 0.8399586329163794.\n",
      "C:\\Users\\dlesha\\AppData\\Local\\Temp\\ipykernel_35692\\2903819095.py:15: FutureWarning: suggest_loguniform has been deprecated in v3.0.0. This feature will be removed in v6.0.0. See https://github.com/optuna/optuna/releases/tag/v3.0.0. Use suggest_float(..., log=True) instead.\n",
      "  'reg_alpha': trial.suggest_loguniform('reg_alpha', 1e-5, 10.0),  # More range for L1 regularization\n",
      "C:\\Users\\dlesha\\AppData\\Local\\Temp\\ipykernel_35692\\2903819095.py:16: FutureWarning: suggest_loguniform has been deprecated in v3.0.0. This feature will be removed in v6.0.0. See https://github.com/optuna/optuna/releases/tag/v3.0.0. Use suggest_float(..., log=True) instead.\n",
      "  'reg_lambda': trial.suggest_loguniform('reg_lambda', 1e-5, 10.0),  # More range for L2 regularization\n",
      "[I 2024-03-29 17:47:09,158] Trial 64 finished with value: 0.834295282182606 and parameters: {'learning_rate': 0.16485162868976466, 'n_estimators': 251, 'max_depth': 7, 'min_child_weight': 2, 'subsample': 0.8235744967431944, 'colsample_bytree': 0.7230178725252455, 'gamma': 1.4843881552666756, 'reg_alpha': 1.1858641005881665, 'reg_lambda': 0.00854636475333518}. Best is trial 44 with value: 0.8399586329163794.\n",
      "C:\\Users\\dlesha\\AppData\\Local\\Temp\\ipykernel_35692\\2903819095.py:15: FutureWarning: suggest_loguniform has been deprecated in v3.0.0. This feature will be removed in v6.0.0. See https://github.com/optuna/optuna/releases/tag/v3.0.0. Use suggest_float(..., log=True) instead.\n",
      "  'reg_alpha': trial.suggest_loguniform('reg_alpha', 1e-5, 10.0),  # More range for L1 regularization\n",
      "C:\\Users\\dlesha\\AppData\\Local\\Temp\\ipykernel_35692\\2903819095.py:16: FutureWarning: suggest_loguniform has been deprecated in v3.0.0. This feature will be removed in v6.0.0. See https://github.com/optuna/optuna/releases/tag/v3.0.0. Use suggest_float(..., log=True) instead.\n",
      "  'reg_lambda': trial.suggest_loguniform('reg_lambda', 1e-5, 10.0),  # More range for L2 regularization\n",
      "[I 2024-03-29 17:47:09,307] Trial 65 finished with value: 0.8216586230670739 and parameters: {'learning_rate': 0.14713289947698913, 'n_estimators': 231, 'max_depth': 7, 'min_child_weight': 1, 'subsample': 0.6898443083479557, 'colsample_bytree': 0.6825381668146063, 'gamma': 2.022857348426095, 'reg_alpha': 0.7283468277817224, 'reg_lambda': 0.04434368370659196}. Best is trial 44 with value: 0.8399586329163794.\n",
      "C:\\Users\\dlesha\\AppData\\Local\\Temp\\ipykernel_35692\\2903819095.py:15: FutureWarning: suggest_loguniform has been deprecated in v3.0.0. This feature will be removed in v6.0.0. See https://github.com/optuna/optuna/releases/tag/v3.0.0. Use suggest_float(..., log=True) instead.\n",
      "  'reg_alpha': trial.suggest_loguniform('reg_alpha', 1e-5, 10.0),  # More range for L1 regularization\n",
      "C:\\Users\\dlesha\\AppData\\Local\\Temp\\ipykernel_35692\\2903819095.py:16: FutureWarning: suggest_loguniform has been deprecated in v3.0.0. This feature will be removed in v6.0.0. See https://github.com/optuna/optuna/releases/tag/v3.0.0. Use suggest_float(..., log=True) instead.\n",
      "  'reg_lambda': trial.suggest_loguniform('reg_lambda', 1e-5, 10.0),  # More range for L2 regularization\n",
      "[I 2024-03-29 17:47:09,457] Trial 66 finished with value: 0.8286910272825766 and parameters: {'learning_rate': 0.12346825001105091, 'n_estimators': 262, 'max_depth': 6, 'min_child_weight': 2, 'subsample': 0.7120898921656749, 'colsample_bytree': 0.7046476634825124, 'gamma': 2.543250892230022, 'reg_alpha': 0.004222748819628097, 'reg_lambda': 0.13386452461726128}. Best is trial 44 with value: 0.8399586329163794.\n",
      "C:\\Users\\dlesha\\AppData\\Local\\Temp\\ipykernel_35692\\2903819095.py:15: FutureWarning: suggest_loguniform has been deprecated in v3.0.0. This feature will be removed in v6.0.0. See https://github.com/optuna/optuna/releases/tag/v3.0.0. Use suggest_float(..., log=True) instead.\n",
      "  'reg_alpha': trial.suggest_loguniform('reg_alpha', 1e-5, 10.0),  # More range for L1 regularization\n",
      "C:\\Users\\dlesha\\AppData\\Local\\Temp\\ipykernel_35692\\2903819095.py:16: FutureWarning: suggest_loguniform has been deprecated in v3.0.0. This feature will be removed in v6.0.0. See https://github.com/optuna/optuna/releases/tag/v3.0.0. Use suggest_float(..., log=True) instead.\n",
      "  'reg_lambda': trial.suggest_loguniform('reg_lambda', 1e-5, 10.0),  # More range for L2 regularization\n",
      "[I 2024-03-29 17:47:09,579] Trial 67 finished with value: 0.8272628779671033 and parameters: {'learning_rate': 0.13894344560761462, 'n_estimators': 288, 'max_depth': 4, 'min_child_weight': 3, 'subsample': 0.8079505416508399, 'colsample_bytree': 0.6569791938585398, 'gamma': 0.44129771298129433, 'reg_alpha': 4.845106531388866, 'reg_lambda': 0.01526750347735113}. Best is trial 44 with value: 0.8399586329163794.\n",
      "C:\\Users\\dlesha\\AppData\\Local\\Temp\\ipykernel_35692\\2903819095.py:15: FutureWarning: suggest_loguniform has been deprecated in v3.0.0. This feature will be removed in v6.0.0. See https://github.com/optuna/optuna/releases/tag/v3.0.0. Use suggest_float(..., log=True) instead.\n",
      "  'reg_alpha': trial.suggest_loguniform('reg_alpha', 1e-5, 10.0),  # More range for L1 regularization\n",
      "C:\\Users\\dlesha\\AppData\\Local\\Temp\\ipykernel_35692\\2903819095.py:16: FutureWarning: suggest_loguniform has been deprecated in v3.0.0. This feature will be removed in v6.0.0. See https://github.com/optuna/optuna/releases/tag/v3.0.0. Use suggest_float(..., log=True) instead.\n",
      "  'reg_lambda': trial.suggest_loguniform('reg_lambda', 1e-5, 10.0),  # More range for L2 regularization\n",
      "[I 2024-03-29 17:47:09,767] Trial 68 finished with value: 0.83006993006993 and parameters: {'learning_rate': 0.15794664091122104, 'n_estimators': 401, 'max_depth': 7, 'min_child_weight': 4, 'subsample': 0.8996222087555501, 'colsample_bytree': 0.697231746381066, 'gamma': 0.9270127374563366, 'reg_alpha': 0.0005924209821922507, 'reg_lambda': 2.943910572330855}. Best is trial 44 with value: 0.8399586329163794.\n",
      "C:\\Users\\dlesha\\AppData\\Local\\Temp\\ipykernel_35692\\2903819095.py:15: FutureWarning: suggest_loguniform has been deprecated in v3.0.0. This feature will be removed in v6.0.0. See https://github.com/optuna/optuna/releases/tag/v3.0.0. Use suggest_float(..., log=True) instead.\n",
      "  'reg_alpha': trial.suggest_loguniform('reg_alpha', 1e-5, 10.0),  # More range for L1 regularization\n",
      "C:\\Users\\dlesha\\AppData\\Local\\Temp\\ipykernel_35692\\2903819095.py:16: FutureWarning: suggest_loguniform has been deprecated in v3.0.0. This feature will be removed in v6.0.0. See https://github.com/optuna/optuna/releases/tag/v3.0.0. Use suggest_float(..., log=True) instead.\n",
      "  'reg_lambda': trial.suggest_loguniform('reg_lambda', 1e-5, 10.0),  # More range for L2 regularization\n",
      "[I 2024-03-29 17:47:09,906] Trial 69 finished with value: 0.8342952821826062 and parameters: {'learning_rate': 0.11342254089457467, 'n_estimators': 203, 'max_depth': 6, 'min_child_weight': 1, 'subsample': 0.7477899116892065, 'colsample_bytree': 0.7461457054177387, 'gamma': 2.8600427523627596, 'reg_alpha': 0.6348439988817923, 'reg_lambda': 0.0024951079293793685}. Best is trial 44 with value: 0.8399586329163794.\n",
      "C:\\Users\\dlesha\\AppData\\Local\\Temp\\ipykernel_35692\\2903819095.py:15: FutureWarning: suggest_loguniform has been deprecated in v3.0.0. This feature will be removed in v6.0.0. See https://github.com/optuna/optuna/releases/tag/v3.0.0. Use suggest_float(..., log=True) instead.\n",
      "  'reg_alpha': trial.suggest_loguniform('reg_alpha', 1e-5, 10.0),  # More range for L1 regularization\n",
      "C:\\Users\\dlesha\\AppData\\Local\\Temp\\ipykernel_35692\\2903819095.py:16: FutureWarning: suggest_loguniform has been deprecated in v3.0.0. This feature will be removed in v6.0.0. See https://github.com/optuna/optuna/releases/tag/v3.0.0. Use suggest_float(..., log=True) instead.\n",
      "  'reg_lambda': trial.suggest_loguniform('reg_lambda', 1e-5, 10.0),  # More range for L2 regularization\n",
      "[I 2024-03-29 17:47:10,163] Trial 70 finished with value: 0.825854427262878 and parameters: {'learning_rate': 0.11918870539960197, 'n_estimators': 536, 'max_depth': 7, 'min_child_weight': 2, 'subsample': 0.6679097222131792, 'colsample_bytree': 0.6395099398538467, 'gamma': 1.8358719583281966, 'reg_alpha': 0.0017308044305678204, 'reg_lambda': 2.3020741696351116e-05}. Best is trial 44 with value: 0.8399586329163794.\n",
      "C:\\Users\\dlesha\\AppData\\Local\\Temp\\ipykernel_35692\\2903819095.py:15: FutureWarning: suggest_loguniform has been deprecated in v3.0.0. This feature will be removed in v6.0.0. See https://github.com/optuna/optuna/releases/tag/v3.0.0. Use suggest_float(..., log=True) instead.\n",
      "  'reg_alpha': trial.suggest_loguniform('reg_alpha', 1e-5, 10.0),  # More range for L1 regularization\n",
      "C:\\Users\\dlesha\\AppData\\Local\\Temp\\ipykernel_35692\\2903819095.py:16: FutureWarning: suggest_loguniform has been deprecated in v3.0.0. This feature will be removed in v6.0.0. See https://github.com/optuna/optuna/releases/tag/v3.0.0. Use suggest_float(..., log=True) instead.\n",
      "  'reg_lambda': trial.suggest_loguniform('reg_lambda', 1e-5, 10.0),  # More range for L2 regularization\n",
      "[I 2024-03-29 17:47:10,359] Trial 71 finished with value: 0.8371417315079286 and parameters: {'learning_rate': 0.09481230503886216, 'n_estimators': 347, 'max_depth': 6, 'min_child_weight': 1, 'subsample': 0.7615912456581568, 'colsample_bytree': 0.7737142865976342, 'gamma': 1.6783705055027285, 'reg_alpha': 1.7067993400789594, 'reg_lambda': 0.1272305126383015}. Best is trial 44 with value: 0.8399586329163794.\n",
      "C:\\Users\\dlesha\\AppData\\Local\\Temp\\ipykernel_35692\\2903819095.py:15: FutureWarning: suggest_loguniform has been deprecated in v3.0.0. This feature will be removed in v6.0.0. See https://github.com/optuna/optuna/releases/tag/v3.0.0. Use suggest_float(..., log=True) instead.\n",
      "  'reg_alpha': trial.suggest_loguniform('reg_alpha', 1e-5, 10.0),  # More range for L1 regularization\n",
      "C:\\Users\\dlesha\\AppData\\Local\\Temp\\ipykernel_35692\\2903819095.py:16: FutureWarning: suggest_loguniform has been deprecated in v3.0.0. This feature will be removed in v6.0.0. See https://github.com/optuna/optuna/releases/tag/v3.0.0. Use suggest_float(..., log=True) instead.\n",
      "  'reg_lambda': trial.suggest_loguniform('reg_lambda', 1e-5, 10.0),  # More range for L2 regularization\n",
      "[I 2024-03-29 17:47:10,535] Trial 72 finished with value: 0.8230769230769232 and parameters: {'learning_rate': 0.09417217815549069, 'n_estimators': 347, 'max_depth': 6, 'min_child_weight': 1, 'subsample': 0.7615949407010844, 'colsample_bytree': 0.7778676454210949, 'gamma': 2.1279384356321724, 'reg_alpha': 3.193839213535358, 'reg_lambda': 0.33807256710150796}. Best is trial 44 with value: 0.8399586329163794.\n",
      "C:\\Users\\dlesha\\AppData\\Local\\Temp\\ipykernel_35692\\2903819095.py:15: FutureWarning: suggest_loguniform has been deprecated in v3.0.0. This feature will be removed in v6.0.0. See https://github.com/optuna/optuna/releases/tag/v3.0.0. Use suggest_float(..., log=True) instead.\n",
      "  'reg_alpha': trial.suggest_loguniform('reg_alpha', 1e-5, 10.0),  # More range for L1 regularization\n",
      "C:\\Users\\dlesha\\AppData\\Local\\Temp\\ipykernel_35692\\2903819095.py:16: FutureWarning: suggest_loguniform has been deprecated in v3.0.0. This feature will be removed in v6.0.0. See https://github.com/optuna/optuna/releases/tag/v3.0.0. Use suggest_float(..., log=True) instead.\n",
      "  'reg_lambda': trial.suggest_loguniform('reg_lambda', 1e-5, 10.0),  # More range for L2 regularization\n",
      "[I 2024-03-29 17:47:10,706] Trial 73 finished with value: 0.8329262287008767 and parameters: {'learning_rate': 0.10178952747568246, 'n_estimators': 301, 'max_depth': 6, 'min_child_weight': 2, 'subsample': 0.7215426978553063, 'colsample_bytree': 0.7259112194098498, 'gamma': 2.3399985145518682, 'reg_alpha': 1.3617051204832804, 'reg_lambda': 0.1033574114640634}. Best is trial 44 with value: 0.8399586329163794.\n",
      "C:\\Users\\dlesha\\AppData\\Local\\Temp\\ipykernel_35692\\2903819095.py:15: FutureWarning: suggest_loguniform has been deprecated in v3.0.0. This feature will be removed in v6.0.0. See https://github.com/optuna/optuna/releases/tag/v3.0.0. Use suggest_float(..., log=True) instead.\n",
      "  'reg_alpha': trial.suggest_loguniform('reg_alpha', 1e-5, 10.0),  # More range for L1 regularization\n",
      "C:\\Users\\dlesha\\AppData\\Local\\Temp\\ipykernel_35692\\2903819095.py:16: FutureWarning: suggest_loguniform has been deprecated in v3.0.0. This feature will be removed in v6.0.0. See https://github.com/optuna/optuna/releases/tag/v3.0.0. Use suggest_float(..., log=True) instead.\n",
      "  'reg_lambda': trial.suggest_loguniform('reg_lambda', 1e-5, 10.0),  # More range for L2 regularization\n",
      "[I 2024-03-29 17:47:10,802] Trial 74 finished with value: 0.8272727272727274 and parameters: {'learning_rate': 0.11064890057623988, 'n_estimators': 136, 'max_depth': 5, 'min_child_weight': 1, 'subsample': 0.7397650663559728, 'colsample_bytree': 0.769707461394696, 'gamma': 4.055444457312262, 'reg_alpha': 0.19816454570833786, 'reg_lambda': 0.046805627462209835}. Best is trial 44 with value: 0.8399586329163794.\n",
      "C:\\Users\\dlesha\\AppData\\Local\\Temp\\ipykernel_35692\\2903819095.py:15: FutureWarning: suggest_loguniform has been deprecated in v3.0.0. This feature will be removed in v6.0.0. See https://github.com/optuna/optuna/releases/tag/v3.0.0. Use suggest_float(..., log=True) instead.\n",
      "  'reg_alpha': trial.suggest_loguniform('reg_alpha', 1e-5, 10.0),  # More range for L1 regularization\n",
      "C:\\Users\\dlesha\\AppData\\Local\\Temp\\ipykernel_35692\\2903819095.py:16: FutureWarning: suggest_loguniform has been deprecated in v3.0.0. This feature will be removed in v6.0.0. See https://github.com/optuna/optuna/releases/tag/v3.0.0. Use suggest_float(..., log=True) instead.\n",
      "  'reg_lambda': trial.suggest_loguniform('reg_lambda', 1e-5, 10.0),  # More range for L2 regularization\n",
      "[I 2024-03-29 17:47:11,039] Trial 75 finished with value: 0.8343149807938539 and parameters: {'learning_rate': 0.08329569931323458, 'n_estimators': 420, 'max_depth': 6, 'min_child_weight': 1, 'subsample': 0.7865797357993322, 'colsample_bytree': 0.8366470804159593, 'gamma': 1.560870388311389, 'reg_alpha': 0.42970388789489217, 'reg_lambda': 0.02144606732981063}. Best is trial 44 with value: 0.8399586329163794.\n",
      "C:\\Users\\dlesha\\AppData\\Local\\Temp\\ipykernel_35692\\2903819095.py:15: FutureWarning: suggest_loguniform has been deprecated in v3.0.0. This feature will be removed in v6.0.0. See https://github.com/optuna/optuna/releases/tag/v3.0.0. Use suggest_float(..., log=True) instead.\n",
      "  'reg_alpha': trial.suggest_loguniform('reg_alpha', 1e-5, 10.0),  # More range for L1 regularization\n",
      "C:\\Users\\dlesha\\AppData\\Local\\Temp\\ipykernel_35692\\2903819095.py:16: FutureWarning: suggest_loguniform has been deprecated in v3.0.0. This feature will be removed in v6.0.0. See https://github.com/optuna/optuna/releases/tag/v3.0.0. Use suggest_float(..., log=True) instead.\n",
      "  'reg_lambda': trial.suggest_loguniform('reg_lambda', 1e-5, 10.0),  # More range for L2 regularization\n",
      "[I 2024-03-29 17:47:11,158] Trial 76 finished with value: 0.7963459076135133 and parameters: {'learning_rate': 0.14696325832722665, 'n_estimators': 262, 'max_depth': 7, 'min_child_weight': 2, 'subsample': 0.5203164116470929, 'colsample_bytree': 0.7597680395794738, 'gamma': 1.7504906848475448, 'reg_alpha': 6.905576077711271, 'reg_lambda': 0.6625672702324688}. Best is trial 44 with value: 0.8399586329163794.\n",
      "C:\\Users\\dlesha\\AppData\\Local\\Temp\\ipykernel_35692\\2903819095.py:15: FutureWarning: suggest_loguniform has been deprecated in v3.0.0. This feature will be removed in v6.0.0. See https://github.com/optuna/optuna/releases/tag/v3.0.0. Use suggest_float(..., log=True) instead.\n",
      "  'reg_alpha': trial.suggest_loguniform('reg_alpha', 1e-5, 10.0),  # More range for L1 regularization\n",
      "C:\\Users\\dlesha\\AppData\\Local\\Temp\\ipykernel_35692\\2903819095.py:16: FutureWarning: suggest_loguniform has been deprecated in v3.0.0. This feature will be removed in v6.0.0. See https://github.com/optuna/optuna/releases/tag/v3.0.0. Use suggest_float(..., log=True) instead.\n",
      "  'reg_lambda': trial.suggest_loguniform('reg_lambda', 1e-5, 10.0),  # More range for L2 regularization\n",
      "[I 2024-03-29 17:47:11,328] Trial 77 finished with value: 0.8216487737614498 and parameters: {'learning_rate': 0.07849521733788363, 'n_estimators': 278, 'max_depth': 6, 'min_child_weight': 2, 'subsample': 0.7057348043691143, 'colsample_bytree': 0.8836663062712884, 'gamma': 2.003102289116951, 'reg_alpha': 2.5503976798454997, 'reg_lambda': 1.2538286200439621}. Best is trial 44 with value: 0.8399586329163794.\n",
      "C:\\Users\\dlesha\\AppData\\Local\\Temp\\ipykernel_35692\\2903819095.py:15: FutureWarning: suggest_loguniform has been deprecated in v3.0.0. This feature will be removed in v6.0.0. See https://github.com/optuna/optuna/releases/tag/v3.0.0. Use suggest_float(..., log=True) instead.\n",
      "  'reg_alpha': trial.suggest_loguniform('reg_alpha', 1e-5, 10.0),  # More range for L1 regularization\n",
      "C:\\Users\\dlesha\\AppData\\Local\\Temp\\ipykernel_35692\\2903819095.py:16: FutureWarning: suggest_loguniform has been deprecated in v3.0.0. This feature will be removed in v6.0.0. See https://github.com/optuna/optuna/releases/tag/v3.0.0. Use suggest_float(..., log=True) instead.\n",
      "  'reg_lambda': trial.suggest_loguniform('reg_lambda', 1e-5, 10.0),  # More range for L2 regularization\n",
      "[I 2024-03-29 17:47:11,489] Trial 78 finished with value: 0.8258642765685019 and parameters: {'learning_rate': 0.10375766574748456, 'n_estimators': 366, 'max_depth': 4, 'min_child_weight': 7, 'subsample': 0.7347678636108753, 'colsample_bytree': 0.7341649074494129, 'gamma': 1.2014488252174735, 'reg_alpha': 1.0809539724940942, 'reg_lambda': 0.006092384757659705}. Best is trial 44 with value: 0.8399586329163794.\n",
      "C:\\Users\\dlesha\\AppData\\Local\\Temp\\ipykernel_35692\\2903819095.py:15: FutureWarning: suggest_loguniform has been deprecated in v3.0.0. This feature will be removed in v6.0.0. See https://github.com/optuna/optuna/releases/tag/v3.0.0. Use suggest_float(..., log=True) instead.\n",
      "  'reg_alpha': trial.suggest_loguniform('reg_alpha', 1e-5, 10.0),  # More range for L1 regularization\n",
      "C:\\Users\\dlesha\\AppData\\Local\\Temp\\ipykernel_35692\\2903819095.py:16: FutureWarning: suggest_loguniform has been deprecated in v3.0.0. This feature will be removed in v6.0.0. See https://github.com/optuna/optuna/releases/tag/v3.0.0. Use suggest_float(..., log=True) instead.\n",
      "  'reg_lambda': trial.suggest_loguniform('reg_lambda', 1e-5, 10.0),  # More range for L2 regularization\n",
      "[I 2024-03-29 17:47:11,620] Trial 79 finished with value: 0.8356938835812077 and parameters: {'learning_rate': 0.19172280107868933, 'n_estimators': 222, 'max_depth': 7, 'min_child_weight': 3, 'subsample': 0.7698893190084535, 'colsample_bytree': 0.8150325491684959, 'gamma': 0.7383766505896319, 'reg_alpha': 1.6621158934875973, 'reg_lambda': 0.21427413560167907}. Best is trial 44 with value: 0.8399586329163794.\n",
      "C:\\Users\\dlesha\\AppData\\Local\\Temp\\ipykernel_35692\\2903819095.py:15: FutureWarning: suggest_loguniform has been deprecated in v3.0.0. This feature will be removed in v6.0.0. See https://github.com/optuna/optuna/releases/tag/v3.0.0. Use suggest_float(..., log=True) instead.\n",
      "  'reg_alpha': trial.suggest_loguniform('reg_alpha', 1e-5, 10.0),  # More range for L1 regularization\n",
      "C:\\Users\\dlesha\\AppData\\Local\\Temp\\ipykernel_35692\\2903819095.py:16: FutureWarning: suggest_loguniform has been deprecated in v3.0.0. This feature will be removed in v6.0.0. See https://github.com/optuna/optuna/releases/tag/v3.0.0. Use suggest_float(..., log=True) instead.\n",
      "  'reg_lambda': trial.suggest_loguniform('reg_lambda', 1e-5, 10.0),  # More range for L2 regularization\n",
      "[I 2024-03-29 17:47:11,749] Trial 80 finished with value: 0.8258839751797499 and parameters: {'learning_rate': 0.19254530676210507, 'n_estimators': 251, 'max_depth': 7, 'min_child_weight': 3, 'subsample': 0.7714360038751744, 'colsample_bytree': 0.8131375658977593, 'gamma': 0.7336198034746904, 'reg_alpha': 4.0290992506738945, 'reg_lambda': 0.13457866527200912}. Best is trial 44 with value: 0.8399586329163794.\n",
      "C:\\Users\\dlesha\\AppData\\Local\\Temp\\ipykernel_35692\\2903819095.py:15: FutureWarning: suggest_loguniform has been deprecated in v3.0.0. This feature will be removed in v6.0.0. See https://github.com/optuna/optuna/releases/tag/v3.0.0. Use suggest_float(..., log=True) instead.\n",
      "  'reg_alpha': trial.suggest_loguniform('reg_alpha', 1e-5, 10.0),  # More range for L1 regularization\n",
      "C:\\Users\\dlesha\\AppData\\Local\\Temp\\ipykernel_35692\\2903819095.py:16: FutureWarning: suggest_loguniform has been deprecated in v3.0.0. This feature will be removed in v6.0.0. See https://github.com/optuna/optuna/releases/tag/v3.0.0. Use suggest_float(..., log=True) instead.\n",
      "  'reg_lambda': trial.suggest_loguniform('reg_lambda', 1e-5, 10.0),  # More range for L2 regularization\n",
      "[I 2024-03-29 17:47:11,881] Trial 81 finished with value: 0.8329262287008767 and parameters: {'learning_rate': 0.17745688590112746, 'n_estimators': 227, 'max_depth': 7, 'min_child_weight': 3, 'subsample': 0.7603919231958558, 'colsample_bytree': 0.842197748594966, 'gamma': 1.3669887561196017, 'reg_alpha': 1.9682157762778838, 'reg_lambda': 0.26879428207069944}. Best is trial 44 with value: 0.8399586329163794.\n",
      "C:\\Users\\dlesha\\AppData\\Local\\Temp\\ipykernel_35692\\2903819095.py:15: FutureWarning: suggest_loguniform has been deprecated in v3.0.0. This feature will be removed in v6.0.0. See https://github.com/optuna/optuna/releases/tag/v3.0.0. Use suggest_float(..., log=True) instead.\n",
      "  'reg_alpha': trial.suggest_loguniform('reg_alpha', 1e-5, 10.0),  # More range for L1 regularization\n",
      "C:\\Users\\dlesha\\AppData\\Local\\Temp\\ipykernel_35692\\2903819095.py:16: FutureWarning: suggest_loguniform has been deprecated in v3.0.0. This feature will be removed in v6.0.0. See https://github.com/optuna/optuna/releases/tag/v3.0.0. Use suggest_float(..., log=True) instead.\n",
      "  'reg_lambda': trial.suggest_loguniform('reg_lambda', 1e-5, 10.0),  # More range for L2 regularization\n",
      "[I 2024-03-29 17:47:12,036] Trial 82 finished with value: 0.8146262188515709 and parameters: {'learning_rate': 0.19762430330149, 'n_estimators': 206, 'max_depth': 7, 'min_child_weight': 1, 'subsample': 0.8453475464343255, 'colsample_bytree': 0.8583185367886303, 'gamma': 0.45538255434861435, 'reg_alpha': 0.2969820057623787, 'reg_lambda': 0.16900063569884954}. Best is trial 44 with value: 0.8399586329163794.\n",
      "C:\\Users\\dlesha\\AppData\\Local\\Temp\\ipykernel_35692\\2903819095.py:15: FutureWarning: suggest_loguniform has been deprecated in v3.0.0. This feature will be removed in v6.0.0. See https://github.com/optuna/optuna/releases/tag/v3.0.0. Use suggest_float(..., log=True) instead.\n",
      "  'reg_alpha': trial.suggest_loguniform('reg_alpha', 1e-5, 10.0),  # More range for L1 regularization\n",
      "C:\\Users\\dlesha\\AppData\\Local\\Temp\\ipykernel_35692\\2903819095.py:16: FutureWarning: suggest_loguniform has been deprecated in v3.0.0. This feature will be removed in v6.0.0. See https://github.com/optuna/optuna/releases/tag/v3.0.0. Use suggest_float(..., log=True) instead.\n",
      "  'reg_lambda': trial.suggest_loguniform('reg_lambda', 1e-5, 10.0),  # More range for L2 regularization\n",
      "[I 2024-03-29 17:47:12,123] Trial 83 finished with value: 0.8258741258741258 and parameters: {'learning_rate': 0.1897418717366812, 'n_estimators': 179, 'max_depth': 7, 'min_child_weight': 2, 'subsample': 0.7477601758296687, 'colsample_bytree': 0.7877561088797826, 'gamma': 0.3325254399742689, 'reg_alpha': 9.112603555853383, 'reg_lambda': 0.06319704148650841}. Best is trial 44 with value: 0.8399586329163794.\n",
      "C:\\Users\\dlesha\\AppData\\Local\\Temp\\ipykernel_35692\\2903819095.py:15: FutureWarning: suggest_loguniform has been deprecated in v3.0.0. This feature will be removed in v6.0.0. See https://github.com/optuna/optuna/releases/tag/v3.0.0. Use suggest_float(..., log=True) instead.\n",
      "  'reg_alpha': trial.suggest_loguniform('reg_alpha', 1e-5, 10.0),  # More range for L1 regularization\n",
      "C:\\Users\\dlesha\\AppData\\Local\\Temp\\ipykernel_35692\\2903819095.py:16: FutureWarning: suggest_loguniform has been deprecated in v3.0.0. This feature will be removed in v6.0.0. See https://github.com/optuna/optuna/releases/tag/v3.0.0. Use suggest_float(..., log=True) instead.\n",
      "  'reg_lambda': trial.suggest_loguniform('reg_lambda', 1e-5, 10.0),  # More range for L2 regularization\n",
      "[I 2024-03-29 17:47:12,356] Trial 84 finished with value: 0.8315177779966513 and parameters: {'learning_rate': 0.1801652205668616, 'n_estimators': 480, 'max_depth': 7, 'min_child_weight': 3, 'subsample': 0.8211825554174571, 'colsample_bytree': 0.7582766420938473, 'gamma': 1.0238112806890283, 'reg_alpha': 1.4461148601653653, 'reg_lambda': 0.032769843142462236}. Best is trial 44 with value: 0.8399586329163794.\n",
      "C:\\Users\\dlesha\\AppData\\Local\\Temp\\ipykernel_35692\\2903819095.py:15: FutureWarning: suggest_loguniform has been deprecated in v3.0.0. This feature will be removed in v6.0.0. See https://github.com/optuna/optuna/releases/tag/v3.0.0. Use suggest_float(..., log=True) instead.\n",
      "  'reg_alpha': trial.suggest_loguniform('reg_alpha', 1e-5, 10.0),  # More range for L1 regularization\n",
      "C:\\Users\\dlesha\\AppData\\Local\\Temp\\ipykernel_35692\\2903819095.py:16: FutureWarning: suggest_loguniform has been deprecated in v3.0.0. This feature will be removed in v6.0.0. See https://github.com/optuna/optuna/releases/tag/v3.0.0. Use suggest_float(..., log=True) instead.\n",
      "  'reg_lambda': trial.suggest_loguniform('reg_lambda', 1e-5, 10.0),  # More range for L2 regularization\n",
      "[I 2024-03-29 17:47:12,492] Trial 85 finished with value: 0.830089628681178 and parameters: {'learning_rate': 0.1692319563321595, 'n_estimators': 216, 'max_depth': 6, 'min_child_weight': 2, 'subsample': 0.7982021955970017, 'colsample_bytree': 0.8189054870101881, 'gamma': 2.1604428904911175, 'reg_alpha': 0.007762480433493576, 'reg_lambda': 0.010165727185144623}. Best is trial 44 with value: 0.8399586329163794.\n",
      "C:\\Users\\dlesha\\AppData\\Local\\Temp\\ipykernel_35692\\2903819095.py:15: FutureWarning: suggest_loguniform has been deprecated in v3.0.0. This feature will be removed in v6.0.0. See https://github.com/optuna/optuna/releases/tag/v3.0.0. Use suggest_float(..., log=True) instead.\n",
      "  'reg_alpha': trial.suggest_loguniform('reg_alpha', 1e-5, 10.0),  # More range for L1 regularization\n",
      "C:\\Users\\dlesha\\AppData\\Local\\Temp\\ipykernel_35692\\2903819095.py:16: FutureWarning: suggest_loguniform has been deprecated in v3.0.0. This feature will be removed in v6.0.0. See https://github.com/optuna/optuna/releases/tag/v3.0.0. Use suggest_float(..., log=True) instead.\n",
      "  'reg_lambda': trial.suggest_loguniform('reg_lambda', 1e-5, 10.0),  # More range for L2 regularization\n",
      "[I 2024-03-29 17:47:12,580] Trial 86 finished with value: 0.8244558258642766 and parameters: {'learning_rate': 0.13461316516330876, 'n_estimators': 167, 'max_depth': 3, 'min_child_weight': 4, 'subsample': 0.857829969831519, 'colsample_bytree': 0.8036813859091235, 'gamma': 0.6951185610827797, 'reg_alpha': 0.3941576586291948, 'reg_lambda': 0.4846237252341313}. Best is trial 44 with value: 0.8399586329163794.\n",
      "C:\\Users\\dlesha\\AppData\\Local\\Temp\\ipykernel_35692\\2903819095.py:15: FutureWarning: suggest_loguniform has been deprecated in v3.0.0. This feature will be removed in v6.0.0. See https://github.com/optuna/optuna/releases/tag/v3.0.0. Use suggest_float(..., log=True) instead.\n",
      "  'reg_alpha': trial.suggest_loguniform('reg_alpha', 1e-5, 10.0),  # More range for L1 regularization\n",
      "C:\\Users\\dlesha\\AppData\\Local\\Temp\\ipykernel_35692\\2903819095.py:16: FutureWarning: suggest_loguniform has been deprecated in v3.0.0. This feature will be removed in v6.0.0. See https://github.com/optuna/optuna/releases/tag/v3.0.0. Use suggest_float(..., log=True) instead.\n",
      "  'reg_lambda': trial.suggest_loguniform('reg_lambda', 1e-5, 10.0),  # More range for L2 regularization\n",
      "[I 2024-03-29 17:47:12,759] Trial 87 finished with value: 0.8258642765685018 and parameters: {'learning_rate': 0.12624382479473867, 'n_estimators': 301, 'max_depth': 7, 'min_child_weight': 3, 'subsample': 0.6929859190691444, 'colsample_bytree': 0.7777731629774979, 'gamma': 1.579301289210738, 'reg_alpha': 0.6339915242620542, 'reg_lambda': 0.0911780016869876}. Best is trial 44 with value: 0.8399586329163794.\n",
      "C:\\Users\\dlesha\\AppData\\Local\\Temp\\ipykernel_35692\\2903819095.py:15: FutureWarning: suggest_loguniform has been deprecated in v3.0.0. This feature will be removed in v6.0.0. See https://github.com/optuna/optuna/releases/tag/v3.0.0. Use suggest_float(..., log=True) instead.\n",
      "  'reg_alpha': trial.suggest_loguniform('reg_alpha', 1e-5, 10.0),  # More range for L1 regularization\n",
      "C:\\Users\\dlesha\\AppData\\Local\\Temp\\ipykernel_35692\\2903819095.py:16: FutureWarning: suggest_loguniform has been deprecated in v3.0.0. This feature will be removed in v6.0.0. See https://github.com/optuna/optuna/releases/tag/v3.0.0. Use suggest_float(..., log=True) instead.\n",
      "  'reg_lambda': trial.suggest_loguniform('reg_lambda', 1e-5, 10.0),  # More range for L2 regularization\n",
      "[I 2024-03-29 17:47:12,983] Trial 88 finished with value: 0.83430513148823 and parameters: {'learning_rate': 0.11679983493727798, 'n_estimators': 514, 'max_depth': 7, 'min_child_weight': 1, 'subsample': 0.8313996505258741, 'colsample_bytree': 0.7165509067719655, 'gamma': 0.016977786433708397, 'reg_alpha': 2.8549709493934095, 'reg_lambda': 0.0006190424268346206}. Best is trial 44 with value: 0.8399586329163794.\n",
      "C:\\Users\\dlesha\\AppData\\Local\\Temp\\ipykernel_35692\\2903819095.py:15: FutureWarning: suggest_loguniform has been deprecated in v3.0.0. This feature will be removed in v6.0.0. See https://github.com/optuna/optuna/releases/tag/v3.0.0. Use suggest_float(..., log=True) instead.\n",
      "  'reg_alpha': trial.suggest_loguniform('reg_alpha', 1e-5, 10.0),  # More range for L1 regularization\n",
      "C:\\Users\\dlesha\\AppData\\Local\\Temp\\ipykernel_35692\\2903819095.py:16: FutureWarning: suggest_loguniform has been deprecated in v3.0.0. This feature will be removed in v6.0.0. See https://github.com/optuna/optuna/releases/tag/v3.0.0. Use suggest_float(..., log=True) instead.\n",
      "  'reg_lambda': trial.suggest_loguniform('reg_lambda', 1e-5, 10.0),  # More range for L2 regularization\n",
      "[I 2024-03-29 17:47:13,227] Trial 89 finished with value: 0.8244755244755245 and parameters: {'learning_rate': 0.1541340055854363, 'n_estimators': 574, 'max_depth': 6, 'min_child_weight': 2, 'subsample': 0.7837110199937534, 'colsample_bytree': 0.6859423942516006, 'gamma': 1.9328625468529514, 'reg_alpha': 1.0289258921172209, 'reg_lambda': 5.454995341117961}. Best is trial 44 with value: 0.8399586329163794.\n",
      "C:\\Users\\dlesha\\AppData\\Local\\Temp\\ipykernel_35692\\2903819095.py:15: FutureWarning: suggest_loguniform has been deprecated in v3.0.0. This feature will be removed in v6.0.0. See https://github.com/optuna/optuna/releases/tag/v3.0.0. Use suggest_float(..., log=True) instead.\n",
      "  'reg_alpha': trial.suggest_loguniform('reg_alpha', 1e-5, 10.0),  # More range for L1 regularization\n",
      "C:\\Users\\dlesha\\AppData\\Local\\Temp\\ipykernel_35692\\2903819095.py:16: FutureWarning: suggest_loguniform has been deprecated in v3.0.0. This feature will be removed in v6.0.0. See https://github.com/optuna/optuna/releases/tag/v3.0.0. Use suggest_float(..., log=True) instead.\n",
      "  'reg_lambda': trial.suggest_loguniform('reg_lambda', 1e-5, 10.0),  # More range for L2 regularization\n",
      "[I 2024-03-29 17:47:13,358] Trial 90 finished with value: 0.8314685314685313 and parameters: {'learning_rate': 0.16125682812077774, 'n_estimators': 192, 'max_depth': 7, 'min_child_weight': 2, 'subsample': 0.6516275421103089, 'colsample_bytree': 0.7016466409099434, 'gamma': 2.461517447919709, 'reg_alpha': 0.103283915008504, 'reg_lambda': 0.26649310823310673}. Best is trial 44 with value: 0.8399586329163794.\n",
      "C:\\Users\\dlesha\\AppData\\Local\\Temp\\ipykernel_35692\\2903819095.py:15: FutureWarning: suggest_loguniform has been deprecated in v3.0.0. This feature will be removed in v6.0.0. See https://github.com/optuna/optuna/releases/tag/v3.0.0. Use suggest_float(..., log=True) instead.\n",
      "  'reg_alpha': trial.suggest_loguniform('reg_alpha', 1e-5, 10.0),  # More range for L1 regularization\n",
      "C:\\Users\\dlesha\\AppData\\Local\\Temp\\ipykernel_35692\\2903819095.py:16: FutureWarning: suggest_loguniform has been deprecated in v3.0.0. This feature will be removed in v6.0.0. See https://github.com/optuna/optuna/releases/tag/v3.0.0. Use suggest_float(..., log=True) instead.\n",
      "  'reg_lambda': trial.suggest_loguniform('reg_lambda', 1e-5, 10.0),  # More range for L2 regularization\n",
      "[I 2024-03-29 17:47:13,550] Trial 91 finished with value: 0.8329163793952526 and parameters: {'learning_rate': 0.14083528488165276, 'n_estimators': 344, 'max_depth': 6, 'min_child_weight': 1, 'subsample': 0.7721296952423126, 'colsample_bytree': 0.78789428346948, 'gamma': 1.8331774049470622, 'reg_alpha': 1.7374813775532618, 'reg_lambda': 7.29525505148201e-05}. Best is trial 44 with value: 0.8399586329163794.\n",
      "C:\\Users\\dlesha\\AppData\\Local\\Temp\\ipykernel_35692\\2903819095.py:15: FutureWarning: suggest_loguniform has been deprecated in v3.0.0. This feature will be removed in v6.0.0. See https://github.com/optuna/optuna/releases/tag/v3.0.0. Use suggest_float(..., log=True) instead.\n",
      "  'reg_alpha': trial.suggest_loguniform('reg_alpha', 1e-5, 10.0),  # More range for L1 regularization\n",
      "C:\\Users\\dlesha\\AppData\\Local\\Temp\\ipykernel_35692\\2903819095.py:16: FutureWarning: suggest_loguniform has been deprecated in v3.0.0. This feature will be removed in v6.0.0. See https://github.com/optuna/optuna/releases/tag/v3.0.0. Use suggest_float(..., log=True) instead.\n",
      "  'reg_lambda': trial.suggest_loguniform('reg_lambda', 1e-5, 10.0),  # More range for L2 regularization\n",
      "[I 2024-03-29 17:47:13,720] Trial 92 finished with value: 0.8272924258839751 and parameters: {'learning_rate': 0.13168111164436153, 'n_estimators': 274, 'max_depth': 6, 'min_child_weight': 1, 'subsample': 0.7679680929090777, 'colsample_bytree': 0.8003638448573418, 'gamma': 1.6668745225802395, 'reg_alpha': 1.924023032215283, 'reg_lambda': 0.1436845852431804}. Best is trial 44 with value: 0.8399586329163794.\n",
      "C:\\Users\\dlesha\\AppData\\Local\\Temp\\ipykernel_35692\\2903819095.py:15: FutureWarning: suggest_loguniform has been deprecated in v3.0.0. This feature will be removed in v6.0.0. See https://github.com/optuna/optuna/releases/tag/v3.0.0. Use suggest_float(..., log=True) instead.\n",
      "  'reg_alpha': trial.suggest_loguniform('reg_alpha', 1e-5, 10.0),  # More range for L1 regularization\n",
      "C:\\Users\\dlesha\\AppData\\Local\\Temp\\ipykernel_35692\\2903819095.py:16: FutureWarning: suggest_loguniform has been deprecated in v3.0.0. This feature will be removed in v6.0.0. See https://github.com/optuna/optuna/releases/tag/v3.0.0. Use suggest_float(..., log=True) instead.\n",
      "  'reg_lambda': trial.suggest_loguniform('reg_lambda', 1e-5, 10.0),  # More range for L2 regularization\n",
      "[I 2024-03-29 17:47:13,921] Trial 93 finished with value: 0.8314882300797795 and parameters: {'learning_rate': 0.12073642992849853, 'n_estimators': 323, 'max_depth': 5, 'min_child_weight': 2, 'subsample': 0.7170106285463295, 'colsample_bytree': 0.771021094820977, 'gamma': 1.4728232724607404, 'reg_alpha': 0.953565440782138, 'reg_lambda': 0.04920432462931332}. Best is trial 44 with value: 0.8399586329163794.\n",
      "C:\\Users\\dlesha\\AppData\\Local\\Temp\\ipykernel_35692\\2903819095.py:15: FutureWarning: suggest_loguniform has been deprecated in v3.0.0. This feature will be removed in v6.0.0. See https://github.com/optuna/optuna/releases/tag/v3.0.0. Use suggest_float(..., log=True) instead.\n",
      "  'reg_alpha': trial.suggest_loguniform('reg_alpha', 1e-5, 10.0),  # More range for L1 regularization\n",
      "C:\\Users\\dlesha\\AppData\\Local\\Temp\\ipykernel_35692\\2903819095.py:16: FutureWarning: suggest_loguniform has been deprecated in v3.0.0. This feature will be removed in v6.0.0. See https://github.com/optuna/optuna/releases/tag/v3.0.0. Use suggest_float(..., log=True) instead.\n",
      "  'reg_lambda': trial.suggest_loguniform('reg_lambda', 1e-5, 10.0),  # More range for L2 regularization\n",
      "[I 2024-03-29 17:47:14,116] Trial 94 finished with value: 0.8216783216783217 and parameters: {'learning_rate': 0.12795268591279482, 'n_estimators': 331, 'max_depth': 6, 'min_child_weight': 1, 'subsample': 0.7552580879973451, 'colsample_bytree': 0.7938352767523424, 'gamma': 1.2766452153003827, 'reg_alpha': 3.7234938908592636, 'reg_lambda': 0.028108169340262737}. Best is trial 44 with value: 0.8399586329163794.\n",
      "C:\\Users\\dlesha\\AppData\\Local\\Temp\\ipykernel_35692\\2903819095.py:15: FutureWarning: suggest_loguniform has been deprecated in v3.0.0. This feature will be removed in v6.0.0. See https://github.com/optuna/optuna/releases/tag/v3.0.0. Use suggest_float(..., log=True) instead.\n",
      "  'reg_alpha': trial.suggest_loguniform('reg_alpha', 1e-5, 10.0),  # More range for L1 regularization\n",
      "C:\\Users\\dlesha\\AppData\\Local\\Temp\\ipykernel_35692\\2903819095.py:16: FutureWarning: suggest_loguniform has been deprecated in v3.0.0. This feature will be removed in v6.0.0. See https://github.com/optuna/optuna/releases/tag/v3.0.0. Use suggest_float(..., log=True) instead.\n",
      "  'reg_lambda': trial.suggest_loguniform('reg_lambda', 1e-5, 10.0),  # More range for L2 regularization\n",
      "[I 2024-03-29 17:47:14,288] Trial 95 finished with value: 0.8047670639219934 and parameters: {'learning_rate': 0.10786975145197972, 'n_estimators': 360, 'max_depth': 7, 'min_child_weight': 2, 'subsample': 0.6761989307974529, 'colsample_bytree': 0.7432425071406699, 'gamma': 3.730696842732409, 'reg_alpha': 5.820370562690537, 'reg_lambda': 0.10322160977143438}. Best is trial 44 with value: 0.8399586329163794.\n",
      "C:\\Users\\dlesha\\AppData\\Local\\Temp\\ipykernel_35692\\2903819095.py:15: FutureWarning: suggest_loguniform has been deprecated in v3.0.0. This feature will be removed in v6.0.0. See https://github.com/optuna/optuna/releases/tag/v3.0.0. Use suggest_float(..., log=True) instead.\n",
      "  'reg_alpha': trial.suggest_loguniform('reg_alpha', 1e-5, 10.0),  # More range for L1 regularization\n",
      "C:\\Users\\dlesha\\AppData\\Local\\Temp\\ipykernel_35692\\2903819095.py:16: FutureWarning: suggest_loguniform has been deprecated in v3.0.0. This feature will be removed in v6.0.0. See https://github.com/optuna/optuna/releases/tag/v3.0.0. Use suggest_float(..., log=True) instead.\n",
      "  'reg_lambda': trial.suggest_loguniform('reg_lambda', 1e-5, 10.0),  # More range for L2 regularization\n",
      "[I 2024-03-29 17:47:14,429] Trial 96 finished with value: 0.8315276273022751 and parameters: {'learning_rate': 0.09666294082038485, 'n_estimators': 244, 'max_depth': 5, 'min_child_weight': 1, 'subsample': 0.8076375201461771, 'colsample_bytree': 0.8182847979588753, 'gamma': 0.5983025358445937, 'reg_alpha': 2.3176493643824037, 'reg_lambda': 0.20553747082460397}. Best is trial 44 with value: 0.8399586329163794.\n",
      "C:\\Users\\dlesha\\AppData\\Local\\Temp\\ipykernel_35692\\2903819095.py:15: FutureWarning: suggest_loguniform has been deprecated in v3.0.0. This feature will be removed in v6.0.0. See https://github.com/optuna/optuna/releases/tag/v3.0.0. Use suggest_float(..., log=True) instead.\n",
      "  'reg_alpha': trial.suggest_loguniform('reg_alpha', 1e-5, 10.0),  # More range for L1 regularization\n",
      "C:\\Users\\dlesha\\AppData\\Local\\Temp\\ipykernel_35692\\2903819095.py:16: FutureWarning: suggest_loguniform has been deprecated in v3.0.0. This feature will be removed in v6.0.0. See https://github.com/optuna/optuna/releases/tag/v3.0.0. Use suggest_float(..., log=True) instead.\n",
      "  'reg_lambda': trial.suggest_loguniform('reg_lambda', 1e-5, 10.0),  # More range for L2 regularization\n",
      "[I 2024-03-29 17:47:14,583] Trial 97 finished with value: 0.8286910272825766 and parameters: {'learning_rate': 0.14419124556624818, 'n_estimators': 298, 'max_depth': 6, 'min_child_weight': 3, 'subsample': 0.7766467909587289, 'colsample_bytree': 0.8543292702108126, 'gamma': 1.1365818127856606, 'reg_alpha': 0.5625941699753125, 'reg_lambda': 0.319546694020119}. Best is trial 44 with value: 0.8399586329163794.\n",
      "C:\\Users\\dlesha\\AppData\\Local\\Temp\\ipykernel_35692\\2903819095.py:15: FutureWarning: suggest_loguniform has been deprecated in v3.0.0. This feature will be removed in v6.0.0. See https://github.com/optuna/optuna/releases/tag/v3.0.0. Use suggest_float(..., log=True) instead.\n",
      "  'reg_alpha': trial.suggest_loguniform('reg_alpha', 1e-5, 10.0),  # More range for L1 regularization\n",
      "C:\\Users\\dlesha\\AppData\\Local\\Temp\\ipykernel_35692\\2903819095.py:16: FutureWarning: suggest_loguniform has been deprecated in v3.0.0. This feature will be removed in v6.0.0. See https://github.com/optuna/optuna/releases/tag/v3.0.0. Use suggest_float(..., log=True) instead.\n",
      "  'reg_lambda': trial.suggest_loguniform('reg_lambda', 1e-5, 10.0),  # More range for L2 regularization\n",
      "[I 2024-03-29 17:47:14,745] Trial 98 finished with value: 0.8230769230769232 and parameters: {'learning_rate': 0.1950485355794091, 'n_estimators': 313, 'max_depth': 7, 'min_child_weight': 5, 'subsample': 0.7910923961272508, 'colsample_bytree': 0.8304099767195775, 'gamma': 3.3115105127512354, 'reg_alpha': 1.5030260263286987, 'reg_lambda': 0.07037626119604569}. Best is trial 44 with value: 0.8399586329163794.\n",
      "C:\\Users\\dlesha\\AppData\\Local\\Temp\\ipykernel_35692\\2903819095.py:15: FutureWarning: suggest_loguniform has been deprecated in v3.0.0. This feature will be removed in v6.0.0. See https://github.com/optuna/optuna/releases/tag/v3.0.0. Use suggest_float(..., log=True) instead.\n",
      "  'reg_alpha': trial.suggest_loguniform('reg_alpha', 1e-5, 10.0),  # More range for L1 regularization\n",
      "C:\\Users\\dlesha\\AppData\\Local\\Temp\\ipykernel_35692\\2903819095.py:16: FutureWarning: suggest_loguniform has been deprecated in v3.0.0. This feature will be removed in v6.0.0. See https://github.com/optuna/optuna/releases/tag/v3.0.0. Use suggest_float(..., log=True) instead.\n",
      "  'reg_lambda': trial.suggest_loguniform('reg_lambda', 1e-5, 10.0),  # More range for L2 regularization\n",
      "[I 2024-03-29 17:47:14,972] Trial 99 finished with value: 0.8300797793755539 and parameters: {'learning_rate': 0.18668608931483432, 'n_estimators': 425, 'max_depth': 7, 'min_child_weight': 1, 'subsample': 0.746181310677431, 'colsample_bytree': 0.6524541922970266, 'gamma': 1.6685577273716068, 'reg_alpha': 0.7667929325021607, 'reg_lambda': 0.02130497751746622}. Best is trial 44 with value: 0.8399586329163794.\n"
     ]
    },
    {
     "name": "stdout",
     "output_type": "stream",
     "text": [
      "Number of finished trials: 100\n",
      "Best trial: {'learning_rate': 0.13254605068607073, 'n_estimators': 453, 'max_depth': 6, 'min_child_weight': 2, 'subsample': 0.7788915738677062, 'colsample_bytree': 0.7607500096031349, 'gamma': 2.8011214600518834, 'reg_alpha': 0.537295718718965, 'reg_lambda': 0.02133495061674125}\n"
     ]
    }
   ],
   "source": [
    "study = opt.create_study(direction='maximize')\n",
    "study.optimize(objective, n_trials=100)\n",
    "\n",
    "print('Number of finished trials:', len(study.trials))\n",
    "print('Best trial:', study.best_trial.params)\n"
   ],
   "metadata": {
    "collapsed": false,
    "ExecuteTime": {
     "end_time": "2024-03-29T16:47:14.984047Z",
     "start_time": "2024-03-29T16:46:58.769442Z"
    }
   },
   "id": "95e1458faa254e3f",
   "execution_count": 170
  },
  {
   "cell_type": "code",
   "outputs": [
    {
     "name": "stdout",
     "output_type": "stream",
     "text": [
      "Best trial accuracy: 0.8399586329163794\n"
     ]
    }
   ],
   "source": [
    "best_trial = study.best_trial\n",
    "print(f\"Best trial accuracy: {best_trial.value}\")"
   ],
   "metadata": {
    "collapsed": false,
    "ExecuteTime": {
     "end_time": "2024-03-29T16:47:14.988373Z",
     "start_time": "2024-03-29T16:47:14.985078Z"
    }
   },
   "id": "e34bcdb79ff39629",
   "execution_count": 171
  },
  {
   "cell_type": "markdown",
   "source": [
    "### Generate Results"
   ],
   "metadata": {
    "collapsed": false
   },
   "id": "51110c2bfd963af1"
  },
  {
   "cell_type": "code",
   "outputs": [
    {
     "data": {
      "text/plain": "XGBClassifier(base_score=None, booster=None, callbacks=None,\n              colsample_bylevel=None, colsample_bynode=None,\n              colsample_bytree=0.7607500096031349, early_stopping_rounds=None,\n              enable_categorical=False, eval_metric=None, feature_types=None,\n              gamma=2.8011214600518834, gpu_id=None, grow_policy=None,\n              importance_type=None, interaction_constraints=None,\n              learning_rate=0.13254605068607073, max_bin=None,\n              max_cat_threshold=None, max_cat_to_onehot=None,\n              max_delta_step=None, max_depth=6, max_leaves=None,\n              min_child_weight=2, missing=nan, monotone_constraints=None,\n              n_estimators=453, n_jobs=None, num_parallel_tree=None,\n              predictor=None, random_state=None, ...)",
      "text/html": "<style>#sk-container-id-9 {color: black;}#sk-container-id-9 pre{padding: 0;}#sk-container-id-9 div.sk-toggleable {background-color: white;}#sk-container-id-9 label.sk-toggleable__label {cursor: pointer;display: block;width: 100%;margin-bottom: 0;padding: 0.3em;box-sizing: border-box;text-align: center;}#sk-container-id-9 label.sk-toggleable__label-arrow:before {content: \"▸\";float: left;margin-right: 0.25em;color: #696969;}#sk-container-id-9 label.sk-toggleable__label-arrow:hover:before {color: black;}#sk-container-id-9 div.sk-estimator:hover label.sk-toggleable__label-arrow:before {color: black;}#sk-container-id-9 div.sk-toggleable__content {max-height: 0;max-width: 0;overflow: hidden;text-align: left;background-color: #f0f8ff;}#sk-container-id-9 div.sk-toggleable__content pre {margin: 0.2em;color: black;border-radius: 0.25em;background-color: #f0f8ff;}#sk-container-id-9 input.sk-toggleable__control:checked~div.sk-toggleable__content {max-height: 200px;max-width: 100%;overflow: auto;}#sk-container-id-9 input.sk-toggleable__control:checked~label.sk-toggleable__label-arrow:before {content: \"▾\";}#sk-container-id-9 div.sk-estimator input.sk-toggleable__control:checked~label.sk-toggleable__label {background-color: #d4ebff;}#sk-container-id-9 div.sk-label input.sk-toggleable__control:checked~label.sk-toggleable__label {background-color: #d4ebff;}#sk-container-id-9 input.sk-hidden--visually {border: 0;clip: rect(1px 1px 1px 1px);clip: rect(1px, 1px, 1px, 1px);height: 1px;margin: -1px;overflow: hidden;padding: 0;position: absolute;width: 1px;}#sk-container-id-9 div.sk-estimator {font-family: monospace;background-color: #f0f8ff;border: 1px dotted black;border-radius: 0.25em;box-sizing: border-box;margin-bottom: 0.5em;}#sk-container-id-9 div.sk-estimator:hover {background-color: #d4ebff;}#sk-container-id-9 div.sk-parallel-item::after {content: \"\";width: 100%;border-bottom: 1px solid gray;flex-grow: 1;}#sk-container-id-9 div.sk-label:hover label.sk-toggleable__label {background-color: #d4ebff;}#sk-container-id-9 div.sk-serial::before {content: \"\";position: absolute;border-left: 1px solid gray;box-sizing: border-box;top: 0;bottom: 0;left: 50%;z-index: 0;}#sk-container-id-9 div.sk-serial {display: flex;flex-direction: column;align-items: center;background-color: white;padding-right: 0.2em;padding-left: 0.2em;position: relative;}#sk-container-id-9 div.sk-item {position: relative;z-index: 1;}#sk-container-id-9 div.sk-parallel {display: flex;align-items: stretch;justify-content: center;background-color: white;position: relative;}#sk-container-id-9 div.sk-item::before, #sk-container-id-9 div.sk-parallel-item::before {content: \"\";position: absolute;border-left: 1px solid gray;box-sizing: border-box;top: 0;bottom: 0;left: 50%;z-index: -1;}#sk-container-id-9 div.sk-parallel-item {display: flex;flex-direction: column;z-index: 1;position: relative;background-color: white;}#sk-container-id-9 div.sk-parallel-item:first-child::after {align-self: flex-end;width: 50%;}#sk-container-id-9 div.sk-parallel-item:last-child::after {align-self: flex-start;width: 50%;}#sk-container-id-9 div.sk-parallel-item:only-child::after {width: 0;}#sk-container-id-9 div.sk-dashed-wrapped {border: 1px dashed gray;margin: 0 0.4em 0.5em 0.4em;box-sizing: border-box;padding-bottom: 0.4em;background-color: white;}#sk-container-id-9 div.sk-label label {font-family: monospace;font-weight: bold;display: inline-block;line-height: 1.2em;}#sk-container-id-9 div.sk-label-container {text-align: center;}#sk-container-id-9 div.sk-container {/* jupyter's `normalize.less` sets `[hidden] { display: none; }` but bootstrap.min.css set `[hidden] { display: none !important; }` so we also need the `!important` here to be able to override the default hidden behavior on the sphinx rendered scikit-learn.org. See: https://github.com/scikit-learn/scikit-learn/issues/21755 */display: inline-block !important;position: relative;}#sk-container-id-9 div.sk-text-repr-fallback {display: none;}</style><div id=\"sk-container-id-9\" class=\"sk-top-container\"><div class=\"sk-text-repr-fallback\"><pre>XGBClassifier(base_score=None, booster=None, callbacks=None,\n              colsample_bylevel=None, colsample_bynode=None,\n              colsample_bytree=0.7607500096031349, early_stopping_rounds=None,\n              enable_categorical=False, eval_metric=None, feature_types=None,\n              gamma=2.8011214600518834, gpu_id=None, grow_policy=None,\n              importance_type=None, interaction_constraints=None,\n              learning_rate=0.13254605068607073, max_bin=None,\n              max_cat_threshold=None, max_cat_to_onehot=None,\n              max_delta_step=None, max_depth=6, max_leaves=None,\n              min_child_weight=2, missing=nan, monotone_constraints=None,\n              n_estimators=453, n_jobs=None, num_parallel_tree=None,\n              predictor=None, random_state=None, ...)</pre><b>In a Jupyter environment, please rerun this cell to show the HTML representation or trust the notebook. <br />On GitHub, the HTML representation is unable to render, please try loading this page with nbviewer.org.</b></div><div class=\"sk-container\" hidden><div class=\"sk-item\"><div class=\"sk-estimator sk-toggleable\"><input class=\"sk-toggleable__control sk-hidden--visually\" id=\"sk-estimator-id-19\" type=\"checkbox\" checked><label for=\"sk-estimator-id-19\" class=\"sk-toggleable__label sk-toggleable__label-arrow\">XGBClassifier</label><div class=\"sk-toggleable__content\"><pre>XGBClassifier(base_score=None, booster=None, callbacks=None,\n              colsample_bylevel=None, colsample_bynode=None,\n              colsample_bytree=0.7607500096031349, early_stopping_rounds=None,\n              enable_categorical=False, eval_metric=None, feature_types=None,\n              gamma=2.8011214600518834, gpu_id=None, grow_policy=None,\n              importance_type=None, interaction_constraints=None,\n              learning_rate=0.13254605068607073, max_bin=None,\n              max_cat_threshold=None, max_cat_to_onehot=None,\n              max_delta_step=None, max_depth=6, max_leaves=None,\n              min_child_weight=2, missing=nan, monotone_constraints=None,\n              n_estimators=453, n_jobs=None, num_parallel_tree=None,\n              predictor=None, random_state=None, ...)</pre></div></div></div></div></div>"
     },
     "execution_count": 172,
     "metadata": {},
     "output_type": "execute_result"
    }
   ],
   "source": [
    "xgb_classifier.set_params(**best_trial.params)\n",
    "xgb_classifier.fit(X_train, y_train)"
   ],
   "metadata": {
    "collapsed": false,
    "ExecuteTime": {
     "end_time": "2024-03-29T16:47:15.233970Z",
     "start_time": "2024-03-29T16:47:14.989835Z"
    }
   },
   "id": "b226ecb6aedbb097",
   "execution_count": 172
  },
  {
   "cell_type": "code",
   "outputs": [
    {
     "name": "stdout",
     "output_type": "stream",
     "text": [
      "CV Accuracy after Optuna: 0.8314 (+/- 0.0631)\n"
     ]
    }
   ],
   "source": [
    "cv = StratifiedKFold(n_splits=10, shuffle=True, random_state=42)  # More folds for a thorough evaluation\n",
    "scores = cross_val_score(xgb_classifier, X_train, y_train, cv=cv, scoring='accuracy', n_jobs=-1)\n",
    "\n",
    "print(\"CV Accuracy after Optuna: %0.4f (+/- %0.4f)\" % (scores.mean(), scores.std() * 2))"
   ],
   "metadata": {
    "collapsed": false,
    "ExecuteTime": {
     "end_time": "2024-03-29T16:47:15.538517Z",
     "start_time": "2024-03-29T16:47:15.236067Z"
    }
   },
   "id": "c71bcdb9197082ef",
   "execution_count": 173
  },
  {
   "cell_type": "code",
   "outputs": [],
   "source": [
    "y_pred = xgb_classifier.predict(X_test)"
   ],
   "metadata": {
    "collapsed": false,
    "ExecuteTime": {
     "end_time": "2024-03-29T16:47:15.543710Z",
     "start_time": "2024-03-29T16:47:15.539523Z"
    }
   },
   "id": "f6fdd55ef8d83270",
   "execution_count": 174
  },
  {
   "cell_type": "code",
   "outputs": [
    {
     "name": "stdout",
     "output_type": "stream",
     "text": [
      "Accuracy: 0.79\n"
     ]
    }
   ],
   "source": [
    "accuracy = accuracy_score(y_test, y_pred)\n",
    "print(f\"Accuracy: {accuracy:.2f}\")"
   ],
   "metadata": {
    "collapsed": false,
    "ExecuteTime": {
     "end_time": "2024-03-29T16:47:15.552089Z",
     "start_time": "2024-03-29T16:47:15.544715Z"
    }
   },
   "id": "b9bd22a2528c3470",
   "execution_count": 175
  },
  {
   "cell_type": "code",
   "outputs": [
    {
     "data": {
      "text/plain": "             Embarked  Deck  Title  Sex  IsAlone  Age*Class  Fare_Per_Person\nPassengerId                                                                 \n874                 2     7      2    0        1         94              186\n829                 1     7      2    0        1         48              156\n100                 2     7      2    0        0         60              109\n524                 0     1      3    1        0         38              127\n133                 2     7      3    1        0         94               83\n...               ...   ...    ...  ...      ...        ...              ...\n407                 2     7      2    0        1         98              156\n391                 2     1      2    0        0         30               68\n144                 1     7      2    0        1         51              128\n242                 1     7      1    1        0         70               84\n624                 2     7      2    0        1         56              163\n\n[712 rows x 7 columns]",
      "text/html": "<div>\n<style scoped>\n    .dataframe tbody tr th:only-of-type {\n        vertical-align: middle;\n    }\n\n    .dataframe tbody tr th {\n        vertical-align: top;\n    }\n\n    .dataframe thead th {\n        text-align: right;\n    }\n</style>\n<table border=\"1\" class=\"dataframe\">\n  <thead>\n    <tr style=\"text-align: right;\">\n      <th></th>\n      <th>Embarked</th>\n      <th>Deck</th>\n      <th>Title</th>\n      <th>Sex</th>\n      <th>IsAlone</th>\n      <th>Age*Class</th>\n      <th>Fare_Per_Person</th>\n    </tr>\n    <tr>\n      <th>PassengerId</th>\n      <th></th>\n      <th></th>\n      <th></th>\n      <th></th>\n      <th></th>\n      <th></th>\n      <th></th>\n    </tr>\n  </thead>\n  <tbody>\n    <tr>\n      <th>874</th>\n      <td>2</td>\n      <td>7</td>\n      <td>2</td>\n      <td>0</td>\n      <td>1</td>\n      <td>94</td>\n      <td>186</td>\n    </tr>\n    <tr>\n      <th>829</th>\n      <td>1</td>\n      <td>7</td>\n      <td>2</td>\n      <td>0</td>\n      <td>1</td>\n      <td>48</td>\n      <td>156</td>\n    </tr>\n    <tr>\n      <th>100</th>\n      <td>2</td>\n      <td>7</td>\n      <td>2</td>\n      <td>0</td>\n      <td>0</td>\n      <td>60</td>\n      <td>109</td>\n    </tr>\n    <tr>\n      <th>524</th>\n      <td>0</td>\n      <td>1</td>\n      <td>3</td>\n      <td>1</td>\n      <td>0</td>\n      <td>38</td>\n      <td>127</td>\n    </tr>\n    <tr>\n      <th>133</th>\n      <td>2</td>\n      <td>7</td>\n      <td>3</td>\n      <td>1</td>\n      <td>0</td>\n      <td>94</td>\n      <td>83</td>\n    </tr>\n    <tr>\n      <th>...</th>\n      <td>...</td>\n      <td>...</td>\n      <td>...</td>\n      <td>...</td>\n      <td>...</td>\n      <td>...</td>\n      <td>...</td>\n    </tr>\n    <tr>\n      <th>407</th>\n      <td>2</td>\n      <td>7</td>\n      <td>2</td>\n      <td>0</td>\n      <td>1</td>\n      <td>98</td>\n      <td>156</td>\n    </tr>\n    <tr>\n      <th>391</th>\n      <td>2</td>\n      <td>1</td>\n      <td>2</td>\n      <td>0</td>\n      <td>0</td>\n      <td>30</td>\n      <td>68</td>\n    </tr>\n    <tr>\n      <th>144</th>\n      <td>1</td>\n      <td>7</td>\n      <td>2</td>\n      <td>0</td>\n      <td>1</td>\n      <td>51</td>\n      <td>128</td>\n    </tr>\n    <tr>\n      <th>242</th>\n      <td>1</td>\n      <td>7</td>\n      <td>1</td>\n      <td>1</td>\n      <td>0</td>\n      <td>70</td>\n      <td>84</td>\n    </tr>\n    <tr>\n      <th>624</th>\n      <td>2</td>\n      <td>7</td>\n      <td>2</td>\n      <td>0</td>\n      <td>1</td>\n      <td>56</td>\n      <td>163</td>\n    </tr>\n  </tbody>\n</table>\n<p>712 rows × 7 columns</p>\n</div>"
     },
     "execution_count": 176,
     "metadata": {},
     "output_type": "execute_result"
    }
   ],
   "source": [
    "X_train"
   ],
   "metadata": {
    "collapsed": false,
    "ExecuteTime": {
     "end_time": "2024-03-29T16:47:15.566212Z",
     "start_time": "2024-03-29T16:47:15.553094Z"
    }
   },
   "id": "e2543e91609242d5",
   "execution_count": 176
  },
  {
   "cell_type": "code",
   "outputs": [],
   "source": [
    "submission_test = xgb_classifier.predict(to_test)\n",
    "submission_test = pd.Series(submission_test, to_test.index, name='Survived')\n",
    "# save submission\n",
    "#submission_test.to_csv('submission_test_xgb.csv') "
   ],
   "metadata": {
    "collapsed": false,
    "ExecuteTime": {
     "end_time": "2024-03-29T21:14:24.924319Z",
     "start_time": "2024-03-29T21:14:24.919025Z"
    }
   },
   "id": "d03f1dc12d6486a8",
   "execution_count": 202
  },
  {
   "cell_type": "code",
   "outputs": [
    {
     "name": "stdout",
     "output_type": "stream",
     "text": [
      "Accuracy Score: 0.7839195979899497\n"
     ]
    }
   ],
   "source": [
    "actual_data = pd.read_csv(\"test_results.csv\",index_col=\"PassengerId\")\n",
    "merged_df = pd.merge(actual_data, submission_test, on='PassengerId', suffixes=('_df1', '_df2'))\n",
    "# Step 3: Calculate accuracy score\n",
    "accuracy = accuracy_score(merged_df['survived'], merged_df['Survived'])\n",
    "\n",
    "print(f\"Accuracy Score: {accuracy}\")"
   ],
   "metadata": {
    "collapsed": false,
    "ExecuteTime": {
     "end_time": "2024-03-29T21:14:28.430690Z",
     "start_time": "2024-03-29T21:14:28.423550Z"
    }
   },
   "id": "1be59c9316f19d8e",
   "execution_count": 203
  },
  {
   "cell_type": "code",
   "outputs": [
    {
     "data": {
      "text/plain": "             survived  Survived\nPassengerId                    \n892               0.0         0\n892               0.0         0\n893               1.0         0\n894               0.0         0\n895               0.0         0\n...               ...       ...\n1305              0.0         0\n1306              1.0         1\n1307              0.0         0\n1308              0.0         0\n1309              1.0         1\n\n[398 rows x 2 columns]",
      "text/html": "<div>\n<style scoped>\n    .dataframe tbody tr th:only-of-type {\n        vertical-align: middle;\n    }\n\n    .dataframe tbody tr th {\n        vertical-align: top;\n    }\n\n    .dataframe thead th {\n        text-align: right;\n    }\n</style>\n<table border=\"1\" class=\"dataframe\">\n  <thead>\n    <tr style=\"text-align: right;\">\n      <th></th>\n      <th>survived</th>\n      <th>Survived</th>\n    </tr>\n    <tr>\n      <th>PassengerId</th>\n      <th></th>\n      <th></th>\n    </tr>\n  </thead>\n  <tbody>\n    <tr>\n      <th>892</th>\n      <td>0.0</td>\n      <td>0</td>\n    </tr>\n    <tr>\n      <th>892</th>\n      <td>0.0</td>\n      <td>0</td>\n    </tr>\n    <tr>\n      <th>893</th>\n      <td>1.0</td>\n      <td>0</td>\n    </tr>\n    <tr>\n      <th>894</th>\n      <td>0.0</td>\n      <td>0</td>\n    </tr>\n    <tr>\n      <th>895</th>\n      <td>0.0</td>\n      <td>0</td>\n    </tr>\n    <tr>\n      <th>...</th>\n      <td>...</td>\n      <td>...</td>\n    </tr>\n    <tr>\n      <th>1305</th>\n      <td>0.0</td>\n      <td>0</td>\n    </tr>\n    <tr>\n      <th>1306</th>\n      <td>1.0</td>\n      <td>1</td>\n    </tr>\n    <tr>\n      <th>1307</th>\n      <td>0.0</td>\n      <td>0</td>\n    </tr>\n    <tr>\n      <th>1308</th>\n      <td>0.0</td>\n      <td>0</td>\n    </tr>\n    <tr>\n      <th>1309</th>\n      <td>1.0</td>\n      <td>1</td>\n    </tr>\n  </tbody>\n</table>\n<p>398 rows × 2 columns</p>\n</div>"
     },
     "execution_count": 179,
     "metadata": {},
     "output_type": "execute_result"
    }
   ],
   "source": [
    "merged_df"
   ],
   "metadata": {
    "collapsed": false,
    "ExecuteTime": {
     "end_time": "2024-03-29T16:47:15.596869Z",
     "start_time": "2024-03-29T16:47:15.587479Z"
    }
   },
   "id": "aab968d9c72c9b24",
   "execution_count": 179
  },
  {
   "cell_type": "code",
   "outputs": [
    {
     "data": {
      "text/plain": "{'importances_mean': array([-0.00558659,  0.02234637,  0.06256983,  0.13743017, -0.00558659,\n         0.01117318,  0.01899441]),\n 'importances_std': array([0.00790063, 0.00790063, 0.01024039, 0.02727722, 0.00353327,\n        0.00611981, 0.00836125]),\n 'importances': array([[-0.01117318,  0.        ,  0.00558659, -0.00558659, -0.01675978],\n        [ 0.02793296,  0.02234637,  0.01117318,  0.01675978,  0.03351955],\n        [ 0.06145251,  0.06145251,  0.0726257 ,  0.0726257 ,  0.04469274],\n        [ 0.10055866,  0.15642458,  0.11173184,  0.1452514 ,  0.17318436],\n        [-0.00558659,  0.        , -0.01117318, -0.00558659, -0.00558659],\n        [ 0.        ,  0.01675978,  0.01117318,  0.01675978,  0.01117318],\n        [ 0.01117318,  0.02234637,  0.01117318,  0.01675978,  0.03351955]])}"
     },
     "execution_count": 180,
     "metadata": {},
     "output_type": "execute_result"
    }
   ],
   "source": [
    "results = permutation_importance(xgb_classifier, X_test, y_test, scoring='accuracy')\n",
    "results"
   ],
   "metadata": {
    "collapsed": false,
    "ExecuteTime": {
     "end_time": "2024-03-29T16:47:15.707242Z",
     "start_time": "2024-03-29T16:47:15.597873Z"
    }
   },
   "id": "8fbb228cd5973432",
   "execution_count": 180
  },
  {
   "cell_type": "code",
   "outputs": [
    {
     "data": {
      "text/plain": "<Figure size 640x480 with 1 Axes>",
      "image/png": "[encoded data removed]"
     },
     "metadata": {},
     "output_type": "display_data"
    }
   ],
   "source": [
    "importance = results.importances_mean\n",
    "std = results.importances_std\n",
    "\n",
    "features = X_train.columns\n",
    "sorted_idx = importance.argsort()\n",
    "\n",
    "plt.barh(range(len(sorted_idx)), importance[sorted_idx], xerr=std[sorted_idx], align='center')\n",
    "plt.yticks(range(len(sorted_idx)), [features[i] for i in sorted_idx])\n",
    "plt.xlabel(\"Permutation Importance\")\n",
    "plt.show()"
   ],
   "metadata": {
    "collapsed": false,
    "ExecuteTime": {
     "end_time": "2024-03-29T16:47:15.879137Z",
     "start_time": "2024-03-29T16:47:15.708247Z"
    }
   },
   "id": "8b2a03f876091fe5",
   "execution_count": 181
  },
  {
   "cell_type": "markdown",
   "source": [
    "#### ElasticNet using L1 and L2 regularization gives insight onto Feature Importance"
   ],
   "metadata": {
    "collapsed": false
   },
   "id": "1073fd48ce5903ed"
  },
  {
   "cell_type": "code",
   "outputs": [],
   "source": [
    "def objective(trial):\n",
    "    alpha = trial.suggest_float('alpha', 1e-3, 10.0, log=True)\n",
    "    l1_ratio = trial.suggest_float('l1_ratio', 0, 1)\n",
    "\n",
    "    elastic_net = make_pipeline(StandardScaler(), ElasticNet(alpha=alpha, l1_ratio=l1_ratio, random_state=42))\n",
    "\n",
    "    cv = StratifiedKFold(n_splits=10, shuffle=True, random_state=42)\n",
    "    scores = cross_val_score(elastic_net, X_train, y_train, cv=cv, scoring='neg_mean_squared_error', n_jobs=-1)\n",
    "\n",
    "    return np.mean(scores)"
   ],
   "metadata": {
    "collapsed": false,
    "ExecuteTime": {
     "end_time": "2024-03-29T16:47:15.883170Z",
     "start_time": "2024-03-29T16:47:15.880150Z"
    }
   },
   "id": "4d3a77a1b463caf1",
   "execution_count": 182
  },
  {
   "cell_type": "code",
   "outputs": [
    {
     "name": "stderr",
     "output_type": "stream",
     "text": [
      "[I 2024-03-29 17:47:15,890] A new study created in memory with name: no-name-45324615-1e37-41d9-a187-85962248c82f\n",
      "[I 2024-03-29 17:47:15,910] Trial 0 finished with value: -0.1456282208819332 and parameters: {'alpha': 0.007218697155729033, 'l1_ratio': 0.005128051330618}. Best is trial 0 with value: -0.1456282208819332.\n",
      "[I 2024-03-29 17:47:15,929] Trial 1 finished with value: -0.17850234274984234 and parameters: {'alpha': 0.20586123028104247, 'l1_ratio': 0.5630933452757378}. Best is trial 0 with value: -0.1456282208819332.\n",
      "[I 2024-03-29 17:47:15,948] Trial 2 finished with value: -0.15958113192151266 and parameters: {'alpha': 0.12051418841665812, 'l1_ratio': 0.5864149944406817}. Best is trial 0 with value: -0.1456282208819332.\n",
      "[I 2024-03-29 17:47:15,968] Trial 3 finished with value: -0.1457119790713728 and parameters: {'alpha': 0.00224802166890362, 'l1_ratio': 0.981899828315448}. Best is trial 0 with value: -0.1456282208819332.\n",
      "[I 2024-03-29 17:47:15,987] Trial 4 finished with value: -0.23507581855846857 and parameters: {'alpha': 1.035735414235481, 'l1_ratio': 0.8547737130219994}. Best is trial 0 with value: -0.1456282208819332.\n",
      "[I 2024-03-29 17:47:16,005] Trial 5 finished with value: -0.23507581855846857 and parameters: {'alpha': 2.981472225963638, 'l1_ratio': 0.5463211719909263}. Best is trial 0 with value: -0.1456282208819332.\n",
      "[I 2024-03-29 17:47:16,025] Trial 6 finished with value: -0.1456664130634888 and parameters: {'alpha': 0.0025909433362929645, 'l1_ratio': 0.41963266149325285}. Best is trial 0 with value: -0.1456282208819332.\n",
      "[I 2024-03-29 17:47:16,045] Trial 7 finished with value: -0.1791973238867511 and parameters: {'alpha': 0.3880339732614354, 'l1_ratio': 0.27089732806137756}. Best is trial 0 with value: -0.1456282208819332.\n",
      "[I 2024-03-29 17:47:16,066] Trial 8 finished with value: -0.23507581855846857 and parameters: {'alpha': 1.8264463526133954, 'l1_ratio': 0.33627372684225365}. Best is trial 0 with value: -0.1456282208819332.\n",
      "[I 2024-03-29 17:47:16,085] Trial 9 finished with value: -0.1598140224145839 and parameters: {'alpha': 0.6698083807654442, 'l1_ratio': 0.02456818981251252}. Best is trial 0 with value: -0.1456282208819332.\n",
      "[I 2024-03-29 17:47:16,110] Trial 10 finished with value: -0.14562612917233633 and parameters: {'alpha': 0.014936141609497341, 'l1_ratio': 0.051470380806030724}. Best is trial 10 with value: -0.14562612917233633.\n",
      "[I 2024-03-29 17:47:16,137] Trial 11 finished with value: -0.1456076380513845 and parameters: {'alpha': 0.014938510008125636, 'l1_ratio': 0.006489777138527386}. Best is trial 11 with value: -0.1456076380513845.\n",
      "[I 2024-03-29 17:47:16,165] Trial 12 finished with value: -0.1458213428033766 and parameters: {'alpha': 0.02294317165117339, 'l1_ratio': 0.1684129936805907}. Best is trial 11 with value: -0.1456076380513845.\n",
      "[I 2024-03-29 17:47:16,190] Trial 13 finished with value: -0.14576479354499525 and parameters: {'alpha': 0.021247579815969878, 'l1_ratio': 0.1520250580326628}. Best is trial 11 with value: -0.1456076380513845.\n",
      "[I 2024-03-29 17:47:16,217] Trial 14 finished with value: -0.14596436147949107 and parameters: {'alpha': 0.03225778382179596, 'l1_ratio': 0.15649856204990625}. Best is trial 11 with value: -0.1456076380513845.\n",
      "[I 2024-03-29 17:47:16,242] Trial 15 finished with value: -0.14566359305767246 and parameters: {'alpha': 0.0010249600773060107, 'l1_ratio': 0.7227330571076288}. Best is trial 11 with value: -0.1456076380513845.\n",
      "[I 2024-03-29 17:47:16,266] Trial 16 finished with value: -0.14589318518671465 and parameters: {'alpha': 0.04796156833375348, 'l1_ratio': 0.07985033684833387}. Best is trial 11 with value: -0.1456076380513845.\n",
      "[I 2024-03-29 17:47:16,290] Trial 17 finished with value: -0.14569841059424754 and parameters: {'alpha': 0.007612097454026605, 'l1_ratio': 0.2848411319119877}. Best is trial 11 with value: -0.1456076380513845.\n",
      "[I 2024-03-29 17:47:16,315] Trial 18 finished with value: -0.14577353827139913 and parameters: {'alpha': 0.00783926542080463, 'l1_ratio': 0.42508407433946016}. Best is trial 11 with value: -0.1456076380513845.\n",
      "[I 2024-03-29 17:47:16,341] Trial 19 finished with value: -0.23507581855846857 and parameters: {'alpha': 9.545821769522988, 'l1_ratio': 0.2069230010184948}. Best is trial 11 with value: -0.1456076380513845.\n",
      "[I 2024-03-29 17:47:16,365] Trial 20 finished with value: -0.14679515849464625 and parameters: {'alpha': 0.09204197356053709, 'l1_ratio': 0.08861617958478801}. Best is trial 11 with value: -0.1456076380513845.\n",
      "[I 2024-03-29 17:47:16,390] Trial 21 finished with value: -0.1456306585626346 and parameters: {'alpha': 0.007531161372807613, 'l1_ratio': 0.03441721007149709}. Best is trial 11 with value: -0.1456076380513845.\n",
      "[I 2024-03-29 17:47:16,414] Trial 22 finished with value: -0.1456123762060227 and parameters: {'alpha': 0.0129356293647769, 'l1_ratio': 0.008214053921950636}. Best is trial 11 with value: -0.1456076380513845.\n",
      "[I 2024-03-29 17:47:16,440] Trial 23 finished with value: -0.14566738350970002 and parameters: {'alpha': 0.014935786233785223, 'l1_ratio': 0.11729925229452072}. Best is trial 11 with value: -0.1456076380513845.\n",
      "[I 2024-03-29 17:47:16,463] Trial 24 finished with value: -0.14755476720153798 and parameters: {'alpha': 0.06807204161957393, 'l1_ratio': 0.2370848418871574}. Best is trial 11 with value: -0.1456076380513845.\n",
      "[I 2024-03-29 17:47:16,488] Trial 25 finished with value: -0.14564543452618658 and parameters: {'alpha': 0.0028124213999062087, 'l1_ratio': 0.007064859305800123}. Best is trial 11 with value: -0.1456076380513845.\n",
      "[I 2024-03-29 17:47:16,514] Trial 26 finished with value: -0.14585275372930478 and parameters: {'alpha': 0.01331101527538817, 'l1_ratio': 0.3212345810000615}. Best is trial 11 with value: -0.1456076380513845.\n",
      "[I 2024-03-29 17:47:16,538] Trial 27 finished with value: -0.1457454596571744 and parameters: {'alpha': 0.004164836739377704, 'l1_ratio': 0.6870805160380616}. Best is trial 11 with value: -0.1456076380513845.\n",
      "[I 2024-03-29 17:47:16,563] Trial 28 finished with value: -0.14583952420513166 and parameters: {'alpha': 0.04269979905301756, 'l1_ratio': 0.08195863431370479}. Best is trial 11 with value: -0.1456076380513845.\n",
      "[I 2024-03-29 17:47:16,588] Trial 29 finished with value: -0.14565349593621427 and parameters: {'alpha': 0.001025979038690472, 'l1_ratio': 0.007036837777411181}. Best is trial 11 with value: -0.1456076380513845.\n",
      "[I 2024-03-29 17:47:16,613] Trial 30 finished with value: -0.16294427457404068 and parameters: {'alpha': 0.19622799691443782, 'l1_ratio': 0.3806558908869687}. Best is trial 11 with value: -0.1456076380513845.\n",
      "[I 2024-03-29 17:47:16,637] Trial 31 finished with value: -0.145641822650639 and parameters: {'alpha': 0.004738361081477391, 'l1_ratio': 0.07303568200740354}. Best is trial 11 with value: -0.1456076380513845.\n",
      "[I 2024-03-29 17:47:16,662] Trial 32 finished with value: -0.14570111184381776 and parameters: {'alpha': 0.012473088597772544, 'l1_ratio': 0.1866265678941445}. Best is trial 11 with value: -0.1456076380513845.\n",
      "[I 2024-03-29 17:47:16,686] Trial 33 finished with value: -0.14658566856456198 and parameters: {'alpha': 0.16074396316852593, 'l1_ratio': 0.0030852935803407505}. Best is trial 11 with value: -0.1456076380513845.\n",
      "[I 2024-03-29 17:47:16,711] Trial 34 finished with value: -0.14576135670358203 and parameters: {'alpha': 0.025739701757535045, 'l1_ratio': 0.12120649544230545}. Best is trial 11 with value: -0.1456076380513845.\n",
      "[I 2024-03-29 17:47:16,738] Trial 35 finished with value: -0.14592440241154464 and parameters: {'alpha': 0.00505979901285449, 'l1_ratio': 0.9772568872235267}. Best is trial 11 with value: -0.1456076380513845.\n",
      "[I 2024-03-29 17:47:16,764] Trial 36 finished with value: -0.14563118494584196 and parameters: {'alpha': 0.011029864194771992, 'l1_ratio': 0.0626193563768962}. Best is trial 11 with value: -0.1456076380513845.\n",
      "[I 2024-03-29 17:47:16,790] Trial 37 finished with value: -0.14565465218456133 and parameters: {'alpha': 0.0019572138455925445, 'l1_ratio': 0.23778895282713092}. Best is trial 11 with value: -0.1456076380513845.\n",
      "[I 2024-03-29 17:47:16,815] Trial 38 finished with value: -0.1498709296668727 and parameters: {'alpha': 0.06088265246377926, 'l1_ratio': 0.511019546218069}. Best is trial 11 with value: -0.1456076380513845.\n",
      "[I 2024-03-29 17:47:16,839] Trial 39 finished with value: -0.21690385728649564 and parameters: {'alpha': 0.37069625817748214, 'l1_ratio': 0.6034757578723408}. Best is trial 11 with value: -0.1456076380513845.\n",
      "[I 2024-03-29 17:47:16,864] Trial 40 finished with value: -0.14565227831405053 and parameters: {'alpha': 0.0016725391680641648, 'l1_ratio': 0.12242387555315211}. Best is trial 11 with value: -0.1456076380513845.\n",
      "[I 2024-03-29 17:47:16,890] Trial 41 finished with value: -0.14563068552532804 and parameters: {'alpha': 0.007333910072265805, 'l1_ratio': 0.03060941750359223}. Best is trial 11 with value: -0.1456076380513845.\n",
      "[I 2024-03-29 17:47:16,914] Trial 42 finished with value: -0.1456142274804618 and parameters: {'alpha': 0.01880344042508422, 'l1_ratio': 0.02985992814632053}. Best is trial 11 with value: -0.1456076380513845.\n",
      "[I 2024-03-29 17:47:16,937] Trial 43 finished with value: -0.1456306311179675 and parameters: {'alpha': 0.01792811046738679, 'l1_ratio': 0.05527774186576523}. Best is trial 11 with value: -0.1456076380513845.\n",
      "[I 2024-03-29 17:47:16,961] Trial 44 finished with value: -0.14588379647802568 and parameters: {'alpha': 0.03210560891050427, 'l1_ratio': 0.13424633647014497}. Best is trial 11 with value: -0.1456076380513845.\n",
      "[I 2024-03-29 17:47:16,984] Trial 45 finished with value: -0.14565410157044864 and parameters: {'alpha': 0.0035745262090164003, 'l1_ratio': 0.20949835471066308}. Best is trial 11 with value: -0.1456076380513845.\n",
      "[I 2024-03-29 17:47:17,007] Trial 46 finished with value: -0.14564221800849933 and parameters: {'alpha': 0.009831236760917973, 'l1_ratio': 0.09823858028628665}. Best is trial 11 with value: -0.1456076380513845.\n",
      "[I 2024-03-29 17:47:17,033] Trial 47 finished with value: -0.1456355578320298 and parameters: {'alpha': 0.023297427154945656, 'l1_ratio': 0.04974290898186034}. Best is trial 11 with value: -0.1456076380513845.\n",
      "[I 2024-03-29 17:47:17,056] Trial 48 finished with value: -0.1457315505518504 and parameters: {'alpha': 0.01830212649782782, 'l1_ratio': 0.15375080498837912}. Best is trial 11 with value: -0.1456076380513845.\n",
      "[I 2024-03-29 17:47:17,080] Trial 49 finished with value: -0.14962634179356343 and parameters: {'alpha': 0.03773834963730878, 'l1_ratio': 0.8401449383377766}. Best is trial 11 with value: -0.1456076380513845.\n",
      "[I 2024-03-29 17:47:17,103] Trial 50 finished with value: -0.14589690503810976 and parameters: {'alpha': 0.09531248704539412, 'l1_ratio': 0.004026023591335715}. Best is trial 11 with value: -0.1456076380513845.\n",
      "[I 2024-03-29 17:47:17,128] Trial 51 finished with value: -0.1456296546234252 and parameters: {'alpha': 0.016633991252311728, 'l1_ratio': 0.055972931713653765}. Best is trial 11 with value: -0.1456076380513845.\n",
      "[I 2024-03-29 17:47:17,152] Trial 52 finished with value: -0.14563738742000504 and parameters: {'alpha': 0.0057764466639339766, 'l1_ratio': 0.05239456902276177}. Best is trial 11 with value: -0.1456076380513845.\n",
      "[I 2024-03-29 17:47:17,176] Trial 53 finished with value: -0.14574888076580064 and parameters: {'alpha': 0.0287866802724982, 'l1_ratio': 0.10069082185230516}. Best is trial 11 with value: -0.1456076380513845.\n",
      "[I 2024-03-29 17:47:17,200] Trial 54 finished with value: -0.14567121637602481 and parameters: {'alpha': 0.009831774845220416, 'l1_ratio': 0.17266983102287373}. Best is trial 11 with value: -0.1456076380513845.\n",
      "[I 2024-03-29 17:47:17,224] Trial 55 finished with value: -0.14563040083360296 and parameters: {'alpha': 0.019659291589200132, 'l1_ratio': 0.05180203900149889}. Best is trial 11 with value: -0.1456076380513845.\n",
      "[I 2024-03-29 17:47:17,250] Trial 56 finished with value: -0.14571152060251863 and parameters: {'alpha': 0.07054843373229168, 'l1_ratio': 0.0009294058640018366}. Best is trial 11 with value: -0.1456076380513845.\n",
      "[I 2024-03-29 17:47:17,276] Trial 57 finished with value: -0.14565989748994712 and parameters: {'alpha': 0.003274472561179389, 'l1_ratio': 0.2854753052315271}. Best is trial 11 with value: -0.1456076380513845.\n",
      "[I 2024-03-29 17:47:17,303] Trial 58 finished with value: -0.14565266148271683 and parameters: {'alpha': 0.015267253152756807, 'l1_ratio': 0.09508510410661385}. Best is trial 11 with value: -0.1456076380513845.\n",
      "[I 2024-03-29 17:47:17,333] Trial 59 finished with value: -0.14571542804564935 and parameters: {'alpha': 0.05021513461164073, 'l1_ratio': 0.03182804306921927}. Best is trial 11 with value: -0.1456076380513845.\n",
      "[I 2024-03-29 17:47:17,360] Trial 60 finished with value: -0.14565043041055298 and parameters: {'alpha': 0.00656966336056573, 'l1_ratio': 0.14683085101186436}. Best is trial 11 with value: -0.1456076380513845.\n",
      "[I 2024-03-29 17:47:17,388] Trial 61 finished with value: -0.14562734267371324 and parameters: {'alpha': 0.01844504843021498, 'l1_ratio': 0.049786372827938505}. Best is trial 11 with value: -0.1456076380513845.\n",
      "[I 2024-03-29 17:47:17,416] Trial 62 finished with value: -0.1456339049822059 and parameters: {'alpha': 0.010514967678652416, 'l1_ratio': 0.0707137889978976}. Best is trial 11 with value: -0.1456076380513845.\n",
      "[I 2024-03-29 17:47:17,443] Trial 63 finished with value: -0.14562217305150887 and parameters: {'alpha': 0.014533525020784796, 'l1_ratio': 0.042769069520034286}. Best is trial 11 with value: -0.1456076380513845.\n",
      "[I 2024-03-29 17:47:17,469] Trial 64 finished with value: -0.1456440801754263 and parameters: {'alpha': 0.008445614678340124, 'l1_ratio': 0.10890304104323356}. Best is trial 11 with value: -0.1456076380513845.\n",
      "[I 2024-03-29 17:47:17,493] Trial 65 finished with value: -0.14594975287270384 and parameters: {'alpha': 0.025980958592642177, 'l1_ratio': 0.1946777852440245}. Best is trial 11 with value: -0.1456076380513845.\n",
      "[I 2024-03-29 17:47:17,518] Trial 66 finished with value: -0.14561686583955422 and parameters: {'alpha': 0.013054615879640154, 'l1_ratio': 0.024736766333231564}. Best is trial 11 with value: -0.1456076380513845.\n",
      "[I 2024-03-29 17:47:17,543] Trial 67 finished with value: -0.14562137216559914 and parameters: {'alpha': 0.0118389511930403, 'l1_ratio': 0.03338481983480909}. Best is trial 11 with value: -0.1456076380513845.\n",
      "[I 2024-03-29 17:47:17,570] Trial 68 finished with value: -0.14561867051430605 and parameters: {'alpha': 0.012507210837378761, 'l1_ratio': 0.02771752505058857}. Best is trial 11 with value: -0.1456076380513845.\n",
      "[I 2024-03-29 17:47:17,596] Trial 69 finished with value: -0.145618001164063 and parameters: {'alpha': 0.012998147733935499, 'l1_ratio': 0.028070255607561344}. Best is trial 11 with value: -0.1456076380513845.\n",
      "[I 2024-03-29 17:47:17,620] Trial 70 finished with value: -0.14564069843027783 and parameters: {'alpha': 0.004108780977646594, 'l1_ratio': 0.02269412484276939}. Best is trial 11 with value: -0.1456076380513845.\n",
      "[I 2024-03-29 17:47:17,645] Trial 71 finished with value: -0.1456429609462006 and parameters: {'alpha': 0.013653766249033361, 'l1_ratio': 0.08637486971753627}. Best is trial 11 with value: -0.1456076380513845.\n",
      "[I 2024-03-29 17:47:17,674] Trial 72 finished with value: -0.14563434798339248 and parameters: {'alpha': 0.006006129223172211, 'l1_ratio': 0.027362973468015608}. Best is trial 11 with value: -0.1456076380513845.\n",
      "[I 2024-03-29 17:47:17,702] Trial 73 finished with value: -0.14591514570252806 and parameters: {'alpha': 0.036064887988604154, 'l1_ratio': 0.12467135465676021}. Best is trial 11 with value: -0.1456076380513845.\n",
      "[I 2024-03-29 17:47:17,729] Trial 74 finished with value: -0.14561842632310207 and parameters: {'alpha': 0.01225084415642702, 'l1_ratio': 0.025253967203873358}. Best is trial 11 with value: -0.1456076380513845.\n",
      "[I 2024-03-29 17:47:17,754] Trial 75 finished with value: -0.14562353177899195 and parameters: {'alpha': 0.008777468807211856, 'l1_ratio': 0.008640196006015625}. Best is trial 11 with value: -0.1456076380513845.\n",
      "[I 2024-03-29 17:47:17,779] Trial 76 finished with value: -0.14563855835340617 and parameters: {'alpha': 0.011877135375506019, 'l1_ratio': 0.08224392902575128}. Best is trial 11 with value: -0.1456076380513845.\n",
      "[I 2024-03-29 17:47:17,805] Trial 77 finished with value: -0.14664754914179756 and parameters: {'alpha': 0.023202907742049386, 'l1_ratio': 0.42581965232447727}. Best is trial 11 with value: -0.1456076380513845.\n",
      "[I 2024-03-29 17:47:17,830] Trial 78 finished with value: -0.23507581855846857 and parameters: {'alpha': 5.634148566923519, 'l1_ratio': 0.23119558210022215}. Best is trial 11 with value: -0.1456076380513845.\n",
      "[I 2024-03-29 17:47:17,855] Trial 79 finished with value: -0.14564838259309879 and parameters: {'alpha': 0.0051645661009093865, 'l1_ratio': 0.14237265354884876}. Best is trial 11 with value: -0.1456076380513845.\n",
      "[I 2024-03-29 17:47:17,881] Trial 80 finished with value: -0.14563698190013388 and parameters: {'alpha': 0.007060328445751699, 'l1_ratio': 0.07124090880618518}. Best is trial 11 with value: -0.1456076380513845.\n",
      "[I 2024-03-29 17:47:17,910] Trial 81 finished with value: -0.1456189407971141 and parameters: {'alpha': 0.01323185534233685, 'l1_ratio': 0.03170953869464832}. Best is trial 11 with value: -0.1456076380513845.\n",
      "[I 2024-03-29 17:47:17,938] Trial 82 finished with value: -0.14562132503894595 and parameters: {'alpha': 0.011057943765516397, 'l1_ratio': 0.027806374587805018}. Best is trial 11 with value: -0.1456076380513845.\n",
      "[I 2024-03-29 17:47:17,962] Trial 83 finished with value: -0.14560925763799176 and parameters: {'alpha': 0.02084067265569954, 'l1_ratio': 0.02246782362171333}. Best is trial 11 with value: -0.1456076380513845.\n",
      "[I 2024-03-29 17:47:17,987] Trial 84 finished with value: -0.1457685715305798 and parameters: {'alpha': 0.029137516872662857, 'l1_ratio': 0.10764618460605871}. Best is trial 11 with value: -0.1456076380513845.\n",
      "[I 2024-03-29 17:47:18,012] Trial 85 finished with value: -0.14564349225960846 and parameters: {'alpha': 0.0502794872934163, 'l1_ratio': 0.007946217810759791}. Best is trial 11 with value: -0.1456076380513845.\n",
      "[I 2024-03-29 17:47:18,038] Trial 86 finished with value: -0.14559445360677828 and parameters: {'alpha': 0.02234429189010219, 'l1_ratio': 0.0008196351660356878}. Best is trial 86 with value: -0.14559445360677828.\n",
      "[I 2024-03-29 17:47:18,062] Trial 87 finished with value: -0.14567355507728683 and parameters: {'alpha': 0.022226957445150866, 'l1_ratio': 0.08523223609630506}. Best is trial 86 with value: -0.14559445360677828.\n",
      "[I 2024-03-29 17:47:18,087] Trial 88 finished with value: -0.14559637863783823 and parameters: {'alpha': 0.034569759487809305, 'l1_ratio': 0.002261158021136086}. Best is trial 86 with value: -0.14559445360677828.\n",
      "[I 2024-03-29 17:47:18,112] Trial 89 finished with value: -0.1614575827532608 and parameters: {'alpha': 0.12580908710554475, 'l1_ratio': 0.6089572497417318}. Best is trial 86 with value: -0.14559445360677828.\n",
      "[I 2024-03-29 17:47:18,137] Trial 90 finished with value: -0.14560832835958587 and parameters: {'alpha': 0.04411720324870419, 'l1_ratio': 0.00014615901015770788}. Best is trial 86 with value: -0.14559445360677828.\n",
      "[I 2024-03-29 17:47:18,159] Trial 91 finished with value: -0.14559552400231507 and parameters: {'alpha': 0.031776329841488926, 'l1_ratio': 0.0034930299846202134}. Best is trial 86 with value: -0.14559445360677828.\n",
      "[I 2024-03-29 17:47:18,185] Trial 92 finished with value: -0.145751382344669 and parameters: {'alpha': 0.07729543375327037, 'l1_ratio': 0.0011961198105458022}. Best is trial 86 with value: -0.14559445360677828.\n",
      "[I 2024-03-29 17:47:18,209] Trial 93 finished with value: -0.14576144863883003 and parameters: {'alpha': 0.04083034283564407, 'l1_ratio': 0.0654451889279054}. Best is trial 86 with value: -0.14559445360677828.\n",
      "[I 2024-03-29 17:47:18,232] Trial 94 finished with value: -0.14559428191926763 and parameters: {'alpha': 0.03464407049364767, 'l1_ratio': 0.0005474774221137652}. Best is trial 94 with value: -0.14559428191926763.\n",
      "[I 2024-03-29 17:47:18,255] Trial 95 finished with value: -0.14559576148906014 and parameters: {'alpha': 0.03408128469924871, 'l1_ratio': 0.0021417962030460327}. Best is trial 94 with value: -0.14559428191926763.\n",
      "[I 2024-03-29 17:47:18,278] Trial 96 finished with value: -0.14588418883129867 and parameters: {'alpha': 0.054054421059790914, 'l1_ratio': 0.06361928679149437}. Best is trial 94 with value: -0.14559428191926763.\n",
      "[I 2024-03-29 17:47:18,303] Trial 97 finished with value: -0.14559125492541458 and parameters: {'alpha': 0.03008789150626589, 'l1_ratio': 0.00015142623052836817}. Best is trial 97 with value: -0.14559125492541458.\n",
      "[I 2024-03-29 17:47:18,330] Trial 98 finished with value: -0.1455940416316351 and parameters: {'alpha': 0.03313947822710611, 'l1_ratio': 0.0013720182506209468}. Best is trial 97 with value: -0.14559125492541458.\n",
      "[I 2024-03-29 17:47:18,355] Trial 99 finished with value: -0.1455945437211737 and parameters: {'alpha': 0.0339455318023761, 'l1_ratio': 0.001255337154761443}. Best is trial 97 with value: -0.14559125492541458.\n"
     ]
    },
    {
     "data": {
      "text/plain": "Pipeline(steps=[('standardscaler', StandardScaler()),\n                ('elasticnet',\n                 ElasticNet(alpha=0.03008789150626589,\n                            l1_ratio=0.00015142623052836817,\n                            random_state=42))])",
      "text/html": "<style>#sk-container-id-10 {color: black;}#sk-container-id-10 pre{padding: 0;}#sk-container-id-10 div.sk-toggleable {background-color: white;}#sk-container-id-10 label.sk-toggleable__label {cursor: pointer;display: block;width: 100%;margin-bottom: 0;padding: 0.3em;box-sizing: border-box;text-align: center;}#sk-container-id-10 label.sk-toggleable__label-arrow:before {content: \"▸\";float: left;margin-right: 0.25em;color: #696969;}#sk-container-id-10 label.sk-toggleable__label-arrow:hover:before {color: black;}#sk-container-id-10 div.sk-estimator:hover label.sk-toggleable__label-arrow:before {color: black;}#sk-container-id-10 div.sk-toggleable__content {max-height: 0;max-width: 0;overflow: hidden;text-align: left;background-color: #f0f8ff;}#sk-container-id-10 div.sk-toggleable__content pre {margin: 0.2em;color: black;border-radius: 0.25em;background-color: #f0f8ff;}#sk-container-id-10 input.sk-toggleable__control:checked~div.sk-toggleable__content {max-height: 200px;max-width: 100%;overflow: auto;}#sk-container-id-10 input.sk-toggleable__control:checked~label.sk-toggleable__label-arrow:before {content: \"▾\";}#sk-container-id-10 div.sk-estimator input.sk-toggleable__control:checked~label.sk-toggleable__label {background-color: #d4ebff;}#sk-container-id-10 div.sk-label input.sk-toggleable__control:checked~label.sk-toggleable__label {background-color: #d4ebff;}#sk-container-id-10 input.sk-hidden--visually {border: 0;clip: rect(1px 1px 1px 1px);clip: rect(1px, 1px, 1px, 1px);height: 1px;margin: -1px;overflow: hidden;padding: 0;position: absolute;width: 1px;}#sk-container-id-10 div.sk-estimator {font-family: monospace;background-color: #f0f8ff;border: 1px dotted black;border-radius: 0.25em;box-sizing: border-box;margin-bottom: 0.5em;}#sk-container-id-10 div.sk-estimator:hover {background-color: #d4ebff;}#sk-container-id-10 div.sk-parallel-item::after {content: \"\";width: 100%;border-bottom: 1px solid gray;flex-grow: 1;}#sk-container-id-10 div.sk-label:hover label.sk-toggleable__label {background-color: #d4ebff;}#sk-container-id-10 div.sk-serial::before {content: \"\";position: absolute;border-left: 1px solid gray;box-sizing: border-box;top: 0;bottom: 0;left: 50%;z-index: 0;}#sk-container-id-10 div.sk-serial {display: flex;flex-direction: column;align-items: center;background-color: white;padding-right: 0.2em;padding-left: 0.2em;position: relative;}#sk-container-id-10 div.sk-item {position: relative;z-index: 1;}#sk-container-id-10 div.sk-parallel {display: flex;align-items: stretch;justify-content: center;background-color: white;position: relative;}#sk-container-id-10 div.sk-item::before, #sk-container-id-10 div.sk-parallel-item::before {content: \"\";position: absolute;border-left: 1px solid gray;box-sizing: border-box;top: 0;bottom: 0;left: 50%;z-index: -1;}#sk-container-id-10 div.sk-parallel-item {display: flex;flex-direction: column;z-index: 1;position: relative;background-color: white;}#sk-container-id-10 div.sk-parallel-item:first-child::after {align-self: flex-end;width: 50%;}#sk-container-id-10 div.sk-parallel-item:last-child::after {align-self: flex-start;width: 50%;}#sk-container-id-10 div.sk-parallel-item:only-child::after {width: 0;}#sk-container-id-10 div.sk-dashed-wrapped {border: 1px dashed gray;margin: 0 0.4em 0.5em 0.4em;box-sizing: border-box;padding-bottom: 0.4em;background-color: white;}#sk-container-id-10 div.sk-label label {font-family: monospace;font-weight: bold;display: inline-block;line-height: 1.2em;}#sk-container-id-10 div.sk-label-container {text-align: center;}#sk-container-id-10 div.sk-container {/* jupyter's `normalize.less` sets `[hidden] { display: none; }` but bootstrap.min.css set `[hidden] { display: none !important; }` so we also need the `!important` here to be able to override the default hidden behavior on the sphinx rendered scikit-learn.org. See: https://github.com/scikit-learn/scikit-learn/issues/21755 */display: inline-block !important;position: relative;}#sk-container-id-10 div.sk-text-repr-fallback {display: none;}</style><div id=\"sk-container-id-10\" class=\"sk-top-container\"><div class=\"sk-text-repr-fallback\"><pre>Pipeline(steps=[(&#x27;standardscaler&#x27;, StandardScaler()),\n                (&#x27;elasticnet&#x27;,\n                 ElasticNet(alpha=0.03008789150626589,\n                            l1_ratio=0.00015142623052836817,\n                            random_state=42))])</pre><b>In a Jupyter environment, please rerun this cell to show the HTML representation or trust the notebook. <br />On GitHub, the HTML representation is unable to render, please try loading this page with nbviewer.org.</b></div><div class=\"sk-container\" hidden><div class=\"sk-item sk-dashed-wrapped\"><div class=\"sk-label-container\"><div class=\"sk-label sk-toggleable\"><input class=\"sk-toggleable__control sk-hidden--visually\" id=\"sk-estimator-id-20\" type=\"checkbox\" ><label for=\"sk-estimator-id-20\" class=\"sk-toggleable__label sk-toggleable__label-arrow\">Pipeline</label><div class=\"sk-toggleable__content\"><pre>Pipeline(steps=[(&#x27;standardscaler&#x27;, StandardScaler()),\n                (&#x27;elasticnet&#x27;,\n                 ElasticNet(alpha=0.03008789150626589,\n                            l1_ratio=0.00015142623052836817,\n                            random_state=42))])</pre></div></div></div><div class=\"sk-serial\"><div class=\"sk-item\"><div class=\"sk-estimator sk-toggleable\"><input class=\"sk-toggleable__control sk-hidden--visually\" id=\"sk-estimator-id-21\" type=\"checkbox\" ><label for=\"sk-estimator-id-21\" class=\"sk-toggleable__label sk-toggleable__label-arrow\">StandardScaler</label><div class=\"sk-toggleable__content\"><pre>StandardScaler()</pre></div></div></div><div class=\"sk-item\"><div class=\"sk-estimator sk-toggleable\"><input class=\"sk-toggleable__control sk-hidden--visually\" id=\"sk-estimator-id-22\" type=\"checkbox\" ><label for=\"sk-estimator-id-22\" class=\"sk-toggleable__label sk-toggleable__label-arrow\">ElasticNet</label><div class=\"sk-toggleable__content\"><pre>ElasticNet(alpha=0.03008789150626589, l1_ratio=0.00015142623052836817,\n           random_state=42)</pre></div></div></div></div></div></div></div>"
     },
     "execution_count": 183,
     "metadata": {},
     "output_type": "execute_result"
    }
   ],
   "source": [
    "\n",
    "study = opt.create_study(direction='maximize')\n",
    "study.optimize(objective, n_trials=100)\n",
    "best_params = study.best_trial.params\n",
    "elastic_net = make_pipeline(StandardScaler(), ElasticNet(alpha=best_params['alpha'], l1_ratio=best_params['l1_ratio'], random_state=42))\n",
    "elastic_net.fit(X_train, y_train)"
   ],
   "metadata": {
    "collapsed": false,
    "ExecuteTime": {
     "end_time": "2024-03-29T16:47:18.365176Z",
     "start_time": "2024-03-29T16:47:15.884183Z"
    }
   },
   "id": "3cf11096427707ee",
   "execution_count": 183
  },
  {
   "cell_type": "code",
   "outputs": [
    {
     "name": "stdout",
     "output_type": "stream",
     "text": [
      "Sex                0.235407\n",
      "Fare_Per_Person    0.071353\n",
      "Age*Class          0.065092\n",
      "Deck               0.059221\n",
      "IsAlone            0.040615\n",
      "Embarked           0.030198\n",
      "Title              0.022545\n",
      "dtype: float64\n"
     ]
    }
   ],
   "source": [
    "feature_importance = elastic_net.named_steps['elasticnet'].coef_\n",
    "\n",
    "feature_names = X_train.columns\n",
    "importance_series = pd.Series(feature_importance, index=feature_names)\n",
    "sorted_features = importance_series.abs().sort_values(ascending=False)\n",
    "print(sorted_features)"
   ],
   "metadata": {
    "collapsed": false,
    "ExecuteTime": {
     "end_time": "2024-03-29T16:47:18.369806Z",
     "start_time": "2024-03-29T16:47:18.365176Z"
    }
   },
   "id": "c951c26be4db24dc",
   "execution_count": 184
  },
  {
   "cell_type": "markdown",
   "source": [
    "## RandomForestClassifier"
   ],
   "metadata": {
    "collapsed": false
   },
   "id": "ab53aa8a3a177d5b"
  },
  {
   "cell_type": "code",
   "outputs": [],
   "source": [
    "from sklearn.ensemble import RandomForestClassifier\n",
    "\n",
    "\n",
    "def objective(trial):\n",
    "    param = {\n",
    "        'n_estimators': trial.suggest_int('n_estimators', 100, 1000),\n",
    "        'max_depth': trial.suggest_int('max_depth', 2, 32),\n",
    "        'min_samples_split': trial.suggest_int('min_samples_split', 2, 10),\n",
    "        'min_samples_leaf': trial.suggest_int('min_samples_leaf', 1, 10),\n",
    "        'max_features': trial.suggest_categorical('max_features', ['sqrt', 'log2', None]),\n",
    "        'bootstrap': trial.suggest_categorical('bootstrap', [True, False]),\n",
    "    }\n",
    "\n",
    "    model = RandomForestClassifier(**param, random_state=random_id)\n",
    "    \n",
    "    cv = StratifiedKFold(n_splits=5)\n",
    "    scores = cross_val_score(model, X_train, y_train, cv=cv, scoring='accuracy')\n",
    "    \n",
    "    return scores.mean()"
   ],
   "metadata": {
    "collapsed": false,
    "ExecuteTime": {
     "end_time": "2024-03-29T16:47:18.377574Z",
     "start_time": "2024-03-29T16:47:18.370821Z"
    }
   },
   "id": "d02c3644b61de1a1",
   "execution_count": 185
  },
  {
   "cell_type": "code",
   "outputs": [
    {
     "name": "stderr",
     "output_type": "stream",
     "text": [
      "[I 2024-03-29 17:47:18,382] A new study created in memory with name: no-name-e3f1e075-54d0-4180-8705-804bb9b57dfe\n",
      "[I 2024-03-29 17:47:19,498] Trial 0 finished with value: 0.8356446370530877 and parameters: {'n_estimators': 178, 'max_depth': 29, 'min_samples_split': 10, 'min_samples_leaf': 6, 'max_features': 'sqrt', 'bootstrap': False}. Best is trial 0 with value: 0.8356446370530877.\n",
      "[I 2024-03-29 17:47:20,733] Trial 1 finished with value: 0.8286220821432089 and parameters: {'n_estimators': 274, 'max_depth': 28, 'min_samples_split': 10, 'min_samples_leaf': 8, 'max_features': 'sqrt', 'bootstrap': False}. Best is trial 0 with value: 0.8356446370530877.\n",
      "[I 2024-03-29 17:47:21,544] Trial 2 finished with value: 0.8019698611247907 and parameters: {'n_estimators': 182, 'max_depth': 2, 'min_samples_split': 3, 'min_samples_leaf': 2, 'max_features': 'sqrt', 'bootstrap': True}. Best is trial 0 with value: 0.8356446370530877.\n",
      "[I 2024-03-29 17:47:22,323] Trial 3 finished with value: 0.8300403821530583 and parameters: {'n_estimators': 177, 'max_depth': 15, 'min_samples_split': 5, 'min_samples_leaf': 9, 'max_features': 'log2', 'bootstrap': False}. Best is trial 0 with value: 0.8356446370530877.\n",
      "[I 2024-03-29 17:47:27,713] Trial 4 finished with value: 0.8019403132079189 and parameters: {'n_estimators': 637, 'max_depth': 16, 'min_samples_split': 6, 'min_samples_leaf': 4, 'max_features': None, 'bootstrap': False}. Best is trial 0 with value: 0.8356446370530877.\n",
      "[I 2024-03-29 17:47:28,241] Trial 5 finished with value: 0.8342460356544864 and parameters: {'n_estimators': 100, 'max_depth': 10, 'min_samples_split': 9, 'min_samples_leaf': 5, 'max_features': 'sqrt', 'bootstrap': True}. Best is trial 0 with value: 0.8356446370530877.\n",
      "[I 2024-03-29 17:47:29,143] Trial 6 finished with value: 0.8244164286417808 and parameters: {'n_estimators': 123, 'max_depth': 7, 'min_samples_split': 9, 'min_samples_leaf': 4, 'max_features': None, 'bootstrap': True}. Best is trial 0 with value: 0.8356446370530877.\n",
      "[I 2024-03-29 17:47:32,612] Trial 7 finished with value: 0.8314389835516597 and parameters: {'n_estimators': 666, 'max_depth': 27, 'min_samples_split': 7, 'min_samples_leaf': 5, 'max_features': 'log2', 'bootstrap': True}. Best is trial 0 with value: 0.8356446370530877.\n",
      "[I 2024-03-29 17:47:37,724] Trial 8 finished with value: 0.8370530877573131 and parameters: {'n_estimators': 958, 'max_depth': 23, 'min_samples_split': 10, 'min_samples_leaf': 3, 'max_features': 'sqrt', 'bootstrap': True}. Best is trial 8 with value: 0.8370530877573131.\n",
      "[I 2024-03-29 17:47:42,831] Trial 9 finished with value: 0.8202107751403526 and parameters: {'n_estimators': 745, 'max_depth': 7, 'min_samples_split': 7, 'min_samples_leaf': 6, 'max_features': None, 'bootstrap': True}. Best is trial 8 with value: 0.8370530877573131.\n",
      "[I 2024-03-29 17:47:48,931] Trial 10 finished with value: 0.8089628681177977 and parameters: {'n_estimators': 998, 'max_depth': 32, 'min_samples_split': 2, 'min_samples_leaf': 1, 'max_features': 'sqrt', 'bootstrap': True}. Best is trial 8 with value: 0.8370530877573131.\n",
      "[I 2024-03-29 17:47:50,473] Trial 11 finished with value: 0.8342361863488623 and parameters: {'n_estimators': 373, 'max_depth': 23, 'min_samples_split': 10, 'min_samples_leaf': 7, 'max_features': 'sqrt', 'bootstrap': False}. Best is trial 8 with value: 0.8370530877573131.\n",
      "[I 2024-03-29 17:47:54,902] Trial 12 finished with value: 0.832837584950261 and parameters: {'n_estimators': 953, 'max_depth': 22, 'min_samples_split': 8, 'min_samples_leaf': 3, 'max_features': 'sqrt', 'bootstrap': False}. Best is trial 8 with value: 0.8370530877573131.\n",
      "[I 2024-03-29 17:47:56,754] Trial 13 finished with value: 0.8342361863488623 and parameters: {'n_estimators': 443, 'max_depth': 23, 'min_samples_split': 10, 'min_samples_leaf': 7, 'max_features': 'sqrt', 'bootstrap': False}. Best is trial 8 with value: 0.8370530877573131.\n",
      "[I 2024-03-29 17:48:00,638] Trial 14 finished with value: 0.8258248793460062 and parameters: {'n_estimators': 862, 'max_depth': 32, 'min_samples_split': 8, 'min_samples_leaf': 10, 'max_features': 'sqrt', 'bootstrap': True}. Best is trial 8 with value: 0.8370530877573131.\n",
      "[I 2024-03-29 17:48:02,987] Trial 15 finished with value: 0.8398798384713878 and parameters: {'n_estimators': 496, 'max_depth': 27, 'min_samples_split': 4, 'min_samples_leaf': 3, 'max_features': 'log2', 'bootstrap': False}. Best is trial 15 with value: 0.8398798384713878.\n",
      "[I 2024-03-29 17:48:05,853] Trial 16 finished with value: 0.8188121737417513 and parameters: {'n_estimators': 510, 'max_depth': 18, 'min_samples_split': 4, 'min_samples_leaf': 1, 'max_features': 'log2', 'bootstrap': False}. Best is trial 15 with value: 0.8398798384713878.\n",
      "[I 2024-03-29 17:48:09,947] Trial 17 finished with value: 0.8398699891657639 and parameters: {'n_estimators': 781, 'max_depth': 20, 'min_samples_split': 4, 'min_samples_leaf': 3, 'max_features': 'log2', 'bootstrap': True}. Best is trial 15 with value: 0.8398798384713878.\n",
      "[I 2024-03-29 17:48:13,352] Trial 18 finished with value: 0.8384713877671626 and parameters: {'n_estimators': 724, 'max_depth': 19, 'min_samples_split': 4, 'min_samples_leaf': 3, 'max_features': 'log2', 'bootstrap': False}. Best is trial 15 with value: 0.8398798384713878.\n",
      "[I 2024-03-29 17:48:16,492] Trial 19 finished with value: 0.8356643356643356 and parameters: {'n_estimators': 570, 'max_depth': 14, 'min_samples_split': 2, 'min_samples_leaf': 2, 'max_features': 'log2', 'bootstrap': True}. Best is trial 15 with value: 0.8398798384713878.\n",
      "[I 2024-03-29 17:48:20,040] Trial 20 finished with value: 0.837062937062937 and parameters: {'n_estimators': 790, 'max_depth': 25, 'min_samples_split': 5, 'min_samples_leaf': 4, 'max_features': 'log2', 'bootstrap': False}. Best is trial 15 with value: 0.8398798384713878.\n",
      "[I 2024-03-29 17:48:23,582] Trial 21 finished with value: 0.8384713877671626 and parameters: {'n_estimators': 740, 'max_depth': 19, 'min_samples_split': 4, 'min_samples_leaf': 3, 'max_features': 'log2', 'bootstrap': False}. Best is trial 15 with value: 0.8398798384713878.\n",
      "[I 2024-03-29 17:48:27,970] Trial 22 finished with value: 0.8286319314488327 and parameters: {'n_estimators': 852, 'max_depth': 19, 'min_samples_split': 4, 'min_samples_leaf': 2, 'max_features': 'log2', 'bootstrap': False}. Best is trial 15 with value: 0.8398798384713878.\n",
      "[I 2024-03-29 17:48:30,833] Trial 23 finished with value: 0.8398798384713878 and parameters: {'n_estimators': 618, 'max_depth': 12, 'min_samples_split': 3, 'min_samples_leaf': 3, 'max_features': 'log2', 'bootstrap': False}. Best is trial 15 with value: 0.8398798384713878.\n",
      "[I 2024-03-29 17:48:33,334] Trial 24 finished with value: 0.837062937062937 and parameters: {'n_estimators': 567, 'max_depth': 11, 'min_samples_split': 3, 'min_samples_leaf': 4, 'max_features': 'log2', 'bootstrap': False}. Best is trial 15 with value: 0.8398798384713878.\n",
      "[I 2024-03-29 17:48:35,611] Trial 25 finished with value: 0.8398896877770117 and parameters: {'n_estimators': 453, 'max_depth': 12, 'min_samples_split': 3, 'min_samples_leaf': 2, 'max_features': 'log2', 'bootstrap': False}. Best is trial 25 with value: 0.8398896877770117.\n",
      "[I 2024-03-29 17:48:37,648] Trial 26 finished with value: 0.8314980793854033 and parameters: {'n_estimators': 383, 'max_depth': 12, 'min_samples_split': 3, 'min_samples_leaf': 1, 'max_features': 'log2', 'bootstrap': False}. Best is trial 25 with value: 0.8398896877770117.\n",
      "[I 2024-03-29 17:48:39,681] Trial 27 finished with value: 0.8384615384615385 and parameters: {'n_estimators': 472, 'max_depth': 7, 'min_samples_split': 2, 'min_samples_leaf': 2, 'max_features': 'log2', 'bootstrap': False}. Best is trial 25 with value: 0.8398896877770117.\n",
      "[I 2024-03-29 17:48:41,240] Trial 28 finished with value: 0.8356544863587118 and parameters: {'n_estimators': 359, 'max_depth': 13, 'min_samples_split': 5, 'min_samples_leaf': 5, 'max_features': 'log2', 'bootstrap': False}. Best is trial 25 with value: 0.8398896877770117.\n",
      "[I 2024-03-29 17:48:45,513] Trial 29 finished with value: 0.8019107652910471 and parameters: {'n_estimators': 611, 'max_depth': 9, 'min_samples_split': 3, 'min_samples_leaf': 6, 'max_features': None, 'bootstrap': False}. Best is trial 25 with value: 0.8398896877770117.\n"
     ]
    },
    {
     "name": "stdout",
     "output_type": "stream",
     "text": [
      "Number of finished trials: 30\n",
      "Best trial: {'n_estimators': 453, 'max_depth': 12, 'min_samples_split': 3, 'min_samples_leaf': 2, 'max_features': 'log2', 'bootstrap': False}\n",
      "Best trial accuracy: 0.8398896877770117\n"
     ]
    }
   ],
   "source": [
    "study = opt.create_study(direction='maximize')\n",
    "study.optimize(objective, n_trials=30)\n",
    "\n",
    "print('Number of finished trials:', len(study.trials))\n",
    "print('Best trial:', study.best_trial.params)\n",
    "print(f\"Best trial accuracy: {study.best_trial.value}\")"
   ],
   "metadata": {
    "collapsed": false,
    "ExecuteTime": {
     "end_time": "2024-03-29T16:48:45.518430Z",
     "start_time": "2024-03-29T16:47:18.378589Z"
    }
   },
   "id": "fccad4eff8bb9ae0",
   "execution_count": 186
  },
  {
   "cell_type": "code",
   "outputs": [
    {
     "name": "stdout",
     "output_type": "stream",
     "text": [
      "Accuracy: 0.77\n"
     ]
    }
   ],
   "source": [
    "randomForest_classifier = RandomForestClassifier()\n",
    "randomForest_classifier.set_params(**study.best_trial.params)\n",
    "randomForest_classifier.fit(X_train, y_train)\n",
    "y_pred = randomForest_classifier.predict(X_test)\n",
    "accuracy = accuracy_score(y_test, y_pred)\n",
    "print(f\"Accuracy: {accuracy:.2f}\")"
   ],
   "metadata": {
    "collapsed": false,
    "ExecuteTime": {
     "end_time": "2024-03-29T16:48:46.031861Z",
     "start_time": "2024-03-29T16:48:45.518430Z"
    }
   },
   "id": "84b77e0028fc4bb6",
   "execution_count": 187
  },
  {
   "cell_type": "markdown",
   "source": [
    "### Compare accuracy to supposed real data"
   ],
   "metadata": {
    "collapsed": false
   },
   "id": "d4d68d989c272924"
  },
  {
   "cell_type": "code",
   "outputs": [
    {
     "name": "stdout",
     "output_type": "stream",
     "text": [
      "Accuracy Score: 0.7713567839195979\n"
     ]
    }
   ],
   "source": [
    "submission_test = randomForest_classifier.predict(to_test)\n",
    "submission_test = pd.Series(submission_test, to_test.index, name='Survived')\n",
    "actual_data = pd.read_csv(\"test_results.csv\",index_col=\"PassengerId\")\n",
    "merged_df = pd.merge(actual_data, submission_test, on='PassengerId', suffixes=('_df1', '_df2'))\n",
    "# Step 3: Calculate accuracy score\n",
    "accuracy = accuracy_score(merged_df['survived'], merged_df['Survived'])\n",
    "\n",
    "print(f\"Accuracy Score: {accuracy}\")\n"
   ],
   "metadata": {
    "collapsed": false,
    "ExecuteTime": {
     "end_time": "2024-03-29T16:48:46.078829Z",
     "start_time": "2024-03-29T16:48:46.032866Z"
    }
   },
   "id": "badeaa27c8fc319",
   "execution_count": 188
  },
  {
   "cell_type": "code",
   "outputs": [],
   "source": [
    "#submission_test.to_csv(\"submission_test_randomForest_3.csv\")"
   ],
   "metadata": {
    "collapsed": false,
    "ExecuteTime": {
     "end_time": "2024-03-29T16:48:46.082002Z",
     "start_time": "2024-03-29T16:48:46.078829Z"
    }
   },
   "id": "e74ba0a6e6158ca1",
   "execution_count": 189
  },
  {
   "cell_type": "code",
   "outputs": [
    {
     "data": {
      "text/plain": "Index(['Embarked', 'Deck', 'Title', 'Sex', 'IsAlone', 'Age*Class',\n       'Fare_Per_Person'],\n      dtype='object')"
     },
     "execution_count": 190,
     "metadata": {},
     "output_type": "execute_result"
    }
   ],
   "source": [
    "to_test.columns"
   ],
   "metadata": {
    "collapsed": false,
    "ExecuteTime": {
     "end_time": "2024-03-29T16:48:46.090602Z",
     "start_time": "2024-03-29T16:48:46.082002Z"
    }
   },
   "id": "e8981de8b11c6fa0",
   "execution_count": 190
  },
  {
   "cell_type": "markdown",
   "source": [
    "### Try out ensemble of different models"
   ],
   "metadata": {
    "collapsed": false
   },
   "id": "ffe8585aed01223e"
  },
  {
   "cell_type": "code",
   "outputs": [
    {
     "data": {
      "text/plain": "StackingClassifier(cv=10,\n                   estimators=[('rf',\n                                RandomForestClassifier(bootstrap=False,\n                                                       max_depth=12,\n                                                       max_features='log2',\n                                                       min_samples_leaf=2,\n                                                       min_samples_split=3,\n                                                       n_estimators=453)),\n                               ('xgb',\n                                XGBClassifier(base_score=None, booster=None,\n                                              callbacks=None,\n                                              colsample_bylevel=None,\n                                              colsample_bynode=None,\n                                              colsample_bytree=0.7607500096031349,\n                                              early_stopping_rounds=None,\n                                              enab...\n                                              interaction_constraints=None,\n                                              learning_rate=0.13254605068607073,\n                                              max_bin=None,\n                                              max_cat_threshold=None,\n                                              max_cat_to_onehot=None,\n                                              max_delta_step=None, max_depth=6,\n                                              max_leaves=None,\n                                              min_child_weight=2, missing=nan,\n                                              monotone_constraints=None,\n                                              n_estimators=453, n_jobs=None,\n                                              num_parallel_tree=None,\n                                              predictor=None, random_state=None, ...))],\n                   final_estimator=LogisticRegression())",
      "text/html": "<style>#sk-container-id-11 {color: black;}#sk-container-id-11 pre{padding: 0;}#sk-container-id-11 div.sk-toggleable {background-color: white;}#sk-container-id-11 label.sk-toggleable__label {cursor: pointer;display: block;width: 100%;margin-bottom: 0;padding: 0.3em;box-sizing: border-box;text-align: center;}#sk-container-id-11 label.sk-toggleable__label-arrow:before {content: \"▸\";float: left;margin-right: 0.25em;color: #696969;}#sk-container-id-11 label.sk-toggleable__label-arrow:hover:before {color: black;}#sk-container-id-11 div.sk-estimator:hover label.sk-toggleable__label-arrow:before {color: black;}#sk-container-id-11 div.sk-toggleable__content {max-height: 0;max-width: 0;overflow: hidden;text-align: left;background-color: #f0f8ff;}#sk-container-id-11 div.sk-toggleable__content pre {margin: 0.2em;color: black;border-radius: 0.25em;background-color: #f0f8ff;}#sk-container-id-11 input.sk-toggleable__control:checked~div.sk-toggleable__content {max-height: 200px;max-width: 100%;overflow: auto;}#sk-container-id-11 input.sk-toggleable__control:checked~label.sk-toggleable__label-arrow:before {content: \"▾\";}#sk-container-id-11 div.sk-estimator input.sk-toggleable__control:checked~label.sk-toggleable__label {background-color: #d4ebff;}#sk-container-id-11 div.sk-label input.sk-toggleable__control:checked~label.sk-toggleable__label {background-color: #d4ebff;}#sk-container-id-11 input.sk-hidden--visually {border: 0;clip: rect(1px 1px 1px 1px);clip: rect(1px, 1px, 1px, 1px);height: 1px;margin: -1px;overflow: hidden;padding: 0;position: absolute;width: 1px;}#sk-container-id-11 div.sk-estimator {font-family: monospace;background-color: #f0f8ff;border: 1px dotted black;border-radius: 0.25em;box-sizing: border-box;margin-bottom: 0.5em;}#sk-container-id-11 div.sk-estimator:hover {background-color: #d4ebff;}#sk-container-id-11 div.sk-parallel-item::after {content: \"\";width: 100%;border-bottom: 1px solid gray;flex-grow: 1;}#sk-container-id-11 div.sk-label:hover label.sk-toggleable__label {background-color: #d4ebff;}#sk-container-id-11 div.sk-serial::before {content: \"\";position: absolute;border-left: 1px solid gray;box-sizing: border-box;top: 0;bottom: 0;left: 50%;z-index: 0;}#sk-container-id-11 div.sk-serial {display: flex;flex-direction: column;align-items: center;background-color: white;padding-right: 0.2em;padding-left: 0.2em;position: relative;}#sk-container-id-11 div.sk-item {position: relative;z-index: 1;}#sk-container-id-11 div.sk-parallel {display: flex;align-items: stretch;justify-content: center;background-color: white;position: relative;}#sk-container-id-11 div.sk-item::before, #sk-container-id-11 div.sk-parallel-item::before {content: \"\";position: absolute;border-left: 1px solid gray;box-sizing: border-box;top: 0;bottom: 0;left: 50%;z-index: -1;}#sk-container-id-11 div.sk-parallel-item {display: flex;flex-direction: column;z-index: 1;position: relative;background-color: white;}#sk-container-id-11 div.sk-parallel-item:first-child::after {align-self: flex-end;width: 50%;}#sk-container-id-11 div.sk-parallel-item:last-child::after {align-self: flex-start;width: 50%;}#sk-container-id-11 div.sk-parallel-item:only-child::after {width: 0;}#sk-container-id-11 div.sk-dashed-wrapped {border: 1px dashed gray;margin: 0 0.4em 0.5em 0.4em;box-sizing: border-box;padding-bottom: 0.4em;background-color: white;}#sk-container-id-11 div.sk-label label {font-family: monospace;font-weight: bold;display: inline-block;line-height: 1.2em;}#sk-container-id-11 div.sk-label-container {text-align: center;}#sk-container-id-11 div.sk-container {/* jupyter's `normalize.less` sets `[hidden] { display: none; }` but bootstrap.min.css set `[hidden] { display: none !important; }` so we also need the `!important` here to be able to override the default hidden behavior on the sphinx rendered scikit-learn.org. See: https://github.com/scikit-learn/scikit-learn/issues/21755 */display: inline-block !important;position: relative;}#sk-container-id-11 div.sk-text-repr-fallback {display: none;}</style><div id=\"sk-container-id-11\" class=\"sk-top-container\"><div class=\"sk-text-repr-fallback\"><pre>StackingClassifier(cv=10,\n                   estimators=[(&#x27;rf&#x27;,\n                                RandomForestClassifier(bootstrap=False,\n                                                       max_depth=12,\n                                                       max_features=&#x27;log2&#x27;,\n                                                       min_samples_leaf=2,\n                                                       min_samples_split=3,\n                                                       n_estimators=453)),\n                               (&#x27;xgb&#x27;,\n                                XGBClassifier(base_score=None, booster=None,\n                                              callbacks=None,\n                                              colsample_bylevel=None,\n                                              colsample_bynode=None,\n                                              colsample_bytree=0.7607500096031349,\n                                              early_stopping_rounds=None,\n                                              enab...\n                                              interaction_constraints=None,\n                                              learning_rate=0.13254605068607073,\n                                              max_bin=None,\n                                              max_cat_threshold=None,\n                                              max_cat_to_onehot=None,\n                                              max_delta_step=None, max_depth=6,\n                                              max_leaves=None,\n                                              min_child_weight=2, missing=nan,\n                                              monotone_constraints=None,\n                                              n_estimators=453, n_jobs=None,\n                                              num_parallel_tree=None,\n                                              predictor=None, random_state=None, ...))],\n                   final_estimator=LogisticRegression())</pre><b>In a Jupyter environment, please rerun this cell to show the HTML representation or trust the notebook. <br />On GitHub, the HTML representation is unable to render, please try loading this page with nbviewer.org.</b></div><div class=\"sk-container\" hidden><div class=\"sk-item sk-dashed-wrapped\"><div class=\"sk-label-container\"><div class=\"sk-label sk-toggleable\"><input class=\"sk-toggleable__control sk-hidden--visually\" id=\"sk-estimator-id-23\" type=\"checkbox\" ><label for=\"sk-estimator-id-23\" class=\"sk-toggleable__label sk-toggleable__label-arrow\">StackingClassifier</label><div class=\"sk-toggleable__content\"><pre>StackingClassifier(cv=10,\n                   estimators=[(&#x27;rf&#x27;,\n                                RandomForestClassifier(bootstrap=False,\n                                                       max_depth=12,\n                                                       max_features=&#x27;log2&#x27;,\n                                                       min_samples_leaf=2,\n                                                       min_samples_split=3,\n                                                       n_estimators=453)),\n                               (&#x27;xgb&#x27;,\n                                XGBClassifier(base_score=None, booster=None,\n                                              callbacks=None,\n                                              colsample_bylevel=None,\n                                              colsample_bynode=None,\n                                              colsample_bytree=0.7607500096031349,\n                                              early_stopping_rounds=None,\n                                              enab...\n                                              interaction_constraints=None,\n                                              learning_rate=0.13254605068607073,\n                                              max_bin=None,\n                                              max_cat_threshold=None,\n                                              max_cat_to_onehot=None,\n                                              max_delta_step=None, max_depth=6,\n                                              max_leaves=None,\n                                              min_child_weight=2, missing=nan,\n                                              monotone_constraints=None,\n                                              n_estimators=453, n_jobs=None,\n                                              num_parallel_tree=None,\n                                              predictor=None, random_state=None, ...))],\n                   final_estimator=LogisticRegression())</pre></div></div></div><div class=\"sk-serial\"><div class=\"sk-item\"><div class=\"sk-parallel\"><div class=\"sk-parallel-item\"><div class=\"sk-item\"><div class=\"sk-label-container\"><div class=\"sk-label sk-toggleable\"><label>rf</label></div></div><div class=\"sk-serial\"><div class=\"sk-item\"><div class=\"sk-estimator sk-toggleable\"><input class=\"sk-toggleable__control sk-hidden--visually\" id=\"sk-estimator-id-24\" type=\"checkbox\" ><label for=\"sk-estimator-id-24\" class=\"sk-toggleable__label sk-toggleable__label-arrow\">RandomForestClassifier</label><div class=\"sk-toggleable__content\"><pre>RandomForestClassifier(bootstrap=False, max_depth=12, max_features=&#x27;log2&#x27;,\n                       min_samples_leaf=2, min_samples_split=3,\n                       n_estimators=453)</pre></div></div></div></div></div></div><div class=\"sk-parallel-item\"><div class=\"sk-item\"><div class=\"sk-label-container\"><div class=\"sk-label sk-toggleable\"><label>xgb</label></div></div><div class=\"sk-serial\"><div class=\"sk-item\"><div class=\"sk-estimator sk-toggleable\"><input class=\"sk-toggleable__control sk-hidden--visually\" id=\"sk-estimator-id-25\" type=\"checkbox\" ><label for=\"sk-estimator-id-25\" class=\"sk-toggleable__label sk-toggleable__label-arrow\">XGBClassifier</label><div class=\"sk-toggleable__content\"><pre>XGBClassifier(base_score=None, booster=None, callbacks=None,\n              colsample_bylevel=None, colsample_bynode=None,\n              colsample_bytree=0.7607500096031349, early_stopping_rounds=None,\n              enable_categorical=False, eval_metric=None, feature_types=None,\n              gamma=2.8011214600518834, gpu_id=None, grow_policy=None,\n              importance_type=None, interaction_constraints=None,\n              learning_rate=0.13254605068607073, max_bin=None,\n              max_cat_threshold=None, max_cat_to_onehot=None,\n              max_delta_step=None, max_depth=6, max_leaves=None,\n              min_child_weight=2, missing=nan, monotone_constraints=None,\n              n_estimators=453, n_jobs=None, num_parallel_tree=None,\n              predictor=None, random_state=None, ...)</pre></div></div></div></div></div></div></div></div><div class=\"sk-item\"><div class=\"sk-parallel\"><div class=\"sk-parallel-item\"><div class=\"sk-item\"><div class=\"sk-label-container\"><div class=\"sk-label sk-toggleable\"><label>final_estimator</label></div></div><div class=\"sk-serial\"><div class=\"sk-item\"><div class=\"sk-estimator sk-toggleable\"><input class=\"sk-toggleable__control sk-hidden--visually\" id=\"sk-estimator-id-26\" type=\"checkbox\" ><label for=\"sk-estimator-id-26\" class=\"sk-toggleable__label sk-toggleable__label-arrow\">LogisticRegression</label><div class=\"sk-toggleable__content\"><pre>LogisticRegression()</pre></div></div></div></div></div></div></div></div></div></div></div></div>"
     },
     "execution_count": 191,
     "metadata": {},
     "output_type": "execute_result"
    }
   ],
   "source": [
    "stacking_clf = StackingClassifier(\n",
    "    estimators=[('rf', randomForest_classifier), ('xgb', xgb_classifier)],\n",
    "    final_estimator=LogisticRegression(),\n",
    "    stack_method='auto',\n",
    "    cv=10\n",
    ")\n",
    "stacking_clf.fit(X_train, y_train)"
   ],
   "metadata": {
    "collapsed": false,
    "ExecuteTime": {
     "end_time": "2024-03-29T16:48:53.507596Z",
     "start_time": "2024-03-29T16:48:46.091606Z"
    }
   },
   "id": "b332eaaf2aca8bdf",
   "execution_count": 191
  },
  {
   "cell_type": "code",
   "outputs": [
    {
     "name": "stdout",
     "output_type": "stream",
     "text": [
      "Accuracy: 0.7877094972067039\n"
     ]
    }
   ],
   "source": [
    "accuracy = stacking_clf.score(X_test, y_test)\n",
    "print(f\"Accuracy: {accuracy}\")"
   ],
   "metadata": {
    "collapsed": false,
    "ExecuteTime": {
     "end_time": "2024-03-29T16:48:53.546570Z",
     "start_time": "2024-03-29T16:48:53.507596Z"
    }
   },
   "id": "cedc6f3b2896f431",
   "execution_count": 192
  },
  {
   "cell_type": "code",
   "outputs": [
    {
     "name": "stdout",
     "output_type": "stream",
     "text": [
      "Accuracy Score: 0.7839195979899497\n"
     ]
    }
   ],
   "source": [
    "submission_test = stacking_clf.predict(to_test)\n",
    "submission_test = pd.Series(submission_test, to_test.index, name='Survived')\n",
    "actual_data = pd.read_csv(\"test_results.csv\",index_col=\"PassengerId\")\n",
    "merged_df = pd.merge(actual_data, submission_test, on='PassengerId')\n",
    "# Step 3: Calculate accuracy score\n",
    "accuracy = accuracy_score(merged_df['survived'], merged_df['Survived'])\n",
    "\n",
    "print(f\"Accuracy Score: {accuracy}\")"
   ],
   "metadata": {
    "collapsed": false,
    "ExecuteTime": {
     "end_time": "2024-03-29T16:48:53.647917Z",
     "start_time": "2024-03-29T16:48:53.547575Z"
    }
   },
   "id": "559b8bf7ff1638fa",
   "execution_count": 193
  },
  {
   "cell_type": "code",
   "outputs": [],
   "source": [
    "#submission_test.to_csv(\"submission_test_ensemble.csv\")"
   ],
   "metadata": {
    "collapsed": false,
    "ExecuteTime": {
     "end_time": "2024-03-29T16:48:53.652061Z",
     "start_time": "2024-03-29T16:48:53.648922Z"
    }
   },
   "id": "8a4e9481e3a6d088",
   "execution_count": 194
  },
  {
   "cell_type": "code",
   "outputs": [
    {
     "data": {
      "text/plain": "['Embarked', 'Deck', 'Title', 'Sex', 'IsAlone', 'Age*Class', 'Fare_Per_Person']"
     },
     "execution_count": 195,
     "metadata": {},
     "output_type": "execute_result"
    }
   ],
   "source": [
    "X_train.columns.to_list()"
   ],
   "metadata": {
    "collapsed": false,
    "ExecuteTime": {
     "end_time": "2024-03-29T16:48:53.671578Z",
     "start_time": "2024-03-29T16:48:53.653068Z"
    }
   },
   "id": "5f04c7bf43c6a782",
   "execution_count": 195
  },
  {
   "cell_type": "code",
   "outputs": [
    {
     "name": "stderr",
     "output_type": "stream",
     "text": [
      "[I 2024-03-29 17:48:53,677] A new study created in memory with name: no-name-2d1cbd56-7f5f-433d-8367-ad28659bc801\n",
      "[I 2024-03-29 17:48:55,829] Trial 0 finished with value: 0.7907908992416034 and parameters: {'C': 6.047542751248833, 'kernel': 'linear', 'gamma': 'auto'}. Best is trial 0 with value: 0.7907908992416034.\n",
      "[I 2024-03-29 17:48:55,950] Trial 1 finished with value: 0.6362257460849011 and parameters: {'C': 3.9721665076353294, 'kernel': 'rbf', 'gamma': 'auto'}. Best is trial 0 with value: 0.7907908992416034.\n",
      "[I 2024-03-29 17:48:56,015] Trial 2 finished with value: 0.7176499556781246 and parameters: {'C': 8.517594097081481, 'kernel': 'rbf', 'gamma': 'scale'}. Best is trial 0 with value: 0.7907908992416034.\n",
      "[I 2024-03-29 17:48:56,131] Trial 3 finished with value: 0.6362257460849011 and parameters: {'C': 2.832362891184249, 'kernel': 'rbf', 'gamma': 'auto'}. Best is trial 0 with value: 0.7907908992416034.\n",
      "[I 2024-03-29 17:48:56,196] Trial 4 finished with value: 0.71905840638235 and parameters: {'C': 8.84885227748494, 'kernel': 'rbf', 'gamma': 'scale'}. Best is trial 0 with value: 0.7907908992416034.\n",
      "[I 2024-03-29 17:48:58,139] Trial 5 finished with value: 0.7907908992416034 and parameters: {'C': 5.777015327197151, 'kernel': 'linear', 'gamma': 'auto'}. Best is trial 0 with value: 0.7907908992416034.\n",
      "[I 2024-03-29 17:48:59,817] Trial 6 finished with value: 0.7907908992416034 and parameters: {'C': 5.054789811995995, 'kernel': 'linear', 'gamma': 'auto'}. Best is trial 0 with value: 0.7907908992416034.\n",
      "[I 2024-03-29 17:48:59,931] Trial 7 finished with value: 0.6362257460849011 and parameters: {'C': 7.7987776388776116, 'kernel': 'rbf', 'gamma': 'auto'}. Best is trial 0 with value: 0.7907908992416034.\n",
      "[I 2024-03-29 17:48:59,995] Trial 8 finished with value: 0.7092386486752684 and parameters: {'C': 2.765945178912705, 'kernel': 'rbf', 'gamma': 'scale'}. Best is trial 0 with value: 0.7907908992416034.\n",
      "[I 2024-03-29 17:49:00,059] Trial 9 finished with value: 0.71905840638235 and parameters: {'C': 8.949070859525074, 'kernel': 'rbf', 'gamma': 'scale'}. Best is trial 0 with value: 0.7907908992416034.\n",
      "[I 2024-03-29 17:49:00,298] Trial 10 finished with value: 0.7907908992416034 and parameters: {'C': 0.4413669432366776, 'kernel': 'linear', 'gamma': 'auto'}. Best is trial 0 with value: 0.7907908992416034.\n",
      "[I 2024-03-29 17:49:02,337] Trial 11 finished with value: 0.7907908992416034 and parameters: {'C': 6.044308694492983, 'kernel': 'linear', 'gamma': 'auto'}. Best is trial 0 with value: 0.7907908992416034.\n",
      "[I 2024-03-29 17:49:04,513] Trial 12 finished with value: 0.7907908992416034 and parameters: {'C': 6.4712865668924415, 'kernel': 'linear', 'gamma': 'auto'}. Best is trial 0 with value: 0.7907908992416034.\n",
      "[I 2024-03-29 17:49:06,816] Trial 13 finished with value: 0.7907908992416034 and parameters: {'C': 6.692897422027016, 'kernel': 'linear', 'gamma': 'auto'}. Best is trial 0 with value: 0.7907908992416034.\n",
      "[I 2024-03-29 17:49:08,455] Trial 14 finished with value: 0.7907908992416034 and parameters: {'C': 4.630803011198167, 'kernel': 'linear', 'gamma': 'auto'}. Best is trial 0 with value: 0.7907908992416034.\n",
      "[I 2024-03-29 17:49:10,981] Trial 15 finished with value: 0.7907908992416034 and parameters: {'C': 7.520817745035602, 'kernel': 'linear', 'gamma': 'auto'}. Best is trial 0 with value: 0.7907908992416034.\n",
      "[I 2024-03-29 17:49:12,803] Trial 16 finished with value: 0.7907908992416034 and parameters: {'C': 5.444515360987165, 'kernel': 'linear', 'gamma': 'auto'}. Best is trial 0 with value: 0.7907908992416034.\n",
      "[I 2024-03-29 17:49:13,979] Trial 17 finished with value: 0.7907908992416034 and parameters: {'C': 3.449187462393283, 'kernel': 'linear', 'gamma': 'auto'}. Best is trial 0 with value: 0.7907908992416034.\n",
      "[I 2024-03-29 17:49:14,641] Trial 18 finished with value: 0.7907908992416034 and parameters: {'C': 1.5976389797207875, 'kernel': 'linear', 'gamma': 'scale'}. Best is trial 0 with value: 0.7907908992416034.\n",
      "[I 2024-03-29 17:49:17,839] Trial 19 finished with value: 0.7907908992416034 and parameters: {'C': 9.895698062253675, 'kernel': 'linear', 'gamma': 'auto'}. Best is trial 0 with value: 0.7907908992416034.\n",
      "[I 2024-03-29 17:49:20,293] Trial 20 finished with value: 0.7907908992416034 and parameters: {'C': 7.297435437205103, 'kernel': 'linear', 'gamma': 'auto'}. Best is trial 0 with value: 0.7907908992416034.\n",
      "[I 2024-03-29 17:49:22,095] Trial 21 finished with value: 0.7907908992416034 and parameters: {'C': 4.97585167409698, 'kernel': 'linear', 'gamma': 'auto'}. Best is trial 0 with value: 0.7907908992416034.\n",
      "[I 2024-03-29 17:49:24,001] Trial 22 finished with value: 0.7907908992416034 and parameters: {'C': 5.620881912176072, 'kernel': 'linear', 'gamma': 'auto'}. Best is trial 0 with value: 0.7907908992416034.\n",
      "[I 2024-03-29 17:49:25,657] Trial 23 finished with value: 0.7907908992416034 and parameters: {'C': 4.639488305815864, 'kernel': 'linear', 'gamma': 'auto'}. Best is trial 0 with value: 0.7907908992416034.\n",
      "[I 2024-03-29 17:49:27,083] Trial 24 finished with value: 0.7907908992416034 and parameters: {'C': 4.162182020513518, 'kernel': 'linear', 'gamma': 'auto'}. Best is trial 0 with value: 0.7907908992416034.\n",
      "[I 2024-03-29 17:49:29,195] Trial 25 finished with value: 0.7907908992416034 and parameters: {'C': 6.132202488909559, 'kernel': 'linear', 'gamma': 'auto'}. Best is trial 0 with value: 0.7907908992416034.\n",
      "[I 2024-03-29 17:49:31,538] Trial 26 finished with value: 0.7907908992416034 and parameters: {'C': 6.912075244181109, 'kernel': 'linear', 'gamma': 'scale'}. Best is trial 0 with value: 0.7907908992416034.\n",
      "[I 2024-03-29 17:49:33,425] Trial 27 finished with value: 0.7907908992416034 and parameters: {'C': 5.507149758671274, 'kernel': 'linear', 'gamma': 'auto'}. Best is trial 0 with value: 0.7907908992416034.\n",
      "[I 2024-03-29 17:49:34,676] Trial 28 finished with value: 0.7907908992416034 and parameters: {'C': 3.508399273400027, 'kernel': 'linear', 'gamma': 'auto'}. Best is trial 0 with value: 0.7907908992416034.\n",
      "[I 2024-03-29 17:49:36,081] Trial 29 finished with value: 0.7907908992416034 and parameters: {'C': 4.039313517819904, 'kernel': 'linear', 'gamma': 'auto'}. Best is trial 0 with value: 0.7907908992416034.\n",
      "[I 2024-03-29 17:49:38,737] Trial 30 finished with value: 0.7907908992416034 and parameters: {'C': 8.068214113479486, 'kernel': 'linear', 'gamma': 'auto'}. Best is trial 0 with value: 0.7907908992416034.\n",
      "[I 2024-03-29 17:49:38,960] Trial 31 finished with value: 0.7907908992416034 and parameters: {'C': 0.37395661557633253, 'kernel': 'linear', 'gamma': 'auto'}. Best is trial 0 with value: 0.7907908992416034.\n",
      "[I 2024-03-29 17:49:39,787] Trial 32 finished with value: 0.7907908992416034 and parameters: {'C': 2.123275208654915, 'kernel': 'linear', 'gamma': 'auto'}. Best is trial 0 with value: 0.7907908992416034.\n",
      "[I 2024-03-29 17:49:40,325] Trial 33 finished with value: 0.7907908992416034 and parameters: {'C': 1.1953228589728027, 'kernel': 'linear', 'gamma': 'auto'}. Best is trial 0 with value: 0.7907908992416034.\n",
      "[I 2024-03-29 17:49:40,397] Trial 34 finished with value: 0.7176499556781247 and parameters: {'C': 5.95732352568922, 'kernel': 'rbf', 'gamma': 'scale'}. Best is trial 0 with value: 0.7907908992416034.\n",
      "[I 2024-03-29 17:49:40,515] Trial 35 finished with value: 0.6362257460849011 and parameters: {'C': 4.6649028775086885, 'kernel': 'rbf', 'gamma': 'auto'}. Best is trial 0 with value: 0.7907908992416034.\n",
      "[I 2024-03-29 17:49:40,658] Trial 36 finished with value: 0.7907908992416034 and parameters: {'C': 0.15549725413365778, 'kernel': 'linear', 'gamma': 'auto'}. Best is trial 0 with value: 0.7907908992416034.\n",
      "[I 2024-03-29 17:49:40,729] Trial 37 finished with value: 0.7106372500738697 and parameters: {'C': 3.0662188870541467, 'kernel': 'rbf', 'gamma': 'scale'}. Best is trial 0 with value: 0.7907908992416034.\n",
      "[I 2024-03-29 17:49:42,497] Trial 38 finished with value: 0.7907908992416034 and parameters: {'C': 5.2799872810391575, 'kernel': 'linear', 'gamma': 'auto'}. Best is trial 0 with value: 0.7907908992416034.\n",
      "[I 2024-03-29 17:49:42,615] Trial 39 finished with value: 0.6390426474933517 and parameters: {'C': 2.2887159991925587, 'kernel': 'rbf', 'gamma': 'auto'}. Best is trial 0 with value: 0.7907908992416034.\n",
      "[I 2024-03-29 17:49:45,428] Trial 40 finished with value: 0.7907908992416034 and parameters: {'C': 8.488063129994671, 'kernel': 'linear', 'gamma': 'scale'}. Best is trial 0 with value: 0.7907908992416034.\n",
      "[I 2024-03-29 17:49:47,489] Trial 41 finished with value: 0.7907908992416034 and parameters: {'C': 6.192161291239729, 'kernel': 'linear', 'gamma': 'auto'}. Best is trial 0 with value: 0.7907908992416034.\n",
      "[I 2024-03-29 17:49:49,797] Trial 42 finished with value: 0.7907908992416034 and parameters: {'C': 6.95028788208999, 'kernel': 'linear', 'gamma': 'auto'}. Best is trial 0 with value: 0.7907908992416034.\n",
      "[I 2024-03-29 17:49:51,862] Trial 43 finished with value: 0.7907908992416034 and parameters: {'C': 5.969161431969465, 'kernel': 'linear', 'gamma': 'auto'}. Best is trial 0 with value: 0.7907908992416034.\n",
      "[I 2024-03-29 17:49:54,098] Trial 44 finished with value: 0.7907908992416034 and parameters: {'C': 6.522272099807096, 'kernel': 'linear', 'gamma': 'auto'}. Best is trial 0 with value: 0.7907908992416034.\n",
      "[I 2024-03-29 17:49:55,795] Trial 45 finished with value: 0.7907908992416034 and parameters: {'C': 5.0241285920269725, 'kernel': 'linear', 'gamma': 'auto'}. Best is trial 0 with value: 0.7907908992416034.\n",
      "[I 2024-03-29 17:49:58,049] Trial 46 finished with value: 0.7907908992416034 and parameters: {'C': 7.142236735567986, 'kernel': 'linear', 'gamma': 'auto'}. Best is trial 0 with value: 0.7907908992416034.\n",
      "[I 2024-03-29 17:49:58,172] Trial 47 finished with value: 0.6362257460849011 and parameters: {'C': 4.230766801269392, 'kernel': 'rbf', 'gamma': 'auto'}. Best is trial 0 with value: 0.7907908992416034.\n",
      "[I 2024-03-29 17:50:00,696] Trial 48 finished with value: 0.7907908992416034 and parameters: {'C': 7.7587284887061125, 'kernel': 'linear', 'gamma': 'auto'}. Best is trial 0 with value: 0.7907908992416034.\n",
      "[I 2024-03-29 17:50:02,034] Trial 49 finished with value: 0.7907908992416034 and parameters: {'C': 3.7081366191359404, 'kernel': 'linear', 'gamma': 'scale'}. Best is trial 0 with value: 0.7907908992416034.\n"
     ]
    },
    {
     "data": {
      "text/plain": "SVC(C=6.047542751248833, gamma='auto', kernel='linear', random_state=17)",
      "text/html": "<style>#sk-container-id-12 {color: black;}#sk-container-id-12 pre{padding: 0;}#sk-container-id-12 div.sk-toggleable {background-color: white;}#sk-container-id-12 label.sk-toggleable__label {cursor: pointer;display: block;width: 100%;margin-bottom: 0;padding: 0.3em;box-sizing: border-box;text-align: center;}#sk-container-id-12 label.sk-toggleable__label-arrow:before {content: \"▸\";float: left;margin-right: 0.25em;color: #696969;}#sk-container-id-12 label.sk-toggleable__label-arrow:hover:before {color: black;}#sk-container-id-12 div.sk-estimator:hover label.sk-toggleable__label-arrow:before {color: black;}#sk-container-id-12 div.sk-toggleable__content {max-height: 0;max-width: 0;overflow: hidden;text-align: left;background-color: #f0f8ff;}#sk-container-id-12 div.sk-toggleable__content pre {margin: 0.2em;color: black;border-radius: 0.25em;background-color: #f0f8ff;}#sk-container-id-12 input.sk-toggleable__control:checked~div.sk-toggleable__content {max-height: 200px;max-width: 100%;overflow: auto;}#sk-container-id-12 input.sk-toggleable__control:checked~label.sk-toggleable__label-arrow:before {content: \"▾\";}#sk-container-id-12 div.sk-estimator input.sk-toggleable__control:checked~label.sk-toggleable__label {background-color: #d4ebff;}#sk-container-id-12 div.sk-label input.sk-toggleable__control:checked~label.sk-toggleable__label {background-color: #d4ebff;}#sk-container-id-12 input.sk-hidden--visually {border: 0;clip: rect(1px 1px 1px 1px);clip: rect(1px, 1px, 1px, 1px);height: 1px;margin: -1px;overflow: hidden;padding: 0;position: absolute;width: 1px;}#sk-container-id-12 div.sk-estimator {font-family: monospace;background-color: #f0f8ff;border: 1px dotted black;border-radius: 0.25em;box-sizing: border-box;margin-bottom: 0.5em;}#sk-container-id-12 div.sk-estimator:hover {background-color: #d4ebff;}#sk-container-id-12 div.sk-parallel-item::after {content: \"\";width: 100%;border-bottom: 1px solid gray;flex-grow: 1;}#sk-container-id-12 div.sk-label:hover label.sk-toggleable__label {background-color: #d4ebff;}#sk-container-id-12 div.sk-serial::before {content: \"\";position: absolute;border-left: 1px solid gray;box-sizing: border-box;top: 0;bottom: 0;left: 50%;z-index: 0;}#sk-container-id-12 div.sk-serial {display: flex;flex-direction: column;align-items: center;background-color: white;padding-right: 0.2em;padding-left: 0.2em;position: relative;}#sk-container-id-12 div.sk-item {position: relative;z-index: 1;}#sk-container-id-12 div.sk-parallel {display: flex;align-items: stretch;justify-content: center;background-color: white;position: relative;}#sk-container-id-12 div.sk-item::before, #sk-container-id-12 div.sk-parallel-item::before {content: \"\";position: absolute;border-left: 1px solid gray;box-sizing: border-box;top: 0;bottom: 0;left: 50%;z-index: -1;}#sk-container-id-12 div.sk-parallel-item {display: flex;flex-direction: column;z-index: 1;position: relative;background-color: white;}#sk-container-id-12 div.sk-parallel-item:first-child::after {align-self: flex-end;width: 50%;}#sk-container-id-12 div.sk-parallel-item:last-child::after {align-self: flex-start;width: 50%;}#sk-container-id-12 div.sk-parallel-item:only-child::after {width: 0;}#sk-container-id-12 div.sk-dashed-wrapped {border: 1px dashed gray;margin: 0 0.4em 0.5em 0.4em;box-sizing: border-box;padding-bottom: 0.4em;background-color: white;}#sk-container-id-12 div.sk-label label {font-family: monospace;font-weight: bold;display: inline-block;line-height: 1.2em;}#sk-container-id-12 div.sk-label-container {text-align: center;}#sk-container-id-12 div.sk-container {/* jupyter's `normalize.less` sets `[hidden] { display: none; }` but bootstrap.min.css set `[hidden] { display: none !important; }` so we also need the `!important` here to be able to override the default hidden behavior on the sphinx rendered scikit-learn.org. See: https://github.com/scikit-learn/scikit-learn/issues/21755 */display: inline-block !important;position: relative;}#sk-container-id-12 div.sk-text-repr-fallback {display: none;}</style><div id=\"sk-container-id-12\" class=\"sk-top-container\"><div class=\"sk-text-repr-fallback\"><pre>SVC(C=6.047542751248833, gamma=&#x27;auto&#x27;, kernel=&#x27;linear&#x27;, random_state=17)</pre><b>In a Jupyter environment, please rerun this cell to show the HTML representation or trust the notebook. <br />On GitHub, the HTML representation is unable to render, please try loading this page with nbviewer.org.</b></div><div class=\"sk-container\" hidden><div class=\"sk-item\"><div class=\"sk-estimator sk-toggleable\"><input class=\"sk-toggleable__control sk-hidden--visually\" id=\"sk-estimator-id-27\" type=\"checkbox\" checked><label for=\"sk-estimator-id-27\" class=\"sk-toggleable__label sk-toggleable__label-arrow\">SVC</label><div class=\"sk-toggleable__content\"><pre>SVC(C=6.047542751248833, gamma=&#x27;auto&#x27;, kernel=&#x27;linear&#x27;, random_state=17)</pre></div></div></div></div></div>"
     },
     "execution_count": 196,
     "metadata": {},
     "output_type": "execute_result"
    }
   ],
   "source": [
    "def objective(trial):\n",
    "    # SVM hyperparameters to tune\n",
    "    param = {\n",
    "        'C': trial.suggest_float('C', 0.1, 10.0),\n",
    "        'kernel': trial.suggest_categorical('kernel', ['linear', 'rbf']),  # Consider excluding 'poly' for speed\n",
    "        'gamma': trial.suggest_categorical('gamma', ['scale', 'auto']),  # 'auto' uses 1 / n_features\n",
    "        # Commenting out degree and coef0 to speed up the process\n",
    "        # 'degree': trial.suggest_int('degree', 1, 3),  # Higher degrees can be very slow\n",
    "        # 'coef0': trial.suggest_float('coef0', 0.0, 1.0),\n",
    "    }\n",
    "\n",
    "    model = SVC(**param, random_state=random_id)\n",
    "    \n",
    "    cv = StratifiedKFold(n_splits=5)\n",
    "    scores = cross_val_score(model, X_train, y_train, cv=cv, scoring='accuracy')\n",
    "    \n",
    "    return scores.mean()\n",
    " \n",
    "study = opt.create_study(direction='maximize')\n",
    "study.optimize(objective, n_trials=50)\n",
    "\n",
    "best_params = study.best_trial.params\n",
    "svm_classifier = SVC(**best_params, random_state=random_id)\n",
    "svm_classifier.fit(X_train, y_train)"
   ],
   "metadata": {
    "collapsed": false,
    "ExecuteTime": {
     "end_time": "2024-03-29T16:50:02.624735Z",
     "start_time": "2024-03-29T16:48:53.672583Z"
    }
   },
   "id": "2d669c9d64942554",
   "execution_count": 196
  },
  {
   "cell_type": "code",
   "outputs": [],
   "source": [
    "\n",
    "# Initialize the StackingClassifier\n",
    "stacking_clf = StackingClassifier(\n",
    "    estimators=[\n",
    "        ('xgb', xgb_classifier), \n",
    "        ('svm', svm_classifier)\n",
    "    ],\n",
    "    final_estimator=LogisticRegression(),\n",
    "    cv=5\n",
    ")\n",
    "\n",
    "# Fit the StackingClassifier\n",
    "stacking_clf.fit(X_train, y_train)\n",
    "\n",
    "# Evaluate the model using appropriate metrics like F1 score or ROC AUC\n",
    "from sklearn.metrics import f1_score, roc_auc_score\n",
    "\n",
    "# Assuming you have a validation set to evaluate your model\n",
    "y_pred = stacking_clf.predict(X_test)\n",
    "y_pred_proba = stacking_clf.predict_proba(X_test)[:, 1]  # Assuming binary classification: [0, 1]\n",
    "\n",
    "# Calculate F1 score and ROC AUC\n",
    "f1 = f1_score(y_test, y_pred)\n",
    "roc_auc = roc_auc_score(y_test, y_pred_proba)"
   ],
   "metadata": {
    "collapsed": false,
    "ExecuteTime": {
     "end_time": "2024-03-29T16:50:06.647812Z",
     "start_time": "2024-03-29T16:50:02.626740Z"
    }
   },
   "id": "ae6b860f29d32c56",
   "execution_count": 197
  },
  {
   "cell_type": "code",
   "outputs": [
    {
     "data": {
      "text/plain": "0.712121212121212"
     },
     "execution_count": 198,
     "metadata": {},
     "output_type": "execute_result"
    }
   ],
   "source": [
    "f1"
   ],
   "metadata": {
    "collapsed": false,
    "ExecuteTime": {
     "end_time": "2024-03-29T16:50:06.653098Z",
     "start_time": "2024-03-29T16:50:06.648816Z"
    }
   },
   "id": "8d86f522afb1f615",
   "execution_count": 198
  },
  {
   "cell_type": "code",
   "outputs": [
    {
     "data": {
      "text/plain": "0.8250193848539674"
     },
     "execution_count": 199,
     "metadata": {},
     "output_type": "execute_result"
    }
   ],
   "source": [
    "roc_auc"
   ],
   "metadata": {
    "collapsed": false,
    "ExecuteTime": {
     "end_time": "2024-03-29T16:50:06.670641Z",
     "start_time": "2024-03-29T16:50:06.654101Z"
    }
   },
   "id": "aa0570dc43980fdd",
   "execution_count": 199
  },
  {
   "cell_type": "code",
   "outputs": [
    {
     "data": {
      "text/plain": "0.7877094972067039"
     },
     "execution_count": 200,
     "metadata": {},
     "output_type": "execute_result"
    }
   ],
   "source": [
    "accuracy_score(y_test, y_pred)"
   ],
   "metadata": {
    "collapsed": false,
    "ExecuteTime": {
     "end_time": "2024-03-29T16:50:06.679628Z",
     "start_time": "2024-03-29T16:50:06.671645Z"
    }
   },
   "id": "79190fe2639412a6",
   "execution_count": 200
  },
  {
   "cell_type": "code",
   "outputs": [
    {
     "name": "stdout",
     "output_type": "stream",
     "text": [
      "Accuracy Score: 0.7738693467336684\n"
     ]
    }
   ],
   "source": [
    "submission_test = stacking_clf.predict(to_test)\n",
    "submission_test = pd.Series(submission_test, to_test.index, name='Survived')\n",
    "actual_data = pd.read_csv(\"test_results.csv\",index_col=\"PassengerId\")\n",
    "merged_df = pd.merge(actual_data, submission_test, on='PassengerId')\n",
    "# Step 3: Calculate accuracy score\n",
    "accuracy = accuracy_score(merged_df['survived'], merged_df['Survived'])\n",
    "\n",
    "print(f\"Accuracy Score: {accuracy}\")\n"
   ],
   "metadata": {
    "collapsed": false,
    "ExecuteTime": {
     "end_time": "2024-03-29T16:50:06.698952Z",
     "start_time": "2024-03-29T16:50:06.680632Z"
    }
   },
   "id": "f2aaad3f2c7a6ac2",
   "execution_count": 201
  },
  {
   "cell_type": "code",
   "outputs": [],
   "source": [],
   "metadata": {
    "collapsed": false,
    "ExecuteTime": {
     "end_time": "2024-03-29T16:50:06.702314Z",
     "start_time": "2024-03-29T16:50:06.699955Z"
    }
   },
   "id": "a5af3ab80d8df46a",
   "execution_count": 201
  }
 ],
 "metadata": {
  "kernelspec": {
   "display_name": "Python 3",
   "language": "python",
   "name": "python3"
  },
  "language_info": {
   "codemirror_mode": {
    "name": "ipython",
    "version": 2
   },
   "file_extension": ".py",
   "mimetype": "text/x-python",
   "name": "python",
   "nbconvert_exporter": "python",
   "pygments_lexer": "ipython2",
   "version": "2.7.6"
  }
 },
 "nbformat": 4,
 "nbformat_minor": 5
}
