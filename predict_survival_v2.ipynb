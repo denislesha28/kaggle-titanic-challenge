{
 "cells": [
  {
   "cell_type": "code",
   "execution_count": 1276,
   "id": "initial_id",
   "metadata": {
    "collapsed": true,
    "ExecuteTime": {
     "end_time": "2024-03-31T22:20:55.525429Z",
     "start_time": "2024-03-31T22:20:55.522078Z"
    }
   },
   "outputs": [],
   "source": [
    "import catboost\n",
    "import numpy as np\n",
    "import pandas as pd\n",
    "from catboost import CatBoostClassifier\n",
    "from sklearn.impute import SimpleImputer, IterativeImputer\n",
    "from sklearn.metrics import accuracy_score\n",
    "from sklearn.model_selection import train_test_split, StratifiedKFold, GridSearchCV\n",
    "from sklearn.preprocessing import StandardScaler"
   ]
  },
  {
   "cell_type": "code",
   "outputs": [],
   "source": [
    "random_id = 17 #ai23m017 - 17 is the id\n",
    "random_state = np.random.RandomState(random_id)"
   ],
   "metadata": {
    "collapsed": false,
    "ExecuteTime": {
     "end_time": "2024-03-31T22:20:55.781638Z",
     "start_time": "2024-03-31T22:20:55.778142Z"
    }
   },
   "id": "7a3058f4998f7b86",
   "execution_count": 1277
  },
  {
   "cell_type": "code",
   "outputs": [
    {
     "data": {
      "text/plain": "   PassengerId  Survived  Pclass  \\\n0            1         0       3   \n1            2         1       1   \n2            3         1       3   \n3            4         1       1   \n4            5         0       3   \n\n                                                Name   Age  SibSp  Parch  \\\n0                            Braund, Mr. Owen Harris  22.0      1      0   \n1  Cumings, Mrs. John Bradley (Florence Briggs Th...  38.0      1      0   \n2                             Heikkinen, Miss. Laina  26.0      0      0   \n3       Futrelle, Mrs. Jacques Heath (Lily May Peel)  35.0      1      0   \n4                           Allen, Mr. William Henry  35.0      0      0   \n\n             Ticket     Fare Cabin Embarked  \n0         A/5 21171   7.2500   NaN        S  \n1          PC 17599  71.2833   C85        C  \n2  STON/O2. 3101282   7.9250   NaN        S  \n3            113803  53.1000  C123        S  \n4            373450   8.0500   NaN        S  ",
      "text/html": "<div>\n<style scoped>\n    .dataframe tbody tr th:only-of-type {\n        vertical-align: middle;\n    }\n\n    .dataframe tbody tr th {\n        vertical-align: top;\n    }\n\n    .dataframe thead th {\n        text-align: right;\n    }\n</style>\n<table border=\"1\" class=\"dataframe\">\n  <thead>\n    <tr style=\"text-align: right;\">\n      <th></th>\n      <th>PassengerId</th>\n      <th>Survived</th>\n      <th>Pclass</th>\n      <th>Name</th>\n      <th>Age</th>\n      <th>SibSp</th>\n      <th>Parch</th>\n      <th>Ticket</th>\n      <th>Fare</th>\n      <th>Cabin</th>\n      <th>Embarked</th>\n    </tr>\n  </thead>\n  <tbody>\n    <tr>\n      <th>0</th>\n      <td>1</td>\n      <td>0</td>\n      <td>3</td>\n      <td>Braund, Mr. Owen Harris</td>\n      <td>22.0</td>\n      <td>1</td>\n      <td>0</td>\n      <td>A/5 21171</td>\n      <td>7.2500</td>\n      <td>NaN</td>\n      <td>S</td>\n    </tr>\n    <tr>\n      <th>1</th>\n      <td>2</td>\n      <td>1</td>\n      <td>1</td>\n      <td>Cumings, Mrs. John Bradley (Florence Briggs Th...</td>\n      <td>38.0</td>\n      <td>1</td>\n      <td>0</td>\n      <td>PC 17599</td>\n      <td>71.2833</td>\n      <td>C85</td>\n      <td>C</td>\n    </tr>\n    <tr>\n      <th>2</th>\n      <td>3</td>\n      <td>1</td>\n      <td>3</td>\n      <td>Heikkinen, Miss. Laina</td>\n      <td>26.0</td>\n      <td>0</td>\n      <td>0</td>\n      <td>STON/O2. 3101282</td>\n      <td>7.9250</td>\n      <td>NaN</td>\n      <td>S</td>\n    </tr>\n    <tr>\n      <th>3</th>\n      <td>4</td>\n      <td>1</td>\n      <td>1</td>\n      <td>Futrelle, Mrs. Jacques Heath (Lily May Peel)</td>\n      <td>35.0</td>\n      <td>1</td>\n      <td>0</td>\n      <td>113803</td>\n      <td>53.1000</td>\n      <td>C123</td>\n      <td>S</td>\n    </tr>\n    <tr>\n      <th>4</th>\n      <td>5</td>\n      <td>0</td>\n      <td>3</td>\n      <td>Allen, Mr. William Henry</td>\n      <td>35.0</td>\n      <td>0</td>\n      <td>0</td>\n      <td>373450</td>\n      <td>8.0500</td>\n      <td>NaN</td>\n      <td>S</td>\n    </tr>\n  </tbody>\n</table>\n</div>"
     },
     "execution_count": 1278,
     "metadata": {},
     "output_type": "execute_result"
    }
   ],
   "source": [
    "train_df = pd.read_csv('train.csv')\n",
    "test_df = pd.read_csv('test.csv')\n",
    "train_df.head()"
   ],
   "metadata": {
    "collapsed": false,
    "ExecuteTime": {
     "end_time": "2024-03-31T22:20:55.801502Z",
     "start_time": "2024-03-31T22:20:55.788152Z"
    }
   },
   "id": "1a4f31426a644de0",
   "execution_count": 1278
  },
  {
   "cell_type": "code",
   "outputs": [
    {
     "name": "stdout",
     "output_type": "stream",
     "text": [
      "<class 'pandas.core.frame.DataFrame'>\n",
      "RangeIndex: 1309 entries, 0 to 1308\n",
      "Data columns (total 9 columns):\n",
      " #   Column    Non-Null Count  Dtype  \n",
      "---  ------    --------------  -----  \n",
      " 0   Pclass    1309 non-null   int64  \n",
      " 1   Name      1309 non-null   object \n",
      " 2   Age       1046 non-null   float64\n",
      " 3   SibSp     1309 non-null   int64  \n",
      " 4   Parch     1309 non-null   int64  \n",
      " 5   Ticket    1309 non-null   object \n",
      " 6   Fare      1308 non-null   float64\n",
      " 7   Cabin     295 non-null    object \n",
      " 8   Embarked  1307 non-null   object \n",
      "dtypes: float64(2), int64(3), object(4)\n",
      "memory usage: 92.2+ KB\n"
     ]
    }
   ],
   "source": [
    "test_pass_id = test_df.pop('PassengerId')\n",
    "\n",
    "X_max_index = train_df.shape[0]\n",
    "y = train_df.Survived\n",
    "\n",
    "df = train_df.drop(['Survived', 'PassengerId'], axis=1)\n",
    "df = pd.concat([df, test_df], axis=0).reset_index(drop=True)\n",
    "\n",
    "df.info()"
   ],
   "metadata": {
    "collapsed": false,
    "ExecuteTime": {
     "end_time": "2024-03-31T22:20:55.810813Z",
     "start_time": "2024-03-31T22:20:55.802507Z"
    }
   },
   "id": "e55577f5286269eb",
   "execution_count": 1279
  },
  {
   "cell_type": "code",
   "outputs": [],
   "source": [
    "most_common_embarked = df['Embarked'].mode()[0]\n",
    "df['Embarked'] = df['Embarked'].fillna(most_common_embarked)"
   ],
   "metadata": {
    "collapsed": false,
    "ExecuteTime": {
     "end_time": "2024-03-31T22:20:55.815408Z",
     "start_time": "2024-03-31T22:20:55.811818Z"
    }
   },
   "id": "80ab73296bd7c1a0",
   "execution_count": 1280
  },
  {
   "cell_type": "code",
   "outputs": [],
   "source": [
    "np.random.randint(df['Age'].mean()-df['Age'].std(),df['Age'].mean() + df['Age'].std(),177)\n",
    "\n",
    "df_age = np.random.randint(df['Age'].mean()-df['Age'].std(),df['Age'].mean() + df['Age'].std(),177)\n",
    "df_age = df['Age'].mean()\n",
    "\n",
    "df.loc[df['Age'].isnull(), 'Age'] = df_age"
   ],
   "metadata": {
    "collapsed": false,
    "ExecuteTime": {
     "end_time": "2024-03-31T22:20:55.826977Z",
     "start_time": "2024-03-31T22:20:55.821953Z"
    }
   },
   "id": "47e3f12086c90286",
   "execution_count": 1281
  },
  {
   "cell_type": "code",
   "outputs": [],
   "source": [
    "df.loc[df.Fare.eq(0), 'Fare'] = np.nan"
   ],
   "metadata": {
    "collapsed": false,
    "ExecuteTime": {
     "end_time": "2024-03-31T22:20:55.838571Z",
     "start_time": "2024-03-31T22:20:55.835423Z"
    }
   },
   "id": "f9dad788039d566c",
   "execution_count": 1282
  },
  {
   "cell_type": "code",
   "outputs": [
    {
     "data": {
      "text/plain": "      Pclass                                               Name        Age  \\\n0          3                            Braund, Mr. Owen Harris  22.000000   \n1          1  Cumings, Mrs. John Bradley (Florence Briggs Th...  38.000000   \n2          3                             Heikkinen, Miss. Laina  26.000000   \n3          1       Futrelle, Mrs. Jacques Heath (Lily May Peel)  35.000000   \n4          3                           Allen, Mr. William Henry  35.000000   \n...      ...                                                ...        ...   \n1304       3                                 Spector, Mr. Woolf  29.881138   \n1305       1                       Oliva y Ocana, Dona. Fermina  39.000000   \n1306       3                       Saether, Mr. Simon Sivertsen  38.500000   \n1307       3                                Ware, Mr. Frederick  29.881138   \n1308       3                           Peter, Master. Michael J  29.881138   \n\n      SibSp  Parch              Ticket      Fare Cabin Embarked  \n0         1      0           A/5 21171    7.2500   NaN        S  \n1         1      0            PC 17599   71.2833   C85        C  \n2         0      0    STON/O2. 3101282    7.9250   NaN        S  \n3         1      0              113803   53.1000  C123        S  \n4         0      0              373450    8.0500   NaN        S  \n...     ...    ...                 ...       ...   ...      ...  \n1304      0      0           A.5. 3236    8.0500   NaN        S  \n1305      0      0            PC 17758  108.9000  C105        C  \n1306      0      0  SOTON/O.Q. 3101262    7.2500   NaN        S  \n1307      0      0              359309    8.0500   NaN        S  \n1308      1      1                2668   22.3583   NaN        C  \n\n[1309 rows x 9 columns]",
      "text/html": "<div>\n<style scoped>\n    .dataframe tbody tr th:only-of-type {\n        vertical-align: middle;\n    }\n\n    .dataframe tbody tr th {\n        vertical-align: top;\n    }\n\n    .dataframe thead th {\n        text-align: right;\n    }\n</style>\n<table border=\"1\" class=\"dataframe\">\n  <thead>\n    <tr style=\"text-align: right;\">\n      <th></th>\n      <th>Pclass</th>\n      <th>Name</th>\n      <th>Age</th>\n      <th>SibSp</th>\n      <th>Parch</th>\n      <th>Ticket</th>\n      <th>Fare</th>\n      <th>Cabin</th>\n      <th>Embarked</th>\n    </tr>\n  </thead>\n  <tbody>\n    <tr>\n      <th>0</th>\n      <td>3</td>\n      <td>Braund, Mr. Owen Harris</td>\n      <td>22.000000</td>\n      <td>1</td>\n      <td>0</td>\n      <td>A/5 21171</td>\n      <td>7.2500</td>\n      <td>NaN</td>\n      <td>S</td>\n    </tr>\n    <tr>\n      <th>1</th>\n      <td>1</td>\n      <td>Cumings, Mrs. John Bradley (Florence Briggs Th...</td>\n      <td>38.000000</td>\n      <td>1</td>\n      <td>0</td>\n      <td>PC 17599</td>\n      <td>71.2833</td>\n      <td>C85</td>\n      <td>C</td>\n    </tr>\n    <tr>\n      <th>2</th>\n      <td>3</td>\n      <td>Heikkinen, Miss. Laina</td>\n      <td>26.000000</td>\n      <td>0</td>\n      <td>0</td>\n      <td>STON/O2. 3101282</td>\n      <td>7.9250</td>\n      <td>NaN</td>\n      <td>S</td>\n    </tr>\n    <tr>\n      <th>3</th>\n      <td>1</td>\n      <td>Futrelle, Mrs. Jacques Heath (Lily May Peel)</td>\n      <td>35.000000</td>\n      <td>1</td>\n      <td>0</td>\n      <td>113803</td>\n      <td>53.1000</td>\n      <td>C123</td>\n      <td>S</td>\n    </tr>\n    <tr>\n      <th>4</th>\n      <td>3</td>\n      <td>Allen, Mr. William Henry</td>\n      <td>35.000000</td>\n      <td>0</td>\n      <td>0</td>\n      <td>373450</td>\n      <td>8.0500</td>\n      <td>NaN</td>\n      <td>S</td>\n    </tr>\n    <tr>\n      <th>...</th>\n      <td>...</td>\n      <td>...</td>\n      <td>...</td>\n      <td>...</td>\n      <td>...</td>\n      <td>...</td>\n      <td>...</td>\n      <td>...</td>\n      <td>...</td>\n    </tr>\n    <tr>\n      <th>1304</th>\n      <td>3</td>\n      <td>Spector, Mr. Woolf</td>\n      <td>29.881138</td>\n      <td>0</td>\n      <td>0</td>\n      <td>A.5. 3236</td>\n      <td>8.0500</td>\n      <td>NaN</td>\n      <td>S</td>\n    </tr>\n    <tr>\n      <th>1305</th>\n      <td>1</td>\n      <td>Oliva y Ocana, Dona. Fermina</td>\n      <td>39.000000</td>\n      <td>0</td>\n      <td>0</td>\n      <td>PC 17758</td>\n      <td>108.9000</td>\n      <td>C105</td>\n      <td>C</td>\n    </tr>\n    <tr>\n      <th>1306</th>\n      <td>3</td>\n      <td>Saether, Mr. Simon Sivertsen</td>\n      <td>38.500000</td>\n      <td>0</td>\n      <td>0</td>\n      <td>SOTON/O.Q. 3101262</td>\n      <td>7.2500</td>\n      <td>NaN</td>\n      <td>S</td>\n    </tr>\n    <tr>\n      <th>1307</th>\n      <td>3</td>\n      <td>Ware, Mr. Frederick</td>\n      <td>29.881138</td>\n      <td>0</td>\n      <td>0</td>\n      <td>359309</td>\n      <td>8.0500</td>\n      <td>NaN</td>\n      <td>S</td>\n    </tr>\n    <tr>\n      <th>1308</th>\n      <td>3</td>\n      <td>Peter, Master. Michael J</td>\n      <td>29.881138</td>\n      <td>1</td>\n      <td>1</td>\n      <td>2668</td>\n      <td>22.3583</td>\n      <td>NaN</td>\n      <td>C</td>\n    </tr>\n  </tbody>\n</table>\n<p>1309 rows × 9 columns</p>\n</div>"
     },
     "execution_count": 1283,
     "metadata": {},
     "output_type": "execute_result"
    }
   ],
   "source": [
    "df"
   ],
   "metadata": {
    "collapsed": false,
    "ExecuteTime": {
     "end_time": "2024-03-31T22:20:55.856357Z",
     "start_time": "2024-03-31T22:20:55.847576Z"
    }
   },
   "id": "1ed002246e2633c3",
   "execution_count": 1283
  },
  {
   "cell_type": "code",
   "outputs": [],
   "source": [
    "df['Lastname'] = df.Name.str.split(', ').str[0]"
   ],
   "metadata": {
    "collapsed": false,
    "ExecuteTime": {
     "end_time": "2024-03-31T22:20:55.886203Z",
     "start_time": "2024-03-31T22:20:55.881367Z"
    }
   },
   "id": "1dff2adc3d2b018a",
   "execution_count": 1284
  },
  {
   "cell_type": "code",
   "outputs": [],
   "source": [
    "df['Title'] = df.Name.str.split(', ').str[1]\n",
    "df['Title'] = df.Title.str.split('.').str[0]"
   ],
   "metadata": {
    "collapsed": false,
    "ExecuteTime": {
     "end_time": "2024-03-31T22:20:55.918143Z",
     "start_time": "2024-03-31T22:20:55.911789Z"
    }
   },
   "id": "6702b1f6a1d03636",
   "execution_count": 1285
  },
  {
   "cell_type": "code",
   "outputs": [
    {
     "data": {
      "text/plain": "Title\nMr              757\nMiss            260\nMrs             197\nMaster           61\nRev               8\nDr                8\nCol               4\nMlle              2\nMajor             2\nMs                2\nLady              1\nSir               1\nMme               1\nDon               1\nCapt              1\nthe Countess      1\nJonkheer          1\nDona              1\nName: count, dtype: int64"
     },
     "execution_count": 1286,
     "metadata": {},
     "output_type": "execute_result"
    }
   ],
   "source": [
    "df.Title.value_counts()"
   ],
   "metadata": {
    "collapsed": false,
    "ExecuteTime": {
     "end_time": "2024-03-31T22:20:55.968294Z",
     "start_time": "2024-03-31T22:20:55.962253Z"
    }
   },
   "id": "13e9460d93b283c8",
   "execution_count": 1286
  },
  {
   "cell_type": "markdown",
   "source": [
    "#### Similar titles are grouped into fewer titles"
   ],
   "metadata": {
    "collapsed": false
   },
   "id": "c9f7e3605631c962"
  },
  {
   "cell_type": "code",
   "outputs": [],
   "source": [
    "def map_to_sex(value):\n",
    "    if value in [\"Miss\",\"Mrs\"]:\n",
    "        return \"female\"\n",
    "    else:\n",
    "        return \"male\"\n",
    "df['Sex'] = df['Title'].apply(map_to_sex)"
   ],
   "metadata": {
    "collapsed": false,
    "ExecuteTime": {
     "end_time": "2024-03-31T22:20:56.014206Z",
     "start_time": "2024-03-31T22:20:56.009519Z"
    }
   },
   "id": "78a0711a4e086fd9",
   "execution_count": 1287
  },
  {
   "cell_type": "code",
   "outputs": [],
   "source": [
    "mrs = ['Mrs', 'Mme']\n",
    "df.loc[df.Title.isin(mrs), 'Title'] = 'Mrs'\n",
    "\n",
    "miss = ['Ms', 'Miss', 'Mlle']\n",
    "df.loc[df.Title.isin(miss), 'Title'] = 'Miss'\n",
    "\n",
    "df.loc[(df.Title.eq('Mr') & df.Age.le(18)), 'Title'] = 'Master'\n",
    "\n",
    "df.loc[(df.Title.eq('Mrs') & df.Age.le(18)), 'Title'] = 'Miss'\n",
    "\n",
    "df.loc[(~df.Title.isin(['Mrs', 'Miss', 'Mr', 'Master']) \n",
    "        & df.Sex.eq('male')), 'Title'] = 'Mr'\n",
    "\n",
    "df.loc[(~df.Title.isin(['Mrs', 'Miss', 'Mr', 'Master']) \n",
    "        & df.Sex.eq('female')), 'Title'] = 'Mrs'"
   ],
   "metadata": {
    "collapsed": false,
    "ExecuteTime": {
     "end_time": "2024-03-31T22:20:56.075113Z",
     "start_time": "2024-03-31T22:20:56.066204Z"
    }
   },
   "id": "cd0ea8b01a2bca0e",
   "execution_count": 1288
  },
  {
   "cell_type": "code",
   "outputs": [
    {
     "data": {
      "text/plain": "      Pclass                                               Name        Age  \\\n0          3                            Braund, Mr. Owen Harris  22.000000   \n1          1  Cumings, Mrs. John Bradley (Florence Briggs Th...  38.000000   \n2          3                             Heikkinen, Miss. Laina  26.000000   \n3          1       Futrelle, Mrs. Jacques Heath (Lily May Peel)  35.000000   \n4          3                           Allen, Mr. William Henry  35.000000   \n...      ...                                                ...        ...   \n1304       3                                 Spector, Mr. Woolf  29.881138   \n1305       1                       Oliva y Ocana, Dona. Fermina  39.000000   \n1306       3                       Saether, Mr. Simon Sivertsen  38.500000   \n1307       3                                Ware, Mr. Frederick  29.881138   \n1308       3                           Peter, Master. Michael J  29.881138   \n\n      SibSp  Parch              Ticket      Fare Cabin Embarked  \\\n0         1      0           A/5 21171    7.2500   NaN        S   \n1         1      0            PC 17599   71.2833   C85        C   \n2         0      0    STON/O2. 3101282    7.9250   NaN        S   \n3         1      0              113803   53.1000  C123        S   \n4         0      0              373450    8.0500   NaN        S   \n...     ...    ...                 ...       ...   ...      ...   \n1304      0      0           A.5. 3236    8.0500   NaN        S   \n1305      0      0            PC 17758  108.9000  C105        C   \n1306      0      0  SOTON/O.Q. 3101262    7.2500   NaN        S   \n1307      0      0              359309    8.0500   NaN        S   \n1308      1      1                2668   22.3583   NaN        C   \n\n           Lastname   Title     Sex  \n0            Braund      Mr    male  \n1           Cumings     Mrs  female  \n2         Heikkinen    Miss  female  \n3          Futrelle     Mrs  female  \n4             Allen      Mr    male  \n...             ...     ...     ...  \n1304        Spector      Mr    male  \n1305  Oliva y Ocana      Mr    male  \n1306        Saether      Mr    male  \n1307           Ware      Mr    male  \n1308          Peter  Master    male  \n\n[1309 rows x 12 columns]",
      "text/html": "<div>\n<style scoped>\n    .dataframe tbody tr th:only-of-type {\n        vertical-align: middle;\n    }\n\n    .dataframe tbody tr th {\n        vertical-align: top;\n    }\n\n    .dataframe thead th {\n        text-align: right;\n    }\n</style>\n<table border=\"1\" class=\"dataframe\">\n  <thead>\n    <tr style=\"text-align: right;\">\n      <th></th>\n      <th>Pclass</th>\n      <th>Name</th>\n      <th>Age</th>\n      <th>SibSp</th>\n      <th>Parch</th>\n      <th>Ticket</th>\n      <th>Fare</th>\n      <th>Cabin</th>\n      <th>Embarked</th>\n      <th>Lastname</th>\n      <th>Title</th>\n      <th>Sex</th>\n    </tr>\n  </thead>\n  <tbody>\n    <tr>\n      <th>0</th>\n      <td>3</td>\n      <td>Braund, Mr. Owen Harris</td>\n      <td>22.000000</td>\n      <td>1</td>\n      <td>0</td>\n      <td>A/5 21171</td>\n      <td>7.2500</td>\n      <td>NaN</td>\n      <td>S</td>\n      <td>Braund</td>\n      <td>Mr</td>\n      <td>male</td>\n    </tr>\n    <tr>\n      <th>1</th>\n      <td>1</td>\n      <td>Cumings, Mrs. John Bradley (Florence Briggs Th...</td>\n      <td>38.000000</td>\n      <td>1</td>\n      <td>0</td>\n      <td>PC 17599</td>\n      <td>71.2833</td>\n      <td>C85</td>\n      <td>C</td>\n      <td>Cumings</td>\n      <td>Mrs</td>\n      <td>female</td>\n    </tr>\n    <tr>\n      <th>2</th>\n      <td>3</td>\n      <td>Heikkinen, Miss. Laina</td>\n      <td>26.000000</td>\n      <td>0</td>\n      <td>0</td>\n      <td>STON/O2. 3101282</td>\n      <td>7.9250</td>\n      <td>NaN</td>\n      <td>S</td>\n      <td>Heikkinen</td>\n      <td>Miss</td>\n      <td>female</td>\n    </tr>\n    <tr>\n      <th>3</th>\n      <td>1</td>\n      <td>Futrelle, Mrs. Jacques Heath (Lily May Peel)</td>\n      <td>35.000000</td>\n      <td>1</td>\n      <td>0</td>\n      <td>113803</td>\n      <td>53.1000</td>\n      <td>C123</td>\n      <td>S</td>\n      <td>Futrelle</td>\n      <td>Mrs</td>\n      <td>female</td>\n    </tr>\n    <tr>\n      <th>4</th>\n      <td>3</td>\n      <td>Allen, Mr. William Henry</td>\n      <td>35.000000</td>\n      <td>0</td>\n      <td>0</td>\n      <td>373450</td>\n      <td>8.0500</td>\n      <td>NaN</td>\n      <td>S</td>\n      <td>Allen</td>\n      <td>Mr</td>\n      <td>male</td>\n    </tr>\n    <tr>\n      <th>...</th>\n      <td>...</td>\n      <td>...</td>\n      <td>...</td>\n      <td>...</td>\n      <td>...</td>\n      <td>...</td>\n      <td>...</td>\n      <td>...</td>\n      <td>...</td>\n      <td>...</td>\n      <td>...</td>\n      <td>...</td>\n    </tr>\n    <tr>\n      <th>1304</th>\n      <td>3</td>\n      <td>Spector, Mr. Woolf</td>\n      <td>29.881138</td>\n      <td>0</td>\n      <td>0</td>\n      <td>A.5. 3236</td>\n      <td>8.0500</td>\n      <td>NaN</td>\n      <td>S</td>\n      <td>Spector</td>\n      <td>Mr</td>\n      <td>male</td>\n    </tr>\n    <tr>\n      <th>1305</th>\n      <td>1</td>\n      <td>Oliva y Ocana, Dona. Fermina</td>\n      <td>39.000000</td>\n      <td>0</td>\n      <td>0</td>\n      <td>PC 17758</td>\n      <td>108.9000</td>\n      <td>C105</td>\n      <td>C</td>\n      <td>Oliva y Ocana</td>\n      <td>Mr</td>\n      <td>male</td>\n    </tr>\n    <tr>\n      <th>1306</th>\n      <td>3</td>\n      <td>Saether, Mr. Simon Sivertsen</td>\n      <td>38.500000</td>\n      <td>0</td>\n      <td>0</td>\n      <td>SOTON/O.Q. 3101262</td>\n      <td>7.2500</td>\n      <td>NaN</td>\n      <td>S</td>\n      <td>Saether</td>\n      <td>Mr</td>\n      <td>male</td>\n    </tr>\n    <tr>\n      <th>1307</th>\n      <td>3</td>\n      <td>Ware, Mr. Frederick</td>\n      <td>29.881138</td>\n      <td>0</td>\n      <td>0</td>\n      <td>359309</td>\n      <td>8.0500</td>\n      <td>NaN</td>\n      <td>S</td>\n      <td>Ware</td>\n      <td>Mr</td>\n      <td>male</td>\n    </tr>\n    <tr>\n      <th>1308</th>\n      <td>3</td>\n      <td>Peter, Master. Michael J</td>\n      <td>29.881138</td>\n      <td>1</td>\n      <td>1</td>\n      <td>2668</td>\n      <td>22.3583</td>\n      <td>NaN</td>\n      <td>C</td>\n      <td>Peter</td>\n      <td>Master</td>\n      <td>male</td>\n    </tr>\n  </tbody>\n</table>\n<p>1309 rows × 12 columns</p>\n</div>"
     },
     "execution_count": 1289,
     "metadata": {},
     "output_type": "execute_result"
    }
   ],
   "source": [
    "df"
   ],
   "metadata": {
    "collapsed": false,
    "ExecuteTime": {
     "end_time": "2024-03-31T22:20:56.101058Z",
     "start_time": "2024-03-31T22:20:56.089930Z"
    }
   },
   "id": "bceff50ab6e06437",
   "execution_count": 1289
  },
  {
   "cell_type": "markdown",
   "source": [
    "Split Tickets into Ticket_Series and Ticket_nr"
   ],
   "metadata": {
    "collapsed": false
   },
   "id": "d23f3f63659a19ed"
  },
  {
   "cell_type": "code",
   "outputs": [],
   "source": [
    "df['Ticket_series'] = [i[0] if len(i) > 1 else 0 for i in df.Ticket.str.split()]\n",
    "df['Ticket_nr'] = [i[-1] for i in df.Ticket.str.split()]"
   ],
   "metadata": {
    "collapsed": false,
    "ExecuteTime": {
     "end_time": "2024-03-31T22:20:56.121768Z",
     "start_time": "2024-03-31T22:20:56.115908Z"
    }
   },
   "id": "7a232cc6ca1269d9",
   "execution_count": 1290
  },
  {
   "cell_type": "code",
   "outputs": [
    {
     "data": {
      "text/plain": "1014"
     },
     "execution_count": 1291,
     "metadata": {},
     "output_type": "execute_result"
    }
   ],
   "source": [
    "ticket_dict = df.groupby('Ticket_nr').Lastname.count().to_dict()\n",
    "df['Passengers_ticket'] = df.Ticket_nr.map(ticket_dict)\n",
    "df['Price'] = (df.Fare / df.Passengers_ticket).round(1)\n",
    "\n",
    "df['Deck'] = df.Cabin.str[0]\n",
    "df.Deck.isna().sum()"
   ],
   "metadata": {
    "collapsed": false,
    "ExecuteTime": {
     "end_time": "2024-03-31T22:20:56.139474Z",
     "start_time": "2024-03-31T22:20:56.130281Z"
    }
   },
   "id": "6c786a0eb281d44b",
   "execution_count": 1291
  },
  {
   "cell_type": "markdown",
   "source": [],
   "metadata": {
    "collapsed": false
   },
   "id": "3ecc534e648125d6"
  },
  {
   "cell_type": "markdown",
   "source": [
    "### Deck Imputer"
   ],
   "metadata": {
    "collapsed": false
   },
   "id": "6dec80934f90f4de"
  },
  {
   "cell_type": "code",
   "outputs": [],
   "source": [
    "def impute_deck_by(feature):\n",
    "    for pclass in range(1, 4):\n",
    "        # Create a mapping dictionary\n",
    "        map_dic = (df[~df.Deck.isna() & df.Pclass.eq(pclass)]\n",
    "                   .groupby(feature).Deck.unique()\n",
    "                   .apply(list).to_dict())\n",
    "\n",
    "        # Keep just the keys with a single deck to avoid \n",
    "        # the same key on different decks\n",
    "        map_dic = {i:j[0] for i, j in map_dic.items() \n",
    "                   if len(j) == 1}\n",
    "\n",
    "        # Imputing Deck from map_dic\n",
    "        df.loc[df.Deck.isna() & df.Pclass.eq(pclass), \n",
    "               'Deck'] = df[feature].map(map_dic)\n",
    "\n",
    "    # Check how many missing values we have at this step\n",
    "    print(df.Deck.isna().sum())"
   ],
   "metadata": {
    "collapsed": false,
    "ExecuteTime": {
     "end_time": "2024-03-31T22:20:56.144260Z",
     "start_time": "2024-03-31T22:20:56.140478Z"
    }
   },
   "id": "e6ad08f0648ead4a",
   "execution_count": 1292
  },
  {
   "cell_type": "code",
   "outputs": [
    {
     "name": "stdout",
     "output_type": "stream",
     "text": [
      "997\n",
      "989\n"
     ]
    }
   ],
   "source": [
    "impute_deck_by('Ticket_nr')\n",
    "impute_deck_by('Lastname')"
   ],
   "metadata": {
    "collapsed": false,
    "ExecuteTime": {
     "end_time": "2024-03-31T22:20:56.199095Z",
     "start_time": "2024-03-31T22:20:56.172861Z"
    }
   },
   "id": "c7e854b23a43b3bf",
   "execution_count": 1293
  },
  {
   "cell_type": "code",
   "outputs": [],
   "source": [
    "train_df['Deck'] = train_df.Cabin.str[0]\n",
    "\n",
    "# Total Survived by available Deck data\n",
    "deck_total_survived = train_df.groupby('Deck').Survived.sum()\n",
    "\n",
    "# Total passengers by available Deck data\n",
    "deck_people = train_df.groupby('Deck').Deck.count()\n",
    "\n",
    "# Deck and surviving chance pairs \n",
    "deck_survived_dict = (deck_total_survived / deck_people).round(2).to_dict()\n",
    "\n",
    "# Total Survived where Deck data is missing\n",
    "deck_nan_survived = train_df.loc[train_df.Deck.isna(), 'Survived']\n",
    "\n",
    "# Add to dictionary an additional entry for missing Deck surviving chance\n",
    "deck_survived_dict['M'] = (deck_nan_survived.value_counts() / deck_nan_survived.count()).round(2)[1]\n",
    "\n",
    "# Create Deck_survive_ratio\n",
    "df['Deck_survive_ratio'] = df.Deck.fillna('M')\n",
    "\n",
    "df.Deck_survive_ratio = df.Deck_survive_ratio.map(deck_survived_dict).astype('float')"
   ],
   "metadata": {
    "collapsed": false,
    "ExecuteTime": {
     "end_time": "2024-03-31T22:20:56.209732Z",
     "start_time": "2024-03-31T22:20:56.202119Z"
    }
   },
   "id": "194cada20293e4ee",
   "execution_count": 1294
  },
  {
   "cell_type": "markdown",
   "source": [
    "### Manual Deck Mapping for outliers"
   ],
   "metadata": {
    "collapsed": false
   },
   "id": "64d434d0a5762c88"
  },
  {
   "cell_type": "code",
   "outputs": [],
   "source": [
    "df.loc[df.Deck.eq('T'), 'Deck'] = 'A'"
   ],
   "metadata": {
    "collapsed": false,
    "ExecuteTime": {
     "end_time": "2024-03-31T22:20:56.288224Z",
     "start_time": "2024-03-31T22:20:56.285037Z"
    }
   },
   "id": "f3e592de6f9ccafb",
   "execution_count": 1295
  },
  {
   "cell_type": "code",
   "outputs": [
    {
     "data": {
      "text/plain": "             count       mean        std   min     25%    50%     75%    max\nPclass Deck                                                                 \n1      A      22.0  32.945455   6.909671  26.0  27.900  30.60  35.500   50.5\n       B      65.0  42.983077  25.865606   5.0  29.000  37.50  45.500  128.1\n       C     105.0  35.783810   9.732540  25.3  27.700  33.90  42.300   68.4\n       D      42.0  31.776190   9.698650  19.7  26.000  27.15  37.750   66.8\n       E      35.0  26.177143   5.033715   8.8  26.450  26.90  27.700   38.5\n2      D       6.0  13.600000   0.812404  12.9  13.000  13.40  13.875   15.0\n       E       6.0   9.783333   3.648790   5.2   6.525  11.45  12.400   13.0\n       F      16.0  10.925000   1.756701   8.7   9.800  10.50  13.000   13.0\n3      E       3.0   6.800000   1.039230   6.2   6.200   6.20   7.100    8.0\n       F      11.0   7.518182   0.177866   7.2   7.500   7.60   7.600    7.8\n       G       5.0   5.440000   0.219089   5.2   5.200   5.60   5.600    5.6",
      "text/html": "<div>\n<style scoped>\n    .dataframe tbody tr th:only-of-type {\n        vertical-align: middle;\n    }\n\n    .dataframe tbody tr th {\n        vertical-align: top;\n    }\n\n    .dataframe thead th {\n        text-align: right;\n    }\n</style>\n<table border=\"1\" class=\"dataframe\">\n  <thead>\n    <tr style=\"text-align: right;\">\n      <th></th>\n      <th></th>\n      <th>count</th>\n      <th>mean</th>\n      <th>std</th>\n      <th>min</th>\n      <th>25%</th>\n      <th>50%</th>\n      <th>75%</th>\n      <th>max</th>\n    </tr>\n    <tr>\n      <th>Pclass</th>\n      <th>Deck</th>\n      <th></th>\n      <th></th>\n      <th></th>\n      <th></th>\n      <th></th>\n      <th></th>\n      <th></th>\n      <th></th>\n    </tr>\n  </thead>\n  <tbody>\n    <tr>\n      <th rowspan=\"5\" valign=\"top\">1</th>\n      <th>A</th>\n      <td>22.0</td>\n      <td>32.945455</td>\n      <td>6.909671</td>\n      <td>26.0</td>\n      <td>27.900</td>\n      <td>30.60</td>\n      <td>35.500</td>\n      <td>50.5</td>\n    </tr>\n    <tr>\n      <th>B</th>\n      <td>65.0</td>\n      <td>42.983077</td>\n      <td>25.865606</td>\n      <td>5.0</td>\n      <td>29.000</td>\n      <td>37.50</td>\n      <td>45.500</td>\n      <td>128.1</td>\n    </tr>\n    <tr>\n      <th>C</th>\n      <td>105.0</td>\n      <td>35.783810</td>\n      <td>9.732540</td>\n      <td>25.3</td>\n      <td>27.700</td>\n      <td>33.90</td>\n      <td>42.300</td>\n      <td>68.4</td>\n    </tr>\n    <tr>\n      <th>D</th>\n      <td>42.0</td>\n      <td>31.776190</td>\n      <td>9.698650</td>\n      <td>19.7</td>\n      <td>26.000</td>\n      <td>27.15</td>\n      <td>37.750</td>\n      <td>66.8</td>\n    </tr>\n    <tr>\n      <th>E</th>\n      <td>35.0</td>\n      <td>26.177143</td>\n      <td>5.033715</td>\n      <td>8.8</td>\n      <td>26.450</td>\n      <td>26.90</td>\n      <td>27.700</td>\n      <td>38.5</td>\n    </tr>\n    <tr>\n      <th rowspan=\"3\" valign=\"top\">2</th>\n      <th>D</th>\n      <td>6.0</td>\n      <td>13.600000</td>\n      <td>0.812404</td>\n      <td>12.9</td>\n      <td>13.000</td>\n      <td>13.40</td>\n      <td>13.875</td>\n      <td>15.0</td>\n    </tr>\n    <tr>\n      <th>E</th>\n      <td>6.0</td>\n      <td>9.783333</td>\n      <td>3.648790</td>\n      <td>5.2</td>\n      <td>6.525</td>\n      <td>11.45</td>\n      <td>12.400</td>\n      <td>13.0</td>\n    </tr>\n    <tr>\n      <th>F</th>\n      <td>16.0</td>\n      <td>10.925000</td>\n      <td>1.756701</td>\n      <td>8.7</td>\n      <td>9.800</td>\n      <td>10.50</td>\n      <td>13.000</td>\n      <td>13.0</td>\n    </tr>\n    <tr>\n      <th rowspan=\"3\" valign=\"top\">3</th>\n      <th>E</th>\n      <td>3.0</td>\n      <td>6.800000</td>\n      <td>1.039230</td>\n      <td>6.2</td>\n      <td>6.200</td>\n      <td>6.20</td>\n      <td>7.100</td>\n      <td>8.0</td>\n    </tr>\n    <tr>\n      <th>F</th>\n      <td>11.0</td>\n      <td>7.518182</td>\n      <td>0.177866</td>\n      <td>7.2</td>\n      <td>7.500</td>\n      <td>7.60</td>\n      <td>7.600</td>\n      <td>7.8</td>\n    </tr>\n    <tr>\n      <th>G</th>\n      <td>5.0</td>\n      <td>5.440000</td>\n      <td>0.219089</td>\n      <td>5.2</td>\n      <td>5.200</td>\n      <td>5.60</td>\n      <td>5.600</td>\n      <td>5.6</td>\n    </tr>\n  </tbody>\n</table>\n</div>"
     },
     "execution_count": 1296,
     "metadata": {},
     "output_type": "execute_result"
    }
   ],
   "source": [
    "df.groupby(['Pclass', 'Deck']).Price.describe()"
   ],
   "metadata": {
    "collapsed": false,
    "ExecuteTime": {
     "end_time": "2024-03-31T22:20:56.354202Z",
     "start_time": "2024-03-31T22:20:56.329255Z"
    }
   },
   "id": "40e0388a9d3a5ce",
   "execution_count": 1296
  },
  {
   "cell_type": "code",
   "outputs": [],
   "source": [
    "df.loc[(df.Deck.eq('B') & df.Price.lt(19)), 'Price'] = 19\n",
    "df.loc[(df.Deck.eq('B') & df.Price.gt(68)), 'Price'] = 68"
   ],
   "metadata": {
    "collapsed": false,
    "ExecuteTime": {
     "end_time": "2024-03-31T22:20:56.384584Z",
     "start_time": "2024-03-31T22:20:56.379531Z"
    }
   },
   "id": "ef32d6614f546f9c",
   "execution_count": 1297
  },
  {
   "cell_type": "code",
   "outputs": [],
   "source": [
    "# Create a data frame of mean prices by Pclass and Deck \n",
    "class_deck_price = pd.DataFrame(df.groupby(['Pclass', 'Deck'])\n",
    "                                .Price.mean().round(2)).reset_index()\n",
    "\n",
    "# Impute missing prices \n",
    "# Where Deck is missing we will use the mean price by Pclass only\n",
    "for index, row in df.loc[df.Price.isna(), \n",
    "                         ['Pclass', 'Deck']].iterrows():\n",
    "    if not pd.isna(row.Deck):\n",
    "        new_price = class_deck_price.loc[\n",
    "            (class_deck_price.Pclass.eq(row.Pclass) \n",
    "            & class_deck_price.Deck.eq(row.Deck)), 'Price'].mean()\n",
    "    else:\n",
    "        new_price = class_deck_price[\n",
    "            class_deck_price.Pclass.eq(row.Pclass)].Price.mean()\n",
    "\n",
    "    df.loc[[index], 'Price'] = new_price"
   ],
   "metadata": {
    "collapsed": false,
    "ExecuteTime": {
     "end_time": "2024-03-31T22:20:56.419002Z",
     "start_time": "2024-03-31T22:20:56.399199Z"
    }
   },
   "id": "41cae121aa0482e",
   "execution_count": 1298
  },
  {
   "cell_type": "code",
   "outputs": [],
   "source": [
    "first_cl = {'A': [25, 30],\n",
    "            'B': [35, 70],\n",
    "            'C': [30, 35],\n",
    "            'D': [19, 25],\n",
    "            'E': [9, 19]}\n",
    "\n",
    "second_cl = {'D': [13, 17],\n",
    "             'E': [5, 9],\n",
    "             'F': [9, 13]}\n",
    "\n",
    "third_cl = {'E': [8, 9],\n",
    "            'F': [9, 21],\n",
    "            'G': [0, 8]}\n",
    "\n",
    "# Create a dictionary pairing Pclass and respective price dictionary\n",
    "class_dict = {1: first_cl,\n",
    "              2: second_cl,\n",
    "              3: third_cl}\n",
    "\n",
    "# Impute missing Deck values \n",
    "for index, row in df.loc[df.Deck.isna(), ['Pclass', 'Price']].iterrows():\n",
    "    for c, d in class_dict.items():\n",
    "        if row.Pclass == c:\n",
    "            for i, j in d.items():\n",
    "                if max(j) > row.Price >= min(j):\n",
    "                    df.loc[[index], 'Deck'] = i\n",
    "\n",
    "# Encode Deck with it's deck level number counting from the bottom\n",
    "deck_level = {'G': 1, 'F': 2, 'E': 3, 'D': 4, 'C': 5, 'B': 6, 'A': 7}\n",
    "\n",
    "df.Deck = df.Deck.replace(deck_level)"
   ],
   "metadata": {
    "collapsed": false,
    "ExecuteTime": {
     "end_time": "2024-03-31T22:20:56.827285Z",
     "start_time": "2024-03-31T22:20:56.441599Z"
    }
   },
   "id": "92cc5cea7e3593f0",
   "execution_count": 1299
  },
  {
   "cell_type": "code",
   "outputs": [
    {
     "data": {
      "text/plain": "      Pclass                                               Name        Age  \\\n0          3                            Braund, Mr. Owen Harris  22.000000   \n1          1  Cumings, Mrs. John Bradley (Florence Briggs Th...  38.000000   \n2          3                             Heikkinen, Miss. Laina  26.000000   \n3          1       Futrelle, Mrs. Jacques Heath (Lily May Peel)  35.000000   \n4          3                           Allen, Mr. William Henry  35.000000   \n...      ...                                                ...        ...   \n1304       3                                 Spector, Mr. Woolf  29.881138   \n1305       1                       Oliva y Ocana, Dona. Fermina  39.000000   \n1306       3                       Saether, Mr. Simon Sivertsen  38.500000   \n1307       3                                Ware, Mr. Frederick  29.881138   \n1308       3                           Peter, Master. Michael J  29.881138   \n\n      SibSp  Parch              Ticket      Fare Cabin Embarked  \\\n0         1      0           A/5 21171    7.2500   NaN        S   \n1         1      0            PC 17599   71.2833   C85        C   \n2         0      0    STON/O2. 3101282    7.9250   NaN        S   \n3         1      0              113803   53.1000  C123        S   \n4         0      0              373450    8.0500   NaN        S   \n...     ...    ...                 ...       ...   ...      ...   \n1304      0      0           A.5. 3236    8.0500   NaN        S   \n1305      0      0            PC 17758  108.9000  C105        C   \n1306      0      0  SOTON/O.Q. 3101262    7.2500   NaN        S   \n1307      0      0              359309    8.0500   NaN        S   \n1308      1      1                2668   22.3583   NaN        C   \n\n           Lastname   Title     Sex Ticket_series Ticket_nr  \\\n0            Braund      Mr    male           A/5     21171   \n1           Cumings     Mrs  female            PC     17599   \n2         Heikkinen    Miss  female      STON/O2.   3101282   \n3          Futrelle     Mrs  female             0    113803   \n4             Allen      Mr    male             0    373450   \n...             ...     ...     ...           ...       ...   \n1304        Spector      Mr    male          A.5.      3236   \n1305  Oliva y Ocana      Mr    male            PC     17758   \n1306        Saether      Mr    male    SOTON/O.Q.   3101262   \n1307           Ware      Mr    male             0    359309   \n1308          Peter  Master    male             0      2668   \n\n      Passengers_ticket  Price  Deck  Deck_survive_ratio  \n0                     1    7.2     1                0.30  \n1                     2   35.6     5                0.59  \n2                     1    7.9     1                0.30  \n3                     2   26.6     5                0.59  \n4                     1    8.0     3                0.30  \n...                 ...    ...   ...                 ...  \n1304                  1    8.0     3                0.30  \n1305                  3   36.3     5                0.59  \n1306                  1    7.2     1                0.30  \n1307                  1    8.0     3                0.30  \n1308                  3    7.5     2                0.62  \n\n[1309 rows x 18 columns]",
      "text/html": "<div>\n<style scoped>\n    .dataframe tbody tr th:only-of-type {\n        vertical-align: middle;\n    }\n\n    .dataframe tbody tr th {\n        vertical-align: top;\n    }\n\n    .dataframe thead th {\n        text-align: right;\n    }\n</style>\n<table border=\"1\" class=\"dataframe\">\n  <thead>\n    <tr style=\"text-align: right;\">\n      <th></th>\n      <th>Pclass</th>\n      <th>Name</th>\n      <th>Age</th>\n      <th>SibSp</th>\n      <th>Parch</th>\n      <th>Ticket</th>\n      <th>Fare</th>\n      <th>Cabin</th>\n      <th>Embarked</th>\n      <th>Lastname</th>\n      <th>Title</th>\n      <th>Sex</th>\n      <th>Ticket_series</th>\n      <th>Ticket_nr</th>\n      <th>Passengers_ticket</th>\n      <th>Price</th>\n      <th>Deck</th>\n      <th>Deck_survive_ratio</th>\n    </tr>\n  </thead>\n  <tbody>\n    <tr>\n      <th>0</th>\n      <td>3</td>\n      <td>Braund, Mr. Owen Harris</td>\n      <td>22.000000</td>\n      <td>1</td>\n      <td>0</td>\n      <td>A/5 21171</td>\n      <td>7.2500</td>\n      <td>NaN</td>\n      <td>S</td>\n      <td>Braund</td>\n      <td>Mr</td>\n      <td>male</td>\n      <td>A/5</td>\n      <td>21171</td>\n      <td>1</td>\n      <td>7.2</td>\n      <td>1</td>\n      <td>0.30</td>\n    </tr>\n    <tr>\n      <th>1</th>\n      <td>1</td>\n      <td>Cumings, Mrs. John Bradley (Florence Briggs Th...</td>\n      <td>38.000000</td>\n      <td>1</td>\n      <td>0</td>\n      <td>PC 17599</td>\n      <td>71.2833</td>\n      <td>C85</td>\n      <td>C</td>\n      <td>Cumings</td>\n      <td>Mrs</td>\n      <td>female</td>\n      <td>PC</td>\n      <td>17599</td>\n      <td>2</td>\n      <td>35.6</td>\n      <td>5</td>\n      <td>0.59</td>\n    </tr>\n    <tr>\n      <th>2</th>\n      <td>3</td>\n      <td>Heikkinen, Miss. Laina</td>\n      <td>26.000000</td>\n      <td>0</td>\n      <td>0</td>\n      <td>STON/O2. 3101282</td>\n      <td>7.9250</td>\n      <td>NaN</td>\n      <td>S</td>\n      <td>Heikkinen</td>\n      <td>Miss</td>\n      <td>female</td>\n      <td>STON/O2.</td>\n      <td>3101282</td>\n      <td>1</td>\n      <td>7.9</td>\n      <td>1</td>\n      <td>0.30</td>\n    </tr>\n    <tr>\n      <th>3</th>\n      <td>1</td>\n      <td>Futrelle, Mrs. Jacques Heath (Lily May Peel)</td>\n      <td>35.000000</td>\n      <td>1</td>\n      <td>0</td>\n      <td>113803</td>\n      <td>53.1000</td>\n      <td>C123</td>\n      <td>S</td>\n      <td>Futrelle</td>\n      <td>Mrs</td>\n      <td>female</td>\n      <td>0</td>\n      <td>113803</td>\n      <td>2</td>\n      <td>26.6</td>\n      <td>5</td>\n      <td>0.59</td>\n    </tr>\n    <tr>\n      <th>4</th>\n      <td>3</td>\n      <td>Allen, Mr. William Henry</td>\n      <td>35.000000</td>\n      <td>0</td>\n      <td>0</td>\n      <td>373450</td>\n      <td>8.0500</td>\n      <td>NaN</td>\n      <td>S</td>\n      <td>Allen</td>\n      <td>Mr</td>\n      <td>male</td>\n      <td>0</td>\n      <td>373450</td>\n      <td>1</td>\n      <td>8.0</td>\n      <td>3</td>\n      <td>0.30</td>\n    </tr>\n    <tr>\n      <th>...</th>\n      <td>...</td>\n      <td>...</td>\n      <td>...</td>\n      <td>...</td>\n      <td>...</td>\n      <td>...</td>\n      <td>...</td>\n      <td>...</td>\n      <td>...</td>\n      <td>...</td>\n      <td>...</td>\n      <td>...</td>\n      <td>...</td>\n      <td>...</td>\n      <td>...</td>\n      <td>...</td>\n      <td>...</td>\n      <td>...</td>\n    </tr>\n    <tr>\n      <th>1304</th>\n      <td>3</td>\n      <td>Spector, Mr. Woolf</td>\n      <td>29.881138</td>\n      <td>0</td>\n      <td>0</td>\n      <td>A.5. 3236</td>\n      <td>8.0500</td>\n      <td>NaN</td>\n      <td>S</td>\n      <td>Spector</td>\n      <td>Mr</td>\n      <td>male</td>\n      <td>A.5.</td>\n      <td>3236</td>\n      <td>1</td>\n      <td>8.0</td>\n      <td>3</td>\n      <td>0.30</td>\n    </tr>\n    <tr>\n      <th>1305</th>\n      <td>1</td>\n      <td>Oliva y Ocana, Dona. Fermina</td>\n      <td>39.000000</td>\n      <td>0</td>\n      <td>0</td>\n      <td>PC 17758</td>\n      <td>108.9000</td>\n      <td>C105</td>\n      <td>C</td>\n      <td>Oliva y Ocana</td>\n      <td>Mr</td>\n      <td>male</td>\n      <td>PC</td>\n      <td>17758</td>\n      <td>3</td>\n      <td>36.3</td>\n      <td>5</td>\n      <td>0.59</td>\n    </tr>\n    <tr>\n      <th>1306</th>\n      <td>3</td>\n      <td>Saether, Mr. Simon Sivertsen</td>\n      <td>38.500000</td>\n      <td>0</td>\n      <td>0</td>\n      <td>SOTON/O.Q. 3101262</td>\n      <td>7.2500</td>\n      <td>NaN</td>\n      <td>S</td>\n      <td>Saether</td>\n      <td>Mr</td>\n      <td>male</td>\n      <td>SOTON/O.Q.</td>\n      <td>3101262</td>\n      <td>1</td>\n      <td>7.2</td>\n      <td>1</td>\n      <td>0.30</td>\n    </tr>\n    <tr>\n      <th>1307</th>\n      <td>3</td>\n      <td>Ware, Mr. Frederick</td>\n      <td>29.881138</td>\n      <td>0</td>\n      <td>0</td>\n      <td>359309</td>\n      <td>8.0500</td>\n      <td>NaN</td>\n      <td>S</td>\n      <td>Ware</td>\n      <td>Mr</td>\n      <td>male</td>\n      <td>0</td>\n      <td>359309</td>\n      <td>1</td>\n      <td>8.0</td>\n      <td>3</td>\n      <td>0.30</td>\n    </tr>\n    <tr>\n      <th>1308</th>\n      <td>3</td>\n      <td>Peter, Master. Michael J</td>\n      <td>29.881138</td>\n      <td>1</td>\n      <td>1</td>\n      <td>2668</td>\n      <td>22.3583</td>\n      <td>NaN</td>\n      <td>C</td>\n      <td>Peter</td>\n      <td>Master</td>\n      <td>male</td>\n      <td>0</td>\n      <td>2668</td>\n      <td>3</td>\n      <td>7.5</td>\n      <td>2</td>\n      <td>0.62</td>\n    </tr>\n  </tbody>\n</table>\n<p>1309 rows × 18 columns</p>\n</div>"
     },
     "execution_count": 1300,
     "metadata": {},
     "output_type": "execute_result"
    }
   ],
   "source": [
    "df"
   ],
   "metadata": {
    "collapsed": false,
    "ExecuteTime": {
     "end_time": "2024-03-31T22:20:56.842095Z",
     "start_time": "2024-03-31T22:20:56.827832Z"
    }
   },
   "id": "a23bbeb4207f0a76",
   "execution_count": 1300
  },
  {
   "cell_type": "code",
   "outputs": [
    {
     "data": {
      "text/plain": "{1: 537, 2: 167, 3: 193, 4: 172, 5: 112, 6: 76, 7: 52}"
     },
     "execution_count": 1301,
     "metadata": {},
     "output_type": "execute_result"
    }
   ],
   "source": [
    "deck_people = df.Deck.value_counts().sort_index()\n",
    "deck_people_dic = deck_people.to_dict()\n",
    "deck_people_dic"
   ],
   "metadata": {
    "collapsed": false,
    "ExecuteTime": {
     "end_time": "2024-03-31T22:20:56.850883Z",
     "start_time": "2024-03-31T22:20:56.842095Z"
    }
   },
   "id": "6f8ca3b18fe50021",
   "execution_count": 1301
  },
  {
   "cell_type": "code",
   "outputs": [
    {
     "data": {
      "text/plain": "{1: 1309, 2: 772, 3: 605, 4: 412, 5: 240, 6: 128, 7: 52}"
     },
     "execution_count": 1302,
     "metadata": {},
     "output_type": "execute_result"
    }
   ],
   "source": [
    "escape_density = {}\n",
    "for i in range(1, 8):\n",
    "    escape_density[i] = sum(deck_people_dic.values())\n",
    "    del deck_people_dic[i]\n",
    "    \n",
    "escape_density"
   ],
   "metadata": {
    "collapsed": false,
    "ExecuteTime": {
     "end_time": "2024-03-31T22:20:56.857888Z",
     "start_time": "2024-03-31T22:20:56.851888Z"
    }
   },
   "id": "e25a5fa75c019ba7",
   "execution_count": 1302
  },
  {
   "cell_type": "code",
   "outputs": [],
   "source": [
    "# Create Escape_density column\n",
    "df['Escape_density'] = df.Deck.replace(escape_density)"
   ],
   "metadata": {
    "collapsed": false,
    "ExecuteTime": {
     "end_time": "2024-03-31T22:20:56.864944Z",
     "start_time": "2024-03-31T22:20:56.857888Z"
    }
   },
   "id": "597ac95eddf77c99",
   "execution_count": 1303
  },
  {
   "cell_type": "code",
   "outputs": [],
   "source": [
    "df['Family_size'] = 1 + df.SibSp + df.Parch"
   ],
   "metadata": {
    "collapsed": false,
    "ExecuteTime": {
     "end_time": "2024-03-31T22:20:56.871930Z",
     "start_time": "2024-03-31T22:20:56.865950Z"
    }
   },
   "id": "f52e0beb8d694f2a",
   "execution_count": 1304
  },
  {
   "cell_type": "code",
   "outputs": [],
   "source": [
    "X = df[:X_max_index].copy()\n",
    "test_df = df[X_max_index:].copy()\n",
    "full_df = pd.concat([X, y], axis=1).copy()\n",
    "\n",
    "# Check for families that has survivers and create a dictionary with mean value of their family survivability\n",
    "family_survivers = full_df[['Lastname', 'Survived']].groupby('Lastname').mean().round(2).reset_index()\n",
    "family_survivers_dict = dict(zip(family_survivers.Lastname, family_survivers.Survived))\n",
    "\n",
    "# Reduce the dictionary to the list of families that are both in train and test data\n",
    "common_survivers = {}\n",
    "for lastname, survived in family_survivers_dict.items():\n",
    "    if lastname in list(test_df['Lastname'].unique()):\n",
    "        common_survivers[lastname] = survived\n",
    "\n",
    "# Create Family_survivers feature\n",
    "df['Family_survivers'] = df.Lastname.map(common_survivers)\n",
    "\n",
    "# For the families that are not present in both train and test we will impute the overall mean value\n",
    "df.Family_survivers = df.Family_survivers.fillna(df.Family_survivers.mean())"
   ],
   "metadata": {
    "collapsed": false,
    "ExecuteTime": {
     "end_time": "2024-03-31T22:20:56.909130Z",
     "start_time": "2024-03-31T22:20:56.872934Z"
    }
   },
   "id": "d123a70e7f6fbcea",
   "execution_count": 1305
  },
  {
   "cell_type": "code",
   "outputs": [],
   "source": [
    "df.Pclass = df.Pclass.astype('object')"
   ],
   "metadata": {
    "collapsed": false,
    "ExecuteTime": {
     "end_time": "2024-03-31T22:20:56.912885Z",
     "start_time": "2024-03-31T22:20:56.909130Z"
    }
   },
   "id": "b5b45523e4221a63",
   "execution_count": 1306
  },
  {
   "cell_type": "code",
   "outputs": [],
   "source": [
    "col_drop = ['Name', 'Ticket', 'Ticket_nr', 'Ticket_series', \n",
    "            'Fare', 'Cabin', 'Lastname', 'Passengers_ticket']\n",
    "df = df.drop(col_drop, axis=1)"
   ],
   "metadata": {
    "collapsed": false,
    "ExecuteTime": {
     "end_time": "2024-03-31T22:20:56.920631Z",
     "start_time": "2024-03-31T22:20:56.913895Z"
    }
   },
   "id": "bb03e508cb9f477",
   "execution_count": 1307
  },
  {
   "cell_type": "code",
   "outputs": [],
   "source": [
    "# List of categorical columns\n",
    "categ_cols = list(df.select_dtypes(exclude=[np.number]).columns)\n",
    "\n",
    "# Impute categoricals with most frequent value\n",
    "cat_imputer = SimpleImputer(strategy='most_frequent')\n",
    "\n",
    "df_cat = pd.DataFrame(cat_imputer.fit_transform(df[categ_cols]), \n",
    "                      columns=df[categ_cols].columns)\n",
    "\n",
    "# Encode categorical\n",
    "df_cat = pd.get_dummies(df_cat)"
   ],
   "metadata": {
    "collapsed": false,
    "ExecuteTime": {
     "end_time": "2024-03-31T22:20:56.934612Z",
     "start_time": "2024-03-31T22:20:56.922637Z"
    }
   },
   "id": "12bb0ab962cf868d",
   "execution_count": 1308
  },
  {
   "cell_type": "code",
   "outputs": [],
   "source": [
    "# List of numerical columns\n",
    "num_cols = list(df.select_dtypes([np.number]).columns)\n",
    "\n",
    "# Impute numericals\n",
    "it_imp = IterativeImputer()\n",
    "\n",
    "df_num = pd.DataFrame(it_imp.fit_transform(df[num_cols]),\n",
    "                      columns=df[num_cols].columns)\n",
    "\n",
    "# Concatenate with encoded categorical columns\n",
    "df = pd.concat([df_cat, df_num], axis=1)"
   ],
   "metadata": {
    "collapsed": false,
    "ExecuteTime": {
     "end_time": "2024-03-31T22:20:56.968176Z",
     "start_time": "2024-03-31T22:20:56.934612Z"
    }
   },
   "id": "436b58ef325fe7c1",
   "execution_count": 1309
  },
  {
   "cell_type": "code",
   "outputs": [],
   "source": [
    "df['Age_group'] = pd.cut(x=df.Age, labels=[5, 1, 4, 3, 2],\n",
    "                         bins=[-1, 15, 33, 45, 60, df.Age.max()]).astype('float')"
   ],
   "metadata": {
    "collapsed": false,
    "ExecuteTime": {
     "end_time": "2024-03-31T22:20:56.972914Z",
     "start_time": "2024-03-31T22:20:56.969181Z"
    }
   },
   "id": "a625684512097f3e",
   "execution_count": 1310
  },
  {
   "cell_type": "code",
   "outputs": [],
   "source": [
    "df['Family_group'] = pd.cut(x=df.Family_size, labels=[1, 3, 2], \n",
    "                            bins=[-1, 1, 4, df.Family_size.max()]).astype('float')"
   ],
   "metadata": {
    "collapsed": false,
    "ExecuteTime": {
     "end_time": "2024-03-31T22:20:56.981175Z",
     "start_time": "2024-03-31T22:20:56.972914Z"
    }
   },
   "id": "59dd51f8ff4fa0f9",
   "execution_count": 1311
  },
  {
   "cell_type": "code",
   "outputs": [],
   "source": [
    "df['Lucky_family'] = pd.cut(x=df.Family_survivers, labels=[2, 3, 1, 4],\n",
    "                            bins=[-1, 0.22, 0.35, 0.49, df.Family_survivers.max()]).astype('float')"
   ],
   "metadata": {
    "collapsed": false,
    "ExecuteTime": {
     "end_time": "2024-03-31T22:20:56.988197Z",
     "start_time": "2024-03-31T22:20:56.982180Z"
    }
   },
   "id": "a4ea23684b9d94e9",
   "execution_count": 1312
  },
  {
   "cell_type": "code",
   "outputs": [
    {
     "data": {
      "text/plain": "      Pclass_1  Pclass_2  Pclass_3  Embarked_C  Embarked_Q  Embarked_S  \\\n0        False     False      True       False       False        True   \n1         True     False     False        True       False       False   \n2        False     False      True       False       False        True   \n3         True     False     False       False       False        True   \n4        False     False      True       False       False        True   \n...        ...       ...       ...         ...         ...         ...   \n1304     False     False      True       False       False        True   \n1305      True     False     False        True       False       False   \n1306     False     False      True       False       False        True   \n1307     False     False      True       False       False        True   \n1308     False     False      True        True       False       False   \n\n      Title_Master  Title_Miss  Title_Mr  Title_Mrs  ...  Parch  Price  Deck  \\\n0            False       False      True      False  ...    0.0    7.2   1.0   \n1            False       False     False       True  ...    0.0   35.6   5.0   \n2            False        True     False      False  ...    0.0    7.9   1.0   \n3            False       False     False       True  ...    0.0   26.6   5.0   \n4            False       False      True      False  ...    0.0    8.0   3.0   \n...            ...         ...       ...        ...  ...    ...    ...   ...   \n1304         False       False      True      False  ...    0.0    8.0   3.0   \n1305         False       False      True      False  ...    0.0   36.3   5.0   \n1306         False       False      True      False  ...    0.0    7.2   1.0   \n1307         False       False      True      False  ...    0.0    8.0   3.0   \n1308          True       False     False      False  ...    1.0    7.5   2.0   \n\n      Deck_survive_ratio  Escape_density  Family_size  Family_survivers  \\\n0                   0.30          1309.0          2.0          0.449863   \n1                   0.59           240.0          2.0          1.000000   \n2                   0.30          1309.0          1.0          0.449863   \n3                   0.59           240.0          2.0          0.449863   \n4                   0.30           605.0          1.0          0.449863   \n...                  ...             ...          ...               ...   \n1304                0.30           605.0          1.0          0.449863   \n1305                0.59           240.0          1.0          0.449863   \n1306                0.30          1309.0          1.0          0.449863   \n1307                0.30           605.0          1.0          0.449863   \n1308                0.62           772.0          3.0          1.000000   \n\n      Age_group  Family_group  Lucky_family  \n0           1.0           3.0           1.0  \n1           4.0           3.0           4.0  \n2           1.0           1.0           1.0  \n3           4.0           3.0           1.0  \n4           4.0           1.0           1.0  \n...         ...           ...           ...  \n1304        1.0           1.0           1.0  \n1305        4.0           1.0           1.0  \n1306        4.0           1.0           1.0  \n1307        1.0           1.0           1.0  \n1308        1.0           3.0           4.0  \n\n[1309 rows x 24 columns]",
      "text/html": "<div>\n<style scoped>\n    .dataframe tbody tr th:only-of-type {\n        vertical-align: middle;\n    }\n\n    .dataframe tbody tr th {\n        vertical-align: top;\n    }\n\n    .dataframe thead th {\n        text-align: right;\n    }\n</style>\n<table border=\"1\" class=\"dataframe\">\n  <thead>\n    <tr style=\"text-align: right;\">\n      <th></th>\n      <th>Pclass_1</th>\n      <th>Pclass_2</th>\n      <th>Pclass_3</th>\n      <th>Embarked_C</th>\n      <th>Embarked_Q</th>\n      <th>Embarked_S</th>\n      <th>Title_Master</th>\n      <th>Title_Miss</th>\n      <th>Title_Mr</th>\n      <th>Title_Mrs</th>\n      <th>...</th>\n      <th>Parch</th>\n      <th>Price</th>\n      <th>Deck</th>\n      <th>Deck_survive_ratio</th>\n      <th>Escape_density</th>\n      <th>Family_size</th>\n      <th>Family_survivers</th>\n      <th>Age_group</th>\n      <th>Family_group</th>\n      <th>Lucky_family</th>\n    </tr>\n  </thead>\n  <tbody>\n    <tr>\n      <th>0</th>\n      <td>False</td>\n      <td>False</td>\n      <td>True</td>\n      <td>False</td>\n      <td>False</td>\n      <td>True</td>\n      <td>False</td>\n      <td>False</td>\n      <td>True</td>\n      <td>False</td>\n      <td>...</td>\n      <td>0.0</td>\n      <td>7.2</td>\n      <td>1.0</td>\n      <td>0.30</td>\n      <td>1309.0</td>\n      <td>2.0</td>\n      <td>0.449863</td>\n      <td>1.0</td>\n      <td>3.0</td>\n      <td>1.0</td>\n    </tr>\n    <tr>\n      <th>1</th>\n      <td>True</td>\n      <td>False</td>\n      <td>False</td>\n      <td>True</td>\n      <td>False</td>\n      <td>False</td>\n      <td>False</td>\n      <td>False</td>\n      <td>False</td>\n      <td>True</td>\n      <td>...</td>\n      <td>0.0</td>\n      <td>35.6</td>\n      <td>5.0</td>\n      <td>0.59</td>\n      <td>240.0</td>\n      <td>2.0</td>\n      <td>1.000000</td>\n      <td>4.0</td>\n      <td>3.0</td>\n      <td>4.0</td>\n    </tr>\n    <tr>\n      <th>2</th>\n      <td>False</td>\n      <td>False</td>\n      <td>True</td>\n      <td>False</td>\n      <td>False</td>\n      <td>True</td>\n      <td>False</td>\n      <td>True</td>\n      <td>False</td>\n      <td>False</td>\n      <td>...</td>\n      <td>0.0</td>\n      <td>7.9</td>\n      <td>1.0</td>\n      <td>0.30</td>\n      <td>1309.0</td>\n      <td>1.0</td>\n      <td>0.449863</td>\n      <td>1.0</td>\n      <td>1.0</td>\n      <td>1.0</td>\n    </tr>\n    <tr>\n      <th>3</th>\n      <td>True</td>\n      <td>False</td>\n      <td>False</td>\n      <td>False</td>\n      <td>False</td>\n      <td>True</td>\n      <td>False</td>\n      <td>False</td>\n      <td>False</td>\n      <td>True</td>\n      <td>...</td>\n      <td>0.0</td>\n      <td>26.6</td>\n      <td>5.0</td>\n      <td>0.59</td>\n      <td>240.0</td>\n      <td>2.0</td>\n      <td>0.449863</td>\n      <td>4.0</td>\n      <td>3.0</td>\n      <td>1.0</td>\n    </tr>\n    <tr>\n      <th>4</th>\n      <td>False</td>\n      <td>False</td>\n      <td>True</td>\n      <td>False</td>\n      <td>False</td>\n      <td>True</td>\n      <td>False</td>\n      <td>False</td>\n      <td>True</td>\n      <td>False</td>\n      <td>...</td>\n      <td>0.0</td>\n      <td>8.0</td>\n      <td>3.0</td>\n      <td>0.30</td>\n      <td>605.0</td>\n      <td>1.0</td>\n      <td>0.449863</td>\n      <td>4.0</td>\n      <td>1.0</td>\n      <td>1.0</td>\n    </tr>\n    <tr>\n      <th>...</th>\n      <td>...</td>\n      <td>...</td>\n      <td>...</td>\n      <td>...</td>\n      <td>...</td>\n      <td>...</td>\n      <td>...</td>\n      <td>...</td>\n      <td>...</td>\n      <td>...</td>\n      <td>...</td>\n      <td>...</td>\n      <td>...</td>\n      <td>...</td>\n      <td>...</td>\n      <td>...</td>\n      <td>...</td>\n      <td>...</td>\n      <td>...</td>\n      <td>...</td>\n      <td>...</td>\n    </tr>\n    <tr>\n      <th>1304</th>\n      <td>False</td>\n      <td>False</td>\n      <td>True</td>\n      <td>False</td>\n      <td>False</td>\n      <td>True</td>\n      <td>False</td>\n      <td>False</td>\n      <td>True</td>\n      <td>False</td>\n      <td>...</td>\n      <td>0.0</td>\n      <td>8.0</td>\n      <td>3.0</td>\n      <td>0.30</td>\n      <td>605.0</td>\n      <td>1.0</td>\n      <td>0.449863</td>\n      <td>1.0</td>\n      <td>1.0</td>\n      <td>1.0</td>\n    </tr>\n    <tr>\n      <th>1305</th>\n      <td>True</td>\n      <td>False</td>\n      <td>False</td>\n      <td>True</td>\n      <td>False</td>\n      <td>False</td>\n      <td>False</td>\n      <td>False</td>\n      <td>True</td>\n      <td>False</td>\n      <td>...</td>\n      <td>0.0</td>\n      <td>36.3</td>\n      <td>5.0</td>\n      <td>0.59</td>\n      <td>240.0</td>\n      <td>1.0</td>\n      <td>0.449863</td>\n      <td>4.0</td>\n      <td>1.0</td>\n      <td>1.0</td>\n    </tr>\n    <tr>\n      <th>1306</th>\n      <td>False</td>\n      <td>False</td>\n      <td>True</td>\n      <td>False</td>\n      <td>False</td>\n      <td>True</td>\n      <td>False</td>\n      <td>False</td>\n      <td>True</td>\n      <td>False</td>\n      <td>...</td>\n      <td>0.0</td>\n      <td>7.2</td>\n      <td>1.0</td>\n      <td>0.30</td>\n      <td>1309.0</td>\n      <td>1.0</td>\n      <td>0.449863</td>\n      <td>4.0</td>\n      <td>1.0</td>\n      <td>1.0</td>\n    </tr>\n    <tr>\n      <th>1307</th>\n      <td>False</td>\n      <td>False</td>\n      <td>True</td>\n      <td>False</td>\n      <td>False</td>\n      <td>True</td>\n      <td>False</td>\n      <td>False</td>\n      <td>True</td>\n      <td>False</td>\n      <td>...</td>\n      <td>0.0</td>\n      <td>8.0</td>\n      <td>3.0</td>\n      <td>0.30</td>\n      <td>605.0</td>\n      <td>1.0</td>\n      <td>0.449863</td>\n      <td>1.0</td>\n      <td>1.0</td>\n      <td>1.0</td>\n    </tr>\n    <tr>\n      <th>1308</th>\n      <td>False</td>\n      <td>False</td>\n      <td>True</td>\n      <td>True</td>\n      <td>False</td>\n      <td>False</td>\n      <td>True</td>\n      <td>False</td>\n      <td>False</td>\n      <td>False</td>\n      <td>...</td>\n      <td>1.0</td>\n      <td>7.5</td>\n      <td>2.0</td>\n      <td>0.62</td>\n      <td>772.0</td>\n      <td>3.0</td>\n      <td>1.000000</td>\n      <td>1.0</td>\n      <td>3.0</td>\n      <td>4.0</td>\n    </tr>\n  </tbody>\n</table>\n<p>1309 rows × 24 columns</p>\n</div>"
     },
     "execution_count": 1313,
     "metadata": {},
     "output_type": "execute_result"
    }
   ],
   "source": [
    "df"
   ],
   "metadata": {
    "collapsed": false,
    "ExecuteTime": {
     "end_time": "2024-03-31T22:20:57.007717Z",
     "start_time": "2024-03-31T22:20:56.989202Z"
    }
   },
   "id": "8792c15d89a4291a",
   "execution_count": 1313
  },
  {
   "cell_type": "code",
   "outputs": [],
   "source": [],
   "metadata": {
    "collapsed": false,
    "ExecuteTime": {
     "end_time": "2024-03-31T22:20:57.010440Z",
     "start_time": "2024-03-31T22:20:57.008859Z"
    }
   },
   "id": "f5fcc493593058b",
   "execution_count": 1313
  },
  {
   "cell_type": "code",
   "outputs": [],
   "source": [
    "df.Price = df.Price.apply(np.log1p)\n",
    "\n",
    "# Standardize \n",
    "std_scaler = StandardScaler()\n",
    "\n",
    "df_scaled = std_scaler.fit_transform(df)\n",
    "df = pd.DataFrame(df_scaled, columns=df.columns)"
   ],
   "metadata": {
    "collapsed": false,
    "ExecuteTime": {
     "end_time": "2024-03-31T22:20:57.017969Z",
     "start_time": "2024-03-31T22:20:57.010440Z"
    }
   },
   "id": "47c1468acc0a3ac1",
   "execution_count": 1314
  },
  {
   "cell_type": "code",
   "outputs": [],
   "source": [
    "df.drop([\"Family_survivers\"], axis=1, inplace = True)"
   ],
   "metadata": {
    "collapsed": false,
    "ExecuteTime": {
     "end_time": "2024-03-31T22:20:57.022735Z",
     "start_time": "2024-03-31T22:20:57.018984Z"
    }
   },
   "id": "85b6a225ebd5e03e",
   "execution_count": 1315
  },
  {
   "cell_type": "code",
   "outputs": [],
   "source": [
    "X = df.iloc[:X_max_index]\n",
    "test_df = df.iloc[X_max_index:]\n",
    "\n",
    "\n",
    "X_train, X_test, y_train, y_test = train_test_split(X, train_df[\"Survived\"], test_size=0.2)"
   ],
   "metadata": {
    "collapsed": false,
    "ExecuteTime": {
     "end_time": "2024-03-31T22:20:57.031176Z",
     "start_time": "2024-03-31T22:20:57.023740Z"
    }
   },
   "id": "b0e9c76ce7247343",
   "execution_count": 1316
  },
  {
   "cell_type": "code",
   "outputs": [
    {
     "data": {
      "text/plain": "\"\\ncat_model = CatBoostClassifier()\\n\\n# # Define parameters' grid\\ngrid = {'verbose': [False],\\n         'thread_count': [-1],\\n         'depth': [3, 4, 5, 6],\\n         'iterations': [500, 1000, 2000, 3000],\\n         'learning_rate': [0.0001, 0.001, 0.01]\\n        }\\n\\n# # Define GridSearchCV\\ngrid_cat = GridSearchCV(estimator=cat_model, param_grid=grid, cv=3, n_jobs=-1)\\ngrid_cat.fit(X,y)\\ncatboost_params = grid_cat.best_params_\\n\\nprint('\\n Best Score:\\n', grid_cat.best_score_)\\nprint('\\n Best parameters:\\n', catboost_params)\\n\""
     },
     "execution_count": 1317,
     "metadata": {},
     "output_type": "execute_result"
    }
   ],
   "source": [
    "# # Define model\n",
    "'''\n",
    "cat_model = CatBoostClassifier()\n",
    "\n",
    "# # Define parameters' grid\n",
    "grid = {'verbose': [False],\n",
    "         'thread_count': [-1],\n",
    "         'depth': [3, 4, 5, 6],\n",
    "         'iterations': [500, 1000, 2000, 3000],\n",
    "         'learning_rate': [0.0001, 0.001, 0.01]\n",
    "        }\n",
    "\n",
    "# # Define GridSearchCV\n",
    "grid_cat = GridSearchCV(estimator=cat_model, param_grid=grid, cv=3, n_jobs=-1)\n",
    "grid_cat.fit(X,y)\n",
    "catboost_params = grid_cat.best_params_\n",
    "\n",
    "print('\\n Best Score:\\n', grid_cat.best_score_)\n",
    "print('\\n Best parameters:\\n', catboost_params)\n",
    "'''"
   ],
   "metadata": {
    "collapsed": false,
    "ExecuteTime": {
     "end_time": "2024-03-31T22:20:57.038289Z",
     "start_time": "2024-03-31T22:20:57.032181Z"
    }
   },
   "id": "a50bb52135e3b492",
   "execution_count": 1317
  },
  {
   "cell_type": "code",
   "outputs": [
    {
     "name": "stdout",
     "output_type": "stream",
     "text": [
      "Best Testing Accuracy: 0.8309859154929577\n"
     ]
    }
   ],
   "source": [
    "\n",
    "\n",
    "catboost_params = {\n",
    "    'verbose': False,\n",
    "    'thread_count': -1,\n",
    "    'depth': 4, \n",
    "    'iterations': 1000, \n",
    "    'learning_rate': 0.0005,\n",
    "}\n",
    "\n",
    "\n",
    "# Perform cross-validation with CatBoost\n",
    "num_folds = 5\n",
    "kf = StratifiedKFold(n_splits=num_folds, shuffle=True, random_state=random_id)\n",
    "\n",
    "best_test_accuracy = 0\n",
    "best_test_predictions = []\n",
    "\n",
    "for train_index, test_index in kf.split(X_train, y_train):\n",
    "    X_train_fold, X_valid_fold = X_train.iloc[train_index], X_train.iloc[test_index]\n",
    "    y_train_fold, y_valid_fold = y_train.iloc[train_index], y_train.iloc[test_index]\n",
    "\n",
    "    # Create CatBoost datasets\n",
    "    train_data_fold = catboost.Pool(X_train_fold, label=y_train_fold)\n",
    "    valid_data_fold = catboost.Pool(X_valid_fold, label=y_valid_fold)\n",
    "\n",
    "    # Train the CatBoost model\n",
    "    catboost_model = CatBoostClassifier(**catboost_params)\n",
    "    catboost_model.fit(train_data_fold, eval_set=valid_data_fold, early_stopping_rounds=10)\n",
    "\n",
    "    # Make predictions on the validation set\n",
    "    valid_predictions_fold = catboost_model.predict(X_valid_fold)\n",
    "\n",
    "    # Calculate accuracy on the validation set\n",
    "    valid_accuracy_fold = accuracy_score(valid_predictions_fold, y_valid_fold)\n",
    "\n",
    "    # If the current model has a higher accuracy on the validation set, update the best model\n",
    "    if valid_accuracy_fold > best_test_accuracy:\n",
    "        best_test_accuracy = valid_accuracy_fold\n",
    "        best_test_predictions = catboost_model.predict(X_test)\n",
    "\n",
    "# Print best testing accuracy\n",
    "print(f'Best Testing Accuracy: {best_test_accuracy}')"
   ],
   "metadata": {
    "collapsed": false,
    "ExecuteTime": {
     "end_time": "2024-03-31T22:21:05.221751Z",
     "start_time": "2024-03-31T22:20:57.038289Z"
    }
   },
   "id": "69ba1ae6ed2374fa",
   "execution_count": 1318
  },
  {
   "cell_type": "code",
   "outputs": [],
   "source": [],
   "metadata": {
    "collapsed": false,
    "ExecuteTime": {
     "end_time": "2024-03-31T22:21:05.224287Z",
     "start_time": "2024-03-31T22:21:05.221751Z"
    }
   },
   "id": "54a47ae409d86ff0",
   "execution_count": 1318
  },
  {
   "cell_type": "code",
   "outputs": [],
   "source": [
    "predictions = catboost_model.predict(test_df)\n",
    "output = pd.DataFrame({'PassengerId': test_pass_id,\n",
    "                       'Survived': predictions})\n",
    "output.set_index(\"PassengerId\", inplace=True)"
   ],
   "metadata": {
    "collapsed": false,
    "ExecuteTime": {
     "end_time": "2024-03-31T22:21:05.229525Z",
     "start_time": "2024-03-31T22:21:05.224287Z"
    }
   },
   "id": "15262b29539ae405",
   "execution_count": 1319
  },
  {
   "cell_type": "code",
   "outputs": [],
   "source": [
    "actual_data = pd.read_csv(\"test_results.csv\",index_col=\"PassengerId\")\n",
    "actual_data[\"survived\"] = actual_data[\"survived\"].astype(int)"
   ],
   "metadata": {
    "collapsed": false,
    "ExecuteTime": {
     "end_time": "2024-03-31T22:21:05.236751Z",
     "start_time": "2024-03-31T22:21:05.229525Z"
    }
   },
   "id": "a8927599206d1775",
   "execution_count": 1320
  },
  {
   "cell_type": "code",
   "outputs": [
    {
     "data": {
      "text/plain": "             survived  Survived\nPassengerId                    \n892                 0         0\n892                 0         0\n893                 1         1\n894                 0         0\n895                 0         0\n...               ...       ...\n1305                0         0\n1306                1         0\n1307                0         0\n1308                0         0\n1309                1         0\n\n[398 rows x 2 columns]",
      "text/html": "<div>\n<style scoped>\n    .dataframe tbody tr th:only-of-type {\n        vertical-align: middle;\n    }\n\n    .dataframe tbody tr th {\n        vertical-align: top;\n    }\n\n    .dataframe thead th {\n        text-align: right;\n    }\n</style>\n<table border=\"1\" class=\"dataframe\">\n  <thead>\n    <tr style=\"text-align: right;\">\n      <th></th>\n      <th>survived</th>\n      <th>Survived</th>\n    </tr>\n    <tr>\n      <th>PassengerId</th>\n      <th></th>\n      <th></th>\n    </tr>\n  </thead>\n  <tbody>\n    <tr>\n      <th>892</th>\n      <td>0</td>\n      <td>0</td>\n    </tr>\n    <tr>\n      <th>892</th>\n      <td>0</td>\n      <td>0</td>\n    </tr>\n    <tr>\n      <th>893</th>\n      <td>1</td>\n      <td>1</td>\n    </tr>\n    <tr>\n      <th>894</th>\n      <td>0</td>\n      <td>0</td>\n    </tr>\n    <tr>\n      <th>895</th>\n      <td>0</td>\n      <td>0</td>\n    </tr>\n    <tr>\n      <th>...</th>\n      <td>...</td>\n      <td>...</td>\n    </tr>\n    <tr>\n      <th>1305</th>\n      <td>0</td>\n      <td>0</td>\n    </tr>\n    <tr>\n      <th>1306</th>\n      <td>1</td>\n      <td>0</td>\n    </tr>\n    <tr>\n      <th>1307</th>\n      <td>0</td>\n      <td>0</td>\n    </tr>\n    <tr>\n      <th>1308</th>\n      <td>0</td>\n      <td>0</td>\n    </tr>\n    <tr>\n      <th>1309</th>\n      <td>1</td>\n      <td>0</td>\n    </tr>\n  </tbody>\n</table>\n<p>398 rows × 2 columns</p>\n</div>"
     },
     "execution_count": 1321,
     "metadata": {},
     "output_type": "execute_result"
    }
   ],
   "source": [
    "merged_df = pd.merge(actual_data, output, on='PassengerId', how =\"left\")\n",
    "merged_df"
   ],
   "metadata": {
    "collapsed": false,
    "ExecuteTime": {
     "end_time": "2024-03-31T22:21:05.246441Z",
     "start_time": "2024-03-31T22:21:05.237693Z"
    }
   },
   "id": "16f04db7ea129981",
   "execution_count": 1321
  },
  {
   "cell_type": "code",
   "outputs": [
    {
     "name": "stdout",
     "output_type": "stream",
     "text": [
      "Accuracy Score: 0.8065326633165829\n"
     ]
    }
   ],
   "source": [
    "accuracy = accuracy_score(merged_df['survived'], merged_df['Survived'])\n",
    "\n",
    "print(f\"Accuracy Score: {accuracy}\")"
   ],
   "metadata": {
    "collapsed": false,
    "ExecuteTime": {
     "end_time": "2024-03-31T22:21:05.251213Z",
     "start_time": "2024-03-31T22:21:05.247957Z"
    }
   },
   "id": "aa4b64ef8cfda1cb",
   "execution_count": 1322
  },
  {
   "cell_type": "code",
   "outputs": [],
   "source": [
    "#output.to_csv(\"submission_v2.csv\")"
   ],
   "metadata": {
    "collapsed": false,
    "ExecuteTime": {
     "end_time": "2024-03-31T22:21:05.257571Z",
     "start_time": "2024-03-31T22:21:05.251213Z"
    }
   },
   "id": "e461c8ce04dab358",
   "execution_count": 1323
  },
  {
   "cell_type": "code",
   "outputs": [],
   "source": [],
   "metadata": {
    "collapsed": false,
    "ExecuteTime": {
     "end_time": "2024-03-31T22:21:05.261200Z",
     "start_time": "2024-03-31T22:21:05.259513Z"
    }
   },
   "id": "5eb3fe8c507202fe",
   "execution_count": 1323
  }
 ],
 "metadata": {
  "kernelspec": {
   "display_name": "Python 3",
   "language": "python",
   "name": "python3"
  },
  "language_info": {
   "codemirror_mode": {
    "name": "ipython",
    "version": 2
   },
   "file_extension": ".py",
   "mimetype": "text/x-python",
   "name": "python",
   "nbconvert_exporter": "python",
   "pygments_lexer": "ipython2",
   "version": "2.7.6"
  }
 },
 "nbformat": 4,
 "nbformat_minor": 5
}
